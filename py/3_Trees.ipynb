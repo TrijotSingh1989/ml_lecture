{
 "cells": [
  {
   "cell_type": "markdown",
   "metadata": {},
   "source": [
    "# TODO"
   ]
  },
  {
   "cell_type": "code",
   "execution_count": 25,
   "metadata": {},
   "outputs": [],
   "source": [
    "from plotnine.data import diamonds\n",
    "\n",
    "from sklearn.ensemble import RandomForestRegressor\n",
    "from sklearn.preprocessing import OrdinalEncoder\n",
    "from sklearn.compose import ColumnTransformer\n",
    "from sklearn.pipeline import make_pipeline\n",
    "from sklearn.inspection import PartialDependenceDisplay\n",
    "\n",
    "# Ordered categoricals to be integer encoded in correct order\n",
    "ord_vars = [\"color\", \"cut\", \"clarity\"]\n",
    "ord_levels = [\n",
    "    diamonds[x].cat.categories.to_list() for x in ord_vars\n",
    "]\n",
    "\n",
    "# Modeling\n",
    "model = make_pipeline(\n",
    "    ColumnTransformer(\n",
    "        transformers=[\n",
    "            (\"linear\", \"passthrough\", [\"carat\"]),\n",
    "            (\"ordered\", OrdinalEncoder(categories=ord_levels), ord_vars)\n",
    "        ],\n",
    "    ),\n",
    "    RandomForestRegressor(max_features=\"sqrt\", min_samples_leaf=5)\n",
    ")\n",
    "\n",
    "model.fit(diamonds, y=diamonds[\"price\"])\n",
    "\n",
    "PartialDependenceDisplay.from_estimator(\n",
    "    model,\n",
    "    diamonds, \n",
    "    n_jobs=8,\n",
    "    features=[\"carat\"] + ord_vars,\n",
    "    custom_values=dict(zip(ord_vars, ord_levels))\n",
    ")"
   ]
  },
  {
   "cell_type": "code",
   "execution_count": 39,
   "metadata": {},
   "outputs": [
    {
     "ename": "AttributeError",
     "evalue": "type object 'PartialDependenceDisplay' has no attribute 'from_predict_fun'",
     "output_type": "error",
     "traceback": [
      "\u001b[1;31m---------------------------------------------------------------------------\u001b[0m",
      "\u001b[1;31mAttributeError\u001b[0m                            Traceback (most recent call last)",
      "\u001b[1;32m~\\AppData\\Local\\Temp/ipykernel_12204/2263348999.py\u001b[0m in \u001b[0;36m<module>\u001b[1;34m\u001b[0m\n\u001b[0;32m      7\u001b[0m     \u001b[1;32mreturn\u001b[0m \u001b[0mnp\u001b[0m\u001b[1;33m.\u001b[0m\u001b[0mrepeat\u001b[0m\u001b[1;33m(\u001b[0m\u001b[1;36m3\u001b[0m\u001b[1;33m,\u001b[0m \u001b[0mX\u001b[0m\u001b[1;33m.\u001b[0m\u001b[0mshape\u001b[0m\u001b[1;33m[\u001b[0m\u001b[1;36m0\u001b[0m\u001b[1;33m]\u001b[0m\u001b[1;33m)\u001b[0m\u001b[1;33m\u001b[0m\u001b[1;33m\u001b[0m\u001b[0m\n\u001b[0;32m      8\u001b[0m \u001b[1;33m\u001b[0m\u001b[0m\n\u001b[1;32m----> 9\u001b[1;33m PartialDependenceDisplay.from_predict_fun(\n\u001b[0m\u001b[0;32m     10\u001b[0m     \u001b[0mpredict_fun\u001b[0m\u001b[1;33m,\u001b[0m\u001b[1;33m\u001b[0m\u001b[1;33m\u001b[0m\u001b[0m\n\u001b[0;32m     11\u001b[0m     \u001b[0mX\u001b[0m\u001b[1;33m\u001b[0m\u001b[1;33m\u001b[0m\u001b[0m\n",
      "\u001b[1;31mAttributeError\u001b[0m: type object 'PartialDependenceDisplay' has no attribute 'from_predict_fun'"
     ]
    }
   ],
   "source": [
    "import numpy as np\n",
    "from sklearn.inspection import PartialDependenceDisplay\n",
    "\n",
    "X = np.array([range(10)]).reshape(5, -1)\n",
    "\n",
    "def predict_fun(X):\n",
    "    return np.repeat(3, X.shape[0])\n",
    "\n",
    "PartialDependenceDisplay.from_predict_fun(\n",
    "    predict_fun,\n",
    "    X\n",
    ")\n"
   ]
  },
  {
   "cell_type": "code",
   "execution_count": 38,
   "metadata": {},
   "outputs": [
    {
     "data": {
      "text/plain": [
       "array([[0, 1],\n",
       "       [2, 3],\n",
       "       [4, 5],\n",
       "       [6, 7],\n",
       "       [8, 9]])"
      ]
     },
     "execution_count": 38,
     "metadata": {},
     "output_type": "execute_result"
    }
   ],
   "source": [
    "X = np.array([range(10)]).reshape(5, -1)\n",
    "X"
   ]
  },
  {
   "cell_type": "code",
   "execution_count": null,
   "metadata": {},
   "outputs": [],
   "source": []
  }
 ],
 "metadata": {
  "interpreter": {
   "hash": "813f6c4cc22c03b594219174db46929469d46b04ef4db7b355912617e499b8c1"
  },
  "kernelspec": {
   "display_name": "Python 3.8.11 64-bit ('ml_lecture': conda)",
   "name": "python3"
  },
  "language_info": {
   "codemirror_mode": {
    "name": "ipython",
    "version": 3
   },
   "file_extension": ".py",
   "mimetype": "text/x-python",
   "name": "python",
   "nbconvert_exporter": "python",
   "pygments_lexer": "ipython3",
   "version": "3.8.11"
  },
  "orig_nbformat": 4
 },
 "nbformat": 4,
 "nbformat_minor": 2
}
