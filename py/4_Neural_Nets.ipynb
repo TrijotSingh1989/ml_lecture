{
 "cells": [
  {
   "cell_type": "markdown",
   "metadata": {},
   "source": [
    "# Introduction\n",
    "\n",
    "In this chapter, we dive into artificial neural networks, one of the main drivers of artificial intelligence. \n",
    "\n",
    "Neural networks are around since many decades. (Maybe) the first such model was built by Marvin Minsky in 1951. He called his algorithm SNARC (\"stochastic neural-analog reinforcement calculator\"). Since then, neural networks have gone through several stages of development. One of the milestones was the idea of Paul J. Werbos in 1974 [1] to efficiently calculate gradients in the optimization algorithm by an approach called \"backpropagation\". Another milestone was the use of GPUs  (graphics processing units) to greatly reduce calculation time.\n",
    "\n",
    "Artificial neural nets are extremely versatile and powerful. They can be used to\n",
    "\n",
    "1. fit simple models like GLMs,\n",
    "2. learn interactions and non-linear effects in an automatic way (like tree-based methods),\n",
    "3. optimize general loss functions,\n",
    "4. fit data much larger than RAM (e.g. images),\n",
    "5. learn \"online\" (update the model with additional data),\n",
    "6. fit multiple response variables at the same time,\n",
    "7. model input of dimension higher than two (e.g. images, videos),\n",
    "8. model input of *different* input dimensions (e.g. text *and* images),\n",
    "9. fit data with sequential structure in both in- and output (e.g. a text translator),\n",
    "10. model data with spatial structure (images),\n",
    "11. fit models with many millions of parameters,\n",
    "12. do non-linear dimension reduction.\n",
    "\n",
    "In this chapter, we will mainly deal with the first three aspects. Since a lot of new terms are being used, a small glossary can be found in Section \"Neural Network Slang\".\n",
    "\n",
    "# Understanding Neural Nets\n",
    "\n",
    "To learn how and why neural networks work, we will go through three steps - each illustrated on the diamonds data:\n",
    "\n",
    "- Step 1: Linear regression as neural net\n",
    "- Step 2: Hidden layers\n",
    "- Step 3: Activation functions\n",
    "\n",
    "After this, we will be ready to build more complex models.\n",
    "\n",
    "## Step 1: Linear regression as neural net\n",
    "\n",
    "Let us revisit the simple linear regression\n",
    "$$\n",
    "  E(\\text{price}) = \\alpha + \\beta \\cdot \\text{carat}\n",
    "$$\n",
    "calculated on the full diamonds data. In Chapter 1 we have found the solution $\\hat\\alpha = -2256.36$ and $\\hat \\beta = 7756.43$ by ordinary least-squares.\n",
    "\n",
    "Above situation can be viewed as a neural network with\n",
    "\n",
    "- an input layer with two nodes (`carat` and the intercept called \"bias unit\" with value 1),\n",
    "- a \"fully connected\" (= \"dense\") output layer with one node (`price`). Fully connected means that each node of a layer is a linear function of all node values of the previous layer. Each linear function has parameters or *weights* to be estimated, in our simple case just $\\alpha$ and $\\beta$.\n",
    "\n",
    "Visualized as a graph, the situation looks as follows.\n",
    "\n",
    "![](../figs/nn_simple_linear.PNG)\n",
    "\n",
    "*Part of the figures were done with this cool [webtool](http://alexlenail.me/NN-SVG/index.html).*\n",
    "\n",
    "To gain confidence in neural nets, we first show that parameters estimated by a neural network are quite similar to the ones learned by linear least-squares. To do so, we will use Google's [TensorFlow](https://www.tensorflow.org/) with its convenient (functional) [Keras](https://keras.io/) interface. \n",
    "\n",
    "### Example: simple linear regression"
   ]
  },
  {
   "cell_type": "code",
   "execution_count": 50,
   "metadata": {},
   "outputs": [
    {
     "name": "stdout",
     "output_type": "stream",
     "text": [
      "Fitted coefficients with neural net: [array([[7724.376]], dtype=float32), array([-2218.6233], dtype=float32)]\n"
     ]
    }
   ],
   "source": [
    "import numpy as np\n",
    "from tensorflow import keras\n",
    "from tensorflow.keras import layers\n",
    "from tensorflow.keras.metrics import RootMeanSquaredError as RMSE\n",
    "\n",
    "from plotnine.data import diamonds\n",
    "\n",
    "# Input layer: we have 1 covariate\n",
    "inputs = keras.Input(shape=(1,))\n",
    "\n",
    "# Output layer densely connected to the input layer\n",
    "outputs = layers.Dense(1)(inputs)\n",
    "\n",
    "# Create model\n",
    "model = keras.Model(inputs=inputs, outputs=outputs)\n",
    "# model.summary()\n",
    "\n",
    "# Compile model\n",
    "model.compile(\n",
    "    loss=\"mse\",\n",
    "    optimizer=keras.optimizers.Adam(learning_rate=1),\n",
    "    metrics=[RMSE()],\n",
    ")\n",
    "\n",
    "# Fit model - naive without validation\n",
    "history = model.fit(\n",
    "  x=diamonds[\"carat\"],\n",
    "  y=diamonds[\"price\"],\n",
    "  epochs=30,\n",
    "  batch_size=100, \n",
    "  verbose=0\n",
    ")\n",
    "\n",
    "# Fitted coefficients\n",
    "print(\"Fitted coefficients with neural net:\", model.get_weights())"
   ]
  },
  {
   "cell_type": "code",
   "execution_count": 51,
   "metadata": {},
   "outputs": [
    {
     "name": "stdout",
     "output_type": "stream",
     "text": [
      "\n",
      "Fitted with OLS:\n",
      "Intercept   -2256.360580\n",
      "carat        7756.425618\n",
      "dtype: float64\n"
     ]
    }
   ],
   "source": [
    "# Compare with linear regression fitted with OLS\n",
    "import statsmodels.formula.api as smf\n",
    "\n",
    "ols = smf.ols(formula=\"price ~ carat\", data=diamonds)\n",
    "res = ols.fit()\n",
    "print(\"\\nFitted with OLS:\", res.params, sep=\"\\n\")"
   ]
  },
  {
   "cell_type": "code",
   "execution_count": 52,
   "metadata": {},
   "outputs": [
    {
     "data": {
      "image/png": "[encoded data removed]",
      "text/plain": [
       "<Figure size 432x288 with 1 Axes>"
      ]
     },
     "metadata": {
      "needs_background": "light"
     },
     "output_type": "display_data"
    }
   ],
   "source": [
    "# Training RMSE over epochs\n",
    "import matplotlib.pyplot as plt\n",
    "plt.plot(history.history[\"root_mean_squared_error\"])\n",
    "plt.title(\"Training RMSE over epochs\")\n",
    "plt.ylabel(\"RMSE\")\n",
    "plt.xlabel(\"Epoch\");"
   ]
  },
  {
   "cell_type": "code",
   "execution_count": 53,
   "metadata": {},
   "outputs": [
    {
     "data": {
      "image/png": "[encoded data removed]",
      "text/plain": [
       "<Figure size 432x288 with 1 Axes>"
      ]
     },
     "metadata": {
      "needs_background": "light"
     },
     "output_type": "display_data"
    }
   ],
   "source": [
    "# Effect of carat on average price\n",
    "carat = np.linspace(0, 3, 30)\n",
    "plt.plot(carat, model(carat), marker=\"o\")\n",
    "plt.title(\"Effect of carat on average price\")\n",
    "plt.ylabel(\"price\")\n",
    "plt.xlabel(\"carat\")\n",
    "plt.grid()"
   ]
  },
  {
   "cell_type": "markdown",
   "metadata": {},
   "source": [
    "**Comment:** The solution of the simple neural network is indeed quite similar to the OLS solution. \n",
    "\n",
    "### The optimization algorithm\n",
    "\n",
    "Neural nets are typically fitted by **mini-batch gradient descent**, using **backpropagation** to efficiently calculate gradients. It works as follows:\n",
    "\n",
    "1. Initiate the parameters with random values. \n",
    "2. Forward step: Use the parameters to predict all observations of a *batch*. A batch is a randomly selected subset of the full data set.\n",
    "3. Backpropagation step: Change the parameters in the right direction, making the loss of the current batch smaller. This involves calculating derivatives (\"gradients\") of the loss function (e.g. MSE) with respect to all parameters. Backpropagation does so in a layer-per-layer fashion, making heavy use of the chain rule. \n",
    "4. Repeat Steps 2-3 until each observation appeared in a batch. This is called an *epoch*.\n",
    "5. Repeat Step 4 for multiple epochs until the parameter estimates stabilize or validation performance stops improving.\n",
    "\n",
    "Gradient descent on batches of size 1 is called \"stochastic gradient descent\" (SGD).\n",
    "\n",
    "## Step 2: Hidden layers\n",
    "\n",
    "Our first neural network above consisted of only an input layer and an output layer. By adding one or more *hidden* layers between in- and output, the network gains additional parameters, and thus more flexibility. The nodes of a hidden layer can be viewed as latent variables, representing the original covariates. The nodes of a hidden layer are sometimes called *encoding*. The closer a layer is to the output, the better its nodes are suitable to predict the response variable. In this way, a neural network finds the right transformations and interactions of its covariates in an automatic way. The only ingredients are a large data set and a flexible enough network \"architecture\" (number of layers, nodes per layer). \n",
    "\n",
    "Neural nets with more than one hidden layer are called \"deep neural nets\".\n",
    "\n",
    "We will now add a hidden layer with five nodes $v_1, \\dots, v_5$ to our simple linear regression network. The architecture looks as follows:\n",
    "\n",
    "![](../figs/nn_1_hidden.PNG)\n",
    "\n",
    "This network has 16 parameters. How much better than our simple network with just two parameters will it be?\n",
    "\n",
    "### Example: hidden layer\n",
    "\n",
    "The following code is almost identical to the last one up, except that there is a hidden layer between input and output layer."
   ]
  },
  {
   "cell_type": "code",
   "execution_count": 62,
   "metadata": {},
   "outputs": [
    {
     "data": {
      "text/plain": [
       "<tensorflow.python.keras.callbacks.History at 0x1a62ba572b0>"
      ]
     },
     "execution_count": 62,
     "metadata": {},
     "output_type": "execute_result"
    }
   ],
   "source": [
    "import numpy as np\n",
    "from tensorflow import keras\n",
    "from tensorflow.keras import layers\n",
    "from tensorflow.keras.metrics import RootMeanSquaredError as RMSE\n",
    "\n",
    "from plotnine.data import diamonds\n",
    "\n",
    "# Input layer: we have 1 covariate\n",
    "inputs = keras.Input(shape=(1,))\n",
    "\n",
    "# One hidden layer with 5 nodes\n",
    "hidden = layers.Dense(5)(inputs)  # new line of code!\n",
    "\n",
    "# Output layer now connected to the hidden layer\n",
    "outputs = layers.Dense(1)(hidden) # modified\n",
    "\n",
    "# Create model\n",
    "model = keras.Model(inputs=inputs, outputs=outputs)\n",
    "# model.summary()\n",
    "\n",
    "# Compile model\n",
    "model.compile(\n",
    "    loss=\"mse\",\n",
    "    optimizer=keras.optimizers.Adam(learning_rate=1),\n",
    "    metrics=[RMSE()],\n",
    ")\n",
    "\n",
    "# Fit model - naive without validation\n",
    "model.fit(\n",
    "  x=diamonds[\"carat\"],\n",
    "  y=diamonds[\"price\"],\n",
    "  epochs=30,\n",
    "  batch_size=100, \n",
    "  verbose=0\n",
    ")"
   ]
  },
  {
   "cell_type": "code",
   "execution_count": 63,
   "metadata": {},
   "outputs": [
    {
     "data": {
      "image/png": "[encoded data removed]",
      "text/plain": [
       "<Figure size 432x288 with 1 Axes>"
      ]
     },
     "metadata": {
      "needs_background": "light"
     },
     "output_type": "display_data"
    }
   ],
   "source": [
    "# Plot effect\n",
    "import matplotlib.pyplot as plt\n",
    "\n",
    "carat = np.linspace(0, 3, 30)\n",
    "plt.plot(carat, model(carat), marker=\"o\")\n",
    "plt.title(\"Effect of carat on average price\")\n",
    "plt.ylabel(\"price\")\n",
    "plt.xlabel(\"carat\")\n",
    "plt.grid()"
   ]
  },
  {
   "cell_type": "markdown",
   "metadata": {},
   "source": [
    "**Comment:** Oops, it seems as if the extra hidden layer had no effect. The reason is that a linear function of a linear function is still a linear function. Adding the hidden layer did not really change the capabilities of the model. It just added a lot of unnecessary parameters.\n",
    "\n",
    "## Step 3: Activation functions\n",
    "\n",
    "The missing magic component is the so called [*activation* function](https://en.wikipedia.org/wiki/Activation_function) $\\sigma$ after each layer, which transforms the values of the nodes. So far, we have implicitly used \"linear activations\", which - in neural network slang - is just the identity function. \n",
    "\n",
    "Applying *non-linear* activation functions after hidden layers have the purpose to introduce non-linear and interaction effects. Typical such functions are\n",
    "\n",
    "- the hyperbolic tangent (\"S\"-shaped function that maps real values to $[-1, 1]$),\n",
    "- the sigmoidal function (\"S\"-shaped function that maps real values to $[0, 1]$),\n",
    "- the **re**ctangular **l**inear **u**nit \"ReLU\" $f(x) = \\text{max}(0, x)$ that sets negative values to 0.\n",
    "\n",
    "Activation functions applied to the *output* layer have a different purpose, namely the same as the inverse of the link function of a corresponding GLM. It maps predictions to the scale of the response: \n",
    "\n",
    "- linear regression -> linear activation\n",
    "- binary logistic regression -> sigmoid activation (to predict probability of \"1\")\n",
    "- multinomial logistic regression -> softmax activation (to predict one probability per class)\n",
    "- log-linear regression -> exponential activation\n",
    "\n",
    "Let us add a hyperbolic tangent activation function ($\\sigma$) after the hidden layer of our simple example.\n",
    "\n",
    "![](../figs/nn_activation.PNG)\n",
    "\n",
    "### Example: activation functions\n",
    "\n",
    "Again, the code is very similar to the last one, with the exception of using a hyperbolic tangent activation after the hidden layer (and different learning rate and number of epochs)."
   ]
  },
  {
   "cell_type": "code",
   "execution_count": 64,
   "metadata": {},
   "outputs": [
    {
     "data": {
      "text/plain": [
       "<tensorflow.python.keras.callbacks.History at 0x1a62bd62970>"
      ]
     },
     "execution_count": 64,
     "metadata": {},
     "output_type": "execute_result"
    }
   ],
   "source": [
    "import numpy as np\n",
    "from tensorflow import keras\n",
    "from tensorflow.keras import layers\n",
    "from tensorflow.keras.metrics import RootMeanSquaredError as RMSE\n",
    "\n",
    "from plotnine.data import diamonds\n",
    "\n",
    "# Input layer: we have 1 covariate\n",
    "inputs = keras.Input(shape=(1,))\n",
    "\n",
    "# One hidden layer with 5 nodes\n",
    "hidden = layers.Dense(5, activation=\"tanh\")(inputs)\n",
    "\n",
    "# Output layer now connected to the hidden layer\n",
    "outputs = layers.Dense(1, activation=\"linear\")(hidden)\n",
    "\n",
    "# Create model\n",
    "model = keras.Model(inputs=inputs, outputs=outputs)\n",
    "# model.summary()\n",
    "\n",
    "# Compile model\n",
    "model.compile(\n",
    "    loss=\"mse\",\n",
    "    optimizer=keras.optimizers.Adam(learning_rate=0.2),\n",
    "    metrics=[RMSE()],\n",
    ")\n",
    "\n",
    "# Fit model - naive without validation\n",
    "model.fit(\n",
    "  x=diamonds[\"carat\"],\n",
    "  y=diamonds[\"price\"],\n",
    "  epochs=50,\n",
    "  batch_size=100, \n",
    "  verbose=0\n",
    ")"
   ]
  },
  {
   "cell_type": "code",
   "execution_count": 65,
   "metadata": {},
   "outputs": [
    {
     "data": {
      "image/png": "[encoded data removed]",
      "text/plain": [
       "<Figure size 432x288 with 1 Axes>"
      ]
     },
     "metadata": {
      "needs_background": "light"
     },
     "output_type": "display_data"
    }
   ],
   "source": [
    "# Plot effect\n",
    "import matplotlib.pyplot as plt\n",
    "\n",
    "carat = np.linspace(0, 3, 30)\n",
    "plt.plot(carat, model(carat), marker=\"o\")\n",
    "plt.title(\"Effect of carat on average price\")\n",
    "plt.ylabel(\"price\")\n",
    "plt.xlabel(\"carat\")\n",
    "plt.grid()"
   ]
  },
  {
   "cell_type": "markdown",
   "metadata": {},
   "source": [
    "**Comment:** Adding the non-linear activation after the hidden layer has changed the model. The effect of carat is now representing the association between carat and price by a non-linear function.\n",
    "\n",
    "# Practical Considerations\n",
    "\n",
    "## Validation and tuning of main parameters\n",
    "\n",
    "So far, we have naively fitted the neural networks without splitting the data for test and validation. Don't do this! Usually, one sets a small test dataset (e.g. 10% of rows) aside to assess the final model performance and use simple (or cross-)validation for model tuning.\n",
    "\n",
    "In order to choose the main tuning parameters, namely\n",
    "\n",
    "- network architecture,\n",
    "- activation functions,\n",
    "- learning rate, \n",
    "- batch size, and\n",
    "- number of epochs, \n",
    "\n",
    "one often uses simple validation because cross-validation takes too much time.\n",
    "\n",
    "## Missing values\n",
    "\n",
    "A neural net does not accept missing values in the input. They need to be filled, e.g., by a typcial value or a value below the minimum.\n",
    "\n",
    "## Input standardization\n",
    "\n",
    "Gradient descent starts by random initialization of parameters. This step is optimized for standardized input. Standardization has to be done manually by either\n",
    "\n",
    "- min/max scale the values of each input to the range -1 to 1,\n",
    "- standard scale the values of each input to mean 0 and standard deviation 1, or\n",
    "- use relative ranks.\n",
    "\n",
    "Note that the scaling transformation is calculated on the training data and then applied to the validation and test data. This usually requires a couple of lines of code.\n",
    "\n",
    "## Categorical input\n",
    "\n",
    "There are three ways to represent categorical input variables in a neural network. \n",
    "\n",
    "1. Binary and ordinal categoricals are best represented by integers and then treated as numeric.\n",
    "2. Unordered categoricals are either one-hot-encoded (i.e., each category is represented by a binary variable) or \n",
    "3. they are represented by a (categorical) embedding. To do so, the categories are integer encoded and then condensed by a special *embedding layer* to a few (usually 1 or 2) dense features. This requires a more complex network architecture but saves memory and preprocessing. This approach is heavily used when the input consists of words (which is a categorical variable with thousands of levels - one level per word).\n",
    "\n",
    "For Option 2, input standardization is not required, for Option 3 it *must* not be applied as the embedding layer expects integers.\n",
    "\n",
    "## Callbacks\n",
    "\n",
    "Sometimes, we want to take actions during training, such as\n",
    "\n",
    "- stop training when validation performance starts worsening,\n",
    "- reduce the learning rate when the optimization is stuck in a \"plateau\", or\n",
    "- save the network weights between epochs.\n",
    "\n",
    "Such monitoring tasks are called *callbacks*. We will see them in the example below.\n",
    "\n",
    "## Types of layers\n",
    "\n",
    "So far, we have encountered only dense (= fully connected) layers and activation layers. Here some further types:\n",
    "\n",
    "- Embedding layers to represent integer encoded categoricals.\n",
    "- Dropout layers to add regularization.\n",
    "- Convolutional and pooling layers for image data.\n",
    "- Recurrent layers (long-short-term memory LSTM, gated recurrent unit GRU) for sequence data.\n",
    "- Concatenation layers to combine different branches of the network (like in a directed graph).\n",
    "- Flatten layers to bring higher dimensional layers to dimension 1 (relevant, e.g., for embeddings, image and text data).\n",
    "\n",
    "## Optimizer\n",
    "\n",
    "Pure gradient descent is rarely applied without tweaks because it tends to be stuck in local minima, especially for complex networks with non-convex objective surfaces. Modern variants are \"adam\", \"nadam\" and \"RMSProp\". These optimizers work usually out-of-the-box, except for the learning rate, which has to be manually chosen.\n",
    "\n",
    "## Custom losses and evaluation metrics\n",
    "\n",
    "Frameworks like Keras/TensorFlow offer many predefined loss functions and evaluation metrics. Choosing them is a crucial step, just as with tree boosting.\n",
    "Using TensorFlow's backend functions, one can define own metrics and loss functions (see exercises).\n",
    "\n",
    "## Overfitting and regularization\n",
    "\n",
    "As with linear models, a model with too many parameters will overfit in an undesired way. With about 50 to 100 observations per parameter, overfitting is usually unproblematic. (For image and text data, different rules apply). Besides using less parameters, the main options to reduce overfitting are the following:\n",
    "\n",
    "- pull the parameters of a layer slightly towards zero by applying L1 and/or L2 penalties to the parameters,\n",
    "- add dropout layers. A dropout layer randomly sets some of the node values of the previous layer to 0, switching them off. This is an elegant way to fight overfitting and is related to bagging.\n",
    "\n",
    "## Choosing the architecture\n",
    "\n",
    "How many layers and number of nodes per layer to select? For tabular data, using 1-3 hidden layers is usually enough. If we start with $m$ input variables, the number of nodes in the first hidden layer is usually higher than $m$ and reduces for later layers. There should not be a \"representational bottleneck\", i.e., an early hidden layer with too few parameters. \n",
    "\n",
    "The number of parameters should not be too high compared to the number of rows, see \"Overfitting and regularization\" above. \n",
    "\n",
    "## Interpretation\n",
    "\n",
    "Variable importance of covariates in neural networks can be assessed by permutation importance (how much performance is lost when shuffling column X?) or SHAP importance. Covariate effects can be investigated, e.g., by partial dependence plots or SHAP dependence plots.\n",
    "\n",
    "# Example: diamonds\n",
    "\n",
    "We will now fit a neural net with two hidden layers (30 and 15 nodes) and a total of 631 parameters to model diamond prices. Learning rate and batch size were chosen by simple validation. The number of epochs is being chosen by an early stopping callback.\n",
    "\n",
    "![](../figs/nn_2_hidden.PNG)\n"
   ]
  },
  {
   "cell_type": "code",
   "execution_count": 12,
   "metadata": {},
   "outputs": [],
   "source": [
    "import numpy as np\n",
    "import tensorflow as tf\n",
    "from tensorflow import keras\n",
    "from tensorflow.keras import layers\n",
    "from tensorflow.keras.metrics import RootMeanSquaredError as RMSE\n",
    "\n",
    "from plotnine.data import diamonds"
   ]
  },
  {
   "cell_type": "code",
   "execution_count": 13,
   "metadata": {},
   "outputs": [
    {
     "data": {
      "text/plain": [
       "array([[ 0.98143089, -1.5256479 ,  0.57680845, -0.60749424],\n",
       "       [-0.80744346, -1.5256479 , -1.24422106,  1.01420318],\n",
       "       [-0.80744346,  0.82624444, -0.63721122, -0.0809691 ],\n",
       "       [ 0.98143089, -0.34970173, -0.03020138, -0.96553133],\n",
       "       [-2.5963178 , -0.93767482, -0.63721122,  0.42449503]])"
      ]
     },
     "execution_count": 13,
     "metadata": {},
     "output_type": "execute_result"
    }
   ],
   "source": [
    "from sklearn.preprocessing import OrdinalEncoder, StandardScaler\n",
    "from sklearn.compose import ColumnTransformer\n",
    "from sklearn.pipeline import make_pipeline\n",
    "from sklearn.model_selection import train_test_split\n",
    "\n",
    "# Ordinal encoder for cut, color, and clarity\n",
    "ord_features = [\"cut\", \"color\", \"clarity\"]\n",
    "ord_levels = [\n",
    "    diamonds[x].cat.categories.to_list() for x in ord_features\n",
    "]\n",
    "ord_encoder = OrdinalEncoder(categories=ord_levels)\n",
    "\n",
    "# Data preprocessing pipeline\n",
    "preprocessor = make_pipeline(\n",
    "    ColumnTransformer(\n",
    "        transformers=[\n",
    "            (\"ordinal\", ord_encoder, ord_features),\n",
    "            (\"numeric\", \"passthrough\", [\"carat\"])\n",
    "        ],\n",
    "        remainder=\"drop\"\n",
    "    ),\n",
    "    StandardScaler()\n",
    ")\n",
    "\n",
    "# Train/valid split\n",
    "df_train, df_valid, y_train, y_valid = train_test_split(\n",
    "    diamonds, \n",
    "    diamonds[\"price\"], \n",
    "    test_size=0.2, \n",
    "    random_state=341\n",
    ")\n",
    "\n",
    "X_train = preprocessor.fit_transform(df_train)\n",
    "X_valid = preprocessor.transform(df_valid)\n",
    "X_valid[0:5,]"
   ]
  },
  {
   "cell_type": "code",
   "execution_count": 15,
   "metadata": {},
   "outputs": [
    {
     "name": "stdout",
     "output_type": "stream",
     "text": [
      "Epoch 1/1000\n",
      "108/108 [==============================] - 0s 5ms/step - loss: 3944328.0000 - root_mean_squared_error: 1986.0333 - val_loss: 926761.1875 - val_root_mean_squared_error: 962.6844\n",
      "Epoch 2/1000\n",
      "108/108 [==============================] - 0s 3ms/step - loss: 942083.8750 - root_mean_squared_error: 970.6100 - val_loss: 722225.6250 - val_root_mean_squared_error: 849.8386\n",
      "Epoch 3/1000\n",
      "108/108 [==============================] - 0s 3ms/step - loss: 763860.8750 - root_mean_squared_error: 873.9913 - val_loss: 575766.2500 - val_root_mean_squared_error: 758.7926\n",
      "Epoch 4/1000\n",
      "108/108 [==============================] - 0s 3ms/step - loss: 645344.4375 - root_mean_squared_error: 803.3333 - val_loss: 801179.7500 - val_root_mean_squared_error: 895.0864\n",
      "Epoch 5/1000\n",
      "108/108 [==============================] - 0s 3ms/step - loss: 642399.6875 - root_mean_squared_error: 801.4984 - val_loss: 551885.1875 - val_root_mean_squared_error: 742.8898\n",
      "Epoch 6/1000\n",
      "108/108 [==============================] - 1s 5ms/step - loss: 555646.5000 - root_mean_squared_error: 745.4170 - val_loss: 523562.9062 - val_root_mean_squared_error: 723.5765\n",
      "Epoch 7/1000\n",
      "108/108 [==============================] - 1s 5ms/step - loss: 510526.5625 - root_mean_squared_error: 714.5114 - val_loss: 483669.8438 - val_root_mean_squared_error: 695.4637\n",
      "Epoch 8/1000\n",
      "108/108 [==============================] - 1s 6ms/step - loss: 480936.9688 - root_mean_squared_error: 693.4962 - val_loss: 438021.7500 - val_root_mean_squared_error: 661.8321\n",
      "Epoch 9/1000\n",
      "108/108 [==============================] - 1s 5ms/step - loss: 472363.9062 - root_mean_squared_error: 687.2874 - val_loss: 491351.9375 - val_root_mean_squared_error: 700.9650\n",
      "Epoch 10/1000\n",
      "108/108 [==============================] - 1s 6ms/step - loss: 464053.4375 - root_mean_squared_error: 681.2147 - val_loss: 473543.3438 - val_root_mean_squared_error: 688.1449\n",
      "Epoch 11/1000\n",
      "108/108 [==============================] - 1s 6ms/step - loss: 451576.6562 - root_mean_squared_error: 671.9945 - val_loss: 465392.0625 - val_root_mean_squared_error: 682.1965\n",
      "Epoch 12/1000\n",
      "108/108 [==============================] - 1s 5ms/step - loss: 440369.0625 - root_mean_squared_error: 663.6031 - val_loss: 462576.3750 - val_root_mean_squared_error: 680.1297\n",
      "Epoch 13/1000\n",
      "108/108 [==============================] - 0s 4ms/step - loss: 433308.0000 - root_mean_squared_error: 658.2614 - val_loss: 466226.0625 - val_root_mean_squared_error: 682.8075\n",
      "Epoch 14/1000\n",
      "108/108 [==============================] - 0s 2ms/step - loss: 397331.9688 - root_mean_squared_error: 630.3427 - val_loss: 395631.3438 - val_root_mean_squared_error: 628.9923\n",
      "Epoch 15/1000\n",
      "108/108 [==============================] - 0s 2ms/step - loss: 390010.4375 - root_mean_squared_error: 624.5082 - val_loss: 401987.2500 - val_root_mean_squared_error: 634.0247\n",
      "Epoch 16/1000\n",
      "108/108 [==============================] - 0s 4ms/step - loss: 391665.3438 - root_mean_squared_error: 625.8317 - val_loss: 406048.3125 - val_root_mean_squared_error: 637.2192\n",
      "Epoch 17/1000\n",
      "108/108 [==============================] - 1s 6ms/step - loss: 388721.3438 - root_mean_squared_error: 623.4752 - val_loss: 394872.8438 - val_root_mean_squared_error: 628.3891\n",
      "Epoch 18/1000\n",
      "108/108 [==============================] - 1s 6ms/step - loss: 389313.3438 - root_mean_squared_error: 623.9498 - val_loss: 393073.7812 - val_root_mean_squared_error: 626.9560\n",
      "Epoch 19/1000\n",
      "108/108 [==============================] - 1s 6ms/step - loss: 388179.6562 - root_mean_squared_error: 623.0406 - val_loss: 398362.8125 - val_root_mean_squared_error: 631.1599\n",
      "Epoch 20/1000\n",
      "108/108 [==============================] - 1s 6ms/step - loss: 387586.3750 - root_mean_squared_error: 622.5643 - val_loss: 405619.2812 - val_root_mean_squared_error: 636.8824\n",
      "Epoch 21/1000\n",
      "108/108 [==============================] - 1s 5ms/step - loss: 387633.7500 - root_mean_squared_error: 622.6024 - val_loss: 393818.9688 - val_root_mean_squared_error: 627.5500\n",
      "Epoch 22/1000\n",
      "108/108 [==============================] - 1s 6ms/step - loss: 389799.4688 - root_mean_squared_error: 624.3392 - val_loss: 404365.9688 - val_root_mean_squared_error: 635.8978\n",
      "Epoch 23/1000\n",
      "108/108 [==============================] - 1s 6ms/step - loss: 386285.5000 - root_mean_squared_error: 621.5187 - val_loss: 389064.3125 - val_root_mean_squared_error: 623.7502\n",
      "Epoch 24/1000\n",
      "108/108 [==============================] - 1s 5ms/step - loss: 384117.3750 - root_mean_squared_error: 619.7720 - val_loss: 391578.3750 - val_root_mean_squared_error: 625.7622\n",
      "Epoch 25/1000\n",
      "108/108 [==============================] - 0s 4ms/step - loss: 383750.0312 - root_mean_squared_error: 619.4756 - val_loss: 398202.7812 - val_root_mean_squared_error: 631.0331\n",
      "Epoch 26/1000\n",
      "108/108 [==============================] - 0s 2ms/step - loss: 384950.4375 - root_mean_squared_error: 620.4437 - val_loss: 396463.5938 - val_root_mean_squared_error: 629.6536\n",
      "Epoch 27/1000\n",
      "108/108 [==============================] - 1s 6ms/step - loss: 386033.4062 - root_mean_squared_error: 621.3159 - val_loss: 392572.7500 - val_root_mean_squared_error: 626.5563\n",
      "Epoch 28/1000\n",
      "108/108 [==============================] - 1s 6ms/step - loss: 385348.8750 - root_mean_squared_error: 620.7648 - val_loss: 394018.5000 - val_root_mean_squared_error: 627.7089\n",
      "Epoch 29/1000\n",
      "108/108 [==============================] - 1s 6ms/step - loss: 379900.0312 - root_mean_squared_error: 616.3603 - val_loss: 387997.3438 - val_root_mean_squared_error: 622.8943\n",
      "Epoch 30/1000\n",
      "108/108 [==============================] - 1s 5ms/step - loss: 378944.5312 - root_mean_squared_error: 615.5847 - val_loss: 387590.2812 - val_root_mean_squared_error: 622.5675\n",
      "Epoch 31/1000\n",
      "108/108 [==============================] - 1s 6ms/step - loss: 378928.2500 - root_mean_squared_error: 615.5715 - val_loss: 388077.3438 - val_root_mean_squared_error: 622.9586\n",
      "Epoch 32/1000\n",
      "108/108 [==============================] - 1s 6ms/step - loss: 378860.1562 - root_mean_squared_error: 615.5162 - val_loss: 388544.0000 - val_root_mean_squared_error: 623.3329\n",
      "Epoch 33/1000\n",
      "108/108 [==============================] - 1s 6ms/step - loss: 378961.3125 - root_mean_squared_error: 615.5983 - val_loss: 387429.5938 - val_root_mean_squared_error: 622.4384\n",
      "Epoch 34/1000\n",
      "108/108 [==============================] - 0s 3ms/step - loss: 378452.4375 - root_mean_squared_error: 615.1849 - val_loss: 388588.0312 - val_root_mean_squared_error: 623.3683\n",
      "Epoch 35/1000\n",
      "108/108 [==============================] - 0s 4ms/step - loss: 378973.5000 - root_mean_squared_error: 615.6082 - val_loss: 387635.7188 - val_root_mean_squared_error: 622.6040\n",
      "Epoch 36/1000\n",
      "108/108 [==============================] - 1s 6ms/step - loss: 378883.5000 - root_mean_squared_error: 615.5352 - val_loss: 387760.7500 - val_root_mean_squared_error: 622.7044\n",
      "Epoch 37/1000\n",
      "108/108 [==============================] - 0s 2ms/step - loss: 378938.9688 - root_mean_squared_error: 615.5802 - val_loss: 387845.7812 - val_root_mean_squared_error: 622.7726\n",
      "Epoch 38/1000\n",
      "108/108 [==============================] - 1s 6ms/step - loss: 378569.4375 - root_mean_squared_error: 615.2800 - val_loss: 388933.3438 - val_root_mean_squared_error: 623.6452\n",
      "Epoch 39/1000\n",
      "108/108 [==============================] - 1s 6ms/step - loss: 378363.6250 - root_mean_squared_error: 615.1127 - val_loss: 387717.9375 - val_root_mean_squared_error: 622.6700\n",
      "Epoch 40/1000\n",
      "108/108 [==============================] - 1s 6ms/step - loss: 377967.7500 - root_mean_squared_error: 614.7908 - val_loss: 387744.0312 - val_root_mean_squared_error: 622.6910\n",
      "Epoch 41/1000\n",
      "108/108 [==============================] - 1s 6ms/step - loss: 377957.9062 - root_mean_squared_error: 614.7828 - val_loss: 387719.5938 - val_root_mean_squared_error: 622.6713\n",
      "Epoch 42/1000\n",
      "108/108 [==============================] - 1s 6ms/step - loss: 377937.6250 - root_mean_squared_error: 614.7663 - val_loss: 387630.8125 - val_root_mean_squared_error: 622.6000\n",
      "Epoch 43/1000\n",
      "108/108 [==============================] - 1s 6ms/step - loss: 377890.1562 - root_mean_squared_error: 614.7277 - val_loss: 387668.7500 - val_root_mean_squared_error: 622.6305\n",
      "Epoch 44/1000\n",
      "108/108 [==============================] - 0s 3ms/step - loss: 377825.9375 - root_mean_squared_error: 614.6755 - val_loss: 387670.2500 - val_root_mean_squared_error: 622.6317\n",
      "Epoch 45/1000\n",
      "108/108 [==============================] - 0s 2ms/step - loss: 377818.0625 - root_mean_squared_error: 614.6691 - val_loss: 387672.1562 - val_root_mean_squared_error: 622.6332\n",
      "Epoch 46/1000\n",
      "108/108 [==============================] - 0s 3ms/step - loss: 377815.9062 - root_mean_squared_error: 614.6673 - val_loss: 387671.1562 - val_root_mean_squared_error: 622.6324\n",
      "Epoch 47/1000\n",
      "108/108 [==============================] - 1s 6ms/step - loss: 377818.3750 - root_mean_squared_error: 614.6693 - val_loss: 387668.3438 - val_root_mean_squared_error: 622.6302\n",
      "Epoch 48/1000\n",
      "108/108 [==============================] - 1s 5ms/step - loss: 377814.8750 - root_mean_squared_error: 614.6665 - val_loss: 387663.0312 - val_root_mean_squared_error: 622.6259\n",
      "Epoch 49/1000\n",
      "108/108 [==============================] - 0s 2ms/step - loss: 377799.9688 - root_mean_squared_error: 614.6544 - val_loss: 387664.0312 - val_root_mean_squared_error: 622.6267\n",
      "Epoch 50/1000\n",
      "108/108 [==============================] - 1s 6ms/step - loss: 377799.6250 - root_mean_squared_error: 614.6541 - val_loss: 387663.7188 - val_root_mean_squared_error: 622.6265\n",
      "Epoch 51/1000\n",
      "108/108 [==============================] - 1s 6ms/step - loss: 377799.2500 - root_mean_squared_error: 614.6537 - val_loss: 387663.5312 - val_root_mean_squared_error: 622.6263\n",
      "Epoch 52/1000\n",
      "108/108 [==============================] - 1s 6ms/step - loss: 377799.6875 - root_mean_squared_error: 614.6541 - val_loss: 387663.7500 - val_root_mean_squared_error: 622.6265\n",
      "Epoch 53/1000\n",
      "108/108 [==============================] - 1s 6ms/step - loss: 377800.0312 - root_mean_squared_error: 614.6544 - val_loss: 387664.6875 - val_root_mean_squared_error: 622.6273\n"
     ]
    }
   ],
   "source": [
    "# Input layer: we have 4 covariates\n",
    "inputs = keras.Input(shape=(4,))\n",
    "\n",
    "# One hidden layer with 5 nodes\n",
    "x = layers.Dense(30, activation=\"relu\")(inputs)\n",
    "x = layers.Dense(15, activation=\"relu\")(x)\n",
    "\n",
    "# Output layer now connected to the last hidden layer\n",
    "outputs = layers.Dense(1, activation=\"linear\")(x)\n",
    "\n",
    "# Create model\n",
    "model = keras.Model(inputs=inputs, outputs=outputs)\n",
    "# model.summary()\n",
    "\n",
    "# Compile model\n",
    "model.compile(\n",
    "    loss=\"mse\",\n",
    "    optimizer=keras.optimizers.Adam(learning_rate=0.3),\n",
    "    metrics=[RMSE()],\n",
    ")\n",
    "\n",
    "# Callbacks\n",
    "cb = [\n",
    "  keras.callbacks.EarlyStopping(patience=20),\n",
    "  keras.callbacks.ReduceLROnPlateau(patience=5)\n",
    "]\n",
    "\n",
    "# Fit model\n",
    "tf.random.set_seed(8)\n",
    "history = model.fit(\n",
    "  x=X_train,\n",
    "  y=y_train,\n",
    "  epochs=1000,\n",
    "  batch_size=400, \n",
    "  validation_data=(X_valid, y_valid),\n",
    "  callbacks=cb,\n",
    "  #verbose=0\n",
    ")     \n"
   ]
  },
  {
   "cell_type": "code",
   "execution_count": 16,
   "metadata": {},
   "outputs": [
    {
     "data": {
      "image/png": "[encoded data removed]",
      "text/plain": [
       "<Figure size 432x288 with 1 Axes>"
      ]
     },
     "metadata": {
      "needs_background": "light"
     },
     "output_type": "display_data"
    }
   ],
   "source": [
    "# Training RMSE over epochs\n",
    "import matplotlib.pyplot as plt\n",
    "plt.plot(history.history[\"root_mean_squared_error\"])\n",
    "plt.plot(history.history[\"val_root_mean_squared_error\"], color=\"orange\")\n",
    "plt.title(\"Training RMSE over epochs\")\n",
    "plt.legend([\"Training\", \"Validation\"])\n",
    "plt.ylim((500, 1000))\n",
    "plt.ylabel(\"RMSE\")\n",
    "plt.xlabel(\"Epoch\")\n",
    "plt.grid();"
   ]
  },
  {
   "cell_type": "code",
   "execution_count": 17,
   "metadata": {},
   "outputs": [
    {
     "name": "stdout",
     "output_type": "stream",
     "text": [
      "Performance\n",
      "                       mse       rmse        r2         mae         mad\n",
      "Functional  387664.680533  622.62724  0.975463  338.468309  150.334351\n"
     ]
    },
    {
     "data": {
      "application/vnd.plotly.v1+json": {
       "config": {
        "displaylogo": false,
        "modeBarButtonsToRemove": [
         "sendDataToCloud",
         "lasso2d",
         "autoScale2d",
         "select2d",
         "zoom2d",
         "pan2d",
         "zoomIn2d",
         "zoomOut2d",
         "resetScale2d",
         "toggleSpikelines",
         "hoverCompareCartesian",
         "hoverClosestCartesian"
        ],
        "plotlyServerURL": "https://plot.ly",
        "staticPlot": false,
        "toImageButtonOptions": {
         "height": null,
         "width": null
        }
       },
       "data": [
        {
         "base": 611.3919257550425,
         "hoverinfo": "text",
         "hoverlabel": {
          "bgcolor": "rgba(0,0,0,0.8)"
         },
         "hovertext": [
          "Model: Functional loss after<br>variable: carat is permuted: 6578.569<br>Drop-out loss change: +5967.177",
          "Model: Functional loss after<br>variable: clarity is permuted: 1880.669<br>Drop-out loss change: +1269.278",
          "Model: Functional loss after<br>variable: color is permuted: 1521.639<br>Drop-out loss change: +910.247",
          "Model: Functional loss after<br>variable: cut is permuted: 661.025<br>Drop-out loss change: +49.633"
         ],
         "marker": {
          "color": "#46bac2"
         },
         "orientation": "h",
         "showlegend": false,
         "text": [
          "+5967.177",
          "+1269.278",
          "+910.247",
          "+49.633"
         ],
         "textposition": "outside",
         "type": "bar",
         "x": [
          5967.177469291981,
          1269.2775177654535,
          910.2472314590931,
          49.63348265042657
         ],
         "xaxis": "x",
         "y": [
          "carat",
          "clarity",
          "color",
          "cut"
         ],
         "yaxis": "y"
        }
       ],
       "layout": {
        "annotations": [
         {
          "font": {
           "size": 16
          },
          "showarrow": false,
          "text": "Functional",
          "x": 0.5,
          "xanchor": "center",
          "xref": "paper",
          "y": 1,
          "yanchor": "bottom",
          "yref": "paper"
         },
         {
          "font": {
           "size": 16
          },
          "showarrow": false,
          "text": "drop-out loss",
          "x": 0.5,
          "xanchor": "center",
          "xref": "paper",
          "y": 0,
          "yanchor": "top",
          "yref": "paper",
          "yshift": -30
         }
        ],
        "font": {
         "color": "#371ea3"
        },
        "height": 263,
        "margin": {
         "b": 71,
         "r": 30,
         "t": 78
        },
        "shapes": [
         {
          "line": {
           "color": "#371ea3",
           "dash": "dot",
           "width": 1.5
          },
          "type": "line",
          "x0": 611.3919257550425,
          "x1": 611.3919257550425,
          "xref": "x",
          "y0": -1,
          "y1": 4,
          "yref": "y"
         }
        ],
        "template": {
         "data": {
          "scatter": [
           {
            "type": "scatter"
           }
          ]
         }
        },
        "title": {
         "text": "Variable Importance",
         "x": 0.15
        },
        "xaxis": {
         "anchor": "y",
         "automargin": true,
         "domain": [
          0,
          1
         ],
         "fixedrange": true,
         "gridwidth": 2,
         "range": [
          -283.68469463875454,
          7473.6460154408205
         ],
         "tickcolor": "white",
         "ticklen": 3,
         "ticks": "outside",
         "type": "linear",
         "zeroline": false
        },
        "yaxis": {
         "anchor": "x",
         "automargin": true,
         "autorange": "reversed",
         "domain": [
          0,
          1
         ],
         "fixedrange": true,
         "gridwidth": 2,
         "tickcolor": "white",
         "ticklen": 10,
         "ticks": "outside",
         "type": "category"
        }
       }
      }
     },
     "metadata": {},
     "output_type": "display_data"
    },
    {
     "name": "stderr",
     "output_type": "stream",
     "text": [
      "Calculating ceteris paribus: 100%|██████████| 1/1 [00:04<00:00,  4.79s/it]\n"
     ]
    },
    {
     "data": {
      "application/vnd.plotly.v1+json": {
       "config": {
        "displaylogo": false,
        "modeBarButtonsToRemove": [
         "sendDataToCloud",
         "lasso2d",
         "autoScale2d",
         "select2d",
         "zoom2d",
         "pan2d",
         "zoomIn2d",
         "zoomOut2d",
         "resetScale2d",
         "toggleSpikelines",
         "hoverCompareCartesian",
         "hoverClosestCartesian"
        ],
        "plotlyServerURL": "https://plot.ly",
        "staticPlot": false,
        "toImageButtonOptions": {
         "height": null,
         "width": null
        }
       },
       "data": [
        {
         "customdata": [
          [
           4042.209228515625,
           "Partial depencence for numeric variables",
           "carat"
          ],
          [
           4042.209228515625,
           "Partial depencence for numeric variables",
           "carat"
          ],
          [
           4042.209228515625,
           "Partial depencence for numeric variables",
           "carat"
          ],
          [
           4042.209228515625,
           "Partial depencence for numeric variables",
           "carat"
          ],
          [
           4042.209228515625,
           "Partial depencence for numeric variables",
           "carat"
          ],
          [
           4042.209228515625,
           "Partial depencence for numeric variables",
           "carat"
          ],
          [
           4042.209228515625,
           "Partial depencence for numeric variables",
           "carat"
          ],
          [
           4042.209228515625,
           "Partial depencence for numeric variables",
           "carat"
          ],
          [
           4042.209228515625,
           "Partial depencence for numeric variables",
           "carat"
          ],
          [
           4042.209228515625,
           "Partial depencence for numeric variables",
           "carat"
          ],
          [
           4042.209228515625,
           "Partial depencence for numeric variables",
           "carat"
          ],
          [
           4042.209228515625,
           "Partial depencence for numeric variables",
           "carat"
          ],
          [
           4042.209228515625,
           "Partial depencence for numeric variables",
           "carat"
          ],
          [
           4042.209228515625,
           "Partial depencence for numeric variables",
           "carat"
          ],
          [
           4042.209228515625,
           "Partial depencence for numeric variables",
           "carat"
          ],
          [
           4042.209228515625,
           "Partial depencence for numeric variables",
           "carat"
          ],
          [
           4042.209228515625,
           "Partial depencence for numeric variables",
           "carat"
          ],
          [
           4042.209228515625,
           "Partial depencence for numeric variables",
           "carat"
          ],
          [
           4042.209228515625,
           "Partial depencence for numeric variables",
           "carat"
          ],
          [
           4042.209228515625,
           "Partial depencence for numeric variables",
           "carat"
          ],
          [
           4042.209228515625,
           "Partial depencence for numeric variables",
           "carat"
          ],
          [
           4042.209228515625,
           "Partial depencence for numeric variables",
           "carat"
          ],
          [
           4042.209228515625,
           "Partial depencence for numeric variables",
           "carat"
          ],
          [
           4042.209228515625,
           "Partial depencence for numeric variables",
           "carat"
          ],
          [
           4042.209228515625,
           "Partial depencence for numeric variables",
           "carat"
          ],
          [
           4042.209228515625,
           "Partial depencence for numeric variables",
           "carat"
          ],
          [
           4042.209228515625,
           "Partial depencence for numeric variables",
           "carat"
          ],
          [
           4042.209228515625,
           "Partial depencence for numeric variables",
           "carat"
          ],
          [
           4042.209228515625,
           "Partial depencence for numeric variables",
           "carat"
          ],
          [
           4042.209228515625,
           "Partial depencence for numeric variables",
           "carat"
          ],
          [
           4042.209228515625,
           "Partial depencence for numeric variables",
           "carat"
          ],
          [
           4042.209228515625,
           "Partial depencence for numeric variables",
           "carat"
          ],
          [
           4042.209228515625,
           "Partial depencence for numeric variables",
           "carat"
          ],
          [
           4042.209228515625,
           "Partial depencence for numeric variables",
           "carat"
          ],
          [
           4042.209228515625,
           "Partial depencence for numeric variables",
           "carat"
          ],
          [
           4042.209228515625,
           "Partial depencence for numeric variables",
           "carat"
          ],
          [
           4042.209228515625,
           "Partial depencence for numeric variables",
           "carat"
          ],
          [
           4042.209228515625,
           "Partial depencence for numeric variables",
           "carat"
          ],
          [
           4042.209228515625,
           "Partial depencence for numeric variables",
           "carat"
          ],
          [
           4042.209228515625,
           "Partial depencence for numeric variables",
           "carat"
          ],
          [
           4042.209228515625,
           "Partial depencence for numeric variables",
           "carat"
          ],
          [
           4042.209228515625,
           "Partial depencence for numeric variables",
           "carat"
          ],
          [
           4042.209228515625,
           "Partial depencence for numeric variables",
           "carat"
          ],
          [
           4042.209228515625,
           "Partial depencence for numeric variables",
           "carat"
          ],
          [
           4042.209228515625,
           "Partial depencence for numeric variables",
           "carat"
          ],
          [
           4042.209228515625,
           "Partial depencence for numeric variables",
           "carat"
          ],
          [
           4042.209228515625,
           "Partial depencence for numeric variables",
           "carat"
          ],
          [
           4042.209228515625,
           "Partial depencence for numeric variables",
           "carat"
          ],
          [
           4042.209228515625,
           "Partial depencence for numeric variables",
           "carat"
          ],
          [
           4042.209228515625,
           "Partial depencence for numeric variables",
           "carat"
          ],
          [
           4042.209228515625,
           "Partial depencence for numeric variables",
           "carat"
          ],
          [
           4042.209228515625,
           "Partial depencence for numeric variables",
           "carat"
          ],
          [
           4042.209228515625,
           "Partial depencence for numeric variables",
           "carat"
          ],
          [
           4042.209228515625,
           "Partial depencence for numeric variables",
           "carat"
          ],
          [
           4042.209228515625,
           "Partial depencence for numeric variables",
           "carat"
          ],
          [
           4042.209228515625,
           "Partial depencence for numeric variables",
           "carat"
          ],
          [
           4042.209228515625,
           "Partial depencence for numeric variables",
           "carat"
          ],
          [
           4042.209228515625,
           "Partial depencence for numeric variables",
           "carat"
          ],
          [
           4042.209228515625,
           "Partial depencence for numeric variables",
           "carat"
          ],
          [
           4042.209228515625,
           "Partial depencence for numeric variables",
           "carat"
          ],
          [
           4042.209228515625,
           "Partial depencence for numeric variables",
           "carat"
          ],
          [
           4042.209228515625,
           "Partial depencence for numeric variables",
           "carat"
          ],
          [
           4042.209228515625,
           "Partial depencence for numeric variables",
           "carat"
          ],
          [
           4042.209228515625,
           "Partial depencence for numeric variables",
           "carat"
          ],
          [
           4042.209228515625,
           "Partial depencence for numeric variables",
           "carat"
          ],
          [
           4042.209228515625,
           "Partial depencence for numeric variables",
           "carat"
          ],
          [
           4042.209228515625,
           "Partial depencence for numeric variables",
           "carat"
          ],
          [
           4042.209228515625,
           "Partial depencence for numeric variables",
           "carat"
          ],
          [
           4042.209228515625,
           "Partial depencence for numeric variables",
           "carat"
          ],
          [
           4042.209228515625,
           "Partial depencence for numeric variables",
           "carat"
          ],
          [
           4042.209228515625,
           "Partial depencence for numeric variables",
           "carat"
          ],
          [
           4042.209228515625,
           "Partial depencence for numeric variables",
           "carat"
          ],
          [
           4042.209228515625,
           "Partial depencence for numeric variables",
           "carat"
          ],
          [
           4042.209228515625,
           "Partial depencence for numeric variables",
           "carat"
          ],
          [
           4042.209228515625,
           "Partial depencence for numeric variables",
           "carat"
          ],
          [
           4042.209228515625,
           "Partial depencence for numeric variables",
           "carat"
          ],
          [
           4042.209228515625,
           "Partial depencence for numeric variables",
           "carat"
          ],
          [
           4042.209228515625,
           "Partial depencence for numeric variables",
           "carat"
          ],
          [
           4042.209228515625,
           "Partial depencence for numeric variables",
           "carat"
          ],
          [
           4042.209228515625,
           "Partial depencence for numeric variables",
           "carat"
          ],
          [
           4042.209228515625,
           "Partial depencence for numeric variables",
           "carat"
          ],
          [
           4042.209228515625,
           "Partial depencence for numeric variables",
           "carat"
          ],
          [
           4042.209228515625,
           "Partial depencence for numeric variables",
           "carat"
          ],
          [
           4042.209228515625,
           "Partial depencence for numeric variables",
           "carat"
          ],
          [
           4042.209228515625,
           "Partial depencence for numeric variables",
           "carat"
          ],
          [
           4042.209228515625,
           "Partial depencence for numeric variables",
           "carat"
          ],
          [
           4042.209228515625,
           "Partial depencence for numeric variables",
           "carat"
          ],
          [
           4042.209228515625,
           "Partial depencence for numeric variables",
           "carat"
          ],
          [
           4042.209228515625,
           "Partial depencence for numeric variables",
           "carat"
          ],
          [
           4042.209228515625,
           "Partial depencence for numeric variables",
           "carat"
          ],
          [
           4042.209228515625,
           "Partial depencence for numeric variables",
           "carat"
          ],
          [
           4042.209228515625,
           "Partial depencence for numeric variables",
           "carat"
          ],
          [
           4042.209228515625,
           "Partial depencence for numeric variables",
           "carat"
          ],
          [
           4042.209228515625,
           "Partial depencence for numeric variables",
           "carat"
          ],
          [
           4042.209228515625,
           "Partial depencence for numeric variables",
           "carat"
          ],
          [
           4042.209228515625,
           "Partial depencence for numeric variables",
           "carat"
          ],
          [
           4042.209228515625,
           "Partial depencence for numeric variables",
           "carat"
          ],
          [
           4042.209228515625,
           "Partial depencence for numeric variables",
           "carat"
          ],
          [
           4042.209228515625,
           "Partial depencence for numeric variables",
           "carat"
          ],
          [
           4042.209228515625,
           "Partial depencence for numeric variables",
           "carat"
          ],
          [
           4042.209228515625,
           "Partial depencence for numeric variables",
           "carat"
          ]
         ],
         "hovertemplate": "<b>%{hovertext}</b><br><br>prediction=%{y:.3f}<br>mean_prediction=%{customdata[0]:.3f}<extra></extra>",
         "hovertext": [
          "Partial depencence for numeric variables",
          "Partial depencence for numeric variables",
          "Partial depencence for numeric variables",
          "Partial depencence for numeric variables",
          "Partial depencence for numeric variables",
          "Partial depencence for numeric variables",
          "Partial depencence for numeric variables",
          "Partial depencence for numeric variables",
          "Partial depencence for numeric variables",
          "Partial depencence for numeric variables",
          "Partial depencence for numeric variables",
          "Partial depencence for numeric variables",
          "Partial depencence for numeric variables",
          "Partial depencence for numeric variables",
          "Partial depencence for numeric variables",
          "Partial depencence for numeric variables",
          "Partial depencence for numeric variables",
          "Partial depencence for numeric variables",
          "Partial depencence for numeric variables",
          "Partial depencence for numeric variables",
          "Partial depencence for numeric variables",
          "Partial depencence for numeric variables",
          "Partial depencence for numeric variables",
          "Partial depencence for numeric variables",
          "Partial depencence for numeric variables",
          "Partial depencence for numeric variables",
          "Partial depencence for numeric variables",
          "Partial depencence for numeric variables",
          "Partial depencence for numeric variables",
          "Partial depencence for numeric variables",
          "Partial depencence for numeric variables",
          "Partial depencence for numeric variables",
          "Partial depencence for numeric variables",
          "Partial depencence for numeric variables",
          "Partial depencence for numeric variables",
          "Partial depencence for numeric variables",
          "Partial depencence for numeric variables",
          "Partial depencence for numeric variables",
          "Partial depencence for numeric variables",
          "Partial depencence for numeric variables",
          "Partial depencence for numeric variables",
          "Partial depencence for numeric variables",
          "Partial depencence for numeric variables",
          "Partial depencence for numeric variables",
          "Partial depencence for numeric variables",
          "Partial depencence for numeric variables",
          "Partial depencence for numeric variables",
          "Partial depencence for numeric variables",
          "Partial depencence for numeric variables",
          "Partial depencence for numeric variables",
          "Partial depencence for numeric variables",
          "Partial depencence for numeric variables",
          "Partial depencence for numeric variables",
          "Partial depencence for numeric variables",
          "Partial depencence for numeric variables",
          "Partial depencence for numeric variables",
          "Partial depencence for numeric variables",
          "Partial depencence for numeric variables",
          "Partial depencence for numeric variables",
          "Partial depencence for numeric variables",
          "Partial depencence for numeric variables",
          "Partial depencence for numeric variables",
          "Partial depencence for numeric variables",
          "Partial depencence for numeric variables",
          "Partial depencence for numeric variables",
          "Partial depencence for numeric variables",
          "Partial depencence for numeric variables",
          "Partial depencence for numeric variables",
          "Partial depencence for numeric variables",
          "Partial depencence for numeric variables",
          "Partial depencence for numeric variables",
          "Partial depencence for numeric variables",
          "Partial depencence for numeric variables",
          "Partial depencence for numeric variables",
          "Partial depencence for numeric variables",
          "Partial depencence for numeric variables",
          "Partial depencence for numeric variables",
          "Partial depencence for numeric variables",
          "Partial depencence for numeric variables",
          "Partial depencence for numeric variables",
          "Partial depencence for numeric variables",
          "Partial depencence for numeric variables",
          "Partial depencence for numeric variables",
          "Partial depencence for numeric variables",
          "Partial depencence for numeric variables",
          "Partial depencence for numeric variables",
          "Partial depencence for numeric variables",
          "Partial depencence for numeric variables",
          "Partial depencence for numeric variables",
          "Partial depencence for numeric variables",
          "Partial depencence for numeric variables",
          "Partial depencence for numeric variables",
          "Partial depencence for numeric variables",
          "Partial depencence for numeric variables",
          "Partial depencence for numeric variables",
          "Partial depencence for numeric variables",
          "Partial depencence for numeric variables",
          "Partial depencence for numeric variables",
          "Partial depencence for numeric variables",
          "Partial depencence for numeric variables",
          "Partial depencence for numeric variables"
         ],
         "legendgroup": "Partial depencence for numeric variables",
         "line": {
          "color": "#46bac2",
          "dash": "solid",
          "width": 2
         },
         "marker": {
          "symbol": "circle"
         },
         "mode": "lines",
         "name": "Partial depencence for numeric variables",
         "opacity": 1,
         "orientation": "v",
         "showlegend": true,
         "type": "scatter",
         "x": [
          0.2,
          0.2393,
          0.2786,
          0.31789999999999996,
          0.35719999999999996,
          0.39649999999999996,
          0.43579999999999997,
          0.47509999999999997,
          0.5144,
          0.5537,
          0.593,
          0.6323,
          0.6716,
          0.7108999999999999,
          0.7502,
          0.7894999999999999,
          0.8288,
          0.8680999999999999,
          0.9074,
          0.9466999999999999,
          0.986,
          1.0252999999999999,
          1.0646,
          1.1038999999999999,
          1.1431999999999998,
          1.1824999999999999,
          1.2217999999999998,
          1.2610999999999999,
          1.3003999999999998,
          1.3397,
          1.3789999999999998,
          1.4183,
          1.4575999999999998,
          1.4968999999999997,
          1.5361999999999998,
          1.5754999999999997,
          1.6147999999999998,
          1.6540999999999997,
          1.6933999999999998,
          1.7326999999999997,
          1.7719999999999998,
          1.8112999999999997,
          1.8505999999999998,
          1.8898999999999997,
          1.9291999999999998,
          1.9684999999999997,
          2.0078,
          2.0471,
          2.0864,
          2.1256999999999997,
          2.1649999999999996,
          2.2043,
          2.2436,
          2.2828999999999997,
          2.3222,
          2.3615,
          2.4008,
          2.4400999999999997,
          2.4794,
          2.5187,
          2.558,
          2.5972999999999997,
          2.6366,
          2.6759,
          2.7152,
          2.7544999999999997,
          2.7937999999999996,
          2.8331,
          2.8724,
          2.9116999999999997,
          2.9509999999999996,
          2.9903,
          3.0296,
          3.0688999999999997,
          3.1081999999999996,
          3.1475,
          3.1868,
          3.2260999999999997,
          3.2653999999999996,
          3.3047,
          3.344,
          3.3832999999999998,
          3.4225999999999996,
          3.4618999999999995,
          3.5012,
          3.5404999999999998,
          3.5797999999999996,
          3.6190999999999995,
          3.6584,
          3.6976999999999998,
          3.7369999999999997,
          3.7762999999999995,
          3.8156,
          3.8548999999999998,
          3.8941999999999997,
          3.9334999999999996,
          3.9727999999999994,
          4.012099999999999,
          4.051399999999999,
          4.090699999999999,
          4.13
         ],
         "xaxis": "x",
         "y": [
          335.5050048828125,
          425.9269714355469,
          524.5241088867188,
          630.9483032226562,
          747.5603637695312,
          878.7018432617188,
          1031.8731689453125,
          1209.850830078125,
          1421.263916015625,
          1650.546630859375,
          1894.8414306640625,
          2158.378173828125,
          2439.185791015625,
          2743.183349609375,
          3067.46826171875,
          3425.040283203125,
          3812.3125,
          4210.7548828125,
          4619.341796875,
          5048.43603515625,
          5494.7685546875,
          5939.5224609375,
          6383.15234375,
          6825.4267578125,
          7277.3232421875,
          7740.01904296875,
          8211.1162109375,
          8683.7890625,
          9157.2412109375,
          9637.107421875,
          10123.4951171875,
          10614.3271484375,
          11115.6630859375,
          11627.296875,
          12147.0947265625,
          12675.193359375,
          13212.1201171875,
          13755.216796875,
          14304.7255859375,
          14861.9228515625,
          15424.8740234375,
          15991.16015625,
          16560.01171875,
          17130.82421875,
          17703.33984375,
          18273.599609375,
          18835.0859375,
          19373.798828125,
          19880.158203125,
          20352.52734375,
          20775.2109375,
          21163.166015625,
          21516.98828125,
          21817.67578125,
          22092.03515625,
          22339.328125,
          22560.884765625,
          22767.7265625,
          22948.55078125,
          23118.244140625,
          23275.83203125,
          23423.85546875,
          23568.861328125,
          23705.890625,
          23842.6796875,
          23979.46875,
          24116.259765625,
          24253.046875,
          24389.837890625,
          24526.626953125,
          24663.416015625,
          24800.15625,
          24936.84765625,
          25073.509765625,
          25210.150390625,
          25346.791015625,
          25483.369140625,
          25619.806640625,
          25756.119140625,
          25892.404296875,
          26028.6875,
          26164.97265625,
          26301.046875,
          26437.0234375,
          26572.9296875,
          26708.830078125,
          26844.728515625,
          26980.431640625,
          27115.712890625,
          27250.80859375,
          27385.841796875,
          27520.86328125,
          27655.81640625,
          27790.427734375,
          27924.796875,
          28059.005859375,
          28193.185546875,
          28327.365234375,
          28461.5,
          28595.5078125,
          28729.486328125
         ],
         "yaxis": "y"
        }
       ],
       "layout": {
        "annotations": [
         {
          "font": {
           "size": 13
          },
          "showarrow": false,
          "text": "carat",
          "x": 0.5,
          "xanchor": "center",
          "xref": "paper",
          "y": 1,
          "yanchor": "bottom",
          "yref": "paper"
         },
         {
          "font": {
           "size": 13
          },
          "showarrow": false,
          "text": "prediction",
          "textangle": -90,
          "x": -0.07,
          "xref": "paper",
          "y": 0.5,
          "yref": "paper"
         }
        ],
        "font": {
         "color": "#371ea3"
        },
        "height": 489,
        "hovermode": "x unified",
        "legend": {
         "font": {
          "size": 11
         },
         "itemsizing": "constant",
         "orientation": "h",
         "title": {
          "font": {
           "size": 12
          },
          "text": "label"
         },
         "tracegroupgap": 0,
         "x": 1,
         "xanchor": "right",
         "y": 1.0613496932515338,
         "yanchor": "bottom"
        },
        "margin": {
         "b": 71,
         "r": 30,
         "t": 78
        },
        "template": {
         "data": {
          "scatter": [
           {
            "type": "scatter"
           }
          ]
         }
        },
        "title": {
         "font": {
          "size": 16
         },
         "text": "Aggregated Profiles",
         "x": 0.15
        },
        "xaxis": {
         "anchor": "y",
         "automargin": true,
         "domain": [
          0,
          1
         ],
         "fixedrange": true,
         "gridwidth": 2,
         "showticklabels": true,
         "tickcolor": "white",
         "ticklen": 3,
         "ticks": "outside",
         "title": {
          "text": ""
         },
         "type": "linear",
         "zeroline": false
        },
        "yaxis": {
         "anchor": "x",
         "automargin": true,
         "domain": [
          0,
          1
         ],
         "fixedrange": true,
         "gridwidth": 2,
         "range": [
          -2503.8930419921876,
          31568.884375
         ],
         "tickcolor": "white",
         "ticklen": 3,
         "ticks": "outside",
         "title": {
          "text": ""
         },
         "type": "linear",
         "zeroline": false
        }
       }
      }
     },
     "metadata": {},
     "output_type": "display_data"
    },
    {
     "name": "stderr",
     "output_type": "stream",
     "text": [
      "Calculating ceteris paribus: 100%|██████████| 3/3 [00:01<00:00,  2.93it/s]\n"
     ]
    },
    {
     "data": {
      "application/vnd.plotly.v1+json": {
       "config": {
        "displaylogo": false,
        "modeBarButtonsToRemove": [
         "sendDataToCloud",
         "lasso2d",
         "autoScale2d",
         "select2d",
         "zoom2d",
         "pan2d",
         "zoomIn2d",
         "zoomOut2d",
         "resetScale2d",
         "toggleSpikelines",
         "hoverCompareCartesian",
         "hoverClosestCartesian"
        ],
        "plotlyServerURL": "https://plot.ly",
        "staticPlot": false,
        "toImageButtonOptions": {
         "height": null,
         "width": null
        }
       },
       "data": [
        {
         "alignmentgroup": "True",
         "base": [
          3812.382080078125,
          3812.382080078125,
          3812.382080078125,
          3812.382080078125,
          3812.382080078125
         ],
         "customdata": [
          [
           3483.928955078125,
           "Partial depencence for ordinal variables",
           "cut"
          ],
          [
           3594.52294921875,
           "Partial depencence for ordinal variables",
           "cut"
          ],
          [
           3708.162353515625,
           "Partial depencence for ordinal variables",
           "cut"
          ],
          [
           3826.14990234375,
           "Partial depencence for ordinal variables",
           "cut"
          ],
          [
           3950.4541015625,
           "Partial depencence for ordinal variables",
           "cut"
          ]
         ],
         "hovertemplate": "<b>%{hovertext}</b><br><br>mean_prediction=%{base:.3f}<br>prediction=%{customdata[0]:.3f}<extra></extra>",
         "hovertext": [
          "Partial depencence for ordinal variables",
          "Partial depencence for ordinal variables",
          "Partial depencence for ordinal variables",
          "Partial depencence for ordinal variables",
          "Partial depencence for ordinal variables"
         ],
         "legendgroup": "Partial depencence for ordinal variables",
         "marker": {
          "color": "#46bac2",
          "pattern": {
           "shape": ""
          }
         },
         "name": "Partial depencence for ordinal variables",
         "offsetgroup": "Partial depencence for ordinal variables",
         "orientation": "v",
         "showlegend": true,
         "textposition": "auto",
         "type": "bar",
         "x": [
          "Fair",
          "Good",
          "Very Good",
          "Premium",
          "Ideal"
         ],
         "xaxis": "x3",
         "y": [
          -328.453125,
          -217.859130859375,
          -104.2197265625,
          13.767822265625,
          138.072021484375
         ],
         "yaxis": "y3"
        },
        {
         "alignmentgroup": "True",
         "base": [
          3812.382080078125,
          3812.382080078125,
          3812.382080078125,
          3812.382080078125,
          3812.382080078125,
          3812.382080078125,
          3812.382080078125
         ],
         "customdata": [
          [
           4712.06201171875,
           "Partial depencence for ordinal variables",
           "color"
          ],
          [
           4444.58349609375,
           "Partial depencence for ordinal variables",
           "color"
          ],
          [
           4197.3056640625,
           "Partial depencence for ordinal variables",
           "color"
          ],
          [
           3898.581787109375,
           "Partial depencence for ordinal variables",
           "color"
          ],
          [
           3521.160400390625,
           "Partial depencence for ordinal variables",
           "color"
          ],
          [
           3169.16064453125,
           "Partial depencence for ordinal variables",
           "color"
          ],
          [
           2764.09716796875,
           "Partial depencence for ordinal variables",
           "color"
          ]
         ],
         "hovertemplate": "<b>%{hovertext}</b><br><br>mean_prediction=%{base:.3f}<br>prediction=%{customdata[0]:.3f}<extra></extra>",
         "hovertext": [
          "Partial depencence for ordinal variables",
          "Partial depencence for ordinal variables",
          "Partial depencence for ordinal variables",
          "Partial depencence for ordinal variables",
          "Partial depencence for ordinal variables",
          "Partial depencence for ordinal variables",
          "Partial depencence for ordinal variables"
         ],
         "legendgroup": "Partial depencence for ordinal variables",
         "marker": {
          "color": "#46bac2",
          "pattern": {
           "shape": ""
          }
         },
         "name": "Partial depencence for ordinal variables",
         "offsetgroup": "Partial depencence for ordinal variables",
         "orientation": "v",
         "showlegend": false,
         "textposition": "auto",
         "type": "bar",
         "x": [
          "D",
          "E",
          "F",
          "G",
          "H",
          "I",
          "J"
         ],
         "xaxis": "x4",
         "y": [
          899.679931640625,
          632.201416015625,
          384.923583984375,
          86.19970703125,
          -291.2216796875,
          -643.221435546875,
          -1048.284912109375
         ],
         "yaxis": "y4"
        },
        {
         "alignmentgroup": "True",
         "base": [
          3812.382080078125,
          3812.382080078125,
          3812.382080078125,
          3812.382080078125,
          3812.382080078125,
          3812.382080078125,
          3812.382080078125,
          3812.382080078125
         ],
         "customdata": [
          [
           2373.264892578125,
           "Partial depencence for ordinal variables",
           "clarity"
          ],
          [
           2971.306396484375,
           "Partial depencence for ordinal variables",
           "clarity"
          ],
          [
           3571.9453125,
           "Partial depencence for ordinal variables",
           "clarity"
          ],
          [
           4136.0751953125,
           "Partial depencence for ordinal variables",
           "clarity"
          ],
          [
           4636.9267578125,
           "Partial depencence for ordinal variables",
           "clarity"
          ],
          [
           5061.92919921875,
           "Partial depencence for ordinal variables",
           "clarity"
          ],
          [
           5522.9951171875,
           "Partial depencence for ordinal variables",
           "clarity"
          ],
          [
           5994.833984375,
           "Partial depencence for ordinal variables",
           "clarity"
          ]
         ],
         "hovertemplate": "<b>%{hovertext}</b><br><br>mean_prediction=%{base:.3f}<br>prediction=%{customdata[0]:.3f}<extra></extra>",
         "hovertext": [
          "Partial depencence for ordinal variables",
          "Partial depencence for ordinal variables",
          "Partial depencence for ordinal variables",
          "Partial depencence for ordinal variables",
          "Partial depencence for ordinal variables",
          "Partial depencence for ordinal variables",
          "Partial depencence for ordinal variables",
          "Partial depencence for ordinal variables"
         ],
         "legendgroup": "Partial depencence for ordinal variables",
         "marker": {
          "color": "#46bac2",
          "pattern": {
           "shape": ""
          }
         },
         "name": "Partial depencence for ordinal variables",
         "offsetgroup": "Partial depencence for ordinal variables",
         "orientation": "v",
         "showlegend": false,
         "textposition": "auto",
         "type": "bar",
         "x": [
          "I1",
          "SI2",
          "SI1",
          "VS2",
          "VS1",
          "VVS2",
          "VVS1",
          "IF"
         ],
         "xaxis": "x",
         "y": [
          -1439.1171875,
          -841.07568359375,
          -240.436767578125,
          323.693115234375,
          824.544677734375,
          1249.547119140625,
          1710.613037109375,
          2182.451904296875
         ],
         "yaxis": "y"
        }
       ],
       "layout": {
        "annotations": [
         {
          "font": {
           "size": 13
          },
          "showarrow": false,
          "text": "clarity",
          "x": 0.2375,
          "xanchor": "center",
          "xref": "paper",
          "y": 0.425,
          "yanchor": "bottom",
          "yref": "paper"
         },
         {
          "font": {
           "size": 13
          },
          "showarrow": false,
          "text": "cut",
          "x": 0.2375,
          "xanchor": "center",
          "xref": "paper",
          "y": 1,
          "yanchor": "bottom",
          "yref": "paper"
         },
         {
          "font": {
           "size": 13
          },
          "showarrow": false,
          "text": "color",
          "x": 0.7625,
          "xanchor": "center",
          "xref": "paper",
          "y": 1,
          "yanchor": "bottom",
          "yref": "paper"
         },
         {
          "font": {
           "size": 13
          },
          "showarrow": false,
          "text": "prediction",
          "textangle": -90,
          "x": -0.07,
          "xref": "paper",
          "y": 0.5,
          "yref": "paper"
         }
        ],
        "barmode": "group",
        "font": {
         "color": "#371ea3"
        },
        "height": 829,
        "hovermode": "x unified",
        "legend": {
         "font": {
          "size": 11
         },
         "itemsizing": "constant",
         "orientation": "h",
         "title": {
          "font": {
           "size": 12
          },
          "text": "label"
         },
         "tracegroupgap": 0,
         "x": 1,
         "xanchor": "right",
         "y": 1.0361881785283473,
         "yanchor": "bottom"
        },
        "margin": {
         "b": 71,
         "r": 30,
         "t": 78
        },
        "shapes": [
         {
          "layer": "below",
          "line": {
           "color": "#371ea3",
           "dash": "dot",
           "width": 1.5
          },
          "type": "line",
          "x0": 0,
          "x1": 1,
          "xref": "x domain",
          "y0": 3812.382080078125,
          "y1": 3812.382080078125,
          "yref": "y"
         },
         {
          "layer": "below",
          "line": {
           "color": "#371ea3",
           "dash": "dot",
           "width": 1.5
          },
          "type": "line",
          "x0": 0,
          "x1": 1,
          "xref": "x3 domain",
          "y0": 3812.382080078125,
          "y1": 3812.382080078125,
          "yref": "y3"
         },
         {
          "layer": "below",
          "line": {
           "color": "#371ea3",
           "dash": "dot",
           "width": 1.5
          },
          "type": "line",
          "x0": 0,
          "x1": 1,
          "xref": "x4 domain",
          "y0": 3812.382080078125,
          "y1": 3812.382080078125,
          "yref": "y4"
         },
         {
          "layer": "below",
          "line": {
           "color": "#371ea3",
           "dash": "dot",
           "width": 1.5
          },
          "type": "line",
          "x0": 0,
          "x1": 1,
          "xref": "x domain",
          "y0": 3812.382080078125,
          "y1": 3812.382080078125,
          "yref": "y"
         },
         {
          "layer": "below",
          "line": {
           "color": "#371ea3",
           "dash": "dot",
           "width": 1.5
          },
          "type": "line",
          "x0": 0,
          "x1": 1,
          "xref": "x3 domain",
          "y0": 3812.382080078125,
          "y1": 3812.382080078125,
          "yref": "y3"
         },
         {
          "layer": "below",
          "line": {
           "color": "#371ea3",
           "dash": "dot",
           "width": 1.5
          },
          "type": "line",
          "x0": 0,
          "x1": 1,
          "xref": "x4 domain",
          "y0": 3812.382080078125,
          "y1": 3812.382080078125,
          "yref": "y4"
         },
         {
          "layer": "below",
          "line": {
           "color": "#371ea3",
           "dash": "dot",
           "width": 1.5
          },
          "type": "line",
          "x0": 0,
          "x1": 1,
          "xref": "x domain",
          "y0": 3812.382080078125,
          "y1": 3812.382080078125,
          "yref": "y"
         },
         {
          "layer": "below",
          "line": {
           "color": "#371ea3",
           "dash": "dot",
           "width": 1.5
          },
          "type": "line",
          "x0": 0,
          "x1": 1,
          "xref": "x3 domain",
          "y0": 3812.382080078125,
          "y1": 3812.382080078125,
          "yref": "y3"
         },
         {
          "layer": "below",
          "line": {
           "color": "#371ea3",
           "dash": "dot",
           "width": 1.5
          },
          "type": "line",
          "x0": 0,
          "x1": 1,
          "xref": "x4 domain",
          "y0": 3812.382080078125,
          "y1": 3812.382080078125,
          "yref": "y4"
         }
        ],
        "template": {
         "data": {
          "scatter": [
           {
            "type": "scatter"
           }
          ]
         }
        },
        "title": {
         "font": {
          "size": 16
         },
         "text": "Aggregated Profiles",
         "x": 0.15
        },
        "xaxis": {
         "anchor": "y",
         "automargin": true,
         "domain": [
          0,
          0.475
         ],
         "fixedrange": true,
         "gridwidth": 2,
         "showticklabels": true,
         "tickcolor": "white",
         "ticklen": 10,
         "ticks": "outside",
         "title": {
          "text": ""
         },
         "type": "category"
        },
        "xaxis2": {
         "anchor": "y2",
         "automargin": true,
         "domain": [
          0.525,
          1
         ],
         "fixedrange": true,
         "gridwidth": 2,
         "showticklabels": true,
         "tickcolor": "white",
         "ticklen": 10,
         "ticks": "outside",
         "title": {
          "text": ""
         },
         "type": "category"
        },
        "xaxis3": {
         "anchor": "y3",
         "automargin": true,
         "domain": [
          0,
          0.475
         ],
         "fixedrange": true,
         "gridwidth": 2,
         "showticklabels": true,
         "tickcolor": "white",
         "ticklen": 10,
         "ticks": "outside",
         "title": {
          "text": ""
         },
         "type": "category"
        },
        "xaxis4": {
         "anchor": "y4",
         "automargin": true,
         "domain": [
          0.525,
          1
         ],
         "fixedrange": true,
         "gridwidth": 2,
         "showticklabels": true,
         "tickcolor": "white",
         "ticklen": 10,
         "ticks": "outside",
         "title": {
          "text": ""
         },
         "type": "category"
        },
        "yaxis": {
         "anchor": "x",
         "automargin": true,
         "domain": [
          0,
          0.425
         ],
         "fixedrange": true,
         "gridwidth": 2,
         "range": [
          2011.1079833984375,
          6356.990893554687
         ],
         "tickcolor": "white",
         "ticklen": 3,
         "ticks": "outside",
         "title": {
          "text": ""
         },
         "type": "linear",
         "zeroline": false
        },
        "yaxis2": {
         "anchor": "x2",
         "automargin": true,
         "domain": [
          0,
          0.425
         ],
         "fixedrange": true,
         "gridwidth": 2,
         "matches": "y",
         "range": [
          2011.1079833984375,
          6356.990893554687
         ],
         "showticklabels": false,
         "tickcolor": "white",
         "ticklen": 3,
         "ticks": "outside",
         "title": {
          "text": ""
         },
         "type": "linear",
         "zeroline": false
        },
        "yaxis3": {
         "anchor": "x3",
         "automargin": true,
         "domain": [
          0.575,
          1
         ],
         "fixedrange": true,
         "gridwidth": 2,
         "matches": "y",
         "range": [
          2011.1079833984375,
          6356.990893554687
         ],
         "tickcolor": "white",
         "ticklen": 3,
         "ticks": "outside",
         "title": {
          "text": ""
         },
         "type": "linear",
         "zeroline": false
        },
        "yaxis4": {
         "anchor": "x4",
         "automargin": true,
         "domain": [
          0.575,
          1
         ],
         "fixedrange": true,
         "gridwidth": 2,
         "matches": "y",
         "range": [
          2011.1079833984375,
          6356.990893554687
         ],
         "showticklabels": false,
         "tickcolor": "white",
         "ticklen": 3,
         "ticks": "outside",
         "title": {
          "text": ""
         },
         "type": "linear",
         "zeroline": false
        }
       }
      }
     },
     "metadata": {},
     "output_type": "display_data"
    }
   ],
   "source": [
    "# Interpretation\n",
    "import itertools\n",
    "import pandas as pd\n",
    "import dalex as dx\n",
    "\n",
    "# Set up explainer\n",
    "def pred_fun(m, X):\n",
    "    return m.predict(preprocessor.transform(X)).flatten()\n",
    "\n",
    "exp = dx.Explainer(\n",
    "    model, \n",
    "    data=df_valid[ord_features + [\"carat\"]], \n",
    "    y=y_valid, \n",
    "    predict_function=pred_fun, \n",
    "    verbose=False\n",
    ")\n",
    "\n",
    "# Performance\n",
    "mp = exp.model_performance(model_type=\"regression\")\n",
    "print(\"Performance\\n\", mp.result)\n",
    "\n",
    "# Permutation importance\n",
    "vi = exp.model_parts()\n",
    "vi.plot()\n",
    "\n",
    "# Partial dependence\n",
    "pdp_num = exp.model_profile(\n",
    "    type=\"partial\",\n",
    "    label=\"Partial depencence for numeric variables\",\n",
    "    variables=[\"carat\"],\n",
    "    N=1000\n",
    ")\n",
    "pdp_num.plot()\n",
    "\n",
    "pdp_ord = exp.model_profile(\n",
    "    type=\"partial\",\n",
    "    label=\"Partial depencence for ordinal variables\",\n",
    "    variables=ord_features,\n",
    "    variable_type=\"categorical\",\n",
    "    N=1000\n",
    ")\n",
    "# Fix wrong categorical order\n",
    "all_levels = list(itertools.chain(*ord_levels))\n",
    "reference_order = pd.DataFrame({\n",
    "    \"_x_\": all_levels,\n",
    "    \"idx\": np.arange(len(all_levels))\n",
    "})\n",
    "pdp_ord.result = pdp_ord.result.merge(reference_order).sort_values(\"idx\")\n",
    "pdp_ord.plot()"
   ]
  },
  {
   "cell_type": "markdown",
   "metadata": {},
   "source": [
    "**Comments** \n",
    "\n",
    "- The model performance seems comparable to the tree-based models from the last chapter. The specific performance might change from run to run due to randomness in the algorithm.\n",
    "- The effect of `carat` looks smoother as with random forests or boosted trees.\n",
    "\n",
    "# Example: Embeddings (optional)\n",
    "\n",
    "Representing categorical input variables through embedding layers is extremely useful in practice. We will end this chapter with an example on how to do it with the claims data. This example also shows how flexible neural network structures are."
   ]
  },
  {
   "cell_type": "markdown",
   "metadata": {},
   "source": [
    "library(tidyverse)\n",
    "library(keras)\n",
    "library(splitTools)\n",
    "library(insuranceData)\n",
    "data(dataCar)\n",
    "\n",
    "# use_python(path to python...)\n",
    "\n",
    "# Response and covariates\n",
    "y <- \"clm\"\n",
    "x_emb <- \"veh_body\"\n",
    "x_dense <- c(\"veh_value\", \"veh_age\", \"gender\", \"area\", \"agecat\")\n",
    "x <- c(x_dense, x_emb)\n",
    "\n",
    "# Split into train and validation\n",
    "ix <- partition(dataCar[[y]], p = c(train = 0.8, valid = 0.2), seed = 9838)\n",
    "\n",
    "train <- dataCar[ix$train, ]\n",
    "valid <- dataCar[ix$valid, ]\n",
    "\n",
    "y_train <- train[[y]]\n",
    "y_valid <- valid[[y]]\n",
    "\n",
    "X_train <- train[, x]\n",
    "X_valid <- valid[, x]\n",
    "\n",
    "# Standardize X using X_train\n",
    "sc <- list(\n",
    "  center = attr(scale(data.matrix(X_train[, x_dense])), \"scaled:center\"),\n",
    "  scale = attr(scale(data.matrix(X_train[, x_dense])), \"scaled:scale\")\n",
    ")\n",
    "\n",
    "# Function that maps data.frame to scaled network input (a list with a dense part \n",
    "# and each embedding as separat integer vector)\n",
    "prep_nn <- function(X, dense = x_dense, emb = x_emb, scaling = sc) {\n",
    "  X_dense <- data.matrix(X[, dense, drop = FALSE])\n",
    "  X_dense <- scale(X_dense, center = scaling$center, scale = scaling$scale)\n",
    "  emb <- lapply(X[emb], function(x) as.integer(x) - 1)\n",
    "  c(list(dense1 = X_dense), emb)\n",
    "}\n",
    "\n",
    "# Inputs\n",
    "input_dense <- layer_input(shape = length(x_dense), name = \"dense1\")\n",
    "input_veh_body <- layer_input(shape = 1, name = \"veh_body\")\n",
    "\n",
    "# Embedding of veh_body\n",
    "emb_veh_body <- input_veh_body %>% \n",
    "  layer_embedding(input_dim = nlevels(dataCar$veh_body) + 1, \n",
    "                  output_dim = 1) %>% \n",
    "  layer_flatten()\n",
    "\n",
    "# Combine dense input and embedding\n",
    "outputs <- list(input_dense, emb_veh_body) %>% \n",
    "      layer_concatenate() %>% \n",
    "      layer_dense(30, activation = \"tanh\") %>% \n",
    "      layer_dense(1, activation = \"sigmoid\")\n",
    "\n",
    "# Input\n",
    "inputs <- list(dense1 = input_dense, \n",
    "               veh_body = input_veh_body)\n",
    "\n",
    "# Create and compile model\n",
    "nn <- keras_model(inputs = inputs, outputs = outputs)\n",
    "summary(nn)\n",
    "nn %>% compile(\n",
    "  optimizer = optimizer_adam(lr = 0.0001),\n",
    "  loss = 'binary_crossentropy'\n",
    ")\n",
    "\n",
    "# Callbacks\n",
    "cb <- list(\n",
    "  callback_early_stopping(patience = 20),\n",
    "  callback_reduce_lr_on_plateau(patience = 5)\n",
    ")\n",
    "       \n",
    "# Fit model\n",
    "history <- nn %>% fit(\n",
    "  x = prep_nn(X_train),\n",
    "  y = y_train,\n",
    "  epochs = 100,\n",
    "  batch_size = 400, \n",
    "  validation_data = list(prep_nn(X_valid), y_valid),\n",
    "  callbacks = cb\n",
    ")\n",
    "\n",
    "history$metrics[c(\"loss\", \"val_loss\")] %>% \n",
    "  data.frame() %>% \n",
    "  mutate(epoch = row_number()) %>% \n",
    "  pivot_longer(cols = c(\"loss\", \"val_loss\")) %>% \n",
    "ggplot(aes(x = epoch, y = value, group = name, color = name)) +\n",
    "  geom_line(size = 1.4)\n",
    "\n",
    "# Interpret\n",
    "library(flashlight)\n",
    "library(MetricsWeighted)\n",
    "\n",
    "fl <- flashlight(\n",
    "  model = nn, \n",
    "  y = y, \n",
    "  data = dataCar[ix$valid, ], \n",
    "  label = \"nn\", \n",
    "  metrics = list(logLoss = logLoss, `R squared` = r_squared_bernoulli),\n",
    "  predict_function = function(m, X) predict(m, prep_nn(X), batch_size = 1000)\n",
    ")\n",
    "\n",
    "# Performance on validation data\n",
    "plot(light_performance(fl), fill = \"orange\")\n",
    "\n",
    "# Permutation importance\n",
    "plot(light_importance(fl, v = x), fill = \"orange\")\n",
    "\n",
    "# Partial dependence\n",
    "plot(light_profile(fl, v = \"veh_value\", breaks = seq(0, 5, by = 0.1))) %>% \n",
    "  labs(title = \"Partial dependence plot for veh_value\", y = \"price\")\n",
    "\n",
    "plot(light_profile(fl, v = \"veh_body\"), rotate_x = TRUE) +\n",
    "  labs(title = \"Partial dependence plot for veh_body\", y = \"price\")\n",
    "\n",
    "plot(light_profile(fl, v = \"area\")) +\n",
    "  labs(title = \"Partial dependence plot for area\", y = \"price\")\n",
    "\n",
    "plot(light_profile(fl, v = \"agecat\")) +\n",
    "  labs(title = \"Partial dependence plot for agecat\", y = \"price\")"
   ]
  },
  {
   "cell_type": "markdown",
   "metadata": {},
   "source": [
    "# Exercises\n",
    "\n",
    "1. Fit diamond prices by gamma deviance loss with log-link (exponential output activation), using the custom loss function defined below. Tune the model by simple validation and evaluate it (for simplicity) on the validation data. Interpret the final model. (Hints: I used a smaller learning rate and had to replace the \"relu\" activations by \"tanh\".)\n",
    "```{r}\n",
    "loss_gamma <- function(y_true, y_pred) {\n",
    "  -k_log(y_true / y_pred) + y_true / y_pred\n",
    "}\n",
    "```\n",
    "2. Study either the optional claims data example or build your own neural net, predicting claim yes/no. For simplicity, you can represent the categorical feature `veh_body` by integers.\n",
    "\n",
    "# Neural Network Slang\n",
    "\n",
    "Here, we summarize some of the neural network slang.\n",
    "\n",
    "- Activation function: The transformation applied to the node values.\n",
    "- Architecture: The layout of layers and nodes.\n",
    "- Backpropagation: An efficient way to calculate gradients.\n",
    "- Batch: A couple of data rows used for one mini-batch gradient descent step.\n",
    "- Callback: An action during training (save weights, reduce learning rate, stop training, ...).\n",
    "- Epoch: The process of updating the network weights by gradient descent until each observation in the training set was used once.\n",
    "- Embedding: A numeric representation of categorical input as learned by the neural net.\n",
    "- Encoding: The values of latent variables of a hidden layer, usually the last.\n",
    "- Gradient descent: The basic optimization algorithm of neural networks.\n",
    "- Keras: User-friendly wrapper of TensorFlow.\n",
    "- Layer: Main organizational unit of a neural network.\n",
    "- Learning rate: Controls the step size of gradient descent, i.e., how aggressive the network learns.\n",
    "- Node: Nodes on the input layer are the covariates, nodes on the output layer the response(s) and nodes on a hidden layer are latent variables representing the covariates for the task to predict the response.\n",
    "- Optimizer: The specific variant of gradient descent.\n",
    "- PyTorch: An important implementation of neural networks.\n",
    "- Stochastic gradient descent (SGD): Mini-batch gradient descent with batches of size 1.\n",
    "- TensorFlow: An important implementation of neural networks.\n",
    "- Weights: The parameters of a neural net.\n",
    "\n",
    "# Chapter Summary\n",
    "\n",
    "In this chapter, we have glimpsed into the world of neural networks. Step by step we have learned how a neural network works. We have used Keras and TensorFlow to build models brick by brick.\n",
    "\n",
    "# Closing Remarks\n",
    "\n",
    "During this lecture, we have met many ML algorithms and principles. To get used to them, the best approach is practicing. [Kaggle](kaggle.com) is a great place to do so and learn from the best. \n",
    "\n",
    "A summary and comparison of the algorithms can be found on [github](https://github.com/mayer79/ML_Algorithm_Comparison). Here a screenshot as per Sept. 7, 2020: \n",
    "![](../figs/comparison_ML.PNG).\n",
    "\n",
    "# Chapter References\n",
    "\n",
    "[1] P.J. Werbos, \"Beyond Regression: New Tools for Prediction and Analysis in the Behavioral Sciences\", Dissertation, 1974.\n"
   ]
  }
 ],
 "metadata": {
  "interpreter": {
   "hash": "813f6c4cc22c03b594219174db46929469d46b04ef4db7b355912617e499b8c1"
  },
  "kernelspec": {
   "display_name": "Python 3.8.11 64-bit ('ml_lecture': conda)",
   "name": "python3"
  },
  "language_info": {
   "codemirror_mode": {
    "name": "ipython",
    "version": 3
   },
   "file_extension": ".py",
   "mimetype": "text/x-python",
   "name": "python",
   "nbconvert_exporter": "python",
   "pygments_lexer": "ipython3",
   "version": "3.8.11"
  },
  "orig_nbformat": 4
 },
 "nbformat": 4,
 "nbformat_minor": 2
}
