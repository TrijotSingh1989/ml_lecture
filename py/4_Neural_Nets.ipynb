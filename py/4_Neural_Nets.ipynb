{
 "cells": [
  {
   "cell_type": "markdown",
   "metadata": {},
   "source": [
    "# Introduction\n",
    "\n",
    "In this chapter, we dive into artificial neural networks, one of the main drivers of artificial intelligence. \n",
    "\n",
    "Neural networks are around since many decades. (Maybe) the first such model was built by Marvin Minsky in 1951. He called his algorithm SNARC (\"stochastic neural-analog reinforcement calculator\"). Since then, neural networks have gone through several stages of development. One of the milestones was the idea of Paul J. Werbos in 1974 [1] to efficiently calculate gradients in the optimization algorithm by an approach called \"backpropagation\". Another milestone was the use of GPUs  (graphics processing units) to greatly reduce calculation time.\n",
    "\n",
    "Artificial neural nets are extremely versatile and powerful. They can be used to\n",
    "\n",
    "1. fit simple models like GLMs,\n",
    "2. learn interactions and non-linear effects in an automatic way (like tree-based methods),\n",
    "3. optimize general loss functions,\n",
    "4. fit data much larger than RAM (e.g. images),\n",
    "5. learn \"online\" (update the model with additional data),\n",
    "6. fit multiple response variables at the same time,\n",
    "7. model input of dimension higher than two (e.g. images, videos),\n",
    "8. model input of *different* input dimensions (e.g. text *and* images),\n",
    "9. fit data with sequential structure in both in- and output (e.g. a text translator),\n",
    "10. model data with spatial structure (images),\n",
    "11. fit models with many millions of parameters,\n",
    "12. do non-linear dimension reduction.\n",
    "\n",
    "In this chapter, we will mainly deal with the first three aspects. Since a lot of new terms are being used, a small glossary can be found in Section \"Neural Network Slang\".\n",
    "\n",
    "# Understanding Neural Nets\n",
    "\n",
    "To learn how and why neural networks work, we will go through three steps - each illustrated on the diamonds data:\n",
    "\n",
    "- Step 1: Linear regression as neural net\n",
    "- Step 2: Hidden layers\n",
    "- Step 3: Activation functions\n",
    "\n",
    "After this, we will be ready to build more complex models.\n",
    "\n",
    "## Step 1: Linear regression as neural net\n",
    "\n",
    "Let us revisit the simple linear regression\n",
    "$$\n",
    "  E(\\text{price}) = \\alpha + \\beta \\cdot \\text{carat}\n",
    "$$\n",
    "calculated on the full diamonds data. In Chapter 1 we have found the solution $\\hat\\alpha = -2256.36$ and $\\hat \\beta = 7756.43$ by ordinary least-squares.\n",
    "\n",
    "Above situation can be viewed as a neural network with\n",
    "\n",
    "- an input layer with two nodes (`carat` and the intercept called \"bias unit\" with value 1),\n",
    "- a \"fully connected\" (= \"dense\") output layer with one node (`price`). Fully connected means that each node of a layer is a linear function of all node values of the previous layer. Each linear function has parameters or *weights* to be estimated, in our simple case just $\\alpha$ and $\\beta$.\n",
    "\n",
    "Visualized as a graph, the situation looks as follows.\n",
    "\n",
    "![](../figs/nn_simple_linear.PNG)\n",
    "\n",
    "*Part of the figures were done with this cool [webtool](http://alexlenail.me/NN-SVG/index.html).*\n",
    "\n",
    "To gain confidence in neural nets, we first show that parameters estimated by a neural network are quite similar to the ones learned by linear least-squares. To do so, we will use Google's [TensorFlow](https://www.tensorflow.org/) with its convenient (functional) [Keras](https://keras.io/) interface. \n",
    "\n",
    "### Example: simple linear regression"
   ]
  },
  {
   "cell_type": "code",
   "execution_count": 134,
   "metadata": {},
   "outputs": [
    {
     "name": "stdout",
     "output_type": "stream",
     "text": [
      "Fitted coefficients with neural net: [array([[7728.9336]], dtype=float32), array([-2209.6602], dtype=float32)]\n"
     ]
    }
   ],
   "source": [
    "import numpy as np\n",
    "from tensorflow import keras\n",
    "from tensorflow.keras import layers\n",
    "from tensorflow.keras.metrics import RootMeanSquaredError as RMSE\n",
    "\n",
    "from plotnine.data import diamonds\n",
    "\n",
    "# Input layer: we have 1 covariate\n",
    "inputs = keras.Input(shape=(1,))\n",
    "\n",
    "# Output layer densely connected to the input layer\n",
    "outputs = layers.Dense(1)(inputs)\n",
    "\n",
    "# Create model\n",
    "model = keras.Model(inputs=inputs, outputs=outputs)\n",
    "# model.summary()\n",
    "\n",
    "# Compile model\n",
    "model.compile(\n",
    "    loss=\"mse\",\n",
    "    optimizer=keras.optimizers.Adam(learning_rate=1),\n",
    "    metrics=[RMSE()],\n",
    ")\n",
    "\n",
    "# Fit model - naive without validation\n",
    "history = model.fit(\n",
    "    x=diamonds[\"carat\"],\n",
    "    y=diamonds[\"price\"],\n",
    "    epochs=30,\n",
    "    batch_size=100, \n",
    "    verbose=0\n",
    ")\n",
    "\n",
    "# Fitted coefficients\n",
    "print(\"Fitted coefficients with neural net:\", model.get_weights())"
   ]
  },
  {
   "cell_type": "code",
   "execution_count": 135,
   "metadata": {},
   "outputs": [
    {
     "name": "stdout",
     "output_type": "stream",
     "text": [
      "\n",
      "Fitted with OLS:\n",
      "Intercept   -2256.360580\n",
      "carat        7756.425618\n",
      "dtype: float64\n"
     ]
    }
   ],
   "source": [
    "# Compare with linear regression fitted with OLS\n",
    "import statsmodels.formula.api as smf\n",
    "\n",
    "ols = smf.ols(formula=\"price ~ carat\", data=diamonds)\n",
    "res = ols.fit()\n",
    "print(\"\\nFitted with OLS:\", res.params, sep=\"\\n\")"
   ]
  },
  {
   "cell_type": "code",
   "execution_count": 136,
   "metadata": {},
   "outputs": [
    {
     "data": {
      "image/png": "[encoded data removed]",
      "text/plain": [
       "<Figure size 432x288 with 1 Axes>"
      ]
     },
     "metadata": {
      "needs_background": "light"
     },
     "output_type": "display_data"
    }
   ],
   "source": [
    "# Training RMSE over epochs\n",
    "import matplotlib.pyplot as plt\n",
    "plt.plot(history.history[\"root_mean_squared_error\"])\n",
    "plt.title(\"Training RMSE over epochs\")\n",
    "plt.ylabel(\"RMSE\")\n",
    "plt.xlabel(\"Epoch\");"
   ]
  },
  {
   "cell_type": "code",
   "execution_count": 137,
   "metadata": {},
   "outputs": [
    {
     "data": {
      "image/png": "[encoded data removed]",
      "text/plain": [
       "<Figure size 432x288 with 1 Axes>"
      ]
     },
     "metadata": {
      "needs_background": "light"
     },
     "output_type": "display_data"
    }
   ],
   "source": [
    "# Effect of carat on average price\n",
    "carat = np.linspace(0, 3, 30)\n",
    "plt.plot(carat, model(carat), marker=\"o\")\n",
    "plt.title(\"Effect of carat on average price\")\n",
    "plt.ylabel(\"price\")\n",
    "plt.xlabel(\"carat\")\n",
    "plt.grid()"
   ]
  },
  {
   "cell_type": "markdown",
   "metadata": {},
   "source": [
    "**Comment:** The solution of the simple neural network is indeed quite similar to the OLS solution. \n",
    "\n",
    "### The optimization algorithm\n",
    "\n",
    "Neural nets are typically fitted by **mini-batch gradient descent**, using **backpropagation** to efficiently calculate gradients. It works as follows:\n",
    "\n",
    "1. Initiate the parameters with random values. \n",
    "2. Forward step: Use the parameters to predict all observations of a *batch*. A batch is a randomly selected subset of the full data set.\n",
    "3. Backpropagation step: Change the parameters in the right direction, making the loss of the current batch smaller. This involves calculating derivatives (\"gradients\") of the loss function (e.g. MSE) with respect to all parameters. Backpropagation does so in a layer-per-layer fashion, making heavy use of the chain rule. \n",
    "4. Repeat Steps 2-3 until each observation appeared in a batch. This is called an *epoch*.\n",
    "5. Repeat Step 4 for multiple epochs until the parameter estimates stabilize or validation performance stops improving.\n",
    "\n",
    "Gradient descent on batches of size 1 is called \"stochastic gradient descent\" (SGD).\n",
    "\n",
    "## Step 2: Hidden layers\n",
    "\n",
    "Our first neural network above consisted of only an input layer and an output layer. By adding one or more *hidden* layers between in- and output, the network gains additional parameters, and thus more flexibility. The nodes of a hidden layer can be viewed as latent variables, representing the original covariates. The nodes of a hidden layer are sometimes called *encoding*. The closer a layer is to the output, the better its nodes are suitable to predict the response variable. In this way, a neural network finds the right transformations and interactions of its covariates in an automatic way. The only ingredients are a large data set and a flexible enough network \"architecture\" (number of layers, nodes per layer). \n",
    "\n",
    "Neural nets with more than one hidden layer are called \"deep neural nets\".\n",
    "\n",
    "We will now add a hidden layer with five nodes $v_1, \\dots, v_5$ to our simple linear regression network. The architecture looks as follows:\n",
    "\n",
    "![](../figs/nn_1_hidden.PNG)\n",
    "\n",
    "This network has 16 parameters. How much better than our simple network with just two parameters will it be?\n",
    "\n",
    "### Example: hidden layer\n",
    "\n",
    "The following code is almost identical to the last one up, except that there is a hidden layer between input and output layer."
   ]
  },
  {
   "cell_type": "code",
   "execution_count": 138,
   "metadata": {},
   "outputs": [
    {
     "data": {
      "text/plain": [
       "<tensorflow.python.keras.callbacks.History at 0x22a148498e0>"
      ]
     },
     "execution_count": 138,
     "metadata": {},
     "output_type": "execute_result"
    }
   ],
   "source": [
    "import numpy as np\n",
    "from tensorflow import keras\n",
    "from tensorflow.keras import layers\n",
    "from tensorflow.keras.metrics import RootMeanSquaredError as RMSE\n",
    "\n",
    "from plotnine.data import diamonds\n",
    "\n",
    "# Input layer: we have 1 covariate\n",
    "inputs = keras.Input(shape=(1,))\n",
    "\n",
    "# One hidden layer with 5 nodes\n",
    "hidden = layers.Dense(5)(inputs)  # new line of code!\n",
    "\n",
    "# Output layer now connected to the hidden layer\n",
    "outputs = layers.Dense(1)(hidden) # modified\n",
    "\n",
    "# Create model\n",
    "model = keras.Model(inputs=inputs, outputs=outputs)\n",
    "# model.summary()\n",
    "\n",
    "# Compile model\n",
    "model.compile(\n",
    "    loss=\"mse\",\n",
    "    optimizer=keras.optimizers.Adam(learning_rate=1),\n",
    "    metrics=[RMSE()],\n",
    ")\n",
    "\n",
    "# Fit model - naive without validation\n",
    "model.fit(\n",
    "    x=diamonds[\"carat\"],\n",
    "    y=diamonds[\"price\"],\n",
    "    epochs=30,\n",
    "    batch_size=100, \n",
    "    verbose=0\n",
    ")"
   ]
  },
  {
   "cell_type": "code",
   "execution_count": 139,
   "metadata": {},
   "outputs": [
    {
     "data": {
      "image/png": "[encoded data removed]",
      "text/plain": [
       "<Figure size 432x288 with 1 Axes>"
      ]
     },
     "metadata": {
      "needs_background": "light"
     },
     "output_type": "display_data"
    }
   ],
   "source": [
    "# Plot effect\n",
    "import matplotlib.pyplot as plt\n",
    "\n",
    "carat = np.linspace(0, 3, 30)\n",
    "plt.plot(carat, model(carat), marker=\"o\")\n",
    "plt.title(\"Effect of carat on average price\")\n",
    "plt.ylabel(\"price\")\n",
    "plt.xlabel(\"carat\")\n",
    "plt.grid()"
   ]
  },
  {
   "cell_type": "markdown",
   "metadata": {},
   "source": [
    "**Comment:** Oops, it seems as if the extra hidden layer had no effect. The reason is that a linear function of a linear function is still a linear function. Adding the hidden layer did not really change the capabilities of the model. It just added a lot of unnecessary parameters.\n",
    "\n",
    "## Step 3: Activation functions\n",
    "\n",
    "The missing magic component is the so called [*activation* function](https://en.wikipedia.org/wiki/Activation_function) $\\sigma$ after each layer, which transforms the values of the nodes. So far, we have implicitly used \"linear activations\", which - in neural network slang - is just the identity function. \n",
    "\n",
    "Applying *non-linear* activation functions after hidden layers have the purpose to introduce non-linear and interaction effects. Typical such functions are\n",
    "\n",
    "- the hyperbolic tangent (\"S\"-shaped function that maps real values to $[-1, 1]$),\n",
    "- the sigmoidal function (\"S\"-shaped function that maps real values to $[0, 1]$),\n",
    "- the **re**ctangular **l**inear **u**nit \"ReLU\" $f(x) = \\text{max}(0, x)$ that sets negative values to 0.\n",
    "\n",
    "Activation functions applied to the *output* layer have a different purpose, namely the same as the inverse of the link function of a corresponding GLM. It maps predictions to the scale of the response: \n",
    "\n",
    "- linear regression -> linear activation\n",
    "- binary logistic regression -> sigmoid activation (to predict probability of \"1\")\n",
    "- multinomial logistic regression -> softmax activation (to predict one probability per class)\n",
    "- log-linear regression -> exponential activation\n",
    "\n",
    "Let us add a hyperbolic tangent activation function ($\\sigma$) after the hidden layer of our simple example.\n",
    "\n",
    "![](../figs/nn_activation.PNG)\n",
    "\n",
    "### Example: activation functions\n",
    "\n",
    "Again, the code is very similar to the last one, with the exception of using a hyperbolic tangent activation after the hidden layer (and different learning rate and number of epochs)."
   ]
  },
  {
   "cell_type": "code",
   "execution_count": 140,
   "metadata": {},
   "outputs": [
    {
     "data": {
      "text/plain": [
       "<tensorflow.python.keras.callbacks.History at 0x22a103e4e20>"
      ]
     },
     "execution_count": 140,
     "metadata": {},
     "output_type": "execute_result"
    }
   ],
   "source": [
    "import numpy as np\n",
    "from tensorflow import keras\n",
    "from tensorflow.keras import layers\n",
    "from tensorflow.keras.metrics import RootMeanSquaredError as RMSE\n",
    "\n",
    "from plotnine.data import diamonds\n",
    "\n",
    "# Input layer: we have 1 covariate\n",
    "inputs = keras.Input(shape=(1,))\n",
    "\n",
    "# One hidden layer with 5 nodes\n",
    "hidden = layers.Dense(5, activation=\"tanh\")(inputs)\n",
    "\n",
    "# Output layer now connected to the hidden layer\n",
    "outputs = layers.Dense(1, activation=\"linear\")(hidden)\n",
    "\n",
    "# Create model\n",
    "model = keras.Model(inputs=inputs, outputs=outputs)\n",
    "# model.summary()\n",
    "\n",
    "# Compile model\n",
    "model.compile(\n",
    "    loss=\"mse\",\n",
    "    optimizer=keras.optimizers.Adam(learning_rate=0.2),\n",
    "    metrics=[RMSE()],\n",
    ")\n",
    "\n",
    "# Fit model - naive without validation\n",
    "model.fit(\n",
    "    x=diamonds[\"carat\"],\n",
    "    y=diamonds[\"price\"],\n",
    "    epochs=50,\n",
    "    batch_size=100, \n",
    "    verbose=0\n",
    ")"
   ]
  },
  {
   "cell_type": "code",
   "execution_count": 141,
   "metadata": {},
   "outputs": [
    {
     "data": {
      "image/png": "[encoded data removed]",
      "text/plain": [
       "<Figure size 432x288 with 1 Axes>"
      ]
     },
     "metadata": {
      "needs_background": "light"
     },
     "output_type": "display_data"
    }
   ],
   "source": [
    "# Plot effect\n",
    "import matplotlib.pyplot as plt\n",
    "\n",
    "carat = np.linspace(0, 3, 30)\n",
    "plt.plot(carat, model(carat), marker=\"o\")\n",
    "plt.title(\"Effect of carat on average price\")\n",
    "plt.ylabel(\"price\")\n",
    "plt.xlabel(\"carat\")\n",
    "plt.grid()"
   ]
  },
  {
   "cell_type": "markdown",
   "metadata": {},
   "source": [
    "**Comment:** Adding the non-linear activation after the hidden layer has changed the model. The effect of carat is now representing the association between carat and price by a non-linear function.\n",
    "\n",
    "# Practical Considerations\n",
    "\n",
    "## Validation and tuning of main parameters\n",
    "\n",
    "So far, we have naively fitted the neural networks without splitting the data for test and validation. Don't do this! Usually, one sets a small test dataset (e.g. 10% of rows) aside to assess the final model performance and use simple (or cross-)validation for model tuning.\n",
    "\n",
    "In order to choose the main tuning parameters, namely\n",
    "\n",
    "- network architecture,\n",
    "- activation functions,\n",
    "- learning rate, \n",
    "- batch size, and\n",
    "- number of epochs, \n",
    "\n",
    "one often uses simple validation because cross-validation takes too much time.\n",
    "\n",
    "## Missing values\n",
    "\n",
    "A neural net does not accept missing values in the input. They need to be filled, e.g., by a typcial value or a value below the minimum.\n",
    "\n",
    "## Input standardization\n",
    "\n",
    "Gradient descent starts by random initialization of parameters. This step is optimized for standardized input. Standardization has to be done manually by either\n",
    "\n",
    "- min/max scale the values of each input to the range -1 to 1,\n",
    "- standard scale the values of each input to mean 0 and standard deviation 1, or\n",
    "- use relative ranks.\n",
    "\n",
    "Note that the scaling transformation is calculated on the training data and then applied to the validation and test data. This usually requires a couple of lines of code.\n",
    "\n",
    "## Categorical input\n",
    "\n",
    "There are three ways to represent categorical input variables in a neural network. \n",
    "\n",
    "1. Binary and ordinal categoricals are best represented by integers and then treated as numeric.\n",
    "2. Unordered categoricals are either one-hot-encoded (i.e., each category is represented by a binary variable) or \n",
    "3. they are represented by a (categorical) embedding. To do so, the categories are integer encoded and then condensed by a special *embedding layer* to a few (usually 1 or 2) dense features. This requires a more complex network architecture but saves memory and preprocessing. This approach is heavily used when the input consists of words (which is a categorical variable with thousands of levels - one level per word).\n",
    "\n",
    "For Option 2, input standardization is not required, for Option 3 it *must* not be applied as the embedding layer expects integers.\n",
    "\n",
    "## Callbacks\n",
    "\n",
    "Sometimes, we want to take actions during training, such as\n",
    "\n",
    "- stop training when validation performance starts worsening,\n",
    "- reduce the learning rate when the optimization is stuck in a \"plateau\", or\n",
    "- save the network weights between epochs.\n",
    "\n",
    "Such monitoring tasks are called *callbacks*. We will see them in the example below.\n",
    "\n",
    "## Types of layers\n",
    "\n",
    "So far, we have encountered only dense (= fully connected) layers and activation layers. Here some further types:\n",
    "\n",
    "- Embedding layers to represent integer encoded categoricals.\n",
    "- Dropout layers to add regularization.\n",
    "- Convolutional and pooling layers for image data.\n",
    "- Recurrent layers (long-short-term memory LSTM, gated recurrent unit GRU) for sequence data.\n",
    "- Concatenation layers to combine different branches of the network (like in a directed graph).\n",
    "- Flatten layers to bring higher dimensional layers to dimension 1 (relevant, e.g., for embeddings, image and text data).\n",
    "\n",
    "## Optimizer\n",
    "\n",
    "Pure gradient descent is rarely applied without tweaks because it tends to be stuck in local minima, especially for complex networks with non-convex objective surfaces. Modern variants are \"adam\", \"nadam\" and \"RMSProp\". These optimizers work usually out-of-the-box, except for the learning rate, which has to be manually chosen.\n",
    "\n",
    "## Custom losses and evaluation metrics\n",
    "\n",
    "Frameworks like Keras/TensorFlow offer many predefined loss functions and evaluation metrics. Choosing them is a crucial step, just as with tree boosting.\n",
    "Using TensorFlow's backend functions, one can define own metrics and loss functions (see exercises).\n",
    "\n",
    "## Overfitting and regularization\n",
    "\n",
    "As with linear models, a model with too many parameters will overfit in an undesired way. With about 50 to 100 observations per parameter, overfitting is usually unproblematic. (For image and text data, different rules apply). Besides using less parameters, the main options to reduce overfitting are the following:\n",
    "\n",
    "- pull the parameters of a layer slightly towards zero by applying L1 and/or L2 penalties to the parameters,\n",
    "- add dropout layers. A dropout layer randomly sets some of the node values of the previous layer to 0, switching them off. This is an elegant way to fight overfitting and is related to bagging.\n",
    "\n",
    "## Choosing the architecture\n",
    "\n",
    "How many layers and number of nodes per layer to select? For tabular data, using 1-3 hidden layers is usually enough. If we start with $m$ input variables, the number of nodes in the first hidden layer is usually higher than $m$ and reduces for later layers. There should not be a \"representational bottleneck\", i.e., an early hidden layer with too few parameters. \n",
    "\n",
    "The number of parameters should not be too high compared to the number of rows, see \"Overfitting and regularization\" above. \n",
    "\n",
    "## Interpretation\n",
    "\n",
    "Variable importance of covariates in neural networks can be assessed by permutation importance (how much performance is lost when shuffling column X?) or SHAP importance. Covariate effects can be investigated, e.g., by partial dependence plots or SHAP dependence plots.\n",
    "\n",
    "# Example: diamonds\n",
    "\n",
    "We will now fit a neural net with two hidden layers (30 and 15 nodes) and a total of 631 parameters to model diamond prices. Learning rate and batch size were chosen by simple validation. The number of epochs is being chosen by an early stopping callback.\n",
    "\n",
    "![](../figs/nn_2_hidden.PNG)\n"
   ]
  },
  {
   "cell_type": "code",
   "execution_count": 143,
   "metadata": {},
   "outputs": [
    {
     "data": {
      "text/plain": [
       "array([[ 0.98143089, -1.5256479 ,  0.57680845, -0.60749424],\n",
       "       [-0.80744346, -1.5256479 , -1.24422106,  1.01420318],\n",
       "       [-0.80744346,  0.82624444, -0.63721122, -0.0809691 ],\n",
       "       [ 0.98143089, -0.34970173, -0.03020138, -0.96553133],\n",
       "       [-2.5963178 , -0.93767482, -0.63721122,  0.42449503]])"
      ]
     },
     "execution_count": 143,
     "metadata": {},
     "output_type": "execute_result"
    }
   ],
   "source": [
    "import numpy as np\n",
    "import tensorflow as tf\n",
    "from tensorflow import keras\n",
    "from tensorflow.keras import layers\n",
    "from tensorflow.keras.metrics import RootMeanSquaredError as RMSE\n",
    "from plotnine.data import diamonds\n",
    "from sklearn.preprocessing import OrdinalEncoder, StandardScaler\n",
    "from sklearn.compose import ColumnTransformer\n",
    "from sklearn.pipeline import make_pipeline\n",
    "from sklearn.model_selection import train_test_split\n",
    "\n",
    "# Ordinal encoder for cut, color, and clarity\n",
    "ord_features = [\"cut\", \"color\", \"clarity\"]\n",
    "ord_levels = [\n",
    "    diamonds[x].cat.categories.to_list() for x in ord_features\n",
    "]\n",
    "ord_encoder = OrdinalEncoder(categories=ord_levels)\n",
    "\n",
    "# Data preprocessing pipeline\n",
    "preprocessor = make_pipeline(\n",
    "    ColumnTransformer(\n",
    "        transformers=[\n",
    "            (\"ordinal\", ord_encoder, ord_features),\n",
    "            (\"numeric\", \"passthrough\", [\"carat\"])\n",
    "        ]\n",
    "    ),\n",
    "    StandardScaler()\n",
    ")\n",
    "\n",
    "# Train/valid split\n",
    "df_train, df_valid, y_train, y_valid = train_test_split(\n",
    "    diamonds, \n",
    "    diamonds[\"price\"], \n",
    "    test_size=0.2, \n",
    "    random_state=341\n",
    ")\n",
    "\n",
    "X_train = preprocessor.fit_transform(df_train)\n",
    "X_valid = preprocessor.transform(df_valid)"
   ]
  },
  {
   "cell_type": "code",
   "execution_count": 144,
   "metadata": {},
   "outputs": [],
   "source": [
    "# Input layer: we have 4 covariates\n",
    "inputs = keras.Input(shape=(4,))\n",
    "\n",
    "# One hidden layer with 5 nodes\n",
    "x = layers.Dense(30, activation=\"relu\")(inputs)\n",
    "x = layers.Dense(15, activation=\"relu\")(x)\n",
    "\n",
    "# Output layer now connected to the last hidden layer\n",
    "outputs = layers.Dense(1, activation=\"linear\")(x)\n",
    "\n",
    "# Create model\n",
    "model = keras.Model(inputs=inputs, outputs=outputs)\n",
    "# model.summary()\n",
    "\n",
    "# Compile model\n",
    "model.compile(\n",
    "    loss=\"mse\",\n",
    "    optimizer=keras.optimizers.Adam(learning_rate=0.3),\n",
    "    metrics=[RMSE()],\n",
    ")\n",
    "\n",
    "# Callbacks\n",
    "cb = [\n",
    "    keras.callbacks.EarlyStopping(patience=20),\n",
    "    keras.callbacks.ReduceLROnPlateau(patience=5)\n",
    "]\n",
    "\n",
    "# Fit model\n",
    "tf.random.set_seed(88)\n",
    "history = model.fit(\n",
    "    x=X_train,\n",
    "    y=y_train,\n",
    "    epochs=1000,\n",
    "    batch_size=400, \n",
    "    validation_data=(X_valid, y_valid),\n",
    "    callbacks=cb,\n",
    "    verbose=0\n",
    ")     "
   ]
  },
  {
   "cell_type": "code",
   "execution_count": 145,
   "metadata": {},
   "outputs": [
    {
     "data": {
      "image/png": "[encoded data removed]",
      "text/plain": [
       "<Figure size 432x288 with 1 Axes>"
      ]
     },
     "metadata": {
      "needs_background": "light"
     },
     "output_type": "display_data"
    }
   ],
   "source": [
    "# Training RMSE over epochs\n",
    "import matplotlib.pyplot as plt\n",
    "plt.plot(history.history[\"root_mean_squared_error\"])\n",
    "plt.plot(history.history[\"val_root_mean_squared_error\"], color=\"orange\")\n",
    "plt.title(\"Training RMSE over epochs\")\n",
    "plt.legend([\"Training\", \"Validation\"])\n",
    "plt.ylim((500, 1000))\n",
    "plt.ylabel(\"RMSE\")\n",
    "plt.xlabel(\"Epoch\")\n",
    "plt.grid();"
   ]
  },
  {
   "cell_type": "code",
   "execution_count": 146,
   "metadata": {},
   "outputs": [
    {
     "name": "stdout",
     "output_type": "stream",
     "text": [
      "Performance\n",
      "                       mse        rmse        r2         mae         mad\n",
      "Functional  317606.427612  563.565815  0.979898  300.461478  133.165527\n"
     ]
    },
    {
     "data": {
      "application/vnd.plotly.v1+json": {
       "config": {
        "displaylogo": false,
        "modeBarButtonsToRemove": [
         "sendDataToCloud",
         "lasso2d",
         "autoScale2d",
         "select2d",
         "zoom2d",
         "pan2d",
         "zoomIn2d",
         "zoomOut2d",
         "resetScale2d",
         "toggleSpikelines",
         "hoverCompareCartesian",
         "hoverClosestCartesian"
        ],
        "plotlyServerURL": "https://plot.ly",
        "staticPlot": false,
        "toImageButtonOptions": {
         "height": null,
         "width": null
        }
       },
       "data": [
        {
         "base": 552.9104237582359,
         "hoverinfo": "text",
         "hoverlabel": {
          "bgcolor": "rgba(0,0,0,0.8)"
         },
         "hovertext": [
          "Model: Functional loss after<br>variable: carat is permuted: 6245.278<br>Drop-out loss change: +5692.368",
          "Model: Functional loss after<br>variable: clarity is permuted: 1803.026<br>Drop-out loss change: +1250.116",
          "Model: Functional loss after<br>variable: color is permuted: 1376.634<br>Drop-out loss change: +823.724",
          "Model: Functional loss after<br>variable: cut is permuted: 615.266<br>Drop-out loss change: +62.355"
         ],
         "marker": {
          "color": "#46bac2"
         },
         "orientation": "h",
         "showlegend": false,
         "text": [
          "+5692.368",
          "+1250.116",
          "+823.724",
          "+62.355"
         ],
         "textposition": "outside",
         "type": "bar",
         "x": [
          5692.367545543862,
          1250.11586175482,
          823.7238747956818,
          62.355089514262886
         ],
         "xaxis": "x",
         "y": [
          "carat",
          "clarity",
          "color",
          "cut"
         ],
         "yaxis": "y"
        }
       ],
       "layout": {
        "annotations": [
         {
          "font": {
           "size": 16
          },
          "showarrow": false,
          "text": "Functional",
          "x": 0.5,
          "xanchor": "center",
          "xref": "paper",
          "y": 1,
          "yanchor": "bottom",
          "yref": "paper"
         },
         {
          "font": {
           "size": 16
          },
          "showarrow": false,
          "text": "drop-out loss",
          "x": 0.5,
          "xanchor": "center",
          "xref": "paper",
          "y": 0,
          "yanchor": "top",
          "yref": "paper",
          "yshift": -30
         }
        ],
        "font": {
         "color": "#371ea3"
        },
        "height": 263,
        "margin": {
         "b": 71,
         "r": 30,
         "t": 78
        },
        "shapes": [
         {
          "line": {
           "color": "#371ea3",
           "dash": "dot",
           "width": 1.5
          },
          "type": "line",
          "x0": 552.9104237582359,
          "x1": 552.9104237582359,
          "xref": "x",
          "y0": -1,
          "y1": 4,
          "yref": "y"
         }
        ],
        "template": {
         "data": {
          "scatter": [
           {
            "type": "scatter"
           }
          ]
         }
        },
        "title": {
         "text": "Variable Importance",
         "x": 0.15
        },
        "xaxis": {
         "anchor": "y",
         "automargin": true,
         "domain": [
          0,
          1
         ],
         "fixedrange": true,
         "gridwidth": 2,
         "range": [
          -300.94470807334346,
          7099.133101133678
         ],
         "tickcolor": "white",
         "ticklen": 3,
         "ticks": "outside",
         "type": "linear",
         "zeroline": false
        },
        "yaxis": {
         "anchor": "x",
         "automargin": true,
         "autorange": "reversed",
         "domain": [
          0,
          1
         ],
         "fixedrange": true,
         "gridwidth": 2,
         "tickcolor": "white",
         "ticklen": 10,
         "ticks": "outside",
         "type": "category"
        }
       }
      }
     },
     "metadata": {},
     "output_type": "display_data"
    },
    {
     "data": {
      "application/vnd.plotly.v1+json": {
       "config": {
        "displaylogo": false,
        "modeBarButtonsToRemove": [
         "sendDataToCloud",
         "lasso2d",
         "autoScale2d",
         "select2d",
         "zoom2d",
         "pan2d",
         "zoomIn2d",
         "zoomOut2d",
         "resetScale2d",
         "toggleSpikelines",
         "hoverCompareCartesian",
         "hoverClosestCartesian"
        ],
        "plotlyServerURL": "https://plot.ly",
        "staticPlot": false,
        "toImageButtonOptions": {
         "height": null,
         "width": null
        }
       },
       "data": [
        {
         "customdata": [
          [
           4330.94677734375,
           "Partial depencence for numeric variables",
           "carat"
          ],
          [
           4330.94677734375,
           "Partial depencence for numeric variables",
           "carat"
          ],
          [
           4330.94677734375,
           "Partial depencence for numeric variables",
           "carat"
          ],
          [
           4330.94677734375,
           "Partial depencence for numeric variables",
           "carat"
          ],
          [
           4330.94677734375,
           "Partial depencence for numeric variables",
           "carat"
          ],
          [
           4330.94677734375,
           "Partial depencence for numeric variables",
           "carat"
          ],
          [
           4330.94677734375,
           "Partial depencence for numeric variables",
           "carat"
          ],
          [
           4330.94677734375,
           "Partial depencence for numeric variables",
           "carat"
          ],
          [
           4330.94677734375,
           "Partial depencence for numeric variables",
           "carat"
          ],
          [
           4330.94677734375,
           "Partial depencence for numeric variables",
           "carat"
          ],
          [
           4330.94677734375,
           "Partial depencence for numeric variables",
           "carat"
          ],
          [
           4330.94677734375,
           "Partial depencence for numeric variables",
           "carat"
          ],
          [
           4330.94677734375,
           "Partial depencence for numeric variables",
           "carat"
          ],
          [
           4330.94677734375,
           "Partial depencence for numeric variables",
           "carat"
          ],
          [
           4330.94677734375,
           "Partial depencence for numeric variables",
           "carat"
          ],
          [
           4330.94677734375,
           "Partial depencence for numeric variables",
           "carat"
          ],
          [
           4330.94677734375,
           "Partial depencence for numeric variables",
           "carat"
          ],
          [
           4330.94677734375,
           "Partial depencence for numeric variables",
           "carat"
          ],
          [
           4330.94677734375,
           "Partial depencence for numeric variables",
           "carat"
          ],
          [
           4330.94677734375,
           "Partial depencence for numeric variables",
           "carat"
          ],
          [
           4330.94677734375,
           "Partial depencence for numeric variables",
           "carat"
          ],
          [
           4330.94677734375,
           "Partial depencence for numeric variables",
           "carat"
          ],
          [
           4330.94677734375,
           "Partial depencence for numeric variables",
           "carat"
          ],
          [
           4330.94677734375,
           "Partial depencence for numeric variables",
           "carat"
          ],
          [
           4330.94677734375,
           "Partial depencence for numeric variables",
           "carat"
          ],
          [
           4330.94677734375,
           "Partial depencence for numeric variables",
           "carat"
          ],
          [
           4330.94677734375,
           "Partial depencence for numeric variables",
           "carat"
          ],
          [
           4330.94677734375,
           "Partial depencence for numeric variables",
           "carat"
          ],
          [
           4330.94677734375,
           "Partial depencence for numeric variables",
           "carat"
          ],
          [
           4330.94677734375,
           "Partial depencence for numeric variables",
           "carat"
          ],
          [
           4330.94677734375,
           "Partial depencence for numeric variables",
           "carat"
          ],
          [
           4330.94677734375,
           "Partial depencence for numeric variables",
           "carat"
          ],
          [
           4330.94677734375,
           "Partial depencence for numeric variables",
           "carat"
          ],
          [
           4330.94677734375,
           "Partial depencence for numeric variables",
           "carat"
          ],
          [
           4330.94677734375,
           "Partial depencence for numeric variables",
           "carat"
          ],
          [
           4330.94677734375,
           "Partial depencence for numeric variables",
           "carat"
          ],
          [
           4330.94677734375,
           "Partial depencence for numeric variables",
           "carat"
          ],
          [
           4330.94677734375,
           "Partial depencence for numeric variables",
           "carat"
          ],
          [
           4330.94677734375,
           "Partial depencence for numeric variables",
           "carat"
          ],
          [
           4330.94677734375,
           "Partial depencence for numeric variables",
           "carat"
          ],
          [
           4330.94677734375,
           "Partial depencence for numeric variables",
           "carat"
          ],
          [
           4330.94677734375,
           "Partial depencence for numeric variables",
           "carat"
          ],
          [
           4330.94677734375,
           "Partial depencence for numeric variables",
           "carat"
          ],
          [
           4330.94677734375,
           "Partial depencence for numeric variables",
           "carat"
          ],
          [
           4330.94677734375,
           "Partial depencence for numeric variables",
           "carat"
          ],
          [
           4330.94677734375,
           "Partial depencence for numeric variables",
           "carat"
          ],
          [
           4330.94677734375,
           "Partial depencence for numeric variables",
           "carat"
          ],
          [
           4330.94677734375,
           "Partial depencence for numeric variables",
           "carat"
          ],
          [
           4330.94677734375,
           "Partial depencence for numeric variables",
           "carat"
          ],
          [
           4330.94677734375,
           "Partial depencence for numeric variables",
           "carat"
          ],
          [
           4330.94677734375,
           "Partial depencence for numeric variables",
           "carat"
          ],
          [
           4330.94677734375,
           "Partial depencence for numeric variables",
           "carat"
          ],
          [
           4330.94677734375,
           "Partial depencence for numeric variables",
           "carat"
          ],
          [
           4330.94677734375,
           "Partial depencence for numeric variables",
           "carat"
          ],
          [
           4330.94677734375,
           "Partial depencence for numeric variables",
           "carat"
          ],
          [
           4330.94677734375,
           "Partial depencence for numeric variables",
           "carat"
          ],
          [
           4330.94677734375,
           "Partial depencence for numeric variables",
           "carat"
          ],
          [
           4330.94677734375,
           "Partial depencence for numeric variables",
           "carat"
          ],
          [
           4330.94677734375,
           "Partial depencence for numeric variables",
           "carat"
          ],
          [
           4330.94677734375,
           "Partial depencence for numeric variables",
           "carat"
          ],
          [
           4330.94677734375,
           "Partial depencence for numeric variables",
           "carat"
          ],
          [
           4330.94677734375,
           "Partial depencence for numeric variables",
           "carat"
          ],
          [
           4330.94677734375,
           "Partial depencence for numeric variables",
           "carat"
          ],
          [
           4330.94677734375,
           "Partial depencence for numeric variables",
           "carat"
          ],
          [
           4330.94677734375,
           "Partial depencence for numeric variables",
           "carat"
          ],
          [
           4330.94677734375,
           "Partial depencence for numeric variables",
           "carat"
          ],
          [
           4330.94677734375,
           "Partial depencence for numeric variables",
           "carat"
          ],
          [
           4330.94677734375,
           "Partial depencence for numeric variables",
           "carat"
          ],
          [
           4330.94677734375,
           "Partial depencence for numeric variables",
           "carat"
          ],
          [
           4330.94677734375,
           "Partial depencence for numeric variables",
           "carat"
          ],
          [
           4330.94677734375,
           "Partial depencence for numeric variables",
           "carat"
          ],
          [
           4330.94677734375,
           "Partial depencence for numeric variables",
           "carat"
          ],
          [
           4330.94677734375,
           "Partial depencence for numeric variables",
           "carat"
          ],
          [
           4330.94677734375,
           "Partial depencence for numeric variables",
           "carat"
          ],
          [
           4330.94677734375,
           "Partial depencence for numeric variables",
           "carat"
          ],
          [
           4330.94677734375,
           "Partial depencence for numeric variables",
           "carat"
          ],
          [
           4330.94677734375,
           "Partial depencence for numeric variables",
           "carat"
          ],
          [
           4330.94677734375,
           "Partial depencence for numeric variables",
           "carat"
          ],
          [
           4330.94677734375,
           "Partial depencence for numeric variables",
           "carat"
          ],
          [
           4330.94677734375,
           "Partial depencence for numeric variables",
           "carat"
          ],
          [
           4330.94677734375,
           "Partial depencence for numeric variables",
           "carat"
          ],
          [
           4330.94677734375,
           "Partial depencence for numeric variables",
           "carat"
          ],
          [
           4330.94677734375,
           "Partial depencence for numeric variables",
           "carat"
          ],
          [
           4330.94677734375,
           "Partial depencence for numeric variables",
           "carat"
          ],
          [
           4330.94677734375,
           "Partial depencence for numeric variables",
           "carat"
          ],
          [
           4330.94677734375,
           "Partial depencence for numeric variables",
           "carat"
          ],
          [
           4330.94677734375,
           "Partial depencence for numeric variables",
           "carat"
          ],
          [
           4330.94677734375,
           "Partial depencence for numeric variables",
           "carat"
          ],
          [
           4330.94677734375,
           "Partial depencence for numeric variables",
           "carat"
          ],
          [
           4330.94677734375,
           "Partial depencence for numeric variables",
           "carat"
          ],
          [
           4330.94677734375,
           "Partial depencence for numeric variables",
           "carat"
          ],
          [
           4330.94677734375,
           "Partial depencence for numeric variables",
           "carat"
          ],
          [
           4330.94677734375,
           "Partial depencence for numeric variables",
           "carat"
          ],
          [
           4330.94677734375,
           "Partial depencence for numeric variables",
           "carat"
          ],
          [
           4330.94677734375,
           "Partial depencence for numeric variables",
           "carat"
          ],
          [
           4330.94677734375,
           "Partial depencence for numeric variables",
           "carat"
          ],
          [
           4330.94677734375,
           "Partial depencence for numeric variables",
           "carat"
          ],
          [
           4330.94677734375,
           "Partial depencence for numeric variables",
           "carat"
          ],
          [
           4330.94677734375,
           "Partial depencence for numeric variables",
           "carat"
          ],
          [
           4330.94677734375,
           "Partial depencence for numeric variables",
           "carat"
          ],
          [
           4330.94677734375,
           "Partial depencence for numeric variables",
           "carat"
          ]
         ],
         "hovertemplate": "<b>%{hovertext}</b><br><br>prediction=%{y:.3f}<br>mean_prediction=%{customdata[0]:.3f}<extra></extra>",
         "hovertext": [
          "Partial depencence for numeric variables",
          "Partial depencence for numeric variables",
          "Partial depencence for numeric variables",
          "Partial depencence for numeric variables",
          "Partial depencence for numeric variables",
          "Partial depencence for numeric variables",
          "Partial depencence for numeric variables",
          "Partial depencence for numeric variables",
          "Partial depencence for numeric variables",
          "Partial depencence for numeric variables",
          "Partial depencence for numeric variables",
          "Partial depencence for numeric variables",
          "Partial depencence for numeric variables",
          "Partial depencence for numeric variables",
          "Partial depencence for numeric variables",
          "Partial depencence for numeric variables",
          "Partial depencence for numeric variables",
          "Partial depencence for numeric variables",
          "Partial depencence for numeric variables",
          "Partial depencence for numeric variables",
          "Partial depencence for numeric variables",
          "Partial depencence for numeric variables",
          "Partial depencence for numeric variables",
          "Partial depencence for numeric variables",
          "Partial depencence for numeric variables",
          "Partial depencence for numeric variables",
          "Partial depencence for numeric variables",
          "Partial depencence for numeric variables",
          "Partial depencence for numeric variables",
          "Partial depencence for numeric variables",
          "Partial depencence for numeric variables",
          "Partial depencence for numeric variables",
          "Partial depencence for numeric variables",
          "Partial depencence for numeric variables",
          "Partial depencence for numeric variables",
          "Partial depencence for numeric variables",
          "Partial depencence for numeric variables",
          "Partial depencence for numeric variables",
          "Partial depencence for numeric variables",
          "Partial depencence for numeric variables",
          "Partial depencence for numeric variables",
          "Partial depencence for numeric variables",
          "Partial depencence for numeric variables",
          "Partial depencence for numeric variables",
          "Partial depencence for numeric variables",
          "Partial depencence for numeric variables",
          "Partial depencence for numeric variables",
          "Partial depencence for numeric variables",
          "Partial depencence for numeric variables",
          "Partial depencence for numeric variables",
          "Partial depencence for numeric variables",
          "Partial depencence for numeric variables",
          "Partial depencence for numeric variables",
          "Partial depencence for numeric variables",
          "Partial depencence for numeric variables",
          "Partial depencence for numeric variables",
          "Partial depencence for numeric variables",
          "Partial depencence for numeric variables",
          "Partial depencence for numeric variables",
          "Partial depencence for numeric variables",
          "Partial depencence for numeric variables",
          "Partial depencence for numeric variables",
          "Partial depencence for numeric variables",
          "Partial depencence for numeric variables",
          "Partial depencence for numeric variables",
          "Partial depencence for numeric variables",
          "Partial depencence for numeric variables",
          "Partial depencence for numeric variables",
          "Partial depencence for numeric variables",
          "Partial depencence for numeric variables",
          "Partial depencence for numeric variables",
          "Partial depencence for numeric variables",
          "Partial depencence for numeric variables",
          "Partial depencence for numeric variables",
          "Partial depencence for numeric variables",
          "Partial depencence for numeric variables",
          "Partial depencence for numeric variables",
          "Partial depencence for numeric variables",
          "Partial depencence for numeric variables",
          "Partial depencence for numeric variables",
          "Partial depencence for numeric variables",
          "Partial depencence for numeric variables",
          "Partial depencence for numeric variables",
          "Partial depencence for numeric variables",
          "Partial depencence for numeric variables",
          "Partial depencence for numeric variables",
          "Partial depencence for numeric variables",
          "Partial depencence for numeric variables",
          "Partial depencence for numeric variables",
          "Partial depencence for numeric variables",
          "Partial depencence for numeric variables",
          "Partial depencence for numeric variables",
          "Partial depencence for numeric variables",
          "Partial depencence for numeric variables",
          "Partial depencence for numeric variables",
          "Partial depencence for numeric variables",
          "Partial depencence for numeric variables",
          "Partial depencence for numeric variables",
          "Partial depencence for numeric variables",
          "Partial depencence for numeric variables",
          "Partial depencence for numeric variables"
         ],
         "legendgroup": "Partial depencence for numeric variables",
         "line": {
          "color": "#46bac2",
          "dash": "solid",
          "width": 2
         },
         "marker": {
          "symbol": "circle"
         },
         "mode": "lines",
         "name": "Partial depencence for numeric variables",
         "opacity": 1,
         "orientation": "v",
         "showlegend": true,
         "type": "scatter",
         "x": [
          0.2,
          0.2393,
          0.2786,
          0.31789999999999996,
          0.35719999999999996,
          0.39649999999999996,
          0.43579999999999997,
          0.47509999999999997,
          0.5144,
          0.5537,
          0.593,
          0.6323,
          0.6716,
          0.7108999999999999,
          0.7502,
          0.7894999999999999,
          0.8288,
          0.8680999999999999,
          0.9074,
          0.9466999999999999,
          0.986,
          1.0252999999999999,
          1.0646,
          1.1038999999999999,
          1.1431999999999998,
          1.1824999999999999,
          1.2217999999999998,
          1.2610999999999999,
          1.3003999999999998,
          1.3397,
          1.3789999999999998,
          1.4183,
          1.4575999999999998,
          1.4968999999999997,
          1.5361999999999998,
          1.5754999999999997,
          1.6147999999999998,
          1.6540999999999997,
          1.6933999999999998,
          1.7326999999999997,
          1.7719999999999998,
          1.8112999999999997,
          1.8505999999999998,
          1.8898999999999997,
          1.9291999999999998,
          1.9684999999999997,
          2.0078,
          2.0471,
          2.0864,
          2.1256999999999997,
          2.1649999999999996,
          2.2043,
          2.2436,
          2.2828999999999997,
          2.3222,
          2.3615,
          2.4008,
          2.4400999999999997,
          2.4794,
          2.5187,
          2.558,
          2.5972999999999997,
          2.6366,
          2.6759,
          2.7152,
          2.7544999999999997,
          2.7937999999999996,
          2.8331,
          2.8724,
          2.9116999999999997,
          2.9509999999999996,
          2.9903,
          3.0296,
          3.0688999999999997,
          3.1081999999999996,
          3.1475,
          3.1868,
          3.2260999999999997,
          3.2653999999999996,
          3.3047,
          3.344,
          3.3832999999999998,
          3.4225999999999996,
          3.4618999999999995,
          3.5012,
          3.5404999999999998,
          3.5797999999999996,
          3.6190999999999995,
          3.6584,
          3.6976999999999998,
          3.7369999999999997,
          3.7762999999999995,
          3.8156,
          3.8548999999999998,
          3.8941999999999997,
          3.9334999999999996,
          3.9727999999999994,
          4.012099999999999,
          4.051399999999999,
          4.090699999999999,
          4.13
         ],
         "xaxis": "x",
         "y": [
          301.1309509277344,
          407.9057922363281,
          516.4222412109375,
          626.2276611328125,
          739.61376953125,
          866.69384765625,
          1019.42578125,
          1199.7041015625,
          1402.8905029296875,
          1621.3126220703125,
          1853.271484375,
          2099.86279296875,
          2362.445556640625,
          2641.149169921875,
          2935.708740234375,
          3250.932373046875,
          3593.691650390625,
          3978.650634765625,
          4435.31494140625,
          4973.037109375,
          5512.80029296875,
          5877.47705078125,
          6227.27978515625,
          6600.7236328125,
          6997.47607421875,
          7412.2353515625,
          7842.96044921875,
          8293.44921875,
          8769.4326171875,
          9266.076171875,
          9776.2216796875,
          10298.728515625,
          10845.59765625,
          11403.9541015625,
          11965.34375,
          12519.0283203125,
          13060.0166015625,
          13575.9287109375,
          14068.375,
          14544.1953125,
          14990.1083984375,
          15413.0185546875,
          15820.2685546875,
          16196.5703125,
          16537.12109375,
          16850.103515625,
          17130.63671875,
          17376.490234375,
          17602.1484375,
          17811.673828125,
          18010.01171875,
          18203.7734375,
          18391.1640625,
          18575.375,
          18757.75,
          18938.5546875,
          19118.623046875,
          19297.880859375,
          19476.0234375,
          19652.849609375,
          19827.880859375,
          20002.83203125,
          20177.63671875,
          20351.82421875,
          20524.427734375,
          20696.0703125,
          20866.92578125,
          21037.42578125,
          21207.818359375,
          21378.076171875,
          21548.328125,
          21718.634765625,
          21888.87890625,
          22058.255859375,
          22227.62890625,
          22397.001953125,
          22566.302734375,
          22735.076171875,
          22903.388671875,
          23071.431640625,
          23239.4765625,
          23407.53515625,
          23575.59375,
          23743.65234375,
          23911.7109375,
          24079.685546875,
          24247.36328125,
          24414.95703125,
          24582.064453125,
          24748.98046875,
          24915.84375,
          25082.73046875,
          25249.6640625,
          25416.61328125,
          25583.560546875,
          25750.54296875,
          25917.951171875,
          26086.37890625,
          26255.51953125,
          26424.76171875,
          26594.447265625
         ],
         "yaxis": "y"
        }
       ],
       "layout": {
        "annotations": [
         {
          "font": {
           "size": 13
          },
          "showarrow": false,
          "text": "carat",
          "x": 0.5,
          "xanchor": "center",
          "xref": "paper",
          "y": 1,
          "yanchor": "bottom",
          "yref": "paper"
         },
         {
          "font": {
           "size": 13
          },
          "showarrow": false,
          "text": "prediction",
          "textangle": -90,
          "x": -0.07,
          "xref": "paper",
          "y": 0.5,
          "yref": "paper"
         }
        ],
        "font": {
         "color": "#371ea3"
        },
        "height": 489,
        "hovermode": "x unified",
        "legend": {
         "font": {
          "size": 11
         },
         "itemsizing": "constant",
         "orientation": "h",
         "title": {
          "font": {
           "size": 12
          },
          "text": "label"
         },
         "tracegroupgap": 0,
         "x": 1,
         "xanchor": "right",
         "y": 1.0613496932515338,
         "yanchor": "bottom"
        },
        "margin": {
         "b": 71,
         "r": 30,
         "t": 78
        },
        "template": {
         "data": {
          "scatter": [
           {
            "type": "scatter"
           }
          ]
         }
        },
        "title": {
         "font": {
          "size": 16
         },
         "text": "Aggregated Profiles",
         "x": 0.15
        },
        "xaxis": {
         "anchor": "y",
         "automargin": true,
         "domain": [
          0,
          1
         ],
         "fixedrange": true,
         "gridwidth": 2,
         "showticklabels": true,
         "tickcolor": "white",
         "ticklen": 3,
         "ticks": "outside",
         "title": {
          "text": ""
         },
         "type": "linear",
         "zeroline": false
        },
        "yaxis": {
         "anchor": "x",
         "automargin": true,
         "domain": [
          0,
          1
         ],
         "fixedrange": true,
         "gridwidth": 2,
         "range": [
          -2328.2006896972657,
          29223.77890625
         ],
         "tickcolor": "white",
         "ticklen": 3,
         "ticks": "outside",
         "title": {
          "text": ""
         },
         "type": "linear",
         "zeroline": false
        }
       }
      }
     },
     "metadata": {},
     "output_type": "display_data"
    },
    {
     "name": "stderr",
     "output_type": "stream",
     "text": [
      "C:\\Users\\Michael\\anaconda3\\envs\\ml_lecture\\lib\\site-packages\\dalex\\predict_explanations\\_ceteris_paribus\\checks.py:16: UserWarning:\n",
      "\n",
      "Variables taken from variables_splits\n",
      "\n"
     ]
    },
    {
     "data": {
      "application/vnd.plotly.v1+json": {
       "config": {
        "displaylogo": false,
        "modeBarButtonsToRemove": [
         "sendDataToCloud",
         "lasso2d",
         "autoScale2d",
         "select2d",
         "zoom2d",
         "pan2d",
         "zoomIn2d",
         "zoomOut2d",
         "resetScale2d",
         "toggleSpikelines",
         "hoverCompareCartesian",
         "hoverClosestCartesian"
        ],
        "plotlyServerURL": "https://plot.ly",
        "staticPlot": false,
        "toImageButtonOptions": {
         "height": null,
         "width": null
        }
       },
       "data": [
        {
         "alignmentgroup": "True",
         "base": [
          3688.220947265625,
          3688.220947265625,
          3688.220947265625,
          3688.220947265625,
          3688.220947265625
         ],
         "customdata": [
          [
           3228.80322265625,
           "Partial depencence for ordinal variables",
           "cut"
          ],
          [
           3500.97314453125,
           "Partial depencence for ordinal variables",
           "cut"
          ],
          [
           3634.946044921875,
           "Partial depencence for ordinal variables",
           "cut"
          ],
          [
           3700.236083984375,
           "Partial depencence for ordinal variables",
           "cut"
          ],
          [
           3817.643798828125,
           "Partial depencence for ordinal variables",
           "cut"
          ]
         ],
         "hovertemplate": "<b>%{hovertext}</b><br><br>mean_prediction=%{base:.3f}<br>prediction=%{customdata[0]:.3f}<extra></extra>",
         "hovertext": [
          "Partial depencence for ordinal variables",
          "Partial depencence for ordinal variables",
          "Partial depencence for ordinal variables",
          "Partial depencence for ordinal variables",
          "Partial depencence for ordinal variables"
         ],
         "legendgroup": "Partial depencence for ordinal variables",
         "marker": {
          "color": "#46bac2",
          "pattern": {
           "shape": ""
          }
         },
         "name": "Partial depencence for ordinal variables",
         "offsetgroup": "Partial depencence for ordinal variables",
         "orientation": "v",
         "showlegend": true,
         "textposition": "auto",
         "type": "bar",
         "x": [
          "Fair",
          "Good",
          "Very Good",
          "Premium",
          "Ideal"
         ],
         "xaxis": "x3",
         "y": [
          -459.417724609375,
          -187.247802734375,
          -53.27490234375,
          12.01513671875,
          129.4228515625
         ],
         "yaxis": "y3"
        },
        {
         "alignmentgroup": "True",
         "base": [
          3688.220947265625,
          3688.220947265625,
          3688.220947265625,
          3688.220947265625,
          3688.220947265625,
          3688.220947265625,
          3688.220947265625
         ],
         "customdata": [
          [
           4559.994140625,
           "Partial depencence for ordinal variables",
           "color"
          ],
          [
           4323.24560546875,
           "Partial depencence for ordinal variables",
           "color"
          ],
          [
           4080.506103515625,
           "Partial depencence for ordinal variables",
           "color"
          ],
          [
           3808.283447265625,
           "Partial depencence for ordinal variables",
           "color"
          ],
          [
           3467.500732421875,
           "Partial depencence for ordinal variables",
           "color"
          ],
          [
           3079.812744140625,
           "Partial depencence for ordinal variables",
           "color"
          ],
          [
           2694.189453125,
           "Partial depencence for ordinal variables",
           "color"
          ]
         ],
         "hovertemplate": "<b>%{hovertext}</b><br><br>mean_prediction=%{base:.3f}<br>prediction=%{customdata[0]:.3f}<extra></extra>",
         "hovertext": [
          "Partial depencence for ordinal variables",
          "Partial depencence for ordinal variables",
          "Partial depencence for ordinal variables",
          "Partial depencence for ordinal variables",
          "Partial depencence for ordinal variables",
          "Partial depencence for ordinal variables",
          "Partial depencence for ordinal variables"
         ],
         "legendgroup": "Partial depencence for ordinal variables",
         "marker": {
          "color": "#46bac2",
          "pattern": {
           "shape": ""
          }
         },
         "name": "Partial depencence for ordinal variables",
         "offsetgroup": "Partial depencence for ordinal variables",
         "orientation": "v",
         "showlegend": false,
         "textposition": "auto",
         "type": "bar",
         "x": [
          "D",
          "E",
          "F",
          "G",
          "H",
          "I",
          "J"
         ],
         "xaxis": "x4",
         "y": [
          871.773193359375,
          635.024658203125,
          392.28515625,
          120.0625,
          -220.72021484375,
          -608.408203125,
          -994.031494140625
         ],
         "yaxis": "y4"
        },
        {
         "alignmentgroup": "True",
         "base": [
          3688.220947265625,
          3688.220947265625,
          3688.220947265625,
          3688.220947265625,
          3688.220947265625,
          3688.220947265625,
          3688.220947265625,
          3688.220947265625
         ],
         "customdata": [
          [
           1949.83056640625,
           "Partial depencence for ordinal variables",
           "clarity"
          ],
          [
           2882.337890625,
           "Partial depencence for ordinal variables",
           "clarity"
          ],
          [
           3403.408447265625,
           "Partial depencence for ordinal variables",
           "clarity"
          ],
          [
           3921.3701171875,
           "Partial depencence for ordinal variables",
           "clarity"
          ],
          [
           4306.3916015625,
           "Partial depencence for ordinal variables",
           "clarity"
          ],
          [
           4705.3486328125,
           "Partial depencence for ordinal variables",
           "clarity"
          ],
          [
           5140.95263671875,
           "Partial depencence for ordinal variables",
           "clarity"
          ],
          [
           5640.1748046875,
           "Partial depencence for ordinal variables",
           "clarity"
          ]
         ],
         "hovertemplate": "<b>%{hovertext}</b><br><br>mean_prediction=%{base:.3f}<br>prediction=%{customdata[0]:.3f}<extra></extra>",
         "hovertext": [
          "Partial depencence for ordinal variables",
          "Partial depencence for ordinal variables",
          "Partial depencence for ordinal variables",
          "Partial depencence for ordinal variables",
          "Partial depencence for ordinal variables",
          "Partial depencence for ordinal variables",
          "Partial depencence for ordinal variables",
          "Partial depencence for ordinal variables"
         ],
         "legendgroup": "Partial depencence for ordinal variables",
         "marker": {
          "color": "#46bac2",
          "pattern": {
           "shape": ""
          }
         },
         "name": "Partial depencence for ordinal variables",
         "offsetgroup": "Partial depencence for ordinal variables",
         "orientation": "v",
         "showlegend": false,
         "textposition": "auto",
         "type": "bar",
         "x": [
          "I1",
          "SI2",
          "SI1",
          "VS2",
          "VS1",
          "VVS2",
          "VVS1",
          "IF"
         ],
         "xaxis": "x",
         "y": [
          -1738.390380859375,
          -805.883056640625,
          -284.8125,
          233.149169921875,
          618.170654296875,
          1017.127685546875,
          1452.731689453125,
          1951.953857421875
         ],
         "yaxis": "y"
        }
       ],
       "layout": {
        "annotations": [
         {
          "font": {
           "size": 13
          },
          "showarrow": false,
          "text": "clarity",
          "x": 0.2375,
          "xanchor": "center",
          "xref": "paper",
          "y": 0.425,
          "yanchor": "bottom",
          "yref": "paper"
         },
         {
          "font": {
           "size": 13
          },
          "showarrow": false,
          "text": "cut",
          "x": 0.2375,
          "xanchor": "center",
          "xref": "paper",
          "y": 1,
          "yanchor": "bottom",
          "yref": "paper"
         },
         {
          "font": {
           "size": 13
          },
          "showarrow": false,
          "text": "color",
          "x": 0.7625,
          "xanchor": "center",
          "xref": "paper",
          "y": 1,
          "yanchor": "bottom",
          "yref": "paper"
         },
         {
          "font": {
           "size": 13
          },
          "showarrow": false,
          "text": "prediction",
          "textangle": -90,
          "x": -0.07,
          "xref": "paper",
          "y": 0.5,
          "yref": "paper"
         }
        ],
        "barmode": "group",
        "font": {
         "color": "#371ea3"
        },
        "height": 829,
        "hovermode": "x unified",
        "legend": {
         "font": {
          "size": 11
         },
         "itemsizing": "constant",
         "orientation": "h",
         "title": {
          "font": {
           "size": 12
          },
          "text": "label"
         },
         "tracegroupgap": 0,
         "x": 1,
         "xanchor": "right",
         "y": 1.0361881785283473,
         "yanchor": "bottom"
        },
        "margin": {
         "b": 71,
         "r": 30,
         "t": 78
        },
        "shapes": [
         {
          "layer": "below",
          "line": {
           "color": "#371ea3",
           "dash": "dot",
           "width": 1.5
          },
          "type": "line",
          "x0": 0,
          "x1": 1,
          "xref": "x domain",
          "y0": 3688.220947265625,
          "y1": 3688.220947265625,
          "yref": "y"
         },
         {
          "layer": "below",
          "line": {
           "color": "#371ea3",
           "dash": "dot",
           "width": 1.5
          },
          "type": "line",
          "x0": 0,
          "x1": 1,
          "xref": "x3 domain",
          "y0": 3688.220947265625,
          "y1": 3688.220947265625,
          "yref": "y3"
         },
         {
          "layer": "below",
          "line": {
           "color": "#371ea3",
           "dash": "dot",
           "width": 1.5
          },
          "type": "line",
          "x0": 0,
          "x1": 1,
          "xref": "x4 domain",
          "y0": 3688.220947265625,
          "y1": 3688.220947265625,
          "yref": "y4"
         },
         {
          "layer": "below",
          "line": {
           "color": "#371ea3",
           "dash": "dot",
           "width": 1.5
          },
          "type": "line",
          "x0": 0,
          "x1": 1,
          "xref": "x domain",
          "y0": 3688.220947265625,
          "y1": 3688.220947265625,
          "yref": "y"
         },
         {
          "layer": "below",
          "line": {
           "color": "#371ea3",
           "dash": "dot",
           "width": 1.5
          },
          "type": "line",
          "x0": 0,
          "x1": 1,
          "xref": "x3 domain",
          "y0": 3688.220947265625,
          "y1": 3688.220947265625,
          "yref": "y3"
         },
         {
          "layer": "below",
          "line": {
           "color": "#371ea3",
           "dash": "dot",
           "width": 1.5
          },
          "type": "line",
          "x0": 0,
          "x1": 1,
          "xref": "x4 domain",
          "y0": 3688.220947265625,
          "y1": 3688.220947265625,
          "yref": "y4"
         },
         {
          "layer": "below",
          "line": {
           "color": "#371ea3",
           "dash": "dot",
           "width": 1.5
          },
          "type": "line",
          "x0": 0,
          "x1": 1,
          "xref": "x domain",
          "y0": 3688.220947265625,
          "y1": 3688.220947265625,
          "yref": "y"
         },
         {
          "layer": "below",
          "line": {
           "color": "#371ea3",
           "dash": "dot",
           "width": 1.5
          },
          "type": "line",
          "x0": 0,
          "x1": 1,
          "xref": "x3 domain",
          "y0": 3688.220947265625,
          "y1": 3688.220947265625,
          "yref": "y3"
         },
         {
          "layer": "below",
          "line": {
           "color": "#371ea3",
           "dash": "dot",
           "width": 1.5
          },
          "type": "line",
          "x0": 0,
          "x1": 1,
          "xref": "x4 domain",
          "y0": 3688.220947265625,
          "y1": 3688.220947265625,
          "yref": "y4"
         }
        ],
        "template": {
         "data": {
          "scatter": [
           {
            "type": "scatter"
           }
          ]
         }
        },
        "title": {
         "font": {
          "size": 16
         },
         "text": "Aggregated Profiles",
         "x": 0.15
        },
        "xaxis": {
         "anchor": "y",
         "automargin": true,
         "domain": [
          0,
          0.475
         ],
         "fixedrange": true,
         "gridwidth": 2,
         "showticklabels": true,
         "tickcolor": "white",
         "ticklen": 10,
         "ticks": "outside",
         "title": {
          "text": ""
         },
         "type": "category"
        },
        "xaxis2": {
         "anchor": "y2",
         "automargin": true,
         "domain": [
          0.525,
          1
         ],
         "fixedrange": true,
         "gridwidth": 2,
         "showticklabels": true,
         "tickcolor": "white",
         "ticklen": 10,
         "ticks": "outside",
         "title": {
          "text": ""
         },
         "type": "category"
        },
        "xaxis3": {
         "anchor": "y3",
         "automargin": true,
         "domain": [
          0,
          0.475
         ],
         "fixedrange": true,
         "gridwidth": 2,
         "showticklabels": true,
         "tickcolor": "white",
         "ticklen": 10,
         "ticks": "outside",
         "title": {
          "text": ""
         },
         "type": "category"
        },
        "xaxis4": {
         "anchor": "y4",
         "automargin": true,
         "domain": [
          0.525,
          1
         ],
         "fixedrange": true,
         "gridwidth": 2,
         "showticklabels": true,
         "tickcolor": "white",
         "ticklen": 10,
         "ticks": "outside",
         "title": {
          "text": ""
         },
         "type": "category"
        },
        "yaxis": {
         "anchor": "x",
         "automargin": true,
         "domain": [
          0,
          0.425
         ],
         "fixedrange": true,
         "gridwidth": 2,
         "range": [
          1580.796142578125,
          6009.209228515625
         ],
         "tickcolor": "white",
         "ticklen": 3,
         "ticks": "outside",
         "title": {
          "text": ""
         },
         "type": "linear",
         "zeroline": false
        },
        "yaxis2": {
         "anchor": "x2",
         "automargin": true,
         "domain": [
          0,
          0.425
         ],
         "fixedrange": true,
         "gridwidth": 2,
         "matches": "y",
         "range": [
          1580.796142578125,
          6009.209228515625
         ],
         "showticklabels": false,
         "tickcolor": "white",
         "ticklen": 3,
         "ticks": "outside",
         "title": {
          "text": ""
         },
         "type": "linear",
         "zeroline": false
        },
        "yaxis3": {
         "anchor": "x3",
         "automargin": true,
         "domain": [
          0.575,
          1
         ],
         "fixedrange": true,
         "gridwidth": 2,
         "matches": "y",
         "range": [
          1580.796142578125,
          6009.209228515625
         ],
         "tickcolor": "white",
         "ticklen": 3,
         "ticks": "outside",
         "title": {
          "text": ""
         },
         "type": "linear",
         "zeroline": false
        },
        "yaxis4": {
         "anchor": "x4",
         "automargin": true,
         "domain": [
          0.575,
          1
         ],
         "fixedrange": true,
         "gridwidth": 2,
         "matches": "y",
         "range": [
          1580.796142578125,
          6009.209228515625
         ],
         "showticklabels": false,
         "tickcolor": "white",
         "ticklen": 3,
         "ticks": "outside",
         "title": {
          "text": ""
         },
         "type": "linear",
         "zeroline": false
        }
       }
      }
     },
     "metadata": {},
     "output_type": "display_data"
    }
   ],
   "source": [
    "# Interpretation\n",
    "import dalex as dx\n",
    "\n",
    "# Set up explainer\n",
    "def pred_fun(m, X):\n",
    "    return m.predict(preprocessor.transform(X), batch_size=1000).flatten()\n",
    "\n",
    "exp = dx.Explainer(\n",
    "    model, \n",
    "    data=df_valid[ord_features + [\"carat\"]], \n",
    "    y=y_valid, \n",
    "    predict_function=pred_fun, \n",
    "    verbose=False\n",
    ")\n",
    "\n",
    "# Performance\n",
    "mp = exp.model_performance(model_type=\"regression\")\n",
    "print(\"Performance\\n\", mp.result)\n",
    "\n",
    "# Permutation importance\n",
    "vi = exp.model_parts()\n",
    "vi.plot()\n",
    "\n",
    "# Partial dependence\n",
    "pdp_num = exp.model_profile(\n",
    "    type=\"partial\",\n",
    "    label=\"Partial depencence for numeric variables\",\n",
    "    variables=[\"carat\"],\n",
    "    verbose=False\n",
    ")\n",
    "pdp_num.plot()\n",
    "\n",
    "pdp_ord = exp.model_profile(\n",
    "    type=\"partial\",\n",
    "    label=\"Partial depencence for ordinal variables\",\n",
    "    variables=ord_features,\n",
    "    variable_type=\"categorical\",\n",
    "    variable_splits=dict(zip(ord_features, ord_levels)),\n",
    "    verbose=False\n",
    ")\n",
    "pdp_ord.plot()"
   ]
  },
  {
   "cell_type": "markdown",
   "metadata": {},
   "source": [
    "**Comments** \n",
    "\n",
    "- The model performance seems comparable to the tree-based models from the last chapter. The specific performance might change from run to run due to randomness in the algorithm.\n",
    "- The effect of `carat` looks smoother as with random forests or boosted trees.\n",
    "\n",
    "# Example: Embeddings (optional)\n",
    "\n",
    "Representing categorical input variables through embedding layers is extremely useful in practice. We will end this chapter with an example on how to do it with the claims data. This example also shows how flexible neural network structures are."
   ]
  },
  {
   "cell_type": "code",
   "execution_count": 147,
   "metadata": {},
   "outputs": [
    {
     "data": {
      "text/html": [
       "<div>\n",
       "<style scoped>\n",
       "    .dataframe tbody tr th:only-of-type {\n",
       "        vertical-align: middle;\n",
       "    }\n",
       "\n",
       "    .dataframe tbody tr th {\n",
       "        vertical-align: top;\n",
       "    }\n",
       "\n",
       "    .dataframe thead th {\n",
       "        text-align: right;\n",
       "    }\n",
       "</style>\n",
       "<table border=\"1\" class=\"dataframe\">\n",
       "  <thead>\n",
       "    <tr style=\"text-align: right;\">\n",
       "      <th></th>\n",
       "      <th>veh_value</th>\n",
       "      <th>exposure</th>\n",
       "      <th>clm</th>\n",
       "      <th>numclaims</th>\n",
       "      <th>claimcst0</th>\n",
       "      <th>veh_body</th>\n",
       "      <th>veh_age</th>\n",
       "      <th>gender</th>\n",
       "      <th>area</th>\n",
       "      <th>agecat</th>\n",
       "      <th>_OBSTAT_</th>\n",
       "    </tr>\n",
       "  </thead>\n",
       "  <tbody>\n",
       "    <tr>\n",
       "      <th>0</th>\n",
       "      <td>1.06</td>\n",
       "      <td>0.303901</td>\n",
       "      <td>0</td>\n",
       "      <td>0</td>\n",
       "      <td>0.0</td>\n",
       "      <td>HBACK</td>\n",
       "      <td>3</td>\n",
       "      <td>F</td>\n",
       "      <td>C</td>\n",
       "      <td>2</td>\n",
       "      <td>01101    0    0    0</td>\n",
       "    </tr>\n",
       "    <tr>\n",
       "      <th>1</th>\n",
       "      <td>1.03</td>\n",
       "      <td>0.648871</td>\n",
       "      <td>0</td>\n",
       "      <td>0</td>\n",
       "      <td>0.0</td>\n",
       "      <td>HBACK</td>\n",
       "      <td>2</td>\n",
       "      <td>F</td>\n",
       "      <td>A</td>\n",
       "      <td>4</td>\n",
       "      <td>01101    0    0    0</td>\n",
       "    </tr>\n",
       "    <tr>\n",
       "      <th>2</th>\n",
       "      <td>3.26</td>\n",
       "      <td>0.569473</td>\n",
       "      <td>0</td>\n",
       "      <td>0</td>\n",
       "      <td>0.0</td>\n",
       "      <td>UTE</td>\n",
       "      <td>2</td>\n",
       "      <td>F</td>\n",
       "      <td>E</td>\n",
       "      <td>2</td>\n",
       "      <td>01101    0    0    0</td>\n",
       "    </tr>\n",
       "    <tr>\n",
       "      <th>3</th>\n",
       "      <td>4.14</td>\n",
       "      <td>0.317591</td>\n",
       "      <td>0</td>\n",
       "      <td>0</td>\n",
       "      <td>0.0</td>\n",
       "      <td>STNWG</td>\n",
       "      <td>2</td>\n",
       "      <td>F</td>\n",
       "      <td>D</td>\n",
       "      <td>2</td>\n",
       "      <td>01101    0    0    0</td>\n",
       "    </tr>\n",
       "    <tr>\n",
       "      <th>4</th>\n",
       "      <td>0.72</td>\n",
       "      <td>0.648871</td>\n",
       "      <td>0</td>\n",
       "      <td>0</td>\n",
       "      <td>0.0</td>\n",
       "      <td>HBACK</td>\n",
       "      <td>4</td>\n",
       "      <td>F</td>\n",
       "      <td>C</td>\n",
       "      <td>2</td>\n",
       "      <td>01101    0    0    0</td>\n",
       "    </tr>\n",
       "  </tbody>\n",
       "</table>\n",
       "</div>"
      ],
      "text/plain": [
       "   veh_value  exposure  clm  numclaims  claimcst0 veh_body  veh_age gender  \\\n",
       "0       1.06  0.303901    0          0        0.0    HBACK        3      F   \n",
       "1       1.03  0.648871    0          0        0.0    HBACK        2      F   \n",
       "2       3.26  0.569473    0          0        0.0      UTE        2      F   \n",
       "3       4.14  0.317591    0          0        0.0    STNWG        2      F   \n",
       "4       0.72  0.648871    0          0        0.0    HBACK        4      F   \n",
       "\n",
       "  area  agecat              _OBSTAT_  \n",
       "0    C       2  01101    0    0    0  \n",
       "1    A       4  01101    0    0    0  \n",
       "2    E       2  01101    0    0    0  \n",
       "3    D       2  01101    0    0    0  \n",
       "4    C       2  01101    0    0    0  "
      ]
     },
     "execution_count": 147,
     "metadata": {},
     "output_type": "execute_result"
    }
   ],
   "source": [
    "import numpy as np\n",
    "import pandas as pd\n",
    "import tensorflow as tf\n",
    "from tensorflow import keras\n",
    "from tensorflow.keras import layers\n",
    "from tensorflow.keras.metrics import RootMeanSquaredError as RMSE\n",
    "\n",
    "car = pd.read_csv(\"car.csv\")  # see readme how to get the data\n",
    "car.head()"
   ]
  },
  {
   "cell_type": "code",
   "execution_count": 148,
   "metadata": {},
   "outputs": [
    {
     "data": {
      "text/plain": [
       "{'dense1': array([[ 1.14978787, -1.23978753, -0.54677517,  1.2453385 ,  1.06238257],\n",
       "        [-0.86972565,  0.85626104, -0.40579865,  0.30841342, -1.74556725],\n",
       "        [-0.86972565, -1.23978753, -0.30628581, -0.62851166,  1.76437003],\n",
       "        [-0.86972565,  0.15757819, -0.09067466, -1.56543674, -1.0435798 ],\n",
       "        [ 1.14978787,  0.85626104,  1.65079999, -1.56543674,  1.76437003]]),\n",
       " 'veh_body': array([[10.],\n",
       "        [ 9.],\n",
       "        [ 3.],\n",
       "        [ 3.],\n",
       "        [12.]])}"
      ]
     },
     "execution_count": 148,
     "metadata": {},
     "output_type": "execute_result"
    }
   ],
   "source": [
    "from sklearn.preprocessing import OrdinalEncoder, StandardScaler\n",
    "from sklearn.compose import ColumnTransformer\n",
    "from sklearn.pipeline import make_pipeline\n",
    "from sklearn.model_selection import train_test_split\n",
    "from sklearn.metrics import log_loss\n",
    "\n",
    "ord_features = [\"gender\", \"area\"]\n",
    "num_features = [\"veh_value\", \"veh_age\", \"agecat\"]\n",
    "dense_features = ord_features + num_features\n",
    "\n",
    "# Preprocess dense features, i.e. everything except \"veh_body\"\n",
    "prepare_dense = make_pipeline(\n",
    "    ColumnTransformer(\n",
    "        transformers=[\n",
    "            (\"ordinal\", OrdinalEncoder(), ord_features),\n",
    "            (\"numeric\", \"passthrough\", num_features)\n",
    "        ]\n",
    "    ),\n",
    "    StandardScaler()\n",
    ")\n",
    "\n",
    "# Preprocess \"veh_body\"\n",
    "prepare_embedding = ColumnTransformer(\n",
    "    transformers=[(\"embedding\", OrdinalEncoder(), [\"veh_body\"])]\n",
    ")\n",
    "\n",
    "# Train/valid split\n",
    "df_train, df_valid, y_train, y_valid = train_test_split(\n",
    "    car, \n",
    "    car[\"clm\"], \n",
    "    test_size=0.2, \n",
    "    stratify=car[\"clm\"],\n",
    "    random_state=3341\n",
    ")\n",
    "\n",
    "prepare_dense.fit(df_train)\n",
    "prepare_embedding.fit(df_train)\n",
    "\n",
    "# Function that turns a DataFrame into a dict of input components for the net\n",
    "def dict_provider(df):\n",
    "    return {\n",
    "        \"dense1\": prepare_dense.transform(df), \n",
    "        \"veh_body\": prepare_embedding.transform(df)\n",
    "    }\n",
    "dict_provider(df_valid.head())  # Test"
   ]
  },
  {
   "cell_type": "code",
   "execution_count": 149,
   "metadata": {},
   "outputs": [],
   "source": [
    "# Inputs\n",
    "input_dense = keras.Input(shape=(len(dense_features),), name=\"dense1\")\n",
    "input_veh_body = keras.Input(shape=1, name = \"veh_body\")\n",
    "\n",
    "# Embedding of veh_body\n",
    "emb = layers.Embedding(\n",
    "    input_dim=df_train[\"veh_body\"].nunique(), \n",
    "    output_dim=1\n",
    ")(input_veh_body)\n",
    "emb = layers.Flatten()(emb)\n",
    "\n",
    "# Combine dense input and embedding and connect to output\n",
    "x = layers.Concatenate()([input_dense, emb]) \n",
    "x = layers.Dense(30, activation=\"tanh\")(x)\n",
    "outputs = layers.Dense(1, activation=\"sigmoid\")(x)\n",
    "\n",
    "# Input\n",
    "inputs = {\"dense1\": input_dense, \"veh_body\": input_veh_body}\n",
    "\n",
    "# Create model\n",
    "model = keras.Model(inputs=inputs, outputs=outputs)\n",
    "# model.summary()\n",
    "\n",
    "# Compile model\n",
    "model.compile(\n",
    "    loss=\"binary_crossentropy\",\n",
    "    optimizer=keras.optimizers.Adam(learning_rate=0.0001)\n",
    ")\n",
    "  \n",
    "# Callbacks\n",
    "cb = [\n",
    "    keras.callbacks.EarlyStopping(patience=20),\n",
    "    keras.callbacks.ReduceLROnPlateau(patience=5)\n",
    "]\n",
    "\n",
    "# Fit model\n",
    "tf.random.set_seed(3338)\n",
    "history = model.fit(\n",
    "    x=dict_provider(df_train),\n",
    "    y=y_train,\n",
    "    epochs=1000,\n",
    "    batch_size=400, \n",
    "    validation_data=(dict_provider(df_valid), y_valid),\n",
    "    callbacks=cb,\n",
    "    verbose=0\n",
    ")     \n"
   ]
  },
  {
   "cell_type": "code",
   "execution_count": 150,
   "metadata": {},
   "outputs": [
    {
     "data": {
      "image/png": "[encoded data removed]",
      "text/plain": [
       "<Figure size 432x288 with 1 Axes>"
      ]
     },
     "metadata": {
      "needs_background": "light"
     },
     "output_type": "display_data"
    }
   ],
   "source": [
    "# Training log-loss over epochs\n",
    "import matplotlib.pyplot as plt\n",
    "plt.plot(history.history[\"loss\"])\n",
    "plt.plot(history.history[\"val_loss\"], color=\"orange\")\n",
    "plt.title(\"Training loss over epochs\")\n",
    "plt.legend([\"Training\", \"Validation\"])\n",
    "plt.xlabel(\"Epoch\")\n",
    "plt.grid();"
   ]
  },
  {
   "cell_type": "code",
   "execution_count": 151,
   "metadata": {},
   "outputs": [
    {
     "name": "stdout",
     "output_type": "stream",
     "text": [
      "Validation log-loss: \t\t\t 0.24877\n",
      "Relative improvement in log-loss: \t 0.000296\n"
     ]
    },
    {
     "data": {
      "application/vnd.plotly.v1+json": {
       "config": {
        "displaylogo": false,
        "modeBarButtonsToRemove": [
         "sendDataToCloud",
         "lasso2d",
         "autoScale2d",
         "select2d",
         "zoom2d",
         "pan2d",
         "zoomIn2d",
         "zoomOut2d",
         "resetScale2d",
         "toggleSpikelines",
         "hoverCompareCartesian",
         "hoverClosestCartesian"
        ],
        "plotlyServerURL": "https://plot.ly",
        "staticPlot": false,
        "toImageButtonOptions": {
         "height": null,
         "width": null
        }
       },
       "data": [
        {
         "base": 0.25232267092877947,
         "hoverinfo": "text",
         "hoverlabel": {
          "bgcolor": "rgba(0,0,0,0.8)"
         },
         "hovertext": [
          "Model: Functional loss after<br>variable: veh_value is permuted: 0.253<br>Drop-out loss change: +0.0",
          "Model: Functional loss after<br>variable: agecat is permuted: 0.253<br>Drop-out loss change: +0.0",
          "Model: Functional loss after<br>variable: veh_age is permuted: 0.253<br>Drop-out loss change: +0.0",
          "Model: Functional loss after<br>variable: veh_body is permuted: 0.252<br>Drop-out loss change: +0.0",
          "Model: Functional loss after<br>variable: gender is permuted: 0.252<br>Drop-out loss change: -0.0",
          "Model: Functional loss after<br>variable: area is permuted: 0.252<br>Drop-out loss change: -0.0"
         ],
         "marker": {
          "color": "#46bac2"
         },
         "orientation": "h",
         "showlegend": false,
         "text": [
          "+0.0",
          "+0.0",
          "+0.0",
          "+0.0",
          "0.0",
          "0.0"
         ],
         "textposition": "outside",
         "type": "bar",
         "x": [
          0.0004373765253287143,
          0.00041094655996221086,
          0.00021755488744051865,
          0.00013484265821639418,
          -0.000020102141295441633,
          -0.000082284546109479
         ],
         "xaxis": "x",
         "y": [
          "veh_value",
          "agecat",
          "veh_age",
          "veh_body",
          "gender",
          "area"
         ],
         "yaxis": "y"
        }
       ],
       "layout": {
        "annotations": [
         {
          "font": {
           "size": 16
          },
          "showarrow": false,
          "text": "Functional",
          "x": 0.5,
          "xanchor": "center",
          "xref": "paper",
          "y": 1,
          "yanchor": "bottom",
          "yref": "paper"
         },
         {
          "font": {
           "size": 16
          },
          "showarrow": false,
          "text": "drop-out loss",
          "x": 0.5,
          "xanchor": "center",
          "xref": "paper",
          "y": 0,
          "yanchor": "top",
          "yref": "paper",
          "yshift": -30
         }
        ],
        "font": {
         "color": "#371ea3"
        },
        "height": 303,
        "margin": {
         "b": 71,
         "r": 30,
         "t": 78
        },
        "shapes": [
         {
          "line": {
           "color": "#371ea3",
           "dash": "dot",
           "width": 1.5
          },
          "type": "line",
          "x0": 0.25232267092877947,
          "x1": 0.25232267092877947,
          "xref": "x",
          "y0": -1,
          "y1": 6,
          "yref": "y"
         }
        ],
        "template": {
         "data": {
          "scatter": [
           {
            "type": "scatter"
           }
          ]
         }
        },
        "title": {
         "text": "Variable Importance",
         "x": 0.15
        },
        "xaxis": {
         "anchor": "y",
         "automargin": true,
         "domain": [
          0,
          1
         ],
         "fixedrange": true,
         "gridwidth": 2,
         "range": [
          0.25216243722195425,
          0.2528379966148239
         ],
         "tickcolor": "white",
         "ticklen": 3,
         "ticks": "outside",
         "type": "linear",
         "zeroline": false
        },
        "yaxis": {
         "anchor": "x",
         "automargin": true,
         "autorange": "reversed",
         "domain": [
          0,
          1
         ],
         "fixedrange": true,
         "gridwidth": 2,
         "tickcolor": "white",
         "ticklen": 10,
         "ticks": "outside",
         "type": "category"
        }
       }
      }
     },
     "metadata": {},
     "output_type": "display_data"
    },
    {
     "data": {
      "application/vnd.plotly.v1+json": {
       "config": {
        "displaylogo": false,
        "modeBarButtonsToRemove": [
         "sendDataToCloud",
         "lasso2d",
         "autoScale2d",
         "select2d",
         "zoom2d",
         "pan2d",
         "zoomIn2d",
         "zoomOut2d",
         "resetScale2d",
         "toggleSpikelines",
         "hoverCompareCartesian",
         "hoverClosestCartesian"
        ],
        "plotlyServerURL": "https://plot.ly",
        "staticPlot": false,
        "toImageButtonOptions": {
         "height": null,
         "width": null
        }
       },
       "data": [
        {
         "customdata": [
          [
           0.06748244911432266,
           "Partial depencence for numeric variables",
           "veh_value"
          ],
          [
           0.06748244911432266,
           "Partial depencence for numeric variables",
           "veh_value"
          ],
          [
           0.06748244911432266,
           "Partial depencence for numeric variables",
           "veh_value"
          ],
          [
           0.06748244911432266,
           "Partial depencence for numeric variables",
           "veh_value"
          ],
          [
           0.06748244911432266,
           "Partial depencence for numeric variables",
           "veh_value"
          ],
          [
           0.06748244911432266,
           "Partial depencence for numeric variables",
           "veh_value"
          ],
          [
           0.06748244911432266,
           "Partial depencence for numeric variables",
           "veh_value"
          ],
          [
           0.06748244911432266,
           "Partial depencence for numeric variables",
           "veh_value"
          ],
          [
           0.06748244911432266,
           "Partial depencence for numeric variables",
           "veh_value"
          ],
          [
           0.06748244911432266,
           "Partial depencence for numeric variables",
           "veh_value"
          ],
          [
           0.06748244911432266,
           "Partial depencence for numeric variables",
           "veh_value"
          ],
          [
           0.06748244911432266,
           "Partial depencence for numeric variables",
           "veh_value"
          ],
          [
           0.06748244911432266,
           "Partial depencence for numeric variables",
           "veh_value"
          ],
          [
           0.06748244911432266,
           "Partial depencence for numeric variables",
           "veh_value"
          ],
          [
           0.06748244911432266,
           "Partial depencence for numeric variables",
           "veh_value"
          ],
          [
           0.06748244911432266,
           "Partial depencence for numeric variables",
           "veh_value"
          ],
          [
           0.06748244911432266,
           "Partial depencence for numeric variables",
           "veh_value"
          ],
          [
           0.06748244911432266,
           "Partial depencence for numeric variables",
           "veh_value"
          ],
          [
           0.06748244911432266,
           "Partial depencence for numeric variables",
           "veh_value"
          ],
          [
           0.06748244911432266,
           "Partial depencence for numeric variables",
           "veh_value"
          ],
          [
           0.06748244911432266,
           "Partial depencence for numeric variables",
           "veh_value"
          ],
          [
           0.06748244911432266,
           "Partial depencence for numeric variables",
           "veh_value"
          ],
          [
           0.06748244911432266,
           "Partial depencence for numeric variables",
           "veh_value"
          ],
          [
           0.06748244911432266,
           "Partial depencence for numeric variables",
           "veh_value"
          ],
          [
           0.06748244911432266,
           "Partial depencence for numeric variables",
           "veh_value"
          ],
          [
           0.06748244911432266,
           "Partial depencence for numeric variables",
           "veh_value"
          ],
          [
           0.06748244911432266,
           "Partial depencence for numeric variables",
           "veh_value"
          ],
          [
           0.06748244911432266,
           "Partial depencence for numeric variables",
           "veh_value"
          ],
          [
           0.06748244911432266,
           "Partial depencence for numeric variables",
           "veh_value"
          ],
          [
           0.06748244911432266,
           "Partial depencence for numeric variables",
           "veh_value"
          ],
          [
           0.06748244911432266,
           "Partial depencence for numeric variables",
           "veh_value"
          ],
          [
           0.06748244911432266,
           "Partial depencence for numeric variables",
           "veh_value"
          ],
          [
           0.06748244911432266,
           "Partial depencence for numeric variables",
           "veh_value"
          ],
          [
           0.06748244911432266,
           "Partial depencence for numeric variables",
           "veh_value"
          ],
          [
           0.06748244911432266,
           "Partial depencence for numeric variables",
           "veh_value"
          ],
          [
           0.06748244911432266,
           "Partial depencence for numeric variables",
           "veh_value"
          ],
          [
           0.06748244911432266,
           "Partial depencence for numeric variables",
           "veh_value"
          ],
          [
           0.06748244911432266,
           "Partial depencence for numeric variables",
           "veh_value"
          ],
          [
           0.06748244911432266,
           "Partial depencence for numeric variables",
           "veh_value"
          ],
          [
           0.06748244911432266,
           "Partial depencence for numeric variables",
           "veh_value"
          ],
          [
           0.06748244911432266,
           "Partial depencence for numeric variables",
           "veh_value"
          ],
          [
           0.06748244911432266,
           "Partial depencence for numeric variables",
           "veh_value"
          ],
          [
           0.06748244911432266,
           "Partial depencence for numeric variables",
           "veh_value"
          ],
          [
           0.06748244911432266,
           "Partial depencence for numeric variables",
           "veh_value"
          ],
          [
           0.06748244911432266,
           "Partial depencence for numeric variables",
           "veh_value"
          ],
          [
           0.06748244911432266,
           "Partial depencence for numeric variables",
           "veh_value"
          ],
          [
           0.06748244911432266,
           "Partial depencence for numeric variables",
           "veh_value"
          ],
          [
           0.06748244911432266,
           "Partial depencence for numeric variables",
           "veh_value"
          ],
          [
           0.06748244911432266,
           "Partial depencence for numeric variables",
           "veh_value"
          ],
          [
           0.06748244911432266,
           "Partial depencence for numeric variables",
           "veh_value"
          ],
          [
           0.06748244911432266,
           "Partial depencence for numeric variables",
           "veh_value"
          ],
          [
           0.06748244911432266,
           "Partial depencence for numeric variables",
           "veh_value"
          ],
          [
           0.06748244911432266,
           "Partial depencence for numeric variables",
           "veh_value"
          ],
          [
           0.06748244911432266,
           "Partial depencence for numeric variables",
           "veh_value"
          ],
          [
           0.06748244911432266,
           "Partial depencence for numeric variables",
           "veh_value"
          ],
          [
           0.06748244911432266,
           "Partial depencence for numeric variables",
           "veh_value"
          ],
          [
           0.06748244911432266,
           "Partial depencence for numeric variables",
           "veh_value"
          ],
          [
           0.06748244911432266,
           "Partial depencence for numeric variables",
           "veh_value"
          ],
          [
           0.06748244911432266,
           "Partial depencence for numeric variables",
           "veh_value"
          ],
          [
           0.06748244911432266,
           "Partial depencence for numeric variables",
           "veh_value"
          ],
          [
           0.06748244911432266,
           "Partial depencence for numeric variables",
           "veh_value"
          ],
          [
           0.06748244911432266,
           "Partial depencence for numeric variables",
           "veh_value"
          ],
          [
           0.06748244911432266,
           "Partial depencence for numeric variables",
           "veh_value"
          ],
          [
           0.06748244911432266,
           "Partial depencence for numeric variables",
           "veh_value"
          ],
          [
           0.06748244911432266,
           "Partial depencence for numeric variables",
           "veh_value"
          ],
          [
           0.06748244911432266,
           "Partial depencence for numeric variables",
           "veh_value"
          ],
          [
           0.06748244911432266,
           "Partial depencence for numeric variables",
           "veh_value"
          ],
          [
           0.06748244911432266,
           "Partial depencence for numeric variables",
           "veh_value"
          ],
          [
           0.06748244911432266,
           "Partial depencence for numeric variables",
           "veh_value"
          ],
          [
           0.06748244911432266,
           "Partial depencence for numeric variables",
           "veh_value"
          ],
          [
           0.06748244911432266,
           "Partial depencence for numeric variables",
           "veh_value"
          ],
          [
           0.06748244911432266,
           "Partial depencence for numeric variables",
           "veh_value"
          ],
          [
           0.06748244911432266,
           "Partial depencence for numeric variables",
           "veh_value"
          ],
          [
           0.06748244911432266,
           "Partial depencence for numeric variables",
           "veh_value"
          ],
          [
           0.06748244911432266,
           "Partial depencence for numeric variables",
           "veh_value"
          ],
          [
           0.06748244911432266,
           "Partial depencence for numeric variables",
           "veh_value"
          ],
          [
           0.06748244911432266,
           "Partial depencence for numeric variables",
           "veh_value"
          ],
          [
           0.06748244911432266,
           "Partial depencence for numeric variables",
           "veh_value"
          ],
          [
           0.06748244911432266,
           "Partial depencence for numeric variables",
           "veh_value"
          ],
          [
           0.06748244911432266,
           "Partial depencence for numeric variables",
           "veh_value"
          ],
          [
           0.06748244911432266,
           "Partial depencence for numeric variables",
           "veh_value"
          ],
          [
           0.06748244911432266,
           "Partial depencence for numeric variables",
           "veh_value"
          ],
          [
           0.06748244911432266,
           "Partial depencence for numeric variables",
           "veh_value"
          ],
          [
           0.06748244911432266,
           "Partial depencence for numeric variables",
           "veh_value"
          ],
          [
           0.06748244911432266,
           "Partial depencence for numeric variables",
           "veh_value"
          ],
          [
           0.06748244911432266,
           "Partial depencence for numeric variables",
           "veh_value"
          ],
          [
           0.06748244911432266,
           "Partial depencence for numeric variables",
           "veh_value"
          ],
          [
           0.06748244911432266,
           "Partial depencence for numeric variables",
           "veh_value"
          ],
          [
           0.06748244911432266,
           "Partial depencence for numeric variables",
           "veh_value"
          ],
          [
           0.06748244911432266,
           "Partial depencence for numeric variables",
           "veh_value"
          ],
          [
           0.06748244911432266,
           "Partial depencence for numeric variables",
           "veh_value"
          ],
          [
           0.06748244911432266,
           "Partial depencence for numeric variables",
           "veh_value"
          ],
          [
           0.06748244911432266,
           "Partial depencence for numeric variables",
           "veh_value"
          ],
          [
           0.06748244911432266,
           "Partial depencence for numeric variables",
           "veh_value"
          ],
          [
           0.06748244911432266,
           "Partial depencence for numeric variables",
           "veh_value"
          ],
          [
           0.06748244911432266,
           "Partial depencence for numeric variables",
           "veh_value"
          ],
          [
           0.06748244911432266,
           "Partial depencence for numeric variables",
           "veh_value"
          ],
          [
           0.06748244911432266,
           "Partial depencence for numeric variables",
           "veh_value"
          ],
          [
           0.06748244911432266,
           "Partial depencence for numeric variables",
           "veh_value"
          ],
          [
           0.06748244911432266,
           "Partial depencence for numeric variables",
           "veh_value"
          ],
          [
           0.06748244911432266,
           "Partial depencence for numeric variables",
           "veh_value"
          ]
         ],
         "hovertemplate": "<b>%{hovertext}</b><br><br>prediction=%{y:.3f}<br>mean_prediction=%{customdata[0]:.3f}<extra></extra>",
         "hovertext": [
          "Partial depencence for numeric variables",
          "Partial depencence for numeric variables",
          "Partial depencence for numeric variables",
          "Partial depencence for numeric variables",
          "Partial depencence for numeric variables",
          "Partial depencence for numeric variables",
          "Partial depencence for numeric variables",
          "Partial depencence for numeric variables",
          "Partial depencence for numeric variables",
          "Partial depencence for numeric variables",
          "Partial depencence for numeric variables",
          "Partial depencence for numeric variables",
          "Partial depencence for numeric variables",
          "Partial depencence for numeric variables",
          "Partial depencence for numeric variables",
          "Partial depencence for numeric variables",
          "Partial depencence for numeric variables",
          "Partial depencence for numeric variables",
          "Partial depencence for numeric variables",
          "Partial depencence for numeric variables",
          "Partial depencence for numeric variables",
          "Partial depencence for numeric variables",
          "Partial depencence for numeric variables",
          "Partial depencence for numeric variables",
          "Partial depencence for numeric variables",
          "Partial depencence for numeric variables",
          "Partial depencence for numeric variables",
          "Partial depencence for numeric variables",
          "Partial depencence for numeric variables",
          "Partial depencence for numeric variables",
          "Partial depencence for numeric variables",
          "Partial depencence for numeric variables",
          "Partial depencence for numeric variables",
          "Partial depencence for numeric variables",
          "Partial depencence for numeric variables",
          "Partial depencence for numeric variables",
          "Partial depencence for numeric variables",
          "Partial depencence for numeric variables",
          "Partial depencence for numeric variables",
          "Partial depencence for numeric variables",
          "Partial depencence for numeric variables",
          "Partial depencence for numeric variables",
          "Partial depencence for numeric variables",
          "Partial depencence for numeric variables",
          "Partial depencence for numeric variables",
          "Partial depencence for numeric variables",
          "Partial depencence for numeric variables",
          "Partial depencence for numeric variables",
          "Partial depencence for numeric variables",
          "Partial depencence for numeric variables",
          "Partial depencence for numeric variables",
          "Partial depencence for numeric variables",
          "Partial depencence for numeric variables",
          "Partial depencence for numeric variables",
          "Partial depencence for numeric variables",
          "Partial depencence for numeric variables",
          "Partial depencence for numeric variables",
          "Partial depencence for numeric variables",
          "Partial depencence for numeric variables",
          "Partial depencence for numeric variables",
          "Partial depencence for numeric variables",
          "Partial depencence for numeric variables",
          "Partial depencence for numeric variables",
          "Partial depencence for numeric variables",
          "Partial depencence for numeric variables",
          "Partial depencence for numeric variables",
          "Partial depencence for numeric variables",
          "Partial depencence for numeric variables",
          "Partial depencence for numeric variables",
          "Partial depencence for numeric variables",
          "Partial depencence for numeric variables",
          "Partial depencence for numeric variables",
          "Partial depencence for numeric variables",
          "Partial depencence for numeric variables",
          "Partial depencence for numeric variables",
          "Partial depencence for numeric variables",
          "Partial depencence for numeric variables",
          "Partial depencence for numeric variables",
          "Partial depencence for numeric variables",
          "Partial depencence for numeric variables",
          "Partial depencence for numeric variables",
          "Partial depencence for numeric variables",
          "Partial depencence for numeric variables",
          "Partial depencence for numeric variables",
          "Partial depencence for numeric variables",
          "Partial depencence for numeric variables",
          "Partial depencence for numeric variables",
          "Partial depencence for numeric variables",
          "Partial depencence for numeric variables",
          "Partial depencence for numeric variables",
          "Partial depencence for numeric variables",
          "Partial depencence for numeric variables",
          "Partial depencence for numeric variables",
          "Partial depencence for numeric variables",
          "Partial depencence for numeric variables",
          "Partial depencence for numeric variables",
          "Partial depencence for numeric variables",
          "Partial depencence for numeric variables",
          "Partial depencence for numeric variables",
          "Partial depencence for numeric variables",
          "Partial depencence for numeric variables"
         ],
         "legendgroup": "Partial depencence for numeric variables",
         "line": {
          "color": "#46bac2",
          "dash": "solid",
          "width": 2
         },
         "marker": {
          "symbol": "circle"
         },
         "mode": "lines",
         "name": "Partial depencence for numeric variables",
         "opacity": 1,
         "orientation": "v",
         "showlegend": true,
         "type": "scatter",
         "x": [
          0,
          0.22690000000000002,
          0.45380000000000004,
          0.6807000000000001,
          0.9076000000000001,
          1.1345,
          1.3614000000000002,
          1.5883,
          1.8152000000000001,
          2.0421,
          2.269,
          2.4959000000000002,
          2.7228000000000003,
          2.9497000000000004,
          3.1766,
          3.4035,
          3.6304000000000003,
          3.8573000000000004,
          4.0842,
          4.311100000000001,
          4.538,
          4.764900000000001,
          4.9918000000000005,
          5.2187,
          5.445600000000001,
          5.6725,
          5.899400000000001,
          6.1263000000000005,
          6.3532,
          6.580100000000001,
          6.807,
          7.033900000000001,
          7.260800000000001,
          7.4877,
          7.714600000000001,
          7.9415000000000004,
          8.1684,
          8.3953,
          8.622200000000001,
          8.8491,
          9.076,
          9.302900000000001,
          9.529800000000002,
          9.7567,
          9.983600000000001,
          10.210500000000001,
          10.4374,
          10.6643,
          10.891200000000001,
          11.1181,
          11.345,
          11.571900000000001,
          11.798800000000002,
          12.0257,
          12.252600000000001,
          12.479500000000002,
          12.7064,
          12.933300000000001,
          13.160200000000001,
          13.3871,
          13.614,
          13.840900000000001,
          14.067800000000002,
          14.2947,
          14.521600000000001,
          14.748500000000002,
          14.9754,
          15.202300000000001,
          15.429200000000002,
          15.656100000000002,
          15.883000000000001,
          16.1099,
          16.3368,
          16.5637,
          16.7906,
          17.017500000000002,
          17.244400000000002,
          17.471300000000003,
          17.6982,
          17.9251,
          18.152,
          18.3789,
          18.605800000000002,
          18.832700000000003,
          19.059600000000003,
          19.2865,
          19.5134,
          19.7403,
          19.967200000000002,
          20.194100000000002,
          20.421000000000003,
          20.6479,
          20.8748,
          21.1017,
          21.3286,
          21.555500000000002,
          21.782400000000003,
          22.009300000000003,
          22.2362,
          22.4631,
          22.69
         ],
         "xaxis": "x3",
         "y": [
          0.0674382820725441,
          0.06616080552339554,
          0.06528423726558685,
          0.0648004487156868,
          0.0647013857960701,
          0.06497864425182343,
          0.06562294065952301,
          0.06662347167730331,
          0.06796722114086151,
          0.0696382224559784,
          0.07161694020032883,
          0.07387976348400116,
          0.07639870047569275,
          0.07914140820503235,
          0.08207149803638458,
          0.08514925092458725,
          0.08833257853984833,
          0.09157828986644745,
          0.09484347701072693,
          0.0980868935585022,
          0.10127028822898865,
          0.10435948520898819,
          0.10732518136501312,
          0.11014343053102493,
          0.11279582232236862,
          0.11526931822299957,
          0.1175558865070343,
          0.11965196579694748,
          0.1215578243136406,
          0.12327686697244644,
          0.12481498718261719,
          0.12617996335029602,
          0.1273808479309082,
          0.12842760980129242,
          0.12933063507080078,
          0.13010047376155853,
          0.13074764609336853,
          0.13128235936164856,
          0.13171446323394775,
          0.13205334544181824,
          0.13230784237384796,
          0.1324862241744995,
          0.1325962245464325,
          0.13264499604701996,
          0.1326391100883484,
          0.13258463144302368,
          0.13248711824417114,
          0.13235162198543549,
          0.1321827620267868,
          0.13198474049568176,
          0.1317613422870636,
          0.13151602447032928,
          0.13125185668468475,
          0.13097167015075684,
          0.1306779533624649,
          0.13037297129631042,
          0.13005873560905457,
          0.12973706424236298,
          0.1294095665216446,
          0.12907767295837402,
          0.12874266505241394,
          0.12840569019317627,
          0.128067746758461,
          0.12772971391677856,
          0.12739241123199463,
          0.1270565241575241,
          0.12672264873981476,
          0.12639133632183075,
          0.12606306374073029,
          0.1257382482290268,
          0.12541726231575012,
          0.12510038912296295,
          0.12478793412446976,
          0.12448012083768845,
          0.12417715787887573,
          0.12387921661138535,
          0.12358645349740982,
          0.1232990026473999,
          0.12301696091890335,
          0.12274040281772614,
          0.12246943265199661,
          0.12220408022403717,
          0.12194440513849258,
          0.12169042974710464,
          0.12144217640161514,
          0.12119967490434647,
          0.12096292525529861,
          0.1207319125533104,
          0.1205066367983818,
          0.12028708308935165,
          0.12007322162389755,
          0.1198650375008583,
          0.11966250091791153,
          0.11946557462215424,
          0.11927421391010284,
          0.11908838152885437,
          0.11890804022550583,
          0.11873313039541245,
          0.11856361478567123,
          0.11839943379163742,
          0.11824052780866623
         ],
         "yaxis": "y3"
        },
        {
         "customdata": [
          [
           0.06748244911432266,
           "Partial depencence for numeric variables",
           "veh_age"
          ],
          [
           0.06748244911432266,
           "Partial depencence for numeric variables",
           "veh_age"
          ],
          [
           0.06748244911432266,
           "Partial depencence for numeric variables",
           "veh_age"
          ],
          [
           0.06748244911432266,
           "Partial depencence for numeric variables",
           "veh_age"
          ],
          [
           0.06748244911432266,
           "Partial depencence for numeric variables",
           "veh_age"
          ],
          [
           0.06748244911432266,
           "Partial depencence for numeric variables",
           "veh_age"
          ],
          [
           0.06748244911432266,
           "Partial depencence for numeric variables",
           "veh_age"
          ],
          [
           0.06748244911432266,
           "Partial depencence for numeric variables",
           "veh_age"
          ],
          [
           0.06748244911432266,
           "Partial depencence for numeric variables",
           "veh_age"
          ],
          [
           0.06748244911432266,
           "Partial depencence for numeric variables",
           "veh_age"
          ],
          [
           0.06748244911432266,
           "Partial depencence for numeric variables",
           "veh_age"
          ],
          [
           0.06748244911432266,
           "Partial depencence for numeric variables",
           "veh_age"
          ],
          [
           0.06748244911432266,
           "Partial depencence for numeric variables",
           "veh_age"
          ],
          [
           0.06748244911432266,
           "Partial depencence for numeric variables",
           "veh_age"
          ],
          [
           0.06748244911432266,
           "Partial depencence for numeric variables",
           "veh_age"
          ],
          [
           0.06748244911432266,
           "Partial depencence for numeric variables",
           "veh_age"
          ],
          [
           0.06748244911432266,
           "Partial depencence for numeric variables",
           "veh_age"
          ],
          [
           0.06748244911432266,
           "Partial depencence for numeric variables",
           "veh_age"
          ],
          [
           0.06748244911432266,
           "Partial depencence for numeric variables",
           "veh_age"
          ],
          [
           0.06748244911432266,
           "Partial depencence for numeric variables",
           "veh_age"
          ],
          [
           0.06748244911432266,
           "Partial depencence for numeric variables",
           "veh_age"
          ],
          [
           0.06748244911432266,
           "Partial depencence for numeric variables",
           "veh_age"
          ],
          [
           0.06748244911432266,
           "Partial depencence for numeric variables",
           "veh_age"
          ],
          [
           0.06748244911432266,
           "Partial depencence for numeric variables",
           "veh_age"
          ],
          [
           0.06748244911432266,
           "Partial depencence for numeric variables",
           "veh_age"
          ],
          [
           0.06748244911432266,
           "Partial depencence for numeric variables",
           "veh_age"
          ],
          [
           0.06748244911432266,
           "Partial depencence for numeric variables",
           "veh_age"
          ],
          [
           0.06748244911432266,
           "Partial depencence for numeric variables",
           "veh_age"
          ],
          [
           0.06748244911432266,
           "Partial depencence for numeric variables",
           "veh_age"
          ],
          [
           0.06748244911432266,
           "Partial depencence for numeric variables",
           "veh_age"
          ],
          [
           0.06748244911432266,
           "Partial depencence for numeric variables",
           "veh_age"
          ],
          [
           0.06748244911432266,
           "Partial depencence for numeric variables",
           "veh_age"
          ],
          [
           0.06748244911432266,
           "Partial depencence for numeric variables",
           "veh_age"
          ],
          [
           0.06748244911432266,
           "Partial depencence for numeric variables",
           "veh_age"
          ],
          [
           0.06748244911432266,
           "Partial depencence for numeric variables",
           "veh_age"
          ],
          [
           0.06748244911432266,
           "Partial depencence for numeric variables",
           "veh_age"
          ],
          [
           0.06748244911432266,
           "Partial depencence for numeric variables",
           "veh_age"
          ],
          [
           0.06748244911432266,
           "Partial depencence for numeric variables",
           "veh_age"
          ],
          [
           0.06748244911432266,
           "Partial depencence for numeric variables",
           "veh_age"
          ],
          [
           0.06748244911432266,
           "Partial depencence for numeric variables",
           "veh_age"
          ],
          [
           0.06748244911432266,
           "Partial depencence for numeric variables",
           "veh_age"
          ],
          [
           0.06748244911432266,
           "Partial depencence for numeric variables",
           "veh_age"
          ],
          [
           0.06748244911432266,
           "Partial depencence for numeric variables",
           "veh_age"
          ],
          [
           0.06748244911432266,
           "Partial depencence for numeric variables",
           "veh_age"
          ],
          [
           0.06748244911432266,
           "Partial depencence for numeric variables",
           "veh_age"
          ],
          [
           0.06748244911432266,
           "Partial depencence for numeric variables",
           "veh_age"
          ],
          [
           0.06748244911432266,
           "Partial depencence for numeric variables",
           "veh_age"
          ],
          [
           0.06748244911432266,
           "Partial depencence for numeric variables",
           "veh_age"
          ],
          [
           0.06748244911432266,
           "Partial depencence for numeric variables",
           "veh_age"
          ],
          [
           0.06748244911432266,
           "Partial depencence for numeric variables",
           "veh_age"
          ],
          [
           0.06748244911432266,
           "Partial depencence for numeric variables",
           "veh_age"
          ],
          [
           0.06748244911432266,
           "Partial depencence for numeric variables",
           "veh_age"
          ],
          [
           0.06748244911432266,
           "Partial depencence for numeric variables",
           "veh_age"
          ],
          [
           0.06748244911432266,
           "Partial depencence for numeric variables",
           "veh_age"
          ],
          [
           0.06748244911432266,
           "Partial depencence for numeric variables",
           "veh_age"
          ],
          [
           0.06748244911432266,
           "Partial depencence for numeric variables",
           "veh_age"
          ],
          [
           0.06748244911432266,
           "Partial depencence for numeric variables",
           "veh_age"
          ],
          [
           0.06748244911432266,
           "Partial depencence for numeric variables",
           "veh_age"
          ],
          [
           0.06748244911432266,
           "Partial depencence for numeric variables",
           "veh_age"
          ],
          [
           0.06748244911432266,
           "Partial depencence for numeric variables",
           "veh_age"
          ],
          [
           0.06748244911432266,
           "Partial depencence for numeric variables",
           "veh_age"
          ],
          [
           0.06748244911432266,
           "Partial depencence for numeric variables",
           "veh_age"
          ],
          [
           0.06748244911432266,
           "Partial depencence for numeric variables",
           "veh_age"
          ],
          [
           0.06748244911432266,
           "Partial depencence for numeric variables",
           "veh_age"
          ],
          [
           0.06748244911432266,
           "Partial depencence for numeric variables",
           "veh_age"
          ],
          [
           0.06748244911432266,
           "Partial depencence for numeric variables",
           "veh_age"
          ],
          [
           0.06748244911432266,
           "Partial depencence for numeric variables",
           "veh_age"
          ],
          [
           0.06748244911432266,
           "Partial depencence for numeric variables",
           "veh_age"
          ],
          [
           0.06748244911432266,
           "Partial depencence for numeric variables",
           "veh_age"
          ],
          [
           0.06748244911432266,
           "Partial depencence for numeric variables",
           "veh_age"
          ],
          [
           0.06748244911432266,
           "Partial depencence for numeric variables",
           "veh_age"
          ],
          [
           0.06748244911432266,
           "Partial depencence for numeric variables",
           "veh_age"
          ],
          [
           0.06748244911432266,
           "Partial depencence for numeric variables",
           "veh_age"
          ],
          [
           0.06748244911432266,
           "Partial depencence for numeric variables",
           "veh_age"
          ],
          [
           0.06748244911432266,
           "Partial depencence for numeric variables",
           "veh_age"
          ],
          [
           0.06748244911432266,
           "Partial depencence for numeric variables",
           "veh_age"
          ],
          [
           0.06748244911432266,
           "Partial depencence for numeric variables",
           "veh_age"
          ],
          [
           0.06748244911432266,
           "Partial depencence for numeric variables",
           "veh_age"
          ],
          [
           0.06748244911432266,
           "Partial depencence for numeric variables",
           "veh_age"
          ],
          [
           0.06748244911432266,
           "Partial depencence for numeric variables",
           "veh_age"
          ],
          [
           0.06748244911432266,
           "Partial depencence for numeric variables",
           "veh_age"
          ],
          [
           0.06748244911432266,
           "Partial depencence for numeric variables",
           "veh_age"
          ],
          [
           0.06748244911432266,
           "Partial depencence for numeric variables",
           "veh_age"
          ],
          [
           0.06748244911432266,
           "Partial depencence for numeric variables",
           "veh_age"
          ],
          [
           0.06748244911432266,
           "Partial depencence for numeric variables",
           "veh_age"
          ],
          [
           0.06748244911432266,
           "Partial depencence for numeric variables",
           "veh_age"
          ],
          [
           0.06748244911432266,
           "Partial depencence for numeric variables",
           "veh_age"
          ],
          [
           0.06748244911432266,
           "Partial depencence for numeric variables",
           "veh_age"
          ],
          [
           0.06748244911432266,
           "Partial depencence for numeric variables",
           "veh_age"
          ],
          [
           0.06748244911432266,
           "Partial depencence for numeric variables",
           "veh_age"
          ],
          [
           0.06748244911432266,
           "Partial depencence for numeric variables",
           "veh_age"
          ],
          [
           0.06748244911432266,
           "Partial depencence for numeric variables",
           "veh_age"
          ],
          [
           0.06748244911432266,
           "Partial depencence for numeric variables",
           "veh_age"
          ],
          [
           0.06748244911432266,
           "Partial depencence for numeric variables",
           "veh_age"
          ],
          [
           0.06748244911432266,
           "Partial depencence for numeric variables",
           "veh_age"
          ],
          [
           0.06748244911432266,
           "Partial depencence for numeric variables",
           "veh_age"
          ],
          [
           0.06748244911432266,
           "Partial depencence for numeric variables",
           "veh_age"
          ],
          [
           0.06748244911432266,
           "Partial depencence for numeric variables",
           "veh_age"
          ],
          [
           0.06748244911432266,
           "Partial depencence for numeric variables",
           "veh_age"
          ],
          [
           0.06748244911432266,
           "Partial depencence for numeric variables",
           "veh_age"
          ],
          [
           0.06748244911432266,
           "Partial depencence for numeric variables",
           "veh_age"
          ]
         ],
         "hovertemplate": "<b>%{hovertext}</b><br><br>prediction=%{y:.3f}<br>mean_prediction=%{customdata[0]:.3f}<extra></extra>",
         "hovertext": [
          "Partial depencence for numeric variables",
          "Partial depencence for numeric variables",
          "Partial depencence for numeric variables",
          "Partial depencence for numeric variables",
          "Partial depencence for numeric variables",
          "Partial depencence for numeric variables",
          "Partial depencence for numeric variables",
          "Partial depencence for numeric variables",
          "Partial depencence for numeric variables",
          "Partial depencence for numeric variables",
          "Partial depencence for numeric variables",
          "Partial depencence for numeric variables",
          "Partial depencence for numeric variables",
          "Partial depencence for numeric variables",
          "Partial depencence for numeric variables",
          "Partial depencence for numeric variables",
          "Partial depencence for numeric variables",
          "Partial depencence for numeric variables",
          "Partial depencence for numeric variables",
          "Partial depencence for numeric variables",
          "Partial depencence for numeric variables",
          "Partial depencence for numeric variables",
          "Partial depencence for numeric variables",
          "Partial depencence for numeric variables",
          "Partial depencence for numeric variables",
          "Partial depencence for numeric variables",
          "Partial depencence for numeric variables",
          "Partial depencence for numeric variables",
          "Partial depencence for numeric variables",
          "Partial depencence for numeric variables",
          "Partial depencence for numeric variables",
          "Partial depencence for numeric variables",
          "Partial depencence for numeric variables",
          "Partial depencence for numeric variables",
          "Partial depencence for numeric variables",
          "Partial depencence for numeric variables",
          "Partial depencence for numeric variables",
          "Partial depencence for numeric variables",
          "Partial depencence for numeric variables",
          "Partial depencence for numeric variables",
          "Partial depencence for numeric variables",
          "Partial depencence for numeric variables",
          "Partial depencence for numeric variables",
          "Partial depencence for numeric variables",
          "Partial depencence for numeric variables",
          "Partial depencence for numeric variables",
          "Partial depencence for numeric variables",
          "Partial depencence for numeric variables",
          "Partial depencence for numeric variables",
          "Partial depencence for numeric variables",
          "Partial depencence for numeric variables",
          "Partial depencence for numeric variables",
          "Partial depencence for numeric variables",
          "Partial depencence for numeric variables",
          "Partial depencence for numeric variables",
          "Partial depencence for numeric variables",
          "Partial depencence for numeric variables",
          "Partial depencence for numeric variables",
          "Partial depencence for numeric variables",
          "Partial depencence for numeric variables",
          "Partial depencence for numeric variables",
          "Partial depencence for numeric variables",
          "Partial depencence for numeric variables",
          "Partial depencence for numeric variables",
          "Partial depencence for numeric variables",
          "Partial depencence for numeric variables",
          "Partial depencence for numeric variables",
          "Partial depencence for numeric variables",
          "Partial depencence for numeric variables",
          "Partial depencence for numeric variables",
          "Partial depencence for numeric variables",
          "Partial depencence for numeric variables",
          "Partial depencence for numeric variables",
          "Partial depencence for numeric variables",
          "Partial depencence for numeric variables",
          "Partial depencence for numeric variables",
          "Partial depencence for numeric variables",
          "Partial depencence for numeric variables",
          "Partial depencence for numeric variables",
          "Partial depencence for numeric variables",
          "Partial depencence for numeric variables",
          "Partial depencence for numeric variables",
          "Partial depencence for numeric variables",
          "Partial depencence for numeric variables",
          "Partial depencence for numeric variables",
          "Partial depencence for numeric variables",
          "Partial depencence for numeric variables",
          "Partial depencence for numeric variables",
          "Partial depencence for numeric variables",
          "Partial depencence for numeric variables",
          "Partial depencence for numeric variables",
          "Partial depencence for numeric variables",
          "Partial depencence for numeric variables",
          "Partial depencence for numeric variables",
          "Partial depencence for numeric variables",
          "Partial depencence for numeric variables",
          "Partial depencence for numeric variables",
          "Partial depencence for numeric variables",
          "Partial depencence for numeric variables",
          "Partial depencence for numeric variables",
          "Partial depencence for numeric variables"
         ],
         "legendgroup": "Partial depencence for numeric variables",
         "line": {
          "color": "#46bac2",
          "dash": "solid",
          "width": 2
         },
         "marker": {
          "symbol": "circle"
         },
         "mode": "lines",
         "name": "Partial depencence for numeric variables",
         "opacity": 1,
         "orientation": "v",
         "showlegend": false,
         "type": "scatter",
         "x": [
          1,
          1.03,
          1.06,
          1.09,
          1.12,
          1.15,
          1.18,
          1.21,
          1.24,
          1.27,
          1.3,
          1.33,
          1.3599999999999999,
          1.3900000000000001,
          1.42,
          1.45,
          1.48,
          1.51,
          1.54,
          1.5699999999999998,
          1.6,
          1.63,
          1.66,
          1.69,
          1.72,
          1.75,
          1.78,
          1.81,
          1.8399999999999999,
          1.87,
          1.9,
          1.93,
          1.96,
          1.99,
          2.02,
          2.05,
          2.08,
          2.11,
          2.1399999999999997,
          2.17,
          2.2,
          2.23,
          2.26,
          2.29,
          2.32,
          2.3499999999999996,
          2.38,
          2.41,
          2.44,
          2.4699999999999998,
          2.5,
          2.5300000000000002,
          2.56,
          2.59,
          2.62,
          2.65,
          2.6799999999999997,
          2.71,
          2.74,
          2.77,
          2.8,
          2.83,
          2.86,
          2.8899999999999997,
          2.92,
          2.95,
          2.98,
          3.01,
          3.04,
          3.07,
          3.1,
          3.13,
          3.16,
          3.19,
          3.2199999999999998,
          3.25,
          3.28,
          3.31,
          3.34,
          3.37,
          3.4,
          3.4299999999999997,
          3.46,
          3.4899999999999998,
          3.52,
          3.55,
          3.58,
          3.61,
          3.6399999999999997,
          3.67,
          3.6999999999999997,
          3.73,
          3.76,
          3.79,
          3.82,
          3.85,
          3.88,
          3.9099999999999997,
          3.94,
          3.9699999999999998,
          4
         ],
         "xaxis": "x4",
         "y": [
          0.07311177998781204,
          0.07281553000211716,
          0.07252345234155655,
          0.07223563641309738,
          0.07195214927196503,
          0.07167306542396545,
          0.07139845937490463,
          0.07112839818000793,
          0.07086297124624252,
          0.07060222327709198,
          0.07034624367952347,
          0.07009508460760117,
          0.06984882801771164,
          0.06960754096508026,
          0.0693712830543518,
          0.06914012879133224,
          0.06891413033008575,
          0.0686933621764183,
          0.06847789138555527,
          0.06826776266098022,
          0.06806306540966034,
          0.0678638443350792,
          0.06767015904188156,
          0.06748206168413162,
          0.06729964166879654,
          0.0671229213476181,
          0.06695198267698288,
          0.06678688526153564,
          0.06662767380475998,
          0.06647440791130066,
          0.06632713973522186,
          0.06618593633174896,
          0.06605084985494614,
          0.06592192500829697,
          0.06579922884702682,
          0.0656827986240387,
          0.06557271629571915,
          0.06546900421380997,
          0.06537173688411713,
          0.06528095155954361,
          0.06519671529531479,
          0.06511907279491425,
          0.06504807621240616,
          0.0649837851524353,
          0.06492624431848526,
          0.06487549841403961,
          0.06483162194490433,
          0.0647946447134018,
          0.06476463377475739,
          0.06474163383245468,
          0.06472570449113846,
          0.0647168904542923,
          0.06471525132656097,
          0.06472083181142807,
          0.06473369896411896,
          0.06475389748811722,
          0.06478147953748703,
          0.06481650471687317,
          0.06485902518033981,
          0.06490910053253174,
          0.06496677547693253,
          0.06503212451934814,
          0.06510518491268158,
          0.0651860237121582,
          0.06527470797300339,
          0.06537128239870071,
          0.06547580659389496,
          0.0655883401632309,
          0.0657089576125145,
          0.06583770364522934,
          0.0659746527671814,
          0.06611984968185425,
          0.06627337634563446,
          0.06643528491258621,
          0.06660564243793488,
          0.06678452342748642,
          0.06697198003530502,
          0.06716808676719666,
          0.0673728957772255,
          0.0675865039229393,
          0.06780896335840225,
          0.06804034113883972,
          0.06828071177005768,
          0.06853014975786209,
          0.06878872215747833,
          0.06905650347471237,
          0.06933356076478958,
          0.06961998343467712,
          0.06991583853960037,
          0.0702211931347847,
          0.07053613662719727,
          0.07086073607206345,
          0.0711950734257698,
          0.07153921574354172,
          0.07189326733350754,
          0.07225728034973145,
          0.0726313516497612,
          0.07301554828882217,
          0.07340995222330093,
          0.07381465286016464,
          0.07422972470521927
         ],
         "yaxis": "y4"
        },
        {
         "customdata": [
          [
           0.06748244911432266,
           "Partial depencence for numeric variables",
           "agecat"
          ],
          [
           0.06748244911432266,
           "Partial depencence for numeric variables",
           "agecat"
          ],
          [
           0.06748244911432266,
           "Partial depencence for numeric variables",
           "agecat"
          ],
          [
           0.06748244911432266,
           "Partial depencence for numeric variables",
           "agecat"
          ],
          [
           0.06748244911432266,
           "Partial depencence for numeric variables",
           "agecat"
          ],
          [
           0.06748244911432266,
           "Partial depencence for numeric variables",
           "agecat"
          ],
          [
           0.06748244911432266,
           "Partial depencence for numeric variables",
           "agecat"
          ],
          [
           0.06748244911432266,
           "Partial depencence for numeric variables",
           "agecat"
          ],
          [
           0.06748244911432266,
           "Partial depencence for numeric variables",
           "agecat"
          ],
          [
           0.06748244911432266,
           "Partial depencence for numeric variables",
           "agecat"
          ],
          [
           0.06748244911432266,
           "Partial depencence for numeric variables",
           "agecat"
          ],
          [
           0.06748244911432266,
           "Partial depencence for numeric variables",
           "agecat"
          ],
          [
           0.06748244911432266,
           "Partial depencence for numeric variables",
           "agecat"
          ],
          [
           0.06748244911432266,
           "Partial depencence for numeric variables",
           "agecat"
          ],
          [
           0.06748244911432266,
           "Partial depencence for numeric variables",
           "agecat"
          ],
          [
           0.06748244911432266,
           "Partial depencence for numeric variables",
           "agecat"
          ],
          [
           0.06748244911432266,
           "Partial depencence for numeric variables",
           "agecat"
          ],
          [
           0.06748244911432266,
           "Partial depencence for numeric variables",
           "agecat"
          ],
          [
           0.06748244911432266,
           "Partial depencence for numeric variables",
           "agecat"
          ],
          [
           0.06748244911432266,
           "Partial depencence for numeric variables",
           "agecat"
          ],
          [
           0.06748244911432266,
           "Partial depencence for numeric variables",
           "agecat"
          ],
          [
           0.06748244911432266,
           "Partial depencence for numeric variables",
           "agecat"
          ],
          [
           0.06748244911432266,
           "Partial depencence for numeric variables",
           "agecat"
          ],
          [
           0.06748244911432266,
           "Partial depencence for numeric variables",
           "agecat"
          ],
          [
           0.06748244911432266,
           "Partial depencence for numeric variables",
           "agecat"
          ],
          [
           0.06748244911432266,
           "Partial depencence for numeric variables",
           "agecat"
          ],
          [
           0.06748244911432266,
           "Partial depencence for numeric variables",
           "agecat"
          ],
          [
           0.06748244911432266,
           "Partial depencence for numeric variables",
           "agecat"
          ],
          [
           0.06748244911432266,
           "Partial depencence for numeric variables",
           "agecat"
          ],
          [
           0.06748244911432266,
           "Partial depencence for numeric variables",
           "agecat"
          ],
          [
           0.06748244911432266,
           "Partial depencence for numeric variables",
           "agecat"
          ],
          [
           0.06748244911432266,
           "Partial depencence for numeric variables",
           "agecat"
          ],
          [
           0.06748244911432266,
           "Partial depencence for numeric variables",
           "agecat"
          ],
          [
           0.06748244911432266,
           "Partial depencence for numeric variables",
           "agecat"
          ],
          [
           0.06748244911432266,
           "Partial depencence for numeric variables",
           "agecat"
          ],
          [
           0.06748244911432266,
           "Partial depencence for numeric variables",
           "agecat"
          ],
          [
           0.06748244911432266,
           "Partial depencence for numeric variables",
           "agecat"
          ],
          [
           0.06748244911432266,
           "Partial depencence for numeric variables",
           "agecat"
          ],
          [
           0.06748244911432266,
           "Partial depencence for numeric variables",
           "agecat"
          ],
          [
           0.06748244911432266,
           "Partial depencence for numeric variables",
           "agecat"
          ],
          [
           0.06748244911432266,
           "Partial depencence for numeric variables",
           "agecat"
          ],
          [
           0.06748244911432266,
           "Partial depencence for numeric variables",
           "agecat"
          ],
          [
           0.06748244911432266,
           "Partial depencence for numeric variables",
           "agecat"
          ],
          [
           0.06748244911432266,
           "Partial depencence for numeric variables",
           "agecat"
          ],
          [
           0.06748244911432266,
           "Partial depencence for numeric variables",
           "agecat"
          ],
          [
           0.06748244911432266,
           "Partial depencence for numeric variables",
           "agecat"
          ],
          [
           0.06748244911432266,
           "Partial depencence for numeric variables",
           "agecat"
          ],
          [
           0.06748244911432266,
           "Partial depencence for numeric variables",
           "agecat"
          ],
          [
           0.06748244911432266,
           "Partial depencence for numeric variables",
           "agecat"
          ],
          [
           0.06748244911432266,
           "Partial depencence for numeric variables",
           "agecat"
          ],
          [
           0.06748244911432266,
           "Partial depencence for numeric variables",
           "agecat"
          ],
          [
           0.06748244911432266,
           "Partial depencence for numeric variables",
           "agecat"
          ],
          [
           0.06748244911432266,
           "Partial depencence for numeric variables",
           "agecat"
          ],
          [
           0.06748244911432266,
           "Partial depencence for numeric variables",
           "agecat"
          ],
          [
           0.06748244911432266,
           "Partial depencence for numeric variables",
           "agecat"
          ],
          [
           0.06748244911432266,
           "Partial depencence for numeric variables",
           "agecat"
          ],
          [
           0.06748244911432266,
           "Partial depencence for numeric variables",
           "agecat"
          ],
          [
           0.06748244911432266,
           "Partial depencence for numeric variables",
           "agecat"
          ],
          [
           0.06748244911432266,
           "Partial depencence for numeric variables",
           "agecat"
          ],
          [
           0.06748244911432266,
           "Partial depencence for numeric variables",
           "agecat"
          ],
          [
           0.06748244911432266,
           "Partial depencence for numeric variables",
           "agecat"
          ],
          [
           0.06748244911432266,
           "Partial depencence for numeric variables",
           "agecat"
          ],
          [
           0.06748244911432266,
           "Partial depencence for numeric variables",
           "agecat"
          ],
          [
           0.06748244911432266,
           "Partial depencence for numeric variables",
           "agecat"
          ],
          [
           0.06748244911432266,
           "Partial depencence for numeric variables",
           "agecat"
          ],
          [
           0.06748244911432266,
           "Partial depencence for numeric variables",
           "agecat"
          ],
          [
           0.06748244911432266,
           "Partial depencence for numeric variables",
           "agecat"
          ],
          [
           0.06748244911432266,
           "Partial depencence for numeric variables",
           "agecat"
          ],
          [
           0.06748244911432266,
           "Partial depencence for numeric variables",
           "agecat"
          ],
          [
           0.06748244911432266,
           "Partial depencence for numeric variables",
           "agecat"
          ],
          [
           0.06748244911432266,
           "Partial depencence for numeric variables",
           "agecat"
          ],
          [
           0.06748244911432266,
           "Partial depencence for numeric variables",
           "agecat"
          ],
          [
           0.06748244911432266,
           "Partial depencence for numeric variables",
           "agecat"
          ],
          [
           0.06748244911432266,
           "Partial depencence for numeric variables",
           "agecat"
          ],
          [
           0.06748244911432266,
           "Partial depencence for numeric variables",
           "agecat"
          ],
          [
           0.06748244911432266,
           "Partial depencence for numeric variables",
           "agecat"
          ],
          [
           0.06748244911432266,
           "Partial depencence for numeric variables",
           "agecat"
          ],
          [
           0.06748244911432266,
           "Partial depencence for numeric variables",
           "agecat"
          ],
          [
           0.06748244911432266,
           "Partial depencence for numeric variables",
           "agecat"
          ],
          [
           0.06748244911432266,
           "Partial depencence for numeric variables",
           "agecat"
          ],
          [
           0.06748244911432266,
           "Partial depencence for numeric variables",
           "agecat"
          ],
          [
           0.06748244911432266,
           "Partial depencence for numeric variables",
           "agecat"
          ],
          [
           0.06748244911432266,
           "Partial depencence for numeric variables",
           "agecat"
          ],
          [
           0.06748244911432266,
           "Partial depencence for numeric variables",
           "agecat"
          ],
          [
           0.06748244911432266,
           "Partial depencence for numeric variables",
           "agecat"
          ],
          [
           0.06748244911432266,
           "Partial depencence for numeric variables",
           "agecat"
          ],
          [
           0.06748244911432266,
           "Partial depencence for numeric variables",
           "agecat"
          ],
          [
           0.06748244911432266,
           "Partial depencence for numeric variables",
           "agecat"
          ],
          [
           0.06748244911432266,
           "Partial depencence for numeric variables",
           "agecat"
          ],
          [
           0.06748244911432266,
           "Partial depencence for numeric variables",
           "agecat"
          ],
          [
           0.06748244911432266,
           "Partial depencence for numeric variables",
           "agecat"
          ],
          [
           0.06748244911432266,
           "Partial depencence for numeric variables",
           "agecat"
          ],
          [
           0.06748244911432266,
           "Partial depencence for numeric variables",
           "agecat"
          ],
          [
           0.06748244911432266,
           "Partial depencence for numeric variables",
           "agecat"
          ],
          [
           0.06748244911432266,
           "Partial depencence for numeric variables",
           "agecat"
          ],
          [
           0.06748244911432266,
           "Partial depencence for numeric variables",
           "agecat"
          ],
          [
           0.06748244911432266,
           "Partial depencence for numeric variables",
           "agecat"
          ],
          [
           0.06748244911432266,
           "Partial depencence for numeric variables",
           "agecat"
          ],
          [
           0.06748244911432266,
           "Partial depencence for numeric variables",
           "agecat"
          ],
          [
           0.06748244911432266,
           "Partial depencence for numeric variables",
           "agecat"
          ],
          [
           0.06748244911432266,
           "Partial depencence for numeric variables",
           "agecat"
          ]
         ],
         "hovertemplate": "<b>%{hovertext}</b><br><br>prediction=%{y:.3f}<br>mean_prediction=%{customdata[0]:.3f}<extra></extra>",
         "hovertext": [
          "Partial depencence for numeric variables",
          "Partial depencence for numeric variables",
          "Partial depencence for numeric variables",
          "Partial depencence for numeric variables",
          "Partial depencence for numeric variables",
          "Partial depencence for numeric variables",
          "Partial depencence for numeric variables",
          "Partial depencence for numeric variables",
          "Partial depencence for numeric variables",
          "Partial depencence for numeric variables",
          "Partial depencence for numeric variables",
          "Partial depencence for numeric variables",
          "Partial depencence for numeric variables",
          "Partial depencence for numeric variables",
          "Partial depencence for numeric variables",
          "Partial depencence for numeric variables",
          "Partial depencence for numeric variables",
          "Partial depencence for numeric variables",
          "Partial depencence for numeric variables",
          "Partial depencence for numeric variables",
          "Partial depencence for numeric variables",
          "Partial depencence for numeric variables",
          "Partial depencence for numeric variables",
          "Partial depencence for numeric variables",
          "Partial depencence for numeric variables",
          "Partial depencence for numeric variables",
          "Partial depencence for numeric variables",
          "Partial depencence for numeric variables",
          "Partial depencence for numeric variables",
          "Partial depencence for numeric variables",
          "Partial depencence for numeric variables",
          "Partial depencence for numeric variables",
          "Partial depencence for numeric variables",
          "Partial depencence for numeric variables",
          "Partial depencence for numeric variables",
          "Partial depencence for numeric variables",
          "Partial depencence for numeric variables",
          "Partial depencence for numeric variables",
          "Partial depencence for numeric variables",
          "Partial depencence for numeric variables",
          "Partial depencence for numeric variables",
          "Partial depencence for numeric variables",
          "Partial depencence for numeric variables",
          "Partial depencence for numeric variables",
          "Partial depencence for numeric variables",
          "Partial depencence for numeric variables",
          "Partial depencence for numeric variables",
          "Partial depencence for numeric variables",
          "Partial depencence for numeric variables",
          "Partial depencence for numeric variables",
          "Partial depencence for numeric variables",
          "Partial depencence for numeric variables",
          "Partial depencence for numeric variables",
          "Partial depencence for numeric variables",
          "Partial depencence for numeric variables",
          "Partial depencence for numeric variables",
          "Partial depencence for numeric variables",
          "Partial depencence for numeric variables",
          "Partial depencence for numeric variables",
          "Partial depencence for numeric variables",
          "Partial depencence for numeric variables",
          "Partial depencence for numeric variables",
          "Partial depencence for numeric variables",
          "Partial depencence for numeric variables",
          "Partial depencence for numeric variables",
          "Partial depencence for numeric variables",
          "Partial depencence for numeric variables",
          "Partial depencence for numeric variables",
          "Partial depencence for numeric variables",
          "Partial depencence for numeric variables",
          "Partial depencence for numeric variables",
          "Partial depencence for numeric variables",
          "Partial depencence for numeric variables",
          "Partial depencence for numeric variables",
          "Partial depencence for numeric variables",
          "Partial depencence for numeric variables",
          "Partial depencence for numeric variables",
          "Partial depencence for numeric variables",
          "Partial depencence for numeric variables",
          "Partial depencence for numeric variables",
          "Partial depencence for numeric variables",
          "Partial depencence for numeric variables",
          "Partial depencence for numeric variables",
          "Partial depencence for numeric variables",
          "Partial depencence for numeric variables",
          "Partial depencence for numeric variables",
          "Partial depencence for numeric variables",
          "Partial depencence for numeric variables",
          "Partial depencence for numeric variables",
          "Partial depencence for numeric variables",
          "Partial depencence for numeric variables",
          "Partial depencence for numeric variables",
          "Partial depencence for numeric variables",
          "Partial depencence for numeric variables",
          "Partial depencence for numeric variables",
          "Partial depencence for numeric variables",
          "Partial depencence for numeric variables",
          "Partial depencence for numeric variables",
          "Partial depencence for numeric variables",
          "Partial depencence for numeric variables",
          "Partial depencence for numeric variables"
         ],
         "legendgroup": "Partial depencence for numeric variables",
         "line": {
          "color": "#46bac2",
          "dash": "solid",
          "width": 2
         },
         "marker": {
          "symbol": "circle"
         },
         "mode": "lines",
         "name": "Partial depencence for numeric variables",
         "opacity": 1,
         "orientation": "v",
         "showlegend": false,
         "type": "scatter",
         "x": [
          1,
          1.05,
          1.1,
          1.15,
          1.2,
          1.25,
          1.3,
          1.35,
          1.4,
          1.45,
          1.5,
          1.55,
          1.6,
          1.65,
          1.7000000000000002,
          1.75,
          1.8,
          1.85,
          1.9,
          1.9500000000000002,
          2,
          2.05,
          2.1,
          2.1500000000000004,
          2.2,
          2.25,
          2.3,
          2.35,
          2.4000000000000004,
          2.45,
          2.5,
          2.55,
          2.6,
          2.6500000000000004,
          2.7,
          2.75,
          2.8,
          2.85,
          2.9000000000000004,
          2.95,
          3,
          3.0500000000000003,
          3.1,
          3.15,
          3.2,
          3.25,
          3.3000000000000003,
          3.35,
          3.4000000000000004,
          3.45,
          3.5,
          3.5500000000000003,
          3.6,
          3.6500000000000004,
          3.7,
          3.75,
          3.8000000000000003,
          3.85,
          3.9000000000000004,
          3.95,
          4,
          4.050000000000001,
          4.1,
          4.15,
          4.2,
          4.25,
          4.300000000000001,
          4.35,
          4.4,
          4.45,
          4.5,
          4.550000000000001,
          4.6,
          4.65,
          4.7,
          4.75,
          4.800000000000001,
          4.85,
          4.9,
          4.95,
          5,
          5.05,
          5.1000000000000005,
          5.15,
          5.2,
          5.25,
          5.3,
          5.3500000000000005,
          5.4,
          5.45,
          5.5,
          5.55,
          5.6000000000000005,
          5.65,
          5.7,
          5.75,
          5.800000000000001,
          5.8500000000000005,
          5.9,
          5.95,
          6
         ],
         "xaxis": "x",
         "y": [
          0.08876775205135345,
          0.08799716085195541,
          0.08723916113376617,
          0.08649368584156036,
          0.08576065301895142,
          0.08503998816013336,
          0.08433160185813904,
          0.08363541215658188,
          0.08295134454965591,
          0.08227930217981339,
          0.08161920309066772,
          0.08097097277641296,
          0.08033449947834015,
          0.07970971614122391,
          0.07909653335809708,
          0.0784948542714119,
          0.0779045969247818,
          0.07732566446065903,
          0.07675797492265701,
          0.076201431453228,
          0.07565595209598541,
          0.0751214325428009,
          0.0745977982878685,
          0.07408494502305984,
          0.07358279079198837,
          0.07309124618768692,
          0.07261021435260773,
          0.07213960587978363,
          0.07167932391166687,
          0.07122929394245148,
          0.07078941911458969,
          0.07035960257053375,
          0.06993976980447769,
          0.06952980905771255,
          0.06912965327501297,
          0.06873920559883118,
          0.06835837662220001,
          0.06798707693815231,
          0.06762523204088211,
          0.06727274507284164,
          0.06692952662706375,
          0.06659550219774246,
          0.06627057492733002,
          0.06595467031002045,
          0.06564770638942719,
          0.06534959375858307,
          0.06506025791168213,
          0.0647796019911766,
          0.06450755894184113,
          0.06424404680728912,
          0.06398898363113403,
          0.06374229490756989,
          0.06350389122962952,
          0.06327371299266815,
          0.06305167078971863,
          0.06283769011497498,
          0.06263171136379242,
          0.0624336302280426,
          0.062243398278951645,
          0.06206093356013298,
          0.06188616901636124,
          0.061719026416540146,
          0.061559442430734634,
          0.06140734255313873,
          0.06126266345381737,
          0.06112532690167427,
          0.06099527329206467,
          0.060872431844472885,
          0.06075674295425415,
          0.06064813584089279,
          0.06054654344916344,
          0.06045190989971161,
          0.06036416068673134,
          0.06028324365615845,
          0.060209088027477264,
          0.06014163792133331,
          0.06008083000779152,
          0.060026608407497406,
          0.0599789060652256,
          0.05993766710162163,
          0.05990283191204071,
          0.05987434461712837,
          0.05985214188694954,
          0.059836167842149734,
          0.05982637032866478,
          0.0598226934671402,
          0.05982507765293121,
          0.05983347073197365,
          0.05984780564904213,
          0.059868041425943375,
          0.05989411473274231,
          0.059925977140665054,
          0.05996357277035713,
          0.060006845742464066,
          0.06005574017763138,
          0.06011021137237549,
          0.06017019599676132,
          0.0602356493473053,
          0.06030651554465294,
          0.060382742434740067,
          0.0604642778635025
         ],
         "yaxis": "y"
        }
       ],
       "layout": {
        "annotations": [
         {
          "font": {
           "size": 13
          },
          "showarrow": false,
          "text": "agecat",
          "x": 0.2375,
          "xanchor": "center",
          "xref": "paper",
          "y": 0.425,
          "yanchor": "bottom",
          "yref": "paper"
         },
         {
          "font": {
           "size": 13
          },
          "showarrow": false,
          "text": "veh_value",
          "x": 0.2375,
          "xanchor": "center",
          "xref": "paper",
          "y": 1,
          "yanchor": "bottom",
          "yref": "paper"
         },
         {
          "font": {
           "size": 13
          },
          "showarrow": false,
          "text": "veh_age",
          "x": 0.7625,
          "xanchor": "center",
          "xref": "paper",
          "y": 1,
          "yanchor": "bottom",
          "yref": "paper"
         },
         {
          "font": {
           "size": 13
          },
          "showarrow": false,
          "text": "prediction",
          "textangle": -90,
          "x": -0.07,
          "xref": "paper",
          "y": 0.5,
          "yref": "paper"
         }
        ],
        "font": {
         "color": "#371ea3"
        },
        "height": 829,
        "hovermode": "x unified",
        "legend": {
         "font": {
          "size": 11
         },
         "itemsizing": "constant",
         "orientation": "h",
         "title": {
          "font": {
           "size": 12
          },
          "text": "label"
         },
         "tracegroupgap": 0,
         "x": 1,
         "xanchor": "right",
         "y": 1.0361881785283473,
         "yanchor": "bottom"
        },
        "margin": {
         "b": 71,
         "r": 30,
         "t": 78
        },
        "template": {
         "data": {
          "scatter": [
           {
            "type": "scatter"
           }
          ]
         }
        },
        "title": {
         "font": {
          "size": 16
         },
         "text": "Aggregated Profiles",
         "x": 0.15
        },
        "xaxis": {
         "anchor": "y",
         "automargin": true,
         "domain": [
          0,
          0.475
         ],
         "fixedrange": true,
         "gridwidth": 2,
         "showticklabels": true,
         "tickcolor": "white",
         "ticklen": 3,
         "ticks": "outside",
         "title": {
          "text": ""
         },
         "type": "linear",
         "zeroline": false
        },
        "xaxis2": {
         "anchor": "y2",
         "automargin": true,
         "domain": [
          0.525,
          1
         ],
         "fixedrange": true,
         "gridwidth": 2,
         "showticklabels": true,
         "tickcolor": "white",
         "ticklen": 3,
         "ticks": "outside",
         "title": {
          "text": ""
         },
         "type": "linear",
         "zeroline": false
        },
        "xaxis3": {
         "anchor": "y3",
         "automargin": true,
         "domain": [
          0,
          0.475
         ],
         "fixedrange": true,
         "gridwidth": 2,
         "showticklabels": true,
         "tickcolor": "white",
         "ticklen": 3,
         "ticks": "outside",
         "title": {
          "text": ""
         },
         "type": "linear",
         "zeroline": false
        },
        "xaxis4": {
         "anchor": "y4",
         "automargin": true,
         "domain": [
          0.525,
          1
         ],
         "fixedrange": true,
         "gridwidth": 2,
         "showticklabels": true,
         "tickcolor": "white",
         "ticklen": 3,
         "ticks": "outside",
         "title": {
          "text": ""
         },
         "type": "linear",
         "zeroline": false
        },
        "yaxis": {
         "anchor": "x",
         "automargin": true,
         "domain": [
          0,
          0.425
         ],
         "fixedrange": true,
         "gridwidth": 2,
         "range": [
          0.05254046320915222,
          0.13992722630500792
         ],
         "tickcolor": "white",
         "ticklen": 3,
         "ticks": "outside",
         "title": {
          "text": ""
         },
         "type": "linear",
         "zeroline": false
        },
        "yaxis2": {
         "anchor": "x2",
         "automargin": true,
         "domain": [
          0,
          0.425
         ],
         "fixedrange": true,
         "gridwidth": 2,
         "matches": "y",
         "range": [
          0.05254046320915222,
          0.13992722630500792
         ],
         "showticklabels": false,
         "tickcolor": "white",
         "ticklen": 3,
         "ticks": "outside",
         "title": {
          "text": ""
         },
         "type": "linear",
         "zeroline": false
        },
        "yaxis3": {
         "anchor": "x3",
         "automargin": true,
         "domain": [
          0.575,
          1
         ],
         "fixedrange": true,
         "gridwidth": 2,
         "matches": "y",
         "range": [
          0.05254046320915222,
          0.13992722630500792
         ],
         "tickcolor": "white",
         "ticklen": 3,
         "ticks": "outside",
         "title": {
          "text": ""
         },
         "type": "linear",
         "zeroline": false
        },
        "yaxis4": {
         "anchor": "x4",
         "automargin": true,
         "domain": [
          0.575,
          1
         ],
         "fixedrange": true,
         "gridwidth": 2,
         "matches": "y",
         "range": [
          0.05254046320915222,
          0.13992722630500792
         ],
         "showticklabels": false,
         "tickcolor": "white",
         "ticklen": 3,
         "ticks": "outside",
         "title": {
          "text": ""
         },
         "type": "linear",
         "zeroline": false
        }
       }
      }
     },
     "metadata": {},
     "output_type": "display_data"
    },
    {
     "data": {
      "application/vnd.plotly.v1+json": {
       "config": {
        "displaylogo": false,
        "modeBarButtonsToRemove": [
         "sendDataToCloud",
         "lasso2d",
         "autoScale2d",
         "select2d",
         "zoom2d",
         "pan2d",
         "zoomIn2d",
         "zoomOut2d",
         "resetScale2d",
         "toggleSpikelines",
         "hoverCompareCartesian",
         "hoverClosestCartesian"
        ],
        "plotlyServerURL": "https://plot.ly",
        "staticPlot": false,
        "toImageButtonOptions": {
         "height": null,
         "width": null
        }
       },
       "data": [
        {
         "alignmentgroup": "True",
         "base": [
          0.0682169646024704,
          0.0682169646024704
         ],
         "customdata": [
          [
           0.06760247051715851,
           "Partial depencence for ordinal variables",
           "gender"
          ],
          [
           0.06867053359746933,
           "Partial depencence for ordinal variables",
           "gender"
          ]
         ],
         "hovertemplate": "<b>%{hovertext}</b><br><br>mean_prediction=%{base:.3f}<br>prediction=%{customdata[0]:.3f}<extra></extra>",
         "hovertext": [
          "Partial depencence for ordinal variables",
          "Partial depencence for ordinal variables"
         ],
         "legendgroup": "Partial depencence for ordinal variables",
         "marker": {
          "color": "#46bac2",
          "pattern": {
           "shape": ""
          }
         },
         "name": "Partial depencence for ordinal variables",
         "offsetgroup": "Partial depencence for ordinal variables",
         "orientation": "v",
         "showlegend": true,
         "textposition": "auto",
         "type": "bar",
         "x": [
          "M",
          "F"
         ],
         "xaxis": "x3",
         "y": [
          -0.0006144940853118896,
          0.0004535689949989319
         ],
         "yaxis": "y3"
        },
        {
         "alignmentgroup": "True",
         "base": [
          0.0682169646024704,
          0.0682169646024704,
          0.0682169646024704,
          0.0682169646024704,
          0.0682169646024704,
          0.0682169646024704
         ],
         "customdata": [
          [
           0.07272069156169891,
           "Partial depencence for ordinal variables",
           "area"
          ],
          [
           0.06576759368181229,
           "Partial depencence for ordinal variables",
           "area"
          ],
          [
           0.06467455625534058,
           "Partial depencence for ordinal variables",
           "area"
          ],
          [
           0.06988158822059631,
           "Partial depencence for ordinal variables",
           "area"
          ],
          [
           0.06689400970935822,
           "Partial depencence for ordinal variables",
           "area"
          ],
          [
           0.07667840272188187,
           "Partial depencence for ordinal variables",
           "area"
          ]
         ],
         "hovertemplate": "<b>%{hovertext}</b><br><br>mean_prediction=%{base:.3f}<br>prediction=%{customdata[0]:.3f}<extra></extra>",
         "hovertext": [
          "Partial depencence for ordinal variables",
          "Partial depencence for ordinal variables",
          "Partial depencence for ordinal variables",
          "Partial depencence for ordinal variables",
          "Partial depencence for ordinal variables",
          "Partial depencence for ordinal variables"
         ],
         "legendgroup": "Partial depencence for ordinal variables",
         "marker": {
          "color": "#46bac2",
          "pattern": {
           "shape": ""
          }
         },
         "name": "Partial depencence for ordinal variables",
         "offsetgroup": "Partial depencence for ordinal variables",
         "orientation": "v",
         "showlegend": false,
         "textposition": "auto",
         "type": "bar",
         "x": [
          "A",
          "D",
          "C",
          "E",
          "B",
          "F"
         ],
         "xaxis": "x4",
         "y": [
          0.004503726959228516,
          -0.0024493709206581116,
          -0.0035424083471298218,
          0.0016646236181259155,
          -0.0013229548931121826,
          0.008461438119411469
         ],
         "yaxis": "y4"
        },
        {
         "alignmentgroup": "True",
         "base": [
          0.0682169646024704,
          0.0682169646024704,
          0.0682169646024704,
          0.0682169646024704,
          0.0682169646024704,
          0.0682169646024704,
          0.0682169646024704,
          0.0682169646024704,
          0.0682169646024704,
          0.0682169646024704,
          0.0682169646024704,
          0.0682169646024704,
          0.0682169646024704
         ],
         "customdata": [
          [
           0.063154436647892,
           "Partial depencence for ordinal variables",
           "veh_body"
          ],
          [
           0.07130403071641922,
           "Partial depencence for ordinal variables",
           "veh_body"
          ],
          [
           0.07021744549274445,
           "Partial depencence for ordinal variables",
           "veh_body"
          ],
          [
           0.06059649586677551,
           "Partial depencence for ordinal variables",
           "veh_body"
          ],
          [
           0.0761222317814827,
           "Partial depencence for ordinal variables",
           "veh_body"
          ],
          [
           0.08338328450918198,
           "Partial depencence for ordinal variables",
           "veh_body"
          ],
          [
           0.06458040326833725,
           "Partial depencence for ordinal variables",
           "veh_body"
          ],
          [
           0.08452752232551575,
           "Partial depencence for ordinal variables",
           "veh_body"
          ],
          [
           0.12182726711034775,
           "Partial depencence for ordinal variables",
           "veh_body"
          ],
          [
           0.1018553152680397,
           "Partial depencence for ordinal variables",
           "veh_body"
          ],
          [
           0.06603945046663284,
           "Partial depencence for ordinal variables",
           "veh_body"
          ],
          [
           0.07302320003509521,
           "Partial depencence for ordinal variables",
           "veh_body"
          ],
          [
           0.09957613050937653,
           "Partial depencence for ordinal variables",
           "veh_body"
          ]
         ],
         "hovertemplate": "<b>%{hovertext}</b><br><br>mean_prediction=%{base:.3f}<br>prediction=%{customdata[0]:.3f}<extra></extra>",
         "hovertext": [
          "Partial depencence for ordinal variables",
          "Partial depencence for ordinal variables",
          "Partial depencence for ordinal variables",
          "Partial depencence for ordinal variables",
          "Partial depencence for ordinal variables",
          "Partial depencence for ordinal variables",
          "Partial depencence for ordinal variables",
          "Partial depencence for ordinal variables",
          "Partial depencence for ordinal variables",
          "Partial depencence for ordinal variables",
          "Partial depencence for ordinal variables",
          "Partial depencence for ordinal variables",
          "Partial depencence for ordinal variables"
         ],
         "legendgroup": "Partial depencence for ordinal variables",
         "marker": {
          "color": "#46bac2",
          "pattern": {
           "shape": ""
          }
         },
         "name": "Partial depencence for ordinal variables",
         "offsetgroup": "Partial depencence for ordinal variables",
         "orientation": "v",
         "showlegend": false,
         "textposition": "auto",
         "type": "bar",
         "x": [
          "STNWG",
          "SEDAN",
          "HBACK",
          "UTE",
          "HDTOP",
          "COUPE",
          "TRUCK",
          "PANVN",
          "BUS",
          "MCARA",
          "MIBUS",
          "CONVT",
          "RDSTR"
         ],
         "xaxis": "x",
         "y": [
          -0.0050625279545784,
          0.003087066113948822,
          0.002000480890274048,
          -0.007620468735694885,
          0.007905267179012299,
          0.015166319906711578,
          -0.003636561334133148,
          0.01631055772304535,
          0.05361030250787735,
          0.033638350665569305,
          -0.002177514135837555,
          0.004806235432624817,
          0.03135916590690613
         ],
         "yaxis": "y"
        }
       ],
       "layout": {
        "annotations": [
         {
          "font": {
           "size": 13
          },
          "showarrow": false,
          "text": "veh_body",
          "x": 0.2375,
          "xanchor": "center",
          "xref": "paper",
          "y": 0.425,
          "yanchor": "bottom",
          "yref": "paper"
         },
         {
          "font": {
           "size": 13
          },
          "showarrow": false,
          "text": "gender",
          "x": 0.2375,
          "xanchor": "center",
          "xref": "paper",
          "y": 1,
          "yanchor": "bottom",
          "yref": "paper"
         },
         {
          "font": {
           "size": 13
          },
          "showarrow": false,
          "text": "area",
          "x": 0.7625,
          "xanchor": "center",
          "xref": "paper",
          "y": 1,
          "yanchor": "bottom",
          "yref": "paper"
         },
         {
          "font": {
           "size": 13
          },
          "showarrow": false,
          "text": "prediction",
          "textangle": -90,
          "x": -0.07,
          "xref": "paper",
          "y": 0.5,
          "yref": "paper"
         }
        ],
        "barmode": "group",
        "font": {
         "color": "#371ea3"
        },
        "height": 829,
        "hovermode": "x unified",
        "legend": {
         "font": {
          "size": 11
         },
         "itemsizing": "constant",
         "orientation": "h",
         "title": {
          "font": {
           "size": 12
          },
          "text": "label"
         },
         "tracegroupgap": 0,
         "x": 1,
         "xanchor": "right",
         "y": 1.0361881785283473,
         "yanchor": "bottom"
        },
        "margin": {
         "b": 71,
         "r": 30,
         "t": 78
        },
        "shapes": [
         {
          "layer": "below",
          "line": {
           "color": "#371ea3",
           "dash": "dot",
           "width": 1.5
          },
          "type": "line",
          "x0": 0,
          "x1": 1,
          "xref": "x domain",
          "y0": 0.0682169646024704,
          "y1": 0.0682169646024704,
          "yref": "y"
         },
         {
          "layer": "below",
          "line": {
           "color": "#371ea3",
           "dash": "dot",
           "width": 1.5
          },
          "type": "line",
          "x0": 0,
          "x1": 1,
          "xref": "x3 domain",
          "y0": 0.0682169646024704,
          "y1": 0.0682169646024704,
          "yref": "y3"
         },
         {
          "layer": "below",
          "line": {
           "color": "#371ea3",
           "dash": "dot",
           "width": 1.5
          },
          "type": "line",
          "x0": 0,
          "x1": 1,
          "xref": "x4 domain",
          "y0": 0.0682169646024704,
          "y1": 0.0682169646024704,
          "yref": "y4"
         },
         {
          "layer": "below",
          "line": {
           "color": "#371ea3",
           "dash": "dot",
           "width": 1.5
          },
          "type": "line",
          "x0": 0,
          "x1": 1,
          "xref": "x domain",
          "y0": 0.0682169646024704,
          "y1": 0.0682169646024704,
          "yref": "y"
         },
         {
          "layer": "below",
          "line": {
           "color": "#371ea3",
           "dash": "dot",
           "width": 1.5
          },
          "type": "line",
          "x0": 0,
          "x1": 1,
          "xref": "x3 domain",
          "y0": 0.0682169646024704,
          "y1": 0.0682169646024704,
          "yref": "y3"
         },
         {
          "layer": "below",
          "line": {
           "color": "#371ea3",
           "dash": "dot",
           "width": 1.5
          },
          "type": "line",
          "x0": 0,
          "x1": 1,
          "xref": "x4 domain",
          "y0": 0.0682169646024704,
          "y1": 0.0682169646024704,
          "yref": "y4"
         },
         {
          "layer": "below",
          "line": {
           "color": "#371ea3",
           "dash": "dot",
           "width": 1.5
          },
          "type": "line",
          "x0": 0,
          "x1": 1,
          "xref": "x domain",
          "y0": 0.0682169646024704,
          "y1": 0.0682169646024704,
          "yref": "y"
         },
         {
          "layer": "below",
          "line": {
           "color": "#371ea3",
           "dash": "dot",
           "width": 1.5
          },
          "type": "line",
          "x0": 0,
          "x1": 1,
          "xref": "x3 domain",
          "y0": 0.0682169646024704,
          "y1": 0.0682169646024704,
          "yref": "y3"
         },
         {
          "layer": "below",
          "line": {
           "color": "#371ea3",
           "dash": "dot",
           "width": 1.5
          },
          "type": "line",
          "x0": 0,
          "x1": 1,
          "xref": "x4 domain",
          "y0": 0.0682169646024704,
          "y1": 0.0682169646024704,
          "yref": "y4"
         }
        ],
        "template": {
         "data": {
          "scatter": [
           {
            "type": "scatter"
           }
          ]
         }
        },
        "title": {
         "font": {
          "size": 16
         },
         "text": "Aggregated Profiles",
         "x": 0.15
        },
        "xaxis": {
         "anchor": "y",
         "automargin": true,
         "domain": [
          0,
          0.475
         ],
         "fixedrange": true,
         "gridwidth": 2,
         "showticklabels": true,
         "tickcolor": "white",
         "ticklen": 10,
         "ticks": "outside",
         "title": {
          "text": ""
         },
         "type": "category"
        },
        "xaxis2": {
         "anchor": "y2",
         "automargin": true,
         "domain": [
          0.525,
          1
         ],
         "fixedrange": true,
         "gridwidth": 2,
         "showticklabels": true,
         "tickcolor": "white",
         "ticklen": 10,
         "ticks": "outside",
         "title": {
          "text": ""
         },
         "type": "category"
        },
        "xaxis3": {
         "anchor": "y3",
         "automargin": true,
         "domain": [
          0,
          0.475
         ],
         "fixedrange": true,
         "gridwidth": 2,
         "showticklabels": true,
         "tickcolor": "white",
         "ticklen": 10,
         "ticks": "outside",
         "title": {
          "text": ""
         },
         "type": "category"
        },
        "xaxis4": {
         "anchor": "y4",
         "automargin": true,
         "domain": [
          0.525,
          1
         ],
         "fixedrange": true,
         "gridwidth": 2,
         "showticklabels": true,
         "tickcolor": "white",
         "ticklen": 10,
         "ticks": "outside",
         "title": {
          "text": ""
         },
         "type": "category"
        },
        "yaxis": {
         "anchor": "x",
         "automargin": true,
         "domain": [
          0,
          0.425
         ],
         "fixedrange": true,
         "gridwidth": 2,
         "range": [
          0.05447341874241829,
          0.12795034423470497
         ],
         "tickcolor": "white",
         "ticklen": 3,
         "ticks": "outside",
         "title": {
          "text": ""
         },
         "type": "linear",
         "zeroline": false
        },
        "yaxis2": {
         "anchor": "x2",
         "automargin": true,
         "domain": [
          0,
          0.425
         ],
         "fixedrange": true,
         "gridwidth": 2,
         "matches": "y",
         "range": [
          0.05447341874241829,
          0.12795034423470497
         ],
         "showticklabels": false,
         "tickcolor": "white",
         "ticklen": 3,
         "ticks": "outside",
         "title": {
          "text": ""
         },
         "type": "linear",
         "zeroline": false
        },
        "yaxis3": {
         "anchor": "x3",
         "automargin": true,
         "domain": [
          0.575,
          1
         ],
         "fixedrange": true,
         "gridwidth": 2,
         "matches": "y",
         "range": [
          0.05447341874241829,
          0.12795034423470497
         ],
         "tickcolor": "white",
         "ticklen": 3,
         "ticks": "outside",
         "title": {
          "text": ""
         },
         "type": "linear",
         "zeroline": false
        },
        "yaxis4": {
         "anchor": "x4",
         "automargin": true,
         "domain": [
          0.575,
          1
         ],
         "fixedrange": true,
         "gridwidth": 2,
         "matches": "y",
         "range": [
          0.05447341874241829,
          0.12795034423470497
         ],
         "showticklabels": false,
         "tickcolor": "white",
         "ticklen": 3,
         "ticks": "outside",
         "title": {
          "text": ""
         },
         "type": "linear",
         "zeroline": false
        }
       }
      }
     },
     "metadata": {},
     "output_type": "display_data"
    }
   ],
   "source": [
    "# Interpretation\n",
    "import dalex as dx\n",
    "\n",
    "# Set up explainer\n",
    "def pred_fun(m, X):\n",
    "    return m.predict(dict_provider(X), batch_size=1000).flatten()\n",
    "\n",
    "exp = dx.Explainer(\n",
    "    model, \n",
    "    data=df_valid[dense_features + [\"veh_body\"]], \n",
    "    y=y_valid, \n",
    "    predict_function=pred_fun, \n",
    "    verbose=False\n",
    ")\n",
    "\n",
    "# Performance on validation data\n",
    "valid_log_loss = log_loss(y_valid, pred_fun(model, df_valid))\n",
    "valid_log_loss_0 = log_loss(y_valid, np.repeat(y_train.mean(), len(y_valid)))\n",
    "rel_imp = (valid_log_loss_0 - valid_log_loss) / valid_log_loss_0\n",
    "\n",
    "print(f\"Validation log-loss: \\t\\t\\t{valid_log_loss: .5}\")\n",
    "print(f\"Relative improvement in log-loss: \\t{rel_imp: .3}\")\n",
    "\n",
    "# Permutation importance\n",
    "vi = exp.model_parts()\n",
    "vi.plot()\n",
    "\n",
    "# Partial dependence\n",
    "pdp_num = exp.model_profile(\n",
    "    type=\"partial\",\n",
    "    label=\"Partial depencence for numeric variables\",\n",
    "    variables=num_features,\n",
    "    # variable_splits={\"veh_value\": [np.arange(0, 11)]},\n",
    "    verbose=False\n",
    ")\n",
    "pdp_num.plot()\n",
    "\n",
    "pdp_ord = exp.model_profile(\n",
    "    type=\"partial\",\n",
    "    label=\"Partial depencence for ordinal variables\",\n",
    "    variables=ord_features + [\"veh_body\"],\n",
    "    variable_type=\"categorical\",\n",
    "    verbose=False\n",
    ")\n",
    "pdp_ord.plot()\n"
   ]
  },
  {
   "cell_type": "markdown",
   "metadata": {},
   "source": [
    "# Exercises\n",
    "\n",
    "1. Fit diamond prices by gamma deviance loss with log-link (exponential output activation), using the custom loss function defined below. Tune the model by simple validation and evaluate it (for simplicity) on the validation data. Interpret the final model. (Hints: I used a smaller learning rate and had to replace the \"relu\" activations by \"tanh\". Furthermore, the response needed to be transformed from int to float32).\n",
    "```\n",
    "import keras.backend as K\n",
    "def loss_gamma(y_true, y_pred):\n",
    "  return -K.log(y_true / y_pred) + y_true / y_pred\n",
    "```\n",
    "2. Study either the optional claims data example or build your own neural net, predicting claim yes/no. For simplicity, you can represent the categorical feature `veh_body` by integers.\n",
    "\n",
    "# Neural Network Slang\n",
    "\n",
    "Here, we summarize some of the neural network slang.\n",
    "\n",
    "- Activation function: The transformation applied to the node values.\n",
    "- Architecture: The layout of layers and nodes.\n",
    "- Backpropagation: An efficient way to calculate gradients.\n",
    "- Batch: A couple of data rows used for one mini-batch gradient descent step.\n",
    "- Callback: An action during training (save weights, reduce learning rate, stop training, ...).\n",
    "- Epoch: The process of updating the network weights by gradient descent until each observation in the training set was used once.\n",
    "- Embedding: A numeric representation of categorical input as learned by the neural net.\n",
    "- Encoding: The values of latent variables of a hidden layer, usually the last.\n",
    "- Gradient descent: The basic optimization algorithm of neural networks.\n",
    "- Keras: User-friendly wrapper of TensorFlow.\n",
    "- Layer: Main organizational unit of a neural network.\n",
    "- Learning rate: Controls the step size of gradient descent, i.e., how aggressive the network learns.\n",
    "- Node: Nodes on the input layer are the covariates, nodes on the output layer the response(s) and nodes on a hidden layer are latent variables representing the covariates for the task to predict the response.\n",
    "- Optimizer: The specific variant of gradient descent.\n",
    "- PyTorch: An important implementation of neural networks.\n",
    "- Stochastic gradient descent (SGD): Mini-batch gradient descent with batches of size 1.\n",
    "- TensorFlow: An important implementation of neural networks.\n",
    "- Weights: The parameters of a neural net.\n",
    "\n",
    "# Chapter Summary\n",
    "\n",
    "In this chapter, we have glimpsed into the world of neural networks. Step by step we have learned how a neural network works. We have used Keras and TensorFlow to build models brick by brick.\n",
    "\n",
    "# Closing Remarks\n",
    "\n",
    "During this lecture, we have met many ML algorithms and principles. To get used to them, the best approach is practicing. [Kaggle](kaggle.com) is a great place to do so and learn from the best. \n",
    "\n",
    "A summary and comparison of the algorithms can be found on [github](https://github.com/mayer79/ML_Algorithm_Comparison). Here a screenshot as per Sept. 7, 2020: \n",
    "![](../figs/comparison_ML.PNG).\n",
    "\n",
    "# Chapter References\n",
    "\n",
    "[1] P.J. Werbos, \"Beyond Regression: New Tools for Prediction and Analysis in the Behavioral Sciences\", Dissertation, 1974.\n"
   ]
  }
 ],
 "metadata": {
  "interpreter": {
   "hash": "813f6c4cc22c03b594219174db46929469d46b04ef4db7b355912617e499b8c1"
  },
  "kernelspec": {
   "display_name": "Python 3.8.11 64-bit ('ml_lecture': conda)",
   "name": "python3"
  },
  "language_info": {
   "codemirror_mode": {
    "name": "ipython",
    "version": 3
   },
   "file_extension": ".py",
   "mimetype": "text/x-python",
   "name": "python",
   "nbconvert_exporter": "python",
   "pygments_lexer": "ipython3",
   "version": "3.8.11"
  },
  "orig_nbformat": 4
 },
 "nbformat": 4,
 "nbformat_minor": 2
}
