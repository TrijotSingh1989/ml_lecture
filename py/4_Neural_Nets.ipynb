{
 "cells": [
  {
   "cell_type": "markdown",
   "metadata": {},
   "source": [
    "# Introduction\n",
    "\n",
    "In this chapter, we dive into artificial neural networks, one of the main drivers of artificial intelligence. \n",
    "\n",
    "Neural networks are around since many decades. (Maybe) the first such model was built by Marvin Minsky in 1951. He called his algorithm SNARC (\"stochastic neural-analog reinforcement calculator\"). Since then, neural networks have gone through several stages of development. One of the milestones was the idea of Paul J. Werbos in 1974 [1] to efficiently calculate gradients in the optimization algorithm by an approach called \"backpropagation\". Another milestone was the use of GPUs  (graphics processing units) to greatly reduce calculation time.\n",
    "\n",
    "Artificial neural nets are extremely versatile and powerful. They can be used to\n",
    "\n",
    "1. fit simple models like GLMs,\n",
    "2. learn interactions and non-linear effects in an automatic way (like tree-based methods),\n",
    "3. optimize general loss functions,\n",
    "4. fit data much larger than RAM (e.g. images),\n",
    "5. learn \"online\" (update the model with additional data),\n",
    "6. fit multiple response variables at the same time,\n",
    "7. model input of dimension higher than two (e.g. images, videos),\n",
    "8. model input of *different* input dimensions (e.g. text *and* images),\n",
    "9. fit data with sequential structure in both in- and output (e.g. a text translator),\n",
    "10. model data with spatial structure (images),\n",
    "11. fit models with many millions of parameters,\n",
    "12. do non-linear dimension reduction.\n",
    "\n",
    "In this chapter, we will mainly deal with the first three aspects. Since a lot of new terms are being used, a small glossary can be found in Section \"Neural Network Slang\".\n",
    "\n",
    "# Understanding Neural Nets\n",
    "\n",
    "To learn how and why neural networks work, we will go through three steps - each illustrated on the diamonds data:\n",
    "\n",
    "- Step 1: Linear regression as neural net\n",
    "- Step 2: Hidden layers\n",
    "- Step 3: Activation functions\n",
    "\n",
    "After this, we will be ready to build more complex models.\n",
    "\n",
    "## Step 1: Linear regression as neural net\n",
    "\n",
    "Let us revisit the simple linear regression\n",
    "$$\n",
    "  E(\\text{price}) = \\alpha + \\beta \\cdot \\text{carat}\n",
    "$$\n",
    "calculated on the full diamonds data. In Chapter 1 we have found the solution $\\hat\\alpha = -2256.36$ and $\\hat \\beta = 7756.43$ by ordinary least-squares.\n",
    "\n",
    "Above situation can be viewed as a neural network with\n",
    "\n",
    "- an input layer with two nodes (`carat` and the intercept called \"bias unit\" with value 1),\n",
    "- a \"fully connected\" (= \"dense\") output layer with one node (`price`). Fully connected means that each node of a layer is a linear function of all node values of the previous layer. Each linear function has parameters or *weights* to be estimated, in our simple case just $\\alpha$ and $\\beta$.\n",
    "\n",
    "Visualized as a graph, the situation looks as follows.\n",
    "\n",
    "![](../figs/nn_simple_linear.PNG)\n",
    "\n",
    "*Part of the figures were done with this cool [webtool](http://alexlenail.me/NN-SVG/index.html).*\n",
    "\n",
    "To gain confidence in neural nets, we first show that parameters estimated by a neural network are quite similar to the ones learned by linear least-squares. To do so, we will use Google's [TensorFlow](https://www.tensorflow.org/) with its convenient (functional) [Keras](https://keras.io/) interface. \n",
    "\n",
    "### Example: simple linear regression"
   ]
  },
  {
   "cell_type": "code",
   "execution_count": 50,
   "metadata": {},
   "outputs": [
    {
     "name": "stdout",
     "output_type": "stream",
     "text": [
      "Fitted coefficients with neural net: [array([[7724.376]], dtype=float32), array([-2218.6233], dtype=float32)]\n"
     ]
    }
   ],
   "source": [
    "import numpy as np\n",
    "from tensorflow import keras\n",
    "from tensorflow.keras import layers\n",
    "from tensorflow.keras.metrics import RootMeanSquaredError as RMSE\n",
    "\n",
    "from plotnine.data import diamonds\n",
    "\n",
    "# Input layer: we have 1 covariate\n",
    "inputs = keras.Input(shape=(1,))\n",
    "\n",
    "# Output layer densely connected to the input layer\n",
    "outputs = layers.Dense(1)(inputs)\n",
    "\n",
    "# Create model\n",
    "model = keras.Model(inputs=inputs, outputs=outputs)\n",
    "# model.summary()\n",
    "\n",
    "# Compile model\n",
    "model.compile(\n",
    "    loss=\"mse\",\n",
    "    optimizer=keras.optimizers.Adam(learning_rate=1),\n",
    "    metrics=[RMSE()],\n",
    ")\n",
    "\n",
    "# Fit model - naive without validation\n",
    "history = model.fit(\n",
    "  x=diamonds[\"carat\"],\n",
    "  y=diamonds[\"price\"],\n",
    "  epochs=30,\n",
    "  batch_size=100, \n",
    "  verbose=0\n",
    ")\n",
    "\n",
    "# Fitted coefficients\n",
    "print(\"Fitted coefficients with neural net:\", model.get_weights())"
   ]
  },
  {
   "cell_type": "code",
   "execution_count": 51,
   "metadata": {},
   "outputs": [
    {
     "name": "stdout",
     "output_type": "stream",
     "text": [
      "\n",
      "Fitted with OLS:\n",
      "Intercept   -2256.360580\n",
      "carat        7756.425618\n",
      "dtype: float64\n"
     ]
    }
   ],
   "source": [
    "# Compare with linear regression fitted with OLS\n",
    "import statsmodels.formula.api as smf\n",
    "\n",
    "ols = smf.ols(formula=\"price ~ carat\", data=diamonds)\n",
    "res = ols.fit()\n",
    "print(\"\\nFitted with OLS:\", res.params, sep=\"\\n\")"
   ]
  },
  {
   "cell_type": "code",
   "execution_count": 52,
   "metadata": {},
   "outputs": [
    {
     "data": {
      "image/png": "[encoded data removed]",
      "text/plain": [
       "<Figure size 432x288 with 1 Axes>"
      ]
     },
     "metadata": {
      "needs_background": "light"
     },
     "output_type": "display_data"
    }
   ],
   "source": [
    "# Training RMSE over epochs\n",
    "import matplotlib.pyplot as plt\n",
    "plt.plot(history.history[\"root_mean_squared_error\"])\n",
    "plt.title(\"Training RMSE over epochs\")\n",
    "plt.ylabel(\"RMSE\")\n",
    "plt.xlabel(\"Epoch\");"
   ]
  },
  {
   "cell_type": "code",
   "execution_count": 53,
   "metadata": {},
   "outputs": [
    {
     "data": {
      "image/png": "[encoded data removed]",
      "text/plain": [
       "<Figure size 432x288 with 1 Axes>"
      ]
     },
     "metadata": {
      "needs_background": "light"
     },
     "output_type": "display_data"
    }
   ],
   "source": [
    "# Effect of carat on average price\n",
    "carat = np.linspace(0, 3, 30)\n",
    "plt.plot(carat, model(carat), marker=\"o\")\n",
    "plt.title(\"Effect of carat on average price\")\n",
    "plt.ylabel(\"price\")\n",
    "plt.xlabel(\"carat\")\n",
    "plt.grid()"
   ]
  },
  {
   "cell_type": "markdown",
   "metadata": {},
   "source": [
    "**Comment:** The solution of the simple neural network is indeed quite similar to the OLS solution. \n",
    "\n",
    "### The optimization algorithm\n",
    "\n",
    "Neural nets are typically fitted by **mini-batch gradient descent**, using **backpropagation** to efficiently calculate gradients. It works as follows:\n",
    "\n",
    "1. Initiate the parameters with random values. \n",
    "2. Forward step: Use the parameters to predict all observations of a *batch*. A batch is a randomly selected subset of the full data set.\n",
    "3. Backpropagation step: Change the parameters in the right direction, making the loss of the current batch smaller. This involves calculating derivatives (\"gradients\") of the loss function (e.g. MSE) with respect to all parameters. Backpropagation does so in a layer-per-layer fashion, making heavy use of the chain rule. \n",
    "4. Repeat Steps 2-3 until each observation appeared in a batch. This is called an *epoch*.\n",
    "5. Repeat Step 4 for multiple epochs until the parameter estimates stabilize or validation performance stops improving.\n",
    "\n",
    "Gradient descent on batches of size 1 is called \"stochastic gradient descent\" (SGD).\n",
    "\n",
    "## Step 2: Hidden layers\n",
    "\n",
    "Our first neural network above consisted of only an input layer and an output layer. By adding one or more *hidden* layers between in- and output, the network gains additional parameters, and thus more flexibility. The nodes of a hidden layer can be viewed as latent variables, representing the original covariates. The nodes of a hidden layer are sometimes called *encoding*. The closer a layer is to the output, the better its nodes are suitable to predict the response variable. In this way, a neural network finds the right transformations and interactions of its covariates in an automatic way. The only ingredients are a large data set and a flexible enough network \"architecture\" (number of layers, nodes per layer). \n",
    "\n",
    "Neural nets with more than one hidden layer are called \"deep neural nets\".\n",
    "\n",
    "We will now add a hidden layer with five nodes $v_1, \\dots, v_5$ to our simple linear regression network. The architecture looks as follows:\n",
    "\n",
    "![](../figs/nn_1_hidden.PNG)\n",
    "\n",
    "This network has 16 parameters. How much better than our simple network with just two parameters will it be?\n",
    "\n",
    "### Example: hidden layer\n",
    "\n",
    "The following code is almost identical to the last one up, except that there is a hidden layer between input and output layer."
   ]
  },
  {
   "cell_type": "code",
   "execution_count": 62,
   "metadata": {},
   "outputs": [
    {
     "data": {
      "text/plain": [
       "<tensorflow.python.keras.callbacks.History at 0x1a62ba572b0>"
      ]
     },
     "execution_count": 62,
     "metadata": {},
     "output_type": "execute_result"
    }
   ],
   "source": [
    "import numpy as np\n",
    "from tensorflow import keras\n",
    "from tensorflow.keras import layers\n",
    "from tensorflow.keras.metrics import RootMeanSquaredError as RMSE\n",
    "\n",
    "from plotnine.data import diamonds\n",
    "\n",
    "# Input layer: we have 1 covariate\n",
    "inputs = keras.Input(shape=(1,))\n",
    "\n",
    "# One hidden layer with 5 nodes\n",
    "hidden = layers.Dense(5)(inputs)  # new line of code!\n",
    "\n",
    "# Output layer now connected to the hidden layer\n",
    "outputs = layers.Dense(1)(hidden) # modified\n",
    "\n",
    "# Create model\n",
    "model = keras.Model(inputs=inputs, outputs=outputs)\n",
    "# model.summary()\n",
    "\n",
    "# Compile model\n",
    "model.compile(\n",
    "    loss=\"mse\",\n",
    "    optimizer=keras.optimizers.Adam(learning_rate=1),\n",
    "    metrics=[RMSE()],\n",
    ")\n",
    "\n",
    "# Fit model - naive without validation\n",
    "model.fit(\n",
    "  x=diamonds[\"carat\"],\n",
    "  y=diamonds[\"price\"],\n",
    "  epochs=30,\n",
    "  batch_size=100, \n",
    "  verbose=0\n",
    ")"
   ]
  },
  {
   "cell_type": "code",
   "execution_count": 63,
   "metadata": {},
   "outputs": [
    {
     "data": {
      "image/png": "[encoded data removed]",
      "text/plain": [
       "<Figure size 432x288 with 1 Axes>"
      ]
     },
     "metadata": {
      "needs_background": "light"
     },
     "output_type": "display_data"
    }
   ],
   "source": [
    "# Plot effect\n",
    "import matplotlib.pyplot as plt\n",
    "\n",
    "carat = np.linspace(0, 3, 30)\n",
    "plt.plot(carat, model(carat), marker=\"o\")\n",
    "plt.title(\"Effect of carat on average price\")\n",
    "plt.ylabel(\"price\")\n",
    "plt.xlabel(\"carat\")\n",
    "plt.grid()"
   ]
  },
  {
   "cell_type": "markdown",
   "metadata": {},
   "source": [
    "**Comment:** Oops, it seems as if the extra hidden layer had no effect. The reason is that a linear function of a linear function is still a linear function. Adding the hidden layer did not really change the capabilities of the model. It just added a lot of unnecessary parameters.\n",
    "\n",
    "## Step 3: Activation functions\n",
    "\n",
    "The missing magic component is the so called [*activation* function](https://en.wikipedia.org/wiki/Activation_function) $\\sigma$ after each layer, which transforms the values of the nodes. So far, we have implicitly used \"linear activations\", which - in neural network slang - is just the identity function. \n",
    "\n",
    "Applying *non-linear* activation functions after hidden layers have the purpose to introduce non-linear and interaction effects. Typical such functions are\n",
    "\n",
    "- the hyperbolic tangent (\"S\"-shaped function that maps real values to $[-1, 1]$),\n",
    "- the sigmoidal function (\"S\"-shaped function that maps real values to $[0, 1]$),\n",
    "- the **re**ctangular **l**inear **u**nit \"ReLU\" $f(x) = \\text{max}(0, x)$ that sets negative values to 0.\n",
    "\n",
    "Activation functions applied to the *output* layer have a different purpose, namely the same as the inverse of the link function of a corresponding GLM. It maps predictions to the scale of the response: \n",
    "\n",
    "- linear regression -> linear activation\n",
    "- binary logistic regression -> sigmoid activation (to predict probability of \"1\")\n",
    "- multinomial logistic regression -> softmax activation (to predict one probability per class)\n",
    "- log-linear regression -> exponential activation\n",
    "\n",
    "Let us add a hyperbolic tangent activation function ($\\sigma$) after the hidden layer of our simple example.\n",
    "\n",
    "![](../figs/nn_activation.PNG)\n",
    "\n",
    "### Example: activation functions\n",
    "\n",
    "Again, the code is very similar to the last one, with the exception of using a hyperbolic tangent activation after the hidden layer (and different learning rate and number of epochs)."
   ]
  },
  {
   "cell_type": "code",
   "execution_count": 64,
   "metadata": {},
   "outputs": [
    {
     "data": {
      "text/plain": [
       "<tensorflow.python.keras.callbacks.History at 0x1a62bd62970>"
      ]
     },
     "execution_count": 64,
     "metadata": {},
     "output_type": "execute_result"
    }
   ],
   "source": [
    "import numpy as np\n",
    "from tensorflow import keras\n",
    "from tensorflow.keras import layers\n",
    "from tensorflow.keras.metrics import RootMeanSquaredError as RMSE\n",
    "\n",
    "from plotnine.data import diamonds\n",
    "\n",
    "# Input layer: we have 1 covariate\n",
    "inputs = keras.Input(shape=(1,))\n",
    "\n",
    "# One hidden layer with 5 nodes\n",
    "hidden = layers.Dense(5, activation=\"tanh\")(inputs)\n",
    "\n",
    "# Output layer now connected to the hidden layer\n",
    "outputs = layers.Dense(1, activation=\"linear\")(hidden)\n",
    "\n",
    "# Create model\n",
    "model = keras.Model(inputs=inputs, outputs=outputs)\n",
    "# model.summary()\n",
    "\n",
    "# Compile model\n",
    "model.compile(\n",
    "    loss=\"mse\",\n",
    "    optimizer=keras.optimizers.Adam(learning_rate=0.2),\n",
    "    metrics=[RMSE()],\n",
    ")\n",
    "\n",
    "# Fit model - naive without validation\n",
    "model.fit(\n",
    "  x=diamonds[\"carat\"],\n",
    "  y=diamonds[\"price\"],\n",
    "  epochs=50,\n",
    "  batch_size=100, \n",
    "  verbose=0\n",
    ")"
   ]
  },
  {
   "cell_type": "code",
   "execution_count": 65,
   "metadata": {},
   "outputs": [
    {
     "data": {
      "image/png": "[encoded data removed]",
      "text/plain": [
       "<Figure size 432x288 with 1 Axes>"
      ]
     },
     "metadata": {
      "needs_background": "light"
     },
     "output_type": "display_data"
    }
   ],
   "source": [
    "# Plot effect\n",
    "import matplotlib.pyplot as plt\n",
    "\n",
    "carat = np.linspace(0, 3, 30)\n",
    "plt.plot(carat, model(carat), marker=\"o\")\n",
    "plt.title(\"Effect of carat on average price\")\n",
    "plt.ylabel(\"price\")\n",
    "plt.xlabel(\"carat\")\n",
    "plt.grid()"
   ]
  },
  {
   "cell_type": "markdown",
   "metadata": {},
   "source": [
    "**Comment:** Adding the non-linear activation after the hidden layer has changed the model. The effect of carat is now representing the association between carat and price by a non-linear function.\n",
    "\n",
    "# Practical Considerations\n",
    "\n",
    "## Validation and tuning of main parameters\n",
    "\n",
    "So far, we have naively fitted the neural networks without splitting the data for test and validation. Don't do this! Usually, one sets a small test dataset (e.g. 10% of rows) aside to assess the final model performance and use simple (or cross-)validation for model tuning.\n",
    "\n",
    "In order to choose the main tuning parameters, namely\n",
    "\n",
    "- network architecture,\n",
    "- activation functions,\n",
    "- learning rate, \n",
    "- batch size, and\n",
    "- number of epochs, \n",
    "\n",
    "one often uses simple validation because cross-validation takes too much time.\n",
    "\n",
    "## Missing values\n",
    "\n",
    "A neural net does not accept missing values in the input. They need to be filled, e.g., by a typcial value or a value below the minimum.\n",
    "\n",
    "## Input standardization\n",
    "\n",
    "Gradient descent starts by random initialization of parameters. This step is optimized for standardized input. Standardization has to be done manually by either\n",
    "\n",
    "- min/max scale the values of each input to the range -1 to 1,\n",
    "- standard scale the values of each input to mean 0 and standard deviation 1, or\n",
    "- use relative ranks.\n",
    "\n",
    "Note that the scaling transformation is calculated on the training data and then applied to the validation and test data. This usually requires a couple of lines of code.\n",
    "\n",
    "## Categorical input\n",
    "\n",
    "There are three ways to represent categorical input variables in a neural network. \n",
    "\n",
    "1. Binary and ordinal categoricals are best represented by integers and then treated as numeric.\n",
    "2. Unordered categoricals are either one-hot-encoded (i.e., each category is represented by a binary variable) or \n",
    "3. they are represented by a (categorical) embedding. To do so, the categories are integer encoded and then condensed by a special *embedding layer* to a few (usually 1 or 2) dense features. This requires a more complex network architecture but saves memory and preprocessing. This approach is heavily used when the input consists of words (which is a categorical variable with thousands of levels - one level per word).\n",
    "\n",
    "For Option 2, input standardization is not required, for Option 3 it *must* not be applied as the embedding layer expects integers.\n",
    "\n",
    "## Callbacks\n",
    "\n",
    "Sometimes, we want to take actions during training, such as\n",
    "\n",
    "- stop training when validation performance starts worsening,\n",
    "- reduce the learning rate when the optimization is stuck in a \"plateau\", or\n",
    "- save the network weights between epochs.\n",
    "\n",
    "Such monitoring tasks are called *callbacks*. We will see them in the example below.\n",
    "\n",
    "## Types of layers\n",
    "\n",
    "So far, we have encountered only dense (= fully connected) layers and activation layers. Here some further types:\n",
    "\n",
    "- Embedding layers to represent integer encoded categoricals.\n",
    "- Dropout layers to add regularization.\n",
    "- Convolutional and pooling layers for image data.\n",
    "- Recurrent layers (long-short-term memory LSTM, gated recurrent unit GRU) for sequence data.\n",
    "- Concatenation layers to combine different branches of the network (like in a directed graph).\n",
    "- Flatten layers to bring higher dimensional layers to dimension 1 (relevant, e.g., for embeddings, image and text data).\n",
    "\n",
    "## Optimizer\n",
    "\n",
    "Pure gradient descent is rarely applied without tweaks because it tends to be stuck in local minima, especially for complex networks with non-convex objective surfaces. Modern variants are \"adam\", \"nadam\" and \"RMSProp\". These optimizers work usually out-of-the-box, except for the learning rate, which has to be manually chosen.\n",
    "\n",
    "## Custom losses and evaluation metrics\n",
    "\n",
    "Frameworks like Keras/TensorFlow offer many predefined loss functions and evaluation metrics. Choosing them is a crucial step, just as with tree boosting.\n",
    "Using TensorFlow's backend functions, one can define own metrics and loss functions (see exercises).\n",
    "\n",
    "## Overfitting and regularization\n",
    "\n",
    "As with linear models, a model with too many parameters will overfit in an undesired way. With about 50 to 100 observations per parameter, overfitting is usually unproblematic. (For image and text data, different rules apply). Besides using less parameters, the main options to reduce overfitting are the following:\n",
    "\n",
    "- pull the parameters of a layer slightly towards zero by applying L1 and/or L2 penalties to the parameters,\n",
    "- add dropout layers. A dropout layer randomly sets some of the node values of the previous layer to 0, switching them off. This is an elegant way to fight overfitting and is related to bagging.\n",
    "\n",
    "## Choosing the architecture\n",
    "\n",
    "How many layers and number of nodes per layer to select? For tabular data, using 1-3 hidden layers is usually enough. If we start with $m$ input variables, the number of nodes in the first hidden layer is usually higher than $m$ and reduces for later layers. There should not be a \"representational bottleneck\", i.e., an early hidden layer with too few parameters. \n",
    "\n",
    "The number of parameters should not be too high compared to the number of rows, see \"Overfitting and regularization\" above. \n",
    "\n",
    "## Interpretation\n",
    "\n",
    "Variable importance of covariates in neural networks can be assessed by permutation importance (how much performance is lost when shuffling column X?) or SHAP importance. Covariate effects can be investigated, e.g., by partial dependence plots or SHAP dependence plots.\n",
    "\n",
    "# Example: diamonds\n",
    "\n",
    "We will now fit a neural net with two hidden layers (30 and 15 nodes) and a total of 631 parameters to model diamond prices. Learning rate and batch size were chosen by simple validation. The number of epochs is being chosen by an early stopping callback.\n",
    "\n",
    "![](../figs/nn_2_hidden.PNG)\n"
   ]
  },
  {
   "cell_type": "code",
   "execution_count": 1,
   "metadata": {},
   "outputs": [],
   "source": [
    "import numpy as np\n",
    "from tensorflow import keras\n",
    "from tensorflow.keras import layers\n",
    "from tensorflow.keras.metrics import RootMeanSquaredError as RMSE\n",
    "\n",
    "from plotnine.data import diamonds"
   ]
  },
  {
   "cell_type": "code",
   "execution_count": 6,
   "metadata": {},
   "outputs": [
    {
     "name": "stdout",
     "output_type": "stream",
     "text": [
      "cut : ['Fair', 'Good', 'Very Good', 'Premium', 'Ideal']\n",
      "color : ['D', 'E', 'F', 'G', 'H', 'I', 'J']\n",
      "clarity : ['I1', 'SI2', 'SI1', 'VS2', 'VS1', 'VVS2', 'VVS1', 'IF']\n"
     ]
    },
    {
     "data": {
      "text/plain": [
       "array([[ 0.98143089, -1.5256479 ,  0.57680845, -0.60749424],\n",
       "       [-0.80744346, -1.5256479 , -1.24422106,  1.01420318],\n",
       "       [-0.80744346,  0.82624444, -0.63721122, -0.0809691 ],\n",
       "       [ 0.98143089, -0.34970173, -0.03020138, -0.96553133],\n",
       "       [-2.5963178 , -0.93767482, -0.63721122,  0.42449503]])"
      ]
     },
     "execution_count": 6,
     "metadata": {},
     "output_type": "execute_result"
    }
   ],
   "source": [
    "from sklearn.preprocessing import OrdinalEncoder, StandardScaler\n",
    "from sklearn.compose import ColumnTransformer\n",
    "from sklearn.pipeline import make_pipeline\n",
    "from sklearn.model_selection import train_test_split\n",
    "\n",
    "# Ordinal encoder for cut, color, and clarity\n",
    "ord_features = [\"cut\", \"color\", \"clarity\"]\n",
    "ord_levels = [\n",
    "    diamonds[x].cat.categories.to_list() for x in ord_features\n",
    "]\n",
    "ordinal_encoder = OrdinalEncoder(categories=ordinal_levels)\n",
    "\n",
    "# To improve convergence of neural net, scale everyone\n",
    "preprocessor = make_pipeline(\n",
    "    ColumnTransformer(\n",
    "        transformers=[\n",
    "            (\"ordinal\", ordinal_encoder, ordinal_features),\n",
    "            (\"numeric\", \"passthrough\", [\"carat\"])\n",
    "        ],\n",
    "        remainder=\"drop\"\n",
    "    ),\n",
    "    StandardScaler()\n",
    ")\n",
    "\n",
    "# Create data pieces for training and validation\n",
    "df_train, df_valid, y_train, y_valid = train_test_split(\n",
    "    diamonds[features], \n",
    "    diamonds[\"price\"].astype(\"float\"), \n",
    "    test_size=0.2, \n",
    "    random_state=341\n",
    ")\n",
    "\n",
    "X_train = preprocessor.fit_transform(df_train)\n",
    "X_valid = preprocessor.transform(df_valid)\n",
    "X_valid[0:5,]"
   ]
  },
  {
   "cell_type": "code",
   "execution_count": 58,
   "metadata": {},
   "outputs": [
    {
     "name": "stdout",
     "output_type": "stream",
     "text": [
      "Epoch 1/1000\n",
      "108/108 [==============================] - 0s 3ms/step - loss: 3392746.7500 - root_mean_squared_error: 1841.9410 - val_loss: 984756.2500 - val_root_mean_squared_error: 992.3489\n",
      "Epoch 2/1000\n",
      "108/108 [==============================] - 0s 2ms/step - loss: 1000499.0000 - root_mean_squared_error: 1000.2495 - val_loss: 843337.6875 - val_root_mean_squared_error: 918.3342\n",
      "Epoch 3/1000\n",
      "108/108 [==============================] - 0s 2ms/step - loss: 876392.4375 - root_mean_squared_error: 936.1583 - val_loss: 707895.6250 - val_root_mean_squared_error: 841.3654\n",
      "Epoch 4/1000\n",
      "108/108 [==============================] - 0s 2ms/step - loss: 813283.0625 - root_mean_squared_error: 901.8221 - val_loss: 713916.2500 - val_root_mean_squared_error: 844.9357\n",
      "Epoch 5/1000\n",
      "108/108 [==============================] - 0s 2ms/step - loss: 846154.5000 - root_mean_squared_error: 919.8666 - val_loss: 661596.0000 - val_root_mean_squared_error: 813.3855\n",
      "Epoch 6/1000\n",
      "108/108 [==============================] - 0s 2ms/step - loss: 736874.6250 - root_mean_squared_error: 858.4140 - val_loss: 703038.8125 - val_root_mean_squared_error: 838.4741\n",
      "Epoch 7/1000\n",
      "108/108 [==============================] - 0s 2ms/step - loss: 708665.3125 - root_mean_squared_error: 841.8226 - val_loss: 638124.5000 - val_root_mean_squared_error: 798.8269\n",
      "Epoch 8/1000\n",
      "108/108 [==============================] - 0s 2ms/step - loss: 726800.5625 - root_mean_squared_error: 852.5260 - val_loss: 621135.3750 - val_root_mean_squared_error: 788.1214\n",
      "Epoch 9/1000\n",
      "108/108 [==============================] - 0s 2ms/step - loss: 641222.2500 - root_mean_squared_error: 800.7635 - val_loss: 590099.5625 - val_root_mean_squared_error: 768.1794\n",
      "Epoch 10/1000\n",
      "108/108 [==============================] - 0s 2ms/step - loss: 612582.1250 - root_mean_squared_error: 782.6763 - val_loss: 564240.0625 - val_root_mean_squared_error: 751.1591\n",
      "Epoch 11/1000\n",
      "108/108 [==============================] - 0s 2ms/step - loss: 559567.1250 - root_mean_squared_error: 748.0422 - val_loss: 506839.4688 - val_root_mean_squared_error: 711.9266\n",
      "Epoch 12/1000\n",
      "108/108 [==============================] - 0s 2ms/step - loss: 502575.2812 - root_mean_squared_error: 708.9255 - val_loss: 475435.2812 - val_root_mean_squared_error: 689.5181\n",
      "Epoch 13/1000\n",
      "108/108 [==============================] - 0s 2ms/step - loss: 534392.2500 - root_mean_squared_error: 731.0214 - val_loss: 446218.6875 - val_root_mean_squared_error: 667.9960\n",
      "Epoch 14/1000\n",
      "108/108 [==============================] - 0s 2ms/step - loss: 467849.9688 - root_mean_squared_error: 683.9956 - val_loss: 488552.8750 - val_root_mean_squared_error: 698.9656\n",
      "Epoch 15/1000\n",
      "108/108 [==============================] - 0s 2ms/step - loss: 462897.0312 - root_mean_squared_error: 680.3653 - val_loss: 439569.4062 - val_root_mean_squared_error: 663.0003\n",
      "Epoch 16/1000\n",
      "108/108 [==============================] - 0s 2ms/step - loss: 439965.2812 - root_mean_squared_error: 663.2988 - val_loss: 603460.1250 - val_root_mean_squared_error: 776.8270\n",
      "Epoch 17/1000\n",
      "108/108 [==============================] - 0s 2ms/step - loss: 445188.1875 - root_mean_squared_error: 667.2242 - val_loss: 417532.7812 - val_root_mean_squared_error: 646.1678\n",
      "Epoch 18/1000\n",
      "108/108 [==============================] - 0s 2ms/step - loss: 462169.0000 - root_mean_squared_error: 679.8301 - val_loss: 625456.6875 - val_root_mean_squared_error: 790.8582\n",
      "Epoch 19/1000\n",
      "108/108 [==============================] - 0s 2ms/step - loss: 461856.1250 - root_mean_squared_error: 679.6000 - val_loss: 425965.6250 - val_root_mean_squared_error: 652.6604\n",
      "Epoch 20/1000\n",
      "108/108 [==============================] - 0s 2ms/step - loss: 421008.9375 - root_mean_squared_error: 648.8520 - val_loss: 414869.7500 - val_root_mean_squared_error: 644.1038\n",
      "Epoch 21/1000\n",
      "108/108 [==============================] - 0s 2ms/step - loss: 426733.7188 - root_mean_squared_error: 653.2487 - val_loss: 457768.1562 - val_root_mean_squared_error: 676.5856\n",
      "Epoch 22/1000\n",
      "108/108 [==============================] - 0s 2ms/step - loss: 420953.2188 - root_mean_squared_error: 648.8091 - val_loss: 449505.4688 - val_root_mean_squared_error: 670.4517\n",
      "Epoch 23/1000\n",
      "108/108 [==============================] - 0s 2ms/step - loss: 415021.2188 - root_mean_squared_error: 644.2214 - val_loss: 394573.4688 - val_root_mean_squared_error: 628.1508\n",
      "Epoch 24/1000\n",
      "108/108 [==============================] - 0s 2ms/step - loss: 408631.7812 - root_mean_squared_error: 639.2431 - val_loss: 404234.9062 - val_root_mean_squared_error: 635.7947\n",
      "Epoch 25/1000\n",
      "108/108 [==============================] - 0s 2ms/step - loss: 416076.9688 - root_mean_squared_error: 645.0403 - val_loss: 388519.5312 - val_root_mean_squared_error: 623.3134\n",
      "Epoch 26/1000\n",
      "108/108 [==============================] - 0s 2ms/step - loss: 418274.2812 - root_mean_squared_error: 646.7413 - val_loss: 380723.5312 - val_root_mean_squared_error: 617.0280\n",
      "Epoch 27/1000\n",
      "108/108 [==============================] - 0s 2ms/step - loss: 434072.8750 - root_mean_squared_error: 658.8420 - val_loss: 388878.6562 - val_root_mean_squared_error: 623.6014\n",
      "Epoch 28/1000\n",
      "108/108 [==============================] - 0s 2ms/step - loss: 411129.3438 - root_mean_squared_error: 641.1937 - val_loss: 373901.8125 - val_root_mean_squared_error: 611.4751\n",
      "Epoch 29/1000\n",
      "108/108 [==============================] - 0s 2ms/step - loss: 390482.8750 - root_mean_squared_error: 624.8863 - val_loss: 387218.4375 - val_root_mean_squared_error: 622.2688\n",
      "Epoch 30/1000\n",
      "108/108 [==============================] - 0s 2ms/step - loss: 409301.5625 - root_mean_squared_error: 639.7668 - val_loss: 408604.0000 - val_root_mean_squared_error: 639.2214\n",
      "Epoch 31/1000\n",
      "108/108 [==============================] - 0s 1ms/step - loss: 408344.7188 - root_mean_squared_error: 639.0186 - val_loss: 406594.0625 - val_root_mean_squared_error: 637.6473\n",
      "Epoch 32/1000\n",
      "108/108 [==============================] - 0s 1ms/step - loss: 437257.4062 - root_mean_squared_error: 661.2544 - val_loss: 369434.6875 - val_root_mean_squared_error: 607.8114\n",
      "Epoch 33/1000\n",
      "108/108 [==============================] - 0s 1ms/step - loss: 416540.9062 - root_mean_squared_error: 645.3998 - val_loss: 387954.0938 - val_root_mean_squared_error: 622.8596\n",
      "Epoch 34/1000\n",
      "108/108 [==============================] - 0s 1ms/step - loss: 385079.3750 - root_mean_squared_error: 620.5477 - val_loss: 374362.5625 - val_root_mean_squared_error: 611.8517\n",
      "Epoch 35/1000\n",
      "108/108 [==============================] - 0s 1ms/step - loss: 377110.1250 - root_mean_squared_error: 614.0930 - val_loss: 355407.1875 - val_root_mean_squared_error: 596.1604\n",
      "Epoch 36/1000\n",
      "108/108 [==============================] - 0s 1ms/step - loss: 395967.0938 - root_mean_squared_error: 629.2592 - val_loss: 539289.7500 - val_root_mean_squared_error: 734.3635\n",
      "Epoch 37/1000\n",
      "108/108 [==============================] - 0s 1ms/step - loss: 385645.5000 - root_mean_squared_error: 621.0036 - val_loss: 380783.0938 - val_root_mean_squared_error: 617.0762\n",
      "Epoch 38/1000\n",
      "108/108 [==============================] - 0s 1ms/step - loss: 404386.5000 - root_mean_squared_error: 635.9139 - val_loss: 383414.1875 - val_root_mean_squared_error: 619.2045\n",
      "Epoch 39/1000\n",
      "108/108 [==============================] - 0s 1ms/step - loss: 395917.8438 - root_mean_squared_error: 629.2200 - val_loss: 361478.2812 - val_root_mean_squared_error: 601.2307\n",
      "Epoch 40/1000\n",
      "108/108 [==============================] - 0s 1ms/step - loss: 373997.8750 - root_mean_squared_error: 611.5536 - val_loss: 351797.4062 - val_root_mean_squared_error: 593.1251\n",
      "Epoch 41/1000\n",
      "108/108 [==============================] - 0s 1ms/step - loss: 381319.4375 - root_mean_squared_error: 617.5107 - val_loss: 375849.5938 - val_root_mean_squared_error: 613.0657\n",
      "Epoch 42/1000\n",
      "108/108 [==============================] - 0s 1ms/step - loss: 376437.0312 - root_mean_squared_error: 613.5446 - val_loss: 363784.1875 - val_root_mean_squared_error: 603.1453\n",
      "Epoch 43/1000\n",
      "108/108 [==============================] - 0s 1ms/step - loss: 389355.6250 - root_mean_squared_error: 623.9837 - val_loss: 342482.6562 - val_root_mean_squared_error: 585.2202\n",
      "Epoch 44/1000\n",
      "108/108 [==============================] - 0s 2ms/step - loss: 392532.6875 - root_mean_squared_error: 626.5243 - val_loss: 360752.3125 - val_root_mean_squared_error: 600.6266\n",
      "Epoch 45/1000\n",
      "108/108 [==============================] - 0s 2ms/step - loss: 378670.4062 - root_mean_squared_error: 615.3620 - val_loss: 352805.0000 - val_root_mean_squared_error: 593.9739\n",
      "Epoch 46/1000\n",
      "108/108 [==============================] - 0s 1ms/step - loss: 405550.5625 - root_mean_squared_error: 636.8285 - val_loss: 350847.2812 - val_root_mean_squared_error: 592.3236\n",
      "Epoch 47/1000\n",
      "108/108 [==============================] - 0s 1ms/step - loss: 373738.8438 - root_mean_squared_error: 611.3419 - val_loss: 355251.2500 - val_root_mean_squared_error: 596.0295\n",
      "Epoch 48/1000\n",
      "108/108 [==============================] - 0s 1ms/step - loss: 371169.2812 - root_mean_squared_error: 609.2366 - val_loss: 388392.7812 - val_root_mean_squared_error: 623.2117\n",
      "Epoch 49/1000\n",
      "108/108 [==============================] - 0s 1ms/step - loss: 333567.3750 - root_mean_squared_error: 577.5529 - val_loss: 326790.3125 - val_root_mean_squared_error: 571.6558\n",
      "Epoch 50/1000\n",
      "108/108 [==============================] - 0s 1ms/step - loss: 326004.8125 - root_mean_squared_error: 570.9683 - val_loss: 325493.5312 - val_root_mean_squared_error: 570.5204\n",
      "Epoch 51/1000\n",
      "108/108 [==============================] - 0s 1ms/step - loss: 327525.6250 - root_mean_squared_error: 572.2985 - val_loss: 324919.0938 - val_root_mean_squared_error: 570.0167\n",
      "Epoch 52/1000\n",
      "108/108 [==============================] - 0s 1ms/step - loss: 324938.8750 - root_mean_squared_error: 570.0341 - val_loss: 323507.7188 - val_root_mean_squared_error: 568.7774\n",
      "Epoch 53/1000\n",
      "108/108 [==============================] - 0s 1ms/step - loss: 325303.7812 - root_mean_squared_error: 570.3541 - val_loss: 327540.9062 - val_root_mean_squared_error: 572.3119\n",
      "Epoch 54/1000\n",
      "108/108 [==============================] - 0s 1ms/step - loss: 326525.9375 - root_mean_squared_error: 571.4245 - val_loss: 332013.5938 - val_root_mean_squared_error: 576.2062\n",
      "Epoch 55/1000\n",
      "108/108 [==============================] - 0s 1ms/step - loss: 321135.0000 - root_mean_squared_error: 566.6877 - val_loss: 324772.9062 - val_root_mean_squared_error: 569.8885\n",
      "Epoch 56/1000\n",
      "108/108 [==============================] - 0s 1ms/step - loss: 323457.9688 - root_mean_squared_error: 568.7336 - val_loss: 327592.2812 - val_root_mean_squared_error: 572.3568\n",
      "Epoch 57/1000\n",
      "108/108 [==============================] - 0s 2ms/step - loss: 326550.7500 - root_mean_squared_error: 571.4462 - val_loss: 322858.2812 - val_root_mean_squared_error: 568.2062\n",
      "Epoch 58/1000\n",
      "108/108 [==============================] - 0s 2ms/step - loss: 322373.5625 - root_mean_squared_error: 567.7795 - val_loss: 325979.2812 - val_root_mean_squared_error: 570.9459\n",
      "Epoch 59/1000\n",
      "108/108 [==============================] - 0s 1ms/step - loss: 321233.1875 - root_mean_squared_error: 566.7744 - val_loss: 332064.9375 - val_root_mean_squared_error: 576.2507\n",
      "Epoch 60/1000\n",
      "108/108 [==============================] - 0s 1ms/step - loss: 321386.3438 - root_mean_squared_error: 566.9095 - val_loss: 323225.0625 - val_root_mean_squared_error: 568.5289\n",
      "Epoch 61/1000\n",
      "108/108 [==============================] - 0s 1ms/step - loss: 322038.0625 - root_mean_squared_error: 567.4839 - val_loss: 341469.0000 - val_root_mean_squared_error: 584.3535\n",
      "Epoch 62/1000\n",
      "108/108 [==============================] - 0s 1ms/step - loss: 324819.8750 - root_mean_squared_error: 569.9297 - val_loss: 326703.8438 - val_root_mean_squared_error: 571.5801\n",
      "Epoch 63/1000\n",
      "108/108 [==============================] - 0s 1ms/step - loss: 316479.0625 - root_mean_squared_error: 562.5647 - val_loss: 319304.2188 - val_root_mean_squared_error: 565.0701\n",
      "Epoch 64/1000\n",
      "108/108 [==============================] - 0s 1ms/step - loss: 315473.3125 - root_mean_squared_error: 561.6702 - val_loss: 318811.8750 - val_root_mean_squared_error: 564.6343\n",
      "Epoch 65/1000\n",
      "108/108 [==============================] - 0s 1ms/step - loss: 315422.0000 - root_mean_squared_error: 561.6245 - val_loss: 318193.3750 - val_root_mean_squared_error: 564.0863\n",
      "Epoch 66/1000\n",
      "108/108 [==============================] - 0s 1ms/step - loss: 315254.4375 - root_mean_squared_error: 561.4752 - val_loss: 318791.1562 - val_root_mean_squared_error: 564.6160\n",
      "Epoch 67/1000\n",
      "108/108 [==============================] - 0s 1ms/step - loss: 315333.3438 - root_mean_squared_error: 561.5455 - val_loss: 320156.6875 - val_root_mean_squared_error: 565.8239\n",
      "Epoch 68/1000\n",
      "108/108 [==============================] - 0s 1ms/step - loss: 315068.7812 - root_mean_squared_error: 561.3099 - val_loss: 318604.4688 - val_root_mean_squared_error: 564.4506\n",
      "Epoch 69/1000\n",
      "108/108 [==============================] - 0s 1ms/step - loss: 315256.6250 - root_mean_squared_error: 561.4772 - val_loss: 318495.4688 - val_root_mean_squared_error: 564.3540\n",
      "Epoch 70/1000\n",
      "108/108 [==============================] - 0s 1ms/step - loss: 315060.5000 - root_mean_squared_error: 561.3025 - val_loss: 319458.9688 - val_root_mean_squared_error: 565.2070\n",
      "Epoch 71/1000\n",
      "108/108 [==============================] - 0s 1ms/step - loss: 314562.7500 - root_mean_squared_error: 560.8589 - val_loss: 318385.2188 - val_root_mean_squared_error: 564.2563\n",
      "Epoch 72/1000\n",
      "108/108 [==============================] - 0s 1ms/step - loss: 314347.5312 - root_mean_squared_error: 560.6671 - val_loss: 318475.2500 - val_root_mean_squared_error: 564.3361\n",
      "Epoch 73/1000\n",
      "108/108 [==============================] - 0s 1ms/step - loss: 314311.1875 - root_mean_squared_error: 560.6346 - val_loss: 318440.0938 - val_root_mean_squared_error: 564.3050\n",
      "Epoch 74/1000\n",
      "108/108 [==============================] - 0s 1ms/step - loss: 314286.4062 - root_mean_squared_error: 560.6125 - val_loss: 318472.9375 - val_root_mean_squared_error: 564.3340\n",
      "Epoch 75/1000\n",
      "108/108 [==============================] - 0s 1ms/step - loss: 314272.5312 - root_mean_squared_error: 560.6002 - val_loss: 318397.0625 - val_root_mean_squared_error: 564.2668\n",
      "Epoch 76/1000\n",
      "108/108 [==============================] - 0s 1ms/step - loss: 314217.0000 - root_mean_squared_error: 560.5506 - val_loss: 318407.9375 - val_root_mean_squared_error: 564.2765\n",
      "Epoch 77/1000\n",
      "108/108 [==============================] - 0s 1ms/step - loss: 314206.7500 - root_mean_squared_error: 560.5414 - val_loss: 318406.2188 - val_root_mean_squared_error: 564.2750\n",
      "Epoch 78/1000\n",
      "108/108 [==============================] - 0s 1ms/step - loss: 314188.5625 - root_mean_squared_error: 560.5253 - val_loss: 318409.9062 - val_root_mean_squared_error: 564.2782\n",
      "Epoch 79/1000\n",
      "108/108 [==============================] - 0s 2ms/step - loss: 314190.2500 - root_mean_squared_error: 560.5267 - val_loss: 318423.8125 - val_root_mean_squared_error: 564.2905\n",
      "Epoch 80/1000\n",
      "108/108 [==============================] - 0s 2ms/step - loss: 314183.6250 - root_mean_squared_error: 560.5209 - val_loss: 318413.8438 - val_root_mean_squared_error: 564.2817\n",
      "Epoch 81/1000\n",
      "108/108 [==============================] - 0s 2ms/step - loss: 314168.6875 - root_mean_squared_error: 560.5075 - val_loss: 318416.7188 - val_root_mean_squared_error: 564.2842\n",
      "Epoch 82/1000\n",
      "108/108 [==============================] - 0s 1ms/step - loss: 314168.7500 - root_mean_squared_error: 560.5076 - val_loss: 318415.8750 - val_root_mean_squared_error: 564.2835\n",
      "Epoch 83/1000\n",
      "108/108 [==============================] - 0s 1ms/step - loss: 314169.9375 - root_mean_squared_error: 560.5087 - val_loss: 318415.8438 - val_root_mean_squared_error: 564.2835\n",
      "Epoch 84/1000\n",
      "108/108 [==============================] - 0s 1ms/step - loss: 314168.1250 - root_mean_squared_error: 560.5070 - val_loss: 318417.0000 - val_root_mean_squared_error: 564.2845\n",
      "Epoch 85/1000\n",
      "108/108 [==============================] - 0s 1ms/step - loss: 314167.6562 - root_mean_squared_error: 560.5066 - val_loss: 318418.2812 - val_root_mean_squared_error: 564.2856\n"
     ]
    }
   ],
   "source": [
    "# Input layer: we have 4 covariates\n",
    "inputs = keras.Input(shape=(4,))\n",
    "\n",
    "# One hidden layer with 5 nodes\n",
    "x = layers.Dense(30, activation=\"relu\")(inputs)\n",
    "x = layers.Dense(15, activation=\"relu\")(x)\n",
    "\n",
    "# Output layer now connected to the last hidden layer\n",
    "outputs = layers.Dense(1, activation=\"linear\")(x)\n",
    "\n",
    "# Create model\n",
    "model = keras.Model(inputs=inputs, outputs=outputs)\n",
    "# model.summary()\n",
    "\n",
    "# Compile model\n",
    "model.compile(\n",
    "    loss=\"mse\",\n",
    "    optimizer=keras.optimizers.Adam(learning_rate=0.3),\n",
    "    metrics=[RMSE()],\n",
    ")\n",
    "\n",
    "# Callbacks\n",
    "cb = [\n",
    "  keras.callbacks.EarlyStopping(patience=20),\n",
    "  keras.callbacks.ReduceLROnPlateau(patience=5)\n",
    "]\n",
    "\n",
    "# Fit model\n",
    "history = model.fit(\n",
    "  x=X_train,\n",
    "  y=y_train,\n",
    "  epochs=1000,\n",
    "  batch_size=400, \n",
    "  validation_data=(X_valid, y_valid),\n",
    "  callbacks=cb,\n",
    "  verbose=0\n",
    ")     \n"
   ]
  },
  {
   "cell_type": "code",
   "execution_count": 59,
   "metadata": {},
   "outputs": [
    {
     "data": {
      "image/png": "[encoded data removed]",
      "text/plain": [
       "<Figure size 432x288 with 1 Axes>"
      ]
     },
     "metadata": {
      "needs_background": "light"
     },
     "output_type": "display_data"
    }
   ],
   "source": [
    "# Training RMSE over epochs\n",
    "import matplotlib.pyplot as plt\n",
    "plt.plot(history.history[\"root_mean_squared_error\"])\n",
    "plt.plot(history.history[\"val_root_mean_squared_error\"], color=\"orange\")\n",
    "plt.title(\"Training RMSE over epochs\")\n",
    "plt.legend([\"Training\", \"Validation\"])\n",
    "plt.ylim((500, 1000))\n",
    "plt.ylabel(\"RMSE\")\n",
    "plt.xlabel(\"Epoch\")\n",
    "plt.grid();"
   ]
  },
  {
   "cell_type": "code",
   "execution_count": 122,
   "metadata": {},
   "outputs": [
    {
     "name": "stdout",
     "output_type": "stream",
     "text": [
      "Performance\n",
      "                       mse        rmse        r2         mae         mad\n",
      "Functional  318418.263287  564.285622  0.979846  302.519306  136.539551\n"
     ]
    },
    {
     "data": {
      "application/vnd.plotly.v1+json": {
       "config": {
        "displaylogo": false,
        "modeBarButtonsToRemove": [
         "sendDataToCloud",
         "lasso2d",
         "autoScale2d",
         "select2d",
         "zoom2d",
         "pan2d",
         "zoomIn2d",
         "zoomOut2d",
         "resetScale2d",
         "toggleSpikelines",
         "hoverCompareCartesian",
         "hoverClosestCartesian"
        ],
        "plotlyServerURL": "https://plot.ly",
        "staticPlot": false,
        "toImageButtonOptions": {
         "height": null,
         "width": null
        }
       },
       "data": [
        {
         "base": 585.0265742222342,
         "hoverinfo": "text",
         "hoverlabel": {
          "bgcolor": "rgba(0,0,0,0.8)"
         },
         "hovertext": [
          "Model: Functional loss after<br>variable: carat is permuted: 6530.65<br>Drop-out loss change: +5945.623",
          "Model: Functional loss after<br>variable: clarity is permuted: 1876.678<br>Drop-out loss change: +1291.652",
          "Model: Functional loss after<br>variable: color is permuted: 1483.138<br>Drop-out loss change: +898.112",
          "Model: Functional loss after<br>variable: cut is permuted: 624.363<br>Drop-out loss change: +39.337"
         ],
         "marker": {
          "color": "#46bac2"
         },
         "orientation": "h",
         "showlegend": false,
         "text": [
          "+5945.623",
          "+1291.652",
          "+898.112",
          "+39.337"
         ],
         "textposition": "outside",
         "type": "bar",
         "x": [
          5945.623156937783,
          1291.6516470897868,
          898.1118071898701,
          39.336617487870285
         ],
         "xaxis": "x",
         "y": [
          "carat",
          "clarity",
          "color",
          "cut"
         ],
         "yaxis": "y"
        }
       ],
       "layout": {
        "annotations": [
         {
          "font": {
           "size": 16
          },
          "showarrow": false,
          "text": "Functional",
          "x": 0.5,
          "xanchor": "center",
          "xref": "paper",
          "y": 1,
          "yanchor": "bottom",
          "yref": "paper"
         },
         {
          "font": {
           "size": 16
          },
          "showarrow": false,
          "text": "drop-out loss",
          "x": 0.5,
          "xanchor": "center",
          "xref": "paper",
          "y": 0,
          "yanchor": "top",
          "yref": "paper",
          "yshift": -30
         }
        ],
        "font": {
         "color": "#371ea3"
        },
        "height": 263,
        "margin": {
         "b": 71,
         "r": 30,
         "t": 78
        },
        "shapes": [
         {
          "line": {
           "color": "#371ea3",
           "dash": "dot",
           "width": 1.5
          },
          "type": "line",
          "x0": 585.0265742222342,
          "x1": 585.0265742222342,
          "xref": "x",
          "y0": -1,
          "y1": 4,
          "yref": "y"
         }
        ],
        "template": {
         "data": {
          "scatter": [
           {
            "type": "scatter"
           }
          ]
         }
        },
        "title": {
         "text": "Variable Importance",
         "x": 0.15
        },
        "xaxis": {
         "anchor": "y",
         "automargin": true,
         "domain": [
          0,
          1
         ],
         "fixedrange": true,
         "gridwidth": 2,
         "range": [
          -306.81689931843323,
          7422.493204700685
         ],
         "tickcolor": "white",
         "ticklen": 3,
         "ticks": "outside",
         "type": "linear",
         "zeroline": false
        },
        "yaxis": {
         "anchor": "x",
         "automargin": true,
         "autorange": "reversed",
         "domain": [
          0,
          1
         ],
         "fixedrange": true,
         "gridwidth": 2,
         "tickcolor": "white",
         "ticklen": 10,
         "ticks": "outside",
         "type": "category"
        }
       }
      }
     },
     "metadata": {},
     "output_type": "display_data"
    },
    {
     "name": "stderr",
     "output_type": "stream",
     "text": [
      "Calculating ceteris paribus: 100%|██████████| 1/1 [00:01<00:00,  1.04s/it]\n"
     ]
    },
    {
     "data": {
      "application/vnd.plotly.v1+json": {
       "config": {
        "displaylogo": false,
        "modeBarButtonsToRemove": [
         "sendDataToCloud",
         "lasso2d",
         "autoScale2d",
         "select2d",
         "zoom2d",
         "pan2d",
         "zoomIn2d",
         "zoomOut2d",
         "resetScale2d",
         "toggleSpikelines",
         "hoverCompareCartesian",
         "hoverClosestCartesian"
        ],
        "plotlyServerURL": "https://plot.ly",
        "staticPlot": false,
        "toImageButtonOptions": {
         "height": null,
         "width": null
        }
       },
       "data": [
        {
         "customdata": [
          [
           4089.6513671875,
           "Partial depencence for numeric variables",
           "carat"
          ],
          [
           4089.6513671875,
           "Partial depencence for numeric variables",
           "carat"
          ],
          [
           4089.6513671875,
           "Partial depencence for numeric variables",
           "carat"
          ],
          [
           4089.6513671875,
           "Partial depencence for numeric variables",
           "carat"
          ],
          [
           4089.6513671875,
           "Partial depencence for numeric variables",
           "carat"
          ],
          [
           4089.6513671875,
           "Partial depencence for numeric variables",
           "carat"
          ],
          [
           4089.6513671875,
           "Partial depencence for numeric variables",
           "carat"
          ],
          [
           4089.6513671875,
           "Partial depencence for numeric variables",
           "carat"
          ],
          [
           4089.6513671875,
           "Partial depencence for numeric variables",
           "carat"
          ],
          [
           4089.6513671875,
           "Partial depencence for numeric variables",
           "carat"
          ],
          [
           4089.6513671875,
           "Partial depencence for numeric variables",
           "carat"
          ],
          [
           4089.6513671875,
           "Partial depencence for numeric variables",
           "carat"
          ],
          [
           4089.6513671875,
           "Partial depencence for numeric variables",
           "carat"
          ],
          [
           4089.6513671875,
           "Partial depencence for numeric variables",
           "carat"
          ],
          [
           4089.6513671875,
           "Partial depencence for numeric variables",
           "carat"
          ],
          [
           4089.6513671875,
           "Partial depencence for numeric variables",
           "carat"
          ],
          [
           4089.6513671875,
           "Partial depencence for numeric variables",
           "carat"
          ],
          [
           4089.6513671875,
           "Partial depencence for numeric variables",
           "carat"
          ],
          [
           4089.6513671875,
           "Partial depencence for numeric variables",
           "carat"
          ],
          [
           4089.6513671875,
           "Partial depencence for numeric variables",
           "carat"
          ],
          [
           4089.6513671875,
           "Partial depencence for numeric variables",
           "carat"
          ],
          [
           4089.6513671875,
           "Partial depencence for numeric variables",
           "carat"
          ],
          [
           4089.6513671875,
           "Partial depencence for numeric variables",
           "carat"
          ],
          [
           4089.6513671875,
           "Partial depencence for numeric variables",
           "carat"
          ],
          [
           4089.6513671875,
           "Partial depencence for numeric variables",
           "carat"
          ],
          [
           4089.6513671875,
           "Partial depencence for numeric variables",
           "carat"
          ],
          [
           4089.6513671875,
           "Partial depencence for numeric variables",
           "carat"
          ],
          [
           4089.6513671875,
           "Partial depencence for numeric variables",
           "carat"
          ],
          [
           4089.6513671875,
           "Partial depencence for numeric variables",
           "carat"
          ],
          [
           4089.6513671875,
           "Partial depencence for numeric variables",
           "carat"
          ],
          [
           4089.6513671875,
           "Partial depencence for numeric variables",
           "carat"
          ],
          [
           4089.6513671875,
           "Partial depencence for numeric variables",
           "carat"
          ],
          [
           4089.6513671875,
           "Partial depencence for numeric variables",
           "carat"
          ],
          [
           4089.6513671875,
           "Partial depencence for numeric variables",
           "carat"
          ],
          [
           4089.6513671875,
           "Partial depencence for numeric variables",
           "carat"
          ],
          [
           4089.6513671875,
           "Partial depencence for numeric variables",
           "carat"
          ],
          [
           4089.6513671875,
           "Partial depencence for numeric variables",
           "carat"
          ],
          [
           4089.6513671875,
           "Partial depencence for numeric variables",
           "carat"
          ],
          [
           4089.6513671875,
           "Partial depencence for numeric variables",
           "carat"
          ],
          [
           4089.6513671875,
           "Partial depencence for numeric variables",
           "carat"
          ],
          [
           4089.6513671875,
           "Partial depencence for numeric variables",
           "carat"
          ],
          [
           4089.6513671875,
           "Partial depencence for numeric variables",
           "carat"
          ],
          [
           4089.6513671875,
           "Partial depencence for numeric variables",
           "carat"
          ],
          [
           4089.6513671875,
           "Partial depencence for numeric variables",
           "carat"
          ],
          [
           4089.6513671875,
           "Partial depencence for numeric variables",
           "carat"
          ],
          [
           4089.6513671875,
           "Partial depencence for numeric variables",
           "carat"
          ],
          [
           4089.6513671875,
           "Partial depencence for numeric variables",
           "carat"
          ],
          [
           4089.6513671875,
           "Partial depencence for numeric variables",
           "carat"
          ],
          [
           4089.6513671875,
           "Partial depencence for numeric variables",
           "carat"
          ],
          [
           4089.6513671875,
           "Partial depencence for numeric variables",
           "carat"
          ],
          [
           4089.6513671875,
           "Partial depencence for numeric variables",
           "carat"
          ],
          [
           4089.6513671875,
           "Partial depencence for numeric variables",
           "carat"
          ],
          [
           4089.6513671875,
           "Partial depencence for numeric variables",
           "carat"
          ],
          [
           4089.6513671875,
           "Partial depencence for numeric variables",
           "carat"
          ],
          [
           4089.6513671875,
           "Partial depencence for numeric variables",
           "carat"
          ],
          [
           4089.6513671875,
           "Partial depencence for numeric variables",
           "carat"
          ],
          [
           4089.6513671875,
           "Partial depencence for numeric variables",
           "carat"
          ],
          [
           4089.6513671875,
           "Partial depencence for numeric variables",
           "carat"
          ],
          [
           4089.6513671875,
           "Partial depencence for numeric variables",
           "carat"
          ],
          [
           4089.6513671875,
           "Partial depencence for numeric variables",
           "carat"
          ],
          [
           4089.6513671875,
           "Partial depencence for numeric variables",
           "carat"
          ],
          [
           4089.6513671875,
           "Partial depencence for numeric variables",
           "carat"
          ],
          [
           4089.6513671875,
           "Partial depencence for numeric variables",
           "carat"
          ],
          [
           4089.6513671875,
           "Partial depencence for numeric variables",
           "carat"
          ],
          [
           4089.6513671875,
           "Partial depencence for numeric variables",
           "carat"
          ],
          [
           4089.6513671875,
           "Partial depencence for numeric variables",
           "carat"
          ],
          [
           4089.6513671875,
           "Partial depencence for numeric variables",
           "carat"
          ],
          [
           4089.6513671875,
           "Partial depencence for numeric variables",
           "carat"
          ],
          [
           4089.6513671875,
           "Partial depencence for numeric variables",
           "carat"
          ],
          [
           4089.6513671875,
           "Partial depencence for numeric variables",
           "carat"
          ],
          [
           4089.6513671875,
           "Partial depencence for numeric variables",
           "carat"
          ],
          [
           4089.6513671875,
           "Partial depencence for numeric variables",
           "carat"
          ],
          [
           4089.6513671875,
           "Partial depencence for numeric variables",
           "carat"
          ],
          [
           4089.6513671875,
           "Partial depencence for numeric variables",
           "carat"
          ],
          [
           4089.6513671875,
           "Partial depencence for numeric variables",
           "carat"
          ],
          [
           4089.6513671875,
           "Partial depencence for numeric variables",
           "carat"
          ],
          [
           4089.6513671875,
           "Partial depencence for numeric variables",
           "carat"
          ],
          [
           4089.6513671875,
           "Partial depencence for numeric variables",
           "carat"
          ],
          [
           4089.6513671875,
           "Partial depencence for numeric variables",
           "carat"
          ],
          [
           4089.6513671875,
           "Partial depencence for numeric variables",
           "carat"
          ],
          [
           4089.6513671875,
           "Partial depencence for numeric variables",
           "carat"
          ],
          [
           4089.6513671875,
           "Partial depencence for numeric variables",
           "carat"
          ],
          [
           4089.6513671875,
           "Partial depencence for numeric variables",
           "carat"
          ],
          [
           4089.6513671875,
           "Partial depencence for numeric variables",
           "carat"
          ],
          [
           4089.6513671875,
           "Partial depencence for numeric variables",
           "carat"
          ],
          [
           4089.6513671875,
           "Partial depencence for numeric variables",
           "carat"
          ],
          [
           4089.6513671875,
           "Partial depencence for numeric variables",
           "carat"
          ],
          [
           4089.6513671875,
           "Partial depencence for numeric variables",
           "carat"
          ],
          [
           4089.6513671875,
           "Partial depencence for numeric variables",
           "carat"
          ],
          [
           4089.6513671875,
           "Partial depencence for numeric variables",
           "carat"
          ],
          [
           4089.6513671875,
           "Partial depencence for numeric variables",
           "carat"
          ],
          [
           4089.6513671875,
           "Partial depencence for numeric variables",
           "carat"
          ],
          [
           4089.6513671875,
           "Partial depencence for numeric variables",
           "carat"
          ],
          [
           4089.6513671875,
           "Partial depencence for numeric variables",
           "carat"
          ],
          [
           4089.6513671875,
           "Partial depencence for numeric variables",
           "carat"
          ],
          [
           4089.6513671875,
           "Partial depencence for numeric variables",
           "carat"
          ],
          [
           4089.6513671875,
           "Partial depencence for numeric variables",
           "carat"
          ],
          [
           4089.6513671875,
           "Partial depencence for numeric variables",
           "carat"
          ],
          [
           4089.6513671875,
           "Partial depencence for numeric variables",
           "carat"
          ],
          [
           4089.6513671875,
           "Partial depencence for numeric variables",
           "carat"
          ],
          [
           4089.6513671875,
           "Partial depencence for numeric variables",
           "carat"
          ]
         ],
         "hovertemplate": "<b>%{hovertext}</b><br><br>prediction=%{y:.3f}<br>mean_prediction=%{customdata[0]:.3f}<extra></extra>",
         "hovertext": [
          "Partial depencence for numeric variables",
          "Partial depencence for numeric variables",
          "Partial depencence for numeric variables",
          "Partial depencence for numeric variables",
          "Partial depencence for numeric variables",
          "Partial depencence for numeric variables",
          "Partial depencence for numeric variables",
          "Partial depencence for numeric variables",
          "Partial depencence for numeric variables",
          "Partial depencence for numeric variables",
          "Partial depencence for numeric variables",
          "Partial depencence for numeric variables",
          "Partial depencence for numeric variables",
          "Partial depencence for numeric variables",
          "Partial depencence for numeric variables",
          "Partial depencence for numeric variables",
          "Partial depencence for numeric variables",
          "Partial depencence for numeric variables",
          "Partial depencence for numeric variables",
          "Partial depencence for numeric variables",
          "Partial depencence for numeric variables",
          "Partial depencence for numeric variables",
          "Partial depencence for numeric variables",
          "Partial depencence for numeric variables",
          "Partial depencence for numeric variables",
          "Partial depencence for numeric variables",
          "Partial depencence for numeric variables",
          "Partial depencence for numeric variables",
          "Partial depencence for numeric variables",
          "Partial depencence for numeric variables",
          "Partial depencence for numeric variables",
          "Partial depencence for numeric variables",
          "Partial depencence for numeric variables",
          "Partial depencence for numeric variables",
          "Partial depencence for numeric variables",
          "Partial depencence for numeric variables",
          "Partial depencence for numeric variables",
          "Partial depencence for numeric variables",
          "Partial depencence for numeric variables",
          "Partial depencence for numeric variables",
          "Partial depencence for numeric variables",
          "Partial depencence for numeric variables",
          "Partial depencence for numeric variables",
          "Partial depencence for numeric variables",
          "Partial depencence for numeric variables",
          "Partial depencence for numeric variables",
          "Partial depencence for numeric variables",
          "Partial depencence for numeric variables",
          "Partial depencence for numeric variables",
          "Partial depencence for numeric variables",
          "Partial depencence for numeric variables",
          "Partial depencence for numeric variables",
          "Partial depencence for numeric variables",
          "Partial depencence for numeric variables",
          "Partial depencence for numeric variables",
          "Partial depencence for numeric variables",
          "Partial depencence for numeric variables",
          "Partial depencence for numeric variables",
          "Partial depencence for numeric variables",
          "Partial depencence for numeric variables",
          "Partial depencence for numeric variables",
          "Partial depencence for numeric variables",
          "Partial depencence for numeric variables",
          "Partial depencence for numeric variables",
          "Partial depencence for numeric variables",
          "Partial depencence for numeric variables",
          "Partial depencence for numeric variables",
          "Partial depencence for numeric variables",
          "Partial depencence for numeric variables",
          "Partial depencence for numeric variables",
          "Partial depencence for numeric variables",
          "Partial depencence for numeric variables",
          "Partial depencence for numeric variables",
          "Partial depencence for numeric variables",
          "Partial depencence for numeric variables",
          "Partial depencence for numeric variables",
          "Partial depencence for numeric variables",
          "Partial depencence for numeric variables",
          "Partial depencence for numeric variables",
          "Partial depencence for numeric variables",
          "Partial depencence for numeric variables",
          "Partial depencence for numeric variables",
          "Partial depencence for numeric variables",
          "Partial depencence for numeric variables",
          "Partial depencence for numeric variables",
          "Partial depencence for numeric variables",
          "Partial depencence for numeric variables",
          "Partial depencence for numeric variables",
          "Partial depencence for numeric variables",
          "Partial depencence for numeric variables",
          "Partial depencence for numeric variables",
          "Partial depencence for numeric variables",
          "Partial depencence for numeric variables",
          "Partial depencence for numeric variables",
          "Partial depencence for numeric variables",
          "Partial depencence for numeric variables",
          "Partial depencence for numeric variables",
          "Partial depencence for numeric variables",
          "Partial depencence for numeric variables",
          "Partial depencence for numeric variables",
          "Partial depencence for numeric variables"
         ],
         "legendgroup": "Partial depencence for numeric variables",
         "line": {
          "color": "#46bac2",
          "dash": "solid",
          "width": 2
         },
         "marker": {
          "symbol": "circle"
         },
         "mode": "lines",
         "name": "Partial depencence for numeric variables",
         "opacity": 1,
         "orientation": "v",
         "showlegend": true,
         "type": "scatter",
         "x": [
          0.2,
          0.2393,
          0.2786,
          0.31789999999999996,
          0.35719999999999996,
          0.39649999999999996,
          0.43579999999999997,
          0.47509999999999997,
          0.5144,
          0.5537,
          0.593,
          0.6323,
          0.6716,
          0.7108999999999999,
          0.7502,
          0.7894999999999999,
          0.8288,
          0.8680999999999999,
          0.9074,
          0.9466999999999999,
          0.986,
          1.0252999999999999,
          1.0646,
          1.1038999999999999,
          1.1431999999999998,
          1.1824999999999999,
          1.2217999999999998,
          1.2610999999999999,
          1.3003999999999998,
          1.3397,
          1.3789999999999998,
          1.4183,
          1.4575999999999998,
          1.4968999999999997,
          1.5361999999999998,
          1.5754999999999997,
          1.6147999999999998,
          1.6540999999999997,
          1.6933999999999998,
          1.7326999999999997,
          1.7719999999999998,
          1.8112999999999997,
          1.8505999999999998,
          1.8898999999999997,
          1.9291999999999998,
          1.9684999999999997,
          2.0078,
          2.0471,
          2.0864,
          2.1256999999999997,
          2.1649999999999996,
          2.2043,
          2.2436,
          2.2828999999999997,
          2.3222,
          2.3615,
          2.4008,
          2.4400999999999997,
          2.4794,
          2.5187,
          2.558,
          2.5972999999999997,
          2.6366,
          2.6759,
          2.7152,
          2.7544999999999997,
          2.7937999999999996,
          2.8331,
          2.8724,
          2.9116999999999997,
          2.9509999999999996,
          2.9903,
          3.0296,
          3.0688999999999997,
          3.1081999999999996,
          3.1475,
          3.1868,
          3.2260999999999997,
          3.2653999999999996,
          3.3047,
          3.344,
          3.3832999999999998,
          3.4225999999999996,
          3.4618999999999995,
          3.5012,
          3.5404999999999998,
          3.5797999999999996,
          3.6190999999999995,
          3.6584,
          3.6976999999999998,
          3.7369999999999997,
          3.7762999999999995,
          3.8156,
          3.8548999999999998,
          3.8941999999999997,
          3.9334999999999996,
          3.9727999999999994,
          4.012099999999999,
          4.051399999999999,
          4.090699999999999,
          4.13
         ],
         "xaxis": "x",
         "y": [
          311.186279296875,
          419.14276123046875,
          527.766357421875,
          637.762451171875,
          752.7890014648438,
          883.01953125,
          1040.7430419921875,
          1223.158935546875,
          1427.2861328125,
          1649.0723876953125,
          1885.7618408203125,
          2137.755126953125,
          2402.00830078125,
          2681.245361328125,
          2977.566162109375,
          3297.354736328125,
          3651.852294921875,
          4059.27001953125,
          4549.03076171875,
          5156.11376953125,
          5682.02734375,
          6054.45361328125,
          6389.13720703125,
          6738.11181640625,
          7112.8310546875,
          7516.2861328125,
          7955.24560546875,
          8423.7568359375,
          8911.93359375,
          9434.9228515625,
          9992.80859375,
          10560.59765625,
          11132.99609375,
          11711.3232421875,
          12288.068359375,
          12867.638671875,
          13454.8203125,
          14049.5703125,
          14648.6064453125,
          15249.0029296875,
          15834.775390625,
          16391.41796875,
          16904.01953125,
          17354.642578125,
          17734.8203125,
          18041.171875,
          18288.62890625,
          18482.248046875,
          18629.91796875,
          18752.44140625,
          18862.3671875,
          18964.7265625,
          19065.470703125,
          19166.484375,
          19267.625,
          19370.525390625,
          19475.54296875,
          19585.50390625,
          19698.9609375,
          19809.345703125,
          19915.0390625,
          20020.029296875,
          20126.275390625,
          20231.625,
          20340.900390625,
          20460.015625,
          20579.705078125,
          20699.435546875,
          20820.947265625,
          20945.8203125,
          21070.4453125,
          21198.4765625,
          21334.09765625,
          21471.484375,
          21609.470703125,
          21749.29296875,
          21888.8984375,
          22028.857421875,
          22171.115234375,
          22321.107421875,
          22473.51953125,
          22627.388671875,
          22782.123046875,
          22936.255859375,
          23090.55859375,
          23245.150390625,
          23399.3046875,
          23553.5390625,
          23707.783203125,
          23861.322265625,
          24014.892578125,
          24168.7734375,
          24322.212890625,
          24475.06640625,
          24627.443359375,
          24779.5859375,
          24931.47265625,
          25083.4609375,
          25235.4453125,
          25387.296875,
          25539.291015625
         ],
         "yaxis": "y"
        }
       ],
       "layout": {
        "annotations": [
         {
          "font": {
           "size": 13
          },
          "showarrow": false,
          "text": "carat",
          "x": 0.5,
          "xanchor": "center",
          "xref": "paper",
          "y": 1,
          "yanchor": "bottom",
          "yref": "paper"
         },
         {
          "font": {
           "size": 13
          },
          "showarrow": false,
          "text": "prediction",
          "textangle": -90,
          "x": -0.07,
          "xref": "paper",
          "y": 0.5,
          "yref": "paper"
         }
        ],
        "font": {
         "color": "#371ea3"
        },
        "height": 489,
        "hovermode": "x unified",
        "legend": {
         "font": {
          "size": 11
         },
         "itemsizing": "constant",
         "orientation": "h",
         "title": {
          "font": {
           "size": 12
          },
          "text": "label"
         },
         "tracegroupgap": 0,
         "x": 1,
         "xanchor": "right",
         "y": 1.0613496932515338,
         "yanchor": "bottom"
        },
        "margin": {
         "b": 71,
         "r": 30,
         "t": 78
        },
        "template": {
         "data": {
          "scatter": [
           {
            "type": "scatter"
           }
          ]
         }
        },
        "title": {
         "font": {
          "size": 16
         },
         "text": "Aggregated Profiles",
         "x": 0.15
        },
        "xaxis": {
         "anchor": "y",
         "automargin": true,
         "domain": [
          0,
          1
         ],
         "fixedrange": true,
         "gridwidth": 2,
         "showticklabels": true,
         "tickcolor": "white",
         "ticklen": 3,
         "ticks": "outside",
         "title": {
          "text": ""
         },
         "type": "linear",
         "zeroline": false
        },
        "yaxis": {
         "anchor": "x",
         "automargin": true,
         "domain": [
          0,
          1
         ],
         "fixedrange": true,
         "gridwidth": 2,
         "range": [
          -2211.624267578125,
          28062.1015625
         ],
         "tickcolor": "white",
         "ticklen": 3,
         "ticks": "outside",
         "title": {
          "text": ""
         },
         "type": "linear",
         "zeroline": false
        }
       }
      }
     },
     "metadata": {},
     "output_type": "display_data"
    },
    {
     "name": "stderr",
     "output_type": "stream",
     "text": [
      "Calculating ceteris paribus: 100%|██████████| 3/3 [00:00<00:00,  7.48it/s]\n"
     ]
    },
    {
     "data": {
      "application/vnd.plotly.v1+json": {
       "config": {
        "displaylogo": false,
        "modeBarButtonsToRemove": [
         "sendDataToCloud",
         "lasso2d",
         "autoScale2d",
         "select2d",
         "zoom2d",
         "pan2d",
         "zoomIn2d",
         "zoomOut2d",
         "resetScale2d",
         "toggleSpikelines",
         "hoverCompareCartesian",
         "hoverClosestCartesian"
        ],
        "plotlyServerURL": "https://plot.ly",
        "staticPlot": false,
        "toImageButtonOptions": {
         "height": null,
         "width": null
        }
       },
       "data": [
        {
         "alignmentgroup": "True",
         "base": [
          3845.98388671875,
          3845.98388671875,
          3845.98388671875,
          3845.98388671875,
          3845.98388671875
         ],
         "customdata": [
          [
           3494.53369140625,
           "Partial depencence for ordinal variables",
           "cut"
          ],
          [
           3625.35693359375,
           "Partial depencence for ordinal variables",
           "cut"
          ],
          [
           3748.258544921875,
           "Partial depencence for ordinal variables",
           "cut"
          ],
          [
           3868.263916015625,
           "Partial depencence for ordinal variables",
           "cut"
          ],
          [
           3990.549560546875,
           "Partial depencence for ordinal variables",
           "cut"
          ]
         ],
         "hovertemplate": "<b>%{hovertext}</b><br><br>mean_prediction=%{base:.3f}<br>prediction=%{customdata[0]:.3f}<extra></extra>",
         "hovertext": [
          "Partial depencence for ordinal variables",
          "Partial depencence for ordinal variables",
          "Partial depencence for ordinal variables",
          "Partial depencence for ordinal variables",
          "Partial depencence for ordinal variables"
         ],
         "legendgroup": "Partial depencence for ordinal variables",
         "marker": {
          "color": "#46bac2",
          "pattern": {
           "shape": ""
          }
         },
         "name": "Partial depencence for ordinal variables",
         "offsetgroup": "Partial depencence for ordinal variables",
         "orientation": "v",
         "showlegend": true,
         "textposition": "auto",
         "type": "bar",
         "x": [
          "Fair",
          "Good",
          "Very Good",
          "Premium",
          "Ideal"
         ],
         "xaxis": "x3",
         "y": [
          -351.4501953125,
          -220.626953125,
          -97.725341796875,
          22.280029296875,
          144.565673828125
         ],
         "yaxis": "y3"
        },
        {
         "alignmentgroup": "True",
         "base": [
          3845.98388671875,
          3845.98388671875,
          3845.98388671875,
          3845.98388671875,
          3845.98388671875,
          3845.98388671875,
          3845.98388671875
         ],
         "customdata": [
          [
           4651.8154296875,
           "Partial depencence for ordinal variables",
           "color"
          ],
          [
           4438.32177734375,
           "Partial depencence for ordinal variables",
           "color"
          ],
          [
           4198.439453125,
           "Partial depencence for ordinal variables",
           "color"
          ],
          [
           3923.61572265625,
           "Partial depencence for ordinal variables",
           "color"
          ],
          [
           3561.86865234375,
           "Partial depencence for ordinal variables",
           "color"
          ],
          [
           3196.779052734375,
           "Partial depencence for ordinal variables",
           "color"
          ],
          [
           2816.550048828125,
           "Partial depencence for ordinal variables",
           "color"
          ]
         ],
         "hovertemplate": "<b>%{hovertext}</b><br><br>mean_prediction=%{base:.3f}<br>prediction=%{customdata[0]:.3f}<extra></extra>",
         "hovertext": [
          "Partial depencence for ordinal variables",
          "Partial depencence for ordinal variables",
          "Partial depencence for ordinal variables",
          "Partial depencence for ordinal variables",
          "Partial depencence for ordinal variables",
          "Partial depencence for ordinal variables",
          "Partial depencence for ordinal variables"
         ],
         "legendgroup": "Partial depencence for ordinal variables",
         "marker": {
          "color": "#46bac2",
          "pattern": {
           "shape": ""
          }
         },
         "name": "Partial depencence for ordinal variables",
         "offsetgroup": "Partial depencence for ordinal variables",
         "orientation": "v",
         "showlegend": false,
         "textposition": "auto",
         "type": "bar",
         "x": [
          "D",
          "E",
          "F",
          "G",
          "H",
          "I",
          "J"
         ],
         "xaxis": "x4",
         "y": [
          805.83154296875,
          592.337890625,
          352.45556640625,
          77.6318359375,
          -284.115234375,
          -649.204833984375,
          -1029.433837890625
         ],
         "yaxis": "y4"
        },
        {
         "alignmentgroup": "True",
         "base": [
          3845.98388671875,
          3845.98388671875,
          3845.98388671875,
          3845.98388671875,
          3845.98388671875,
          3845.98388671875,
          3845.98388671875,
          3845.98388671875
         ],
         "customdata": [
          [
           2203.760986328125,
           "Partial depencence for ordinal variables",
           "clarity"
          ],
          [
           3059.939453125,
           "Partial depencence for ordinal variables",
           "clarity"
          ],
          [
           3636.717529296875,
           "Partial depencence for ordinal variables",
           "clarity"
          ],
          [
           4212.64501953125,
           "Partial depencence for ordinal variables",
           "clarity"
          ],
          [
           4642.83447265625,
           "Partial depencence for ordinal variables",
           "clarity"
          ],
          [
           5111.45166015625,
           "Partial depencence for ordinal variables",
           "clarity"
          ],
          [
           5627.64501953125,
           "Partial depencence for ordinal variables",
           "clarity"
          ],
          [
           6198.15771484375,
           "Partial depencence for ordinal variables",
           "clarity"
          ]
         ],
         "hovertemplate": "<b>%{hovertext}</b><br><br>mean_prediction=%{base:.3f}<br>prediction=%{customdata[0]:.3f}<extra></extra>",
         "hovertext": [
          "Partial depencence for ordinal variables",
          "Partial depencence for ordinal variables",
          "Partial depencence for ordinal variables",
          "Partial depencence for ordinal variables",
          "Partial depencence for ordinal variables",
          "Partial depencence for ordinal variables",
          "Partial depencence for ordinal variables",
          "Partial depencence for ordinal variables"
         ],
         "legendgroup": "Partial depencence for ordinal variables",
         "marker": {
          "color": "#46bac2",
          "pattern": {
           "shape": ""
          }
         },
         "name": "Partial depencence for ordinal variables",
         "offsetgroup": "Partial depencence for ordinal variables",
         "orientation": "v",
         "showlegend": false,
         "textposition": "auto",
         "type": "bar",
         "x": [
          "I1",
          "SI2",
          "SI1",
          "VS2",
          "VS1",
          "VVS2",
          "VVS1",
          "IF"
         ],
         "xaxis": "x",
         "y": [
          -1642.222900390625,
          -786.04443359375,
          -209.266357421875,
          366.6611328125,
          796.8505859375,
          1265.4677734375,
          1781.6611328125,
          2352.173828125
         ],
         "yaxis": "y"
        }
       ],
       "layout": {
        "annotations": [
         {
          "font": {
           "size": 13
          },
          "showarrow": false,
          "text": "clarity",
          "x": 0.2375,
          "xanchor": "center",
          "xref": "paper",
          "y": 0.425,
          "yanchor": "bottom",
          "yref": "paper"
         },
         {
          "font": {
           "size": 13
          },
          "showarrow": false,
          "text": "cut",
          "x": 0.2375,
          "xanchor": "center",
          "xref": "paper",
          "y": 1,
          "yanchor": "bottom",
          "yref": "paper"
         },
         {
          "font": {
           "size": 13
          },
          "showarrow": false,
          "text": "color",
          "x": 0.7625,
          "xanchor": "center",
          "xref": "paper",
          "y": 1,
          "yanchor": "bottom",
          "yref": "paper"
         },
         {
          "font": {
           "size": 13
          },
          "showarrow": false,
          "text": "prediction",
          "textangle": -90,
          "x": -0.07,
          "xref": "paper",
          "y": 0.5,
          "yref": "paper"
         }
        ],
        "barmode": "group",
        "font": {
         "color": "#371ea3"
        },
        "height": 829,
        "hovermode": "x unified",
        "legend": {
         "font": {
          "size": 11
         },
         "itemsizing": "constant",
         "orientation": "h",
         "title": {
          "font": {
           "size": 12
          },
          "text": "label"
         },
         "tracegroupgap": 0,
         "x": 1,
         "xanchor": "right",
         "y": 1.0361881785283473,
         "yanchor": "bottom"
        },
        "margin": {
         "b": 71,
         "r": 30,
         "t": 78
        },
        "shapes": [
         {
          "layer": "below",
          "line": {
           "color": "#371ea3",
           "dash": "dot",
           "width": 1.5
          },
          "type": "line",
          "x0": 0,
          "x1": 1,
          "xref": "x domain",
          "y0": 3845.98388671875,
          "y1": 3845.98388671875,
          "yref": "y"
         },
         {
          "layer": "below",
          "line": {
           "color": "#371ea3",
           "dash": "dot",
           "width": 1.5
          },
          "type": "line",
          "x0": 0,
          "x1": 1,
          "xref": "x3 domain",
          "y0": 3845.98388671875,
          "y1": 3845.98388671875,
          "yref": "y3"
         },
         {
          "layer": "below",
          "line": {
           "color": "#371ea3",
           "dash": "dot",
           "width": 1.5
          },
          "type": "line",
          "x0": 0,
          "x1": 1,
          "xref": "x4 domain",
          "y0": 3845.98388671875,
          "y1": 3845.98388671875,
          "yref": "y4"
         },
         {
          "layer": "below",
          "line": {
           "color": "#371ea3",
           "dash": "dot",
           "width": 1.5
          },
          "type": "line",
          "x0": 0,
          "x1": 1,
          "xref": "x domain",
          "y0": 3845.98388671875,
          "y1": 3845.98388671875,
          "yref": "y"
         },
         {
          "layer": "below",
          "line": {
           "color": "#371ea3",
           "dash": "dot",
           "width": 1.5
          },
          "type": "line",
          "x0": 0,
          "x1": 1,
          "xref": "x3 domain",
          "y0": 3845.98388671875,
          "y1": 3845.98388671875,
          "yref": "y3"
         },
         {
          "layer": "below",
          "line": {
           "color": "#371ea3",
           "dash": "dot",
           "width": 1.5
          },
          "type": "line",
          "x0": 0,
          "x1": 1,
          "xref": "x4 domain",
          "y0": 3845.98388671875,
          "y1": 3845.98388671875,
          "yref": "y4"
         },
         {
          "layer": "below",
          "line": {
           "color": "#371ea3",
           "dash": "dot",
           "width": 1.5
          },
          "type": "line",
          "x0": 0,
          "x1": 1,
          "xref": "x domain",
          "y0": 3845.98388671875,
          "y1": 3845.98388671875,
          "yref": "y"
         },
         {
          "layer": "below",
          "line": {
           "color": "#371ea3",
           "dash": "dot",
           "width": 1.5
          },
          "type": "line",
          "x0": 0,
          "x1": 1,
          "xref": "x3 domain",
          "y0": 3845.98388671875,
          "y1": 3845.98388671875,
          "yref": "y3"
         },
         {
          "layer": "below",
          "line": {
           "color": "#371ea3",
           "dash": "dot",
           "width": 1.5
          },
          "type": "line",
          "x0": 0,
          "x1": 1,
          "xref": "x4 domain",
          "y0": 3845.98388671875,
          "y1": 3845.98388671875,
          "yref": "y4"
         }
        ],
        "template": {
         "data": {
          "scatter": [
           {
            "type": "scatter"
           }
          ]
         }
        },
        "title": {
         "font": {
          "size": 16
         },
         "text": "Aggregated Profiles",
         "x": 0.15
        },
        "xaxis": {
         "anchor": "y",
         "automargin": true,
         "domain": [
          0,
          0.475
         ],
         "fixedrange": true,
         "gridwidth": 2,
         "showticklabels": true,
         "tickcolor": "white",
         "ticklen": 10,
         "ticks": "outside",
         "title": {
          "text": ""
         },
         "type": "category"
        },
        "xaxis2": {
         "anchor": "y2",
         "automargin": true,
         "domain": [
          0.525,
          1
         ],
         "fixedrange": true,
         "gridwidth": 2,
         "showticklabels": true,
         "tickcolor": "white",
         "ticklen": 10,
         "ticks": "outside",
         "title": {
          "text": ""
         },
         "type": "category"
        },
        "xaxis3": {
         "anchor": "y3",
         "automargin": true,
         "domain": [
          0,
          0.475
         ],
         "fixedrange": true,
         "gridwidth": 2,
         "showticklabels": true,
         "tickcolor": "white",
         "ticklen": 10,
         "ticks": "outside",
         "title": {
          "text": ""
         },
         "type": "category"
        },
        "xaxis4": {
         "anchor": "y4",
         "automargin": true,
         "domain": [
          0.525,
          1
         ],
         "fixedrange": true,
         "gridwidth": 2,
         "showticklabels": true,
         "tickcolor": "white",
         "ticklen": 10,
         "ticks": "outside",
         "title": {
          "text": ""
         },
         "type": "category"
        },
        "yaxis": {
         "anchor": "x",
         "automargin": true,
         "domain": [
          0,
          0.425
         ],
         "fixedrange": true,
         "gridwidth": 2,
         "range": [
          1804.3213134765624,
          6597.597387695312
         ],
         "tickcolor": "white",
         "ticklen": 3,
         "ticks": "outside",
         "title": {
          "text": ""
         },
         "type": "linear",
         "zeroline": false
        },
        "yaxis2": {
         "anchor": "x2",
         "automargin": true,
         "domain": [
          0,
          0.425
         ],
         "fixedrange": true,
         "gridwidth": 2,
         "matches": "y",
         "range": [
          1804.3213134765624,
          6597.597387695312
         ],
         "showticklabels": false,
         "tickcolor": "white",
         "ticklen": 3,
         "ticks": "outside",
         "title": {
          "text": ""
         },
         "type": "linear",
         "zeroline": false
        },
        "yaxis3": {
         "anchor": "x3",
         "automargin": true,
         "domain": [
          0.575,
          1
         ],
         "fixedrange": true,
         "gridwidth": 2,
         "matches": "y",
         "range": [
          1804.3213134765624,
          6597.597387695312
         ],
         "tickcolor": "white",
         "ticklen": 3,
         "ticks": "outside",
         "title": {
          "text": ""
         },
         "type": "linear",
         "zeroline": false
        },
        "yaxis4": {
         "anchor": "x4",
         "automargin": true,
         "domain": [
          0.575,
          1
         ],
         "fixedrange": true,
         "gridwidth": 2,
         "matches": "y",
         "range": [
          1804.3213134765624,
          6597.597387695312
         ],
         "showticklabels": false,
         "tickcolor": "white",
         "ticklen": 3,
         "ticks": "outside",
         "title": {
          "text": ""
         },
         "type": "linear",
         "zeroline": false
        }
       }
      }
     },
     "metadata": {},
     "output_type": "display_data"
    }
   ],
   "source": [
    "# Interpretation\n",
    "import itertools\n",
    "import pandas as pd\n",
    "import dalex as dx\n",
    "\n",
    "# Set up explainer\n",
    "def pred_fun(m, X):\n",
    "    return m.predict(preprocessor.transform(X)).flatten()\n",
    "\n",
    "exp = dx.Explainer(\n",
    "    model, \n",
    "    data=df_valid, \n",
    "    y=y_valid, \n",
    "    predict_function=pred_fun, \n",
    "    verbose=False\n",
    ")\n",
    "\n",
    "# Performance\n",
    "mp = exp.model_performance(model_type=\"regression\")\n",
    "print(\"Performance\\n\", mp.result)\n",
    "\n",
    "# Permutation importance\n",
    "vi = exp.model_parts()\n",
    "vi.plot()\n",
    "\n",
    "# Partial dependence\n",
    "pdp_num = exp.model_profile(\n",
    "    type=\"partial\",\n",
    "    label=\"Partial depencence for numeric variables\",\n",
    "    variables=[\"carat\"],\n",
    "    N=1000\n",
    ")\n",
    "pdp_num.plot()\n",
    "\n",
    "pdp_ord = exp.model_profile(\n",
    "    type=\"partial\",\n",
    "    label=\"Partial depencence for ordinal variables\",\n",
    "    variables=ordinal_features,\n",
    "    variable_type=\"categorical\",\n",
    "    N=1000\n",
    ")\n",
    "# Fix wrong categorical order\n",
    "reference_order = pd.DataFrame({\"_x_\": itertools.chain(*ordinal_levels)})\n",
    "reference_order[\"idx\"] = np.arange(len(reference_order.index))\n",
    "pdp_ord.result = pdp_ord.result.merge(reference_order).sort_values(\"idx\")\n",
    "pdp_ord.plot()"
   ]
  },
  {
   "cell_type": "markdown",
   "metadata": {},
   "source": [
    "**Comments** \n",
    "\n",
    "- The model performance seems comparable to the tree-based models from the last chapter. The specific performance might change from run to run due to randomness in the algorithm.\n",
    "- The effect of `carat` looks smoother as with random forests or boosted trees.\n",
    "\n",
    "# Example: Embeddings (optional)\n",
    "\n",
    "Representing categorical input variables through embedding layers is extremely useful in practice. We will end this chapter with an example on how to do it with the claims data. This example also shows how flexible neural network structures are."
   ]
  },
  {
   "cell_type": "markdown",
   "metadata": {},
   "source": [
    "library(tidyverse)\n",
    "library(keras)\n",
    "library(splitTools)\n",
    "library(insuranceData)\n",
    "data(dataCar)\n",
    "\n",
    "# use_python(path to python...)\n",
    "\n",
    "# Response and covariates\n",
    "y <- \"clm\"\n",
    "x_emb <- \"veh_body\"\n",
    "x_dense <- c(\"veh_value\", \"veh_age\", \"gender\", \"area\", \"agecat\")\n",
    "x <- c(x_dense, x_emb)\n",
    "\n",
    "# Split into train and validation\n",
    "ix <- partition(dataCar[[y]], p = c(train = 0.8, valid = 0.2), seed = 9838)\n",
    "\n",
    "train <- dataCar[ix$train, ]\n",
    "valid <- dataCar[ix$valid, ]\n",
    "\n",
    "y_train <- train[[y]]\n",
    "y_valid <- valid[[y]]\n",
    "\n",
    "X_train <- train[, x]\n",
    "X_valid <- valid[, x]\n",
    "\n",
    "# Standardize X using X_train\n",
    "sc <- list(\n",
    "  center = attr(scale(data.matrix(X_train[, x_dense])), \"scaled:center\"),\n",
    "  scale = attr(scale(data.matrix(X_train[, x_dense])), \"scaled:scale\")\n",
    ")\n",
    "\n",
    "# Function that maps data.frame to scaled network input (a list with a dense part \n",
    "# and each embedding as separat integer vector)\n",
    "prep_nn <- function(X, dense = x_dense, emb = x_emb, scaling = sc) {\n",
    "  X_dense <- data.matrix(X[, dense, drop = FALSE])\n",
    "  X_dense <- scale(X_dense, center = scaling$center, scale = scaling$scale)\n",
    "  emb <- lapply(X[emb], function(x) as.integer(x) - 1)\n",
    "  c(list(dense1 = X_dense), emb)\n",
    "}\n",
    "\n",
    "# Inputs\n",
    "input_dense <- layer_input(shape = length(x_dense), name = \"dense1\")\n",
    "input_veh_body <- layer_input(shape = 1, name = \"veh_body\")\n",
    "\n",
    "# Embedding of veh_body\n",
    "emb_veh_body <- input_veh_body %>% \n",
    "  layer_embedding(input_dim = nlevels(dataCar$veh_body) + 1, \n",
    "                  output_dim = 1) %>% \n",
    "  layer_flatten()\n",
    "\n",
    "# Combine dense input and embedding\n",
    "outputs <- list(input_dense, emb_veh_body) %>% \n",
    "      layer_concatenate() %>% \n",
    "      layer_dense(30, activation = \"tanh\") %>% \n",
    "      layer_dense(1, activation = \"sigmoid\")\n",
    "\n",
    "# Input\n",
    "inputs <- list(dense1 = input_dense, \n",
    "               veh_body = input_veh_body)\n",
    "\n",
    "# Create and compile model\n",
    "nn <- keras_model(inputs = inputs, outputs = outputs)\n",
    "summary(nn)\n",
    "nn %>% compile(\n",
    "  optimizer = optimizer_adam(lr = 0.0001),\n",
    "  loss = 'binary_crossentropy'\n",
    ")\n",
    "\n",
    "# Callbacks\n",
    "cb <- list(\n",
    "  callback_early_stopping(patience = 20),\n",
    "  callback_reduce_lr_on_plateau(patience = 5)\n",
    ")\n",
    "       \n",
    "# Fit model\n",
    "history <- nn %>% fit(\n",
    "  x = prep_nn(X_train),\n",
    "  y = y_train,\n",
    "  epochs = 100,\n",
    "  batch_size = 400, \n",
    "  validation_data = list(prep_nn(X_valid), y_valid),\n",
    "  callbacks = cb\n",
    ")\n",
    "\n",
    "history$metrics[c(\"loss\", \"val_loss\")] %>% \n",
    "  data.frame() %>% \n",
    "  mutate(epoch = row_number()) %>% \n",
    "  pivot_longer(cols = c(\"loss\", \"val_loss\")) %>% \n",
    "ggplot(aes(x = epoch, y = value, group = name, color = name)) +\n",
    "  geom_line(size = 1.4)\n",
    "\n",
    "# Interpret\n",
    "library(flashlight)\n",
    "library(MetricsWeighted)\n",
    "\n",
    "fl <- flashlight(\n",
    "  model = nn, \n",
    "  y = y, \n",
    "  data = dataCar[ix$valid, ], \n",
    "  label = \"nn\", \n",
    "  metrics = list(logLoss = logLoss, `R squared` = r_squared_bernoulli),\n",
    "  predict_function = function(m, X) predict(m, prep_nn(X), batch_size = 1000)\n",
    ")\n",
    "\n",
    "# Performance on validation data\n",
    "plot(light_performance(fl), fill = \"orange\")\n",
    "\n",
    "# Permutation importance\n",
    "plot(light_importance(fl, v = x), fill = \"orange\")\n",
    "\n",
    "# Partial dependence\n",
    "plot(light_profile(fl, v = \"veh_value\", breaks = seq(0, 5, by = 0.1))) %>% \n",
    "  labs(title = \"Partial dependence plot for veh_value\", y = \"price\")\n",
    "\n",
    "plot(light_profile(fl, v = \"veh_body\"), rotate_x = TRUE) +\n",
    "  labs(title = \"Partial dependence plot for veh_body\", y = \"price\")\n",
    "\n",
    "plot(light_profile(fl, v = \"area\")) +\n",
    "  labs(title = \"Partial dependence plot for area\", y = \"price\")\n",
    "\n",
    "plot(light_profile(fl, v = \"agecat\")) +\n",
    "  labs(title = \"Partial dependence plot for agecat\", y = \"price\")"
   ]
  },
  {
   "cell_type": "markdown",
   "metadata": {},
   "source": [
    "# Exercises\n",
    "\n",
    "1. Fit diamond prices by gamma deviance loss with log-link (exponential output activation), using the custom loss function defined below. Tune the model by simple validation and evaluate it (for simplicity) on the validation data. Interpret the final model. (Hints: I used a smaller learning rate and had to replace the \"relu\" activations by \"tanh\".)\n",
    "```{r}\n",
    "loss_gamma <- function(y_true, y_pred) {\n",
    "  -k_log(y_true / y_pred) + y_true / y_pred\n",
    "}\n",
    "```\n",
    "2. Study either the optional claims data example or build your own neural net, predicting claim yes/no. For simplicity, you can represent the categorical feature `veh_body` by integers.\n",
    "\n",
    "# Neural Network Slang\n",
    "\n",
    "Here, we summarize some of the neural network slang.\n",
    "\n",
    "- Activation function: The transformation applied to the node values.\n",
    "- Architecture: The layout of layers and nodes.\n",
    "- Backpropagation: An efficient way to calculate gradients.\n",
    "- Batch: A couple of data rows used for one mini-batch gradient descent step.\n",
    "- Callback: An action during training (save weights, reduce learning rate, stop training, ...).\n",
    "- Epoch: The process of updating the network weights by gradient descent until each observation in the training set was used once.\n",
    "- Embedding: A numeric representation of categorical input as learned by the neural net.\n",
    "- Encoding: The values of latent variables of a hidden layer, usually the last.\n",
    "- Gradient descent: The basic optimization algorithm of neural networks.\n",
    "- Keras: User-friendly wrapper of TensorFlow.\n",
    "- Layer: Main organizational unit of a neural network.\n",
    "- Learning rate: Controls the step size of gradient descent, i.e., how aggressive the network learns.\n",
    "- Node: Nodes on the input layer are the covariates, nodes on the output layer the response(s) and nodes on a hidden layer are latent variables representing the covariates for the task to predict the response.\n",
    "- Optimizer: The specific variant of gradient descent.\n",
    "- PyTorch: An important implementation of neural networks.\n",
    "- Stochastic gradient descent (SGD): Mini-batch gradient descent with batches of size 1.\n",
    "- TensorFlow: An important implementation of neural networks.\n",
    "- Weights: The parameters of a neural net.\n",
    "\n",
    "# Chapter Summary\n",
    "\n",
    "In this chapter, we have glimpsed into the world of neural networks. Step by step we have learned how a neural network works. We have used Keras and TensorFlow to build models brick by brick.\n",
    "\n",
    "# Closing Remarks\n",
    "\n",
    "During this lecture, we have met many ML algorithms and principles. To get used to them, the best approach is practicing. [Kaggle](kaggle.com) is a great place to do so and learn from the best. \n",
    "\n",
    "A summary and comparison of the algorithms can be found on [github](https://github.com/mayer79/ML_Algorithm_Comparison). Here a screenshot as per Sept. 7, 2020: \n",
    "![](../figs/comparison_ML.PNG).\n",
    "\n",
    "# Chapter References\n",
    "\n",
    "[1] P.J. Werbos, \"Beyond Regression: New Tools for Prediction and Analysis in the Behavioral Sciences\", Dissertation, 1974.\n"
   ]
  }
 ],
 "metadata": {
  "interpreter": {
   "hash": "813f6c4cc22c03b594219174db46929469d46b04ef4db7b355912617e499b8c1"
  },
  "kernelspec": {
   "display_name": "Python 3.8.11 64-bit ('ml_lecture': conda)",
   "name": "python3"
  },
  "language_info": {
   "codemirror_mode": {
    "name": "ipython",
    "version": 3
   },
   "file_extension": ".py",
   "mimetype": "text/x-python",
   "name": "python",
   "nbconvert_exporter": "python",
   "pygments_lexer": "ipython3",
   "version": "3.8.11"
  },
  "orig_nbformat": 4
 },
 "nbformat": 4,
 "nbformat_minor": 2
}
