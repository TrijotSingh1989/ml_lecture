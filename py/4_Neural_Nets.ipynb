{
 "cells": [
  {
   "cell_type": "markdown",
   "metadata": {},
   "source": [
    "# Introduction\n",
    "\n",
    "In this chapter, we dive into artificial neural networks, one of the main drivers of artificial intelligence. \n",
    "\n",
    "Neural networks are around since many decades. (Maybe) the first such model was built by Marvin Minsky in 1951. He called his algorithm SNARC (\"stochastic neural-analog reinforcement calculator\"). Since then, neural networks have gone through several stages of development. One of the milestones was the idea of Paul J. Werbos in 1974 [1] to efficiently calculate gradients in the optimization algorithm by an approach called \"backpropagation\". Another milestone was the use of GPUs  (graphics processing units) to greatly reduce calculation time.\n",
    "\n",
    "Artificial neural nets are extremely versatile and powerful. They can be used to\n",
    "\n",
    "1. fit simple models like GLMs,\n",
    "2. learn interactions and non-linear effects in an automatic way (like tree-based methods),\n",
    "3. optimize general loss functions,\n",
    "4. fit data much larger than RAM (e.g. images),\n",
    "5. learn \"online\" (update the model with additional data),\n",
    "6. fit multiple response variables at the same time,\n",
    "7. model input of dimension higher than two (e.g. images, videos),\n",
    "8. model input of *different* input dimensions (e.g. text *and* images),\n",
    "9. fit data with sequential structure in both in- and output (e.g. a text translator),\n",
    "10. model data with spatial structure (images),\n",
    "11. fit models with many millions of parameters,\n",
    "12. do non-linear dimension reduction.\n",
    "\n",
    "In this chapter, we will mainly deal with the first three aspects. Since a lot of new terms are being used, a small glossary can be found in Section \"Neural Network Slang\".\n",
    "\n",
    "# Understanding Neural Nets\n",
    "\n",
    "To learn how and why neural networks work, we will go through three steps - each illustrated on the diamonds data:\n",
    "\n",
    "- Step 1: Linear regression as neural net\n",
    "- Step 2: Hidden layers\n",
    "- Step 3: Activation functions\n",
    "\n",
    "After this, we will be ready to build more complex models.\n",
    "\n",
    "## Step 1: Linear regression as neural net\n",
    "\n",
    "Let us revisit the simple linear regression\n",
    "$$\n",
    "  E(\\text{price}) = \\alpha + \\beta \\cdot \\text{carat}\n",
    "$$\n",
    "calculated on the full diamonds data. In Chapter 1 we have found the solution $\\hat\\alpha = -2256.36$ and $\\hat \\beta = 7756.43$ by ordinary least-squares.\n",
    "\n",
    "Above situation can be viewed as a neural network with\n",
    "\n",
    "- an input layer with two nodes (`carat` and the intercept called \"bias unit\" with value 1),\n",
    "- a \"fully connected\" (= \"dense\") output layer with one node (`price`). Fully connected means that each node of a layer is a linear function of all node values of the previous layer. Each linear function has parameters or *weights* to be estimated, in our simple case just $\\alpha$ and $\\beta$.\n",
    "\n",
    "Visualized as a graph, the situation looks as follows.\n",
    "\n",
    "![](../figs/nn_simple_linear.PNG)\n",
    "\n",
    "*Part of the figures were done with this cool [webtool](http://alexlenail.me/NN-SVG/index.html).*\n",
    "\n",
    "To gain confidence in neural nets, we first show that parameters estimated by a neural network are quite similar to the ones learned by linear least-squares. To do so, we will use Google's [TensorFlow](https://www.tensorflow.org/) with its convenient (functional) [Keras](https://keras.io/) interface. \n",
    "\n",
    "### Example: simple linear regression"
   ]
  },
  {
   "cell_type": "code",
   "execution_count": 1,
   "metadata": {},
   "outputs": [
    {
     "name": "stdout",
     "output_type": "stream",
     "text": [
      "Fitted coefficients with neural net: [array([[7718.2065]], dtype=float32), array([-2222.9836], dtype=float32)]\n"
     ]
    }
   ],
   "source": [
    "from plotnine.data import diamonds\n",
    "from tensorflow import keras\n",
    "from tensorflow.keras import layers\n",
    "from tensorflow.keras.metrics import RootMeanSquaredError as RMSE\n",
    "\n",
    "# Input layer: we have 1 covariate\n",
    "inputs = keras.Input(shape=1)\n",
    "\n",
    "# Output layer densely connected to the input layer\n",
    "outputs = layers.Dense(1)(inputs)\n",
    "\n",
    "# Create model\n",
    "model = keras.Model(inputs=inputs, outputs=outputs)\n",
    "# model.summary()\n",
    "\n",
    "# Compile model\n",
    "model.compile(\n",
    "    loss=\"mse\",\n",
    "    optimizer=keras.optimizers.Adam(learning_rate=1),\n",
    "    metrics=[RMSE()],\n",
    ")\n",
    "\n",
    "# Fit model - naive without validation\n",
    "history = model.fit(\n",
    "    x=diamonds[\"carat\"],\n",
    "    y=diamonds[\"price\"],\n",
    "    epochs=30,\n",
    "    batch_size=100, \n",
    "    verbose=0\n",
    ")\n",
    "\n",
    "# Fitted coefficients\n",
    "print(\"Fitted coefficients with neural net:\", model.get_weights())"
   ]
  },
  {
   "cell_type": "code",
   "execution_count": 2,
   "metadata": {},
   "outputs": [
    {
     "name": "stdout",
     "output_type": "stream",
     "text": [
      "\n",
      "Fitted with OLS:\n",
      "Intercept   -2256.360580\n",
      "carat        7756.425618\n",
      "dtype: float64\n"
     ]
    }
   ],
   "source": [
    "# Compare with linear regression fitted with OLS\n",
    "import statsmodels.formula.api as smf\n",
    "\n",
    "ols = smf.ols(formula=\"price ~ carat\", data=diamonds)\n",
    "res = ols.fit()\n",
    "print(\"\\nFitted with OLS:\", res.params, sep=\"\\n\")"
   ]
  },
  {
   "cell_type": "code",
   "execution_count": 3,
   "metadata": {},
   "outputs": [
    {
     "data": {
      "image/png": "[encoded data removed]",
      "text/plain": [
       "<Figure size 432x288 with 1 Axes>"
      ]
     },
     "metadata": {
      "needs_background": "light"
     },
     "output_type": "display_data"
    }
   ],
   "source": [
    "# Training RMSE over epochs\n",
    "import matplotlib.pyplot as plt\n",
    "\n",
    "plt.plot(history.history[\"root_mean_squared_error\"])\n",
    "plt.title(\"Training RMSE over epochs\")\n",
    "plt.ylabel(\"RMSE\")\n",
    "plt.xlabel(\"Epoch\");"
   ]
  },
  {
   "cell_type": "code",
   "execution_count": 4,
   "metadata": {},
   "outputs": [
    {
     "data": {
      "image/png": "[encoded data removed]",
      "text/plain": [
       "<Figure size 432x288 with 1 Axes>"
      ]
     },
     "metadata": {
      "needs_background": "light"
     },
     "output_type": "display_data"
    }
   ],
   "source": [
    "# Effect of carat on average price\n",
    "import numpy as np\n",
    "\n",
    "carat = np.linspace(0, 3, 30)\n",
    "plt.plot(carat, model(carat), marker=\"o\")\n",
    "plt.title(\"Effect of carat on average price\")\n",
    "plt.ylabel(\"price\")\n",
    "plt.xlabel(\"carat\")\n",
    "plt.grid()"
   ]
  },
  {
   "cell_type": "markdown",
   "metadata": {},
   "source": [
    "**Comment:** The solution of the simple neural network is indeed quite similar to the OLS solution. \n",
    "\n",
    "### The optimization algorithm\n",
    "\n",
    "Neural nets are typically fitted by **mini-batch gradient descent**, using **backpropagation** to efficiently calculate gradients. It works as follows:\n",
    "\n",
    "1. Initiate the parameters with random values. \n",
    "2. Forward step: Use the parameters to predict all observations of a *batch*. A batch is a randomly selected subset of the full data set.\n",
    "3. Backpropagation step: Change the parameters in the right direction, making the loss of the current batch smaller. This involves calculating derivatives (\"gradients\") of the loss function (e.g. MSE) with respect to all parameters. Backpropagation does so in a layer-per-layer fashion, making heavy use of the chain rule. \n",
    "4. Repeat Steps 2-3 until each observation appeared in a batch. This is called an *epoch*.\n",
    "5. Repeat Step 4 for multiple epochs until the parameter estimates stabilize or validation performance stops improving.\n",
    "\n",
    "Gradient descent on batches of size 1 is called \"stochastic gradient descent\" (SGD).\n",
    "\n",
    "## Step 2: Hidden layers\n",
    "\n",
    "Our first neural network above consisted of only an input layer and an output layer. By adding one or more *hidden* layers between in- and output, the network gains additional parameters, and thus more flexibility. The nodes of a hidden layer can be viewed as latent variables, representing the original covariates. The nodes of a hidden layer are sometimes called *encoding*. The closer a layer is to the output, the better its nodes are suitable to predict the response variable. In this way, a neural network finds the right transformations and interactions of its covariates in an automatic way. The only ingredients are a large data set and a flexible enough network \"architecture\" (number of layers, nodes per layer). \n",
    "\n",
    "Neural nets with more than one hidden layer are called \"deep neural nets\".\n",
    "\n",
    "We will now add a hidden layer with five nodes $v_1, \\dots, v_5$ to our simple linear regression network. The architecture looks as follows:\n",
    "\n",
    "![](../figs/nn_1_hidden.PNG)\n",
    "\n",
    "This network has 16 parameters. How much better than our simple network with just two parameters will it be?\n",
    "\n",
    "### Example: hidden layer\n",
    "\n",
    "The following code is almost identical to the last one up, except that there is a hidden layer between input and output layer."
   ]
  },
  {
   "cell_type": "code",
   "execution_count": 1,
   "metadata": {},
   "outputs": [
    {
     "data": {
      "text/plain": [
       "<tensorflow.python.keras.callbacks.History at 0x2779905f790>"
      ]
     },
     "execution_count": 1,
     "metadata": {},
     "output_type": "execute_result"
    }
   ],
   "source": [
    "from plotnine.data import diamonds\n",
    "from tensorflow import keras\n",
    "from tensorflow.keras import layers\n",
    "from tensorflow.keras.metrics import RootMeanSquaredError as RMSE\n",
    "\n",
    "# Input layer: we have 1 covariate\n",
    "inputs = keras.Input(shape=1)\n",
    "\n",
    "# One hidden layer with 5 nodes\n",
    "hidden = layers.Dense(5)(inputs)  # new line of code!\n",
    "\n",
    "# Output layer now connected to the hidden layer\n",
    "outputs = layers.Dense(1)(hidden) # modified\n",
    "\n",
    "# Create model\n",
    "model = keras.Model(inputs=inputs, outputs=outputs)\n",
    "# model.summary()\n",
    "\n",
    "# Compile model\n",
    "model.compile(\n",
    "    loss=\"mse\",\n",
    "    optimizer=keras.optimizers.Adam(learning_rate=1),\n",
    "    metrics=[RMSE()],\n",
    ")\n",
    "\n",
    "# Fit model - naive without validation\n",
    "model.fit(\n",
    "    x=diamonds[\"carat\"],\n",
    "    y=diamonds[\"price\"],\n",
    "    epochs=30,\n",
    "    batch_size=100, \n",
    "    verbose=0\n",
    ")"
   ]
  },
  {
   "cell_type": "code",
   "execution_count": 2,
   "metadata": {},
   "outputs": [
    {
     "data": {
      "image/png": "[encoded data removed]",
      "text/plain": [
       "<Figure size 432x288 with 1 Axes>"
      ]
     },
     "metadata": {
      "needs_background": "light"
     },
     "output_type": "display_data"
    }
   ],
   "source": [
    "# Plot effect\n",
    "import numpy as np\n",
    "import matplotlib.pyplot as plt\n",
    "\n",
    "carat = np.linspace(0, 3, 30)\n",
    "plt.plot(carat, model(carat), marker=\"o\")\n",
    "plt.title(\"Effect of carat on average price\")\n",
    "plt.ylabel(\"price\")\n",
    "plt.xlabel(\"carat\")\n",
    "plt.grid()"
   ]
  },
  {
   "cell_type": "markdown",
   "metadata": {},
   "source": [
    "**Comment:** Oops, it seems as if the extra hidden layer had no effect. The reason is that a linear function of a linear function is still a linear function. Adding the hidden layer did not really change the capabilities of the model. It just added a lot of unnecessary parameters.\n",
    "\n",
    "## Step 3: Activation functions\n",
    "\n",
    "The missing magic component is the so called [*activation* function](https://en.wikipedia.org/wiki/Activation_function) $\\sigma$ after each layer, which transforms the values of the nodes. So far, we have implicitly used \"linear activations\", which - in neural network slang - is just the identity function. \n",
    "\n",
    "Applying *non-linear* activation functions after hidden layers have the purpose to introduce non-linear and interaction effects. Typical such functions are\n",
    "\n",
    "- the hyperbolic tangent (\"S\"-shaped function that maps real values to $[-1, 1]$),\n",
    "- the sigmoidal function (\"S\"-shaped function that maps real values to $[0, 1]$),\n",
    "- the **re**ctangular **l**inear **u**nit \"ReLU\" $f(x) = \\text{max}(0, x)$ that sets negative values to 0.\n",
    "\n",
    "Activation functions applied to the *output* layer have a different purpose, namely the same as the inverse of the link function of a corresponding GLM. It maps predictions to the scale of the response: \n",
    "\n",
    "- linear regression -> linear activation\n",
    "- binary logistic regression -> sigmoid activation (to predict probability of \"1\")\n",
    "- multinomial logistic regression -> softmax activation (to predict one probability per class)\n",
    "- log-linear regression -> exponential activation\n",
    "\n",
    "Let us add a hyperbolic tangent activation function ($\\sigma$) after the hidden layer of our simple example.\n",
    "\n",
    "![](../figs/nn_activation.PNG)\n",
    "\n",
    "### Example: activation functions\n",
    "\n",
    "Again, the code is very similar to the last one, with the exception of using a hyperbolic tangent activation after the hidden layer (and different learning rate and number of epochs)."
   ]
  },
  {
   "cell_type": "code",
   "execution_count": 1,
   "metadata": {},
   "outputs": [
    {
     "data": {
      "text/plain": [
       "<tensorflow.python.keras.callbacks.History at 0x1936c4eec70>"
      ]
     },
     "execution_count": 1,
     "metadata": {},
     "output_type": "execute_result"
    }
   ],
   "source": [
    "from plotnine.data import diamonds\n",
    "from tensorflow import keras\n",
    "from tensorflow.keras import layers\n",
    "from tensorflow.keras.metrics import RootMeanSquaredError as RMSE\n",
    "\n",
    "# Input layer: we have 1 covariate\n",
    "inputs = keras.Input(shape=1)\n",
    "\n",
    "# One hidden layer with 5 nodes\n",
    "hidden = layers.Dense(5, activation=\"tanh\")(inputs)\n",
    "\n",
    "# Output layer now connected to the hidden layer\n",
    "outputs = layers.Dense(1, activation=\"linear\")(hidden)\n",
    "\n",
    "# Create model\n",
    "model = keras.Model(inputs=inputs, outputs=outputs)\n",
    "# model.summary()\n",
    "\n",
    "# Compile model\n",
    "model.compile(\n",
    "    loss=\"mse\",\n",
    "    optimizer=keras.optimizers.Adam(learning_rate=0.2),\n",
    "    metrics=[RMSE()],\n",
    ")\n",
    "\n",
    "# Fit model - naive without validation\n",
    "model.fit(\n",
    "    x=diamonds[\"carat\"],\n",
    "    y=diamonds[\"price\"],\n",
    "    epochs=50,\n",
    "    batch_size=100, \n",
    "    verbose=0\n",
    ")"
   ]
  },
  {
   "cell_type": "code",
   "execution_count": 2,
   "metadata": {},
   "outputs": [
    {
     "data": {
      "image/png": "[encoded data removed]",
      "text/plain": [
       "<Figure size 432x288 with 1 Axes>"
      ]
     },
     "metadata": {
      "needs_background": "light"
     },
     "output_type": "display_data"
    }
   ],
   "source": [
    "# Plot effect\n",
    "import numpy as np\n",
    "import matplotlib.pyplot as plt\n",
    "\n",
    "carat = np.linspace(0, 3, 30)\n",
    "plt.plot(carat, model(carat), marker=\"o\")\n",
    "plt.title(\"Effect of carat on average price\")\n",
    "plt.ylabel(\"price\")\n",
    "plt.xlabel(\"carat\")\n",
    "plt.grid()"
   ]
  },
  {
   "cell_type": "markdown",
   "metadata": {},
   "source": [
    "**Comment:** Adding the non-linear activation after the hidden layer has changed the model. The effect of carat is now representing the association between carat and price by a non-linear function.\n",
    "\n",
    "# Practical Considerations\n",
    "\n",
    "## Validation and tuning of main parameters\n",
    "\n",
    "So far, we have naively fitted the neural networks without splitting the data for test and validation. Don't do this! Usually, one sets a small test dataset (e.g. 10% of rows) aside to assess the final model performance and use simple (or cross-)validation for model tuning.\n",
    "\n",
    "In order to choose the main tuning parameters, namely\n",
    "\n",
    "- network architecture,\n",
    "- activation functions,\n",
    "- learning rate, \n",
    "- batch size, and\n",
    "- number of epochs, \n",
    "\n",
    "one often uses simple validation because cross-validation takes too much time.\n",
    "\n",
    "## Missing values\n",
    "\n",
    "A neural net does not accept missing values in the input. They need to be filled, e.g., by a typcial value or a value below the minimum.\n",
    "\n",
    "## Input standardization\n",
    "\n",
    "Gradient descent starts by random initialization of parameters. This step is optimized for standardized input. Standardization has to be done manually by either\n",
    "\n",
    "- min/max scale the values of each input to the range -1 to 1,\n",
    "- standard scale the values of each input to mean 0 and standard deviation 1, or\n",
    "- use relative ranks.\n",
    "\n",
    "Note that the scaling transformation is calculated on the training data and then applied to the validation and test data. This usually requires a couple of lines of code.\n",
    "\n",
    "## Categorical input\n",
    "\n",
    "There are three ways to represent categorical input variables in a neural network. \n",
    "\n",
    "1. Binary and ordinal categoricals are best represented by integers and then treated as numeric.\n",
    "2. Unordered categoricals are either one-hot-encoded (i.e., each category is represented by a binary variable) or \n",
    "3. they are represented by a (categorical) embedding. To do so, the categories are integer encoded and then condensed by a special *embedding layer* to a few (usually 1 or 2) dense features. This requires a more complex network architecture but saves memory and preprocessing. This approach is heavily used when the input consists of words (which is a categorical variable with thousands of levels - one level per word).\n",
    "\n",
    "For Option 2, input standardization is not required, for Option 3 it *must* not be applied as the embedding layer expects integers.\n",
    "\n",
    "## Callbacks\n",
    "\n",
    "Sometimes, we want to take actions during training, such as\n",
    "\n",
    "- stop training when validation performance starts worsening,\n",
    "- reduce the learning rate when the optimization is stuck in a \"plateau\", or\n",
    "- save the network weights between epochs.\n",
    "\n",
    "Such monitoring tasks are called *callbacks*. We will see them in the example below.\n",
    "\n",
    "## Types of layers\n",
    "\n",
    "So far, we have encountered only dense (= fully connected) layers and activation layers. Here some further types:\n",
    "\n",
    "- Embedding layers to represent integer encoded categoricals.\n",
    "- Dropout layers to add regularization.\n",
    "- Convolutional and pooling layers for image data.\n",
    "- Recurrent layers (long-short-term memory LSTM, gated recurrent unit GRU) for sequence data.\n",
    "- Concatenation layers to combine different branches of the network (like in a directed graph).\n",
    "- Flatten layers to bring higher dimensional layers to dimension 1 (relevant, e.g., for embeddings, image and text data).\n",
    "\n",
    "## Optimizer\n",
    "\n",
    "Pure gradient descent is rarely applied without tweaks because it tends to be stuck in local minima, especially for complex networks with non-convex objective surfaces. Modern variants are \"adam\", \"nadam\" and \"RMSProp\". These optimizers work usually out-of-the-box, except for the learning rate, which has to be manually chosen.\n",
    "\n",
    "## Custom losses and evaluation metrics\n",
    "\n",
    "Frameworks like Keras/TensorFlow offer many predefined loss functions and evaluation metrics. Choosing them is a crucial step, just as with tree boosting.\n",
    "Using TensorFlow's backend functions, one can define own metrics and loss functions (see exercises).\n",
    "\n",
    "## Overfitting and regularization\n",
    "\n",
    "As with linear models, a model with too many parameters will overfit in an undesired way. With about 50 to 100 observations per parameter, overfitting is usually unproblematic. (For image and text data, different rules apply). Besides using less parameters, the main options to reduce overfitting are the following:\n",
    "\n",
    "- pull the parameters of a layer slightly towards zero by applying L1 and/or L2 penalties to the parameters,\n",
    "- add dropout layers. A dropout layer randomly sets some of the node values of the previous layer to 0, switching them off. This is an elegant way to fight overfitting and is related to bagging.\n",
    "\n",
    "## Choosing the architecture\n",
    "\n",
    "How many layers and number of nodes per layer to select? For tabular data, using 1-3 hidden layers is usually enough. If we start with $m$ input variables, the number of nodes in the first hidden layer is usually higher than $m$ and reduces for later layers. There should not be a \"representational bottleneck\", i.e., an early hidden layer with too few parameters. \n",
    "\n",
    "The number of parameters should not be too high compared to the number of rows, see \"Overfitting and regularization\" above. \n",
    "\n",
    "## Interpretation\n",
    "\n",
    "Variable importance of covariates in neural networks can be assessed by permutation importance (how much performance is lost when shuffling column X?) or SHAP importance. Covariate effects can be investigated, e.g., by partial dependence plots or SHAP dependence plots.\n",
    "\n",
    "# Example: diamonds\n",
    "\n",
    "We will now fit a neural net with two hidden layers (30 and 15 nodes) and a total of 631 parameters to model diamond prices. Learning rate and batch size were chosen by simple validation. The number of epochs is being chosen by an early stopping callback.\n",
    "\n",
    "![](../figs/nn_2_hidden.PNG)\n"
   ]
  },
  {
   "cell_type": "code",
   "execution_count": 1,
   "metadata": {},
   "outputs": [],
   "source": [
    "# Preprocessing\n",
    "from plotnine.data import diamonds\n",
    "from sklearn.preprocessing import OrdinalEncoder, StandardScaler\n",
    "from sklearn.compose import ColumnTransformer\n",
    "from sklearn.pipeline import make_pipeline\n",
    "from sklearn.model_selection import train_test_split\n",
    "\n",
    "# Ordinal encoder for cut, color, and clarity\n",
    "ord_features = [\"cut\", \"color\", \"clarity\"]\n",
    "ord_levels = [\n",
    "    diamonds[x].cat.categories.to_list() for x in ord_features\n",
    "]\n",
    "\n",
    "# Data preprocessing pipeline\n",
    "preprocessor = make_pipeline(\n",
    "    ColumnTransformer(\n",
    "        transformers=[\n",
    "            (\"ordinal\", OrdinalEncoder(categories=ord_levels), ord_features),\n",
    "            (\"numeric\", \"passthrough\", [\"carat\"])\n",
    "        ]\n",
    "    ),\n",
    "    StandardScaler()\n",
    ")\n",
    "\n",
    "# Train/valid split\n",
    "df_train, df_valid, y_train, y_valid = train_test_split(\n",
    "    diamonds, diamonds[\"price\"], test_size=0.2, random_state=341\n",
    ")\n",
    "\n",
    "X_train = preprocessor.fit_transform(df_train)\n",
    "X_valid = preprocessor.transform(df_valid)"
   ]
  },
  {
   "cell_type": "code",
   "execution_count": 2,
   "metadata": {},
   "outputs": [],
   "source": [
    "# Modeling\n",
    "import tensorflow as tf\n",
    "from tensorflow import keras\n",
    "from tensorflow.keras import layers\n",
    "from tensorflow.keras.metrics import RootMeanSquaredError as RMSE\n",
    "\n",
    "# Input layer: we have 4 covariates\n",
    "inputs = keras.Input(shape=4)\n",
    "\n",
    "# One hidden layer with 5 nodes\n",
    "x = layers.Dense(30, activation=\"relu\")(inputs)\n",
    "x = layers.Dense(15, activation=\"relu\")(x)\n",
    "\n",
    "# Output layer now connected to the last hidden layer\n",
    "outputs = layers.Dense(1, activation=\"linear\")(x)\n",
    "\n",
    "# Create model\n",
    "model = keras.Model(inputs=inputs, outputs=outputs)\n",
    "# model.summary()\n",
    "\n",
    "# Compile model\n",
    "model.compile(\n",
    "    loss=\"mse\",\n",
    "    optimizer=keras.optimizers.Adam(learning_rate=0.3),\n",
    "    metrics=[RMSE()],\n",
    ")\n",
    "\n",
    "# Callbacks\n",
    "cb = [\n",
    "    keras.callbacks.EarlyStopping(patience=20),\n",
    "    keras.callbacks.ReduceLROnPlateau(patience=5)\n",
    "]\n",
    "\n",
    "# Fit model\n",
    "tf.random.set_seed(88)\n",
    "history = model.fit(\n",
    "    x=X_train,\n",
    "    y=y_train,\n",
    "    epochs=1000,\n",
    "    batch_size=400, \n",
    "    validation_data=(X_valid, y_valid),\n",
    "    callbacks=cb,\n",
    "    verbose=0\n",
    ")     "
   ]
  },
  {
   "cell_type": "code",
   "execution_count": 3,
   "metadata": {},
   "outputs": [
    {
     "data": {
      "image/png": "[encoded data removed]",
      "text/plain": [
       "<Figure size 432x288 with 1 Axes>"
      ]
     },
     "metadata": {
      "needs_background": "light"
     },
     "output_type": "display_data"
    }
   ],
   "source": [
    "# Training RMSE over epochs\n",
    "import matplotlib.pyplot as plt\n",
    "\n",
    "plt.plot(history.history[\"root_mean_squared_error\"], label=\"Training\")\n",
    "plt.plot(history.history[\"val_root_mean_squared_error\"], label=\"Validation\")\n",
    "plt.legend()\n",
    "plt.gca().set(\n",
    "    title=\"Training RMSE over epochs\",\n",
    "    xlabel=\"Epoch\",\n",
    "    ylabel=\"RMSE\"\n",
    ")\n",
    "plt.grid();"
   ]
  },
  {
   "cell_type": "code",
   "execution_count": 4,
   "metadata": {},
   "outputs": [
    {
     "name": "stdout",
     "output_type": "stream",
     "text": [
      "Performance\n",
      "                       mse        rmse        r2         mae         mad\n",
      "Functional  337329.470396  580.800715  0.978649  312.551148  141.392548\n"
     ]
    },
    {
     "data": {
      "application/vnd.plotly.v1+json": {
       "config": {
        "displaylogo": false,
        "modeBarButtonsToRemove": [
         "sendDataToCloud",
         "lasso2d",
         "autoScale2d",
         "select2d",
         "zoom2d",
         "pan2d",
         "zoomIn2d",
         "zoomOut2d",
         "resetScale2d",
         "toggleSpikelines",
         "hoverCompareCartesian",
         "hoverClosestCartesian"
        ],
        "plotlyServerURL": "https://plot.ly",
        "staticPlot": false,
        "toImageButtonOptions": {
         "height": null,
         "width": null
        }
       },
       "data": [
        {
         "base": 569.5016981862381,
         "hoverinfo": "text",
         "hoverlabel": {
          "bgcolor": "rgba(0,0,0,0.8)"
         },
         "hovertext": [
          "Model: Functional loss after<br>variable: carat is permuted: 6542.783<br>Drop-out loss change: +5973.281",
          "Model: Functional loss after<br>variable: clarity is permuted: 1884.555<br>Drop-out loss change: +1315.053",
          "Model: Functional loss after<br>variable: color is permuted: 1466.087<br>Drop-out loss change: +896.585",
          "Model: Functional loss after<br>variable: cut is permuted: 610.878<br>Drop-out loss change: +41.376"
         ],
         "marker": {
          "color": "#46bac2"
         },
         "orientation": "h",
         "showlegend": false,
         "text": [
          "+5973.281",
          "+1315.053",
          "+896.585",
          "+41.376"
         ],
         "textposition": "outside",
         "type": "bar",
         "x": [
          5973.2814150734375,
          1315.0534943462249,
          896.5848607432694,
          41.376368931305024
         ],
         "xaxis": "x",
         "y": [
          "carat",
          "clarity",
          "color",
          "cut"
         ],
         "yaxis": "y"
        }
       ],
       "layout": {
        "annotations": [
         {
          "font": {
           "size": 16
          },
          "showarrow": false,
          "text": "Functional",
          "x": 0.5,
          "xanchor": "center",
          "xref": "paper",
          "y": 1,
          "yanchor": "bottom",
          "yref": "paper"
         },
         {
          "font": {
           "size": 16
          },
          "showarrow": false,
          "text": "drop-out loss",
          "x": 0.5,
          "xanchor": "center",
          "xref": "paper",
          "y": 0,
          "yanchor": "top",
          "yref": "paper",
          "yshift": -30
         }
        ],
        "font": {
         "color": "#371ea3"
        },
        "height": 263,
        "margin": {
         "b": 71,
         "r": 30,
         "t": 78
        },
        "shapes": [
         {
          "line": {
           "color": "#371ea3",
           "dash": "dot",
           "width": 1.5
          },
          "type": "line",
          "x0": 569.5016981862381,
          "x1": 569.5016981862381,
          "xref": "x",
          "y0": -1,
          "y1": 4,
          "yref": "y"
         }
        ],
        "template": {
         "data": {
          "scatter": [
           {
            "type": "scatter"
           }
          ]
         }
        },
        "title": {
         "text": "Variable Importance",
         "x": 0.15
        },
        "xaxis": {
         "anchor": "y",
         "automargin": true,
         "domain": [
          0,
          1
         ],
         "fixedrange": true,
         "gridwidth": 2,
         "range": [
          -326.4905140747776,
          7438.775325520692
         ],
         "tickcolor": "white",
         "ticklen": 3,
         "ticks": "outside",
         "type": "linear",
         "zeroline": false
        },
        "yaxis": {
         "anchor": "x",
         "automargin": true,
         "autorange": "reversed",
         "domain": [
          0,
          1
         ],
         "fixedrange": true,
         "gridwidth": 2,
         "tickcolor": "white",
         "ticklen": 10,
         "ticks": "outside",
         "type": "category"
        }
       }
      }
     },
     "metadata": {},
     "output_type": "display_data"
    },
    {
     "data": {
      "application/vnd.plotly.v1+json": {
       "config": {
        "displaylogo": false,
        "modeBarButtonsToRemove": [
         "sendDataToCloud",
         "lasso2d",
         "autoScale2d",
         "select2d",
         "zoom2d",
         "pan2d",
         "zoomIn2d",
         "zoomOut2d",
         "resetScale2d",
         "toggleSpikelines",
         "hoverCompareCartesian",
         "hoverClosestCartesian"
        ],
        "plotlyServerURL": "https://plot.ly",
        "staticPlot": false,
        "toImageButtonOptions": {
         "height": null,
         "width": null
        }
       },
       "data": [
        {
         "customdata": [
          [
           3957.3466796875,
           "Partial depencence for numeric variables",
           "carat"
          ],
          [
           3957.3466796875,
           "Partial depencence for numeric variables",
           "carat"
          ],
          [
           3957.3466796875,
           "Partial depencence for numeric variables",
           "carat"
          ],
          [
           3957.3466796875,
           "Partial depencence for numeric variables",
           "carat"
          ],
          [
           3957.3466796875,
           "Partial depencence for numeric variables",
           "carat"
          ],
          [
           3957.3466796875,
           "Partial depencence for numeric variables",
           "carat"
          ],
          [
           3957.3466796875,
           "Partial depencence for numeric variables",
           "carat"
          ],
          [
           3957.3466796875,
           "Partial depencence for numeric variables",
           "carat"
          ],
          [
           3957.3466796875,
           "Partial depencence for numeric variables",
           "carat"
          ],
          [
           3957.3466796875,
           "Partial depencence for numeric variables",
           "carat"
          ],
          [
           3957.3466796875,
           "Partial depencence for numeric variables",
           "carat"
          ],
          [
           3957.3466796875,
           "Partial depencence for numeric variables",
           "carat"
          ],
          [
           3957.3466796875,
           "Partial depencence for numeric variables",
           "carat"
          ],
          [
           3957.3466796875,
           "Partial depencence for numeric variables",
           "carat"
          ],
          [
           3957.3466796875,
           "Partial depencence for numeric variables",
           "carat"
          ],
          [
           3957.3466796875,
           "Partial depencence for numeric variables",
           "carat"
          ],
          [
           3957.3466796875,
           "Partial depencence for numeric variables",
           "carat"
          ],
          [
           3957.3466796875,
           "Partial depencence for numeric variables",
           "carat"
          ],
          [
           3957.3466796875,
           "Partial depencence for numeric variables",
           "carat"
          ],
          [
           3957.3466796875,
           "Partial depencence for numeric variables",
           "carat"
          ],
          [
           3957.3466796875,
           "Partial depencence for numeric variables",
           "carat"
          ],
          [
           3957.3466796875,
           "Partial depencence for numeric variables",
           "carat"
          ],
          [
           3957.3466796875,
           "Partial depencence for numeric variables",
           "carat"
          ],
          [
           3957.3466796875,
           "Partial depencence for numeric variables",
           "carat"
          ],
          [
           3957.3466796875,
           "Partial depencence for numeric variables",
           "carat"
          ],
          [
           3957.3466796875,
           "Partial depencence for numeric variables",
           "carat"
          ],
          [
           3957.3466796875,
           "Partial depencence for numeric variables",
           "carat"
          ],
          [
           3957.3466796875,
           "Partial depencence for numeric variables",
           "carat"
          ],
          [
           3957.3466796875,
           "Partial depencence for numeric variables",
           "carat"
          ],
          [
           3957.3466796875,
           "Partial depencence for numeric variables",
           "carat"
          ],
          [
           3957.3466796875,
           "Partial depencence for numeric variables",
           "carat"
          ],
          [
           3957.3466796875,
           "Partial depencence for numeric variables",
           "carat"
          ],
          [
           3957.3466796875,
           "Partial depencence for numeric variables",
           "carat"
          ],
          [
           3957.3466796875,
           "Partial depencence for numeric variables",
           "carat"
          ],
          [
           3957.3466796875,
           "Partial depencence for numeric variables",
           "carat"
          ],
          [
           3957.3466796875,
           "Partial depencence for numeric variables",
           "carat"
          ],
          [
           3957.3466796875,
           "Partial depencence for numeric variables",
           "carat"
          ],
          [
           3957.3466796875,
           "Partial depencence for numeric variables",
           "carat"
          ],
          [
           3957.3466796875,
           "Partial depencence for numeric variables",
           "carat"
          ],
          [
           3957.3466796875,
           "Partial depencence for numeric variables",
           "carat"
          ],
          [
           3957.3466796875,
           "Partial depencence for numeric variables",
           "carat"
          ],
          [
           3957.3466796875,
           "Partial depencence for numeric variables",
           "carat"
          ],
          [
           3957.3466796875,
           "Partial depencence for numeric variables",
           "carat"
          ],
          [
           3957.3466796875,
           "Partial depencence for numeric variables",
           "carat"
          ],
          [
           3957.3466796875,
           "Partial depencence for numeric variables",
           "carat"
          ],
          [
           3957.3466796875,
           "Partial depencence for numeric variables",
           "carat"
          ],
          [
           3957.3466796875,
           "Partial depencence for numeric variables",
           "carat"
          ],
          [
           3957.3466796875,
           "Partial depencence for numeric variables",
           "carat"
          ],
          [
           3957.3466796875,
           "Partial depencence for numeric variables",
           "carat"
          ],
          [
           3957.3466796875,
           "Partial depencence for numeric variables",
           "carat"
          ],
          [
           3957.3466796875,
           "Partial depencence for numeric variables",
           "carat"
          ],
          [
           3957.3466796875,
           "Partial depencence for numeric variables",
           "carat"
          ],
          [
           3957.3466796875,
           "Partial depencence for numeric variables",
           "carat"
          ],
          [
           3957.3466796875,
           "Partial depencence for numeric variables",
           "carat"
          ],
          [
           3957.3466796875,
           "Partial depencence for numeric variables",
           "carat"
          ],
          [
           3957.3466796875,
           "Partial depencence for numeric variables",
           "carat"
          ],
          [
           3957.3466796875,
           "Partial depencence for numeric variables",
           "carat"
          ],
          [
           3957.3466796875,
           "Partial depencence for numeric variables",
           "carat"
          ],
          [
           3957.3466796875,
           "Partial depencence for numeric variables",
           "carat"
          ],
          [
           3957.3466796875,
           "Partial depencence for numeric variables",
           "carat"
          ],
          [
           3957.3466796875,
           "Partial depencence for numeric variables",
           "carat"
          ],
          [
           3957.3466796875,
           "Partial depencence for numeric variables",
           "carat"
          ],
          [
           3957.3466796875,
           "Partial depencence for numeric variables",
           "carat"
          ],
          [
           3957.3466796875,
           "Partial depencence for numeric variables",
           "carat"
          ],
          [
           3957.3466796875,
           "Partial depencence for numeric variables",
           "carat"
          ],
          [
           3957.3466796875,
           "Partial depencence for numeric variables",
           "carat"
          ],
          [
           3957.3466796875,
           "Partial depencence for numeric variables",
           "carat"
          ],
          [
           3957.3466796875,
           "Partial depencence for numeric variables",
           "carat"
          ],
          [
           3957.3466796875,
           "Partial depencence for numeric variables",
           "carat"
          ],
          [
           3957.3466796875,
           "Partial depencence for numeric variables",
           "carat"
          ],
          [
           3957.3466796875,
           "Partial depencence for numeric variables",
           "carat"
          ],
          [
           3957.3466796875,
           "Partial depencence for numeric variables",
           "carat"
          ],
          [
           3957.3466796875,
           "Partial depencence for numeric variables",
           "carat"
          ],
          [
           3957.3466796875,
           "Partial depencence for numeric variables",
           "carat"
          ],
          [
           3957.3466796875,
           "Partial depencence for numeric variables",
           "carat"
          ],
          [
           3957.3466796875,
           "Partial depencence for numeric variables",
           "carat"
          ],
          [
           3957.3466796875,
           "Partial depencence for numeric variables",
           "carat"
          ],
          [
           3957.3466796875,
           "Partial depencence for numeric variables",
           "carat"
          ],
          [
           3957.3466796875,
           "Partial depencence for numeric variables",
           "carat"
          ],
          [
           3957.3466796875,
           "Partial depencence for numeric variables",
           "carat"
          ],
          [
           3957.3466796875,
           "Partial depencence for numeric variables",
           "carat"
          ],
          [
           3957.3466796875,
           "Partial depencence for numeric variables",
           "carat"
          ],
          [
           3957.3466796875,
           "Partial depencence for numeric variables",
           "carat"
          ],
          [
           3957.3466796875,
           "Partial depencence for numeric variables",
           "carat"
          ],
          [
           3957.3466796875,
           "Partial depencence for numeric variables",
           "carat"
          ],
          [
           3957.3466796875,
           "Partial depencence for numeric variables",
           "carat"
          ],
          [
           3957.3466796875,
           "Partial depencence for numeric variables",
           "carat"
          ],
          [
           3957.3466796875,
           "Partial depencence for numeric variables",
           "carat"
          ],
          [
           3957.3466796875,
           "Partial depencence for numeric variables",
           "carat"
          ],
          [
           3957.3466796875,
           "Partial depencence for numeric variables",
           "carat"
          ],
          [
           3957.3466796875,
           "Partial depencence for numeric variables",
           "carat"
          ],
          [
           3957.3466796875,
           "Partial depencence for numeric variables",
           "carat"
          ],
          [
           3957.3466796875,
           "Partial depencence for numeric variables",
           "carat"
          ],
          [
           3957.3466796875,
           "Partial depencence for numeric variables",
           "carat"
          ],
          [
           3957.3466796875,
           "Partial depencence for numeric variables",
           "carat"
          ],
          [
           3957.3466796875,
           "Partial depencence for numeric variables",
           "carat"
          ],
          [
           3957.3466796875,
           "Partial depencence for numeric variables",
           "carat"
          ],
          [
           3957.3466796875,
           "Partial depencence for numeric variables",
           "carat"
          ],
          [
           3957.3466796875,
           "Partial depencence for numeric variables",
           "carat"
          ],
          [
           3957.3466796875,
           "Partial depencence for numeric variables",
           "carat"
          ],
          [
           3957.3466796875,
           "Partial depencence for numeric variables",
           "carat"
          ]
         ],
         "hovertemplate": "<b>%{hovertext}</b><br><br>prediction=%{y:.3f}<br>mean_prediction=%{customdata[0]:.3f}<extra></extra>",
         "hovertext": [
          "Partial depencence for numeric variables",
          "Partial depencence for numeric variables",
          "Partial depencence for numeric variables",
          "Partial depencence for numeric variables",
          "Partial depencence for numeric variables",
          "Partial depencence for numeric variables",
          "Partial depencence for numeric variables",
          "Partial depencence for numeric variables",
          "Partial depencence for numeric variables",
          "Partial depencence for numeric variables",
          "Partial depencence for numeric variables",
          "Partial depencence for numeric variables",
          "Partial depencence for numeric variables",
          "Partial depencence for numeric variables",
          "Partial depencence for numeric variables",
          "Partial depencence for numeric variables",
          "Partial depencence for numeric variables",
          "Partial depencence for numeric variables",
          "Partial depencence for numeric variables",
          "Partial depencence for numeric variables",
          "Partial depencence for numeric variables",
          "Partial depencence for numeric variables",
          "Partial depencence for numeric variables",
          "Partial depencence for numeric variables",
          "Partial depencence for numeric variables",
          "Partial depencence for numeric variables",
          "Partial depencence for numeric variables",
          "Partial depencence for numeric variables",
          "Partial depencence for numeric variables",
          "Partial depencence for numeric variables",
          "Partial depencence for numeric variables",
          "Partial depencence for numeric variables",
          "Partial depencence for numeric variables",
          "Partial depencence for numeric variables",
          "Partial depencence for numeric variables",
          "Partial depencence for numeric variables",
          "Partial depencence for numeric variables",
          "Partial depencence for numeric variables",
          "Partial depencence for numeric variables",
          "Partial depencence for numeric variables",
          "Partial depencence for numeric variables",
          "Partial depencence for numeric variables",
          "Partial depencence for numeric variables",
          "Partial depencence for numeric variables",
          "Partial depencence for numeric variables",
          "Partial depencence for numeric variables",
          "Partial depencence for numeric variables",
          "Partial depencence for numeric variables",
          "Partial depencence for numeric variables",
          "Partial depencence for numeric variables",
          "Partial depencence for numeric variables",
          "Partial depencence for numeric variables",
          "Partial depencence for numeric variables",
          "Partial depencence for numeric variables",
          "Partial depencence for numeric variables",
          "Partial depencence for numeric variables",
          "Partial depencence for numeric variables",
          "Partial depencence for numeric variables",
          "Partial depencence for numeric variables",
          "Partial depencence for numeric variables",
          "Partial depencence for numeric variables",
          "Partial depencence for numeric variables",
          "Partial depencence for numeric variables",
          "Partial depencence for numeric variables",
          "Partial depencence for numeric variables",
          "Partial depencence for numeric variables",
          "Partial depencence for numeric variables",
          "Partial depencence for numeric variables",
          "Partial depencence for numeric variables",
          "Partial depencence for numeric variables",
          "Partial depencence for numeric variables",
          "Partial depencence for numeric variables",
          "Partial depencence for numeric variables",
          "Partial depencence for numeric variables",
          "Partial depencence for numeric variables",
          "Partial depencence for numeric variables",
          "Partial depencence for numeric variables",
          "Partial depencence for numeric variables",
          "Partial depencence for numeric variables",
          "Partial depencence for numeric variables",
          "Partial depencence for numeric variables",
          "Partial depencence for numeric variables",
          "Partial depencence for numeric variables",
          "Partial depencence for numeric variables",
          "Partial depencence for numeric variables",
          "Partial depencence for numeric variables",
          "Partial depencence for numeric variables",
          "Partial depencence for numeric variables",
          "Partial depencence for numeric variables",
          "Partial depencence for numeric variables",
          "Partial depencence for numeric variables",
          "Partial depencence for numeric variables",
          "Partial depencence for numeric variables",
          "Partial depencence for numeric variables",
          "Partial depencence for numeric variables",
          "Partial depencence for numeric variables",
          "Partial depencence for numeric variables",
          "Partial depencence for numeric variables",
          "Partial depencence for numeric variables",
          "Partial depencence for numeric variables",
          "Partial depencence for numeric variables"
         ],
         "legendgroup": "Partial depencence for numeric variables",
         "line": {
          "color": "#46bac2",
          "dash": "solid",
          "width": 2
         },
         "marker": {
          "symbol": "circle"
         },
         "mode": "lines",
         "name": "Partial depencence for numeric variables",
         "opacity": 1,
         "orientation": "v",
         "showlegend": true,
         "type": "scatter",
         "x": [
          0.2,
          0.2393,
          0.2786,
          0.31789999999999996,
          0.35719999999999996,
          0.39649999999999996,
          0.43579999999999997,
          0.47509999999999997,
          0.5144,
          0.5537,
          0.593,
          0.6323,
          0.6716,
          0.7108999999999999,
          0.7502,
          0.7894999999999999,
          0.8288,
          0.8680999999999999,
          0.9074,
          0.9466999999999999,
          0.986,
          1.0252999999999999,
          1.0646,
          1.1038999999999999,
          1.1431999999999998,
          1.1824999999999999,
          1.2217999999999998,
          1.2610999999999999,
          1.3003999999999998,
          1.3397,
          1.3789999999999998,
          1.4183,
          1.4575999999999998,
          1.4968999999999997,
          1.5361999999999998,
          1.5754999999999997,
          1.6147999999999998,
          1.6540999999999997,
          1.6933999999999998,
          1.7326999999999997,
          1.7719999999999998,
          1.8112999999999997,
          1.8505999999999998,
          1.8898999999999997,
          1.9291999999999998,
          1.9684999999999997,
          2.0078,
          2.0471,
          2.0864,
          2.1256999999999997,
          2.1649999999999996,
          2.2043,
          2.2436,
          2.2828999999999997,
          2.3222,
          2.3615,
          2.4008,
          2.4400999999999997,
          2.4794,
          2.5187,
          2.558,
          2.5972999999999997,
          2.6366,
          2.6759,
          2.7152,
          2.7544999999999997,
          2.7937999999999996,
          2.8331,
          2.8724,
          2.9116999999999997,
          2.9509999999999996,
          2.9903,
          3.0296,
          3.0688999999999997,
          3.1081999999999996,
          3.1475,
          3.1868,
          3.2260999999999997,
          3.2653999999999996,
          3.3047,
          3.344,
          3.3832999999999998,
          3.4225999999999996,
          3.4618999999999995,
          3.5012,
          3.5404999999999998,
          3.5797999999999996,
          3.6190999999999995,
          3.6584,
          3.6976999999999998,
          3.7369999999999997,
          3.7762999999999995,
          3.8156,
          3.8548999999999998,
          3.8941999999999997,
          3.9334999999999996,
          3.9727999999999994,
          4.012099999999999,
          4.051399999999999,
          4.090699999999999,
          4.13
         ],
         "xaxis": "x",
         "y": [
          325.61083984375,
          408.32611083984375,
          500.5658874511719,
          609.4183959960938,
          734.223876953125,
          874.756591796875,
          1029.045654296875,
          1201.9827880859375,
          1399.9698486328125,
          1615.988037109375,
          1846.158203125,
          2093.442626953125,
          2354.3955078125,
          2628.3955078125,
          2920.030517578125,
          3232.82958984375,
          3583.427490234375,
          4005.65625,
          4485.4619140625,
          4973.8134765625,
          5405.056640625,
          5784.40869140625,
          6154.61474609375,
          6537.86474609375,
          6938.74462890625,
          7359.08203125,
          7796.16943359375,
          8252.2890625,
          8731.30078125,
          9231.0205078125,
          9744.234375,
          10264.69140625,
          10794.1298828125,
          11331.470703125,
          11869.55078125,
          12409.5380859375,
          12950.5986328125,
          13490.603515625,
          14028.1513671875,
          14565.7724609375,
          15104.44140625,
          15643.568359375,
          16179.041015625,
          16711.53125,
          17239.78515625,
          17760.28125,
          18271.625,
          18771.03515625,
          19258.353515625,
          19728.033203125,
          20187.87109375,
          20638.4765625,
          21083.4453125,
          21523.8828125,
          21962.259765625,
          22398.451171875,
          22831.7109375,
          23259.056640625,
          23682.447265625,
          24104.169921875,
          24521.8046875,
          24925.775390625,
          25309.697265625,
          25674.984375,
          26021.8046875,
          26346.634765625,
          26662.576171875,
          26973.28515625,
          27279.884765625,
          27585.81640625,
          27892.6171875,
          28200.404296875,
          28507.75390625,
          28813.51953125,
          29113.96875,
          29411.208984375,
          29701.494140625,
          29975.828125,
          30227.7265625,
          30461.44140625,
          30678.39453125,
          30885.49609375,
          31085.21875,
          31279.078125,
          31472.705078125,
          31665.755859375,
          31859.748046875,
          32055.751953125,
          32253.197265625,
          32453.3046875,
          32654.052734375,
          32853.84765625,
          33044.30859375,
          33225.9296875,
          33396.203125,
          33553.60546875,
          33703.3359375,
          33845.17578125,
          33987.38671875,
          34131.23046875,
          34275.07421875
         ],
         "yaxis": "y"
        }
       ],
       "layout": {
        "annotations": [
         {
          "font": {
           "size": 13
          },
          "showarrow": false,
          "text": "carat",
          "x": 0.5,
          "xanchor": "center",
          "xref": "paper",
          "y": 1,
          "yanchor": "bottom",
          "yref": "paper"
         },
         {
          "font": {
           "size": 13
          },
          "showarrow": false,
          "text": "prediction",
          "textangle": -90,
          "x": -0.07,
          "xref": "paper",
          "y": 0.5,
          "yref": "paper"
         }
        ],
        "font": {
         "color": "#371ea3"
        },
        "height": 489,
        "hovermode": "x unified",
        "legend": {
         "font": {
          "size": 11
         },
         "itemsizing": "constant",
         "orientation": "h",
         "title": {
          "font": {
           "size": 12
          },
          "text": "label"
         },
         "tracegroupgap": 0,
         "x": 1,
         "xanchor": "right",
         "y": 1.0613496932515338,
         "yanchor": "bottom"
        },
        "margin": {
         "b": 71,
         "r": 30,
         "t": 78
        },
        "template": {
         "data": {
          "scatter": [
           {
            "type": "scatter"
           }
          ]
         }
        },
        "title": {
         "font": {
          "size": 16
         },
         "text": "Aggregated Profiles",
         "x": 0.15
        },
        "xaxis": {
         "anchor": "y",
         "automargin": true,
         "domain": [
          0,
          1
         ],
         "fixedrange": true,
         "gridwidth": 2,
         "showticklabels": true,
         "tickcolor": "white",
         "ticklen": 3,
         "ticks": "outside",
         "title": {
          "text": ""
         },
         "type": "linear",
         "zeroline": false
        },
        "yaxis": {
         "anchor": "x",
         "automargin": true,
         "domain": [
          0,
          1
         ],
         "fixedrange": true,
         "gridwidth": 2,
         "range": [
          -3069.33564453125,
          37670.020703125
         ],
         "tickcolor": "white",
         "ticklen": 3,
         "ticks": "outside",
         "title": {
          "text": ""
         },
         "type": "linear",
         "zeroline": false
        }
       }
      }
     },
     "metadata": {},
     "output_type": "display_data"
    },
    {
     "name": "stderr",
     "output_type": "stream",
     "text": [
      "C:\\Users\\Michael\\anaconda3\\envs\\ml_lecture\\lib\\site-packages\\dalex\\predict_explanations\\_ceteris_paribus\\checks.py:16: UserWarning:\n",
      "\n",
      "Variables taken from variables_splits\n",
      "\n"
     ]
    },
    {
     "data": {
      "application/vnd.plotly.v1+json": {
       "config": {
        "displaylogo": false,
        "modeBarButtonsToRemove": [
         "sendDataToCloud",
         "lasso2d",
         "autoScale2d",
         "select2d",
         "zoom2d",
         "pan2d",
         "zoomIn2d",
         "zoomOut2d",
         "resetScale2d",
         "toggleSpikelines",
         "hoverCompareCartesian",
         "hoverClosestCartesian"
        ],
        "plotlyServerURL": "https://plot.ly",
        "staticPlot": false,
        "toImageButtonOptions": {
         "height": null,
         "width": null
        }
       },
       "data": [
        {
         "alignmentgroup": "True",
         "base": [
          4034.28173828125,
          4034.28173828125,
          4034.28173828125,
          4034.28173828125,
          4034.28173828125
         ],
         "customdata": [
          [
           3710.541259765625,
           "Partial depencence for ordinal variables",
           "cut"
          ],
          [
           3816.637939453125,
           "Partial depencence for ordinal variables",
           "cut"
          ],
          [
           3932.685546875,
           "Partial depencence for ordinal variables",
           "cut"
          ],
          [
           4057.87939453125,
           "Partial depencence for ordinal variables",
           "cut"
          ],
          [
           4191.21728515625,
           "Partial depencence for ordinal variables",
           "cut"
          ]
         ],
         "hovertemplate": "<b>%{hovertext}</b><br><br>mean_prediction=%{base:.3f}<br>prediction=%{customdata[0]:.3f}<extra></extra>",
         "hovertext": [
          "Partial depencence for ordinal variables",
          "Partial depencence for ordinal variables",
          "Partial depencence for ordinal variables",
          "Partial depencence for ordinal variables",
          "Partial depencence for ordinal variables"
         ],
         "legendgroup": "Partial depencence for ordinal variables",
         "marker": {
          "color": "#46bac2",
          "pattern": {
           "shape": ""
          }
         },
         "name": "Partial depencence for ordinal variables",
         "offsetgroup": "Partial depencence for ordinal variables",
         "orientation": "v",
         "showlegend": true,
         "textposition": "auto",
         "type": "bar",
         "x": [
          "Fair",
          "Good",
          "Very Good",
          "Premium",
          "Ideal"
         ],
         "xaxis": "x3",
         "y": [
          -323.740478515625,
          -217.643798828125,
          -101.59619140625,
          23.59765625,
          156.935546875
         ],
         "yaxis": "y3"
        },
        {
         "alignmentgroup": "True",
         "base": [
          4034.28173828125,
          4034.28173828125,
          4034.28173828125,
          4034.28173828125,
          4034.28173828125,
          4034.28173828125,
          4034.28173828125
         ],
         "customdata": [
          [
           4931.02685546875,
           "Partial depencence for ordinal variables",
           "color"
          ],
          [
           4708.03662109375,
           "Partial depencence for ordinal variables",
           "color"
          ],
          [
           4453.0771484375,
           "Partial depencence for ordinal variables",
           "color"
          ],
          [
           4135.3310546875,
           "Partial depencence for ordinal variables",
           "color"
          ],
          [
           3736.040771484375,
           "Partial depencence for ordinal variables",
           "color"
          ],
          [
           3354.697021484375,
           "Partial depencence for ordinal variables",
           "color"
          ],
          [
           2970.330322265625,
           "Partial depencence for ordinal variables",
           "color"
          ]
         ],
         "hovertemplate": "<b>%{hovertext}</b><br><br>mean_prediction=%{base:.3f}<br>prediction=%{customdata[0]:.3f}<extra></extra>",
         "hovertext": [
          "Partial depencence for ordinal variables",
          "Partial depencence for ordinal variables",
          "Partial depencence for ordinal variables",
          "Partial depencence for ordinal variables",
          "Partial depencence for ordinal variables",
          "Partial depencence for ordinal variables",
          "Partial depencence for ordinal variables"
         ],
         "legendgroup": "Partial depencence for ordinal variables",
         "marker": {
          "color": "#46bac2",
          "pattern": {
           "shape": ""
          }
         },
         "name": "Partial depencence for ordinal variables",
         "offsetgroup": "Partial depencence for ordinal variables",
         "orientation": "v",
         "showlegend": false,
         "textposition": "auto",
         "type": "bar",
         "x": [
          "D",
          "E",
          "F",
          "G",
          "H",
          "I",
          "J"
         ],
         "xaxis": "x4",
         "y": [
          896.7451171875,
          673.7548828125,
          418.79541015625,
          101.04931640625,
          -298.240966796875,
          -679.584716796875,
          -1063.951416015625
         ],
         "yaxis": "y4"
        },
        {
         "alignmentgroup": "True",
         "base": [
          4034.28173828125,
          4034.28173828125,
          4034.28173828125,
          4034.28173828125,
          4034.28173828125,
          4034.28173828125,
          4034.28173828125,
          4034.28173828125
         ],
         "customdata": [
          [
           2265.726318359375,
           "Partial depencence for ordinal variables",
           "clarity"
          ],
          [
           3207.863037109375,
           "Partial depencence for ordinal variables",
           "clarity"
          ],
          [
           3868.698486328125,
           "Partial depencence for ordinal variables",
           "clarity"
          ],
          [
           4453.67431640625,
           "Partial depencence for ordinal variables",
           "clarity"
          ],
          [
           4960.408203125,
           "Partial depencence for ordinal variables",
           "clarity"
          ],
          [
           5446.11279296875,
           "Partial depencence for ordinal variables",
           "clarity"
          ],
          [
           5887.3212890625,
           "Partial depencence for ordinal variables",
           "clarity"
          ],
          [
           6355.3046875,
           "Partial depencence for ordinal variables",
           "clarity"
          ]
         ],
         "hovertemplate": "<b>%{hovertext}</b><br><br>mean_prediction=%{base:.3f}<br>prediction=%{customdata[0]:.3f}<extra></extra>",
         "hovertext": [
          "Partial depencence for ordinal variables",
          "Partial depencence for ordinal variables",
          "Partial depencence for ordinal variables",
          "Partial depencence for ordinal variables",
          "Partial depencence for ordinal variables",
          "Partial depencence for ordinal variables",
          "Partial depencence for ordinal variables",
          "Partial depencence for ordinal variables"
         ],
         "legendgroup": "Partial depencence for ordinal variables",
         "marker": {
          "color": "#46bac2",
          "pattern": {
           "shape": ""
          }
         },
         "name": "Partial depencence for ordinal variables",
         "offsetgroup": "Partial depencence for ordinal variables",
         "orientation": "v",
         "showlegend": false,
         "textposition": "auto",
         "type": "bar",
         "x": [
          "I1",
          "SI2",
          "SI1",
          "VS2",
          "VS1",
          "VVS2",
          "VVS1",
          "IF"
         ],
         "xaxis": "x",
         "y": [
          -1768.555419921875,
          -826.418701171875,
          -165.583251953125,
          419.392578125,
          926.12646484375,
          1411.8310546875,
          1853.03955078125,
          2321.02294921875
         ],
         "yaxis": "y"
        }
       ],
       "layout": {
        "annotations": [
         {
          "font": {
           "size": 13
          },
          "showarrow": false,
          "text": "clarity",
          "x": 0.2375,
          "xanchor": "center",
          "xref": "paper",
          "y": 0.425,
          "yanchor": "bottom",
          "yref": "paper"
         },
         {
          "font": {
           "size": 13
          },
          "showarrow": false,
          "text": "cut",
          "x": 0.2375,
          "xanchor": "center",
          "xref": "paper",
          "y": 1,
          "yanchor": "bottom",
          "yref": "paper"
         },
         {
          "font": {
           "size": 13
          },
          "showarrow": false,
          "text": "color",
          "x": 0.7625,
          "xanchor": "center",
          "xref": "paper",
          "y": 1,
          "yanchor": "bottom",
          "yref": "paper"
         },
         {
          "font": {
           "size": 13
          },
          "showarrow": false,
          "text": "prediction",
          "textangle": -90,
          "x": -0.07,
          "xref": "paper",
          "y": 0.5,
          "yref": "paper"
         }
        ],
        "barmode": "group",
        "font": {
         "color": "#371ea3"
        },
        "height": 829,
        "hovermode": "x unified",
        "legend": {
         "font": {
          "size": 11
         },
         "itemsizing": "constant",
         "orientation": "h",
         "title": {
          "font": {
           "size": 12
          },
          "text": "label"
         },
         "tracegroupgap": 0,
         "x": 1,
         "xanchor": "right",
         "y": 1.0361881785283473,
         "yanchor": "bottom"
        },
        "margin": {
         "b": 71,
         "r": 30,
         "t": 78
        },
        "shapes": [
         {
          "layer": "below",
          "line": {
           "color": "#371ea3",
           "dash": "dot",
           "width": 1.5
          },
          "type": "line",
          "x0": 0,
          "x1": 1,
          "xref": "x domain",
          "y0": 4034.28173828125,
          "y1": 4034.28173828125,
          "yref": "y"
         },
         {
          "layer": "below",
          "line": {
           "color": "#371ea3",
           "dash": "dot",
           "width": 1.5
          },
          "type": "line",
          "x0": 0,
          "x1": 1,
          "xref": "x3 domain",
          "y0": 4034.28173828125,
          "y1": 4034.28173828125,
          "yref": "y3"
         },
         {
          "layer": "below",
          "line": {
           "color": "#371ea3",
           "dash": "dot",
           "width": 1.5
          },
          "type": "line",
          "x0": 0,
          "x1": 1,
          "xref": "x4 domain",
          "y0": 4034.28173828125,
          "y1": 4034.28173828125,
          "yref": "y4"
         },
         {
          "layer": "below",
          "line": {
           "color": "#371ea3",
           "dash": "dot",
           "width": 1.5
          },
          "type": "line",
          "x0": 0,
          "x1": 1,
          "xref": "x domain",
          "y0": 4034.28173828125,
          "y1": 4034.28173828125,
          "yref": "y"
         },
         {
          "layer": "below",
          "line": {
           "color": "#371ea3",
           "dash": "dot",
           "width": 1.5
          },
          "type": "line",
          "x0": 0,
          "x1": 1,
          "xref": "x3 domain",
          "y0": 4034.28173828125,
          "y1": 4034.28173828125,
          "yref": "y3"
         },
         {
          "layer": "below",
          "line": {
           "color": "#371ea3",
           "dash": "dot",
           "width": 1.5
          },
          "type": "line",
          "x0": 0,
          "x1": 1,
          "xref": "x4 domain",
          "y0": 4034.28173828125,
          "y1": 4034.28173828125,
          "yref": "y4"
         },
         {
          "layer": "below",
          "line": {
           "color": "#371ea3",
           "dash": "dot",
           "width": 1.5
          },
          "type": "line",
          "x0": 0,
          "x1": 1,
          "xref": "x domain",
          "y0": 4034.28173828125,
          "y1": 4034.28173828125,
          "yref": "y"
         },
         {
          "layer": "below",
          "line": {
           "color": "#371ea3",
           "dash": "dot",
           "width": 1.5
          },
          "type": "line",
          "x0": 0,
          "x1": 1,
          "xref": "x3 domain",
          "y0": 4034.28173828125,
          "y1": 4034.28173828125,
          "yref": "y3"
         },
         {
          "layer": "below",
          "line": {
           "color": "#371ea3",
           "dash": "dot",
           "width": 1.5
          },
          "type": "line",
          "x0": 0,
          "x1": 1,
          "xref": "x4 domain",
          "y0": 4034.28173828125,
          "y1": 4034.28173828125,
          "yref": "y4"
         }
        ],
        "template": {
         "data": {
          "scatter": [
           {
            "type": "scatter"
           }
          ]
         }
        },
        "title": {
         "font": {
          "size": 16
         },
         "text": "Aggregated Profiles",
         "x": 0.15
        },
        "xaxis": {
         "anchor": "y",
         "automargin": true,
         "domain": [
          0,
          0.475
         ],
         "fixedrange": true,
         "gridwidth": 2,
         "showticklabels": true,
         "tickcolor": "white",
         "ticklen": 10,
         "ticks": "outside",
         "title": {
          "text": ""
         },
         "type": "category"
        },
        "xaxis2": {
         "anchor": "y2",
         "automargin": true,
         "domain": [
          0.525,
          1
         ],
         "fixedrange": true,
         "gridwidth": 2,
         "showticklabels": true,
         "tickcolor": "white",
         "ticklen": 10,
         "ticks": "outside",
         "title": {
          "text": ""
         },
         "type": "category"
        },
        "xaxis3": {
         "anchor": "y3",
         "automargin": true,
         "domain": [
          0,
          0.475
         ],
         "fixedrange": true,
         "gridwidth": 2,
         "showticklabels": true,
         "tickcolor": "white",
         "ticklen": 10,
         "ticks": "outside",
         "title": {
          "text": ""
         },
         "type": "category"
        },
        "xaxis4": {
         "anchor": "y4",
         "automargin": true,
         "domain": [
          0.525,
          1
         ],
         "fixedrange": true,
         "gridwidth": 2,
         "showticklabels": true,
         "tickcolor": "white",
         "ticklen": 10,
         "ticks": "outside",
         "title": {
          "text": ""
         },
         "type": "category"
        },
        "yaxis": {
         "anchor": "x",
         "automargin": true,
         "domain": [
          0,
          0.425
         ],
         "fixedrange": true,
         "gridwidth": 2,
         "range": [
          1856.7684814453125,
          6764.262524414063
         ],
         "tickcolor": "white",
         "ticklen": 3,
         "ticks": "outside",
         "title": {
          "text": ""
         },
         "type": "linear",
         "zeroline": false
        },
        "yaxis2": {
         "anchor": "x2",
         "automargin": true,
         "domain": [
          0,
          0.425
         ],
         "fixedrange": true,
         "gridwidth": 2,
         "matches": "y",
         "range": [
          1856.7684814453125,
          6764.262524414063
         ],
         "showticklabels": false,
         "tickcolor": "white",
         "ticklen": 3,
         "ticks": "outside",
         "title": {
          "text": ""
         },
         "type": "linear",
         "zeroline": false
        },
        "yaxis3": {
         "anchor": "x3",
         "automargin": true,
         "domain": [
          0.575,
          1
         ],
         "fixedrange": true,
         "gridwidth": 2,
         "matches": "y",
         "range": [
          1856.7684814453125,
          6764.262524414063
         ],
         "tickcolor": "white",
         "ticklen": 3,
         "ticks": "outside",
         "title": {
          "text": ""
         },
         "type": "linear",
         "zeroline": false
        },
        "yaxis4": {
         "anchor": "x4",
         "automargin": true,
         "domain": [
          0.575,
          1
         ],
         "fixedrange": true,
         "gridwidth": 2,
         "matches": "y",
         "range": [
          1856.7684814453125,
          6764.262524414063
         ],
         "showticklabels": false,
         "tickcolor": "white",
         "ticklen": 3,
         "ticks": "outside",
         "title": {
          "text": ""
         },
         "type": "linear",
         "zeroline": false
        }
       }
      }
     },
     "metadata": {},
     "output_type": "display_data"
    }
   ],
   "source": [
    "# Interpretation\n",
    "import dalex as dx\n",
    "\n",
    "# Set up explainer\n",
    "def pred_fun(m, X):\n",
    "    return m.predict(preprocessor.transform(X), batch_size=1000).flatten()\n",
    "\n",
    "exp = dx.Explainer(\n",
    "    model, \n",
    "    data=df_valid[ord_features + [\"carat\"]], \n",
    "    y=y_valid, \n",
    "    predict_function=pred_fun, \n",
    "    verbose=False\n",
    ")\n",
    "\n",
    "# Performance\n",
    "mp = exp.model_performance(model_type=\"regression\")\n",
    "print(\"Performance\\n\", mp.result)\n",
    "\n",
    "# Permutation importance\n",
    "vi = exp.model_parts()\n",
    "vi.plot()\n",
    "\n",
    "# Partial dependence\n",
    "pdp_num = exp.model_profile(\n",
    "    type=\"partial\",\n",
    "    label=\"Partial depencence for numeric variables\",\n",
    "    variables=[\"carat\"],\n",
    "    verbose=False\n",
    ")\n",
    "pdp_num.plot()\n",
    "\n",
    "pdp_ord = exp.model_profile(\n",
    "    type=\"partial\",\n",
    "    label=\"Partial depencence for ordinal variables\",\n",
    "    variables=ord_features,\n",
    "    variable_type=\"categorical\",\n",
    "    variable_splits=dict(zip(ord_features, ord_levels)),\n",
    "    verbose=False\n",
    ")\n",
    "pdp_ord.plot()"
   ]
  },
  {
   "cell_type": "markdown",
   "metadata": {},
   "source": [
    "**Comments** \n",
    "\n",
    "- The model performance seems comparable to the tree-based models from the last chapter. The specific performance might change from run to run due to randomness in the algorithm.\n",
    "- The effect of `carat` looks smoother as with random forests or boosted trees.\n",
    "\n",
    "# Example: Embeddings (optional)\n",
    "\n",
    "Representing categorical input variables through embedding layers is extremely useful in practice. We will end this chapter with an example on how to do it with the claims data. This example also shows how flexible neural network structures are."
   ]
  },
  {
   "cell_type": "code",
   "execution_count": 1,
   "metadata": {},
   "outputs": [
    {
     "data": {
      "text/html": [
       "<div>\n",
       "<style scoped>\n",
       "    .dataframe tbody tr th:only-of-type {\n",
       "        vertical-align: middle;\n",
       "    }\n",
       "\n",
       "    .dataframe tbody tr th {\n",
       "        vertical-align: top;\n",
       "    }\n",
       "\n",
       "    .dataframe thead th {\n",
       "        text-align: right;\n",
       "    }\n",
       "</style>\n",
       "<table border=\"1\" class=\"dataframe\">\n",
       "  <thead>\n",
       "    <tr style=\"text-align: right;\">\n",
       "      <th></th>\n",
       "      <th>veh_value</th>\n",
       "      <th>exposure</th>\n",
       "      <th>clm</th>\n",
       "      <th>numclaims</th>\n",
       "      <th>claimcst0</th>\n",
       "      <th>veh_body</th>\n",
       "      <th>veh_age</th>\n",
       "      <th>gender</th>\n",
       "      <th>area</th>\n",
       "      <th>agecat</th>\n",
       "      <th>_OBSTAT_</th>\n",
       "    </tr>\n",
       "  </thead>\n",
       "  <tbody>\n",
       "    <tr>\n",
       "      <th>0</th>\n",
       "      <td>1.06</td>\n",
       "      <td>0.303901</td>\n",
       "      <td>0</td>\n",
       "      <td>0</td>\n",
       "      <td>0.0</td>\n",
       "      <td>HBACK</td>\n",
       "      <td>3</td>\n",
       "      <td>F</td>\n",
       "      <td>C</td>\n",
       "      <td>2</td>\n",
       "      <td>01101    0    0    0</td>\n",
       "    </tr>\n",
       "    <tr>\n",
       "      <th>1</th>\n",
       "      <td>1.03</td>\n",
       "      <td>0.648871</td>\n",
       "      <td>0</td>\n",
       "      <td>0</td>\n",
       "      <td>0.0</td>\n",
       "      <td>HBACK</td>\n",
       "      <td>2</td>\n",
       "      <td>F</td>\n",
       "      <td>A</td>\n",
       "      <td>4</td>\n",
       "      <td>01101    0    0    0</td>\n",
       "    </tr>\n",
       "    <tr>\n",
       "      <th>2</th>\n",
       "      <td>3.26</td>\n",
       "      <td>0.569473</td>\n",
       "      <td>0</td>\n",
       "      <td>0</td>\n",
       "      <td>0.0</td>\n",
       "      <td>UTE</td>\n",
       "      <td>2</td>\n",
       "      <td>F</td>\n",
       "      <td>E</td>\n",
       "      <td>2</td>\n",
       "      <td>01101    0    0    0</td>\n",
       "    </tr>\n",
       "    <tr>\n",
       "      <th>3</th>\n",
       "      <td>4.14</td>\n",
       "      <td>0.317591</td>\n",
       "      <td>0</td>\n",
       "      <td>0</td>\n",
       "      <td>0.0</td>\n",
       "      <td>STNWG</td>\n",
       "      <td>2</td>\n",
       "      <td>F</td>\n",
       "      <td>D</td>\n",
       "      <td>2</td>\n",
       "      <td>01101    0    0    0</td>\n",
       "    </tr>\n",
       "    <tr>\n",
       "      <th>4</th>\n",
       "      <td>0.72</td>\n",
       "      <td>0.648871</td>\n",
       "      <td>0</td>\n",
       "      <td>0</td>\n",
       "      <td>0.0</td>\n",
       "      <td>HBACK</td>\n",
       "      <td>4</td>\n",
       "      <td>F</td>\n",
       "      <td>C</td>\n",
       "      <td>2</td>\n",
       "      <td>01101    0    0    0</td>\n",
       "    </tr>\n",
       "  </tbody>\n",
       "</table>\n",
       "</div>"
      ],
      "text/plain": [
       "   veh_value  exposure  clm  numclaims  claimcst0 veh_body  veh_age gender  \\\n",
       "0       1.06  0.303901    0          0        0.0    HBACK        3      F   \n",
       "1       1.03  0.648871    0          0        0.0    HBACK        2      F   \n",
       "2       3.26  0.569473    0          0        0.0      UTE        2      F   \n",
       "3       4.14  0.317591    0          0        0.0    STNWG        2      F   \n",
       "4       0.72  0.648871    0          0        0.0    HBACK        4      F   \n",
       "\n",
       "  area  agecat              _OBSTAT_  \n",
       "0    C       2  01101    0    0    0  \n",
       "1    A       4  01101    0    0    0  \n",
       "2    E       2  01101    0    0    0  \n",
       "3    D       2  01101    0    0    0  \n",
       "4    C       2  01101    0    0    0  "
      ]
     },
     "execution_count": 1,
     "metadata": {},
     "output_type": "execute_result"
    }
   ],
   "source": [
    "# Load and inspect data\n",
    "import pandas as pd\n",
    "\n",
    "car = pd.read_csv(\"car.csv\")  # see readme how to get the data\n",
    "car.head()"
   ]
  },
  {
   "cell_type": "code",
   "execution_count": 2,
   "metadata": {},
   "outputs": [
    {
     "data": {
      "text/plain": [
       "{'dense1': array([[ 1.14978787, -1.23978753, -0.54677517,  1.2453385 ,  1.06238257],\n",
       "        [-0.86972565,  0.85626104, -0.40579865,  0.30841342, -1.74556725],\n",
       "        [-0.86972565, -1.23978753, -0.30628581, -0.62851166,  1.76437003],\n",
       "        [-0.86972565,  0.15757819, -0.09067466, -1.56543674, -1.0435798 ],\n",
       "        [ 1.14978787,  0.85626104,  1.65079999, -1.56543674,  1.76437003]]),\n",
       " 'veh_body': array([[10.],\n",
       "        [ 9.],\n",
       "        [ 3.],\n",
       "        [ 3.],\n",
       "        [12.]])}"
      ]
     },
     "execution_count": 2,
     "metadata": {},
     "output_type": "execute_result"
    }
   ],
   "source": [
    "# Preprocessing\n",
    "from sklearn.preprocessing import OrdinalEncoder, StandardScaler\n",
    "from sklearn.compose import ColumnTransformer\n",
    "from sklearn.pipeline import make_pipeline\n",
    "from sklearn.model_selection import train_test_split\n",
    "\n",
    "ord_features = [\"gender\", \"area\"]\n",
    "num_features = [\"veh_value\", \"veh_age\", \"agecat\"]\n",
    "dense_features = ord_features + num_features\n",
    "\n",
    "# Preprocess dense features, i.e., everything except \"veh_body\"\n",
    "prepare_dense = make_pipeline(\n",
    "    ColumnTransformer(\n",
    "        transformers=[\n",
    "            (\"ordinal\", OrdinalEncoder(), ord_features),\n",
    "            (\"numeric\", \"passthrough\", num_features)\n",
    "        ]\n",
    "    ),\n",
    "    StandardScaler()\n",
    ")\n",
    "\n",
    "# Preprocess \"veh_body\"\n",
    "prepare_embedding = ColumnTransformer(\n",
    "    transformers=[\n",
    "        (\"embedding\", OrdinalEncoder(), [\"veh_body\"])\n",
    "    ]\n",
    ")\n",
    "\n",
    "# Train/valid split\n",
    "df_train, df_valid, y_train, y_valid = train_test_split(\n",
    "    car, car[\"clm\"], test_size=0.2, \n",
    "    stratify=car[\"clm\"], random_state=3341\n",
    ")\n",
    "\n",
    "prepare_dense.fit(df_train)\n",
    "prepare_embedding.fit(df_train)\n",
    "\n",
    "# Function that turns a DataFrame into a dict of input components for the net\n",
    "def dict_provider(df):\n",
    "    return {\n",
    "        \"dense1\": prepare_dense.transform(df), \n",
    "        \"veh_body\": prepare_embedding.transform(df)\n",
    "    }\n",
    "dict_provider(df_valid.head())  # Test"
   ]
  },
  {
   "cell_type": "code",
   "execution_count": 3,
   "metadata": {},
   "outputs": [],
   "source": [
    "# Modeling\n",
    "import tensorflow as tf\n",
    "from tensorflow import keras\n",
    "from tensorflow.keras import layers\n",
    "\n",
    "# Inputs\n",
    "input_dense = keras.Input(shape=len(dense_features), name=\"dense1\")\n",
    "input_veh_body = keras.Input(shape=1, name=\"veh_body\")\n",
    "\n",
    "# Embedding of veh_body\n",
    "emb = layers.Embedding(\n",
    "    input_dim=df_train[\"veh_body\"].nunique(), \n",
    "    output_dim=1\n",
    ")(input_veh_body)\n",
    "emb = layers.Flatten()(emb)\n",
    "\n",
    "# Combine dense input and embedding and connect to output\n",
    "x = layers.Concatenate()([input_dense, emb]) \n",
    "x = layers.Dense(30, activation=\"tanh\")(x)\n",
    "outputs = layers.Dense(1, activation=\"sigmoid\")(x)\n",
    "\n",
    "# Input\n",
    "inputs = {\"dense1\": input_dense, \"veh_body\": input_veh_body}\n",
    "\n",
    "# Create model\n",
    "model = keras.Model(inputs=inputs, outputs=outputs)\n",
    "# model.summary()\n",
    "\n",
    "# Compile model\n",
    "model.compile(\n",
    "    loss=\"binary_crossentropy\",\n",
    "    optimizer=keras.optimizers.Adam(learning_rate=0.0001)\n",
    ")\n",
    "  \n",
    "# Callbacks\n",
    "cb = [\n",
    "    keras.callbacks.EarlyStopping(patience=20),\n",
    "    keras.callbacks.ReduceLROnPlateau(patience=5)\n",
    "]\n",
    "\n",
    "# Fit model\n",
    "tf.random.set_seed(3338)\n",
    "history = model.fit(\n",
    "    x=dict_provider(df_train),\n",
    "    y=y_train,\n",
    "    epochs=1000,\n",
    "    batch_size=400, \n",
    "    validation_data=(dict_provider(df_valid), y_valid),\n",
    "    callbacks=cb,\n",
    "    verbose=0\n",
    ")     "
   ]
  },
  {
   "cell_type": "code",
   "execution_count": 4,
   "metadata": {},
   "outputs": [
    {
     "data": {
      "image/png": "[encoded data removed]",
      "text/plain": [
       "<Figure size 432x288 with 1 Axes>"
      ]
     },
     "metadata": {
      "needs_background": "light"
     },
     "output_type": "display_data"
    }
   ],
   "source": [
    "# Training log-loss over epochs\n",
    "import matplotlib.pyplot as plt\n",
    "\n",
    "plt.plot(history.history[\"loss\"], label=\"Training\")\n",
    "plt.plot(history.history[\"val_loss\"], label=\"Validation\")\n",
    "plt.legend()\n",
    "plt.gca().set(\n",
    "    title=\"Training loss over epochs\",\n",
    "    xlabel=\"Epoch\",\n",
    "    ylabel=\"Loss\"\n",
    ")\n",
    "plt.grid();"
   ]
  },
  {
   "cell_type": "code",
   "execution_count": 5,
   "metadata": {},
   "outputs": [
    {
     "name": "stdout",
     "output_type": "stream",
     "text": [
      "Validation log-loss:               0.248\n",
      "Relative improvement in log-loss:  0.170%\n"
     ]
    },
    {
     "data": {
      "application/vnd.plotly.v1+json": {
       "config": {
        "displaylogo": false,
        "modeBarButtonsToRemove": [
         "sendDataToCloud",
         "lasso2d",
         "autoScale2d",
         "select2d",
         "zoom2d",
         "pan2d",
         "zoomIn2d",
         "zoomOut2d",
         "resetScale2d",
         "toggleSpikelines",
         "hoverCompareCartesian",
         "hoverClosestCartesian"
        ],
        "plotlyServerURL": "https://plot.ly",
        "staticPlot": false,
        "toImageButtonOptions": {
         "height": null,
         "width": null
        }
       },
       "data": [
        {
         "base": 0.25467959719975847,
         "hoverinfo": "text",
         "hoverlabel": {
          "bgcolor": "rgba(0,0,0,0.8)"
         },
         "hovertext": [
          "Model: Functional loss after<br>variable: veh_value is permuted: 0.255<br>Drop-out loss change: +0.0",
          "Model: Functional loss after<br>variable: agecat is permuted: 0.255<br>Drop-out loss change: +0.0",
          "Model: Functional loss after<br>variable: veh_body is permuted: 0.255<br>Drop-out loss change: +0.0",
          "Model: Functional loss after<br>variable: veh_age is permuted: 0.255<br>Drop-out loss change: +0.0",
          "Model: Functional loss after<br>variable: area is permuted: 0.255<br>Drop-out loss change: +0.0",
          "Model: Functional loss after<br>variable: gender is permuted: 0.255<br>Drop-out loss change: -0.0"
         ],
         "marker": {
          "color": "#46bac2"
         },
         "orientation": "h",
         "showlegend": false,
         "text": [
          "+0.0",
          "+0.0",
          "+0.0",
          "+0.0",
          "+0.0",
          "0.0"
         ],
         "textposition": "outside",
         "type": "bar",
         "x": [
          0.00023488000948695964,
          0.00019489058068622445,
          0.00017173383425056477,
          0.00016236765998572933,
          0.00006354855756890432,
          -0.000011089521416984827
         ],
         "xaxis": "x",
         "y": [
          "veh_value",
          "agecat",
          "veh_body",
          "veh_age",
          "area",
          "gender"
         ],
         "yaxis": "y"
        }
       ],
       "layout": {
        "annotations": [
         {
          "font": {
           "size": 16
          },
          "showarrow": false,
          "text": "Functional",
          "x": 0.5,
          "xanchor": "center",
          "xref": "paper",
          "y": 1,
          "yanchor": "bottom",
          "yref": "paper"
         },
         {
          "font": {
           "size": 16
          },
          "showarrow": false,
          "text": "drop-out loss",
          "x": 0.5,
          "xanchor": "center",
          "xref": "paper",
          "y": 0,
          "yanchor": "top",
          "yref": "paper",
          "yshift": -30
         }
        ],
        "font": {
         "color": "#371ea3"
        },
        "height": 303,
        "margin": {
         "b": 71,
         "r": 30,
         "t": 78
        },
        "shapes": [
         {
          "line": {
           "color": "#371ea3",
           "dash": "dot",
           "width": 1.5
          },
          "type": "line",
          "x0": 0.25467959719975847,
          "x1": 0.25467959719975847,
          "xref": "x",
          "y0": -1,
          "y1": 6,
          "yref": "y"
         }
        ],
        "template": {
         "data": {
          "scatter": [
           {
            "type": "scatter"
           }
          ]
         }
        },
        "title": {
         "text": "Variable Importance",
         "x": 0.15
        },
        "xaxis": {
         "anchor": "y",
         "automargin": true,
         "domain": [
          0,
          1
         ],
         "fixedrange": true,
         "gridwidth": 2,
         "range": [
          0.2546316122487059,
          0.254951372638881
         ],
         "tickcolor": "white",
         "ticklen": 3,
         "ticks": "outside",
         "type": "linear",
         "zeroline": false
        },
        "yaxis": {
         "anchor": "x",
         "automargin": true,
         "autorange": "reversed",
         "domain": [
          0,
          1
         ],
         "fixedrange": true,
         "gridwidth": 2,
         "tickcolor": "white",
         "ticklen": 10,
         "ticks": "outside",
         "type": "category"
        }
       }
      }
     },
     "metadata": {},
     "output_type": "display_data"
    },
    {
     "data": {
      "application/vnd.plotly.v1+json": {
       "config": {
        "displaylogo": false,
        "modeBarButtonsToRemove": [
         "sendDataToCloud",
         "lasso2d",
         "autoScale2d",
         "select2d",
         "zoom2d",
         "pan2d",
         "zoomIn2d",
         "zoomOut2d",
         "resetScale2d",
         "toggleSpikelines",
         "hoverCompareCartesian",
         "hoverClosestCartesian"
        ],
        "plotlyServerURL": "https://plot.ly",
        "staticPlot": false,
        "toImageButtonOptions": {
         "height": null,
         "width": null
        }
       },
       "data": [
        {
         "customdata": [
          [
           0.06980190426111221,
           "Partial depencence for numeric variables",
           "veh_value"
          ],
          [
           0.06980190426111221,
           "Partial depencence for numeric variables",
           "veh_value"
          ],
          [
           0.06980190426111221,
           "Partial depencence for numeric variables",
           "veh_value"
          ],
          [
           0.06980190426111221,
           "Partial depencence for numeric variables",
           "veh_value"
          ],
          [
           0.06980190426111221,
           "Partial depencence for numeric variables",
           "veh_value"
          ],
          [
           0.06980190426111221,
           "Partial depencence for numeric variables",
           "veh_value"
          ],
          [
           0.06980190426111221,
           "Partial depencence for numeric variables",
           "veh_value"
          ],
          [
           0.06980190426111221,
           "Partial depencence for numeric variables",
           "veh_value"
          ],
          [
           0.06980190426111221,
           "Partial depencence for numeric variables",
           "veh_value"
          ],
          [
           0.06980190426111221,
           "Partial depencence for numeric variables",
           "veh_value"
          ],
          [
           0.06980190426111221,
           "Partial depencence for numeric variables",
           "veh_value"
          ],
          [
           0.06980190426111221,
           "Partial depencence for numeric variables",
           "veh_value"
          ],
          [
           0.06980190426111221,
           "Partial depencence for numeric variables",
           "veh_value"
          ],
          [
           0.06980190426111221,
           "Partial depencence for numeric variables",
           "veh_value"
          ],
          [
           0.06980190426111221,
           "Partial depencence for numeric variables",
           "veh_value"
          ],
          [
           0.06980190426111221,
           "Partial depencence for numeric variables",
           "veh_value"
          ],
          [
           0.06980190426111221,
           "Partial depencence for numeric variables",
           "veh_value"
          ],
          [
           0.06980190426111221,
           "Partial depencence for numeric variables",
           "veh_value"
          ],
          [
           0.06980190426111221,
           "Partial depencence for numeric variables",
           "veh_value"
          ],
          [
           0.06980190426111221,
           "Partial depencence for numeric variables",
           "veh_value"
          ],
          [
           0.06980190426111221,
           "Partial depencence for numeric variables",
           "veh_value"
          ],
          [
           0.06980190426111221,
           "Partial depencence for numeric variables",
           "veh_value"
          ],
          [
           0.06980190426111221,
           "Partial depencence for numeric variables",
           "veh_value"
          ],
          [
           0.06980190426111221,
           "Partial depencence for numeric variables",
           "veh_value"
          ],
          [
           0.06980190426111221,
           "Partial depencence for numeric variables",
           "veh_value"
          ],
          [
           0.06980190426111221,
           "Partial depencence for numeric variables",
           "veh_value"
          ],
          [
           0.06980190426111221,
           "Partial depencence for numeric variables",
           "veh_value"
          ],
          [
           0.06980190426111221,
           "Partial depencence for numeric variables",
           "veh_value"
          ],
          [
           0.06980190426111221,
           "Partial depencence for numeric variables",
           "veh_value"
          ],
          [
           0.06980190426111221,
           "Partial depencence for numeric variables",
           "veh_value"
          ],
          [
           0.06980190426111221,
           "Partial depencence for numeric variables",
           "veh_value"
          ],
          [
           0.06980190426111221,
           "Partial depencence for numeric variables",
           "veh_value"
          ],
          [
           0.06980190426111221,
           "Partial depencence for numeric variables",
           "veh_value"
          ],
          [
           0.06980190426111221,
           "Partial depencence for numeric variables",
           "veh_value"
          ],
          [
           0.06980190426111221,
           "Partial depencence for numeric variables",
           "veh_value"
          ],
          [
           0.06980190426111221,
           "Partial depencence for numeric variables",
           "veh_value"
          ],
          [
           0.06980190426111221,
           "Partial depencence for numeric variables",
           "veh_value"
          ],
          [
           0.06980190426111221,
           "Partial depencence for numeric variables",
           "veh_value"
          ],
          [
           0.06980190426111221,
           "Partial depencence for numeric variables",
           "veh_value"
          ],
          [
           0.06980190426111221,
           "Partial depencence for numeric variables",
           "veh_value"
          ],
          [
           0.06980190426111221,
           "Partial depencence for numeric variables",
           "veh_value"
          ],
          [
           0.06980190426111221,
           "Partial depencence for numeric variables",
           "veh_value"
          ],
          [
           0.06980190426111221,
           "Partial depencence for numeric variables",
           "veh_value"
          ],
          [
           0.06980190426111221,
           "Partial depencence for numeric variables",
           "veh_value"
          ],
          [
           0.06980190426111221,
           "Partial depencence for numeric variables",
           "veh_value"
          ],
          [
           0.06980190426111221,
           "Partial depencence for numeric variables",
           "veh_value"
          ],
          [
           0.06980190426111221,
           "Partial depencence for numeric variables",
           "veh_value"
          ],
          [
           0.06980190426111221,
           "Partial depencence for numeric variables",
           "veh_value"
          ],
          [
           0.06980190426111221,
           "Partial depencence for numeric variables",
           "veh_value"
          ],
          [
           0.06980190426111221,
           "Partial depencence for numeric variables",
           "veh_value"
          ],
          [
           0.06980190426111221,
           "Partial depencence for numeric variables",
           "veh_value"
          ],
          [
           0.06980190426111221,
           "Partial depencence for numeric variables",
           "veh_value"
          ],
          [
           0.06980190426111221,
           "Partial depencence for numeric variables",
           "veh_value"
          ],
          [
           0.06980190426111221,
           "Partial depencence for numeric variables",
           "veh_value"
          ],
          [
           0.06980190426111221,
           "Partial depencence for numeric variables",
           "veh_value"
          ],
          [
           0.06980190426111221,
           "Partial depencence for numeric variables",
           "veh_value"
          ],
          [
           0.06980190426111221,
           "Partial depencence for numeric variables",
           "veh_value"
          ],
          [
           0.06980190426111221,
           "Partial depencence for numeric variables",
           "veh_value"
          ],
          [
           0.06980190426111221,
           "Partial depencence for numeric variables",
           "veh_value"
          ],
          [
           0.06980190426111221,
           "Partial depencence for numeric variables",
           "veh_value"
          ],
          [
           0.06980190426111221,
           "Partial depencence for numeric variables",
           "veh_value"
          ],
          [
           0.06980190426111221,
           "Partial depencence for numeric variables",
           "veh_value"
          ],
          [
           0.06980190426111221,
           "Partial depencence for numeric variables",
           "veh_value"
          ],
          [
           0.06980190426111221,
           "Partial depencence for numeric variables",
           "veh_value"
          ],
          [
           0.06980190426111221,
           "Partial depencence for numeric variables",
           "veh_value"
          ],
          [
           0.06980190426111221,
           "Partial depencence for numeric variables",
           "veh_value"
          ],
          [
           0.06980190426111221,
           "Partial depencence for numeric variables",
           "veh_value"
          ],
          [
           0.06980190426111221,
           "Partial depencence for numeric variables",
           "veh_value"
          ],
          [
           0.06980190426111221,
           "Partial depencence for numeric variables",
           "veh_value"
          ],
          [
           0.06980190426111221,
           "Partial depencence for numeric variables",
           "veh_value"
          ],
          [
           0.06980190426111221,
           "Partial depencence for numeric variables",
           "veh_value"
          ],
          [
           0.06980190426111221,
           "Partial depencence for numeric variables",
           "veh_value"
          ],
          [
           0.06980190426111221,
           "Partial depencence for numeric variables",
           "veh_value"
          ],
          [
           0.06980190426111221,
           "Partial depencence for numeric variables",
           "veh_value"
          ],
          [
           0.06980190426111221,
           "Partial depencence for numeric variables",
           "veh_value"
          ],
          [
           0.06980190426111221,
           "Partial depencence for numeric variables",
           "veh_value"
          ],
          [
           0.06980190426111221,
           "Partial depencence for numeric variables",
           "veh_value"
          ],
          [
           0.06980190426111221,
           "Partial depencence for numeric variables",
           "veh_value"
          ],
          [
           0.06980190426111221,
           "Partial depencence for numeric variables",
           "veh_value"
          ],
          [
           0.06980190426111221,
           "Partial depencence for numeric variables",
           "veh_value"
          ],
          [
           0.06980190426111221,
           "Partial depencence for numeric variables",
           "veh_value"
          ],
          [
           0.06980190426111221,
           "Partial depencence for numeric variables",
           "veh_value"
          ],
          [
           0.06980190426111221,
           "Partial depencence for numeric variables",
           "veh_value"
          ],
          [
           0.06980190426111221,
           "Partial depencence for numeric variables",
           "veh_value"
          ],
          [
           0.06980190426111221,
           "Partial depencence for numeric variables",
           "veh_value"
          ],
          [
           0.06980190426111221,
           "Partial depencence for numeric variables",
           "veh_value"
          ],
          [
           0.06980190426111221,
           "Partial depencence for numeric variables",
           "veh_value"
          ],
          [
           0.06980190426111221,
           "Partial depencence for numeric variables",
           "veh_value"
          ],
          [
           0.06980190426111221,
           "Partial depencence for numeric variables",
           "veh_value"
          ],
          [
           0.06980190426111221,
           "Partial depencence for numeric variables",
           "veh_value"
          ],
          [
           0.06980190426111221,
           "Partial depencence for numeric variables",
           "veh_value"
          ],
          [
           0.06980190426111221,
           "Partial depencence for numeric variables",
           "veh_value"
          ],
          [
           0.06980190426111221,
           "Partial depencence for numeric variables",
           "veh_value"
          ],
          [
           0.06980190426111221,
           "Partial depencence for numeric variables",
           "veh_value"
          ],
          [
           0.06980190426111221,
           "Partial depencence for numeric variables",
           "veh_value"
          ],
          [
           0.06980190426111221,
           "Partial depencence for numeric variables",
           "veh_value"
          ],
          [
           0.06980190426111221,
           "Partial depencence for numeric variables",
           "veh_value"
          ],
          [
           0.06980190426111221,
           "Partial depencence for numeric variables",
           "veh_value"
          ],
          [
           0.06980190426111221,
           "Partial depencence for numeric variables",
           "veh_value"
          ],
          [
           0.06980190426111221,
           "Partial depencence for numeric variables",
           "veh_value"
          ],
          [
           0.06980190426111221,
           "Partial depencence for numeric variables",
           "veh_value"
          ]
         ],
         "hovertemplate": "<b>%{hovertext}</b><br><br>prediction=%{y:.3f}<br>mean_prediction=%{customdata[0]:.3f}<extra></extra>",
         "hovertext": [
          "Partial depencence for numeric variables",
          "Partial depencence for numeric variables",
          "Partial depencence for numeric variables",
          "Partial depencence for numeric variables",
          "Partial depencence for numeric variables",
          "Partial depencence for numeric variables",
          "Partial depencence for numeric variables",
          "Partial depencence for numeric variables",
          "Partial depencence for numeric variables",
          "Partial depencence for numeric variables",
          "Partial depencence for numeric variables",
          "Partial depencence for numeric variables",
          "Partial depencence for numeric variables",
          "Partial depencence for numeric variables",
          "Partial depencence for numeric variables",
          "Partial depencence for numeric variables",
          "Partial depencence for numeric variables",
          "Partial depencence for numeric variables",
          "Partial depencence for numeric variables",
          "Partial depencence for numeric variables",
          "Partial depencence for numeric variables",
          "Partial depencence for numeric variables",
          "Partial depencence for numeric variables",
          "Partial depencence for numeric variables",
          "Partial depencence for numeric variables",
          "Partial depencence for numeric variables",
          "Partial depencence for numeric variables",
          "Partial depencence for numeric variables",
          "Partial depencence for numeric variables",
          "Partial depencence for numeric variables",
          "Partial depencence for numeric variables",
          "Partial depencence for numeric variables",
          "Partial depencence for numeric variables",
          "Partial depencence for numeric variables",
          "Partial depencence for numeric variables",
          "Partial depencence for numeric variables",
          "Partial depencence for numeric variables",
          "Partial depencence for numeric variables",
          "Partial depencence for numeric variables",
          "Partial depencence for numeric variables",
          "Partial depencence for numeric variables",
          "Partial depencence for numeric variables",
          "Partial depencence for numeric variables",
          "Partial depencence for numeric variables",
          "Partial depencence for numeric variables",
          "Partial depencence for numeric variables",
          "Partial depencence for numeric variables",
          "Partial depencence for numeric variables",
          "Partial depencence for numeric variables",
          "Partial depencence for numeric variables",
          "Partial depencence for numeric variables",
          "Partial depencence for numeric variables",
          "Partial depencence for numeric variables",
          "Partial depencence for numeric variables",
          "Partial depencence for numeric variables",
          "Partial depencence for numeric variables",
          "Partial depencence for numeric variables",
          "Partial depencence for numeric variables",
          "Partial depencence for numeric variables",
          "Partial depencence for numeric variables",
          "Partial depencence for numeric variables",
          "Partial depencence for numeric variables",
          "Partial depencence for numeric variables",
          "Partial depencence for numeric variables",
          "Partial depencence for numeric variables",
          "Partial depencence for numeric variables",
          "Partial depencence for numeric variables",
          "Partial depencence for numeric variables",
          "Partial depencence for numeric variables",
          "Partial depencence for numeric variables",
          "Partial depencence for numeric variables",
          "Partial depencence for numeric variables",
          "Partial depencence for numeric variables",
          "Partial depencence for numeric variables",
          "Partial depencence for numeric variables",
          "Partial depencence for numeric variables",
          "Partial depencence for numeric variables",
          "Partial depencence for numeric variables",
          "Partial depencence for numeric variables",
          "Partial depencence for numeric variables",
          "Partial depencence for numeric variables",
          "Partial depencence for numeric variables",
          "Partial depencence for numeric variables",
          "Partial depencence for numeric variables",
          "Partial depencence for numeric variables",
          "Partial depencence for numeric variables",
          "Partial depencence for numeric variables",
          "Partial depencence for numeric variables",
          "Partial depencence for numeric variables",
          "Partial depencence for numeric variables",
          "Partial depencence for numeric variables",
          "Partial depencence for numeric variables",
          "Partial depencence for numeric variables",
          "Partial depencence for numeric variables",
          "Partial depencence for numeric variables",
          "Partial depencence for numeric variables",
          "Partial depencence for numeric variables",
          "Partial depencence for numeric variables",
          "Partial depencence for numeric variables",
          "Partial depencence for numeric variables",
          "Partial depencence for numeric variables"
         ],
         "legendgroup": "Partial depencence for numeric variables",
         "line": {
          "color": "#46bac2",
          "dash": "solid",
          "width": 2
         },
         "marker": {
          "symbol": "circle"
         },
         "mode": "lines",
         "name": "Partial depencence for numeric variables",
         "opacity": 1,
         "orientation": "v",
         "showlegend": true,
         "type": "scatter",
         "x": [
          0,
          0.22690000000000002,
          0.45380000000000004,
          0.6807000000000001,
          0.9076000000000001,
          1.1345,
          1.3614000000000002,
          1.5883,
          1.8152000000000001,
          2.0421,
          2.269,
          2.4959000000000002,
          2.7228000000000003,
          2.9497000000000004,
          3.1766,
          3.4035,
          3.6304000000000003,
          3.8573000000000004,
          4.0842,
          4.311100000000001,
          4.538,
          4.764900000000001,
          4.9918000000000005,
          5.2187,
          5.445600000000001,
          5.6725,
          5.899400000000001,
          6.1263000000000005,
          6.3532,
          6.580100000000001,
          6.807,
          7.033900000000001,
          7.260800000000001,
          7.4877,
          7.714600000000001,
          7.9415000000000004,
          8.1684,
          8.3953,
          8.622200000000001,
          8.8491,
          9.076,
          9.302900000000001,
          9.529800000000002,
          9.7567,
          9.983600000000001,
          10.210500000000001,
          10.4374,
          10.6643,
          10.891200000000001,
          11.1181,
          11.345,
          11.571900000000001,
          11.798800000000002,
          12.0257,
          12.252600000000001,
          12.479500000000002,
          12.7064,
          12.933300000000001,
          13.160200000000001,
          13.3871,
          13.614,
          13.840900000000001,
          14.067800000000002,
          14.2947,
          14.521600000000001,
          14.748500000000002,
          14.9754,
          15.202300000000001,
          15.429200000000002,
          15.656100000000002,
          15.883000000000001,
          16.1099,
          16.3368,
          16.5637,
          16.7906,
          17.017500000000002,
          17.244400000000002,
          17.471300000000003,
          17.6982,
          17.9251,
          18.152,
          18.3789,
          18.605800000000002,
          18.832700000000003,
          19.059600000000003,
          19.2865,
          19.5134,
          19.7403,
          19.967200000000002,
          20.194100000000002,
          20.421000000000003,
          20.6479,
          20.8748,
          21.1017,
          21.3286,
          21.555500000000002,
          21.782400000000003,
          22.009300000000003,
          22.2362,
          22.4631,
          22.69
         ],
         "xaxis": "x3",
         "y": [
          0.06833089888095856,
          0.06684807687997818,
          0.06581859290599823,
          0.06522839516401291,
          0.06506390869617462,
          0.06531145423650742,
          0.06595651060342789,
          0.06698285788297653,
          0.06837154924869537,
          0.07009996473789215,
          0.0721409022808075,
          0.07446189969778061,
          0.07702481001615524,
          0.07978581637144089,
          0.08269593119621277,
          0.08570195734500885,
          0.08874793350696564,
          0.09177695214748383,
          0.09473317861557007,
          0.0975639820098877,
          0.10022187978029251,
          0.10266618430614471,
          0.10486418753862381,
          0.10679188370704651,
          0.1084340438246727,
          0.10978393256664276,
          0.1108425036072731,
          0.11161737889051437,
          0.11212161928415298,
          0.112372487783432,
          0.11239015311002731,
          0.11219664663076401,
          0.11181478202342987,
          0.11126744747161865,
          0.11057690531015396,
          0.10976435989141464,
          0.10884959250688553,
          0.1078508272767067,
          0.10678454488515854,
          0.10566553473472595,
          0.10450689494609833,
          0.10332011431455612,
          0.10211516916751862,
          0.10090064257383347,
          0.09968388825654984,
          0.09847109019756317,
          0.09726742655038834,
          0.09607720375061035,
          0.09490391612052917,
          0.09375040233135223,
          0.09261889010667801,
          0.09151111543178558,
          0.09042835235595703,
          0.08937152475118637,
          0.08834123611450195,
          0.08733782172203064,
          0.08636140823364258,
          0.0854119136929512,
          0.0844891369342804,
          0.0835927352309227,
          0.0827222689986229,
          0.0818772241473198,
          0.08105702698230743,
          0.08026105910539627,
          0.07948865741491318,
          0.07873916625976562,
          0.0780118852853775,
          0.07730612903833389,
          0.07662120461463928,
          0.07595642656087875,
          0.07531111687421799,
          0.07468461990356445,
          0.07407627254724503,
          0.07348546385765076,
          0.07291156053543091,
          0.07235399633646011,
          0.07181218266487122,
          0.07128558307886124,
          0.0707736536860466,
          0.07027588784694672,
          0.06979180872440338,
          0.0693209320306778,
          0.06886281818151474,
          0.06841704249382019,
          0.06798318028450012,
          0.06756085902452469,
          0.06714967638254166,
          0.06674927473068237,
          0.06635932624340057,
          0.0659794881939888,
          0.06560944020748138,
          0.06524889171123505,
          0.0648975521326065,
          0.06455513089895248,
          0.06422136723995209,
          0.06389599293470383,
          0.0635787844657898,
          0.06326949596405029,
          0.06296789646148682,
          0.06267376244068146,
          0.0623868927359581
         ],
         "yaxis": "y3"
        },
        {
         "customdata": [
          [
           0.06980190426111221,
           "Partial depencence for numeric variables",
           "veh_age"
          ],
          [
           0.06980190426111221,
           "Partial depencence for numeric variables",
           "veh_age"
          ],
          [
           0.06980190426111221,
           "Partial depencence for numeric variables",
           "veh_age"
          ],
          [
           0.06980190426111221,
           "Partial depencence for numeric variables",
           "veh_age"
          ],
          [
           0.06980190426111221,
           "Partial depencence for numeric variables",
           "veh_age"
          ],
          [
           0.06980190426111221,
           "Partial depencence for numeric variables",
           "veh_age"
          ],
          [
           0.06980190426111221,
           "Partial depencence for numeric variables",
           "veh_age"
          ],
          [
           0.06980190426111221,
           "Partial depencence for numeric variables",
           "veh_age"
          ],
          [
           0.06980190426111221,
           "Partial depencence for numeric variables",
           "veh_age"
          ],
          [
           0.06980190426111221,
           "Partial depencence for numeric variables",
           "veh_age"
          ],
          [
           0.06980190426111221,
           "Partial depencence for numeric variables",
           "veh_age"
          ],
          [
           0.06980190426111221,
           "Partial depencence for numeric variables",
           "veh_age"
          ],
          [
           0.06980190426111221,
           "Partial depencence for numeric variables",
           "veh_age"
          ],
          [
           0.06980190426111221,
           "Partial depencence for numeric variables",
           "veh_age"
          ],
          [
           0.06980190426111221,
           "Partial depencence for numeric variables",
           "veh_age"
          ],
          [
           0.06980190426111221,
           "Partial depencence for numeric variables",
           "veh_age"
          ],
          [
           0.06980190426111221,
           "Partial depencence for numeric variables",
           "veh_age"
          ],
          [
           0.06980190426111221,
           "Partial depencence for numeric variables",
           "veh_age"
          ],
          [
           0.06980190426111221,
           "Partial depencence for numeric variables",
           "veh_age"
          ],
          [
           0.06980190426111221,
           "Partial depencence for numeric variables",
           "veh_age"
          ],
          [
           0.06980190426111221,
           "Partial depencence for numeric variables",
           "veh_age"
          ],
          [
           0.06980190426111221,
           "Partial depencence for numeric variables",
           "veh_age"
          ],
          [
           0.06980190426111221,
           "Partial depencence for numeric variables",
           "veh_age"
          ],
          [
           0.06980190426111221,
           "Partial depencence for numeric variables",
           "veh_age"
          ],
          [
           0.06980190426111221,
           "Partial depencence for numeric variables",
           "veh_age"
          ],
          [
           0.06980190426111221,
           "Partial depencence for numeric variables",
           "veh_age"
          ],
          [
           0.06980190426111221,
           "Partial depencence for numeric variables",
           "veh_age"
          ],
          [
           0.06980190426111221,
           "Partial depencence for numeric variables",
           "veh_age"
          ],
          [
           0.06980190426111221,
           "Partial depencence for numeric variables",
           "veh_age"
          ],
          [
           0.06980190426111221,
           "Partial depencence for numeric variables",
           "veh_age"
          ],
          [
           0.06980190426111221,
           "Partial depencence for numeric variables",
           "veh_age"
          ],
          [
           0.06980190426111221,
           "Partial depencence for numeric variables",
           "veh_age"
          ],
          [
           0.06980190426111221,
           "Partial depencence for numeric variables",
           "veh_age"
          ],
          [
           0.06980190426111221,
           "Partial depencence for numeric variables",
           "veh_age"
          ],
          [
           0.06980190426111221,
           "Partial depencence for numeric variables",
           "veh_age"
          ],
          [
           0.06980190426111221,
           "Partial depencence for numeric variables",
           "veh_age"
          ],
          [
           0.06980190426111221,
           "Partial depencence for numeric variables",
           "veh_age"
          ],
          [
           0.06980190426111221,
           "Partial depencence for numeric variables",
           "veh_age"
          ],
          [
           0.06980190426111221,
           "Partial depencence for numeric variables",
           "veh_age"
          ],
          [
           0.06980190426111221,
           "Partial depencence for numeric variables",
           "veh_age"
          ],
          [
           0.06980190426111221,
           "Partial depencence for numeric variables",
           "veh_age"
          ],
          [
           0.06980190426111221,
           "Partial depencence for numeric variables",
           "veh_age"
          ],
          [
           0.06980190426111221,
           "Partial depencence for numeric variables",
           "veh_age"
          ],
          [
           0.06980190426111221,
           "Partial depencence for numeric variables",
           "veh_age"
          ],
          [
           0.06980190426111221,
           "Partial depencence for numeric variables",
           "veh_age"
          ],
          [
           0.06980190426111221,
           "Partial depencence for numeric variables",
           "veh_age"
          ],
          [
           0.06980190426111221,
           "Partial depencence for numeric variables",
           "veh_age"
          ],
          [
           0.06980190426111221,
           "Partial depencence for numeric variables",
           "veh_age"
          ],
          [
           0.06980190426111221,
           "Partial depencence for numeric variables",
           "veh_age"
          ],
          [
           0.06980190426111221,
           "Partial depencence for numeric variables",
           "veh_age"
          ],
          [
           0.06980190426111221,
           "Partial depencence for numeric variables",
           "veh_age"
          ],
          [
           0.06980190426111221,
           "Partial depencence for numeric variables",
           "veh_age"
          ],
          [
           0.06980190426111221,
           "Partial depencence for numeric variables",
           "veh_age"
          ],
          [
           0.06980190426111221,
           "Partial depencence for numeric variables",
           "veh_age"
          ],
          [
           0.06980190426111221,
           "Partial depencence for numeric variables",
           "veh_age"
          ],
          [
           0.06980190426111221,
           "Partial depencence for numeric variables",
           "veh_age"
          ],
          [
           0.06980190426111221,
           "Partial depencence for numeric variables",
           "veh_age"
          ],
          [
           0.06980190426111221,
           "Partial depencence for numeric variables",
           "veh_age"
          ],
          [
           0.06980190426111221,
           "Partial depencence for numeric variables",
           "veh_age"
          ],
          [
           0.06980190426111221,
           "Partial depencence for numeric variables",
           "veh_age"
          ],
          [
           0.06980190426111221,
           "Partial depencence for numeric variables",
           "veh_age"
          ],
          [
           0.06980190426111221,
           "Partial depencence for numeric variables",
           "veh_age"
          ],
          [
           0.06980190426111221,
           "Partial depencence for numeric variables",
           "veh_age"
          ],
          [
           0.06980190426111221,
           "Partial depencence for numeric variables",
           "veh_age"
          ],
          [
           0.06980190426111221,
           "Partial depencence for numeric variables",
           "veh_age"
          ],
          [
           0.06980190426111221,
           "Partial depencence for numeric variables",
           "veh_age"
          ],
          [
           0.06980190426111221,
           "Partial depencence for numeric variables",
           "veh_age"
          ],
          [
           0.06980190426111221,
           "Partial depencence for numeric variables",
           "veh_age"
          ],
          [
           0.06980190426111221,
           "Partial depencence for numeric variables",
           "veh_age"
          ],
          [
           0.06980190426111221,
           "Partial depencence for numeric variables",
           "veh_age"
          ],
          [
           0.06980190426111221,
           "Partial depencence for numeric variables",
           "veh_age"
          ],
          [
           0.06980190426111221,
           "Partial depencence for numeric variables",
           "veh_age"
          ],
          [
           0.06980190426111221,
           "Partial depencence for numeric variables",
           "veh_age"
          ],
          [
           0.06980190426111221,
           "Partial depencence for numeric variables",
           "veh_age"
          ],
          [
           0.06980190426111221,
           "Partial depencence for numeric variables",
           "veh_age"
          ],
          [
           0.06980190426111221,
           "Partial depencence for numeric variables",
           "veh_age"
          ],
          [
           0.06980190426111221,
           "Partial depencence for numeric variables",
           "veh_age"
          ],
          [
           0.06980190426111221,
           "Partial depencence for numeric variables",
           "veh_age"
          ],
          [
           0.06980190426111221,
           "Partial depencence for numeric variables",
           "veh_age"
          ],
          [
           0.06980190426111221,
           "Partial depencence for numeric variables",
           "veh_age"
          ],
          [
           0.06980190426111221,
           "Partial depencence for numeric variables",
           "veh_age"
          ],
          [
           0.06980190426111221,
           "Partial depencence for numeric variables",
           "veh_age"
          ],
          [
           0.06980190426111221,
           "Partial depencence for numeric variables",
           "veh_age"
          ],
          [
           0.06980190426111221,
           "Partial depencence for numeric variables",
           "veh_age"
          ],
          [
           0.06980190426111221,
           "Partial depencence for numeric variables",
           "veh_age"
          ],
          [
           0.06980190426111221,
           "Partial depencence for numeric variables",
           "veh_age"
          ],
          [
           0.06980190426111221,
           "Partial depencence for numeric variables",
           "veh_age"
          ],
          [
           0.06980190426111221,
           "Partial depencence for numeric variables",
           "veh_age"
          ],
          [
           0.06980190426111221,
           "Partial depencence for numeric variables",
           "veh_age"
          ],
          [
           0.06980190426111221,
           "Partial depencence for numeric variables",
           "veh_age"
          ],
          [
           0.06980190426111221,
           "Partial depencence for numeric variables",
           "veh_age"
          ],
          [
           0.06980190426111221,
           "Partial depencence for numeric variables",
           "veh_age"
          ],
          [
           0.06980190426111221,
           "Partial depencence for numeric variables",
           "veh_age"
          ],
          [
           0.06980190426111221,
           "Partial depencence for numeric variables",
           "veh_age"
          ],
          [
           0.06980190426111221,
           "Partial depencence for numeric variables",
           "veh_age"
          ],
          [
           0.06980190426111221,
           "Partial depencence for numeric variables",
           "veh_age"
          ],
          [
           0.06980190426111221,
           "Partial depencence for numeric variables",
           "veh_age"
          ],
          [
           0.06980190426111221,
           "Partial depencence for numeric variables",
           "veh_age"
          ],
          [
           0.06980190426111221,
           "Partial depencence for numeric variables",
           "veh_age"
          ],
          [
           0.06980190426111221,
           "Partial depencence for numeric variables",
           "veh_age"
          ],
          [
           0.06980190426111221,
           "Partial depencence for numeric variables",
           "veh_age"
          ]
         ],
         "hovertemplate": "<b>%{hovertext}</b><br><br>prediction=%{y:.3f}<br>mean_prediction=%{customdata[0]:.3f}<extra></extra>",
         "hovertext": [
          "Partial depencence for numeric variables",
          "Partial depencence for numeric variables",
          "Partial depencence for numeric variables",
          "Partial depencence for numeric variables",
          "Partial depencence for numeric variables",
          "Partial depencence for numeric variables",
          "Partial depencence for numeric variables",
          "Partial depencence for numeric variables",
          "Partial depencence for numeric variables",
          "Partial depencence for numeric variables",
          "Partial depencence for numeric variables",
          "Partial depencence for numeric variables",
          "Partial depencence for numeric variables",
          "Partial depencence for numeric variables",
          "Partial depencence for numeric variables",
          "Partial depencence for numeric variables",
          "Partial depencence for numeric variables",
          "Partial depencence for numeric variables",
          "Partial depencence for numeric variables",
          "Partial depencence for numeric variables",
          "Partial depencence for numeric variables",
          "Partial depencence for numeric variables",
          "Partial depencence for numeric variables",
          "Partial depencence for numeric variables",
          "Partial depencence for numeric variables",
          "Partial depencence for numeric variables",
          "Partial depencence for numeric variables",
          "Partial depencence for numeric variables",
          "Partial depencence for numeric variables",
          "Partial depencence for numeric variables",
          "Partial depencence for numeric variables",
          "Partial depencence for numeric variables",
          "Partial depencence for numeric variables",
          "Partial depencence for numeric variables",
          "Partial depencence for numeric variables",
          "Partial depencence for numeric variables",
          "Partial depencence for numeric variables",
          "Partial depencence for numeric variables",
          "Partial depencence for numeric variables",
          "Partial depencence for numeric variables",
          "Partial depencence for numeric variables",
          "Partial depencence for numeric variables",
          "Partial depencence for numeric variables",
          "Partial depencence for numeric variables",
          "Partial depencence for numeric variables",
          "Partial depencence for numeric variables",
          "Partial depencence for numeric variables",
          "Partial depencence for numeric variables",
          "Partial depencence for numeric variables",
          "Partial depencence for numeric variables",
          "Partial depencence for numeric variables",
          "Partial depencence for numeric variables",
          "Partial depencence for numeric variables",
          "Partial depencence for numeric variables",
          "Partial depencence for numeric variables",
          "Partial depencence for numeric variables",
          "Partial depencence for numeric variables",
          "Partial depencence for numeric variables",
          "Partial depencence for numeric variables",
          "Partial depencence for numeric variables",
          "Partial depencence for numeric variables",
          "Partial depencence for numeric variables",
          "Partial depencence for numeric variables",
          "Partial depencence for numeric variables",
          "Partial depencence for numeric variables",
          "Partial depencence for numeric variables",
          "Partial depencence for numeric variables",
          "Partial depencence for numeric variables",
          "Partial depencence for numeric variables",
          "Partial depencence for numeric variables",
          "Partial depencence for numeric variables",
          "Partial depencence for numeric variables",
          "Partial depencence for numeric variables",
          "Partial depencence for numeric variables",
          "Partial depencence for numeric variables",
          "Partial depencence for numeric variables",
          "Partial depencence for numeric variables",
          "Partial depencence for numeric variables",
          "Partial depencence for numeric variables",
          "Partial depencence for numeric variables",
          "Partial depencence for numeric variables",
          "Partial depencence for numeric variables",
          "Partial depencence for numeric variables",
          "Partial depencence for numeric variables",
          "Partial depencence for numeric variables",
          "Partial depencence for numeric variables",
          "Partial depencence for numeric variables",
          "Partial depencence for numeric variables",
          "Partial depencence for numeric variables",
          "Partial depencence for numeric variables",
          "Partial depencence for numeric variables",
          "Partial depencence for numeric variables",
          "Partial depencence for numeric variables",
          "Partial depencence for numeric variables",
          "Partial depencence for numeric variables",
          "Partial depencence for numeric variables",
          "Partial depencence for numeric variables",
          "Partial depencence for numeric variables",
          "Partial depencence for numeric variables",
          "Partial depencence for numeric variables",
          "Partial depencence for numeric variables"
         ],
         "legendgroup": "Partial depencence for numeric variables",
         "line": {
          "color": "#46bac2",
          "dash": "solid",
          "width": 2
         },
         "marker": {
          "symbol": "circle"
         },
         "mode": "lines",
         "name": "Partial depencence for numeric variables",
         "opacity": 1,
         "orientation": "v",
         "showlegend": false,
         "type": "scatter",
         "x": [
          1,
          1.03,
          1.06,
          1.09,
          1.12,
          1.15,
          1.18,
          1.21,
          1.24,
          1.27,
          1.3,
          1.33,
          1.3599999999999999,
          1.3900000000000001,
          1.42,
          1.45,
          1.48,
          1.51,
          1.54,
          1.5699999999999998,
          1.6,
          1.63,
          1.66,
          1.69,
          1.72,
          1.75,
          1.78,
          1.81,
          1.8399999999999999,
          1.87,
          1.9,
          1.93,
          1.96,
          1.99,
          2.02,
          2.05,
          2.08,
          2.11,
          2.1399999999999997,
          2.17,
          2.2,
          2.23,
          2.26,
          2.29,
          2.32,
          2.3499999999999996,
          2.38,
          2.41,
          2.44,
          2.4699999999999998,
          2.5,
          2.5300000000000002,
          2.56,
          2.59,
          2.62,
          2.65,
          2.6799999999999997,
          2.71,
          2.74,
          2.77,
          2.8,
          2.83,
          2.86,
          2.8899999999999997,
          2.92,
          2.95,
          2.98,
          3.01,
          3.04,
          3.07,
          3.1,
          3.13,
          3.16,
          3.19,
          3.2199999999999998,
          3.25,
          3.28,
          3.31,
          3.34,
          3.37,
          3.4,
          3.4299999999999997,
          3.46,
          3.4899999999999998,
          3.52,
          3.55,
          3.58,
          3.61,
          3.6399999999999997,
          3.67,
          3.6999999999999997,
          3.73,
          3.76,
          3.79,
          3.82,
          3.85,
          3.88,
          3.9099999999999997,
          3.94,
          3.9699999999999998,
          4
         ],
         "xaxis": "x4",
         "y": [
          0.0726579874753952,
          0.07244390994310379,
          0.07223321497440338,
          0.07202593237161636,
          0.07182211428880692,
          0.07162180542945862,
          0.07142503559589386,
          0.07123185694217682,
          0.07104230672121048,
          0.07085642218589783,
          0.07067425549030304,
          0.0704958364367485,
          0.0703212097287178,
          0.07015041261911392,
          0.06998348236083984,
          0.06982046365737915,
          0.06966137886047363,
          0.06950628757476807,
          0.06935521960258484,
          0.06920820474624634,
          0.06906528025865555,
          0.06892649084329605,
          0.06879186630249023,
          0.06866144388914108,
          0.06853526085615158,
          0.06841333955526352,
          0.06829573959112167,
          0.06818246841430664,
          0.0680735632777214,
          0.06796907633543015,
          0.06786902248859406,
          0.06777343899011612,
          0.06768235564231873,
          0.06759580969810486,
          0.0675138384103775,
          0.06743646413087845,
          0.06736370921134949,
          0.0672956183552742,
          0.06723221391439438,
          0.067173533141613,
          0.06711959838867188,
          0.06707044690847397,
          0.06702610105276108,
          0.06698659807443619,
          0.06695195287466049,
          0.06692221015691757,
          0.06689738482236862,
          0.06687751412391663,
          0.06686262786388397,
          0.06685274094343185,
          0.06684789061546326,
          0.06684810668230057,
          0.06685341149568558,
          0.06686383485794067,
          0.06687939167022705,
          0.06690013408660889,
          0.06692606955766678,
          0.06695722788572311,
          0.06699363887310028,
          0.06703533232212067,
          0.06708232313394547,
          0.06713465601205826,
          0.06719233095645905,
          0.067255400121212,
          0.06732387840747833,
          0.06739778816699982,
          0.06747716665267944,
          0.0675620287656784,
          0.06765240430831909,
          0.06774832308292389,
          0.06784980744123459,
          0.06795687973499298,
          0.06806957721710205,
          0.06818791478872299,
          0.0683119148015976,
          0.06844162195920944,
          0.06857705116271973,
          0.06871822476387024,
          0.06886517256498337,
          0.0690179169178009,
          0.06917649507522583,
          0.06934091448783875,
          0.06951121985912323,
          0.06968743354082108,
          0.06986956298351288,
          0.07005766034126282,
          0.07025173306465149,
          0.07045181095600128,
          0.07065793126821518,
          0.07087010145187378,
          0.07108835875988007,
          0.07131273299455643,
          0.07154323905706406,
          0.07177990674972534,
          0.07202277332544327,
          0.07227184623479843,
          0.07252716273069382,
          0.07278873771429062,
          0.07305661588907242,
          0.07333080470561981,
          0.07361133396625519
         ],
         "yaxis": "y4"
        },
        {
         "customdata": [
          [
           0.06980190426111221,
           "Partial depencence for numeric variables",
           "agecat"
          ],
          [
           0.06980190426111221,
           "Partial depencence for numeric variables",
           "agecat"
          ],
          [
           0.06980190426111221,
           "Partial depencence for numeric variables",
           "agecat"
          ],
          [
           0.06980190426111221,
           "Partial depencence for numeric variables",
           "agecat"
          ],
          [
           0.06980190426111221,
           "Partial depencence for numeric variables",
           "agecat"
          ],
          [
           0.06980190426111221,
           "Partial depencence for numeric variables",
           "agecat"
          ],
          [
           0.06980190426111221,
           "Partial depencence for numeric variables",
           "agecat"
          ],
          [
           0.06980190426111221,
           "Partial depencence for numeric variables",
           "agecat"
          ],
          [
           0.06980190426111221,
           "Partial depencence for numeric variables",
           "agecat"
          ],
          [
           0.06980190426111221,
           "Partial depencence for numeric variables",
           "agecat"
          ],
          [
           0.06980190426111221,
           "Partial depencence for numeric variables",
           "agecat"
          ],
          [
           0.06980190426111221,
           "Partial depencence for numeric variables",
           "agecat"
          ],
          [
           0.06980190426111221,
           "Partial depencence for numeric variables",
           "agecat"
          ],
          [
           0.06980190426111221,
           "Partial depencence for numeric variables",
           "agecat"
          ],
          [
           0.06980190426111221,
           "Partial depencence for numeric variables",
           "agecat"
          ],
          [
           0.06980190426111221,
           "Partial depencence for numeric variables",
           "agecat"
          ],
          [
           0.06980190426111221,
           "Partial depencence for numeric variables",
           "agecat"
          ],
          [
           0.06980190426111221,
           "Partial depencence for numeric variables",
           "agecat"
          ],
          [
           0.06980190426111221,
           "Partial depencence for numeric variables",
           "agecat"
          ],
          [
           0.06980190426111221,
           "Partial depencence for numeric variables",
           "agecat"
          ],
          [
           0.06980190426111221,
           "Partial depencence for numeric variables",
           "agecat"
          ],
          [
           0.06980190426111221,
           "Partial depencence for numeric variables",
           "agecat"
          ],
          [
           0.06980190426111221,
           "Partial depencence for numeric variables",
           "agecat"
          ],
          [
           0.06980190426111221,
           "Partial depencence for numeric variables",
           "agecat"
          ],
          [
           0.06980190426111221,
           "Partial depencence for numeric variables",
           "agecat"
          ],
          [
           0.06980190426111221,
           "Partial depencence for numeric variables",
           "agecat"
          ],
          [
           0.06980190426111221,
           "Partial depencence for numeric variables",
           "agecat"
          ],
          [
           0.06980190426111221,
           "Partial depencence for numeric variables",
           "agecat"
          ],
          [
           0.06980190426111221,
           "Partial depencence for numeric variables",
           "agecat"
          ],
          [
           0.06980190426111221,
           "Partial depencence for numeric variables",
           "agecat"
          ],
          [
           0.06980190426111221,
           "Partial depencence for numeric variables",
           "agecat"
          ],
          [
           0.06980190426111221,
           "Partial depencence for numeric variables",
           "agecat"
          ],
          [
           0.06980190426111221,
           "Partial depencence for numeric variables",
           "agecat"
          ],
          [
           0.06980190426111221,
           "Partial depencence for numeric variables",
           "agecat"
          ],
          [
           0.06980190426111221,
           "Partial depencence for numeric variables",
           "agecat"
          ],
          [
           0.06980190426111221,
           "Partial depencence for numeric variables",
           "agecat"
          ],
          [
           0.06980190426111221,
           "Partial depencence for numeric variables",
           "agecat"
          ],
          [
           0.06980190426111221,
           "Partial depencence for numeric variables",
           "agecat"
          ],
          [
           0.06980190426111221,
           "Partial depencence for numeric variables",
           "agecat"
          ],
          [
           0.06980190426111221,
           "Partial depencence for numeric variables",
           "agecat"
          ],
          [
           0.06980190426111221,
           "Partial depencence for numeric variables",
           "agecat"
          ],
          [
           0.06980190426111221,
           "Partial depencence for numeric variables",
           "agecat"
          ],
          [
           0.06980190426111221,
           "Partial depencence for numeric variables",
           "agecat"
          ],
          [
           0.06980190426111221,
           "Partial depencence for numeric variables",
           "agecat"
          ],
          [
           0.06980190426111221,
           "Partial depencence for numeric variables",
           "agecat"
          ],
          [
           0.06980190426111221,
           "Partial depencence for numeric variables",
           "agecat"
          ],
          [
           0.06980190426111221,
           "Partial depencence for numeric variables",
           "agecat"
          ],
          [
           0.06980190426111221,
           "Partial depencence for numeric variables",
           "agecat"
          ],
          [
           0.06980190426111221,
           "Partial depencence for numeric variables",
           "agecat"
          ],
          [
           0.06980190426111221,
           "Partial depencence for numeric variables",
           "agecat"
          ],
          [
           0.06980190426111221,
           "Partial depencence for numeric variables",
           "agecat"
          ],
          [
           0.06980190426111221,
           "Partial depencence for numeric variables",
           "agecat"
          ],
          [
           0.06980190426111221,
           "Partial depencence for numeric variables",
           "agecat"
          ],
          [
           0.06980190426111221,
           "Partial depencence for numeric variables",
           "agecat"
          ],
          [
           0.06980190426111221,
           "Partial depencence for numeric variables",
           "agecat"
          ],
          [
           0.06980190426111221,
           "Partial depencence for numeric variables",
           "agecat"
          ],
          [
           0.06980190426111221,
           "Partial depencence for numeric variables",
           "agecat"
          ],
          [
           0.06980190426111221,
           "Partial depencence for numeric variables",
           "agecat"
          ],
          [
           0.06980190426111221,
           "Partial depencence for numeric variables",
           "agecat"
          ],
          [
           0.06980190426111221,
           "Partial depencence for numeric variables",
           "agecat"
          ],
          [
           0.06980190426111221,
           "Partial depencence for numeric variables",
           "agecat"
          ],
          [
           0.06980190426111221,
           "Partial depencence for numeric variables",
           "agecat"
          ],
          [
           0.06980190426111221,
           "Partial depencence for numeric variables",
           "agecat"
          ],
          [
           0.06980190426111221,
           "Partial depencence for numeric variables",
           "agecat"
          ],
          [
           0.06980190426111221,
           "Partial depencence for numeric variables",
           "agecat"
          ],
          [
           0.06980190426111221,
           "Partial depencence for numeric variables",
           "agecat"
          ],
          [
           0.06980190426111221,
           "Partial depencence for numeric variables",
           "agecat"
          ],
          [
           0.06980190426111221,
           "Partial depencence for numeric variables",
           "agecat"
          ],
          [
           0.06980190426111221,
           "Partial depencence for numeric variables",
           "agecat"
          ],
          [
           0.06980190426111221,
           "Partial depencence for numeric variables",
           "agecat"
          ],
          [
           0.06980190426111221,
           "Partial depencence for numeric variables",
           "agecat"
          ],
          [
           0.06980190426111221,
           "Partial depencence for numeric variables",
           "agecat"
          ],
          [
           0.06980190426111221,
           "Partial depencence for numeric variables",
           "agecat"
          ],
          [
           0.06980190426111221,
           "Partial depencence for numeric variables",
           "agecat"
          ],
          [
           0.06980190426111221,
           "Partial depencence for numeric variables",
           "agecat"
          ],
          [
           0.06980190426111221,
           "Partial depencence for numeric variables",
           "agecat"
          ],
          [
           0.06980190426111221,
           "Partial depencence for numeric variables",
           "agecat"
          ],
          [
           0.06980190426111221,
           "Partial depencence for numeric variables",
           "agecat"
          ],
          [
           0.06980190426111221,
           "Partial depencence for numeric variables",
           "agecat"
          ],
          [
           0.06980190426111221,
           "Partial depencence for numeric variables",
           "agecat"
          ],
          [
           0.06980190426111221,
           "Partial depencence for numeric variables",
           "agecat"
          ],
          [
           0.06980190426111221,
           "Partial depencence for numeric variables",
           "agecat"
          ],
          [
           0.06980190426111221,
           "Partial depencence for numeric variables",
           "agecat"
          ],
          [
           0.06980190426111221,
           "Partial depencence for numeric variables",
           "agecat"
          ],
          [
           0.06980190426111221,
           "Partial depencence for numeric variables",
           "agecat"
          ],
          [
           0.06980190426111221,
           "Partial depencence for numeric variables",
           "agecat"
          ],
          [
           0.06980190426111221,
           "Partial depencence for numeric variables",
           "agecat"
          ],
          [
           0.06980190426111221,
           "Partial depencence for numeric variables",
           "agecat"
          ],
          [
           0.06980190426111221,
           "Partial depencence for numeric variables",
           "agecat"
          ],
          [
           0.06980190426111221,
           "Partial depencence for numeric variables",
           "agecat"
          ],
          [
           0.06980190426111221,
           "Partial depencence for numeric variables",
           "agecat"
          ],
          [
           0.06980190426111221,
           "Partial depencence for numeric variables",
           "agecat"
          ],
          [
           0.06980190426111221,
           "Partial depencence for numeric variables",
           "agecat"
          ],
          [
           0.06980190426111221,
           "Partial depencence for numeric variables",
           "agecat"
          ],
          [
           0.06980190426111221,
           "Partial depencence for numeric variables",
           "agecat"
          ],
          [
           0.06980190426111221,
           "Partial depencence for numeric variables",
           "agecat"
          ],
          [
           0.06980190426111221,
           "Partial depencence for numeric variables",
           "agecat"
          ],
          [
           0.06980190426111221,
           "Partial depencence for numeric variables",
           "agecat"
          ],
          [
           0.06980190426111221,
           "Partial depencence for numeric variables",
           "agecat"
          ],
          [
           0.06980190426111221,
           "Partial depencence for numeric variables",
           "agecat"
          ],
          [
           0.06980190426111221,
           "Partial depencence for numeric variables",
           "agecat"
          ]
         ],
         "hovertemplate": "<b>%{hovertext}</b><br><br>prediction=%{y:.3f}<br>mean_prediction=%{customdata[0]:.3f}<extra></extra>",
         "hovertext": [
          "Partial depencence for numeric variables",
          "Partial depencence for numeric variables",
          "Partial depencence for numeric variables",
          "Partial depencence for numeric variables",
          "Partial depencence for numeric variables",
          "Partial depencence for numeric variables",
          "Partial depencence for numeric variables",
          "Partial depencence for numeric variables",
          "Partial depencence for numeric variables",
          "Partial depencence for numeric variables",
          "Partial depencence for numeric variables",
          "Partial depencence for numeric variables",
          "Partial depencence for numeric variables",
          "Partial depencence for numeric variables",
          "Partial depencence for numeric variables",
          "Partial depencence for numeric variables",
          "Partial depencence for numeric variables",
          "Partial depencence for numeric variables",
          "Partial depencence for numeric variables",
          "Partial depencence for numeric variables",
          "Partial depencence for numeric variables",
          "Partial depencence for numeric variables",
          "Partial depencence for numeric variables",
          "Partial depencence for numeric variables",
          "Partial depencence for numeric variables",
          "Partial depencence for numeric variables",
          "Partial depencence for numeric variables",
          "Partial depencence for numeric variables",
          "Partial depencence for numeric variables",
          "Partial depencence for numeric variables",
          "Partial depencence for numeric variables",
          "Partial depencence for numeric variables",
          "Partial depencence for numeric variables",
          "Partial depencence for numeric variables",
          "Partial depencence for numeric variables",
          "Partial depencence for numeric variables",
          "Partial depencence for numeric variables",
          "Partial depencence for numeric variables",
          "Partial depencence for numeric variables",
          "Partial depencence for numeric variables",
          "Partial depencence for numeric variables",
          "Partial depencence for numeric variables",
          "Partial depencence for numeric variables",
          "Partial depencence for numeric variables",
          "Partial depencence for numeric variables",
          "Partial depencence for numeric variables",
          "Partial depencence for numeric variables",
          "Partial depencence for numeric variables",
          "Partial depencence for numeric variables",
          "Partial depencence for numeric variables",
          "Partial depencence for numeric variables",
          "Partial depencence for numeric variables",
          "Partial depencence for numeric variables",
          "Partial depencence for numeric variables",
          "Partial depencence for numeric variables",
          "Partial depencence for numeric variables",
          "Partial depencence for numeric variables",
          "Partial depencence for numeric variables",
          "Partial depencence for numeric variables",
          "Partial depencence for numeric variables",
          "Partial depencence for numeric variables",
          "Partial depencence for numeric variables",
          "Partial depencence for numeric variables",
          "Partial depencence for numeric variables",
          "Partial depencence for numeric variables",
          "Partial depencence for numeric variables",
          "Partial depencence for numeric variables",
          "Partial depencence for numeric variables",
          "Partial depencence for numeric variables",
          "Partial depencence for numeric variables",
          "Partial depencence for numeric variables",
          "Partial depencence for numeric variables",
          "Partial depencence for numeric variables",
          "Partial depencence for numeric variables",
          "Partial depencence for numeric variables",
          "Partial depencence for numeric variables",
          "Partial depencence for numeric variables",
          "Partial depencence for numeric variables",
          "Partial depencence for numeric variables",
          "Partial depencence for numeric variables",
          "Partial depencence for numeric variables",
          "Partial depencence for numeric variables",
          "Partial depencence for numeric variables",
          "Partial depencence for numeric variables",
          "Partial depencence for numeric variables",
          "Partial depencence for numeric variables",
          "Partial depencence for numeric variables",
          "Partial depencence for numeric variables",
          "Partial depencence for numeric variables",
          "Partial depencence for numeric variables",
          "Partial depencence for numeric variables",
          "Partial depencence for numeric variables",
          "Partial depencence for numeric variables",
          "Partial depencence for numeric variables",
          "Partial depencence for numeric variables",
          "Partial depencence for numeric variables",
          "Partial depencence for numeric variables",
          "Partial depencence for numeric variables",
          "Partial depencence for numeric variables",
          "Partial depencence for numeric variables",
          "Partial depencence for numeric variables"
         ],
         "legendgroup": "Partial depencence for numeric variables",
         "line": {
          "color": "#46bac2",
          "dash": "solid",
          "width": 2
         },
         "marker": {
          "symbol": "circle"
         },
         "mode": "lines",
         "name": "Partial depencence for numeric variables",
         "opacity": 1,
         "orientation": "v",
         "showlegend": false,
         "type": "scatter",
         "x": [
          1,
          1.05,
          1.1,
          1.15,
          1.2,
          1.25,
          1.3,
          1.35,
          1.4,
          1.45,
          1.5,
          1.55,
          1.6,
          1.65,
          1.7000000000000002,
          1.75,
          1.8,
          1.85,
          1.9,
          1.9500000000000002,
          2,
          2.05,
          2.1,
          2.1500000000000004,
          2.2,
          2.25,
          2.3,
          2.35,
          2.4000000000000004,
          2.45,
          2.5,
          2.55,
          2.6,
          2.6500000000000004,
          2.7,
          2.75,
          2.8,
          2.85,
          2.9000000000000004,
          2.95,
          3,
          3.0500000000000003,
          3.1,
          3.15,
          3.2,
          3.25,
          3.3000000000000003,
          3.35,
          3.4000000000000004,
          3.45,
          3.5,
          3.5500000000000003,
          3.6,
          3.6500000000000004,
          3.7,
          3.75,
          3.8000000000000003,
          3.85,
          3.9000000000000004,
          3.95,
          4,
          4.050000000000001,
          4.1,
          4.15,
          4.2,
          4.25,
          4.300000000000001,
          4.35,
          4.4,
          4.45,
          4.5,
          4.550000000000001,
          4.6,
          4.65,
          4.7,
          4.75,
          4.800000000000001,
          4.85,
          4.9,
          4.95,
          5,
          5.05,
          5.1000000000000005,
          5.15,
          5.2,
          5.25,
          5.3,
          5.3500000000000005,
          5.4,
          5.45,
          5.5,
          5.55,
          5.6000000000000005,
          5.65,
          5.7,
          5.75,
          5.800000000000001,
          5.8500000000000005,
          5.9,
          5.95,
          6
         ],
         "xaxis": "x",
         "y": [
          0.09233684837818146,
          0.09143003076314926,
          0.0905398353934288,
          0.08966617286205292,
          0.08880895376205444,
          0.08796808868646622,
          0.08714348077774048,
          0.08633503317832947,
          0.08554264158010483,
          0.08476618677377701,
          0.08400557935237885,
          0.08326069265604019,
          0.08253142237663269,
          0.0818176344037056,
          0.08111921697854996,
          0.08043605089187622,
          0.07976800203323364,
          0.07911495119333267,
          0.07847677171230316,
          0.07785331457853317,
          0.07724446803331375,
          0.07665009051561356,
          0.07607004791498184,
          0.07550419867038727,
          0.07495241612195969,
          0.07441455125808716,
          0.07389048486948013,
          0.07338005304336548,
          0.07288313657045364,
          0.0723995715379715,
          0.07192923873662949,
          0.07147199660539627,
          0.07102769613265991,
          0.07059619575738907,
          0.070177361369133,
          0.06977105140686035,
          0.0693771168589592,
          0.06899542361497879,
          0.06862583756446838,
          0.06826820224523544,
          0.06792239844799042,
          0.06758827716112137,
          0.06726569682359695,
          0.06695452332496643,
          0.06665462255477905,
          0.06636586040258408,
          0.06608809530735016,
          0.06582118570804596,
          0.06556501239538193,
          0.06531943380832672,
          0.0650843158364296,
          0.0648595318198204,
          0.0646449401974678,
          0.06444042176008224,
          0.06424584239721298,
          0.06406107544898987,
          0.06388598680496216,
          0.0637204572558403,
          0.06356435269117355,
          0.06341754645109177,
          0.06327991932630539,
          0.06315135210752487,
          0.06303171068429947,
          0.06292087584733963,
          0.0628187283873558,
          0.06272513419389725,
          0.0626399964094162,
          0.06256318092346191,
          0.062494561076164246,
          0.062434032559394836,
          0.06238146871328354,
          0.0623367615044117,
          0.062299780547618866,
          0.062270425260066986,
          0.06224856525659561,
          0.062234096229076385,
          0.06222689524292946,
          0.062226857990026474,
          0.06223386526107788,
          0.062247805297374725,
          0.062268566340208054,
          0.06229603290557861,
          0.06233010068535805,
          0.06237064674496651,
          0.06241757050156593,
          0.06247076019644737,
          0.06253010779619217,
          0.06259549409151077,
          0.06266681849956512,
          0.06274396926164627,
          0.06282683461904526,
          0.06291531771421432,
          0.06300929933786392,
          0.06310868263244629,
          0.06321334838867188,
          0.06332319229841232,
          0.06343811750411987,
          0.06355801224708557,
          0.06368277221918106,
          0.06381228566169739,
          0.06394645571708679
         ],
         "yaxis": "y"
        }
       ],
       "layout": {
        "annotations": [
         {
          "font": {
           "size": 13
          },
          "showarrow": false,
          "text": "agecat",
          "x": 0.2375,
          "xanchor": "center",
          "xref": "paper",
          "y": 0.425,
          "yanchor": "bottom",
          "yref": "paper"
         },
         {
          "font": {
           "size": 13
          },
          "showarrow": false,
          "text": "veh_value",
          "x": 0.2375,
          "xanchor": "center",
          "xref": "paper",
          "y": 1,
          "yanchor": "bottom",
          "yref": "paper"
         },
         {
          "font": {
           "size": 13
          },
          "showarrow": false,
          "text": "veh_age",
          "x": 0.7625,
          "xanchor": "center",
          "xref": "paper",
          "y": 1,
          "yanchor": "bottom",
          "yref": "paper"
         },
         {
          "font": {
           "size": 13
          },
          "showarrow": false,
          "text": "prediction",
          "textangle": -90,
          "x": -0.07,
          "xref": "paper",
          "y": 0.5,
          "yref": "paper"
         }
        ],
        "font": {
         "color": "#371ea3"
        },
        "height": 829,
        "hovermode": "x unified",
        "legend": {
         "font": {
          "size": 11
         },
         "itemsizing": "constant",
         "orientation": "h",
         "title": {
          "font": {
           "size": 12
          },
          "text": "label"
         },
         "tracegroupgap": 0,
         "x": 1,
         "xanchor": "right",
         "y": 1.0361881785283473,
         "yanchor": "bottom"
        },
        "margin": {
         "b": 71,
         "r": 30,
         "t": 78
        },
        "template": {
         "data": {
          "scatter": [
           {
            "type": "scatter"
           }
          ]
         }
        },
        "title": {
         "font": {
          "size": 16
         },
         "text": "Aggregated Profiles",
         "x": 0.15
        },
        "xaxis": {
         "anchor": "y",
         "automargin": true,
         "domain": [
          0,
          0.475
         ],
         "fixedrange": true,
         "gridwidth": 2,
         "showticklabels": true,
         "tickcolor": "white",
         "ticklen": 3,
         "ticks": "outside",
         "title": {
          "text": ""
         },
         "type": "linear",
         "zeroline": false
        },
        "xaxis2": {
         "anchor": "y2",
         "automargin": true,
         "domain": [
          0.525,
          1
         ],
         "fixedrange": true,
         "gridwidth": 2,
         "showticklabels": true,
         "tickcolor": "white",
         "ticklen": 3,
         "ticks": "outside",
         "title": {
          "text": ""
         },
         "type": "linear",
         "zeroline": false
        },
        "xaxis3": {
         "anchor": "y3",
         "automargin": true,
         "domain": [
          0,
          0.475
         ],
         "fixedrange": true,
         "gridwidth": 2,
         "showticklabels": true,
         "tickcolor": "white",
         "ticklen": 3,
         "ticks": "outside",
         "title": {
          "text": ""
         },
         "type": "linear",
         "zeroline": false
        },
        "xaxis4": {
         "anchor": "y4",
         "automargin": true,
         "domain": [
          0.525,
          1
         ],
         "fixedrange": true,
         "gridwidth": 2,
         "showticklabels": true,
         "tickcolor": "white",
         "ticklen": 3,
         "ticks": "outside",
         "title": {
          "text": ""
         },
         "type": "linear",
         "zeroline": false
        },
        "yaxis": {
         "anchor": "x",
         "automargin": true,
         "domain": [
          0,
          0.425
         ],
         "fixedrange": true,
         "gridwidth": 2,
         "range": [
          0.05721052847802639,
          0.1174064826220274
         ],
         "tickcolor": "white",
         "ticklen": 3,
         "ticks": "outside",
         "title": {
          "text": ""
         },
         "type": "linear",
         "zeroline": false
        },
        "yaxis2": {
         "anchor": "x2",
         "automargin": true,
         "domain": [
          0,
          0.425
         ],
         "fixedrange": true,
         "gridwidth": 2,
         "matches": "y",
         "range": [
          0.05721052847802639,
          0.1174064826220274
         ],
         "showticklabels": false,
         "tickcolor": "white",
         "ticklen": 3,
         "ticks": "outside",
         "title": {
          "text": ""
         },
         "type": "linear",
         "zeroline": false
        },
        "yaxis3": {
         "anchor": "x3",
         "automargin": true,
         "domain": [
          0.575,
          1
         ],
         "fixedrange": true,
         "gridwidth": 2,
         "matches": "y",
         "range": [
          0.05721052847802639,
          0.1174064826220274
         ],
         "tickcolor": "white",
         "ticklen": 3,
         "ticks": "outside",
         "title": {
          "text": ""
         },
         "type": "linear",
         "zeroline": false
        },
        "yaxis4": {
         "anchor": "x4",
         "automargin": true,
         "domain": [
          0.575,
          1
         ],
         "fixedrange": true,
         "gridwidth": 2,
         "matches": "y",
         "range": [
          0.05721052847802639,
          0.1174064826220274
         ],
         "showticklabels": false,
         "tickcolor": "white",
         "ticklen": 3,
         "ticks": "outside",
         "title": {
          "text": ""
         },
         "type": "linear",
         "zeroline": false
        }
       }
      }
     },
     "metadata": {},
     "output_type": "display_data"
    },
    {
     "data": {
      "application/vnd.plotly.v1+json": {
       "config": {
        "displaylogo": false,
        "modeBarButtonsToRemove": [
         "sendDataToCloud",
         "lasso2d",
         "autoScale2d",
         "select2d",
         "zoom2d",
         "pan2d",
         "zoomIn2d",
         "zoomOut2d",
         "resetScale2d",
         "toggleSpikelines",
         "hoverCompareCartesian",
         "hoverClosestCartesian"
        ],
        "plotlyServerURL": "https://plot.ly",
        "staticPlot": false,
        "toImageButtonOptions": {
         "height": null,
         "width": null
        }
       },
       "data": [
        {
         "alignmentgroup": "True",
         "base": [
          0.06831400841474533,
          0.06831400841474533
         ],
         "customdata": [
          [
           0.06746970117092133,
           "Partial depencence for ordinal variables",
           "gender"
          ],
          [
           0.06898145377635956,
           "Partial depencence for ordinal variables",
           "gender"
          ]
         ],
         "hovertemplate": "<b>%{hovertext}</b><br><br>mean_prediction=%{base:.3f}<br>prediction=%{customdata[0]:.3f}<extra></extra>",
         "hovertext": [
          "Partial depencence for ordinal variables",
          "Partial depencence for ordinal variables"
         ],
         "legendgroup": "Partial depencence for ordinal variables",
         "marker": {
          "color": "#46bac2",
          "pattern": {
           "shape": ""
          }
         },
         "name": "Partial depencence for ordinal variables",
         "offsetgroup": "Partial depencence for ordinal variables",
         "orientation": "v",
         "showlegend": true,
         "textposition": "auto",
         "type": "bar",
         "x": [
          "M",
          "F"
         ],
         "xaxis": "x3",
         "y": [
          -0.0008443072438240051,
          0.0006674453616142273
         ],
         "yaxis": "y3"
        },
        {
         "alignmentgroup": "True",
         "base": [
          0.06831400841474533,
          0.06831400841474533,
          0.06831400841474533,
          0.06831400841474533,
          0.06831400841474533,
          0.06831400841474533
         ],
         "customdata": [
          [
           0.07246959209442139,
           "Partial depencence for ordinal variables",
           "area"
          ],
          [
           0.06615880876779556,
           "Partial depencence for ordinal variables",
           "area"
          ],
          [
           0.06504831463098526,
           "Partial depencence for ordinal variables",
           "area"
          ],
          [
           0.06895711272954941,
           "Partial depencence for ordinal variables",
           "area"
          ],
          [
           0.0667860209941864,
           "Partial depencence for ordinal variables",
           "area"
          ],
          [
           0.07232197374105453,
           "Partial depencence for ordinal variables",
           "area"
          ]
         ],
         "hovertemplate": "<b>%{hovertext}</b><br><br>mean_prediction=%{base:.3f}<br>prediction=%{customdata[0]:.3f}<extra></extra>",
         "hovertext": [
          "Partial depencence for ordinal variables",
          "Partial depencence for ordinal variables",
          "Partial depencence for ordinal variables",
          "Partial depencence for ordinal variables",
          "Partial depencence for ordinal variables",
          "Partial depencence for ordinal variables"
         ],
         "legendgroup": "Partial depencence for ordinal variables",
         "marker": {
          "color": "#46bac2",
          "pattern": {
           "shape": ""
          }
         },
         "name": "Partial depencence for ordinal variables",
         "offsetgroup": "Partial depencence for ordinal variables",
         "orientation": "v",
         "showlegend": false,
         "textposition": "auto",
         "type": "bar",
         "x": [
          "A",
          "D",
          "C",
          "E",
          "B",
          "F"
         ],
         "xaxis": "x4",
         "y": [
          0.004155583679676056,
          -0.002155199646949768,
          -0.003265693783760071,
          0.0006431043148040771,
          -0.0015279874205589294,
          0.004007965326309204
         ],
         "yaxis": "y4"
        },
        {
         "alignmentgroup": "True",
         "base": [
          0.06831400841474533,
          0.06831400841474533,
          0.06831400841474533,
          0.06831400841474533,
          0.06831400841474533,
          0.06831400841474533,
          0.06831400841474533,
          0.06831400841474533,
          0.06831400841474533,
          0.06831400841474533,
          0.06831400841474533,
          0.06831400841474533,
          0.06831400841474533
         ],
         "customdata": [
          [
           0.06493832170963287,
           "Partial depencence for ordinal variables",
           "veh_body"
          ],
          [
           0.06776544451713562,
           "Partial depencence for ordinal variables",
           "veh_body"
          ],
          [
           0.07053569704294205,
           "Partial depencence for ordinal variables",
           "veh_body"
          ],
          [
           0.06046251207590103,
           "Partial depencence for ordinal variables",
           "veh_body"
          ],
          [
           0.0826449990272522,
           "Partial depencence for ordinal variables",
           "veh_body"
          ],
          [
           0.08625806868076324,
           "Partial depencence for ordinal variables",
           "veh_body"
          ],
          [
           0.06680560111999512,
           "Partial depencence for ordinal variables",
           "veh_body"
          ],
          [
           0.08590325713157654,
           "Partial depencence for ordinal variables",
           "veh_body"
          ],
          [
           0.10601416975259781,
           "Partial depencence for ordinal variables",
           "veh_body"
          ],
          [
           0.10329174995422363,
           "Partial depencence for ordinal variables",
           "veh_body"
          ],
          [
           0.0698222741484642,
           "Partial depencence for ordinal variables",
           "veh_body"
          ],
          [
           0.07663705945014954,
           "Partial depencence for ordinal variables",
           "veh_body"
          ],
          [
           0.10811944305896759,
           "Partial depencence for ordinal variables",
           "veh_body"
          ]
         ],
         "hovertemplate": "<b>%{hovertext}</b><br><br>mean_prediction=%{base:.3f}<br>prediction=%{customdata[0]:.3f}<extra></extra>",
         "hovertext": [
          "Partial depencence for ordinal variables",
          "Partial depencence for ordinal variables",
          "Partial depencence for ordinal variables",
          "Partial depencence for ordinal variables",
          "Partial depencence for ordinal variables",
          "Partial depencence for ordinal variables",
          "Partial depencence for ordinal variables",
          "Partial depencence for ordinal variables",
          "Partial depencence for ordinal variables",
          "Partial depencence for ordinal variables",
          "Partial depencence for ordinal variables",
          "Partial depencence for ordinal variables",
          "Partial depencence for ordinal variables"
         ],
         "legendgroup": "Partial depencence for ordinal variables",
         "marker": {
          "color": "#46bac2",
          "pattern": {
           "shape": ""
          }
         },
         "name": "Partial depencence for ordinal variables",
         "offsetgroup": "Partial depencence for ordinal variables",
         "orientation": "v",
         "showlegend": false,
         "textposition": "auto",
         "type": "bar",
         "x": [
          "STNWG",
          "SEDAN",
          "HBACK",
          "UTE",
          "HDTOP",
          "COUPE",
          "TRUCK",
          "PANVN",
          "BUS",
          "MCARA",
          "MIBUS",
          "CONVT",
          "RDSTR"
         ],
         "xaxis": "x",
         "y": [
          -0.0033756867051124573,
          -0.0005485638976097107,
          0.0022216886281967163,
          -0.0078514963388443,
          0.014330990612506866,
          0.017944060266017914,
          -0.0015084072947502136,
          0.017589248716831207,
          0.03770016133785248,
          0.0349777415394783,
          0.001508265733718872,
          0.008323051035404205,
          0.03980543464422226
         ],
         "yaxis": "y"
        }
       ],
       "layout": {
        "annotations": [
         {
          "font": {
           "size": 13
          },
          "showarrow": false,
          "text": "veh_body",
          "x": 0.2375,
          "xanchor": "center",
          "xref": "paper",
          "y": 0.425,
          "yanchor": "bottom",
          "yref": "paper"
         },
         {
          "font": {
           "size": 13
          },
          "showarrow": false,
          "text": "gender",
          "x": 0.2375,
          "xanchor": "center",
          "xref": "paper",
          "y": 1,
          "yanchor": "bottom",
          "yref": "paper"
         },
         {
          "font": {
           "size": 13
          },
          "showarrow": false,
          "text": "area",
          "x": 0.7625,
          "xanchor": "center",
          "xref": "paper",
          "y": 1,
          "yanchor": "bottom",
          "yref": "paper"
         },
         {
          "font": {
           "size": 13
          },
          "showarrow": false,
          "text": "prediction",
          "textangle": -90,
          "x": -0.07,
          "xref": "paper",
          "y": 0.5,
          "yref": "paper"
         }
        ],
        "barmode": "group",
        "font": {
         "color": "#371ea3"
        },
        "height": 829,
        "hovermode": "x unified",
        "legend": {
         "font": {
          "size": 11
         },
         "itemsizing": "constant",
         "orientation": "h",
         "title": {
          "font": {
           "size": 12
          },
          "text": "label"
         },
         "tracegroupgap": 0,
         "x": 1,
         "xanchor": "right",
         "y": 1.0361881785283473,
         "yanchor": "bottom"
        },
        "margin": {
         "b": 71,
         "r": 30,
         "t": 78
        },
        "shapes": [
         {
          "layer": "below",
          "line": {
           "color": "#371ea3",
           "dash": "dot",
           "width": 1.5
          },
          "type": "line",
          "x0": 0,
          "x1": 1,
          "xref": "x domain",
          "y0": 0.06831400841474533,
          "y1": 0.06831400841474533,
          "yref": "y"
         },
         {
          "layer": "below",
          "line": {
           "color": "#371ea3",
           "dash": "dot",
           "width": 1.5
          },
          "type": "line",
          "x0": 0,
          "x1": 1,
          "xref": "x3 domain",
          "y0": 0.06831400841474533,
          "y1": 0.06831400841474533,
          "yref": "y3"
         },
         {
          "layer": "below",
          "line": {
           "color": "#371ea3",
           "dash": "dot",
           "width": 1.5
          },
          "type": "line",
          "x0": 0,
          "x1": 1,
          "xref": "x4 domain",
          "y0": 0.06831400841474533,
          "y1": 0.06831400841474533,
          "yref": "y4"
         },
         {
          "layer": "below",
          "line": {
           "color": "#371ea3",
           "dash": "dot",
           "width": 1.5
          },
          "type": "line",
          "x0": 0,
          "x1": 1,
          "xref": "x domain",
          "y0": 0.06831400841474533,
          "y1": 0.06831400841474533,
          "yref": "y"
         },
         {
          "layer": "below",
          "line": {
           "color": "#371ea3",
           "dash": "dot",
           "width": 1.5
          },
          "type": "line",
          "x0": 0,
          "x1": 1,
          "xref": "x3 domain",
          "y0": 0.06831400841474533,
          "y1": 0.06831400841474533,
          "yref": "y3"
         },
         {
          "layer": "below",
          "line": {
           "color": "#371ea3",
           "dash": "dot",
           "width": 1.5
          },
          "type": "line",
          "x0": 0,
          "x1": 1,
          "xref": "x4 domain",
          "y0": 0.06831400841474533,
          "y1": 0.06831400841474533,
          "yref": "y4"
         },
         {
          "layer": "below",
          "line": {
           "color": "#371ea3",
           "dash": "dot",
           "width": 1.5
          },
          "type": "line",
          "x0": 0,
          "x1": 1,
          "xref": "x domain",
          "y0": 0.06831400841474533,
          "y1": 0.06831400841474533,
          "yref": "y"
         },
         {
          "layer": "below",
          "line": {
           "color": "#371ea3",
           "dash": "dot",
           "width": 1.5
          },
          "type": "line",
          "x0": 0,
          "x1": 1,
          "xref": "x3 domain",
          "y0": 0.06831400841474533,
          "y1": 0.06831400841474533,
          "yref": "y3"
         },
         {
          "layer": "below",
          "line": {
           "color": "#371ea3",
           "dash": "dot",
           "width": 1.5
          },
          "type": "line",
          "x0": 0,
          "x1": 1,
          "xref": "x4 domain",
          "y0": 0.06831400841474533,
          "y1": 0.06831400841474533,
          "yref": "y4"
         }
        ],
        "template": {
         "data": {
          "scatter": [
           {
            "type": "scatter"
           }
          ]
         }
        },
        "title": {
         "font": {
          "size": 16
         },
         "text": "Aggregated Profiles",
         "x": 0.15
        },
        "xaxis": {
         "anchor": "y",
         "automargin": true,
         "domain": [
          0,
          0.475
         ],
         "fixedrange": true,
         "gridwidth": 2,
         "showticklabels": true,
         "tickcolor": "white",
         "ticklen": 10,
         "ticks": "outside",
         "title": {
          "text": ""
         },
         "type": "category"
        },
        "xaxis2": {
         "anchor": "y2",
         "automargin": true,
         "domain": [
          0.525,
          1
         ],
         "fixedrange": true,
         "gridwidth": 2,
         "showticklabels": true,
         "tickcolor": "white",
         "ticklen": 10,
         "ticks": "outside",
         "title": {
          "text": ""
         },
         "type": "category"
        },
        "xaxis3": {
         "anchor": "y3",
         "automargin": true,
         "domain": [
          0,
          0.475
         ],
         "fixedrange": true,
         "gridwidth": 2,
         "showticklabels": true,
         "tickcolor": "white",
         "ticklen": 10,
         "ticks": "outside",
         "title": {
          "text": ""
         },
         "type": "category"
        },
        "xaxis4": {
         "anchor": "y4",
         "automargin": true,
         "domain": [
          0.525,
          1
         ],
         "fixedrange": true,
         "gridwidth": 2,
         "showticklabels": true,
         "tickcolor": "white",
         "ticklen": 10,
         "ticks": "outside",
         "title": {
          "text": ""
         },
         "type": "category"
        },
        "yaxis": {
         "anchor": "x",
         "automargin": true,
         "domain": [
          0,
          0.425
         ],
         "fixedrange": true,
         "gridwidth": 2,
         "range": [
          0.055696818977594376,
          0.11288513615727425
         ],
         "tickcolor": "white",
         "ticklen": 3,
         "ticks": "outside",
         "title": {
          "text": ""
         },
         "type": "linear",
         "zeroline": false
        },
        "yaxis2": {
         "anchor": "x2",
         "automargin": true,
         "domain": [
          0,
          0.425
         ],
         "fixedrange": true,
         "gridwidth": 2,
         "matches": "y",
         "range": [
          0.055696818977594376,
          0.11288513615727425
         ],
         "showticklabels": false,
         "tickcolor": "white",
         "ticklen": 3,
         "ticks": "outside",
         "title": {
          "text": ""
         },
         "type": "linear",
         "zeroline": false
        },
        "yaxis3": {
         "anchor": "x3",
         "automargin": true,
         "domain": [
          0.575,
          1
         ],
         "fixedrange": true,
         "gridwidth": 2,
         "matches": "y",
         "range": [
          0.055696818977594376,
          0.11288513615727425
         ],
         "tickcolor": "white",
         "ticklen": 3,
         "ticks": "outside",
         "title": {
          "text": ""
         },
         "type": "linear",
         "zeroline": false
        },
        "yaxis4": {
         "anchor": "x4",
         "automargin": true,
         "domain": [
          0.575,
          1
         ],
         "fixedrange": true,
         "gridwidth": 2,
         "matches": "y",
         "range": [
          0.055696818977594376,
          0.11288513615727425
         ],
         "showticklabels": false,
         "tickcolor": "white",
         "ticklen": 3,
         "ticks": "outside",
         "title": {
          "text": ""
         },
         "type": "linear",
         "zeroline": false
        }
       }
      }
     },
     "metadata": {},
     "output_type": "display_data"
    }
   ],
   "source": [
    "# Interpretation\n",
    "import numpy as np\n",
    "from sklearn.metrics import log_loss\n",
    "import dalex as dx\n",
    "\n",
    "# Set up explainer\n",
    "def pred_fun(m, X):\n",
    "    return m.predict(dict_provider(X), batch_size=1000).flatten()\n",
    "\n",
    "exp = dx.Explainer(\n",
    "    model, \n",
    "    data=df_valid[dense_features + [\"veh_body\"]], \n",
    "    y=y_valid, \n",
    "    predict_function=pred_fun, \n",
    "    verbose=False\n",
    ")\n",
    "\n",
    "# Performance on validation data\n",
    "valid_loss = log_loss(y_valid, exp.predict(df_valid))\n",
    "valid_loss0 = log_loss(y_valid, np.repeat(y_train.mean(), len(y_valid)))\n",
    "rel_imp = (valid_loss0 - valid_loss) / valid_loss0\n",
    "\n",
    "print(f\"Validation log-loss:              {valid_loss: .3f}\")\n",
    "print(f\"Relative improvement in log-loss: {rel_imp: .3%}\")\n",
    "\n",
    "# Permutation importance\n",
    "vi = exp.model_parts()\n",
    "vi.plot()\n",
    "\n",
    "# Partial dependence\n",
    "pdp_num = exp.model_profile(\n",
    "    type=\"partial\",\n",
    "    label=\"Partial depencence for numeric variables\",\n",
    "    variables=num_features,\n",
    "    verbose=False\n",
    ")\n",
    "pdp_num.plot()\n",
    "\n",
    "pdp_ord = exp.model_profile(\n",
    "    type=\"partial\",\n",
    "    label=\"Partial depencence for ordinal variables\",\n",
    "    variables=ord_features + [\"veh_body\"],\n",
    "    variable_type=\"categorical\",\n",
    "    verbose=False\n",
    ")\n",
    "pdp_ord.plot()"
   ]
  },
  {
   "cell_type": "markdown",
   "metadata": {},
   "source": [
    "# Exercises\n",
    "\n",
    "1. Fit diamond prices by gamma deviance loss with log-link (exponential output activation), using the custom loss function defined below. Tune the model by simple validation and evaluate it (for simplicity) on the validation data. Interpret the final model. (Hints: I used a smaller learning rate and had to replace the \"relu\" activations by \"tanh\". Furthermore, the response needed to be transformed from int to float32).\n",
    "```\n",
    "import keras.backend as K\n",
    "\n",
    "def loss_gamma(y_true, y_pred):\n",
    "  return -K.log(y_true / y_pred) + y_true / y_pred\n",
    "```\n",
    "2. Study either the optional claims data example or build your own neural net, predicting claim yes/no. For simplicity, you can represent the categorical feature `veh_body` by integers.\n",
    "\n",
    "# Neural Network Slang\n",
    "\n",
    "Here, we summarize some of the neural network slang.\n",
    "\n",
    "- Activation function: The transformation applied to the node values.\n",
    "- Architecture: The layout of layers and nodes.\n",
    "- Backpropagation: An efficient way to calculate gradients.\n",
    "- Batch: A couple of data rows used for one mini-batch gradient descent step.\n",
    "- Callback: An action during training (save weights, reduce learning rate, stop training, ...).\n",
    "- Epoch: The process of updating the network weights by gradient descent until each observation in the training set was used once.\n",
    "- Embedding: A numeric representation of categorical input as learned by the neural net.\n",
    "- Encoding: The values of latent variables of a hidden layer, usually the last.\n",
    "- Gradient descent: The basic optimization algorithm of neural networks.\n",
    "- Keras: User-friendly wrapper of TensorFlow.\n",
    "- Layer: Main organizational unit of a neural network.\n",
    "- Learning rate: Controls the step size of gradient descent, i.e., how aggressive the network learns.\n",
    "- Node: Nodes on the input layer are the covariates, nodes on the output layer the response(s) and nodes on a hidden layer are latent variables representing the covariates for the task to predict the response.\n",
    "- Optimizer: The specific variant of gradient descent.\n",
    "- PyTorch: An important implementation of neural networks.\n",
    "- Stochastic gradient descent (SGD): Mini-batch gradient descent with batches of size 1.\n",
    "- TensorFlow: An important implementation of neural networks.\n",
    "- Weights: The parameters of a neural net.\n",
    "\n",
    "# Chapter Summary\n",
    "\n",
    "In this chapter, we have glimpsed into the world of neural networks. Step by step we have learned how a neural network works. We have used Keras and TensorFlow to build models brick by brick.\n",
    "\n",
    "# Closing Remarks\n",
    "\n",
    "During this lecture, we have met many ML algorithms and principles. To get used to them, the best approach is practicing. [Kaggle](kaggle.com) is a great place to do so and learn from the best. \n",
    "\n",
    "A summary and comparison of the algorithms can be found on [github](https://github.com/mayer79/ML_Algorithm_Comparison). Here a screenshot as per Sept. 7, 2020: \n",
    "![](../figs/comparison_ML.PNG).\n",
    "\n",
    "# Chapter References\n",
    "\n",
    "[1] P.J. Werbos, \"Beyond Regression: New Tools for Prediction and Analysis in the Behavioral Sciences\", Dissertation, 1974.\n"
   ]
  }
 ],
 "metadata": {
  "interpreter": {
   "hash": "813f6c4cc22c03b594219174db46929469d46b04ef4db7b355912617e499b8c1"
  },
  "kernelspec": {
   "display_name": "Python 3.8.11 64-bit ('ml_lecture': conda)",
   "name": "python3"
  },
  "language_info": {
   "codemirror_mode": {
    "name": "ipython",
    "version": 3
   },
   "file_extension": ".py",
   "mimetype": "text/x-python",
   "name": "python",
   "nbconvert_exporter": "python",
   "pygments_lexer": "ipython3",
   "version": "3.8.11"
  },
  "orig_nbformat": 4
 },
 "nbformat": 4,
 "nbformat_minor": 2
}
