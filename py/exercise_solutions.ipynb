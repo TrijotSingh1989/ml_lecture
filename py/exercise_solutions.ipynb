{
 "cells": [
  {
   "cell_type": "markdown",
   "metadata": {},
   "source": [
    "# Chapter 1: Basics and Linear Models\n",
    "\n",
    "## Exercise on linear regression"
   ]
  },
  {
   "cell_type": "code",
   "execution_count": 1,
   "metadata": {},
   "outputs": [
    {
     "name": "stdout",
     "output_type": "stream",
     "text": [
      "RMSE: 1156.648\n",
      "R-squared: 91.59%\n",
      "Intercept -7362.802156301801\n"
     ]
    },
    {
     "data": {
      "text/html": [
       "<div>\n",
       "<style scoped>\n",
       "    .dataframe tbody tr th:only-of-type {\n",
       "        vertical-align: middle;\n",
       "    }\n",
       "\n",
       "    .dataframe tbody tr th {\n",
       "        vertical-align: top;\n",
       "    }\n",
       "\n",
       "    .dataframe thead th {\n",
       "        text-align: right;\n",
       "    }\n",
       "</style>\n",
       "<table border=\"1\" class=\"dataframe\">\n",
       "  <thead>\n",
       "    <tr style=\"text-align: right;\">\n",
       "      <th></th>\n",
       "      <th>Estimates</th>\n",
       "    </tr>\n",
       "  </thead>\n",
       "  <tbody>\n",
       "    <tr>\n",
       "      <th>carat</th>\n",
       "      <td>8886.128883</td>\n",
       "    </tr>\n",
       "    <tr>\n",
       "      <th>color_E</th>\n",
       "      <td>-211.682481</td>\n",
       "    </tr>\n",
       "    <tr>\n",
       "      <th>color_F</th>\n",
       "      <td>-303.310033</td>\n",
       "    </tr>\n",
       "    <tr>\n",
       "      <th>color_G</th>\n",
       "      <td>-506.199536</td>\n",
       "    </tr>\n",
       "    <tr>\n",
       "      <th>color_H</th>\n",
       "      <td>-978.697665</td>\n",
       "    </tr>\n",
       "    <tr>\n",
       "      <th>color_I</th>\n",
       "      <td>-1440.301902</td>\n",
       "    </tr>\n",
       "    <tr>\n",
       "      <th>color_J</th>\n",
       "      <td>-2325.222360</td>\n",
       "    </tr>\n",
       "    <tr>\n",
       "      <th>cut_Good</th>\n",
       "      <td>655.767448</td>\n",
       "    </tr>\n",
       "    <tr>\n",
       "      <th>cut_Very Good</th>\n",
       "      <td>848.716878</td>\n",
       "    </tr>\n",
       "    <tr>\n",
       "      <th>cut_Premium</th>\n",
       "      <td>869.395903</td>\n",
       "    </tr>\n",
       "    <tr>\n",
       "      <th>cut_Ideal</th>\n",
       "      <td>998.254438</td>\n",
       "    </tr>\n",
       "    <tr>\n",
       "      <th>clarity_SI2</th>\n",
       "      <td>2625.949987</td>\n",
       "    </tr>\n",
       "    <tr>\n",
       "      <th>clarity_SI1</th>\n",
       "      <td>3573.687987</td>\n",
       "    </tr>\n",
       "    <tr>\n",
       "      <th>clarity_VS2</th>\n",
       "      <td>4217.829102</td>\n",
       "    </tr>\n",
       "    <tr>\n",
       "      <th>clarity_VS1</th>\n",
       "      <td>4534.878970</td>\n",
       "    </tr>\n",
       "    <tr>\n",
       "      <th>clarity_VVS2</th>\n",
       "      <td>4967.199410</td>\n",
       "    </tr>\n",
       "    <tr>\n",
       "      <th>clarity_VVS1</th>\n",
       "      <td>5072.027645</td>\n",
       "    </tr>\n",
       "    <tr>\n",
       "      <th>clarity_IF</th>\n",
       "      <td>5419.646845</td>\n",
       "    </tr>\n",
       "  </tbody>\n",
       "</table>\n",
       "</div>"
      ],
      "text/plain": [
       "                 Estimates\n",
       "carat          8886.128883\n",
       "color_E        -211.682481\n",
       "color_F        -303.310033\n",
       "color_G        -506.199536\n",
       "color_H        -978.697665\n",
       "color_I       -1440.301902\n",
       "color_J       -2325.222360\n",
       "cut_Good        655.767448\n",
       "cut_Very Good   848.716878\n",
       "cut_Premium     869.395903\n",
       "cut_Ideal       998.254438\n",
       "clarity_SI2    2625.949987\n",
       "clarity_SI1    3573.687987\n",
       "clarity_VS2    4217.829102\n",
       "clarity_VS1    4534.878970\n",
       "clarity_VVS2   4967.199410\n",
       "clarity_VVS1   5072.027645\n",
       "clarity_IF     5419.646845"
      ]
     },
     "execution_count": 1,
     "metadata": {},
     "output_type": "execute_result"
    }
   ],
   "source": [
    "# Via scikit-learn\n",
    "from plotnine.data import diamonds\n",
    "import pandas as pd\n",
    "from sklearn.linear_model import LinearRegression\n",
    "from sklearn.preprocessing import OneHotEncoder\n",
    "from sklearn.compose import ColumnTransformer\n",
    "from sklearn.pipeline import make_pipeline\n",
    "from sklearn.metrics import mean_squared_error as mse\n",
    "\n",
    "y = diamonds[\"price\"]\n",
    "cat_vars = [\"color\", \"cut\", \"clarity\"]\n",
    "lvl = [diamonds[x].cat.categories.to_numpy() for x in cat_vars]\n",
    "\n",
    "model = make_pipeline(\n",
    "    ColumnTransformer(\n",
    "        transformers=[\n",
    "            (\"linear\", \"passthrough\", [\"carat\"]),\n",
    "            (\"dummies\", OneHotEncoder(categories=lvl, drop=\"first\"), cat_vars)\n",
    "        ],\n",
    "        verbose_feature_names_out=False\n",
    "    ),\n",
    "    LinearRegression()\n",
    ")\n",
    "model.fit(diamonds, y)\n",
    "\n",
    "print(f\"RMSE: {mse(y, model.predict(diamonds), squared=False):.3f}\")\n",
    "print(f\"R-squared: {model.score(diamonds, y):.2%}\")\n",
    "print(\"Intercept\", model[-1].intercept_)\n",
    "\n",
    "results = pd.DataFrame(\n",
    "    model[-1].coef_,\n",
    "    columns=[\"Estimates\"],\n",
    "    index=model[:-1].get_feature_names_out()\n",
    ")\n",
    "results"
   ]
  },
  {
   "cell_type": "code",
   "execution_count": 2,
   "metadata": {},
   "outputs": [
    {
     "data": {
      "text/html": [
       "<table class=\"simpletable\">\n",
       "<caption>OLS Regression Results</caption>\n",
       "<tr>\n",
       "  <th>Dep. Variable:</th>          <td>price</td>      <th>  R-squared:         </th>  <td>   0.916</td>  \n",
       "</tr>\n",
       "<tr>\n",
       "  <th>Model:</th>                   <td>OLS</td>       <th>  Adj. R-squared:    </th>  <td>   0.916</td>  \n",
       "</tr>\n",
       "<tr>\n",
       "  <th>Method:</th>             <td>Least Squares</td>  <th>  F-statistic:       </th>  <td>3.264e+04</td> \n",
       "</tr>\n",
       "<tr>\n",
       "  <th>Date:</th>             <td>Sat, 30 Oct 2021</td> <th>  Prob (F-statistic):</th>   <td>  0.00</td>   \n",
       "</tr>\n",
       "<tr>\n",
       "  <th>Time:</th>                 <td>17:34:22</td>     <th>  Log-Likelihood:    </th> <td>-4.5699e+05</td>\n",
       "</tr>\n",
       "<tr>\n",
       "  <th>No. Observations:</th>      <td> 53940</td>      <th>  AIC:               </th>  <td>9.140e+05</td> \n",
       "</tr>\n",
       "<tr>\n",
       "  <th>Df Residuals:</th>          <td> 53921</td>      <th>  BIC:               </th>  <td>9.142e+05</td> \n",
       "</tr>\n",
       "<tr>\n",
       "  <th>Df Model:</th>              <td>    18</td>      <th>                     </th>      <td> </td>     \n",
       "</tr>\n",
       "<tr>\n",
       "  <th>Covariance Type:</th>      <td>nonrobust</td>    <th>                     </th>      <td> </td>     \n",
       "</tr>\n",
       "</table>\n",
       "<table class=\"simpletable\">\n",
       "<tr>\n",
       "          <td></td>            <th>coef</th>     <th>std err</th>      <th>t</th>      <th>P>|t|</th>  <th>[0.025</th>    <th>0.975]</th>  \n",
       "</tr>\n",
       "<tr>\n",
       "  <th>Intercept</th>        <td>-7362.8022</td> <td>   51.684</td> <td> -142.458</td> <td> 0.000</td> <td>-7464.103</td> <td>-7261.501</td>\n",
       "</tr>\n",
       "<tr>\n",
       "  <th>color[T.E]</th>       <td> -211.6825</td> <td>   18.316</td> <td>  -11.557</td> <td> 0.000</td> <td> -247.582</td> <td> -175.783</td>\n",
       "</tr>\n",
       "<tr>\n",
       "  <th>color[T.F]</th>       <td> -303.3100</td> <td>   18.509</td> <td>  -16.387</td> <td> 0.000</td> <td> -339.589</td> <td> -267.031</td>\n",
       "</tr>\n",
       "<tr>\n",
       "  <th>color[T.G]</th>       <td> -506.1995</td> <td>   18.122</td> <td>  -27.933</td> <td> 0.000</td> <td> -541.719</td> <td> -470.680</td>\n",
       "</tr>\n",
       "<tr>\n",
       "  <th>color[T.H]</th>       <td> -978.6977</td> <td>   19.272</td> <td>  -50.784</td> <td> 0.000</td> <td>-1016.471</td> <td> -940.925</td>\n",
       "</tr>\n",
       "<tr>\n",
       "  <th>color[T.I]</th>       <td>-1440.3019</td> <td>   21.646</td> <td>  -66.538</td> <td> 0.000</td> <td>-1482.729</td> <td>-1397.875</td>\n",
       "</tr>\n",
       "<tr>\n",
       "  <th>color[T.J]</th>       <td>-2325.2224</td> <td>   26.723</td> <td>  -87.013</td> <td> 0.000</td> <td>-2377.599</td> <td>-2272.846</td>\n",
       "</tr>\n",
       "<tr>\n",
       "  <th>cut[T.Good]</th>      <td>  655.7674</td> <td>   33.634</td> <td>   19.497</td> <td> 0.000</td> <td>  589.844</td> <td>  721.690</td>\n",
       "</tr>\n",
       "<tr>\n",
       "  <th>cut[T.Very Good]</th> <td>  848.7169</td> <td>   31.277</td> <td>   27.135</td> <td> 0.000</td> <td>  787.414</td> <td>  910.020</td>\n",
       "</tr>\n",
       "<tr>\n",
       "  <th>cut[T.Premium]</th>   <td>  869.3959</td> <td>   30.931</td> <td>   28.108</td> <td> 0.000</td> <td>  808.771</td> <td>  930.021</td>\n",
       "</tr>\n",
       "<tr>\n",
       "  <th>cut[T.Ideal]</th>     <td>  998.2544</td> <td>   30.656</td> <td>   32.563</td> <td> 0.000</td> <td>  938.168</td> <td> 1058.341</td>\n",
       "</tr>\n",
       "<tr>\n",
       "  <th>clarity[T.SI2]</th>   <td> 2625.9500</td> <td>   44.788</td> <td>   58.630</td> <td> 0.000</td> <td> 2538.164</td> <td> 2713.736</td>\n",
       "</tr>\n",
       "<tr>\n",
       "  <th>clarity[T.SI1]</th>   <td> 3573.6880</td> <td>   44.598</td> <td>   80.132</td> <td> 0.000</td> <td> 3486.276</td> <td> 3661.100</td>\n",
       "</tr>\n",
       "<tr>\n",
       "  <th>clarity[T.VS2]</th>   <td> 4217.8291</td> <td>   44.841</td> <td>   94.061</td> <td> 0.000</td> <td> 4129.940</td> <td> 4305.719</td>\n",
       "</tr>\n",
       "<tr>\n",
       "  <th>clarity[T.VS1]</th>   <td> 4534.8790</td> <td>   45.535</td> <td>   99.591</td> <td> 0.000</td> <td> 4445.630</td> <td> 4624.128</td>\n",
       "</tr>\n",
       "<tr>\n",
       "  <th>clarity[T.VVS2]</th>  <td> 4967.1994</td> <td>   46.891</td> <td>  105.932</td> <td> 0.000</td> <td> 4875.293</td> <td> 5059.105</td>\n",
       "</tr>\n",
       "<tr>\n",
       "  <th>clarity[T.VVS1]</th>  <td> 5072.0276</td> <td>   48.211</td> <td>  105.205</td> <td> 0.000</td> <td> 4977.534</td> <td> 5166.521</td>\n",
       "</tr>\n",
       "<tr>\n",
       "  <th>clarity[T.IF]</th>    <td> 5419.6468</td> <td>   52.136</td> <td>  103.952</td> <td> 0.000</td> <td> 5317.460</td> <td> 5521.834</td>\n",
       "</tr>\n",
       "<tr>\n",
       "  <th>carat</th>            <td> 8886.1289</td> <td>   12.034</td> <td>  738.437</td> <td> 0.000</td> <td> 8862.543</td> <td> 8909.715</td>\n",
       "</tr>\n",
       "</table>\n",
       "<table class=\"simpletable\">\n",
       "<tr>\n",
       "  <th>Omnibus:</th>       <td>15285.474</td> <th>  Durbin-Watson:     </th>  <td>   0.907</td> \n",
       "</tr>\n",
       "<tr>\n",
       "  <th>Prob(Omnibus):</th>  <td> 0.000</td>   <th>  Jarque-Bera (JB):  </th> <td>183262.957</td>\n",
       "</tr>\n",
       "<tr>\n",
       "  <th>Skew:</th>           <td> 1.022</td>   <th>  Prob(JB):          </th>  <td>    0.00</td> \n",
       "</tr>\n",
       "<tr>\n",
       "  <th>Kurtosis:</th>       <td>11.796</td>   <th>  Cond. No.          </th>  <td>    37.8</td> \n",
       "</tr>\n",
       "</table><br/><br/>Notes:<br/>[1] Standard Errors assume that the covariance matrix of the errors is correctly specified."
      ],
      "text/plain": [
       "<class 'statsmodels.iolib.summary.Summary'>\n",
       "\"\"\"\n",
       "                            OLS Regression Results                            \n",
       "==============================================================================\n",
       "Dep. Variable:                  price   R-squared:                       0.916\n",
       "Model:                            OLS   Adj. R-squared:                  0.916\n",
       "Method:                 Least Squares   F-statistic:                 3.264e+04\n",
       "Date:                Sat, 30 Oct 2021   Prob (F-statistic):               0.00\n",
       "Time:                        17:34:22   Log-Likelihood:            -4.5699e+05\n",
       "No. Observations:               53940   AIC:                         9.140e+05\n",
       "Df Residuals:                   53921   BIC:                         9.142e+05\n",
       "Df Model:                          18                                         \n",
       "Covariance Type:            nonrobust                                         \n",
       "====================================================================================\n",
       "                       coef    std err          t      P>|t|      [0.025      0.975]\n",
       "------------------------------------------------------------------------------------\n",
       "Intercept        -7362.8022     51.684   -142.458      0.000   -7464.103   -7261.501\n",
       "color[T.E]        -211.6825     18.316    -11.557      0.000    -247.582    -175.783\n",
       "color[T.F]        -303.3100     18.509    -16.387      0.000    -339.589    -267.031\n",
       "color[T.G]        -506.1995     18.122    -27.933      0.000    -541.719    -470.680\n",
       "color[T.H]        -978.6977     19.272    -50.784      0.000   -1016.471    -940.925\n",
       "color[T.I]       -1440.3019     21.646    -66.538      0.000   -1482.729   -1397.875\n",
       "color[T.J]       -2325.2224     26.723    -87.013      0.000   -2377.599   -2272.846\n",
       "cut[T.Good]        655.7674     33.634     19.497      0.000     589.844     721.690\n",
       "cut[T.Very Good]   848.7169     31.277     27.135      0.000     787.414     910.020\n",
       "cut[T.Premium]     869.3959     30.931     28.108      0.000     808.771     930.021\n",
       "cut[T.Ideal]       998.2544     30.656     32.563      0.000     938.168    1058.341\n",
       "clarity[T.SI2]    2625.9500     44.788     58.630      0.000    2538.164    2713.736\n",
       "clarity[T.SI1]    3573.6880     44.598     80.132      0.000    3486.276    3661.100\n",
       "clarity[T.VS2]    4217.8291     44.841     94.061      0.000    4129.940    4305.719\n",
       "clarity[T.VS1]    4534.8790     45.535     99.591      0.000    4445.630    4624.128\n",
       "clarity[T.VVS2]   4967.1994     46.891    105.932      0.000    4875.293    5059.105\n",
       "clarity[T.VVS1]   5072.0276     48.211    105.205      0.000    4977.534    5166.521\n",
       "clarity[T.IF]     5419.6468     52.136    103.952      0.000    5317.460    5521.834\n",
       "carat             8886.1289     12.034    738.437      0.000    8862.543    8909.715\n",
       "==============================================================================\n",
       "Omnibus:                    15285.474   Durbin-Watson:                   0.907\n",
       "Prob(Omnibus):                  0.000   Jarque-Bera (JB):           183262.957\n",
       "Skew:                           1.022   Prob(JB):                         0.00\n",
       "Kurtosis:                      11.796   Cond. No.                         37.8\n",
       "==============================================================================\n",
       "\n",
       "Notes:\n",
       "[1] Standard Errors assume that the covariance matrix of the errors is correctly specified.\n",
       "\"\"\""
      ]
     },
     "execution_count": 2,
     "metadata": {},
     "output_type": "execute_result"
    }
   ],
   "source": [
    "# Via statsmodels\n",
    "from plotnine.data import diamonds\n",
    "from statsmodels.formula.api import ols\n",
    "\n",
    "model2 = ols(\"price ~ carat + color + cut + clarity\", data=diamonds).fit()\n",
    "model2.summary()"
   ]
  },
  {
   "cell_type": "markdown",
   "metadata": {},
   "source": [
    "**Comments**\n",
    "\n",
    "- **Model quality:** About 92% of price variations are explained by covariates. Typical prediction error is 1157 USD.\n",
    "- **Effects:** All effects point into the intuitively right direction (larger stones are more expensive, worse color are less expensive etc.)\n",
    "- **Practical perspective:** Additivity in color, cut and clarity are not making sense. Their effects should get larger with larger diamond size. This can be solved by adding interaction terms with carat or, much easier, to switch to a logarithmic response.\n",
    "\n",
    "## Exercise on GLMs"
   ]
  },
  {
   "cell_type": "code",
   "execution_count": 3,
   "metadata": {},
   "outputs": [
    {
     "name": "stdout",
     "output_type": "stream",
     "text": [
      "                 Generalized Linear Model Regression Results                  \n",
      "==============================================================================\n",
      "Dep. Variable:                  price   No. Observations:                53940\n",
      "Model:                            GLM   Df Residuals:                    53921\n",
      "Model Family:                   Gamma   Df Model:                           18\n",
      "Link Function:                    log   Scale:                        0.019471\n",
      "Method:                          IRLS   Log-Likelihood:            -3.8857e+05\n",
      "Date:                Sat, 30 Oct 2021   Deviance:                       978.68\n",
      "Time:                        17:34:24   Pearson chi2:                 1.05e+03\n",
      "No. Iterations:                    12   Pseudo R-squ. (CS):              1.000\n",
      "Covariance Type:            nonrobust                                         \n",
      "====================================================================================\n",
      "                       coef    std err          z      P>|z|      [0.025      0.975]\n",
      "------------------------------------------------------------------------------------\n",
      "Intercept            7.8933      0.006   1314.392      0.000       7.881       7.905\n",
      "color[T.E]          -0.0563      0.002    -25.481      0.000      -0.061      -0.052\n",
      "color[T.F]          -0.0964      0.002    -43.137      0.000      -0.101      -0.092\n",
      "color[T.G]          -0.1635      0.002    -74.787      0.000      -0.168      -0.159\n",
      "color[T.H]          -0.2535      0.002   -109.255      0.000      -0.258      -0.249\n",
      "color[T.I]          -0.3743      0.003   -144.011      0.000      -0.379      -0.369\n",
      "color[T.J]          -0.5111      0.003   -159.433      0.000      -0.517      -0.505\n",
      "cut[T.Good]          0.0717      0.004     17.667      0.000       0.064       0.080\n",
      "cut[T.Very Good]     0.1083      0.004     28.692      0.000       0.101       0.116\n",
      "cut[T.Premium]       0.1324      0.004     35.485      0.000       0.125       0.140\n",
      "cut[T.Ideal]         0.1532      0.004     41.398      0.000       0.146       0.160\n",
      "clarity[T.SI2]       0.4102      0.005     75.974      0.000       0.400       0.421\n",
      "clarity[T.SI1]       0.5727      0.005    106.666      0.000       0.562       0.583\n",
      "clarity[T.VS2]       0.7228      0.005    133.859      0.000       0.712       0.733\n",
      "clarity[T.VS1]       0.7924      0.005    144.536      0.000       0.782       0.803\n",
      "clarity[T.VVS2]      0.9307      0.006    164.714      0.000       0.920       0.942\n",
      "clarity[T.VVS1]      1.0017      0.006    172.286      0.000       0.990       1.013\n",
      "clarity[T.IF]        1.0982      0.006    174.625      0.000       1.086       1.110\n",
      "np.log(carat)        1.8816      0.001   1598.304      0.000       1.879       1.884\n",
      "====================================================================================\n",
      "Relative bias on USD scale: 0.336%\n"
     ]
    }
   ],
   "source": [
    "# Via statsmodels\n",
    "from plotnine.data import diamonds\n",
    "import numpy as np\n",
    "import statsmodels.api as sm\n",
    "import statsmodels.formula.api as smf\n",
    "\n",
    "formula = \"price ~ np.log(carat) + color + cut + clarity\"\n",
    "family = sm.families.Gamma(sm.families.links.log())\n",
    "model = smf.glm(formula=formula, data=diamonds, family=family).fit()\n",
    "print(model.summary())\n",
    "\n",
    "bias = diamonds[\"price\"].mean() / model.predict(diamonds).mean() - 1\n",
    "print(f\"Relative bias on USD scale: {bias:.3%}\")"
   ]
  },
  {
   "cell_type": "code",
   "execution_count": 4,
   "metadata": {},
   "outputs": [
    {
     "name": "stdout",
     "output_type": "stream",
     "text": [
      "Percent deviance explained: 98.15%\n",
      "Relative bias on USD scale: 0.336%\n",
      "Intercept 7.893246729902202\n"
     ]
    },
    {
     "data": {
      "text/html": [
       "<div>\n",
       "<style scoped>\n",
       "    .dataframe tbody tr th:only-of-type {\n",
       "        vertical-align: middle;\n",
       "    }\n",
       "\n",
       "    .dataframe tbody tr th {\n",
       "        vertical-align: top;\n",
       "    }\n",
       "\n",
       "    .dataframe thead th {\n",
       "        text-align: right;\n",
       "    }\n",
       "</style>\n",
       "<table border=\"1\" class=\"dataframe\">\n",
       "  <thead>\n",
       "    <tr style=\"text-align: right;\">\n",
       "      <th></th>\n",
       "      <th>Estimates</th>\n",
       "    </tr>\n",
       "  </thead>\n",
       "  <tbody>\n",
       "    <tr>\n",
       "      <th>log_carat</th>\n",
       "      <td>1.881551</td>\n",
       "    </tr>\n",
       "    <tr>\n",
       "      <th>color_E</th>\n",
       "      <td>-0.056288</td>\n",
       "    </tr>\n",
       "    <tr>\n",
       "      <th>color_F</th>\n",
       "      <td>-0.096361</td>\n",
       "    </tr>\n",
       "    <tr>\n",
       "      <th>color_G</th>\n",
       "      <td>-0.163522</td>\n",
       "    </tr>\n",
       "    <tr>\n",
       "      <th>color_H</th>\n",
       "      <td>-0.253494</td>\n",
       "    </tr>\n",
       "    <tr>\n",
       "      <th>color_I</th>\n",
       "      <td>-0.374268</td>\n",
       "    </tr>\n",
       "    <tr>\n",
       "      <th>color_J</th>\n",
       "      <td>-0.511086</td>\n",
       "    </tr>\n",
       "    <tr>\n",
       "      <th>cut_Good</th>\n",
       "      <td>0.071694</td>\n",
       "    </tr>\n",
       "    <tr>\n",
       "      <th>cut_Very Good</th>\n",
       "      <td>0.108288</td>\n",
       "    </tr>\n",
       "    <tr>\n",
       "      <th>cut_Premium</th>\n",
       "      <td>0.132444</td>\n",
       "    </tr>\n",
       "    <tr>\n",
       "      <th>cut_Ideal</th>\n",
       "      <td>0.153188</td>\n",
       "    </tr>\n",
       "    <tr>\n",
       "      <th>clarity_SI2</th>\n",
       "      <td>0.410239</td>\n",
       "    </tr>\n",
       "    <tr>\n",
       "      <th>clarity_SI1</th>\n",
       "      <td>0.572732</td>\n",
       "    </tr>\n",
       "    <tr>\n",
       "      <th>clarity_VS2</th>\n",
       "      <td>0.722770</td>\n",
       "    </tr>\n",
       "    <tr>\n",
       "      <th>clarity_VS1</th>\n",
       "      <td>0.792350</td>\n",
       "    </tr>\n",
       "    <tr>\n",
       "      <th>clarity_VVS2</th>\n",
       "      <td>0.930728</td>\n",
       "    </tr>\n",
       "    <tr>\n",
       "      <th>clarity_VVS1</th>\n",
       "      <td>1.001679</td>\n",
       "    </tr>\n",
       "    <tr>\n",
       "      <th>clarity_IF</th>\n",
       "      <td>1.098153</td>\n",
       "    </tr>\n",
       "  </tbody>\n",
       "</table>\n",
       "</div>"
      ],
      "text/plain": [
       "               Estimates\n",
       "log_carat       1.881551\n",
       "color_E        -0.056288\n",
       "color_F        -0.096361\n",
       "color_G        -0.163522\n",
       "color_H        -0.253494\n",
       "color_I        -0.374268\n",
       "color_J        -0.511086\n",
       "cut_Good        0.071694\n",
       "cut_Very Good   0.108288\n",
       "cut_Premium     0.132444\n",
       "cut_Ideal       0.153188\n",
       "clarity_SI2     0.410239\n",
       "clarity_SI1     0.572732\n",
       "clarity_VS2     0.722770\n",
       "clarity_VS1     0.792350\n",
       "clarity_VVS2    0.930728\n",
       "clarity_VVS1    1.001679\n",
       "clarity_IF      1.098153"
      ]
     },
     "execution_count": 4,
     "metadata": {},
     "output_type": "execute_result"
    }
   ],
   "source": [
    "# Via scikit-learn\n",
    "from plotnine.data import diamonds\n",
    "import numpy as np\n",
    "import pandas as pd\n",
    "from sklearn.linear_model import GammaRegressor\n",
    "from sklearn.preprocessing import OneHotEncoder\n",
    "from sklearn.compose import ColumnTransformer\n",
    "from sklearn.pipeline import make_pipeline\n",
    "\n",
    "cat_vars = [\"color\", \"cut\", \"clarity\"]\n",
    "lvl = [diamonds[x].cat.categories.to_numpy() for x in cat_vars]\n",
    "\n",
    "y = diamonds[\"price\"]\n",
    "\n",
    "# Define log_carat outside pipeline as it is tricky to track feature names\n",
    "diamonds[\"log_carat\"] = np.log(diamonds[\"carat\"])\n",
    "\n",
    "# Define and fit model pipeline. Note: GammaRegressor directly uses log-link\n",
    "model2 = make_pipeline(\n",
    "    ColumnTransformer(\n",
    "        transformers=[\n",
    "            (\"linear\", \"passthrough\", [\"log_carat\"]),\n",
    "            (\"dummies\", OneHotEncoder(categories=lvl, drop=\"first\"), cat_vars)\n",
    "        ],\n",
    "        verbose_feature_names_out=False\n",
    "    ),\n",
    "    GammaRegressor(alpha=0, max_iter=10_000, tol=1e-6)\n",
    ")\n",
    "model2.fit(diamonds, y)\n",
    "\n",
    "# Performance\n",
    "d2 = model2.score(diamonds, y)\n",
    "print(f\"Percent deviance explained: {d2:.2%}\")\n",
    "\n",
    "# Relative bias\n",
    "bias2 = y.mean() / model2.predict(diamonds).mean() - 1\n",
    "print(f\"Relative bias on USD scale: {bias2:.3%}\")\n",
    "\n",
    "# Fitted coefficients\n",
    "print(\"Intercept\", model2[-1].intercept_)\n",
    "results = pd.DataFrame(\n",
    "    model2[-1].coef_,\n",
    "    columns=[\"Estimates\"],\n",
    "    index=model2[:-1].get_feature_names_out()\n",
    ")\n",
    "results"
   ]
  },
  {
   "cell_type": "markdown",
   "metadata": {},
   "source": [
    "**Comment:** The coefficients are very similar to the linear regression with log(price) as response. This makes sense as we interpret the coefficients in the same way! The bias is only 0.3%, i.e., much smaller than the 3% of the OLS with log(price) as response. Still, because the log is not the natural link of the Gamma regression, the bias is not exactly 0.\n",
    "\n",
    "# Chapter 2: Model Selection and Validation\n",
    "\n",
    "## Exercise 1"
   ]
  },
  {
   "cell_type": "code",
   "execution_count": 5,
   "metadata": {},
   "outputs": [
    {
     "name": "stdout",
     "output_type": "stream",
     "text": [
      "Linear regression CV RMSE: 1945.513\n",
      "Best k of k-NN: {'knn__n_neighbors': 6}\n",
      "Its CV-RMSE: 718.314\n",
      "Best model seems 6-NN!\n",
      "Test RMSE of final model: 664.725\n"
     ]
    }
   ],
   "source": [
    "from plotnine.data import diamonds\n",
    "import numpy as np\n",
    "from sklearn.neighbors import KNeighborsRegressor\n",
    "from sklearn.linear_model import LinearRegression\n",
    "from sklearn.compose import ColumnTransformer\n",
    "from sklearn.pipeline import Pipeline, make_pipeline\n",
    "from sklearn.metrics import mean_squared_error as mse\n",
    "from sklearn.preprocessing import (\n",
    "    OneHotEncoder, OrdinalEncoder, StandardScaler, FunctionTransformer\n",
    ")\n",
    "from sklearn.model_selection import (\n",
    "    train_test_split, cross_val_score, KFold, GridSearchCV\n",
    ")\n",
    "\n",
    "ord_vars = [\"color\", \"cut\", \"clarity\"]\n",
    "lvl = [diamonds[x].cat.categories.to_list() for x in ord_vars]\n",
    "\n",
    "dia = diamonds.drop_duplicates([\"price\", \"carat\"] + ord_vars)\n",
    "\n",
    "# Split data into train and test\n",
    "df_train, df_test, y_train, y_test = train_test_split(\n",
    "    dia, dia[\"price\"], test_size=0.1, random_state=49\n",
    ")\n",
    "\n",
    "# Define CV strategy\n",
    "cv = KFold(n_splits=5, shuffle=True, random_state=4432)\n",
    "\n",
    "# Cross-validation performance of linear regression\n",
    "linear_regression = make_pipeline(\n",
    "    ColumnTransformer(\n",
    "        transformers=[\n",
    "            (\"log\", FunctionTransformer(np.log), [\"carat\"]),\n",
    "            (\"dummies\", OneHotEncoder(categories=lvl, drop=\"first\"), ord_vars)\n",
    "        ]\n",
    "    ),\n",
    "    LinearRegression()\n",
    ")\n",
    "results_linear = -cross_val_score(\n",
    "    linear_regression, X=df_train, y=y_train, \n",
    "    scoring=\"neg_root_mean_squared_error\", cv=cv\n",
    ")\n",
    "print(f\"Linear regression CV RMSE: {results_linear.mean():.3f}\")\n",
    "\n",
    "# Cross-validation performance of k-nearest-neighbour for k = 1-20\n",
    "knn_encoder = ColumnTransformer(\n",
    "    transformers=[\n",
    "        (\"linear\", \"passthrough\", [\"carat\"]),\n",
    "        (\"ordered\", OrdinalEncoder(categories=lvl), ord_vars)\n",
    "    ],\n",
    ")\n",
    "knn_regression = Pipeline(\n",
    "    steps=[\n",
    "        (\"encoder\", knn_encoder),\n",
    "        (\"scaler\", StandardScaler()),\n",
    "        (\"knn\", KNeighborsRegressor(n_neighbors=5))\n",
    "    ]\n",
    ")\n",
    "search = GridSearchCV(\n",
    "    knn_regression, \n",
    "    param_grid={\"knn__n_neighbors\": range(1, 21)},\n",
    "    scoring=\"neg_root_mean_squared_error\", \n",
    "    cv=KFold(n_splits=5, shuffle=True, random_state=4302)\n",
    ")\n",
    "# Note: the best model is being refitted on full training data\n",
    "search.fit(X=df_train, y=y_train)\n",
    "print(f\"Best k of k-NN: {search.best_params_}\")\n",
    "print(f\"Its CV-RMSE: {-search.best_score_:.3f}\")\n",
    "print(\"Best model seems 6-NN!\")\n",
    "\n",
    "# The overall best model is 6-nearest-neighbour\n",
    "final_rmse = mse(y_test, search.predict(df_test), squared=False)\n",
    "print(f\"Test RMSE of final model: {final_rmse:.3f}\")"
   ]
  },
  {
   "cell_type": "markdown",
   "metadata": {},
   "source": [
    "**Comments:** The test performance of the best model (6-NN) seems clearly worse than the one without deduplication (~660 USD RMSE vs ~580). Overall, this is probably the more realistic performance than the one obtained from the original data set. Still, as certain rows could be identical by chance, our deduplication approach might be slightly too conservative. The true performance will probably be somewhere between the two approaches.\n",
    "\n",
    "## Exercise 2"
   ]
  },
  {
   "cell_type": "code",
   "execution_count": 6,
   "metadata": {},
   "outputs": [],
   "source": [
    "from plotnine.data import diamonds\n",
    "import numpy as np\n",
    "import pandas as pd\n",
    "from sklearn.linear_model import GammaRegressor\n",
    "from sklearn.preprocessing import (\n",
    "    OneHotEncoder, FunctionTransformer, PolynomialFeatures\n",
    ")\n",
    "from sklearn.compose import ColumnTransformer\n",
    "from sklearn.pipeline import Pipeline\n",
    "from sklearn.model_selection import train_test_split, GridSearchCV, KFold\n",
    "\n",
    "# Split data into train and test\n",
    "df_train, df_test, y_train, y_test = train_test_split(\n",
    "    diamonds, diamonds[\"price\"], test_size=0.1, random_state=49\n",
    ")\n",
    "\n",
    "# Define parametrized end-to-end preprocessor with GLM on top of it\n",
    "cat_vars = [\"color\", \"cut\", \"clarity\"]\n",
    "lvl = [diamonds[x].cat.categories.to_numpy() for x in cat_vars]\n",
    "\n",
    "prep_carat = Pipeline(\n",
    "    steps=[\n",
    "        (\"log\", FunctionTransformer(np.log)),\n",
    "        (\"poly\", PolynomialFeatures(degree=1))\n",
    "    ]\n",
    ")\n",
    "\n",
    "preprocessor = ColumnTransformer(\n",
    "    transformers=[\n",
    "        (\"carat\", prep_carat, [\"carat\"]),\n",
    "        (\"dummies\", OneHotEncoder(categories=lvl, drop=\"first\"), cat_vars)\n",
    "    ]\n",
    ")\n",
    "\n",
    "gamma_regression = Pipeline(\n",
    "    steps=[\n",
    "        (\"preprocessor\", preprocessor),\n",
    "        (\"glm\", GammaRegressor(alpha=0, max_iter=10_000, tol=1e-6))\n",
    "    ]   \n",
    ")"
   ]
  },
  {
   "cell_type": "code",
   "execution_count": 7,
   "metadata": {},
   "outputs": [
    {
     "data": {
      "text/html": [
       "<div>\n",
       "<style scoped>\n",
       "    .dataframe tbody tr th:only-of-type {\n",
       "        vertical-align: middle;\n",
       "    }\n",
       "\n",
       "    .dataframe tbody tr th {\n",
       "        vertical-align: top;\n",
       "    }\n",
       "\n",
       "    .dataframe thead th {\n",
       "        text-align: right;\n",
       "    }\n",
       "</style>\n",
       "<table border=\"1\" class=\"dataframe\">\n",
       "  <thead>\n",
       "    <tr style=\"text-align: right;\">\n",
       "      <th></th>\n",
       "      <th>mean_gamma_deviance</th>\n",
       "    </tr>\n",
       "  </thead>\n",
       "  <tbody>\n",
       "    <tr>\n",
       "      <th>1</th>\n",
       "      <td>0.018230</td>\n",
       "    </tr>\n",
       "    <tr>\n",
       "      <th>2</th>\n",
       "      <td>0.018056</td>\n",
       "    </tr>\n",
       "    <tr>\n",
       "      <th>3</th>\n",
       "      <td>0.016280</td>\n",
       "    </tr>\n",
       "    <tr>\n",
       "      <th>4</th>\n",
       "      <td>0.016277</td>\n",
       "    </tr>\n",
       "    <tr>\n",
       "      <th>5</th>\n",
       "      <td>0.016224</td>\n",
       "    </tr>\n",
       "    <tr>\n",
       "      <th>6</th>\n",
       "      <td>0.016079</td>\n",
       "    </tr>\n",
       "    <tr>\n",
       "      <th>7</th>\n",
       "      <td>0.015997</td>\n",
       "    </tr>\n",
       "    <tr>\n",
       "      <th>8</th>\n",
       "      <td>0.015960</td>\n",
       "    </tr>\n",
       "    <tr>\n",
       "      <th>9</th>\n",
       "      <td>0.015994</td>\n",
       "    </tr>\n",
       "    <tr>\n",
       "      <th>10</th>\n",
       "      <td>0.016165</td>\n",
       "    </tr>\n",
       "  </tbody>\n",
       "</table>\n",
       "</div>"
      ],
      "text/plain": [
       "    mean_gamma_deviance\n",
       "1              0.018230\n",
       "2              0.018056\n",
       "3              0.016280\n",
       "4              0.016277\n",
       "5              0.016224\n",
       "6              0.016079\n",
       "7              0.015997\n",
       "8              0.015960\n",
       "9              0.015994\n",
       "10             0.016165"
      ]
     },
     "execution_count": 7,
     "metadata": {},
     "output_type": "execute_result"
    }
   ],
   "source": [
    "# Grid search for best polynomial degree (takes 1.5 minutes)\n",
    "param_grid = {\n",
    "    \"preprocessor__carat__poly__degree\": range(1, 11)\n",
    "}\n",
    "\n",
    "search = GridSearchCV(\n",
    "    gamma_regression, \n",
    "    param_grid=param_grid,\n",
    "    scoring=\"neg_mean_gamma_deviance\", \n",
    "    cv=KFold(n_splits=5, shuffle=True, random_state=4302)\n",
    ")\n",
    "search.fit(X=df_train, y=y_train)\n",
    "\n",
    "# Organize results\n",
    "results = pd.DataFrame(\n",
    "    -search.cv_results_[\"mean_test_score\"], \n",
    "    index=param_grid[\"preprocessor__carat__poly__degree\"], \n",
    "    columns=[\"mean_gamma_deviance\"]\n",
    ")\n",
    "results"
   ]
  },
  {
   "cell_type": "code",
   "execution_count": 8,
   "metadata": {},
   "outputs": [
    {
     "name": "stdout",
     "output_type": "stream",
     "text": [
      "Mean deviance on the test data: 0.015\n"
     ]
    }
   ],
   "source": [
    "# The model was automatically refitted on the train data with optimal degree:\n",
    "print(f\"Mean deviance on the test data: {-search.score(df_test, y_test):.3f}\")"
   ]
  },
  {
   "cell_type": "markdown",
   "metadata": {},
   "source": [
    "**Comments:** The optimal degree seems to be 8 with a CV deviance of 0.015. The test performance is similar. Caution: Instead of using such high degree polynomial, it is almost always better to use regression splines.\n",
    "\n",
    "## Exercise 3 (optional)\n",
    "\n",
    "Solution not shown here.\n",
    "\n",
    "# Chapter 3: Trees\n",
    "\n",
    "## Exercises on Random Forests\n",
    "\n",
    "### Exercise 1"
   ]
  },
  {
   "cell_type": "code",
   "execution_count": 1,
   "metadata": {},
   "outputs": [
    {
     "name": "stdout",
     "output_type": "stream",
     "text": [
      "OOB R-squared: 98.07%\n",
      "Test RMSE: 554.874\n",
      "Test R-squared: 98.05%\n"
     ]
    }
   ],
   "source": [
    "from plotnine.data import diamonds\n",
    "import numpy as np\n",
    "from sklearn.preprocessing import (\n",
    "    OrdinalEncoder, KBinsDiscretizer, FunctionTransformer\n",
    ")\n",
    "from sklearn.model_selection import train_test_split\n",
    "from sklearn.compose import ColumnTransformer\n",
    "from sklearn.pipeline import make_pipeline\n",
    "from sklearn.ensemble import RandomForestRegressor\n",
    "from sklearn.metrics import mean_squared_error\n",
    "\n",
    "# Stratified train/test split\n",
    "binner = KBinsDiscretizer(n_bins=10, encode=\"ordinal\")\n",
    "y_binned = binner.fit_transform(diamonds[[\"price\"]])\n",
    "\n",
    "df_train, df_test, y_train, y_test = train_test_split(\n",
    "    diamonds, diamonds[\"price\"], \n",
    "    test_size=0.2, random_state=341, stratify=y_binned\n",
    ")\n",
    "\n",
    "# Pipeline with model\n",
    "ord_features = [\"cut\", \"color\", \"clarity\"]\n",
    "ord_levels = [diamonds[x].cat.categories.to_list() for x in ord_features]\n",
    "\n",
    "model = make_pipeline(\n",
    "    ColumnTransformer(\n",
    "        transformers=[\n",
    "            (\"ordinal\", OrdinalEncoder(categories=ord_levels), ord_features),\n",
    "            (\"numeric\", FunctionTransformer(np.log), [\"carat\"])\n",
    "        ]\n",
    "    ),\n",
    "    RandomForestRegressor(\n",
    "        n_estimators=500,\n",
    "        max_features=\"sqrt\",\n",
    "        min_samples_leaf=5,\n",
    "        oob_score=True,\n",
    "        random_state=17,\n",
    "        n_jobs=4\n",
    "    )\n",
    ")\n",
    "model.fit(df_train, y_train)\n",
    "\n",
    "# OOB performance\n",
    "print(f\"OOB R-squared: {model[-1].oob_score_:.2%}\")\n",
    "\n",
    "# Test performance\n",
    "rmse_test = mean_squared_error(y_test, model.predict(df_test), squared=False)\n",
    "print(f\"Test RMSE: {rmse_test:.3f}\")\n",
    "print(f\"Test R-squared: {model.score(df_test, y_test):.2%}\")"
   ]
  },
  {
   "cell_type": "markdown",
   "metadata": {},
   "source": [
    "**Comment:** The results are essentially identical because log is a monotonic trafo. Differences might come from implementation tricks.\n",
    "\n",
    "### Exercise 2"
   ]
  },
  {
   "cell_type": "code",
   "execution_count": 1,
   "metadata": {},
   "outputs": [],
   "source": [
    "import numpy as np\n",
    "import pandas as pd\n",
    "from sklearn.model_selection import train_test_split\n",
    "from sklearn.preprocessing import OrdinalEncoder\n",
    "from sklearn.compose import ColumnTransformer\n",
    "from sklearn.pipeline import Pipeline\n",
    "from sklearn.ensemble import RandomForestClassifier\n",
    "\n",
    "car = pd.read_csv(\"car.csv\")  # see readme how to get the data\n",
    "\n",
    "# Train/test split (stratified split is simple for discrete responses)\n",
    "df_train, df_test, y_train, y_test = train_test_split(\n",
    "    car, car[\"clm\"], test_size=0.2, random_state=5684, stratify=car[\"clm\"]\n",
    ")\n",
    "\n",
    "# Model pipeline. For simplicity, we treat 'veh_body' as ordinal\n",
    "num_vars = [\"veh_value\", \"veh_age\", \"agecat\"]\n",
    "ord_vars = [\"gender\", \"area\", \"veh_body\"]\n",
    "ord_levels = [sorted(car[v].unique()) for v in ord_vars]\n",
    "\n",
    "preprocessor = ColumnTransformer(\n",
    "    transformers=[\n",
    "        (\"ordinal\", OrdinalEncoder(categories=ord_levels), ord_vars),\n",
    "        (\"numeric\", \"passthrough\", num_vars)\n",
    "    ]\n",
    ")\n",
    "\n",
    "rf = RandomForestClassifier(\n",
    "    n_estimators=500,\n",
    "    max_features=\"sqrt\",\n",
    "    min_samples_leaf=5,\n",
    "    criterion=\"entropy\",\n",
    "    max_depth=8,\n",
    "    n_jobs=4  # or set n_jobs in GridSearchCV\n",
    ")\n",
    "\n",
    "model = Pipeline(\n",
    "    steps=[\n",
    "        (\"preprocessor\", preprocessor),\n",
    "        (\"rf\", rf)\n",
    "    ]\n",
    ")"
   ]
  },
  {
   "cell_type": "code",
   "execution_count": 2,
   "metadata": {},
   "outputs": [
    {
     "name": "stdout",
     "output_type": "stream",
     "text": [
      "Best max_depth: {'rf__max_depth': 5}\n"
     ]
    }
   ],
   "source": [
    "# Grid search for 'max_depth' with CV and five (stratified) folds\n",
    "from sklearn.model_selection import GridSearchCV\n",
    "\n",
    "search = GridSearchCV(\n",
    "    model, \n",
    "    param_grid={\"rf__max_depth\": range(3, 8)},\n",
    "    scoring=\"neg_log_loss\", \n",
    "    cv=5\n",
    ")\n",
    "# Remember: the best model is refitted on training data\n",
    "search.fit(X=df_train, y=y_train)\n",
    "print(f\"Best max_depth: {search.best_params_}\")"
   ]
  },
  {
   "cell_type": "code",
   "execution_count": 3,
   "metadata": {},
   "outputs": [
    {
     "name": "stdout",
     "output_type": "stream",
     "text": [
      "Test log-loss:  0.248\n",
      "Relative improvement in log-loss:  0.226%\n"
     ]
    }
   ],
   "source": [
    "# Performance on test data\n",
    "from sklearn.metrics import log_loss\n",
    "\n",
    "y_pred = search.predict_proba(df_test)\n",
    "test_loss = log_loss(y_test, search.predict_proba(df_test))\n",
    "test_loss0 = log_loss(y_test, np.repeat(y_train.mean(), len(y_test)))\n",
    "rel_imp = (test_loss0 - test_loss) / test_loss0\n",
    "\n",
    "print(f\"Test log-loss: {test_loss: .3f}\")\n",
    "print(f\"Relative improvement in log-loss: {rel_imp: .3%}\")"
   ]
  },
  {
   "cell_type": "code",
   "execution_count": 4,
   "metadata": {},
   "outputs": [
    {
     "data": {
      "image/png": "[encoded data removed]",
      "text/plain": [
       "<Figure size 432x288 with 1 Axes>"
      ]
     },
     "metadata": {
      "needs_background": "light"
     },
     "output_type": "display_data"
    }
   ],
   "source": [
    "# Variable importance\n",
    "# Replace later with: feature_names = search[:-1].get_feature_names_out()\n",
    "feature_names = ord_vars + num_vars  # same(!!) order as in pipeline\n",
    "imps = pd.Series(\n",
    "    search.best_estimator_[-1].feature_importances_, \n",
    "    index=feature_names\n",
    ")\n",
    "_ = imps.sort_values().plot(\n",
    "    kind=\"barh\", \n",
    "    title=\"Split gain importance\"\n",
    ")"
   ]
  },
  {
   "cell_type": "code",
   "execution_count": 5,
   "metadata": {},
   "outputs": [
    {
     "name": "stderr",
     "output_type": "stream",
     "text": [
      "C:\\Users\\Michael\\anaconda3\\envs\\ml_lecture\\lib\\site-packages\\dalex\\predict_explanations\\_ceteris_paribus\\checks.py:16: UserWarning: Variables taken from variables_splits\n",
      "  warnings.warn(\"Variables taken from variables_splits\")\n"
     ]
    },
    {
     "data": {
      "application/vnd.plotly.v1+json": {
       "config": {
        "displaylogo": false,
        "modeBarButtonsToRemove": [
         "sendDataToCloud",
         "lasso2d",
         "autoScale2d",
         "select2d",
         "zoom2d",
         "pan2d",
         "zoomIn2d",
         "zoomOut2d",
         "resetScale2d",
         "toggleSpikelines",
         "hoverCompareCartesian",
         "hoverClosestCartesian"
        ],
        "plotlyServerURL": "https://plot.ly",
        "staticPlot": false,
        "toImageButtonOptions": {
         "height": null,
         "width": null
        }
       },
       "data": [
        {
         "customdata": [
          [
           0.06860133574771744,
           "Partial depencence for numeric variables",
           "veh_value"
          ],
          [
           0.06860133574771744,
           "Partial depencence for numeric variables",
           "veh_value"
          ],
          [
           0.06860133574771744,
           "Partial depencence for numeric variables",
           "veh_value"
          ],
          [
           0.06860133574771744,
           "Partial depencence for numeric variables",
           "veh_value"
          ],
          [
           0.06860133574771744,
           "Partial depencence for numeric variables",
           "veh_value"
          ],
          [
           0.06860133574771744,
           "Partial depencence for numeric variables",
           "veh_value"
          ],
          [
           0.06860133574771744,
           "Partial depencence for numeric variables",
           "veh_value"
          ],
          [
           0.06860133574771744,
           "Partial depencence for numeric variables",
           "veh_value"
          ],
          [
           0.06860133574771744,
           "Partial depencence for numeric variables",
           "veh_value"
          ],
          [
           0.06860133574771744,
           "Partial depencence for numeric variables",
           "veh_value"
          ],
          [
           0.06860133574771744,
           "Partial depencence for numeric variables",
           "veh_value"
          ],
          [
           0.06860133574771744,
           "Partial depencence for numeric variables",
           "veh_value"
          ],
          [
           0.06860133574771744,
           "Partial depencence for numeric variables",
           "veh_value"
          ],
          [
           0.06860133574771744,
           "Partial depencence for numeric variables",
           "veh_value"
          ],
          [
           0.06860133574771744,
           "Partial depencence for numeric variables",
           "veh_value"
          ],
          [
           0.06860133574771744,
           "Partial depencence for numeric variables",
           "veh_value"
          ],
          [
           0.06860133574771744,
           "Partial depencence for numeric variables",
           "veh_value"
          ],
          [
           0.06860133574771744,
           "Partial depencence for numeric variables",
           "veh_value"
          ],
          [
           0.06860133574771744,
           "Partial depencence for numeric variables",
           "veh_value"
          ],
          [
           0.06860133574771744,
           "Partial depencence for numeric variables",
           "veh_value"
          ],
          [
           0.06860133574771744,
           "Partial depencence for numeric variables",
           "veh_value"
          ],
          [
           0.06860133574771744,
           "Partial depencence for numeric variables",
           "veh_value"
          ],
          [
           0.06860133574771744,
           "Partial depencence for numeric variables",
           "veh_value"
          ],
          [
           0.06860133574771744,
           "Partial depencence for numeric variables",
           "veh_value"
          ],
          [
           0.06860133574771744,
           "Partial depencence for numeric variables",
           "veh_value"
          ],
          [
           0.06860133574771744,
           "Partial depencence for numeric variables",
           "veh_value"
          ],
          [
           0.06860133574771744,
           "Partial depencence for numeric variables",
           "veh_value"
          ],
          [
           0.06860133574771744,
           "Partial depencence for numeric variables",
           "veh_value"
          ],
          [
           0.06860133574771744,
           "Partial depencence for numeric variables",
           "veh_value"
          ],
          [
           0.06860133574771744,
           "Partial depencence for numeric variables",
           "veh_value"
          ],
          [
           0.06860133574771744,
           "Partial depencence for numeric variables",
           "veh_value"
          ],
          [
           0.06860133574771744,
           "Partial depencence for numeric variables",
           "veh_value"
          ],
          [
           0.06860133574771744,
           "Partial depencence for numeric variables",
           "veh_value"
          ],
          [
           0.06860133574771744,
           "Partial depencence for numeric variables",
           "veh_value"
          ],
          [
           0.06860133574771744,
           "Partial depencence for numeric variables",
           "veh_value"
          ],
          [
           0.06860133574771744,
           "Partial depencence for numeric variables",
           "veh_value"
          ],
          [
           0.06860133574771744,
           "Partial depencence for numeric variables",
           "veh_value"
          ],
          [
           0.06860133574771744,
           "Partial depencence for numeric variables",
           "veh_value"
          ],
          [
           0.06860133574771744,
           "Partial depencence for numeric variables",
           "veh_value"
          ],
          [
           0.06860133574771744,
           "Partial depencence for numeric variables",
           "veh_value"
          ],
          [
           0.06860133574771744,
           "Partial depencence for numeric variables",
           "veh_value"
          ]
         ],
         "hovertemplate": "<b>%{hovertext}</b><br><br>prediction=%{y:.3f}<br>mean_prediction=%{customdata[0]:.3f}<extra></extra>",
         "hovertext": [
          "Partial depencence for numeric variables",
          "Partial depencence for numeric variables",
          "Partial depencence for numeric variables",
          "Partial depencence for numeric variables",
          "Partial depencence for numeric variables",
          "Partial depencence for numeric variables",
          "Partial depencence for numeric variables",
          "Partial depencence for numeric variables",
          "Partial depencence for numeric variables",
          "Partial depencence for numeric variables",
          "Partial depencence for numeric variables",
          "Partial depencence for numeric variables",
          "Partial depencence for numeric variables",
          "Partial depencence for numeric variables",
          "Partial depencence for numeric variables",
          "Partial depencence for numeric variables",
          "Partial depencence for numeric variables",
          "Partial depencence for numeric variables",
          "Partial depencence for numeric variables",
          "Partial depencence for numeric variables",
          "Partial depencence for numeric variables",
          "Partial depencence for numeric variables",
          "Partial depencence for numeric variables",
          "Partial depencence for numeric variables",
          "Partial depencence for numeric variables",
          "Partial depencence for numeric variables",
          "Partial depencence for numeric variables",
          "Partial depencence for numeric variables",
          "Partial depencence for numeric variables",
          "Partial depencence for numeric variables",
          "Partial depencence for numeric variables",
          "Partial depencence for numeric variables",
          "Partial depencence for numeric variables",
          "Partial depencence for numeric variables",
          "Partial depencence for numeric variables",
          "Partial depencence for numeric variables",
          "Partial depencence for numeric variables",
          "Partial depencence for numeric variables",
          "Partial depencence for numeric variables",
          "Partial depencence for numeric variables",
          "Partial depencence for numeric variables"
         ],
         "legendgroup": "Partial depencence for numeric variables",
         "line": {
          "color": "#46bac2",
          "dash": "solid",
          "width": 2
         },
         "marker": {
          "symbol": "circle"
         },
         "mode": "lines",
         "name": "Partial depencence for numeric variables",
         "opacity": 1,
         "orientation": "v",
         "showlegend": true,
         "type": "scatter",
         "x": [
          0,
          0.125,
          0.25,
          0.375,
          0.5,
          0.625,
          0.75,
          0.875,
          1,
          1.125,
          1.25,
          1.375,
          1.5,
          1.625,
          1.75,
          1.875,
          2,
          2.125,
          2.25,
          2.375,
          2.5,
          2.625,
          2.75,
          2.875,
          3,
          3.125,
          3.25,
          3.375,
          3.5,
          3.625,
          3.75,
          3.875,
          4,
          4.125,
          4.25,
          4.375,
          4.5,
          4.625,
          4.75,
          4.875,
          5
         ],
         "xaxis": "x3",
         "y": [
          0.060885584247483686,
          0.05578191542535232,
          0.0503808456395488,
          0.05363543369654432,
          0.057540560197627155,
          0.057369351476042024,
          0.05759691147303699,
          0.05871346368692605,
          0.06021958808590226,
          0.06165402802490953,
          0.0626118721989037,
          0.06888527254587941,
          0.0698602962054165,
          0.0703260614185355,
          0.07018241517715264,
          0.07104218684102878,
          0.07199837240198774,
          0.07290961915357004,
          0.07545871034403233,
          0.07520374716040312,
          0.07547407763198223,
          0.07616243539503875,
          0.07615818344189774,
          0.0770082524947612,
          0.07715558368813025,
          0.07732703356189595,
          0.07770652663807717,
          0.07814387989858079,
          0.07887856918539134,
          0.08027402217376377,
          0.08042822980582204,
          0.08041853474967882,
          0.08019116352194557,
          0.0790709813475626,
          0.07901882334306122,
          0.07882364332810697,
          0.07927718927989383,
          0.07874961108927207,
          0.07815779215241084,
          0.07806307309378219,
          0.07804408287644994
         ],
         "yaxis": "y3"
        },
        {
         "customdata": [
          [
           0.06860133574771744,
           "Partial depencence for numeric variables",
           "agecat"
          ],
          [
           0.06860133574771744,
           "Partial depencence for numeric variables",
           "agecat"
          ],
          [
           0.06860133574771744,
           "Partial depencence for numeric variables",
           "agecat"
          ],
          [
           0.06860133574771744,
           "Partial depencence for numeric variables",
           "agecat"
          ],
          [
           0.06860133574771744,
           "Partial depencence for numeric variables",
           "agecat"
          ],
          [
           0.06860133574771744,
           "Partial depencence for numeric variables",
           "agecat"
          ]
         ],
         "hovertemplate": "<b>%{hovertext}</b><br><br>prediction=%{y:.3f}<br>mean_prediction=%{customdata[0]:.3f}<extra></extra>",
         "hovertext": [
          "Partial depencence for numeric variables",
          "Partial depencence for numeric variables",
          "Partial depencence for numeric variables",
          "Partial depencence for numeric variables",
          "Partial depencence for numeric variables",
          "Partial depencence for numeric variables"
         ],
         "legendgroup": "Partial depencence for numeric variables",
         "line": {
          "color": "#46bac2",
          "dash": "solid",
          "width": 2
         },
         "marker": {
          "symbol": "circle"
         },
         "mode": "lines",
         "name": "Partial depencence for numeric variables",
         "opacity": 1,
         "orientation": "v",
         "showlegend": false,
         "type": "scatter",
         "x": [
          1,
          2,
          3,
          4,
          5,
          6
         ],
         "xaxis": "x4",
         "y": [
          0.08124408195248616,
          0.07255568305985628,
          0.07219469858771974,
          0.06702309058032971,
          0.05988028763109261,
          0.05934829027092829
         ],
         "yaxis": "y4"
        },
        {
         "customdata": [
          [
           0.06860133574771744,
           "Partial depencence for numeric variables",
           "veh_age"
          ],
          [
           0.06860133574771744,
           "Partial depencence for numeric variables",
           "veh_age"
          ],
          [
           0.06860133574771744,
           "Partial depencence for numeric variables",
           "veh_age"
          ],
          [
           0.06860133574771744,
           "Partial depencence for numeric variables",
           "veh_age"
          ]
         ],
         "hovertemplate": "<b>%{hovertext}</b><br><br>prediction=%{y:.3f}<br>mean_prediction=%{customdata[0]:.3f}<extra></extra>",
         "hovertext": [
          "Partial depencence for numeric variables",
          "Partial depencence for numeric variables",
          "Partial depencence for numeric variables",
          "Partial depencence for numeric variables"
         ],
         "legendgroup": "Partial depencence for numeric variables",
         "line": {
          "color": "#46bac2",
          "dash": "solid",
          "width": 2
         },
         "marker": {
          "symbol": "circle"
         },
         "mode": "lines",
         "name": "Partial depencence for numeric variables",
         "opacity": 1,
         "orientation": "v",
         "showlegend": false,
         "type": "scatter",
         "x": [
          1,
          2,
          3,
          4
         ],
         "xaxis": "x",
         "y": [
          0.06508674785782241,
          0.06880906020739198,
          0.06930127803335395,
          0.0701445109797852
         ],
         "yaxis": "y"
        }
       ],
       "layout": {
        "annotations": [
         {
          "font": {
           "size": 13
          },
          "showarrow": false,
          "text": "veh_age",
          "x": 0.2375,
          "xanchor": "center",
          "xref": "paper",
          "y": 0.425,
          "yanchor": "bottom",
          "yref": "paper"
         },
         {
          "font": {
           "size": 13
          },
          "showarrow": false,
          "text": "veh_value",
          "x": 0.2375,
          "xanchor": "center",
          "xref": "paper",
          "y": 1,
          "yanchor": "bottom",
          "yref": "paper"
         },
         {
          "font": {
           "size": 13
          },
          "showarrow": false,
          "text": "agecat",
          "x": 0.7625,
          "xanchor": "center",
          "xref": "paper",
          "y": 1,
          "yanchor": "bottom",
          "yref": "paper"
         },
         {
          "font": {
           "size": 13
          },
          "showarrow": false,
          "text": "prediction",
          "textangle": -90,
          "x": -0.07,
          "xref": "paper",
          "y": 0.5,
          "yref": "paper"
         }
        ],
        "font": {
         "color": "#371ea3"
        },
        "height": 829,
        "hovermode": "x unified",
        "legend": {
         "font": {
          "size": 11
         },
         "itemsizing": "constant",
         "orientation": "h",
         "title": {
          "font": {
           "size": 12
          },
          "text": "label"
         },
         "tracegroupgap": 0,
         "x": 1,
         "xanchor": "right",
         "y": 1.0361881785283473,
         "yanchor": "bottom"
        },
        "margin": {
         "b": 71,
         "r": 30,
         "t": 78
        },
        "template": {
         "data": {
          "scatter": [
           {
            "type": "scatter"
           }
          ]
         }
        },
        "title": {
         "font": {
          "size": 16
         },
         "text": "Aggregated Profiles",
         "x": 0.15
        },
        "xaxis": {
         "anchor": "y",
         "automargin": true,
         "domain": [
          0,
          0.475
         ],
         "fixedrange": true,
         "gridwidth": 2,
         "showticklabels": true,
         "tickcolor": "white",
         "ticklen": 3,
         "ticks": "outside",
         "title": {
          "text": ""
         },
         "type": "linear",
         "zeroline": false
        },
        "xaxis2": {
         "anchor": "y2",
         "automargin": true,
         "domain": [
          0.525,
          1
         ],
         "fixedrange": true,
         "gridwidth": 2,
         "showticklabels": true,
         "tickcolor": "white",
         "ticklen": 3,
         "ticks": "outside",
         "title": {
          "text": ""
         },
         "type": "linear",
         "zeroline": false
        },
        "xaxis3": {
         "anchor": "y3",
         "automargin": true,
         "domain": [
          0,
          0.475
         ],
         "fixedrange": true,
         "gridwidth": 2,
         "showticklabels": true,
         "tickcolor": "white",
         "ticklen": 3,
         "ticks": "outside",
         "title": {
          "text": ""
         },
         "type": "linear",
         "zeroline": false
        },
        "xaxis4": {
         "anchor": "y4",
         "automargin": true,
         "domain": [
          0.525,
          1
         ],
         "fixedrange": true,
         "gridwidth": 2,
         "showticklabels": true,
         "tickcolor": "white",
         "ticklen": 3,
         "ticks": "outside",
         "title": {
          "text": ""
         },
         "type": "linear",
         "zeroline": false
        },
        "yaxis": {
         "anchor": "x",
         "automargin": true,
         "domain": [
          0,
          0.425
         ],
         "fixedrange": true,
         "gridwidth": 2,
         "range": [
          0.04729452200825507,
          0.0843304055837799
         ],
         "tickcolor": "white",
         "ticklen": 3,
         "ticks": "outside",
         "title": {
          "text": ""
         },
         "type": "linear",
         "zeroline": false
        },
        "yaxis2": {
         "anchor": "x2",
         "automargin": true,
         "domain": [
          0,
          0.425
         ],
         "fixedrange": true,
         "gridwidth": 2,
         "matches": "y",
         "range": [
          0.04729452200825507,
          0.0843304055837799
         ],
         "showticklabels": false,
         "tickcolor": "white",
         "ticklen": 3,
         "ticks": "outside",
         "title": {
          "text": ""
         },
         "type": "linear",
         "zeroline": false
        },
        "yaxis3": {
         "anchor": "x3",
         "automargin": true,
         "domain": [
          0.575,
          1
         ],
         "fixedrange": true,
         "gridwidth": 2,
         "matches": "y",
         "range": [
          0.04729452200825507,
          0.0843304055837799
         ],
         "tickcolor": "white",
         "ticklen": 3,
         "ticks": "outside",
         "title": {
          "text": ""
         },
         "type": "linear",
         "zeroline": false
        },
        "yaxis4": {
         "anchor": "x4",
         "automargin": true,
         "domain": [
          0.575,
          1
         ],
         "fixedrange": true,
         "gridwidth": 2,
         "matches": "y",
         "range": [
          0.04729452200825507,
          0.0843304055837799
         ],
         "showticklabels": false,
         "tickcolor": "white",
         "ticklen": 3,
         "ticks": "outside",
         "title": {
          "text": ""
         },
         "type": "linear",
         "zeroline": false
        }
       }
      }
     },
     "metadata": {},
     "output_type": "display_data"
    },
    {
     "name": "stderr",
     "output_type": "stream",
     "text": [
      "C:\\Users\\Michael\\anaconda3\\envs\\ml_lecture\\lib\\site-packages\\dalex\\predict_explanations\\_ceteris_paribus\\checks.py:16: UserWarning:\n",
      "\n",
      "Variables taken from variables_splits\n",
      "\n"
     ]
    },
    {
     "data": {
      "application/vnd.plotly.v1+json": {
       "config": {
        "displaylogo": false,
        "modeBarButtonsToRemove": [
         "sendDataToCloud",
         "lasso2d",
         "autoScale2d",
         "select2d",
         "zoom2d",
         "pan2d",
         "zoomIn2d",
         "zoomOut2d",
         "resetScale2d",
         "toggleSpikelines",
         "hoverCompareCartesian",
         "hoverClosestCartesian"
        ],
        "plotlyServerURL": "https://plot.ly",
        "staticPlot": false,
        "toImageButtonOptions": {
         "height": null,
         "width": null
        }
       },
       "data": [
        {
         "alignmentgroup": "True",
         "base": [
          0.06865190183771834,
          0.06865190183771834
         ],
         "customdata": [
          [
           0.06898382672074035,
           "Partial depencence for categorical variables",
           "gender"
          ],
          [
           0.06822946865384998,
           "Partial depencence for categorical variables",
           "gender"
          ]
         ],
         "hovertemplate": "<b>%{hovertext}</b><br><br>mean_prediction=%{base:.3f}<br>prediction=%{customdata[0]:.3f}<extra></extra>",
         "hovertext": [
          "Partial depencence for categorical variables",
          "Partial depencence for categorical variables"
         ],
         "legendgroup": "Partial depencence for categorical variables",
         "marker": {
          "color": "#46bac2",
          "pattern": {
           "shape": ""
          }
         },
         "name": "Partial depencence for categorical variables",
         "offsetgroup": "Partial depencence for categorical variables",
         "orientation": "v",
         "showlegend": true,
         "textposition": "auto",
         "type": "bar",
         "x": [
          "F",
          "M"
         ],
         "xaxis": "x3",
         "y": [
          0.00033192488302201395,
          -0.0004224331838683648
         ],
         "yaxis": "y3"
        },
        {
         "alignmentgroup": "True",
         "base": [
          0.06865190183771834,
          0.06865190183771834,
          0.06865190183771834,
          0.06865190183771834,
          0.06865190183771834,
          0.06865190183771834
         ],
         "customdata": [
          [
           0.06824715719974243,
           "Partial depencence for categorical variables",
           "area"
          ],
          [
           0.06950538461212802,
           "Partial depencence for categorical variables",
           "area"
          ],
          [
           0.06875189917458044,
           "Partial depencence for categorical variables",
           "area"
          ],
          [
           0.06766729882842419,
           "Partial depencence for categorical variables",
           "area"
          ],
          [
           0.06758169514275807,
           "Partial depencence for categorical variables",
           "area"
          ],
          [
           0.06925756525552819,
           "Partial depencence for categorical variables",
           "area"
          ]
         ],
         "hovertemplate": "<b>%{hovertext}</b><br><br>mean_prediction=%{base:.3f}<br>prediction=%{customdata[0]:.3f}<extra></extra>",
         "hovertext": [
          "Partial depencence for categorical variables",
          "Partial depencence for categorical variables",
          "Partial depencence for categorical variables",
          "Partial depencence for categorical variables",
          "Partial depencence for categorical variables",
          "Partial depencence for categorical variables"
         ],
         "legendgroup": "Partial depencence for categorical variables",
         "marker": {
          "color": "#46bac2",
          "pattern": {
           "shape": ""
          }
         },
         "name": "Partial depencence for categorical variables",
         "offsetgroup": "Partial depencence for categorical variables",
         "orientation": "v",
         "showlegend": false,
         "textposition": "auto",
         "type": "bar",
         "x": [
          "A",
          "B",
          "C",
          "D",
          "E",
          "F"
         ],
         "xaxis": "x4",
         "y": [
          -0.00040474463797590676,
          0.0008534827744096779,
          0.00009999733686209822,
          -0.0009846030092941493,
          -0.001070206694960274,
          0.0006056634178098486
         ],
         "yaxis": "y4"
        },
        {
         "alignmentgroup": "True",
         "base": [
          0.06865190183771834,
          0.06865190183771834,
          0.06865190183771834,
          0.06865190183771834,
          0.06865190183771834,
          0.06865190183771834,
          0.06865190183771834,
          0.06865190183771834,
          0.06865190183771834,
          0.06865190183771834,
          0.06865190183771834,
          0.06865190183771834,
          0.06865190183771834
         ],
         "customdata": [
          [
           0.10123279894978575,
           "Partial depencence for categorical variables",
           "veh_body"
          ],
          [
           0.07683299242911602,
           "Partial depencence for categorical variables",
           "veh_body"
          ],
          [
           0.07513578596968017,
           "Partial depencence for categorical variables",
           "veh_body"
          ],
          [
           0.0691092650262419,
           "Partial depencence for categorical variables",
           "veh_body"
          ],
          [
           0.0702141560303781,
           "Partial depencence for categorical variables",
           "veh_body"
          ],
          [
           0.07013548827358772,
           "Partial depencence for categorical variables",
           "veh_body"
          ],
          [
           0.06924373243787124,
           "Partial depencence for categorical variables",
           "veh_body"
          ],
          [
           0.0694440917018674,
           "Partial depencence for categorical variables",
           "veh_body"
          ],
          [
           0.06933537756031163,
           "Partial depencence for categorical variables",
           "veh_body"
          ],
          [
           0.06893041763482001,
           "Partial depencence for categorical variables",
           "veh_body"
          ],
          [
           0.06895918442691028,
           "Partial depencence for categorical variables",
           "veh_body"
          ],
          [
           0.06745599638515008,
           "Partial depencence for categorical variables",
           "veh_body"
          ],
          [
           0.06336449749084613,
           "Partial depencence for categorical variables",
           "veh_body"
          ]
         ],
         "hovertemplate": "<b>%{hovertext}</b><br><br>mean_prediction=%{base:.3f}<br>prediction=%{customdata[0]:.3f}<extra></extra>",
         "hovertext": [
          "Partial depencence for categorical variables",
          "Partial depencence for categorical variables",
          "Partial depencence for categorical variables",
          "Partial depencence for categorical variables",
          "Partial depencence for categorical variables",
          "Partial depencence for categorical variables",
          "Partial depencence for categorical variables",
          "Partial depencence for categorical variables",
          "Partial depencence for categorical variables",
          "Partial depencence for categorical variables",
          "Partial depencence for categorical variables",
          "Partial depencence for categorical variables",
          "Partial depencence for categorical variables"
         ],
         "legendgroup": "Partial depencence for categorical variables",
         "marker": {
          "color": "#46bac2",
          "pattern": {
           "shape": ""
          }
         },
         "name": "Partial depencence for categorical variables",
         "offsetgroup": "Partial depencence for categorical variables",
         "orientation": "v",
         "showlegend": false,
         "textposition": "auto",
         "type": "bar",
         "x": [
          "BUS",
          "CONVT",
          "COUPE",
          "HBACK",
          "HDTOP",
          "MCARA",
          "MIBUS",
          "PANVN",
          "RDSTR",
          "SEDAN",
          "STNWG",
          "TRUCK",
          "UTE"
         ],
         "xaxis": "x",
         "y": [
          0.03258089711206741,
          0.008181090591397683,
          0.006483884131961826,
          0.00045736318852356017,
          0.0015622541926597622,
          0.0014835864358693773,
          0.0005918306001529011,
          0.0007921898641490566,
          0.0006834757225932936,
          0.0002785157971016694,
          0.0003072825891919373,
          -0.0011959054525682578,
          -0.005287404346872207
         ],
         "yaxis": "y"
        }
       ],
       "layout": {
        "annotations": [
         {
          "font": {
           "size": 13
          },
          "showarrow": false,
          "text": "veh_body",
          "x": 0.2375,
          "xanchor": "center",
          "xref": "paper",
          "y": 0.425,
          "yanchor": "bottom",
          "yref": "paper"
         },
         {
          "font": {
           "size": 13
          },
          "showarrow": false,
          "text": "gender",
          "x": 0.2375,
          "xanchor": "center",
          "xref": "paper",
          "y": 1,
          "yanchor": "bottom",
          "yref": "paper"
         },
         {
          "font": {
           "size": 13
          },
          "showarrow": false,
          "text": "area",
          "x": 0.7625,
          "xanchor": "center",
          "xref": "paper",
          "y": 1,
          "yanchor": "bottom",
          "yref": "paper"
         },
         {
          "font": {
           "size": 13
          },
          "showarrow": false,
          "text": "prediction",
          "textangle": -90,
          "x": -0.07,
          "xref": "paper",
          "y": 0.5,
          "yref": "paper"
         }
        ],
        "barmode": "group",
        "font": {
         "color": "#371ea3"
        },
        "height": 829,
        "hovermode": "x unified",
        "legend": {
         "font": {
          "size": 11
         },
         "itemsizing": "constant",
         "orientation": "h",
         "title": {
          "font": {
           "size": 12
          },
          "text": "label"
         },
         "tracegroupgap": 0,
         "x": 1,
         "xanchor": "right",
         "y": 1.0361881785283473,
         "yanchor": "bottom"
        },
        "margin": {
         "b": 71,
         "r": 30,
         "t": 78
        },
        "shapes": [
         {
          "layer": "below",
          "line": {
           "color": "#371ea3",
           "dash": "dot",
           "width": 1.5
          },
          "type": "line",
          "x0": 0,
          "x1": 1,
          "xref": "x domain",
          "y0": 0.06865190183771834,
          "y1": 0.06865190183771834,
          "yref": "y"
         },
         {
          "layer": "below",
          "line": {
           "color": "#371ea3",
           "dash": "dot",
           "width": 1.5
          },
          "type": "line",
          "x0": 0,
          "x1": 1,
          "xref": "x3 domain",
          "y0": 0.06865190183771834,
          "y1": 0.06865190183771834,
          "yref": "y3"
         },
         {
          "layer": "below",
          "line": {
           "color": "#371ea3",
           "dash": "dot",
           "width": 1.5
          },
          "type": "line",
          "x0": 0,
          "x1": 1,
          "xref": "x4 domain",
          "y0": 0.06865190183771834,
          "y1": 0.06865190183771834,
          "yref": "y4"
         },
         {
          "layer": "below",
          "line": {
           "color": "#371ea3",
           "dash": "dot",
           "width": 1.5
          },
          "type": "line",
          "x0": 0,
          "x1": 1,
          "xref": "x domain",
          "y0": 0.06865190183771834,
          "y1": 0.06865190183771834,
          "yref": "y"
         },
         {
          "layer": "below",
          "line": {
           "color": "#371ea3",
           "dash": "dot",
           "width": 1.5
          },
          "type": "line",
          "x0": 0,
          "x1": 1,
          "xref": "x3 domain",
          "y0": 0.06865190183771834,
          "y1": 0.06865190183771834,
          "yref": "y3"
         },
         {
          "layer": "below",
          "line": {
           "color": "#371ea3",
           "dash": "dot",
           "width": 1.5
          },
          "type": "line",
          "x0": 0,
          "x1": 1,
          "xref": "x4 domain",
          "y0": 0.06865190183771834,
          "y1": 0.06865190183771834,
          "yref": "y4"
         },
         {
          "layer": "below",
          "line": {
           "color": "#371ea3",
           "dash": "dot",
           "width": 1.5
          },
          "type": "line",
          "x0": 0,
          "x1": 1,
          "xref": "x domain",
          "y0": 0.06865190183771834,
          "y1": 0.06865190183771834,
          "yref": "y"
         },
         {
          "layer": "below",
          "line": {
           "color": "#371ea3",
           "dash": "dot",
           "width": 1.5
          },
          "type": "line",
          "x0": 0,
          "x1": 1,
          "xref": "x3 domain",
          "y0": 0.06865190183771834,
          "y1": 0.06865190183771834,
          "yref": "y3"
         },
         {
          "layer": "below",
          "line": {
           "color": "#371ea3",
           "dash": "dot",
           "width": 1.5
          },
          "type": "line",
          "x0": 0,
          "x1": 1,
          "xref": "x4 domain",
          "y0": 0.06865190183771834,
          "y1": 0.06865190183771834,
          "yref": "y4"
         }
        ],
        "template": {
         "data": {
          "scatter": [
           {
            "type": "scatter"
           }
          ]
         }
        },
        "title": {
         "font": {
          "size": 16
         },
         "text": "Aggregated Profiles",
         "x": 0.15
        },
        "xaxis": {
         "anchor": "y",
         "automargin": true,
         "domain": [
          0,
          0.475
         ],
         "fixedrange": true,
         "gridwidth": 2,
         "showticklabels": true,
         "tickcolor": "white",
         "ticklen": 10,
         "ticks": "outside",
         "title": {
          "text": ""
         },
         "type": "category"
        },
        "xaxis2": {
         "anchor": "y2",
         "automargin": true,
         "domain": [
          0.525,
          1
         ],
         "fixedrange": true,
         "gridwidth": 2,
         "showticklabels": true,
         "tickcolor": "white",
         "ticklen": 10,
         "ticks": "outside",
         "title": {
          "text": ""
         },
         "type": "category"
        },
        "xaxis3": {
         "anchor": "y3",
         "automargin": true,
         "domain": [
          0,
          0.475
         ],
         "fixedrange": true,
         "gridwidth": 2,
         "showticklabels": true,
         "tickcolor": "white",
         "ticklen": 10,
         "ticks": "outside",
         "title": {
          "text": ""
         },
         "type": "category"
        },
        "xaxis4": {
         "anchor": "y4",
         "automargin": true,
         "domain": [
          0.525,
          1
         ],
         "fixedrange": true,
         "gridwidth": 2,
         "showticklabels": true,
         "tickcolor": "white",
         "ticklen": 10,
         "ticks": "outside",
         "title": {
          "text": ""
         },
         "type": "category"
        },
        "yaxis": {
         "anchor": "x",
         "automargin": true,
         "domain": [
          0,
          0.425
         ],
         "fixedrange": true,
         "gridwidth": 2,
         "range": [
          0.05957766734495217,
          0.10501962909567972
         ],
         "tickcolor": "white",
         "ticklen": 3,
         "ticks": "outside",
         "title": {
          "text": ""
         },
         "type": "linear",
         "zeroline": false
        },
        "yaxis2": {
         "anchor": "x2",
         "automargin": true,
         "domain": [
          0,
          0.425
         ],
         "fixedrange": true,
         "gridwidth": 2,
         "matches": "y",
         "range": [
          0.05957766734495217,
          0.10501962909567972
         ],
         "showticklabels": false,
         "tickcolor": "white",
         "ticklen": 3,
         "ticks": "outside",
         "title": {
          "text": ""
         },
         "type": "linear",
         "zeroline": false
        },
        "yaxis3": {
         "anchor": "x3",
         "automargin": true,
         "domain": [
          0.575,
          1
         ],
         "fixedrange": true,
         "gridwidth": 2,
         "matches": "y",
         "range": [
          0.05957766734495217,
          0.10501962909567972
         ],
         "tickcolor": "white",
         "ticklen": 3,
         "ticks": "outside",
         "title": {
          "text": ""
         },
         "type": "linear",
         "zeroline": false
        },
        "yaxis4": {
         "anchor": "x4",
         "automargin": true,
         "domain": [
          0.575,
          1
         ],
         "fixedrange": true,
         "gridwidth": 2,
         "matches": "y",
         "range": [
          0.05957766734495217,
          0.10501962909567972
         ],
         "showticklabels": false,
         "tickcolor": "white",
         "ticklen": 3,
         "ticks": "outside",
         "title": {
          "text": ""
         },
         "type": "linear",
         "zeroline": false
        }
       }
      }
     },
     "metadata": {},
     "output_type": "display_data"
    }
   ],
   "source": [
    "# Partial dependence plots\n",
    "# Note: As soon as sklearn.inspect.PartialDependenceDisplay\n",
    "# allows for passing a character grid, it is an option as well.\n",
    "import dalex as dx\n",
    "\n",
    "# Define explainer\n",
    "exp = dx.Explainer(\n",
    "    search, \n",
    "    data=df_train, \n",
    "    predict_function=lambda m, X: m.predict_proba(X)[:, 1],\n",
    "    verbose=False\n",
    ")\n",
    "\n",
    "# Plots\n",
    "num_eval_at = {\n",
    "    \"veh_value\": np.linspace(0, 5, 41),\n",
    "    \"agecat\": sorted(car[\"agecat\"].unique()),\n",
    "    \"veh_age\": sorted(car[\"veh_age\"].unique())\n",
    "}\n",
    "pdp_num = exp.model_profile(\n",
    "    variable_splits=num_eval_at,\n",
    "    label=\"Partial depencence for numeric variables\",\n",
    "    verbose=False\n",
    ")\n",
    "pdp_num.plot()\n",
    "\n",
    "pdp_cat = exp.model_profile(\n",
    "    variable_type=\"categorical\",\n",
    "    variable_splits=dict(zip(ord_vars, ord_levels)),\n",
    "    label=\"Partial depencence for categorical variables\",\n",
    "    verbose=False\n",
    ")\n",
    "pdp_cat.plot()"
   ]
  },
  {
   "cell_type": "markdown",
   "metadata": {},
   "source": [
    "**Comment:** Test performance with small tree depth seems to be best. When studying relative performance metrics like the relative deviance gain, we can see that performance of the model is very low. TPL claims seem to be mostly determined by bad luck, which makes sense."
   ]
  },
  {
   "cell_type": "markdown",
   "metadata": {},
   "source": [
    "## Exercises on Boosting\n",
    "\n",
    "### Exercise 1"
   ]
  },
  {
   "cell_type": "code",
   "execution_count": 1,
   "metadata": {},
   "outputs": [],
   "source": [
    "import json\n",
    "from pathlib import Path\n",
    "import pandas as pd\n",
    "from plotnine.data import diamonds\n",
    "from sklearn.preprocessing import OrdinalEncoder\n",
    "from sklearn.model_selection import train_test_split\n",
    "from sklearn.compose import make_column_transformer\n",
    "import xgboost as xgb\n",
    "\n",
    "# General settings\n",
    "grid_file = Path(\"gridsearch\")/\"diamonds_xgb.txt\"\n",
    "\n",
    "# Train/test split\n",
    "df_train, df_test, y_train, y_test = train_test_split(\n",
    "    diamonds, diamonds[\"price\"], test_size=0.2, random_state=341\n",
    ")\n",
    "\n",
    "# Preprocessing\n",
    "ord_features = [\"cut\", \"color\", \"clarity\"]\n",
    "ord_levels = [diamonds[x].cat.categories.to_list() for x in ord_features]\n",
    "\n",
    "encoder = make_column_transformer(\n",
    "    (OrdinalEncoder(categories=ord_levels), ord_features),\n",
    "    (\"passthrough\", [\"carat\"])\n",
    ")\n",
    "\n",
    "X_train = encoder.fit_transform(df_train)\n",
    "X_test = encoder.transform(df_test)\n",
    "\n",
    "# XGBoost data interface (feature_names are added for importance plot)\n",
    "feature_names = ord_features + [\"carat\"]\n",
    "dtrain = xgb.DMatrix(X_train, label=y_train, feature_names=feature_names)\n",
    "dtest = xgb.DMatrix(X_test, label=y_test, feature_names=feature_names)\n"
   ]
  },
  {
   "cell_type": "code",
   "execution_count": 2,
   "metadata": {},
   "outputs": [],
   "source": [
    "# Load grid\n",
    "with open(grid_file) as f:\n",
    "    search = json.load(f)\n",
    "\n",
    "search_df = pd.DataFrame.from_records(\n",
    "    search,\n",
    "    columns=[\"num_boost_round\", \"metric\", \"params\"]\n",
    ").sort_values(\"metric\")"
   ]
  },
  {
   "cell_type": "code",
   "execution_count": 3,
   "metadata": {},
   "outputs": [],
   "source": [
    "# Add constraints to best parameter combo\n",
    "best = search_df.iloc[0]\n",
    "best.params[\"monotone_constraints\"] = \"(0, 0, 0, 1)\"\n",
    "\n",
    "# Fit on best params\n",
    "fit = xgb.train(\n",
    "    params=best.params, \n",
    "    dtrain=dtrain, \n",
    "    num_boost_round=best.num_boost_round\n",
    ")"
   ]
  },
  {
   "cell_type": "code",
   "execution_count": 4,
   "metadata": {},
   "outputs": [
    {
     "name": "stderr",
     "output_type": "stream",
     "text": [
      "C:\\Users\\Michael\\anaconda3\\envs\\ml_lecture\\lib\\site-packages\\dalex\\predict_explanations\\_ceteris_paribus\\checks.py:16: UserWarning: Variables taken from variables_splits\n"
     ]
    },
    {
     "data": {
      "application/vnd.plotly.v1+json": {
       "config": {
        "displaylogo": false,
        "modeBarButtonsToRemove": [
         "sendDataToCloud",
         "lasso2d",
         "autoScale2d",
         "select2d",
         "zoom2d",
         "pan2d",
         "zoomIn2d",
         "zoomOut2d",
         "resetScale2d",
         "toggleSpikelines",
         "hoverCompareCartesian",
         "hoverClosestCartesian"
        ],
        "plotlyServerURL": "https://plot.ly",
        "staticPlot": false,
        "toImageButtonOptions": {
         "height": null,
         "width": null
        }
       },
       "data": [
        {
         "customdata": [
          [
           3869.51171875,
           "Partial depencence for carat",
           "carat"
          ],
          [
           3869.51171875,
           "Partial depencence for carat",
           "carat"
          ],
          [
           3869.51171875,
           "Partial depencence for carat",
           "carat"
          ],
          [
           3869.51171875,
           "Partial depencence for carat",
           "carat"
          ],
          [
           3869.51171875,
           "Partial depencence for carat",
           "carat"
          ],
          [
           3869.51171875,
           "Partial depencence for carat",
           "carat"
          ],
          [
           3869.51171875,
           "Partial depencence for carat",
           "carat"
          ],
          [
           3869.51171875,
           "Partial depencence for carat",
           "carat"
          ],
          [
           3869.51171875,
           "Partial depencence for carat",
           "carat"
          ],
          [
           3869.51171875,
           "Partial depencence for carat",
           "carat"
          ],
          [
           3869.51171875,
           "Partial depencence for carat",
           "carat"
          ],
          [
           3869.51171875,
           "Partial depencence for carat",
           "carat"
          ],
          [
           3869.51171875,
           "Partial depencence for carat",
           "carat"
          ],
          [
           3869.51171875,
           "Partial depencence for carat",
           "carat"
          ],
          [
           3869.51171875,
           "Partial depencence for carat",
           "carat"
          ],
          [
           3869.51171875,
           "Partial depencence for carat",
           "carat"
          ],
          [
           3869.51171875,
           "Partial depencence for carat",
           "carat"
          ],
          [
           3869.51171875,
           "Partial depencence for carat",
           "carat"
          ],
          [
           3869.51171875,
           "Partial depencence for carat",
           "carat"
          ],
          [
           3869.51171875,
           "Partial depencence for carat",
           "carat"
          ],
          [
           3869.51171875,
           "Partial depencence for carat",
           "carat"
          ],
          [
           3869.51171875,
           "Partial depencence for carat",
           "carat"
          ],
          [
           3869.51171875,
           "Partial depencence for carat",
           "carat"
          ],
          [
           3869.51171875,
           "Partial depencence for carat",
           "carat"
          ],
          [
           3869.51171875,
           "Partial depencence for carat",
           "carat"
          ],
          [
           3869.51171875,
           "Partial depencence for carat",
           "carat"
          ],
          [
           3869.51171875,
           "Partial depencence for carat",
           "carat"
          ],
          [
           3869.51171875,
           "Partial depencence for carat",
           "carat"
          ],
          [
           3869.51171875,
           "Partial depencence for carat",
           "carat"
          ],
          [
           3869.51171875,
           "Partial depencence for carat",
           "carat"
          ],
          [
           3869.51171875,
           "Partial depencence for carat",
           "carat"
          ],
          [
           3869.51171875,
           "Partial depencence for carat",
           "carat"
          ],
          [
           3869.51171875,
           "Partial depencence for carat",
           "carat"
          ],
          [
           3869.51171875,
           "Partial depencence for carat",
           "carat"
          ],
          [
           3869.51171875,
           "Partial depencence for carat",
           "carat"
          ],
          [
           3869.51171875,
           "Partial depencence for carat",
           "carat"
          ],
          [
           3869.51171875,
           "Partial depencence for carat",
           "carat"
          ],
          [
           3869.51171875,
           "Partial depencence for carat",
           "carat"
          ],
          [
           3869.51171875,
           "Partial depencence for carat",
           "carat"
          ],
          [
           3869.51171875,
           "Partial depencence for carat",
           "carat"
          ],
          [
           3869.51171875,
           "Partial depencence for carat",
           "carat"
          ]
         ],
         "hovertemplate": "<b>%{hovertext}</b><br><br>prediction=%{y:.3f}<br>mean_prediction=%{customdata[0]:.3f}<extra></extra>",
         "hovertext": [
          "Partial depencence for carat",
          "Partial depencence for carat",
          "Partial depencence for carat",
          "Partial depencence for carat",
          "Partial depencence for carat",
          "Partial depencence for carat",
          "Partial depencence for carat",
          "Partial depencence for carat",
          "Partial depencence for carat",
          "Partial depencence for carat",
          "Partial depencence for carat",
          "Partial depencence for carat",
          "Partial depencence for carat",
          "Partial depencence for carat",
          "Partial depencence for carat",
          "Partial depencence for carat",
          "Partial depencence for carat",
          "Partial depencence for carat",
          "Partial depencence for carat",
          "Partial depencence for carat",
          "Partial depencence for carat",
          "Partial depencence for carat",
          "Partial depencence for carat",
          "Partial depencence for carat",
          "Partial depencence for carat",
          "Partial depencence for carat",
          "Partial depencence for carat",
          "Partial depencence for carat",
          "Partial depencence for carat",
          "Partial depencence for carat",
          "Partial depencence for carat",
          "Partial depencence for carat",
          "Partial depencence for carat",
          "Partial depencence for carat",
          "Partial depencence for carat",
          "Partial depencence for carat",
          "Partial depencence for carat",
          "Partial depencence for carat",
          "Partial depencence for carat",
          "Partial depencence for carat",
          "Partial depencence for carat"
         ],
         "legendgroup": "Partial depencence for carat",
         "line": {
          "color": "#46bac2",
          "dash": "solid",
          "width": 2
         },
         "marker": {
          "symbol": "circle"
         },
         "mode": "lines",
         "name": "Partial depencence for carat",
         "opacity": 1,
         "orientation": "v",
         "showlegend": true,
         "type": "scatter",
         "x": [
          0,
          0.075,
          0.15,
          0.22499999999999998,
          0.3,
          0.375,
          0.44999999999999996,
          0.525,
          0.6,
          0.6749999999999999,
          0.75,
          0.825,
          0.8999999999999999,
          0.975,
          1.05,
          1.125,
          1.2,
          1.275,
          1.3499999999999999,
          1.425,
          1.5,
          1.575,
          1.65,
          1.7249999999999999,
          1.7999999999999998,
          1.875,
          1.95,
          2.025,
          2.1,
          2.175,
          2.25,
          2.3249999999999997,
          2.4,
          2.475,
          2.55,
          2.625,
          2.6999999999999997,
          2.775,
          2.85,
          2.925,
          3
         ],
         "xaxis": "x",
         "y": [
          379.58026123046875,
          379.58026123046875,
          379.58026123046875,
          395.1729431152344,
          536.0858764648438,
          741.3902587890625,
          942.769287109375,
          1531.9310302734375,
          1811.91455078125,
          2249.66259765625,
          2838.1484375,
          3349.210693359375,
          4266.2705078125,
          4709.58349609375,
          6286.49853515625,
          6776.01025390625,
          7574.154296875,
          8505.310546875,
          8939.107421875,
          10297.455078125,
          11838.822265625,
          12838.458984375,
          13421.5712890625,
          14514.578125,
          15335.1357421875,
          15566.0205078125,
          16959.7578125,
          17705.541015625,
          17860.58984375,
          18027.05859375,
          18113.03125,
          18166.2890625,
          18309.67578125,
          18384.60546875,
          18499.466796875,
          18666.248046875,
          18666.86328125,
          18680.66796875,
          18680.66796875,
          18707.7421875,
          18707.7421875
         ],
         "yaxis": "y"
        }
       ],
       "layout": {
        "annotations": [
         {
          "font": {
           "size": 13
          },
          "showarrow": false,
          "text": "carat",
          "x": 0.5,
          "xanchor": "center",
          "xref": "paper",
          "y": 1,
          "yanchor": "bottom",
          "yref": "paper"
         },
         {
          "font": {
           "size": 13
          },
          "showarrow": false,
          "text": "prediction",
          "textangle": -90,
          "x": -0.07,
          "xref": "paper",
          "y": 0.5,
          "yref": "paper"
         }
        ],
        "font": {
         "color": "#371ea3"
        },
        "height": 489,
        "hovermode": "x unified",
        "legend": {
         "font": {
          "size": 11
         },
         "itemsizing": "constant",
         "orientation": "h",
         "title": {
          "font": {
           "size": 12
          },
          "text": "label"
         },
         "tracegroupgap": 0,
         "x": 1,
         "xanchor": "right",
         "y": 1.0613496932515338,
         "yanchor": "bottom"
        },
        "margin": {
         "b": 71,
         "r": 30,
         "t": 78
        },
        "template": {
         "data": {
          "scatter": [
           {
            "type": "scatter"
           }
          ]
         }
        },
        "title": {
         "font": {
          "size": 16
         },
         "text": "Aggregated Profiles",
         "x": 0.15
        },
        "xaxis": {
         "anchor": "y",
         "automargin": true,
         "domain": [
          0,
          1
         ],
         "fixedrange": true,
         "gridwidth": 2,
         "showticklabels": true,
         "tickcolor": "white",
         "ticklen": 3,
         "ticks": "outside",
         "title": {
          "text": ""
         },
         "type": "linear",
         "zeroline": false
        },
        "yaxis": {
         "anchor": "x",
         "automargin": true,
         "domain": [
          0,
          1
         ],
         "fixedrange": true,
         "gridwidth": 2,
         "range": [
          -1453.2359497070313,
          20540.5583984375
         ],
         "tickcolor": "white",
         "ticklen": 3,
         "ticks": "outside",
         "title": {
          "text": ""
         },
         "type": "linear",
         "zeroline": false
        }
       }
      }
     },
     "metadata": {},
     "output_type": "display_data"
    }
   ],
   "source": [
    "# Interpret model\n",
    "import numpy as np\n",
    "import dalex as dx\n",
    "\n",
    "# Partial dependence plots on training data\n",
    "def pred_fun(model, df):\n",
    "    X = encoder.transform(df)\n",
    "    dX = xgb.DMatrix(X, feature_names=feature_names)\n",
    "    return model.predict(dX)\n",
    "\n",
    "exp = dx.Explainer(fit, df_train, predict_function=pred_fun, verbose=False)\n",
    "\n",
    "pdp_num = exp.model_profile(\n",
    "    variable_splits={\"carat\": np.linspace(0, 3, 41)},\n",
    "    label=\"Partial depencence for carat\",\n",
    "    verbose=False\n",
    ")\n",
    "pdp_num.plot()"
   ]
  },
  {
   "cell_type": "markdown",
   "metadata": {},
   "source": [
    "**Comment:** The argument is called \"monotone_constraints\". For each covariate, a value 0 means no constraint, a value -1 means a negative constraints, and a value 1 means positive constraint. Applying the constraint now leads to a monotonically increasing partial dependence plot. This is extremely useful in practice. Besides monotonic constraints, also interaction constraints are possible.\n",
    "\n",
    "### Exercise 2"
   ]
  },
  {
   "cell_type": "code",
   "execution_count": 1,
   "metadata": {},
   "outputs": [],
   "source": [
    "# We adapt the template from the lecture notes\n",
    "import json\n",
    "from pathlib import Path\n",
    "import pandas as pd\n",
    "from plotnine.data import diamonds\n",
    "from sklearn.preprocessing import OrdinalEncoder\n",
    "from sklearn.model_selection import train_test_split\n",
    "from sklearn.compose import make_column_transformer\n",
    "import xgboost as xgb\n",
    "\n",
    "# Load data\n",
    "car = pd.read_csv(\"car.csv\")  # see readme how to get the data\n",
    "\n",
    "# General settings\n",
    "grid_file = Path(\"gridsearch\")/\"claims_xgb.txt\"\n",
    "objective = \"binary:logistic\"\n",
    "metric = \"logloss\"\n",
    "\n",
    "# Train/test split stratified on the response\n",
    "df_train, df_test, y_train, y_test = train_test_split(\n",
    "    car, car[\"clm\"], test_size=0.2, random_state=341, stratify=car[\"clm\"]\n",
    ")\n",
    "\n",
    "# Preprocessing\n",
    "num_features = [\"veh_value\", \"veh_age\", \"agecat\"]\n",
    "ord_features = [\"gender\", \"area\", \"veh_body\"]\n",
    "ord_levels = [sorted(car[v].unique()) for v in ord_features]\n",
    "\n",
    "encoder = make_column_transformer(\n",
    "    (OrdinalEncoder(categories=ord_levels), ord_features),\n",
    "    (\"passthrough\", num_features)\n",
    ")\n",
    "\n",
    "X_train = encoder.fit_transform(df_train)\n",
    "X_test = encoder.transform(df_test)\n",
    "\n",
    "# XGBoost data interface (feature_names are added for importance plot)\n",
    "feature_names = ord_features + num_features  # same order as in encoder\n",
    "dtrain = xgb.DMatrix(X_train, label=y_train, feature_names=feature_names)\n",
    "dtest = xgb.DMatrix(X_test, label=y_test, feature_names=feature_names)"
   ]
  },
  {
   "cell_type": "code",
   "execution_count": 2,
   "metadata": {},
   "outputs": [
    {
     "name": "stdout",
     "output_type": "stream",
     "text": [
      "Best boosting round with default params:\n",
      "      train-logloss-mean  train-logloss-std  test-logloss-mean  \\\n",
      "223            0.242031           0.000396           0.249019   \n",
      "\n",
      "     test-logloss-std  \n",
      "223          0.000565  \n"
     ]
    }
   ],
   "source": [
    "# Step 1: Find learning rate with reasonable tree count (0.05 seems ok)\n",
    "if False:\n",
    "    params = {\n",
    "        \"learning_rate\": 0.02,\n",
    "        \"objective\": objective,\n",
    "        \"eval_metric\": metric\n",
    "    }\n",
    "    \n",
    "    # Cross-validation\n",
    "    cvm = xgb.cv(\n",
    "        params=params, \n",
    "        dtrain=dtrain,\n",
    "        num_boost_round=5000,\n",
    "        nfold=5,\n",
    "        stratified=True,\n",
    "        early_stopping_rounds=20\n",
    "    )\n",
    "\n",
    "    # A LR of 0.02 provides about 200 trees, which is convenient\n",
    "    print(\"Best boosting round with default params:\\n\", cvm.tail(1))"
   ]
  },
  {
   "cell_type": "code",
   "execution_count": 3,
   "metadata": {},
   "outputs": [
    {
     "data": {
      "text/html": [
       "<div>\n",
       "<style scoped>\n",
       "    .dataframe tbody tr th:only-of-type {\n",
       "        vertical-align: middle;\n",
       "    }\n",
       "\n",
       "    .dataframe tbody tr th {\n",
       "        vertical-align: top;\n",
       "    }\n",
       "\n",
       "    .dataframe thead th {\n",
       "        text-align: right;\n",
       "    }\n",
       "</style>\n",
       "<table border=\"1\" class=\"dataframe\">\n",
       "  <thead>\n",
       "    <tr style=\"text-align: right;\">\n",
       "      <th></th>\n",
       "      <th>num_boost_round</th>\n",
       "      <th>metric</th>\n",
       "      <th>params</th>\n",
       "    </tr>\n",
       "  </thead>\n",
       "  <tbody>\n",
       "    <tr>\n",
       "      <th>9</th>\n",
       "      <td>281</td>\n",
       "      <td>0.248124</td>\n",
       "      <td>{'subsample': 1, 'reg_lambda': 0, 'reg_alpha': 4, 'objective': 'binary:logistic', 'min_split_loss': 0, 'min_child_weight': 10, 'max_depth': 4, 'learning_rate': 0.02, 'eval_metric': 'logloss', 'colsample_bytree': 0.8}</td>\n",
       "    </tr>\n",
       "    <tr>\n",
       "      <th>16</th>\n",
       "      <td>298</td>\n",
       "      <td>0.248133</td>\n",
       "      <td>{'subsample': 0.8, 'reg_lambda': 7.5, 'reg_alpha': 4, 'objective': 'binary:logistic', 'min_split_loss': 0, 'min_child_weight': 10, 'max_depth': 4, 'learning_rate': 0.02, 'eval_metric': 'logloss', 'colsample_bytree': 1}</td>\n",
       "    </tr>\n",
       "    <tr>\n",
       "      <th>4</th>\n",
       "      <td>265</td>\n",
       "      <td>0.248168</td>\n",
       "      <td>{'subsample': 1, 'reg_lambda': 5, 'reg_alpha': 4, 'objective': 'binary:logistic', 'min_split_loss': 0, 'min_child_weight': 1, 'max_depth': 5, 'learning_rate': 0.02, 'eval_metric': 'logloss', 'colsample_bytree': 0.8}</td>\n",
       "    </tr>\n",
       "    <tr>\n",
       "      <th>2</th>\n",
       "      <td>254</td>\n",
       "      <td>0.248214</td>\n",
       "      <td>{'subsample': 0.8, 'reg_lambda': 5, 'reg_alpha': 4, 'objective': 'binary:logistic', 'min_split_loss': 0, 'min_child_weight': 10, 'max_depth': 5, 'learning_rate': 0.02, 'eval_metric': 'logloss', 'colsample_bytree': 1}</td>\n",
       "    </tr>\n",
       "    <tr>\n",
       "      <th>1</th>\n",
       "      <td>275</td>\n",
       "      <td>0.248221</td>\n",
       "      <td>{'subsample': 1, 'reg_lambda': 7.5, 'reg_alpha': 0, 'objective': 'binary:logistic', 'min_split_loss': 0, 'min_child_weight': 10, 'max_depth': 4, 'learning_rate': 0.02, 'eval_metric': 'logloss', 'colsample_bytree': 1}</td>\n",
       "    </tr>\n",
       "  </tbody>\n",
       "</table>\n",
       "</div>"
      ],
      "text/plain": [
       "    num_boost_round    metric  \\\n",
       "9               281  0.248124   \n",
       "16              298  0.248133   \n",
       "4               265  0.248168   \n",
       "2               254  0.248214   \n",
       "1               275  0.248221   \n",
       "\n",
       "                                                                                                                                                                                                                        params  \n",
       "9     {'subsample': 1, 'reg_lambda': 0, 'reg_alpha': 4, 'objective': 'binary:logistic', 'min_split_loss': 0, 'min_child_weight': 10, 'max_depth': 4, 'learning_rate': 0.02, 'eval_metric': 'logloss', 'colsample_bytree': 0.8}  \n",
       "16  {'subsample': 0.8, 'reg_lambda': 7.5, 'reg_alpha': 4, 'objective': 'binary:logistic', 'min_split_loss': 0, 'min_child_weight': 10, 'max_depth': 4, 'learning_rate': 0.02, 'eval_metric': 'logloss', 'colsample_bytree': 1}  \n",
       "4      {'subsample': 1, 'reg_lambda': 5, 'reg_alpha': 4, 'objective': 'binary:logistic', 'min_split_loss': 0, 'min_child_weight': 1, 'max_depth': 5, 'learning_rate': 0.02, 'eval_metric': 'logloss', 'colsample_bytree': 0.8}  \n",
       "2     {'subsample': 0.8, 'reg_lambda': 5, 'reg_alpha': 4, 'objective': 'binary:logistic', 'min_split_loss': 0, 'min_child_weight': 10, 'max_depth': 5, 'learning_rate': 0.02, 'eval_metric': 'logloss', 'colsample_bytree': 1}  \n",
       "1     {'subsample': 1, 'reg_lambda': 7.5, 'reg_alpha': 0, 'objective': 'binary:logistic', 'min_split_loss': 0, 'min_child_weight': 10, 'max_depth': 4, 'learning_rate': 0.02, 'eval_metric': 'logloss', 'colsample_bytree': 1}  "
      ]
     },
     "metadata": {},
     "output_type": "display_data"
    }
   ],
   "source": [
    "# Step 2: Iterate randomized SearchCV for regularization parameters\n",
    "if False:\n",
    "    from tqdm import tqdm\n",
    "    from sklearn.model_selection import ParameterSampler #, ParameterGrid\n",
    "    # Use ParameterGrid(...) if grid is small enough to check all combinations\n",
    "    \n",
    "    # Final grid search after some iterations\n",
    "    grid = ParameterSampler(\n",
    "        {\n",
    "            \"learning_rate\": [0.02],\n",
    "            \"objective\": [objective],\n",
    "            \"eval_metric\": [metric],\n",
    "            \"max_depth\": [3, 4, 5, 6],\n",
    "            \"min_child_weight\": [1, 10],\n",
    "            \"colsample_bytree\": [0.8, 1],\n",
    "            \"subsample\": [0.8, 1],\n",
    "            \"reg_lambda\": [0, 2.5, 5, 7.5],\n",
    "            \"reg_alpha\": [0, 4],\n",
    "            # \"tree_method\": [\"hist\"],   # when data is large\n",
    "            \"min_split_loss\": [0, 0.0001]\n",
    "        },\n",
    "        n_iter=20\n",
    "    )\n",
    "\n",
    "    # Iterate over grid and save relevant information on disk\n",
    "    search = []\n",
    "    for g in tqdm(grid):\n",
    "        cvm = xgb.cv(params=g, dtrain=dtrain, num_boost_round=5000, \n",
    "                     nfold=5, early_stopping_rounds=20, as_pandas=False)\n",
    "        best = cvm[f\"test-{metric}-mean\"]\n",
    "        search.append((len(best), best[-1], g))\n",
    "\n",
    "        with open(grid_file, \"w\") as f:\n",
    "            json.dump(search, f)\n",
    "\n",
    "# Load grid and check (A) sort order and (B) if grid ranges were set reasonable\n",
    "with open(grid_file) as f:\n",
    "    search = json.load(f)\n",
    "\n",
    "search_df = pd.DataFrame.from_records(\n",
    "    search, \n",
    "    columns=[\"num_boost_round\", \"metric\", \"params\"]\n",
    ").sort_values(\"metric\")\n",
    "\n",
    "with pd.option_context(\"display.max_colwidth\", None):\n",
    "    display(search_df.head())"
   ]
  },
  {
   "cell_type": "code",
   "execution_count": 4,
   "metadata": {},
   "outputs": [],
   "source": [
    "# Step 3: Fit on best params\n",
    "best = search_df.iloc[0]\n",
    "\n",
    "fit = xgb.train(\n",
    "    params=best.params, \n",
    "    dtrain=dtrain, \n",
    "    num_boost_round=best.num_boost_round\n",
    ")"
   ]
  },
  {
   "cell_type": "code",
   "execution_count": 5,
   "metadata": {},
   "outputs": [
    {
     "name": "stdout",
     "output_type": "stream",
     "text": [
      "Test log-loss:  0.248\n",
      "Relative improvement in log-loss:  0.430%\n"
     ]
    },
    {
     "name": "stderr",
     "output_type": "stream",
     "text": [
      "C:\\Users\\Michael\\anaconda3\\envs\\ml_lecture\\lib\\site-packages\\dalex\\predict_explanations\\_ceteris_paribus\\checks.py:16: UserWarning: Variables taken from variables_splits\n"
     ]
    },
    {
     "data": {
      "application/vnd.plotly.v1+json": {
       "config": {
        "displaylogo": false,
        "modeBarButtonsToRemove": [
         "sendDataToCloud",
         "lasso2d",
         "autoScale2d",
         "select2d",
         "zoom2d",
         "pan2d",
         "zoomIn2d",
         "zoomOut2d",
         "resetScale2d",
         "toggleSpikelines",
         "hoverCompareCartesian",
         "hoverClosestCartesian"
        ],
        "plotlyServerURL": "https://plot.ly",
        "staticPlot": false,
        "toImageButtonOptions": {
         "height": null,
         "width": null
        }
       },
       "data": [
        {
         "customdata": [
          [
           0.07100299745798111,
           "Partial depencence for numeric variables",
           "veh_value"
          ],
          [
           0.07100299745798111,
           "Partial depencence for numeric variables",
           "veh_value"
          ],
          [
           0.07100299745798111,
           "Partial depencence for numeric variables",
           "veh_value"
          ],
          [
           0.07100299745798111,
           "Partial depencence for numeric variables",
           "veh_value"
          ],
          [
           0.07100299745798111,
           "Partial depencence for numeric variables",
           "veh_value"
          ],
          [
           0.07100299745798111,
           "Partial depencence for numeric variables",
           "veh_value"
          ],
          [
           0.07100299745798111,
           "Partial depencence for numeric variables",
           "veh_value"
          ],
          [
           0.07100299745798111,
           "Partial depencence for numeric variables",
           "veh_value"
          ],
          [
           0.07100299745798111,
           "Partial depencence for numeric variables",
           "veh_value"
          ],
          [
           0.07100299745798111,
           "Partial depencence for numeric variables",
           "veh_value"
          ],
          [
           0.07100299745798111,
           "Partial depencence for numeric variables",
           "veh_value"
          ],
          [
           0.07100299745798111,
           "Partial depencence for numeric variables",
           "veh_value"
          ],
          [
           0.07100299745798111,
           "Partial depencence for numeric variables",
           "veh_value"
          ],
          [
           0.07100299745798111,
           "Partial depencence for numeric variables",
           "veh_value"
          ],
          [
           0.07100299745798111,
           "Partial depencence for numeric variables",
           "veh_value"
          ],
          [
           0.07100299745798111,
           "Partial depencence for numeric variables",
           "veh_value"
          ],
          [
           0.07100299745798111,
           "Partial depencence for numeric variables",
           "veh_value"
          ],
          [
           0.07100299745798111,
           "Partial depencence for numeric variables",
           "veh_value"
          ],
          [
           0.07100299745798111,
           "Partial depencence for numeric variables",
           "veh_value"
          ],
          [
           0.07100299745798111,
           "Partial depencence for numeric variables",
           "veh_value"
          ],
          [
           0.07100299745798111,
           "Partial depencence for numeric variables",
           "veh_value"
          ],
          [
           0.07100299745798111,
           "Partial depencence for numeric variables",
           "veh_value"
          ],
          [
           0.07100299745798111,
           "Partial depencence for numeric variables",
           "veh_value"
          ],
          [
           0.07100299745798111,
           "Partial depencence for numeric variables",
           "veh_value"
          ],
          [
           0.07100299745798111,
           "Partial depencence for numeric variables",
           "veh_value"
          ],
          [
           0.07100299745798111,
           "Partial depencence for numeric variables",
           "veh_value"
          ],
          [
           0.07100299745798111,
           "Partial depencence for numeric variables",
           "veh_value"
          ],
          [
           0.07100299745798111,
           "Partial depencence for numeric variables",
           "veh_value"
          ],
          [
           0.07100299745798111,
           "Partial depencence for numeric variables",
           "veh_value"
          ],
          [
           0.07100299745798111,
           "Partial depencence for numeric variables",
           "veh_value"
          ],
          [
           0.07100299745798111,
           "Partial depencence for numeric variables",
           "veh_value"
          ],
          [
           0.07100299745798111,
           "Partial depencence for numeric variables",
           "veh_value"
          ],
          [
           0.07100299745798111,
           "Partial depencence for numeric variables",
           "veh_value"
          ],
          [
           0.07100299745798111,
           "Partial depencence for numeric variables",
           "veh_value"
          ],
          [
           0.07100299745798111,
           "Partial depencence for numeric variables",
           "veh_value"
          ],
          [
           0.07100299745798111,
           "Partial depencence for numeric variables",
           "veh_value"
          ],
          [
           0.07100299745798111,
           "Partial depencence for numeric variables",
           "veh_value"
          ],
          [
           0.07100299745798111,
           "Partial depencence for numeric variables",
           "veh_value"
          ],
          [
           0.07100299745798111,
           "Partial depencence for numeric variables",
           "veh_value"
          ],
          [
           0.07100299745798111,
           "Partial depencence for numeric variables",
           "veh_value"
          ],
          [
           0.07100299745798111,
           "Partial depencence for numeric variables",
           "veh_value"
          ]
         ],
         "hovertemplate": "<b>%{hovertext}</b><br><br>prediction=%{y:.3f}<br>mean_prediction=%{customdata[0]:.3f}<extra></extra>",
         "hovertext": [
          "Partial depencence for numeric variables",
          "Partial depencence for numeric variables",
          "Partial depencence for numeric variables",
          "Partial depencence for numeric variables",
          "Partial depencence for numeric variables",
          "Partial depencence for numeric variables",
          "Partial depencence for numeric variables",
          "Partial depencence for numeric variables",
          "Partial depencence for numeric variables",
          "Partial depencence for numeric variables",
          "Partial depencence for numeric variables",
          "Partial depencence for numeric variables",
          "Partial depencence for numeric variables",
          "Partial depencence for numeric variables",
          "Partial depencence for numeric variables",
          "Partial depencence for numeric variables",
          "Partial depencence for numeric variables",
          "Partial depencence for numeric variables",
          "Partial depencence for numeric variables",
          "Partial depencence for numeric variables",
          "Partial depencence for numeric variables",
          "Partial depencence for numeric variables",
          "Partial depencence for numeric variables",
          "Partial depencence for numeric variables",
          "Partial depencence for numeric variables",
          "Partial depencence for numeric variables",
          "Partial depencence for numeric variables",
          "Partial depencence for numeric variables",
          "Partial depencence for numeric variables",
          "Partial depencence for numeric variables",
          "Partial depencence for numeric variables",
          "Partial depencence for numeric variables",
          "Partial depencence for numeric variables",
          "Partial depencence for numeric variables",
          "Partial depencence for numeric variables",
          "Partial depencence for numeric variables",
          "Partial depencence for numeric variables",
          "Partial depencence for numeric variables",
          "Partial depencence for numeric variables",
          "Partial depencence for numeric variables",
          "Partial depencence for numeric variables"
         ],
         "legendgroup": "Partial depencence for numeric variables",
         "line": {
          "color": "#46bac2",
          "dash": "solid",
          "width": 2
         },
         "marker": {
          "symbol": "circle"
         },
         "mode": "lines",
         "name": "Partial depencence for numeric variables",
         "opacity": 1,
         "orientation": "v",
         "showlegend": true,
         "type": "scatter",
         "x": [
          0,
          0.125,
          0.25,
          0.375,
          0.5,
          0.625,
          0.75,
          0.875,
          1,
          1.125,
          1.25,
          1.375,
          1.5,
          1.625,
          1.75,
          1.875,
          2,
          2.125,
          2.25,
          2.375,
          2.5,
          2.625,
          2.75,
          2.875,
          3,
          3.125,
          3.25,
          3.375,
          3.5,
          3.625,
          3.75,
          3.875,
          4,
          4.125,
          4.25,
          4.375,
          4.5,
          4.625,
          4.75,
          4.875,
          5
         ],
         "xaxis": "x3",
         "y": [
          0.05783349648118019,
          0.05783349648118019,
          0.05783349648118019,
          0.05855179950594902,
          0.060552120208740234,
          0.05999132990837097,
          0.06073678284883499,
          0.06074799224734306,
          0.06449256837368011,
          0.06389110535383224,
          0.06361597776412964,
          0.06951837986707687,
          0.07332967966794968,
          0.07179385423660278,
          0.07017096132040024,
          0.07268936187028885,
          0.07428614795207977,
          0.08183912187814713,
          0.07942072302103043,
          0.07988668233156204,
          0.07612451910972595,
          0.07658824324607849,
          0.07635081559419632,
          0.07808002084493637,
          0.08008057624101639,
          0.08010897785425186,
          0.08027788251638412,
          0.08098483085632324,
          0.08099532127380371,
          0.08063759654760361,
          0.08068546652793884,
          0.08043698221445084,
          0.08043698221445084,
          0.08015937358140945,
          0.08015937358140945,
          0.07999313622713089,
          0.08372456580400467,
          0.08372456580400467,
          0.08253456652164459,
          0.08253456652164459,
          0.08253456652164459
         ],
         "yaxis": "y3"
        },
        {
         "customdata": [
          [
           0.07100299745798111,
           "Partial depencence for numeric variables",
           "agecat"
          ],
          [
           0.07100299745798111,
           "Partial depencence for numeric variables",
           "agecat"
          ],
          [
           0.07100299745798111,
           "Partial depencence for numeric variables",
           "agecat"
          ],
          [
           0.07100299745798111,
           "Partial depencence for numeric variables",
           "agecat"
          ],
          [
           0.07100299745798111,
           "Partial depencence for numeric variables",
           "agecat"
          ],
          [
           0.07100299745798111,
           "Partial depencence for numeric variables",
           "agecat"
          ]
         ],
         "hovertemplate": "<b>%{hovertext}</b><br><br>prediction=%{y:.3f}<br>mean_prediction=%{customdata[0]:.3f}<extra></extra>",
         "hovertext": [
          "Partial depencence for numeric variables",
          "Partial depencence for numeric variables",
          "Partial depencence for numeric variables",
          "Partial depencence for numeric variables",
          "Partial depencence for numeric variables",
          "Partial depencence for numeric variables"
         ],
         "legendgroup": "Partial depencence for numeric variables",
         "line": {
          "color": "#46bac2",
          "dash": "solid",
          "width": 2
         },
         "marker": {
          "symbol": "circle"
         },
         "mode": "lines",
         "name": "Partial depencence for numeric variables",
         "opacity": 1,
         "orientation": "v",
         "showlegend": false,
         "type": "scatter",
         "x": [
          1,
          2,
          3,
          4,
          5,
          6
         ],
         "xaxis": "x4",
         "y": [
          0.08473488688468933,
          0.07378902286291122,
          0.07372605800628662,
          0.07021705061197281,
          0.06139203533530235,
          0.06247664615511894
         ],
         "yaxis": "y4"
        },
        {
         "customdata": [
          [
           0.07100299745798111,
           "Partial depencence for numeric variables",
           "veh_age"
          ],
          [
           0.07100299745798111,
           "Partial depencence for numeric variables",
           "veh_age"
          ],
          [
           0.07100299745798111,
           "Partial depencence for numeric variables",
           "veh_age"
          ],
          [
           0.07100299745798111,
           "Partial depencence for numeric variables",
           "veh_age"
          ]
         ],
         "hovertemplate": "<b>%{hovertext}</b><br><br>prediction=%{y:.3f}<br>mean_prediction=%{customdata[0]:.3f}<extra></extra>",
         "hovertext": [
          "Partial depencence for numeric variables",
          "Partial depencence for numeric variables",
          "Partial depencence for numeric variables",
          "Partial depencence for numeric variables"
         ],
         "legendgroup": "Partial depencence for numeric variables",
         "line": {
          "color": "#46bac2",
          "dash": "solid",
          "width": 2
         },
         "marker": {
          "symbol": "circle"
         },
         "mode": "lines",
         "name": "Partial depencence for numeric variables",
         "opacity": 1,
         "orientation": "v",
         "showlegend": false,
         "type": "scatter",
         "x": [
          1,
          2,
          3,
          4
         ],
         "xaxis": "x",
         "y": [
          0.06773842871189117,
          0.07230714708566666,
          0.07177766412496567,
          0.07204657047986984
         ],
         "yaxis": "y"
        }
       ],
       "layout": {
        "annotations": [
         {
          "font": {
           "size": 13
          },
          "showarrow": false,
          "text": "veh_age",
          "x": 0.2375,
          "xanchor": "center",
          "xref": "paper",
          "y": 0.425,
          "yanchor": "bottom",
          "yref": "paper"
         },
         {
          "font": {
           "size": 13
          },
          "showarrow": false,
          "text": "veh_value",
          "x": 0.2375,
          "xanchor": "center",
          "xref": "paper",
          "y": 1,
          "yanchor": "bottom",
          "yref": "paper"
         },
         {
          "font": {
           "size": 13
          },
          "showarrow": false,
          "text": "agecat",
          "x": 0.7625,
          "xanchor": "center",
          "xref": "paper",
          "y": 1,
          "yanchor": "bottom",
          "yref": "paper"
         },
         {
          "font": {
           "size": 13
          },
          "showarrow": false,
          "text": "prediction",
          "textangle": -90,
          "x": -0.07,
          "xref": "paper",
          "y": 0.5,
          "yref": "paper"
         }
        ],
        "font": {
         "color": "#371ea3"
        },
        "height": 829,
        "hovermode": "x unified",
        "legend": {
         "font": {
          "size": 11
         },
         "itemsizing": "constant",
         "orientation": "h",
         "title": {
          "font": {
           "size": 12
          },
          "text": "label"
         },
         "tracegroupgap": 0,
         "x": 1,
         "xanchor": "right",
         "y": 1.0361881785283473,
         "yanchor": "bottom"
        },
        "margin": {
         "b": 71,
         "r": 30,
         "t": 78
        },
        "template": {
         "data": {
          "scatter": [
           {
            "type": "scatter"
           }
          ]
         }
        },
        "title": {
         "font": {
          "size": 16
         },
         "text": "Aggregated Profiles",
         "x": 0.15
        },
        "xaxis": {
         "anchor": "y",
         "automargin": true,
         "domain": [
          0,
          0.475
         ],
         "fixedrange": true,
         "gridwidth": 2,
         "showticklabels": true,
         "tickcolor": "white",
         "ticklen": 3,
         "ticks": "outside",
         "title": {
          "text": ""
         },
         "type": "linear",
         "zeroline": false
        },
        "xaxis2": {
         "anchor": "y2",
         "automargin": true,
         "domain": [
          0.525,
          1
         ],
         "fixedrange": true,
         "gridwidth": 2,
         "showticklabels": true,
         "tickcolor": "white",
         "ticklen": 3,
         "ticks": "outside",
         "title": {
          "text": ""
         },
         "type": "linear",
         "zeroline": false
        },
        "xaxis3": {
         "anchor": "y3",
         "automargin": true,
         "domain": [
          0,
          0.475
         ],
         "fixedrange": true,
         "gridwidth": 2,
         "showticklabels": true,
         "tickcolor": "white",
         "ticklen": 3,
         "ticks": "outside",
         "title": {
          "text": ""
         },
         "type": "linear",
         "zeroline": false
        },
        "xaxis4": {
         "anchor": "y4",
         "automargin": true,
         "domain": [
          0.525,
          1
         ],
         "fixedrange": true,
         "gridwidth": 2,
         "showticklabels": true,
         "tickcolor": "white",
         "ticklen": 3,
         "ticks": "outside",
         "title": {
          "text": ""
         },
         "type": "linear",
         "zeroline": false
        },
        "yaxis": {
         "anchor": "x",
         "automargin": true,
         "domain": [
          0,
          0.425
         ],
         "fixedrange": true,
         "gridwidth": 2,
         "range": [
          0.05514335744082928,
          0.08742502592504024
         ],
         "tickcolor": "white",
         "ticklen": 3,
         "ticks": "outside",
         "title": {
          "text": ""
         },
         "type": "linear",
         "zeroline": false
        },
        "yaxis2": {
         "anchor": "x2",
         "automargin": true,
         "domain": [
          0,
          0.425
         ],
         "fixedrange": true,
         "gridwidth": 2,
         "matches": "y",
         "range": [
          0.05514335744082928,
          0.08742502592504024
         ],
         "showticklabels": false,
         "tickcolor": "white",
         "ticklen": 3,
         "ticks": "outside",
         "title": {
          "text": ""
         },
         "type": "linear",
         "zeroline": false
        },
        "yaxis3": {
         "anchor": "x3",
         "automargin": true,
         "domain": [
          0.575,
          1
         ],
         "fixedrange": true,
         "gridwidth": 2,
         "matches": "y",
         "range": [
          0.05514335744082928,
          0.08742502592504024
         ],
         "tickcolor": "white",
         "ticklen": 3,
         "ticks": "outside",
         "title": {
          "text": ""
         },
         "type": "linear",
         "zeroline": false
        },
        "yaxis4": {
         "anchor": "x4",
         "automargin": true,
         "domain": [
          0.575,
          1
         ],
         "fixedrange": true,
         "gridwidth": 2,
         "matches": "y",
         "range": [
          0.05514335744082928,
          0.08742502592504024
         ],
         "showticklabels": false,
         "tickcolor": "white",
         "ticklen": 3,
         "ticks": "outside",
         "title": {
          "text": ""
         },
         "type": "linear",
         "zeroline": false
        }
       }
      }
     },
     "metadata": {},
     "output_type": "display_data"
    },
    {
     "name": "stderr",
     "output_type": "stream",
     "text": [
      "C:\\Users\\Michael\\anaconda3\\envs\\ml_lecture\\lib\\site-packages\\dalex\\predict_explanations\\_ceteris_paribus\\checks.py:16: UserWarning:\n",
      "\n",
      "Variables taken from variables_splits\n",
      "\n"
     ]
    },
    {
     "data": {
      "application/vnd.plotly.v1+json": {
       "config": {
        "displaylogo": false,
        "modeBarButtonsToRemove": [
         "sendDataToCloud",
         "lasso2d",
         "autoScale2d",
         "select2d",
         "zoom2d",
         "pan2d",
         "zoomIn2d",
         "zoomOut2d",
         "resetScale2d",
         "toggleSpikelines",
         "hoverCompareCartesian",
         "hoverClosestCartesian"
        ],
        "plotlyServerURL": "https://plot.ly",
        "staticPlot": false,
        "toImageButtonOptions": {
         "height": null,
         "width": null
        }
       },
       "data": [
        {
         "alignmentgroup": "True",
         "base": [
          0.06948146224021912,
          0.06948146224021912
         ],
         "customdata": [
          [
           0.06970039755105972,
           "Partial depencence for ordinal variables",
           "gender"
          ],
          [
           0.06934027373790741,
           "Partial depencence for ordinal variables",
           "gender"
          ]
         ],
         "hovertemplate": "<b>%{hovertext}</b><br><br>mean_prediction=%{base:.3f}<br>prediction=%{customdata[0]:.3f}<extra></extra>",
         "hovertext": [
          "Partial depencence for ordinal variables",
          "Partial depencence for ordinal variables"
         ],
         "legendgroup": "Partial depencence for ordinal variables",
         "marker": {
          "color": "#46bac2",
          "pattern": {
           "shape": ""
          }
         },
         "name": "Partial depencence for ordinal variables",
         "offsetgroup": "Partial depencence for ordinal variables",
         "orientation": "v",
         "showlegend": true,
         "textposition": "auto",
         "type": "bar",
         "x": [
          "F",
          "M"
         ],
         "xaxis": "x3",
         "y": [
          0.0002189353108406067,
          -0.00014118850231170654
         ],
         "yaxis": "y3"
        },
        {
         "alignmentgroup": "True",
         "base": [
          0.06948146224021912,
          0.06948146224021912,
          0.06948146224021912,
          0.06948146224021912,
          0.06948146224021912,
          0.06948146224021912
         ],
         "customdata": [
          [
           0.06990816444158554,
           "Partial depencence for ordinal variables",
           "area"
          ],
          [
           0.07025891542434692,
           "Partial depencence for ordinal variables",
           "area"
          ],
          [
           0.06936288625001907,
           "Partial depencence for ordinal variables",
           "area"
          ],
          [
           0.06719164550304413,
           "Partial depencence for ordinal variables",
           "area"
          ],
          [
           0.06840608268976212,
           "Partial depencence for ordinal variables",
           "area"
          ],
          [
           0.0736025869846344,
           "Partial depencence for ordinal variables",
           "area"
          ]
         ],
         "hovertemplate": "<b>%{hovertext}</b><br><br>mean_prediction=%{base:.3f}<br>prediction=%{customdata[0]:.3f}<extra></extra>",
         "hovertext": [
          "Partial depencence for ordinal variables",
          "Partial depencence for ordinal variables",
          "Partial depencence for ordinal variables",
          "Partial depencence for ordinal variables",
          "Partial depencence for ordinal variables",
          "Partial depencence for ordinal variables"
         ],
         "legendgroup": "Partial depencence for ordinal variables",
         "marker": {
          "color": "#46bac2",
          "pattern": {
           "shape": ""
          }
         },
         "name": "Partial depencence for ordinal variables",
         "offsetgroup": "Partial depencence for ordinal variables",
         "orientation": "v",
         "showlegend": false,
         "textposition": "auto",
         "type": "bar",
         "x": [
          "A",
          "B",
          "C",
          "D",
          "E",
          "F"
         ],
         "xaxis": "x4",
         "y": [
          0.00042670220136642456,
          0.0007774531841278076,
          -0.00011857599020004272,
          -0.002289816737174988,
          -0.0010753795504570007,
          0.004121124744415283
         ],
         "yaxis": "y4"
        },
        {
         "alignmentgroup": "True",
         "base": [
          0.06948146224021912,
          0.06948146224021912,
          0.06948146224021912,
          0.06948146224021912,
          0.06948146224021912,
          0.06948146224021912,
          0.06948146224021912,
          0.06948146224021912,
          0.06948146224021912,
          0.06948146224021912,
          0.06948146224021912,
          0.06948146224021912,
          0.06948146224021912
         ],
         "customdata": [
          [
           0.08484295010566711,
           "Partial depencence for ordinal variables",
           "veh_body"
          ],
          [
           0.08484295010566711,
           "Partial depencence for ordinal variables",
           "veh_body"
          ],
          [
           0.08484295010566711,
           "Partial depencence for ordinal variables",
           "veh_body"
          ],
          [
           0.07145940512418747,
           "Partial depencence for ordinal variables",
           "veh_body"
          ],
          [
           0.07236068695783615,
           "Partial depencence for ordinal variables",
           "veh_body"
          ],
          [
           0.07235915958881378,
           "Partial depencence for ordinal variables",
           "veh_body"
          ],
          [
           0.07241411507129669,
           "Partial depencence for ordinal variables",
           "veh_body"
          ],
          [
           0.0723189264535904,
           "Partial depencence for ordinal variables",
           "veh_body"
          ],
          [
           0.07054369151592255,
           "Partial depencence for ordinal variables",
           "veh_body"
          ],
          [
           0.07011912763118744,
           "Partial depencence for ordinal variables",
           "veh_body"
          ],
          [
           0.06809829920530319,
           "Partial depencence for ordinal variables",
           "veh_body"
          ],
          [
           0.06764806807041168,
           "Partial depencence for ordinal variables",
           "veh_body"
          ],
          [
           0.059909429401159286,
           "Partial depencence for ordinal variables",
           "veh_body"
          ]
         ],
         "hovertemplate": "<b>%{hovertext}</b><br><br>mean_prediction=%{base:.3f}<br>prediction=%{customdata[0]:.3f}<extra></extra>",
         "hovertext": [
          "Partial depencence for ordinal variables",
          "Partial depencence for ordinal variables",
          "Partial depencence for ordinal variables",
          "Partial depencence for ordinal variables",
          "Partial depencence for ordinal variables",
          "Partial depencence for ordinal variables",
          "Partial depencence for ordinal variables",
          "Partial depencence for ordinal variables",
          "Partial depencence for ordinal variables",
          "Partial depencence for ordinal variables",
          "Partial depencence for ordinal variables",
          "Partial depencence for ordinal variables",
          "Partial depencence for ordinal variables"
         ],
         "legendgroup": "Partial depencence for ordinal variables",
         "marker": {
          "color": "#46bac2",
          "pattern": {
           "shape": ""
          }
         },
         "name": "Partial depencence for ordinal variables",
         "offsetgroup": "Partial depencence for ordinal variables",
         "orientation": "v",
         "showlegend": false,
         "textposition": "auto",
         "type": "bar",
         "x": [
          "BUS",
          "CONVT",
          "COUPE",
          "HBACK",
          "HDTOP",
          "MCARA",
          "MIBUS",
          "PANVN",
          "RDSTR",
          "SEDAN",
          "STNWG",
          "TRUCK",
          "UTE"
         ],
         "xaxis": "x",
         "y": [
          0.015361487865447998,
          0.015361487865447998,
          0.015361487865447998,
          0.0019779428839683533,
          0.002879224717617035,
          0.0028776973485946655,
          0.0029326528310775757,
          0.002837464213371277,
          0.0010622292757034302,
          0.0006376653909683228,
          -0.001383163034915924,
          -0.001833394169807434,
          -0.00957203283905983
         ],
         "yaxis": "y"
        }
       ],
       "layout": {
        "annotations": [
         {
          "font": {
           "size": 13
          },
          "showarrow": false,
          "text": "veh_body",
          "x": 0.2375,
          "xanchor": "center",
          "xref": "paper",
          "y": 0.425,
          "yanchor": "bottom",
          "yref": "paper"
         },
         {
          "font": {
           "size": 13
          },
          "showarrow": false,
          "text": "gender",
          "x": 0.2375,
          "xanchor": "center",
          "xref": "paper",
          "y": 1,
          "yanchor": "bottom",
          "yref": "paper"
         },
         {
          "font": {
           "size": 13
          },
          "showarrow": false,
          "text": "area",
          "x": 0.7625,
          "xanchor": "center",
          "xref": "paper",
          "y": 1,
          "yanchor": "bottom",
          "yref": "paper"
         },
         {
          "font": {
           "size": 13
          },
          "showarrow": false,
          "text": "prediction",
          "textangle": -90,
          "x": -0.07,
          "xref": "paper",
          "y": 0.5,
          "yref": "paper"
         }
        ],
        "barmode": "group",
        "font": {
         "color": "#371ea3"
        },
        "height": 829,
        "hovermode": "x unified",
        "legend": {
         "font": {
          "size": 11
         },
         "itemsizing": "constant",
         "orientation": "h",
         "title": {
          "font": {
           "size": 12
          },
          "text": "label"
         },
         "tracegroupgap": 0,
         "x": 1,
         "xanchor": "right",
         "y": 1.0361881785283473,
         "yanchor": "bottom"
        },
        "margin": {
         "b": 71,
         "r": 30,
         "t": 78
        },
        "shapes": [
         {
          "layer": "below",
          "line": {
           "color": "#371ea3",
           "dash": "dot",
           "width": 1.5
          },
          "type": "line",
          "x0": 0,
          "x1": 1,
          "xref": "x domain",
          "y0": 0.06948146224021912,
          "y1": 0.06948146224021912,
          "yref": "y"
         },
         {
          "layer": "below",
          "line": {
           "color": "#371ea3",
           "dash": "dot",
           "width": 1.5
          },
          "type": "line",
          "x0": 0,
          "x1": 1,
          "xref": "x3 domain",
          "y0": 0.06948146224021912,
          "y1": 0.06948146224021912,
          "yref": "y3"
         },
         {
          "layer": "below",
          "line": {
           "color": "#371ea3",
           "dash": "dot",
           "width": 1.5
          },
          "type": "line",
          "x0": 0,
          "x1": 1,
          "xref": "x4 domain",
          "y0": 0.06948146224021912,
          "y1": 0.06948146224021912,
          "yref": "y4"
         },
         {
          "layer": "below",
          "line": {
           "color": "#371ea3",
           "dash": "dot",
           "width": 1.5
          },
          "type": "line",
          "x0": 0,
          "x1": 1,
          "xref": "x domain",
          "y0": 0.06948146224021912,
          "y1": 0.06948146224021912,
          "yref": "y"
         },
         {
          "layer": "below",
          "line": {
           "color": "#371ea3",
           "dash": "dot",
           "width": 1.5
          },
          "type": "line",
          "x0": 0,
          "x1": 1,
          "xref": "x3 domain",
          "y0": 0.06948146224021912,
          "y1": 0.06948146224021912,
          "yref": "y3"
         },
         {
          "layer": "below",
          "line": {
           "color": "#371ea3",
           "dash": "dot",
           "width": 1.5
          },
          "type": "line",
          "x0": 0,
          "x1": 1,
          "xref": "x4 domain",
          "y0": 0.06948146224021912,
          "y1": 0.06948146224021912,
          "yref": "y4"
         },
         {
          "layer": "below",
          "line": {
           "color": "#371ea3",
           "dash": "dot",
           "width": 1.5
          },
          "type": "line",
          "x0": 0,
          "x1": 1,
          "xref": "x domain",
          "y0": 0.06948146224021912,
          "y1": 0.06948146224021912,
          "yref": "y"
         },
         {
          "layer": "below",
          "line": {
           "color": "#371ea3",
           "dash": "dot",
           "width": 1.5
          },
          "type": "line",
          "x0": 0,
          "x1": 1,
          "xref": "x3 domain",
          "y0": 0.06948146224021912,
          "y1": 0.06948146224021912,
          "yref": "y3"
         },
         {
          "layer": "below",
          "line": {
           "color": "#371ea3",
           "dash": "dot",
           "width": 1.5
          },
          "type": "line",
          "x0": 0,
          "x1": 1,
          "xref": "x4 domain",
          "y0": 0.06948146224021912,
          "y1": 0.06948146224021912,
          "yref": "y4"
         }
        ],
        "template": {
         "data": {
          "scatter": [
           {
            "type": "scatter"
           }
          ]
         }
        },
        "title": {
         "font": {
          "size": 16
         },
         "text": "Aggregated Profiles",
         "x": 0.15
        },
        "xaxis": {
         "anchor": "y",
         "automargin": true,
         "domain": [
          0,
          0.475
         ],
         "fixedrange": true,
         "gridwidth": 2,
         "showticklabels": true,
         "tickcolor": "white",
         "ticklen": 10,
         "ticks": "outside",
         "title": {
          "text": ""
         },
         "type": "category"
        },
        "xaxis2": {
         "anchor": "y2",
         "automargin": true,
         "domain": [
          0.525,
          1
         ],
         "fixedrange": true,
         "gridwidth": 2,
         "showticklabels": true,
         "tickcolor": "white",
         "ticklen": 10,
         "ticks": "outside",
         "title": {
          "text": ""
         },
         "type": "category"
        },
        "xaxis3": {
         "anchor": "y3",
         "automargin": true,
         "domain": [
          0,
          0.475
         ],
         "fixedrange": true,
         "gridwidth": 2,
         "showticklabels": true,
         "tickcolor": "white",
         "ticklen": 10,
         "ticks": "outside",
         "title": {
          "text": ""
         },
         "type": "category"
        },
        "xaxis4": {
         "anchor": "y4",
         "automargin": true,
         "domain": [
          0.525,
          1
         ],
         "fixedrange": true,
         "gridwidth": 2,
         "showticklabels": true,
         "tickcolor": "white",
         "ticklen": 10,
         "ticks": "outside",
         "title": {
          "text": ""
         },
         "type": "category"
        },
        "yaxis": {
         "anchor": "x",
         "automargin": true,
         "domain": [
          0,
          0.425
         ],
         "fixedrange": true,
         "gridwidth": 2,
         "range": [
          0.057416077330708505,
          0.0873363021761179
         ],
         "tickcolor": "white",
         "ticklen": 3,
         "ticks": "outside",
         "title": {
          "text": ""
         },
         "type": "linear",
         "zeroline": false
        },
        "yaxis2": {
         "anchor": "x2",
         "automargin": true,
         "domain": [
          0,
          0.425
         ],
         "fixedrange": true,
         "gridwidth": 2,
         "matches": "y",
         "range": [
          0.057416077330708505,
          0.0873363021761179
         ],
         "showticklabels": false,
         "tickcolor": "white",
         "ticklen": 3,
         "ticks": "outside",
         "title": {
          "text": ""
         },
         "type": "linear",
         "zeroline": false
        },
        "yaxis3": {
         "anchor": "x3",
         "automargin": true,
         "domain": [
          0.575,
          1
         ],
         "fixedrange": true,
         "gridwidth": 2,
         "matches": "y",
         "range": [
          0.057416077330708505,
          0.0873363021761179
         ],
         "tickcolor": "white",
         "ticklen": 3,
         "ticks": "outside",
         "title": {
          "text": ""
         },
         "type": "linear",
         "zeroline": false
        },
        "yaxis4": {
         "anchor": "x4",
         "automargin": true,
         "domain": [
          0.575,
          1
         ],
         "fixedrange": true,
         "gridwidth": 2,
         "matches": "y",
         "range": [
          0.057416077330708505,
          0.0873363021761179
         ],
         "showticklabels": false,
         "tickcolor": "white",
         "ticklen": 3,
         "ticks": "outside",
         "title": {
          "text": ""
         },
         "type": "linear",
         "zeroline": false
        }
       }
      }
     },
     "metadata": {},
     "output_type": "display_data"
    },
    {
     "data": {
      "image/png": "[encoded data removed]",
      "text/plain": [
       "<Figure size 432x288 with 1 Axes>"
      ]
     },
     "metadata": {
      "needs_background": "light"
     },
     "output_type": "display_data"
    }
   ],
   "source": [
    "# Interpret model\n",
    "import numpy as np\n",
    "from sklearn.metrics import log_loss\n",
    "from xgboost import plot_importance\n",
    "import dalex as dx\n",
    "\n",
    "# Variable importance regarding MSE improvement\n",
    "plot_importance(fit, importance_type=\"gain\", show_values=False, xlabel=\"Gain\")\n",
    "\n",
    "# Set up explainer object\n",
    "def pred_fun(m, df):\n",
    "    X = encoder.transform(df)\n",
    "    dX = xgb.DMatrix(X, feature_names=feature_names)\n",
    "    return m.predict(dX)\n",
    "\n",
    "exp = dx.Explainer(fit, df_train, predict_function=pred_fun, verbose=False)\n",
    "\n",
    "# Test performance\n",
    "test_loss = log_loss(y_test, exp.predict(df_test))\n",
    "test_loss0 = log_loss(y_test, np.repeat(y_train.mean(), len(y_test)))\n",
    "rel_imp = (test_loss0 - test_loss) / test_loss0\n",
    "\n",
    "print(f\"Test log-loss: {test_loss: .3f}\")\n",
    "print(f\"Relative improvement in log-loss: {rel_imp: .3%}\")\n",
    "\n",
    "# Partial dependence plots on training data\n",
    "num_eval_at = {\n",
    "    \"veh_value\": np.linspace(0, 5, 41),\n",
    "    \"agecat\": sorted(car[\"agecat\"].unique()),\n",
    "    \"veh_age\": sorted(car[\"veh_age\"].unique())\n",
    "}\n",
    "pdp_num = exp.model_profile(\n",
    "    variable_splits=num_eval_at,\n",
    "    label=\"Partial depencence for numeric variables\",\n",
    "    verbose=False\n",
    ")\n",
    "pdp_num.plot()\n",
    "\n",
    "pdp_ord = exp.model_profile(\n",
    "    variable_type=\"categorical\",\n",
    "    variable_splits=dict(zip(ord_features, ord_levels)),\n",
    "    label=\"Partial depencence for ordinal variables\",\n",
    "    verbose=False\n",
    ")\n",
    "pdp_ord.plot()\n"
   ]
  },
  {
   "cell_type": "markdown",
   "metadata": {},
   "source": [
    "# Chapter 4: Neural Nets\n",
    "\n",
    "## Exercise 1"
   ]
  },
  {
   "cell_type": "code",
   "execution_count": 1,
   "metadata": {},
   "outputs": [
    {
     "data": {
      "text/plain": [
       "array([[ 0.98143089, -1.5256479 ,  0.57680845, -0.60749424],\n",
       "       [-0.80744346, -1.5256479 , -1.24422106,  1.01420318],\n",
       "       [-0.80744346,  0.82624444, -0.63721122, -0.0809691 ],\n",
       "       [ 0.98143089, -0.34970173, -0.03020138, -0.96553133],\n",
       "       [-2.5963178 , -0.93767482, -0.63721122,  0.42449503]])"
      ]
     },
     "execution_count": 1,
     "metadata": {},
     "output_type": "execute_result"
    }
   ],
   "source": [
    "# Load data and specify preprocessing\n",
    "from plotnine.data import diamonds\n",
    "from sklearn.preprocessing import OrdinalEncoder, StandardScaler\n",
    "from sklearn.compose import ColumnTransformer\n",
    "from sklearn.pipeline import make_pipeline\n",
    "from sklearn.model_selection import train_test_split\n",
    "\n",
    "diamonds[\"price\"] = diamonds[\"price\"].astype(\"float32\")  # for TensorFlow\n",
    "\n",
    "df_train, df_valid, y_train, y_valid = train_test_split(\n",
    "    diamonds, diamonds[\"price\"], test_size=0.2, random_state=341\n",
    ")\n",
    "\n",
    "ord_features = [\"cut\", \"color\", \"clarity\"]\n",
    "ord_levels = [diamonds[x].cat.categories.to_list() for x in ord_features]\n",
    "\n",
    "preprocessor = make_pipeline(\n",
    "    ColumnTransformer(\n",
    "        transformers=[\n",
    "            (\"ordinal\", OrdinalEncoder(categories=ord_levels), ord_features),\n",
    "            (\"numeric\", \"passthrough\", [\"carat\"])\n",
    "        ]\n",
    "    ),\n",
    "    StandardScaler()\n",
    ")\n",
    "\n",
    "X_train = preprocessor.fit_transform(df_train)\n",
    "X_valid = preprocessor.transform(df_valid)\n",
    "X_valid[0:5]"
   ]
  },
  {
   "cell_type": "code",
   "execution_count": 2,
   "metadata": {},
   "outputs": [
    {
     "data": {
      "image/png": "[encoded data removed]",
      "text/plain": [
       "<Figure size 432x288 with 1 Axes>"
      ]
     },
     "metadata": {
      "needs_background": "light"
     },
     "output_type": "display_data"
    }
   ],
   "source": [
    "# Modeling\n",
    "import tensorflow as tf\n",
    "from tensorflow import keras\n",
    "from tensorflow.keras import layers\n",
    "from tensorflow.keras.metrics import RootMeanSquaredError as RMSE\n",
    "import keras.backend as K\n",
    "\n",
    "def loss_gamma(y_true, y_pred):\n",
    "  return -K.log(y_true / y_pred) + y_true / y_pred\n",
    "\n",
    "inputs = keras.Input(shape=4)\n",
    "x = layers.Dense(30, activation=\"tanh\")(inputs)\n",
    "x = layers.Dense(15, activation=\"tanh\")(x)\n",
    "outputs = layers.Dense(1, activation=K.exp)(x)\n",
    "\n",
    "model = keras.Model(inputs=inputs, outputs=outputs)\n",
    "\n",
    "model.compile(\n",
    "    loss=loss_gamma,\n",
    "    optimizer=keras.optimizers.Adam(learning_rate=0.001)\n",
    ")\n",
    "\n",
    "cb = [\n",
    "    keras.callbacks.EarlyStopping(patience=20),\n",
    "    keras.callbacks.ReduceLROnPlateau(patience=5)\n",
    "]\n",
    "\n",
    "tf.random.set_seed(873)\n",
    "\n",
    "history = model.fit(\n",
    "    x=X_train,\n",
    "    y=y_train,\n",
    "    epochs=1000,\n",
    "    batch_size=400, \n",
    "    validation_data=(X_valid, y_valid),\n",
    "    callbacks=cb,\n",
    "    verbose=0\n",
    ")\n",
    "\n",
    "# Training RMSE over epochs\n",
    "import matplotlib.pyplot as plt\n",
    "\n",
    "plt.plot(history.history[\"loss\"], label=\"Training\")\n",
    "plt.plot(history.history[\"val_loss\"], label=\"Validation\")\n",
    "plt.legend()\n",
    "plt.gca().set(\n",
    "    title=\"Training Gamma loss over epochs\",\n",
    "    xlabel=\"Epoch\",\n",
    "    ylabel=\"Gamma loss\",\n",
    "    ylim=(0, 3)\n",
    ")\n",
    "plt.grid()\n",
    "plt.show()"
   ]
  },
  {
   "cell_type": "code",
   "execution_count": 3,
   "metadata": {},
   "outputs": [
    {
     "name": "stdout",
     "output_type": "stream",
     "text": [
      "% deviance explained: 98.41%\n"
     ]
    },
    {
     "data": {
      "application/vnd.plotly.v1+json": {
       "config": {
        "displaylogo": false,
        "modeBarButtonsToRemove": [
         "sendDataToCloud",
         "lasso2d",
         "autoScale2d",
         "select2d",
         "zoom2d",
         "pan2d",
         "zoomIn2d",
         "zoomOut2d",
         "resetScale2d",
         "toggleSpikelines",
         "hoverCompareCartesian",
         "hoverClosestCartesian"
        ],
        "plotlyServerURL": "https://plot.ly",
        "staticPlot": false,
        "toImageButtonOptions": {
         "height": null,
         "width": null
        }
       },
       "data": [
        {
         "base": 696.361572265625,
         "hoverinfo": "text",
         "hoverlabel": {
          "bgcolor": "rgba(0,0,0,0.8)"
         },
         "hovertext": [
          "Model: Functional loss after<br>variable: carat is permuted: 6395.188<br>Drop-out loss change: +5698.826",
          "Model: Functional loss after<br>variable: clarity is permuted: 1806.854<br>Drop-out loss change: +1110.493",
          "Model: Functional loss after<br>variable: color is permuted: 1426.985<br>Drop-out loss change: +730.624",
          "Model: Functional loss after<br>variable: cut is permuted: 738.242<br>Drop-out loss change: +41.88"
         ],
         "marker": {
          "color": "#46bac2"
         },
         "orientation": "h",
         "showlegend": false,
         "text": [
          "+5698.826",
          "+1110.493",
          "+730.624",
          "+41.88"
         ],
         "textposition": "outside",
         "type": "bar",
         "x": [
          5698.826171875,
          1110.49267578125,
          730.62353515625,
          41.88037109375
         ],
         "xaxis": "x",
         "y": [
          "carat",
          "clarity",
          "color",
          "cut"
         ],
         "yaxis": "y"
        }
       ],
       "layout": {
        "annotations": [
         {
          "font": {
           "size": 16
          },
          "showarrow": false,
          "text": "Functional",
          "x": 0.5,
          "xanchor": "center",
          "xref": "paper",
          "y": 1,
          "yanchor": "bottom",
          "yref": "paper"
         },
         {
          "font": {
           "size": 16
          },
          "showarrow": false,
          "text": "drop-out loss",
          "x": 0.5,
          "xanchor": "center",
          "xref": "paper",
          "y": 0,
          "yanchor": "top",
          "yref": "paper",
          "yshift": -30
         }
        ],
        "font": {
         "color": "#371ea3"
        },
        "height": 263,
        "margin": {
         "b": 71,
         "r": 30,
         "t": 78
        },
        "shapes": [
         {
          "line": {
           "color": "#371ea3",
           "dash": "dot",
           "width": 1.5
          },
          "type": "line",
          "x0": 696.361572265625,
          "x1": 696.361572265625,
          "xref": "x",
          "y0": -1,
          "y1": 4,
          "yref": "y"
         }
        ],
        "template": {
         "data": {
          "scatter": [
           {
            "type": "scatter"
           }
          ]
         }
        },
        "title": {
         "text": "Variable Importance",
         "x": 0.15
        },
        "xaxis": {
         "anchor": "y",
         "automargin": true,
         "domain": [
          0,
          1
         ],
         "fixedrange": true,
         "gridwidth": 2,
         "range": [
          -158.46235351562495,
          7250.0119140625
         ],
         "tickcolor": "white",
         "ticklen": 3,
         "ticks": "outside",
         "type": "linear",
         "zeroline": false
        },
        "yaxis": {
         "anchor": "x",
         "automargin": true,
         "autorange": "reversed",
         "domain": [
          0,
          1
         ],
         "fixedrange": true,
         "gridwidth": 2,
         "tickcolor": "white",
         "ticklen": 10,
         "ticks": "outside",
         "type": "category"
        }
       }
      }
     },
     "metadata": {},
     "output_type": "display_data"
    },
    {
     "data": {
      "application/vnd.plotly.v1+json": {
       "config": {
        "displaylogo": false,
        "modeBarButtonsToRemove": [
         "sendDataToCloud",
         "lasso2d",
         "autoScale2d",
         "select2d",
         "zoom2d",
         "pan2d",
         "zoomIn2d",
         "zoomOut2d",
         "resetScale2d",
         "toggleSpikelines",
         "hoverCompareCartesian",
         "hoverClosestCartesian"
        ],
        "plotlyServerURL": "https://plot.ly",
        "staticPlot": false,
        "toImageButtonOptions": {
         "height": null,
         "width": null
        }
       },
       "data": [
        {
         "customdata": [
          [
           4049.2353515625,
           "Partial depencence for numeric variables",
           "carat"
          ],
          [
           4049.2353515625,
           "Partial depencence for numeric variables",
           "carat"
          ],
          [
           4049.2353515625,
           "Partial depencence for numeric variables",
           "carat"
          ],
          [
           4049.2353515625,
           "Partial depencence for numeric variables",
           "carat"
          ],
          [
           4049.2353515625,
           "Partial depencence for numeric variables",
           "carat"
          ],
          [
           4049.2353515625,
           "Partial depencence for numeric variables",
           "carat"
          ],
          [
           4049.2353515625,
           "Partial depencence for numeric variables",
           "carat"
          ],
          [
           4049.2353515625,
           "Partial depencence for numeric variables",
           "carat"
          ],
          [
           4049.2353515625,
           "Partial depencence for numeric variables",
           "carat"
          ],
          [
           4049.2353515625,
           "Partial depencence for numeric variables",
           "carat"
          ],
          [
           4049.2353515625,
           "Partial depencence for numeric variables",
           "carat"
          ],
          [
           4049.2353515625,
           "Partial depencence for numeric variables",
           "carat"
          ],
          [
           4049.2353515625,
           "Partial depencence for numeric variables",
           "carat"
          ],
          [
           4049.2353515625,
           "Partial depencence for numeric variables",
           "carat"
          ],
          [
           4049.2353515625,
           "Partial depencence for numeric variables",
           "carat"
          ],
          [
           4049.2353515625,
           "Partial depencence for numeric variables",
           "carat"
          ],
          [
           4049.2353515625,
           "Partial depencence for numeric variables",
           "carat"
          ],
          [
           4049.2353515625,
           "Partial depencence for numeric variables",
           "carat"
          ],
          [
           4049.2353515625,
           "Partial depencence for numeric variables",
           "carat"
          ],
          [
           4049.2353515625,
           "Partial depencence for numeric variables",
           "carat"
          ],
          [
           4049.2353515625,
           "Partial depencence for numeric variables",
           "carat"
          ],
          [
           4049.2353515625,
           "Partial depencence for numeric variables",
           "carat"
          ],
          [
           4049.2353515625,
           "Partial depencence for numeric variables",
           "carat"
          ],
          [
           4049.2353515625,
           "Partial depencence for numeric variables",
           "carat"
          ],
          [
           4049.2353515625,
           "Partial depencence for numeric variables",
           "carat"
          ],
          [
           4049.2353515625,
           "Partial depencence for numeric variables",
           "carat"
          ],
          [
           4049.2353515625,
           "Partial depencence for numeric variables",
           "carat"
          ],
          [
           4049.2353515625,
           "Partial depencence for numeric variables",
           "carat"
          ],
          [
           4049.2353515625,
           "Partial depencence for numeric variables",
           "carat"
          ],
          [
           4049.2353515625,
           "Partial depencence for numeric variables",
           "carat"
          ],
          [
           4049.2353515625,
           "Partial depencence for numeric variables",
           "carat"
          ],
          [
           4049.2353515625,
           "Partial depencence for numeric variables",
           "carat"
          ],
          [
           4049.2353515625,
           "Partial depencence for numeric variables",
           "carat"
          ],
          [
           4049.2353515625,
           "Partial depencence for numeric variables",
           "carat"
          ],
          [
           4049.2353515625,
           "Partial depencence for numeric variables",
           "carat"
          ],
          [
           4049.2353515625,
           "Partial depencence for numeric variables",
           "carat"
          ],
          [
           4049.2353515625,
           "Partial depencence for numeric variables",
           "carat"
          ],
          [
           4049.2353515625,
           "Partial depencence for numeric variables",
           "carat"
          ],
          [
           4049.2353515625,
           "Partial depencence for numeric variables",
           "carat"
          ],
          [
           4049.2353515625,
           "Partial depencence for numeric variables",
           "carat"
          ],
          [
           4049.2353515625,
           "Partial depencence for numeric variables",
           "carat"
          ],
          [
           4049.2353515625,
           "Partial depencence for numeric variables",
           "carat"
          ],
          [
           4049.2353515625,
           "Partial depencence for numeric variables",
           "carat"
          ],
          [
           4049.2353515625,
           "Partial depencence for numeric variables",
           "carat"
          ],
          [
           4049.2353515625,
           "Partial depencence for numeric variables",
           "carat"
          ],
          [
           4049.2353515625,
           "Partial depencence for numeric variables",
           "carat"
          ],
          [
           4049.2353515625,
           "Partial depencence for numeric variables",
           "carat"
          ],
          [
           4049.2353515625,
           "Partial depencence for numeric variables",
           "carat"
          ],
          [
           4049.2353515625,
           "Partial depencence for numeric variables",
           "carat"
          ],
          [
           4049.2353515625,
           "Partial depencence for numeric variables",
           "carat"
          ],
          [
           4049.2353515625,
           "Partial depencence for numeric variables",
           "carat"
          ],
          [
           4049.2353515625,
           "Partial depencence for numeric variables",
           "carat"
          ],
          [
           4049.2353515625,
           "Partial depencence for numeric variables",
           "carat"
          ],
          [
           4049.2353515625,
           "Partial depencence for numeric variables",
           "carat"
          ],
          [
           4049.2353515625,
           "Partial depencence for numeric variables",
           "carat"
          ],
          [
           4049.2353515625,
           "Partial depencence for numeric variables",
           "carat"
          ],
          [
           4049.2353515625,
           "Partial depencence for numeric variables",
           "carat"
          ],
          [
           4049.2353515625,
           "Partial depencence for numeric variables",
           "carat"
          ],
          [
           4049.2353515625,
           "Partial depencence for numeric variables",
           "carat"
          ],
          [
           4049.2353515625,
           "Partial depencence for numeric variables",
           "carat"
          ],
          [
           4049.2353515625,
           "Partial depencence for numeric variables",
           "carat"
          ],
          [
           4049.2353515625,
           "Partial depencence for numeric variables",
           "carat"
          ],
          [
           4049.2353515625,
           "Partial depencence for numeric variables",
           "carat"
          ],
          [
           4049.2353515625,
           "Partial depencence for numeric variables",
           "carat"
          ],
          [
           4049.2353515625,
           "Partial depencence for numeric variables",
           "carat"
          ],
          [
           4049.2353515625,
           "Partial depencence for numeric variables",
           "carat"
          ],
          [
           4049.2353515625,
           "Partial depencence for numeric variables",
           "carat"
          ],
          [
           4049.2353515625,
           "Partial depencence for numeric variables",
           "carat"
          ],
          [
           4049.2353515625,
           "Partial depencence for numeric variables",
           "carat"
          ],
          [
           4049.2353515625,
           "Partial depencence for numeric variables",
           "carat"
          ],
          [
           4049.2353515625,
           "Partial depencence for numeric variables",
           "carat"
          ],
          [
           4049.2353515625,
           "Partial depencence for numeric variables",
           "carat"
          ],
          [
           4049.2353515625,
           "Partial depencence for numeric variables",
           "carat"
          ],
          [
           4049.2353515625,
           "Partial depencence for numeric variables",
           "carat"
          ],
          [
           4049.2353515625,
           "Partial depencence for numeric variables",
           "carat"
          ],
          [
           4049.2353515625,
           "Partial depencence for numeric variables",
           "carat"
          ],
          [
           4049.2353515625,
           "Partial depencence for numeric variables",
           "carat"
          ],
          [
           4049.2353515625,
           "Partial depencence for numeric variables",
           "carat"
          ],
          [
           4049.2353515625,
           "Partial depencence for numeric variables",
           "carat"
          ],
          [
           4049.2353515625,
           "Partial depencence for numeric variables",
           "carat"
          ],
          [
           4049.2353515625,
           "Partial depencence for numeric variables",
           "carat"
          ],
          [
           4049.2353515625,
           "Partial depencence for numeric variables",
           "carat"
          ],
          [
           4049.2353515625,
           "Partial depencence for numeric variables",
           "carat"
          ],
          [
           4049.2353515625,
           "Partial depencence for numeric variables",
           "carat"
          ],
          [
           4049.2353515625,
           "Partial depencence for numeric variables",
           "carat"
          ],
          [
           4049.2353515625,
           "Partial depencence for numeric variables",
           "carat"
          ],
          [
           4049.2353515625,
           "Partial depencence for numeric variables",
           "carat"
          ],
          [
           4049.2353515625,
           "Partial depencence for numeric variables",
           "carat"
          ],
          [
           4049.2353515625,
           "Partial depencence for numeric variables",
           "carat"
          ],
          [
           4049.2353515625,
           "Partial depencence for numeric variables",
           "carat"
          ],
          [
           4049.2353515625,
           "Partial depencence for numeric variables",
           "carat"
          ],
          [
           4049.2353515625,
           "Partial depencence for numeric variables",
           "carat"
          ],
          [
           4049.2353515625,
           "Partial depencence for numeric variables",
           "carat"
          ],
          [
           4049.2353515625,
           "Partial depencence for numeric variables",
           "carat"
          ],
          [
           4049.2353515625,
           "Partial depencence for numeric variables",
           "carat"
          ],
          [
           4049.2353515625,
           "Partial depencence for numeric variables",
           "carat"
          ],
          [
           4049.2353515625,
           "Partial depencence for numeric variables",
           "carat"
          ],
          [
           4049.2353515625,
           "Partial depencence for numeric variables",
           "carat"
          ],
          [
           4049.2353515625,
           "Partial depencence for numeric variables",
           "carat"
          ],
          [
           4049.2353515625,
           "Partial depencence for numeric variables",
           "carat"
          ],
          [
           4049.2353515625,
           "Partial depencence for numeric variables",
           "carat"
          ]
         ],
         "hovertemplate": "<b>%{hovertext}</b><br><br>prediction=%{y:.3f}<br>mean_prediction=%{customdata[0]:.3f}<extra></extra>",
         "hovertext": [
          "Partial depencence for numeric variables",
          "Partial depencence for numeric variables",
          "Partial depencence for numeric variables",
          "Partial depencence for numeric variables",
          "Partial depencence for numeric variables",
          "Partial depencence for numeric variables",
          "Partial depencence for numeric variables",
          "Partial depencence for numeric variables",
          "Partial depencence for numeric variables",
          "Partial depencence for numeric variables",
          "Partial depencence for numeric variables",
          "Partial depencence for numeric variables",
          "Partial depencence for numeric variables",
          "Partial depencence for numeric variables",
          "Partial depencence for numeric variables",
          "Partial depencence for numeric variables",
          "Partial depencence for numeric variables",
          "Partial depencence for numeric variables",
          "Partial depencence for numeric variables",
          "Partial depencence for numeric variables",
          "Partial depencence for numeric variables",
          "Partial depencence for numeric variables",
          "Partial depencence for numeric variables",
          "Partial depencence for numeric variables",
          "Partial depencence for numeric variables",
          "Partial depencence for numeric variables",
          "Partial depencence for numeric variables",
          "Partial depencence for numeric variables",
          "Partial depencence for numeric variables",
          "Partial depencence for numeric variables",
          "Partial depencence for numeric variables",
          "Partial depencence for numeric variables",
          "Partial depencence for numeric variables",
          "Partial depencence for numeric variables",
          "Partial depencence for numeric variables",
          "Partial depencence for numeric variables",
          "Partial depencence for numeric variables",
          "Partial depencence for numeric variables",
          "Partial depencence for numeric variables",
          "Partial depencence for numeric variables",
          "Partial depencence for numeric variables",
          "Partial depencence for numeric variables",
          "Partial depencence for numeric variables",
          "Partial depencence for numeric variables",
          "Partial depencence for numeric variables",
          "Partial depencence for numeric variables",
          "Partial depencence for numeric variables",
          "Partial depencence for numeric variables",
          "Partial depencence for numeric variables",
          "Partial depencence for numeric variables",
          "Partial depencence for numeric variables",
          "Partial depencence for numeric variables",
          "Partial depencence for numeric variables",
          "Partial depencence for numeric variables",
          "Partial depencence for numeric variables",
          "Partial depencence for numeric variables",
          "Partial depencence for numeric variables",
          "Partial depencence for numeric variables",
          "Partial depencence for numeric variables",
          "Partial depencence for numeric variables",
          "Partial depencence for numeric variables",
          "Partial depencence for numeric variables",
          "Partial depencence for numeric variables",
          "Partial depencence for numeric variables",
          "Partial depencence for numeric variables",
          "Partial depencence for numeric variables",
          "Partial depencence for numeric variables",
          "Partial depencence for numeric variables",
          "Partial depencence for numeric variables",
          "Partial depencence for numeric variables",
          "Partial depencence for numeric variables",
          "Partial depencence for numeric variables",
          "Partial depencence for numeric variables",
          "Partial depencence for numeric variables",
          "Partial depencence for numeric variables",
          "Partial depencence for numeric variables",
          "Partial depencence for numeric variables",
          "Partial depencence for numeric variables",
          "Partial depencence for numeric variables",
          "Partial depencence for numeric variables",
          "Partial depencence for numeric variables",
          "Partial depencence for numeric variables",
          "Partial depencence for numeric variables",
          "Partial depencence for numeric variables",
          "Partial depencence for numeric variables",
          "Partial depencence for numeric variables",
          "Partial depencence for numeric variables",
          "Partial depencence for numeric variables",
          "Partial depencence for numeric variables",
          "Partial depencence for numeric variables",
          "Partial depencence for numeric variables",
          "Partial depencence for numeric variables",
          "Partial depencence for numeric variables",
          "Partial depencence for numeric variables",
          "Partial depencence for numeric variables",
          "Partial depencence for numeric variables",
          "Partial depencence for numeric variables",
          "Partial depencence for numeric variables",
          "Partial depencence for numeric variables",
          "Partial depencence for numeric variables",
          "Partial depencence for numeric variables"
         ],
         "legendgroup": "Partial depencence for numeric variables",
         "line": {
          "color": "#46bac2",
          "dash": "solid",
          "width": 2
         },
         "marker": {
          "symbol": "circle"
         },
         "mode": "lines",
         "name": "Partial depencence for numeric variables",
         "opacity": 1,
         "orientation": "v",
         "showlegend": true,
         "type": "scatter",
         "x": [
          0.2,
          0.2393,
          0.2786,
          0.31789999999999996,
          0.35719999999999996,
          0.39649999999999996,
          0.43579999999999997,
          0.47509999999999997,
          0.5144,
          0.5537,
          0.593,
          0.6323,
          0.6716,
          0.7108999999999999,
          0.7502,
          0.7894999999999999,
          0.8288,
          0.8680999999999999,
          0.9074,
          0.9466999999999999,
          0.986,
          1.0252999999999999,
          1.0646,
          1.1038999999999999,
          1.1431999999999998,
          1.1824999999999999,
          1.2217999999999998,
          1.2610999999999999,
          1.3003999999999998,
          1.3397,
          1.3789999999999998,
          1.4183,
          1.4575999999999998,
          1.4968999999999997,
          1.5361999999999998,
          1.5754999999999997,
          1.6147999999999998,
          1.6540999999999997,
          1.6933999999999998,
          1.7326999999999997,
          1.7719999999999998,
          1.8112999999999997,
          1.8505999999999998,
          1.8898999999999997,
          1.9291999999999998,
          1.9684999999999997,
          2.0078,
          2.0471,
          2.0864,
          2.1256999999999997,
          2.1649999999999996,
          2.2043,
          2.2436,
          2.2828999999999997,
          2.3222,
          2.3615,
          2.4008,
          2.4400999999999997,
          2.4794,
          2.5187,
          2.558,
          2.5972999999999997,
          2.6366,
          2.6759,
          2.7152,
          2.7544999999999997,
          2.7937999999999996,
          2.8331,
          2.8724,
          2.9116999999999997,
          2.9509999999999996,
          2.9903,
          3.0296,
          3.0688999999999997,
          3.1081999999999996,
          3.1475,
          3.1868,
          3.2260999999999997,
          3.2653999999999996,
          3.3047,
          3.344,
          3.3832999999999998,
          3.4225999999999996,
          3.4618999999999995,
          3.5012,
          3.5404999999999998,
          3.5797999999999996,
          3.6190999999999995,
          3.6584,
          3.6976999999999998,
          3.7369999999999997,
          3.7762999999999995,
          3.8156,
          3.8548999999999998,
          3.8941999999999997,
          3.9334999999999996,
          3.9727999999999994,
          4.012099999999999,
          4.051399999999999,
          4.090699999999999,
          4.13
         ],
         "xaxis": "x",
         "y": [
          348.7975158691406,
          426.00970458984375,
          516.7227172851562,
          622.3355712890625,
          744.1837768554688,
          883.4974975585938,
          1041.3623046875,
          1218.68310546875,
          1416.1549072265625,
          1634.2427978515625,
          1873.1697998046875,
          2132.91455078125,
          2413.22021484375,
          2713.60986328125,
          3033.41064453125,
          3371.78173828125,
          3727.74755859375,
          4100.23095703125,
          4488.08642578125,
          4890.130859375,
          5305.169921875,
          5732.02734375,
          6169.55859375,
          6616.662109375,
          7072.29931640625,
          7535.49169921875,
          8005.32421875,
          8480.9443359375,
          8961.5615234375,
          9446.4326171875,
          9934.87109375,
          10426.21875,
          10919.861328125,
          11415.19921875,
          11911.658203125,
          12408.6787109375,
          12905.7060546875,
          13402.1962890625,
          13897.603515625,
          14391.3876953125,
          14883.0029296875,
          15371.919921875,
          15857.595703125,
          16339.498046875,
          16817.10546875,
          17289.900390625,
          17757.375,
          18219.044921875,
          18674.43359375,
          19123.09765625,
          19564.599609375,
          19998.544921875,
          20424.55078125,
          20842.275390625,
          21251.40234375,
          21651.65234375,
          22042.765625,
          22424.525390625,
          22796.751953125,
          23159.28515625,
          23511.998046875,
          23854.80859375,
          24187.646484375,
          24510.48046875,
          24823.296875,
          25126.123046875,
          25418.990234375,
          25701.966796875,
          25975.126953125,
          26238.580078125,
          26492.439453125,
          26736.83984375,
          26971.91796875,
          27197.841796875,
          27414.76953125,
          27622.880859375,
          27822.357421875,
          28013.380859375,
          28196.162109375,
          28370.87890625,
          28537.73828125,
          28696.947265625,
          28848.701171875,
          28993.201171875,
          29130.658203125,
          29261.267578125,
          29385.23046875,
          29502.75390625,
          29614.015625,
          29719.220703125,
          29818.55078125,
          29912.197265625,
          30000.34765625,
          30083.169921875,
          30160.84375,
          30233.544921875,
          30301.431640625,
          30364.67578125,
          30423.43359375,
          30477.84765625,
          30528.091796875
         ],
         "yaxis": "y"
        }
       ],
       "layout": {
        "annotations": [
         {
          "font": {
           "size": 13
          },
          "showarrow": false,
          "text": "carat",
          "x": 0.5,
          "xanchor": "center",
          "xref": "paper",
          "y": 1,
          "yanchor": "bottom",
          "yref": "paper"
         },
         {
          "font": {
           "size": 13
          },
          "showarrow": false,
          "text": "prediction",
          "textangle": -90,
          "x": -0.07,
          "xref": "paper",
          "y": 0.5,
          "yref": "paper"
         }
        ],
        "font": {
         "color": "#371ea3"
        },
        "height": 489,
        "hovermode": "x unified",
        "legend": {
         "font": {
          "size": 11
         },
         "itemsizing": "constant",
         "orientation": "h",
         "title": {
          "font": {
           "size": 12
          },
          "text": "label"
         },
         "tracegroupgap": 0,
         "x": 1,
         "xanchor": "right",
         "y": 1.0613496932515338,
         "yanchor": "bottom"
        },
        "margin": {
         "b": 71,
         "r": 30,
         "t": 78
        },
        "template": {
         "data": {
          "scatter": [
           {
            "type": "scatter"
           }
          ]
         }
        },
        "title": {
         "font": {
          "size": 16
         },
         "text": "Aggregated Profiles",
         "x": 0.15
        },
        "xaxis": {
         "anchor": "y",
         "automargin": true,
         "domain": [
          0,
          1
         ],
         "fixedrange": true,
         "gridwidth": 2,
         "showticklabels": true,
         "tickcolor": "white",
         "ticklen": 3,
         "ticks": "outside",
         "title": {
          "text": ""
         },
         "type": "linear",
         "zeroline": false
        },
        "yaxis": {
         "anchor": "x",
         "automargin": true,
         "domain": [
          0,
          1
         ],
         "fixedrange": true,
         "gridwidth": 2,
         "range": [
          -2669.1319763183596,
          33546.0212890625
         ],
         "tickcolor": "white",
         "ticklen": 3,
         "ticks": "outside",
         "title": {
          "text": ""
         },
         "type": "linear",
         "zeroline": false
        }
       }
      }
     },
     "metadata": {},
     "output_type": "display_data"
    },
    {
     "name": "stderr",
     "output_type": "stream",
     "text": [
      "C:\\Users\\Michael\\anaconda3\\envs\\ml_lecture\\lib\\site-packages\\dalex\\predict_explanations\\_ceteris_paribus\\checks.py:16: UserWarning:\n",
      "\n",
      "Variables taken from variables_splits\n",
      "\n"
     ]
    },
    {
     "data": {
      "application/vnd.plotly.v1+json": {
       "config": {
        "displaylogo": false,
        "modeBarButtonsToRemove": [
         "sendDataToCloud",
         "lasso2d",
         "autoScale2d",
         "select2d",
         "zoom2d",
         "pan2d",
         "zoomIn2d",
         "zoomOut2d",
         "resetScale2d",
         "toggleSpikelines",
         "hoverCompareCartesian",
         "hoverClosestCartesian"
        ],
        "plotlyServerURL": "https://plot.ly",
        "staticPlot": false,
        "toImageButtonOptions": {
         "height": null,
         "width": null
        }
       },
       "data": [
        {
         "alignmentgroup": "True",
         "base": [
          3853.43505859375,
          3853.43505859375,
          3853.43505859375,
          3853.43505859375,
          3853.43505859375
         ],
         "customdata": [
          [
           3396.984375,
           "Partial depencence for ordinal variables",
           "cut"
          ],
          [
           3570.2177734375,
           "Partial depencence for ordinal variables",
           "cut"
          ],
          [
           3783.47216796875,
           "Partial depencence for ordinal variables",
           "cut"
          ],
          [
           3947.787353515625,
           "Partial depencence for ordinal variables",
           "cut"
          ],
          [
           3956.17138671875,
           "Partial depencence for ordinal variables",
           "cut"
          ]
         ],
         "hovertemplate": "<b>%{hovertext}</b><br><br>mean_prediction=%{base:.3f}<br>prediction=%{customdata[0]:.3f}<extra></extra>",
         "hovertext": [
          "Partial depencence for ordinal variables",
          "Partial depencence for ordinal variables",
          "Partial depencence for ordinal variables",
          "Partial depencence for ordinal variables",
          "Partial depencence for ordinal variables"
         ],
         "legendgroup": "Partial depencence for ordinal variables",
         "marker": {
          "color": "#46bac2",
          "pattern": {
           "shape": ""
          }
         },
         "name": "Partial depencence for ordinal variables",
         "offsetgroup": "Partial depencence for ordinal variables",
         "orientation": "v",
         "showlegend": true,
         "textposition": "auto",
         "type": "bar",
         "x": [
          "Fair",
          "Good",
          "Very Good",
          "Premium",
          "Ideal"
         ],
         "xaxis": "x3",
         "y": [
          -456.45068359375,
          -283.21728515625,
          -69.962890625,
          94.352294921875,
          102.736328125
         ],
         "yaxis": "y3"
        },
        {
         "alignmentgroup": "True",
         "base": [
          3853.43505859375,
          3853.43505859375,
          3853.43505859375,
          3853.43505859375,
          3853.43505859375,
          3853.43505859375,
          3853.43505859375
         ],
         "customdata": [
          [
           4552.4287109375,
           "Partial depencence for ordinal variables",
           "color"
          ],
          [
           4443.32763671875,
           "Partial depencence for ordinal variables",
           "color"
          ],
          [
           4243.73876953125,
           "Partial depencence for ordinal variables",
           "color"
          ],
          [
           3957.106689453125,
           "Partial depencence for ordinal variables",
           "color"
          ],
          [
           3597.097900390625,
           "Partial depencence for ordinal variables",
           "color"
          ],
          [
           3187.535888671875,
           "Partial depencence for ordinal variables",
           "color"
          ],
          [
           2758.136962890625,
           "Partial depencence for ordinal variables",
           "color"
          ]
         ],
         "hovertemplate": "<b>%{hovertext}</b><br><br>mean_prediction=%{base:.3f}<br>prediction=%{customdata[0]:.3f}<extra></extra>",
         "hovertext": [
          "Partial depencence for ordinal variables",
          "Partial depencence for ordinal variables",
          "Partial depencence for ordinal variables",
          "Partial depencence for ordinal variables",
          "Partial depencence for ordinal variables",
          "Partial depencence for ordinal variables",
          "Partial depencence for ordinal variables"
         ],
         "legendgroup": "Partial depencence for ordinal variables",
         "marker": {
          "color": "#46bac2",
          "pattern": {
           "shape": ""
          }
         },
         "name": "Partial depencence for ordinal variables",
         "offsetgroup": "Partial depencence for ordinal variables",
         "orientation": "v",
         "showlegend": false,
         "textposition": "auto",
         "type": "bar",
         "x": [
          "D",
          "E",
          "F",
          "G",
          "H",
          "I",
          "J"
         ],
         "xaxis": "x4",
         "y": [
          698.99365234375,
          589.892578125,
          390.3037109375,
          103.671630859375,
          -256.337158203125,
          -665.899169921875,
          -1095.298095703125
         ],
         "yaxis": "y4"
        },
        {
         "alignmentgroup": "True",
         "base": [
          3853.43505859375,
          3853.43505859375,
          3853.43505859375,
          3853.43505859375,
          3853.43505859375,
          3853.43505859375,
          3853.43505859375,
          3853.43505859375
         ],
         "customdata": [
          [
           2395.474365234375,
           "Partial depencence for ordinal variables",
           "clarity"
          ],
          [
           3034.407958984375,
           "Partial depencence for ordinal variables",
           "clarity"
          ],
          [
           3672.695068359375,
           "Partial depencence for ordinal variables",
           "clarity"
          ],
          [
           4254.701171875,
           "Partial depencence for ordinal variables",
           "clarity"
          ],
          [
           4742.77099609375,
           "Partial depencence for ordinal variables",
           "clarity"
          ],
          [
           5126.7041015625,
           "Partial depencence for ordinal variables",
           "clarity"
          ],
          [
           5419.57861328125,
           "Partial depencence for ordinal variables",
           "clarity"
          ],
          [
           5644.83447265625,
           "Partial depencence for ordinal variables",
           "clarity"
          ]
         ],
         "hovertemplate": "<b>%{hovertext}</b><br><br>mean_prediction=%{base:.3f}<br>prediction=%{customdata[0]:.3f}<extra></extra>",
         "hovertext": [
          "Partial depencence for ordinal variables",
          "Partial depencence for ordinal variables",
          "Partial depencence for ordinal variables",
          "Partial depencence for ordinal variables",
          "Partial depencence for ordinal variables",
          "Partial depencence for ordinal variables",
          "Partial depencence for ordinal variables",
          "Partial depencence for ordinal variables"
         ],
         "legendgroup": "Partial depencence for ordinal variables",
         "marker": {
          "color": "#46bac2",
          "pattern": {
           "shape": ""
          }
         },
         "name": "Partial depencence for ordinal variables",
         "offsetgroup": "Partial depencence for ordinal variables",
         "orientation": "v",
         "showlegend": false,
         "textposition": "auto",
         "type": "bar",
         "x": [
          "I1",
          "SI2",
          "SI1",
          "VS2",
          "VS1",
          "VVS2",
          "VVS1",
          "IF"
         ],
         "xaxis": "x",
         "y": [
          -1457.960693359375,
          -819.027099609375,
          -180.739990234375,
          401.26611328125,
          889.3359375,
          1273.26904296875,
          1566.1435546875,
          1791.3994140625
         ],
         "yaxis": "y"
        }
       ],
       "layout": {
        "annotations": [
         {
          "font": {
           "size": 13
          },
          "showarrow": false,
          "text": "clarity",
          "x": 0.2375,
          "xanchor": "center",
          "xref": "paper",
          "y": 0.425,
          "yanchor": "bottom",
          "yref": "paper"
         },
         {
          "font": {
           "size": 13
          },
          "showarrow": false,
          "text": "cut",
          "x": 0.2375,
          "xanchor": "center",
          "xref": "paper",
          "y": 1,
          "yanchor": "bottom",
          "yref": "paper"
         },
         {
          "font": {
           "size": 13
          },
          "showarrow": false,
          "text": "color",
          "x": 0.7625,
          "xanchor": "center",
          "xref": "paper",
          "y": 1,
          "yanchor": "bottom",
          "yref": "paper"
         },
         {
          "font": {
           "size": 13
          },
          "showarrow": false,
          "text": "prediction",
          "textangle": -90,
          "x": -0.07,
          "xref": "paper",
          "y": 0.5,
          "yref": "paper"
         }
        ],
        "barmode": "group",
        "font": {
         "color": "#371ea3"
        },
        "height": 829,
        "hovermode": "x unified",
        "legend": {
         "font": {
          "size": 11
         },
         "itemsizing": "constant",
         "orientation": "h",
         "title": {
          "font": {
           "size": 12
          },
          "text": "label"
         },
         "tracegroupgap": 0,
         "x": 1,
         "xanchor": "right",
         "y": 1.0361881785283473,
         "yanchor": "bottom"
        },
        "margin": {
         "b": 71,
         "r": 30,
         "t": 78
        },
        "shapes": [
         {
          "layer": "below",
          "line": {
           "color": "#371ea3",
           "dash": "dot",
           "width": 1.5
          },
          "type": "line",
          "x0": 0,
          "x1": 1,
          "xref": "x domain",
          "y0": 3853.43505859375,
          "y1": 3853.43505859375,
          "yref": "y"
         },
         {
          "layer": "below",
          "line": {
           "color": "#371ea3",
           "dash": "dot",
           "width": 1.5
          },
          "type": "line",
          "x0": 0,
          "x1": 1,
          "xref": "x3 domain",
          "y0": 3853.43505859375,
          "y1": 3853.43505859375,
          "yref": "y3"
         },
         {
          "layer": "below",
          "line": {
           "color": "#371ea3",
           "dash": "dot",
           "width": 1.5
          },
          "type": "line",
          "x0": 0,
          "x1": 1,
          "xref": "x4 domain",
          "y0": 3853.43505859375,
          "y1": 3853.43505859375,
          "yref": "y4"
         },
         {
          "layer": "below",
          "line": {
           "color": "#371ea3",
           "dash": "dot",
           "width": 1.5
          },
          "type": "line",
          "x0": 0,
          "x1": 1,
          "xref": "x domain",
          "y0": 3853.43505859375,
          "y1": 3853.43505859375,
          "yref": "y"
         },
         {
          "layer": "below",
          "line": {
           "color": "#371ea3",
           "dash": "dot",
           "width": 1.5
          },
          "type": "line",
          "x0": 0,
          "x1": 1,
          "xref": "x3 domain",
          "y0": 3853.43505859375,
          "y1": 3853.43505859375,
          "yref": "y3"
         },
         {
          "layer": "below",
          "line": {
           "color": "#371ea3",
           "dash": "dot",
           "width": 1.5
          },
          "type": "line",
          "x0": 0,
          "x1": 1,
          "xref": "x4 domain",
          "y0": 3853.43505859375,
          "y1": 3853.43505859375,
          "yref": "y4"
         },
         {
          "layer": "below",
          "line": {
           "color": "#371ea3",
           "dash": "dot",
           "width": 1.5
          },
          "type": "line",
          "x0": 0,
          "x1": 1,
          "xref": "x domain",
          "y0": 3853.43505859375,
          "y1": 3853.43505859375,
          "yref": "y"
         },
         {
          "layer": "below",
          "line": {
           "color": "#371ea3",
           "dash": "dot",
           "width": 1.5
          },
          "type": "line",
          "x0": 0,
          "x1": 1,
          "xref": "x3 domain",
          "y0": 3853.43505859375,
          "y1": 3853.43505859375,
          "yref": "y3"
         },
         {
          "layer": "below",
          "line": {
           "color": "#371ea3",
           "dash": "dot",
           "width": 1.5
          },
          "type": "line",
          "x0": 0,
          "x1": 1,
          "xref": "x4 domain",
          "y0": 3853.43505859375,
          "y1": 3853.43505859375,
          "yref": "y4"
         }
        ],
        "template": {
         "data": {
          "scatter": [
           {
            "type": "scatter"
           }
          ]
         }
        },
        "title": {
         "font": {
          "size": 16
         },
         "text": "Aggregated Profiles",
         "x": 0.15
        },
        "xaxis": {
         "anchor": "y",
         "automargin": true,
         "domain": [
          0,
          0.475
         ],
         "fixedrange": true,
         "gridwidth": 2,
         "showticklabels": true,
         "tickcolor": "white",
         "ticklen": 10,
         "ticks": "outside",
         "title": {
          "text": ""
         },
         "type": "category"
        },
        "xaxis2": {
         "anchor": "y2",
         "automargin": true,
         "domain": [
          0.525,
          1
         ],
         "fixedrange": true,
         "gridwidth": 2,
         "showticklabels": true,
         "tickcolor": "white",
         "ticklen": 10,
         "ticks": "outside",
         "title": {
          "text": ""
         },
         "type": "category"
        },
        "xaxis3": {
         "anchor": "y3",
         "automargin": true,
         "domain": [
          0,
          0.475
         ],
         "fixedrange": true,
         "gridwidth": 2,
         "showticklabels": true,
         "tickcolor": "white",
         "ticklen": 10,
         "ticks": "outside",
         "title": {
          "text": ""
         },
         "type": "category"
        },
        "xaxis4": {
         "anchor": "y4",
         "automargin": true,
         "domain": [
          0.525,
          1
         ],
         "fixedrange": true,
         "gridwidth": 2,
         "showticklabels": true,
         "tickcolor": "white",
         "ticklen": 10,
         "ticks": "outside",
         "title": {
          "text": ""
         },
         "type": "category"
        },
        "yaxis": {
         "anchor": "x",
         "automargin": true,
         "domain": [
          0,
          0.425
         ],
         "fixedrange": true,
         "gridwidth": 2,
         "range": [
          2070.5383544921874,
          5969.770483398437
         ],
         "tickcolor": "white",
         "ticklen": 3,
         "ticks": "outside",
         "title": {
          "text": ""
         },
         "type": "linear",
         "zeroline": false
        },
        "yaxis2": {
         "anchor": "x2",
         "automargin": true,
         "domain": [
          0,
          0.425
         ],
         "fixedrange": true,
         "gridwidth": 2,
         "matches": "y",
         "range": [
          2070.5383544921874,
          5969.770483398437
         ],
         "showticklabels": false,
         "tickcolor": "white",
         "ticklen": 3,
         "ticks": "outside",
         "title": {
          "text": ""
         },
         "type": "linear",
         "zeroline": false
        },
        "yaxis3": {
         "anchor": "x3",
         "automargin": true,
         "domain": [
          0.575,
          1
         ],
         "fixedrange": true,
         "gridwidth": 2,
         "matches": "y",
         "range": [
          2070.5383544921874,
          5969.770483398437
         ],
         "tickcolor": "white",
         "ticklen": 3,
         "ticks": "outside",
         "title": {
          "text": ""
         },
         "type": "linear",
         "zeroline": false
        },
        "yaxis4": {
         "anchor": "x4",
         "automargin": true,
         "domain": [
          0.575,
          1
         ],
         "fixedrange": true,
         "gridwidth": 2,
         "matches": "y",
         "range": [
          2070.5383544921874,
          5969.770483398437
         ],
         "showticklabels": false,
         "tickcolor": "white",
         "ticklen": 3,
         "ticks": "outside",
         "title": {
          "text": ""
         },
         "type": "linear",
         "zeroline": false
        }
       }
      }
     },
     "metadata": {},
     "output_type": "display_data"
    }
   ],
   "source": [
    "# Interpretation\n",
    "from sklearn.metrics import mean_gamma_deviance as deviance\n",
    "from sklearn.dummy import DummyRegressor\n",
    "import dalex as dx\n",
    "\n",
    "dummy = DummyRegressor().fit(X_train, y_train)\n",
    "d0, d = (deviance(y_valid, m.predict(X_valid)) for m in (dummy, model))\n",
    "print(f\"% deviance explained: {(d0 - d) / d0:.2%}\")\n",
    "\n",
    "def pred_fun(m, X):\n",
    "    return m.predict(preprocessor.transform(X), batch_size=1000).flatten()\n",
    "\n",
    "exp = dx.Explainer(\n",
    "    model, \n",
    "    data=df_valid[ord_features + [\"carat\"]], \n",
    "    y=y_valid, \n",
    "    predict_function=pred_fun, \n",
    "    verbose=False\n",
    ")\n",
    "\n",
    "vi = exp.model_parts()\n",
    "vi.plot()\n",
    "\n",
    "pdp_num = exp.model_profile(\n",
    "    variables=[\"carat\"],\n",
    "    label=\"Partial depencence for numeric variables\",\n",
    "    verbose=False\n",
    ")\n",
    "pdp_num.plot()\n",
    "\n",
    "pdp_ord = exp.model_profile(\n",
    "    variable_type=\"categorical\",\n",
    "    variable_splits=dict(zip(ord_features, ord_levels)),\n",
    "    label=\"Partial depencence for ordinal variables\",\n",
    "    verbose=False\n",
    ")\n",
    "pdp_ord.plot()"
   ]
  },
  {
   "cell_type": "markdown",
   "metadata": {},
   "source": [
    "## Exercise 2\n",
    "\n",
    "See lecture notes for a solution with embeddings"
   ]
  },
  {
   "cell_type": "markdown",
   "metadata": {},
   "source": []
  }
 ],
 "metadata": {
  "interpreter": {
   "hash": "813f6c4cc22c03b594219174db46929469d46b04ef4db7b355912617e499b8c1"
  },
  "kernelspec": {
   "display_name": "Python 3.8.11 64-bit ('ml_lecture': conda)",
   "name": "python3"
  },
  "language_info": {
   "codemirror_mode": {
    "name": "ipython",
    "version": 3
   },
   "file_extension": ".py",
   "mimetype": "text/x-python",
   "name": "python",
   "nbconvert_exporter": "python",
   "pygments_lexer": "ipython3",
   "version": "3.8.11"
  },
  "orig_nbformat": 4
 },
 "nbformat": 4,
 "nbformat_minor": 2
}
