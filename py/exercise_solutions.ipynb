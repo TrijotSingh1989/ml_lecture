{
 "cells": [
  {
   "cell_type": "markdown",
   "metadata": {},
   "source": [
    "# Chapter 1: Basics and Linear Models\n",
    "\n",
    "## Exercise on linear regression"
   ]
  },
  {
   "cell_type": "code",
   "execution_count": 3,
   "metadata": {},
   "outputs": [],
   "source": [
    "%load_ext lab_black"
   ]
  },
  {
   "cell_type": "code",
   "execution_count": 2,
   "metadata": {},
   "outputs": [
    {
     "name": "stdout",
     "output_type": "stream",
     "text": [
      "RMSE: 1156.648\n",
      "R-squared: 91.59%\n",
      "Intercept -7362.802156301801\n"
     ]
    },
    {
     "data": {
      "text/html": [
       "<div>\n",
       "<style scoped>\n",
       "    .dataframe tbody tr th:only-of-type {\n",
       "        vertical-align: middle;\n",
       "    }\n",
       "\n",
       "    .dataframe tbody tr th {\n",
       "        vertical-align: top;\n",
       "    }\n",
       "\n",
       "    .dataframe thead th {\n",
       "        text-align: right;\n",
       "    }\n",
       "</style>\n",
       "<table border=\"1\" class=\"dataframe\">\n",
       "  <thead>\n",
       "    <tr style=\"text-align: right;\">\n",
       "      <th></th>\n",
       "      <th>Estimates</th>\n",
       "    </tr>\n",
       "  </thead>\n",
       "  <tbody>\n",
       "    <tr>\n",
       "      <th>carat</th>\n",
       "      <td>8886.128883</td>\n",
       "    </tr>\n",
       "    <tr>\n",
       "      <th>color_E</th>\n",
       "      <td>-211.682481</td>\n",
       "    </tr>\n",
       "    <tr>\n",
       "      <th>color_F</th>\n",
       "      <td>-303.310033</td>\n",
       "    </tr>\n",
       "    <tr>\n",
       "      <th>color_G</th>\n",
       "      <td>-506.199536</td>\n",
       "    </tr>\n",
       "    <tr>\n",
       "      <th>color_H</th>\n",
       "      <td>-978.697665</td>\n",
       "    </tr>\n",
       "    <tr>\n",
       "      <th>color_I</th>\n",
       "      <td>-1440.301902</td>\n",
       "    </tr>\n",
       "    <tr>\n",
       "      <th>color_J</th>\n",
       "      <td>-2325.222360</td>\n",
       "    </tr>\n",
       "    <tr>\n",
       "      <th>cut_Good</th>\n",
       "      <td>655.767448</td>\n",
       "    </tr>\n",
       "    <tr>\n",
       "      <th>cut_Very Good</th>\n",
       "      <td>848.716878</td>\n",
       "    </tr>\n",
       "    <tr>\n",
       "      <th>cut_Premium</th>\n",
       "      <td>869.395903</td>\n",
       "    </tr>\n",
       "    <tr>\n",
       "      <th>cut_Ideal</th>\n",
       "      <td>998.254438</td>\n",
       "    </tr>\n",
       "    <tr>\n",
       "      <th>clarity_SI2</th>\n",
       "      <td>2625.949987</td>\n",
       "    </tr>\n",
       "    <tr>\n",
       "      <th>clarity_SI1</th>\n",
       "      <td>3573.687987</td>\n",
       "    </tr>\n",
       "    <tr>\n",
       "      <th>clarity_VS2</th>\n",
       "      <td>4217.829102</td>\n",
       "    </tr>\n",
       "    <tr>\n",
       "      <th>clarity_VS1</th>\n",
       "      <td>4534.878970</td>\n",
       "    </tr>\n",
       "    <tr>\n",
       "      <th>clarity_VVS2</th>\n",
       "      <td>4967.199410</td>\n",
       "    </tr>\n",
       "    <tr>\n",
       "      <th>clarity_VVS1</th>\n",
       "      <td>5072.027645</td>\n",
       "    </tr>\n",
       "    <tr>\n",
       "      <th>clarity_IF</th>\n",
       "      <td>5419.646845</td>\n",
       "    </tr>\n",
       "  </tbody>\n",
       "</table>\n",
       "</div>"
      ],
      "text/plain": [
       "                 Estimates\n",
       "carat          8886.128883\n",
       "color_E        -211.682481\n",
       "color_F        -303.310033\n",
       "color_G        -506.199536\n",
       "color_H        -978.697665\n",
       "color_I       -1440.301902\n",
       "color_J       -2325.222360\n",
       "cut_Good        655.767448\n",
       "cut_Very Good   848.716878\n",
       "cut_Premium     869.395903\n",
       "cut_Ideal       998.254438\n",
       "clarity_SI2    2625.949987\n",
       "clarity_SI1    3573.687987\n",
       "clarity_VS2    4217.829102\n",
       "clarity_VS1    4534.878970\n",
       "clarity_VVS2   4967.199410\n",
       "clarity_VVS1   5072.027645\n",
       "clarity_IF     5419.646845"
      ]
     },
     "execution_count": 2,
     "metadata": {},
     "output_type": "execute_result"
    }
   ],
   "source": [
    "# Via scikit-learn\n",
    "import pandas as pd\n",
    "from plotnine.data import diamonds\n",
    "from sklearn.linear_model import LinearRegression\n",
    "from sklearn.preprocessing import OneHotEncoder\n",
    "from sklearn.compose import ColumnTransformer\n",
    "from sklearn.pipeline import make_pipeline\n",
    "from sklearn.metrics import mean_squared_error as mse\n",
    "\n",
    "y = diamonds[\"price\"]\n",
    "cat_vars = [\"color\", \"cut\", \"clarity\"]\n",
    "lvl = [diamonds[x].cat.categories.to_numpy() for x in cat_vars]\n",
    "\n",
    "model = make_pipeline(\n",
    "    ColumnTransformer(\n",
    "        transformers=[\n",
    "            (\"linear\", \"passthrough\", [\"carat\"]),\n",
    "            (\"dummies\", OneHotEncoder(categories=lvl, drop=\"first\"), cat_vars),\n",
    "        ],\n",
    "        verbose_feature_names_out=False,\n",
    "    ),\n",
    "    LinearRegression(),\n",
    ")\n",
    "model.fit(diamonds, y)\n",
    "\n",
    "print(f\"RMSE: {mse(y, model.predict(diamonds), squared=False):.3f}\")\n",
    "print(f\"R-squared: {model.score(diamonds, y):.2%}\")\n",
    "print(\"Intercept\", model[-1].intercept_)\n",
    "\n",
    "results = pd.DataFrame(\n",
    "    model[-1].coef_, columns=[\"Estimates\"], index=model[:-1].get_feature_names_out()\n",
    ")\n",
    "results"
   ]
  },
  {
   "cell_type": "code",
   "execution_count": 3,
   "metadata": {},
   "outputs": [
    {
     "data": {
      "text/html": [
       "<table class=\"simpletable\">\n",
       "<caption>OLS Regression Results</caption>\n",
       "<tr>\n",
       "  <th>Dep. Variable:</th>          <td>price</td>      <th>  R-squared:         </th>  <td>   0.916</td>  \n",
       "</tr>\n",
       "<tr>\n",
       "  <th>Model:</th>                   <td>OLS</td>       <th>  Adj. R-squared:    </th>  <td>   0.916</td>  \n",
       "</tr>\n",
       "<tr>\n",
       "  <th>Method:</th>             <td>Least Squares</td>  <th>  F-statistic:       </th>  <td>3.264e+04</td> \n",
       "</tr>\n",
       "<tr>\n",
       "  <th>Date:</th>             <td>Fri, 12 Nov 2021</td> <th>  Prob (F-statistic):</th>   <td>  0.00</td>   \n",
       "</tr>\n",
       "<tr>\n",
       "  <th>Time:</th>                 <td>09:45:11</td>     <th>  Log-Likelihood:    </th> <td>-4.5699e+05</td>\n",
       "</tr>\n",
       "<tr>\n",
       "  <th>No. Observations:</th>      <td> 53940</td>      <th>  AIC:               </th>  <td>9.140e+05</td> \n",
       "</tr>\n",
       "<tr>\n",
       "  <th>Df Residuals:</th>          <td> 53921</td>      <th>  BIC:               </th>  <td>9.142e+05</td> \n",
       "</tr>\n",
       "<tr>\n",
       "  <th>Df Model:</th>              <td>    18</td>      <th>                     </th>      <td> </td>     \n",
       "</tr>\n",
       "<tr>\n",
       "  <th>Covariance Type:</th>      <td>nonrobust</td>    <th>                     </th>      <td> </td>     \n",
       "</tr>\n",
       "</table>\n",
       "<table class=\"simpletable\">\n",
       "<tr>\n",
       "          <td></td>            <th>coef</th>     <th>std err</th>      <th>t</th>      <th>P>|t|</th>  <th>[0.025</th>    <th>0.975]</th>  \n",
       "</tr>\n",
       "<tr>\n",
       "  <th>Intercept</th>        <td>-7362.8022</td> <td>   51.684</td> <td> -142.458</td> <td> 0.000</td> <td>-7464.103</td> <td>-7261.501</td>\n",
       "</tr>\n",
       "<tr>\n",
       "  <th>color[T.E]</th>       <td> -211.6825</td> <td>   18.316</td> <td>  -11.557</td> <td> 0.000</td> <td> -247.582</td> <td> -175.783</td>\n",
       "</tr>\n",
       "<tr>\n",
       "  <th>color[T.F]</th>       <td> -303.3100</td> <td>   18.509</td> <td>  -16.387</td> <td> 0.000</td> <td> -339.589</td> <td> -267.031</td>\n",
       "</tr>\n",
       "<tr>\n",
       "  <th>color[T.G]</th>       <td> -506.1995</td> <td>   18.122</td> <td>  -27.933</td> <td> 0.000</td> <td> -541.719</td> <td> -470.680</td>\n",
       "</tr>\n",
       "<tr>\n",
       "  <th>color[T.H]</th>       <td> -978.6977</td> <td>   19.272</td> <td>  -50.784</td> <td> 0.000</td> <td>-1016.471</td> <td> -940.925</td>\n",
       "</tr>\n",
       "<tr>\n",
       "  <th>color[T.I]</th>       <td>-1440.3019</td> <td>   21.646</td> <td>  -66.538</td> <td> 0.000</td> <td>-1482.729</td> <td>-1397.875</td>\n",
       "</tr>\n",
       "<tr>\n",
       "  <th>color[T.J]</th>       <td>-2325.2224</td> <td>   26.723</td> <td>  -87.013</td> <td> 0.000</td> <td>-2377.599</td> <td>-2272.846</td>\n",
       "</tr>\n",
       "<tr>\n",
       "  <th>cut[T.Good]</th>      <td>  655.7674</td> <td>   33.634</td> <td>   19.497</td> <td> 0.000</td> <td>  589.844</td> <td>  721.690</td>\n",
       "</tr>\n",
       "<tr>\n",
       "  <th>cut[T.Very Good]</th> <td>  848.7169</td> <td>   31.277</td> <td>   27.135</td> <td> 0.000</td> <td>  787.414</td> <td>  910.020</td>\n",
       "</tr>\n",
       "<tr>\n",
       "  <th>cut[T.Premium]</th>   <td>  869.3959</td> <td>   30.931</td> <td>   28.108</td> <td> 0.000</td> <td>  808.771</td> <td>  930.021</td>\n",
       "</tr>\n",
       "<tr>\n",
       "  <th>cut[T.Ideal]</th>     <td>  998.2544</td> <td>   30.656</td> <td>   32.563</td> <td> 0.000</td> <td>  938.168</td> <td> 1058.341</td>\n",
       "</tr>\n",
       "<tr>\n",
       "  <th>clarity[T.SI2]</th>   <td> 2625.9500</td> <td>   44.788</td> <td>   58.630</td> <td> 0.000</td> <td> 2538.164</td> <td> 2713.736</td>\n",
       "</tr>\n",
       "<tr>\n",
       "  <th>clarity[T.SI1]</th>   <td> 3573.6880</td> <td>   44.598</td> <td>   80.132</td> <td> 0.000</td> <td> 3486.276</td> <td> 3661.100</td>\n",
       "</tr>\n",
       "<tr>\n",
       "  <th>clarity[T.VS2]</th>   <td> 4217.8291</td> <td>   44.841</td> <td>   94.061</td> <td> 0.000</td> <td> 4129.940</td> <td> 4305.719</td>\n",
       "</tr>\n",
       "<tr>\n",
       "  <th>clarity[T.VS1]</th>   <td> 4534.8790</td> <td>   45.535</td> <td>   99.591</td> <td> 0.000</td> <td> 4445.630</td> <td> 4624.128</td>\n",
       "</tr>\n",
       "<tr>\n",
       "  <th>clarity[T.VVS2]</th>  <td> 4967.1994</td> <td>   46.891</td> <td>  105.932</td> <td> 0.000</td> <td> 4875.293</td> <td> 5059.105</td>\n",
       "</tr>\n",
       "<tr>\n",
       "  <th>clarity[T.VVS1]</th>  <td> 5072.0276</td> <td>   48.211</td> <td>  105.205</td> <td> 0.000</td> <td> 4977.534</td> <td> 5166.521</td>\n",
       "</tr>\n",
       "<tr>\n",
       "  <th>clarity[T.IF]</th>    <td> 5419.6468</td> <td>   52.136</td> <td>  103.952</td> <td> 0.000</td> <td> 5317.460</td> <td> 5521.834</td>\n",
       "</tr>\n",
       "<tr>\n",
       "  <th>carat</th>            <td> 8886.1289</td> <td>   12.034</td> <td>  738.437</td> <td> 0.000</td> <td> 8862.543</td> <td> 8909.715</td>\n",
       "</tr>\n",
       "</table>\n",
       "<table class=\"simpletable\">\n",
       "<tr>\n",
       "  <th>Omnibus:</th>       <td>15285.474</td> <th>  Durbin-Watson:     </th>  <td>   0.907</td> \n",
       "</tr>\n",
       "<tr>\n",
       "  <th>Prob(Omnibus):</th>  <td> 0.000</td>   <th>  Jarque-Bera (JB):  </th> <td>183262.957</td>\n",
       "</tr>\n",
       "<tr>\n",
       "  <th>Skew:</th>           <td> 1.022</td>   <th>  Prob(JB):          </th>  <td>    0.00</td> \n",
       "</tr>\n",
       "<tr>\n",
       "  <th>Kurtosis:</th>       <td>11.796</td>   <th>  Cond. No.          </th>  <td>    37.8</td> \n",
       "</tr>\n",
       "</table><br/><br/>Notes:<br/>[1] Standard Errors assume that the covariance matrix of the errors is correctly specified."
      ],
      "text/plain": [
       "<class 'statsmodels.iolib.summary.Summary'>\n",
       "\"\"\"\n",
       "                            OLS Regression Results                            \n",
       "==============================================================================\n",
       "Dep. Variable:                  price   R-squared:                       0.916\n",
       "Model:                            OLS   Adj. R-squared:                  0.916\n",
       "Method:                 Least Squares   F-statistic:                 3.264e+04\n",
       "Date:                Fri, 12 Nov 2021   Prob (F-statistic):               0.00\n",
       "Time:                        09:45:11   Log-Likelihood:            -4.5699e+05\n",
       "No. Observations:               53940   AIC:                         9.140e+05\n",
       "Df Residuals:                   53921   BIC:                         9.142e+05\n",
       "Df Model:                          18                                         \n",
       "Covariance Type:            nonrobust                                         \n",
       "====================================================================================\n",
       "                       coef    std err          t      P>|t|      [0.025      0.975]\n",
       "------------------------------------------------------------------------------------\n",
       "Intercept        -7362.8022     51.684   -142.458      0.000   -7464.103   -7261.501\n",
       "color[T.E]        -211.6825     18.316    -11.557      0.000    -247.582    -175.783\n",
       "color[T.F]        -303.3100     18.509    -16.387      0.000    -339.589    -267.031\n",
       "color[T.G]        -506.1995     18.122    -27.933      0.000    -541.719    -470.680\n",
       "color[T.H]        -978.6977     19.272    -50.784      0.000   -1016.471    -940.925\n",
       "color[T.I]       -1440.3019     21.646    -66.538      0.000   -1482.729   -1397.875\n",
       "color[T.J]       -2325.2224     26.723    -87.013      0.000   -2377.599   -2272.846\n",
       "cut[T.Good]        655.7674     33.634     19.497      0.000     589.844     721.690\n",
       "cut[T.Very Good]   848.7169     31.277     27.135      0.000     787.414     910.020\n",
       "cut[T.Premium]     869.3959     30.931     28.108      0.000     808.771     930.021\n",
       "cut[T.Ideal]       998.2544     30.656     32.563      0.000     938.168    1058.341\n",
       "clarity[T.SI2]    2625.9500     44.788     58.630      0.000    2538.164    2713.736\n",
       "clarity[T.SI1]    3573.6880     44.598     80.132      0.000    3486.276    3661.100\n",
       "clarity[T.VS2]    4217.8291     44.841     94.061      0.000    4129.940    4305.719\n",
       "clarity[T.VS1]    4534.8790     45.535     99.591      0.000    4445.630    4624.128\n",
       "clarity[T.VVS2]   4967.1994     46.891    105.932      0.000    4875.293    5059.105\n",
       "clarity[T.VVS1]   5072.0276     48.211    105.205      0.000    4977.534    5166.521\n",
       "clarity[T.IF]     5419.6468     52.136    103.952      0.000    5317.460    5521.834\n",
       "carat             8886.1289     12.034    738.437      0.000    8862.543    8909.715\n",
       "==============================================================================\n",
       "Omnibus:                    15285.474   Durbin-Watson:                   0.907\n",
       "Prob(Omnibus):                  0.000   Jarque-Bera (JB):           183262.957\n",
       "Skew:                           1.022   Prob(JB):                         0.00\n",
       "Kurtosis:                      11.796   Cond. No.                         37.8\n",
       "==============================================================================\n",
       "\n",
       "Notes:\n",
       "[1] Standard Errors assume that the covariance matrix of the errors is correctly specified.\n",
       "\"\"\""
      ]
     },
     "execution_count": 3,
     "metadata": {},
     "output_type": "execute_result"
    }
   ],
   "source": [
    "# Via statsmodels\n",
    "from plotnine.data import diamonds\n",
    "from statsmodels.formula.api import ols\n",
    "\n",
    "model2 = ols(\"price ~ carat + color + cut + clarity\", data=diamonds).fit()\n",
    "model2.summary()"
   ]
  },
  {
   "cell_type": "markdown",
   "metadata": {},
   "source": [
    "**Comments**\n",
    "\n",
    "- **Model quality:** About 92% of price variations are explained by covariates. Typical prediction error is 1157 USD.\n",
    "- **Effects:** All effects point into the intuitively right direction (larger stones are more expensive, worse color are less expensive etc.)\n",
    "- **Practical perspective:** Additivity in color, cut and clarity are not making sense. Their effects should get larger with larger diamond size. This can be solved by adding interaction terms with carat or, much easier, to switch to a logarithmic response.\n",
    "\n",
    "## Exercise on GLMs"
   ]
  },
  {
   "cell_type": "code",
   "execution_count": 4,
   "metadata": {},
   "outputs": [
    {
     "name": "stdout",
     "output_type": "stream",
     "text": [
      "                 Generalized Linear Model Regression Results                  \n",
      "==============================================================================\n",
      "Dep. Variable:                  price   No. Observations:                53940\n",
      "Model:                            GLM   Df Residuals:                    53921\n",
      "Model Family:                   Gamma   Df Model:                           18\n",
      "Link Function:                    log   Scale:                        0.019471\n",
      "Method:                          IRLS   Log-Likelihood:            -3.8857e+05\n",
      "Date:                Fri, 12 Nov 2021   Deviance:                       978.68\n",
      "Time:                        09:45:15   Pearson chi2:                 1.05e+03\n",
      "No. Iterations:                    12   Pseudo R-squ. (CS):              1.000\n",
      "Covariance Type:            nonrobust                                         \n",
      "====================================================================================\n",
      "                       coef    std err          z      P>|z|      [0.025      0.975]\n",
      "------------------------------------------------------------------------------------\n",
      "Intercept            7.8933      0.006   1314.392      0.000       7.881       7.905\n",
      "color[T.E]          -0.0563      0.002    -25.481      0.000      -0.061      -0.052\n",
      "color[T.F]          -0.0964      0.002    -43.137      0.000      -0.101      -0.092\n",
      "color[T.G]          -0.1635      0.002    -74.787      0.000      -0.168      -0.159\n",
      "color[T.H]          -0.2535      0.002   -109.255      0.000      -0.258      -0.249\n",
      "color[T.I]          -0.3743      0.003   -144.011      0.000      -0.379      -0.369\n",
      "color[T.J]          -0.5111      0.003   -159.433      0.000      -0.517      -0.505\n",
      "cut[T.Good]          0.0717      0.004     17.667      0.000       0.064       0.080\n",
      "cut[T.Very Good]     0.1083      0.004     28.692      0.000       0.101       0.116\n",
      "cut[T.Premium]       0.1324      0.004     35.485      0.000       0.125       0.140\n",
      "cut[T.Ideal]         0.1532      0.004     41.398      0.000       0.146       0.160\n",
      "clarity[T.SI2]       0.4102      0.005     75.974      0.000       0.400       0.421\n",
      "clarity[T.SI1]       0.5727      0.005    106.666      0.000       0.562       0.583\n",
      "clarity[T.VS2]       0.7228      0.005    133.859      0.000       0.712       0.733\n",
      "clarity[T.VS1]       0.7924      0.005    144.536      0.000       0.782       0.803\n",
      "clarity[T.VVS2]      0.9307      0.006    164.714      0.000       0.920       0.942\n",
      "clarity[T.VVS1]      1.0017      0.006    172.286      0.000       0.990       1.013\n",
      "clarity[T.IF]        1.0982      0.006    174.625      0.000       1.086       1.110\n",
      "np.log(carat)        1.8816      0.001   1598.304      0.000       1.879       1.884\n",
      "====================================================================================\n",
      "Relative bias on USD scale: 0.336%\n"
     ]
    }
   ],
   "source": [
    "# Via statsmodels\n",
    "import numpy as np\n",
    "import statsmodels.api as sm\n",
    "import statsmodels.formula.api as smf\n",
    "from plotnine.data import diamonds\n",
    "\n",
    "formula = \"price ~ np.log(carat) + color + cut + clarity\"\n",
    "family = sm.families.Gamma(sm.families.links.log())\n",
    "model = smf.glm(formula=formula, data=diamonds, family=family).fit()\n",
    "print(model.summary())\n",
    "\n",
    "bias = diamonds[\"price\"].mean() / model.predict(diamonds).mean() - 1\n",
    "print(f\"Relative bias on USD scale: {bias:.3%}\")"
   ]
  },
  {
   "cell_type": "code",
   "execution_count": 5,
   "metadata": {},
   "outputs": [
    {
     "name": "stdout",
     "output_type": "stream",
     "text": [
      "Percent deviance explained: 98.15%\n",
      "Relative bias on USD scale: 0.336%\n",
      "Intercept 7.893246729902202\n"
     ]
    },
    {
     "data": {
      "text/html": [
       "<div>\n",
       "<style scoped>\n",
       "    .dataframe tbody tr th:only-of-type {\n",
       "        vertical-align: middle;\n",
       "    }\n",
       "\n",
       "    .dataframe tbody tr th {\n",
       "        vertical-align: top;\n",
       "    }\n",
       "\n",
       "    .dataframe thead th {\n",
       "        text-align: right;\n",
       "    }\n",
       "</style>\n",
       "<table border=\"1\" class=\"dataframe\">\n",
       "  <thead>\n",
       "    <tr style=\"text-align: right;\">\n",
       "      <th></th>\n",
       "      <th>Estimates</th>\n",
       "    </tr>\n",
       "  </thead>\n",
       "  <tbody>\n",
       "    <tr>\n",
       "      <th>log_carat</th>\n",
       "      <td>1.881551</td>\n",
       "    </tr>\n",
       "    <tr>\n",
       "      <th>color_E</th>\n",
       "      <td>-0.056288</td>\n",
       "    </tr>\n",
       "    <tr>\n",
       "      <th>color_F</th>\n",
       "      <td>-0.096361</td>\n",
       "    </tr>\n",
       "    <tr>\n",
       "      <th>color_G</th>\n",
       "      <td>-0.163522</td>\n",
       "    </tr>\n",
       "    <tr>\n",
       "      <th>color_H</th>\n",
       "      <td>-0.253494</td>\n",
       "    </tr>\n",
       "    <tr>\n",
       "      <th>color_I</th>\n",
       "      <td>-0.374268</td>\n",
       "    </tr>\n",
       "    <tr>\n",
       "      <th>color_J</th>\n",
       "      <td>-0.511086</td>\n",
       "    </tr>\n",
       "    <tr>\n",
       "      <th>cut_Good</th>\n",
       "      <td>0.071694</td>\n",
       "    </tr>\n",
       "    <tr>\n",
       "      <th>cut_Very Good</th>\n",
       "      <td>0.108288</td>\n",
       "    </tr>\n",
       "    <tr>\n",
       "      <th>cut_Premium</th>\n",
       "      <td>0.132444</td>\n",
       "    </tr>\n",
       "    <tr>\n",
       "      <th>cut_Ideal</th>\n",
       "      <td>0.153188</td>\n",
       "    </tr>\n",
       "    <tr>\n",
       "      <th>clarity_SI2</th>\n",
       "      <td>0.410239</td>\n",
       "    </tr>\n",
       "    <tr>\n",
       "      <th>clarity_SI1</th>\n",
       "      <td>0.572732</td>\n",
       "    </tr>\n",
       "    <tr>\n",
       "      <th>clarity_VS2</th>\n",
       "      <td>0.722770</td>\n",
       "    </tr>\n",
       "    <tr>\n",
       "      <th>clarity_VS1</th>\n",
       "      <td>0.792350</td>\n",
       "    </tr>\n",
       "    <tr>\n",
       "      <th>clarity_VVS2</th>\n",
       "      <td>0.930728</td>\n",
       "    </tr>\n",
       "    <tr>\n",
       "      <th>clarity_VVS1</th>\n",
       "      <td>1.001679</td>\n",
       "    </tr>\n",
       "    <tr>\n",
       "      <th>clarity_IF</th>\n",
       "      <td>1.098153</td>\n",
       "    </tr>\n",
       "  </tbody>\n",
       "</table>\n",
       "</div>"
      ],
      "text/plain": [
       "               Estimates\n",
       "log_carat       1.881551\n",
       "color_E        -0.056288\n",
       "color_F        -0.096361\n",
       "color_G        -0.163522\n",
       "color_H        -0.253494\n",
       "color_I        -0.374268\n",
       "color_J        -0.511086\n",
       "cut_Good        0.071694\n",
       "cut_Very Good   0.108288\n",
       "cut_Premium     0.132444\n",
       "cut_Ideal       0.153188\n",
       "clarity_SI2     0.410239\n",
       "clarity_SI1     0.572732\n",
       "clarity_VS2     0.722770\n",
       "clarity_VS1     0.792350\n",
       "clarity_VVS2    0.930728\n",
       "clarity_VVS1    1.001679\n",
       "clarity_IF      1.098153"
      ]
     },
     "execution_count": 5,
     "metadata": {},
     "output_type": "execute_result"
    }
   ],
   "source": [
    "# Via scikit-learn\n",
    "import numpy as np\n",
    "import pandas as pd\n",
    "from plotnine.data import diamonds\n",
    "from sklearn.linear_model import GammaRegressor\n",
    "from sklearn.preprocessing import OneHotEncoder\n",
    "from sklearn.compose import ColumnTransformer\n",
    "from sklearn.pipeline import make_pipeline\n",
    "\n",
    "cat_vars = [\"color\", \"cut\", \"clarity\"]\n",
    "lvl = [diamonds[x].cat.categories.to_numpy() for x in cat_vars]\n",
    "\n",
    "y = diamonds[\"price\"]\n",
    "\n",
    "# Define log_carat outside pipeline as it is tricky to track feature names\n",
    "diamonds[\"log_carat\"] = np.log(diamonds[\"carat\"])\n",
    "\n",
    "# Define and fit model pipeline. Note: GammaRegressor directly uses log-link\n",
    "model2 = make_pipeline(\n",
    "    ColumnTransformer(\n",
    "        transformers=[\n",
    "            (\"linear\", \"passthrough\", [\"log_carat\"]),\n",
    "            (\"dummies\", OneHotEncoder(categories=lvl, drop=\"first\"), cat_vars),\n",
    "        ],\n",
    "        verbose_feature_names_out=False,\n",
    "    ),\n",
    "    GammaRegressor(alpha=0, max_iter=10_000, tol=1e-6),\n",
    ")\n",
    "model2.fit(diamonds, y)\n",
    "\n",
    "# Performance\n",
    "d2 = model2.score(diamonds, y)\n",
    "print(f\"Percent deviance explained: {d2:.2%}\")\n",
    "\n",
    "# Relative bias\n",
    "bias2 = y.mean() / model2.predict(diamonds).mean() - 1\n",
    "print(f\"Relative bias on USD scale: {bias2:.3%}\")\n",
    "\n",
    "# Fitted coefficients\n",
    "print(\"Intercept\", model2[-1].intercept_)\n",
    "results = pd.DataFrame(\n",
    "    model2[-1].coef_, columns=[\"Estimates\"], index=model2[:-1].get_feature_names_out()\n",
    ")\n",
    "results"
   ]
  },
  {
   "cell_type": "markdown",
   "metadata": {},
   "source": [
    "**Comment:** The coefficients are very similar to the linear regression with log(price) as response. This makes sense as we interpret the coefficients in the same way! The bias is only 0.3%, i.e., much smaller than the 3% of the OLS with log(price) as response. Still, because the log is not the natural link of the Gamma regression, the bias is not exactly 0.\n",
    "\n",
    "# Chapter 2: Model Selection and Validation\n",
    "\n",
    "## Exercise 1"
   ]
  },
  {
   "cell_type": "code",
   "execution_count": 6,
   "metadata": {},
   "outputs": [
    {
     "name": "stdout",
     "output_type": "stream",
     "text": [
      "Linear regression CV RMSE: 1945.513\n",
      "Best k of k-NN: {'knn__n_neighbors': 6}\n",
      "Its CV-RMSE: 718.314\n",
      "Best model seems 6-NN!\n",
      "Test RMSE of final model: 664.725\n"
     ]
    }
   ],
   "source": [
    "import numpy as np\n",
    "from plotnine.data import diamonds\n",
    "from sklearn.neighbors import KNeighborsRegressor\n",
    "from sklearn.linear_model import LinearRegression\n",
    "from sklearn.compose import ColumnTransformer\n",
    "from sklearn.pipeline import Pipeline, make_pipeline\n",
    "from sklearn.metrics import mean_squared_error as mse\n",
    "from sklearn.preprocessing import (\n",
    "    OneHotEncoder,\n",
    "    OrdinalEncoder,\n",
    "    StandardScaler,\n",
    "    FunctionTransformer,\n",
    ")\n",
    "from sklearn.model_selection import (\n",
    "    train_test_split,\n",
    "    cross_val_score,\n",
    "    KFold,\n",
    "    GridSearchCV,\n",
    ")\n",
    "\n",
    "ord_vars = [\"color\", \"cut\", \"clarity\"]\n",
    "lvl = [diamonds[x].cat.categories.to_list() for x in ord_vars]\n",
    "\n",
    "dia = diamonds.drop_duplicates([\"price\", \"carat\"] + ord_vars)\n",
    "\n",
    "# Split data into train and test\n",
    "df_train, df_test, y_train, y_test = train_test_split(\n",
    "    dia, dia[\"price\"], test_size=0.1, random_state=49\n",
    ")\n",
    "\n",
    "# Define CV strategy\n",
    "cv = KFold(n_splits=5, shuffle=True, random_state=4432)\n",
    "\n",
    "# Cross-validation performance of linear regression\n",
    "linear_regression = make_pipeline(\n",
    "    ColumnTransformer(\n",
    "        transformers=[\n",
    "            (\"log\", FunctionTransformer(np.log), [\"carat\"]),\n",
    "            (\"dummies\", OneHotEncoder(categories=lvl, drop=\"first\"), ord_vars),\n",
    "        ]\n",
    "    ),\n",
    "    LinearRegression(),\n",
    ")\n",
    "results_linear = -cross_val_score(\n",
    "    linear_regression,\n",
    "    X=df_train,\n",
    "    y=y_train,\n",
    "    scoring=\"neg_root_mean_squared_error\",\n",
    "    cv=cv,\n",
    ")\n",
    "print(f\"Linear regression CV RMSE: {results_linear.mean():.3f}\")\n",
    "\n",
    "# Cross-validation performance of k-nearest-neighbour for k = 1-20\n",
    "knn_encoder = ColumnTransformer(\n",
    "    transformers=[\n",
    "        (\"linear\", \"passthrough\", [\"carat\"]),\n",
    "        (\"ordered\", OrdinalEncoder(categories=lvl), ord_vars),\n",
    "    ],\n",
    ")\n",
    "knn_regression = Pipeline(\n",
    "    steps=[\n",
    "        (\"encoder\", knn_encoder),\n",
    "        (\"scaler\", StandardScaler()),\n",
    "        (\"knn\", KNeighborsRegressor(n_neighbors=5)),\n",
    "    ]\n",
    ")\n",
    "search = GridSearchCV(\n",
    "    knn_regression,\n",
    "    param_grid={\"knn__n_neighbors\": range(1, 21)},\n",
    "    scoring=\"neg_root_mean_squared_error\",\n",
    "    cv=KFold(n_splits=5, shuffle=True, random_state=4302),\n",
    ")\n",
    "# Note: the best model is being refitted on full training data\n",
    "search.fit(X=df_train, y=y_train)\n",
    "print(f\"Best k of k-NN: {search.best_params_}\")\n",
    "print(f\"Its CV-RMSE: {-search.best_score_:.3f}\")\n",
    "print(\"Best model seems 6-NN!\")\n",
    "\n",
    "# The overall best model is 6-nearest-neighbour\n",
    "final_rmse = mse(y_test, search.predict(df_test), squared=False)\n",
    "print(f\"Test RMSE of final model: {final_rmse:.3f}\")"
   ]
  },
  {
   "cell_type": "markdown",
   "metadata": {},
   "source": [
    "**Comments:** The test performance of the best model (6-NN) seems clearly worse than the one without deduplication (~660 USD RMSE vs ~580). Overall, this is probably the more realistic performance than the one obtained from the original data set. Still, as certain rows could be identical by chance, our deduplication approach might be slightly too conservative. The true performance will probably be somewhere between the two approaches.\n",
    "\n",
    "## Exercise 2"
   ]
  },
  {
   "cell_type": "code",
   "execution_count": 7,
   "metadata": {},
   "outputs": [],
   "source": [
    "import numpy as np\n",
    "import pandas as pd\n",
    "from plotnine.data import diamonds\n",
    "from sklearn.linear_model import GammaRegressor\n",
    "from sklearn.preprocessing import OneHotEncoder, FunctionTransformer, PolynomialFeatures\n",
    "from sklearn.compose import ColumnTransformer\n",
    "from sklearn.pipeline import Pipeline\n",
    "from sklearn.model_selection import train_test_split, GridSearchCV, KFold\n",
    "\n",
    "# Split data into train and test\n",
    "df_train, df_test, y_train, y_test = train_test_split(\n",
    "    diamonds, diamonds[\"price\"], test_size=0.1, random_state=49\n",
    ")\n",
    "\n",
    "# Define parametrized end-to-end preprocessor with GLM on top of it\n",
    "cat_vars = [\"color\", \"cut\", \"clarity\"]\n",
    "lvl = [diamonds[x].cat.categories.to_numpy() for x in cat_vars]\n",
    "\n",
    "prep_carat = Pipeline(\n",
    "    steps=[(\"log\", FunctionTransformer(np.log)), (\"poly\", PolynomialFeatures(degree=1))]\n",
    ")\n",
    "\n",
    "preprocessor = ColumnTransformer(\n",
    "    transformers=[\n",
    "        (\"carat\", prep_carat, [\"carat\"]),\n",
    "        (\"dummies\", OneHotEncoder(categories=lvl, drop=\"first\"), cat_vars),\n",
    "    ]\n",
    ")\n",
    "\n",
    "gamma_regression = Pipeline(\n",
    "    steps=[\n",
    "        (\"preprocessor\", preprocessor),\n",
    "        (\"glm\", GammaRegressor(alpha=0, max_iter=10_000, tol=1e-6)),\n",
    "    ]\n",
    ")"
   ]
  },
  {
   "cell_type": "code",
   "execution_count": 8,
   "metadata": {},
   "outputs": [
    {
     "data": {
      "text/html": [
       "<div>\n",
       "<style scoped>\n",
       "    .dataframe tbody tr th:only-of-type {\n",
       "        vertical-align: middle;\n",
       "    }\n",
       "\n",
       "    .dataframe tbody tr th {\n",
       "        vertical-align: top;\n",
       "    }\n",
       "\n",
       "    .dataframe thead th {\n",
       "        text-align: right;\n",
       "    }\n",
       "</style>\n",
       "<table border=\"1\" class=\"dataframe\">\n",
       "  <thead>\n",
       "    <tr style=\"text-align: right;\">\n",
       "      <th></th>\n",
       "      <th>mean_gamma_deviance</th>\n",
       "    </tr>\n",
       "  </thead>\n",
       "  <tbody>\n",
       "    <tr>\n",
       "      <th>1</th>\n",
       "      <td>0.018230</td>\n",
       "    </tr>\n",
       "    <tr>\n",
       "      <th>2</th>\n",
       "      <td>0.018056</td>\n",
       "    </tr>\n",
       "    <tr>\n",
       "      <th>3</th>\n",
       "      <td>0.016280</td>\n",
       "    </tr>\n",
       "    <tr>\n",
       "      <th>4</th>\n",
       "      <td>0.016277</td>\n",
       "    </tr>\n",
       "    <tr>\n",
       "      <th>5</th>\n",
       "      <td>0.016224</td>\n",
       "    </tr>\n",
       "    <tr>\n",
       "      <th>6</th>\n",
       "      <td>0.016079</td>\n",
       "    </tr>\n",
       "    <tr>\n",
       "      <th>7</th>\n",
       "      <td>0.015997</td>\n",
       "    </tr>\n",
       "    <tr>\n",
       "      <th>8</th>\n",
       "      <td>0.015960</td>\n",
       "    </tr>\n",
       "    <tr>\n",
       "      <th>9</th>\n",
       "      <td>0.015994</td>\n",
       "    </tr>\n",
       "    <tr>\n",
       "      <th>10</th>\n",
       "      <td>0.016165</td>\n",
       "    </tr>\n",
       "  </tbody>\n",
       "</table>\n",
       "</div>"
      ],
      "text/plain": [
       "    mean_gamma_deviance\n",
       "1              0.018230\n",
       "2              0.018056\n",
       "3              0.016280\n",
       "4              0.016277\n",
       "5              0.016224\n",
       "6              0.016079\n",
       "7              0.015997\n",
       "8              0.015960\n",
       "9              0.015994\n",
       "10             0.016165"
      ]
     },
     "execution_count": 8,
     "metadata": {},
     "output_type": "execute_result"
    }
   ],
   "source": [
    "# Grid search for best polynomial degree (takes 1.5 minutes)\n",
    "param_grid = {\"preprocessor__carat__poly__degree\": range(1, 11)}\n",
    "\n",
    "search = GridSearchCV(\n",
    "    gamma_regression,\n",
    "    param_grid=param_grid,\n",
    "    scoring=\"neg_mean_gamma_deviance\",\n",
    "    cv=KFold(n_splits=5, shuffle=True, random_state=4302),\n",
    ")\n",
    "search.fit(X=df_train, y=y_train)\n",
    "\n",
    "# Organize results\n",
    "results = pd.DataFrame(\n",
    "    -search.cv_results_[\"mean_test_score\"],\n",
    "    index=param_grid[\"preprocessor__carat__poly__degree\"],\n",
    "    columns=[\"mean_gamma_deviance\"],\n",
    ")\n",
    "results"
   ]
  },
  {
   "cell_type": "code",
   "execution_count": 9,
   "metadata": {},
   "outputs": [
    {
     "name": "stdout",
     "output_type": "stream",
     "text": [
      "Mean deviance on the test data: 0.015\n"
     ]
    }
   ],
   "source": [
    "# The model was automatically refitted on the train data with optimal degree:\n",
    "print(f\"Mean deviance on the test data: {-search.score(df_test, y_test):.3f}\")"
   ]
  },
  {
   "cell_type": "markdown",
   "metadata": {},
   "source": [
    "**Comments:** The optimal degree seems to be 8 with a CV deviance of 0.015. The test performance is similar. Caution: Instead of using such high degree polynomial, it is almost always better to use regression splines.\n",
    "\n",
    "## Exercise 3 (optional)\n",
    "\n",
    "Solution not shown here.\n",
    "\n",
    "# Chapter 3: Trees\n",
    "\n",
    "## Exercises on Random Forests\n",
    "\n",
    "### Exercise 1"
   ]
  },
  {
   "cell_type": "code",
   "execution_count": 10,
   "metadata": {},
   "outputs": [
    {
     "name": "stdout",
     "output_type": "stream",
     "text": [
      "OOB R-squared: 98.07%\n",
      "Test RMSE: 554.874\n",
      "Test R-squared: 98.05%\n"
     ]
    }
   ],
   "source": [
    "import numpy as np\n",
    "from plotnine.data import diamonds\n",
    "from sklearn.preprocessing import OrdinalEncoder, KBinsDiscretizer, FunctionTransformer\n",
    "from sklearn.model_selection import train_test_split\n",
    "from sklearn.compose import ColumnTransformer\n",
    "from sklearn.pipeline import make_pipeline\n",
    "from sklearn.ensemble import RandomForestRegressor\n",
    "from sklearn.metrics import mean_squared_error\n",
    "\n",
    "# Stratified train/test split\n",
    "binner = KBinsDiscretizer(n_bins=10, encode=\"ordinal\")\n",
    "y_binned = binner.fit_transform(diamonds[[\"price\"]])\n",
    "\n",
    "df_train, df_test, y_train, y_test = train_test_split(\n",
    "    diamonds, diamonds[\"price\"], test_size=0.2, random_state=341, stratify=y_binned\n",
    ")\n",
    "\n",
    "# Pipeline with model\n",
    "ord_features = [\"cut\", \"color\", \"clarity\"]\n",
    "ord_levels = [diamonds[x].cat.categories.to_list() for x in ord_features]\n",
    "\n",
    "model = make_pipeline(\n",
    "    ColumnTransformer(\n",
    "        transformers=[\n",
    "            (\"ordinal\", OrdinalEncoder(categories=ord_levels), ord_features),\n",
    "            (\"numeric\", FunctionTransformer(np.log), [\"carat\"]),\n",
    "        ]\n",
    "    ),\n",
    "    RandomForestRegressor(\n",
    "        n_estimators=500,\n",
    "        max_features=\"sqrt\",\n",
    "        min_samples_leaf=5,\n",
    "        oob_score=True,\n",
    "        random_state=17,\n",
    "        n_jobs=4,\n",
    "    ),\n",
    ")\n",
    "model.fit(df_train, y_train)\n",
    "\n",
    "# OOB performance\n",
    "print(f\"OOB R-squared: {model[-1].oob_score_:.2%}\")\n",
    "\n",
    "# Test performance\n",
    "rmse_test = mean_squared_error(y_test, model.predict(df_test), squared=False)\n",
    "print(f\"Test RMSE: {rmse_test:.3f}\")\n",
    "print(f\"Test R-squared: {model.score(df_test, y_test):.2%}\")"
   ]
  },
  {
   "cell_type": "markdown",
   "metadata": {},
   "source": [
    "**Comment:** The results are essentially identical because log is a monotonic trafo. Differences might come from implementation tricks.\n",
    "\n",
    "### Exercise 2"
   ]
  },
  {
   "cell_type": "code",
   "execution_count": 11,
   "metadata": {},
   "outputs": [],
   "source": [
    "import numpy as np\n",
    "import pandas as pd\n",
    "from sklearn.model_selection import train_test_split\n",
    "from sklearn.preprocessing import OrdinalEncoder\n",
    "from sklearn.compose import ColumnTransformer\n",
    "from sklearn.pipeline import Pipeline\n",
    "from sklearn.ensemble import RandomForestClassifier\n",
    "\n",
    "car = pd.read_csv(\"car.csv\")  # see readme how to get the data\n",
    "\n",
    "# Train/test split (stratified split is simple for discrete responses)\n",
    "df_train, df_test, y_train, y_test = train_test_split(\n",
    "    car, car[\"clm\"], test_size=0.2, random_state=5684, stratify=car[\"clm\"]\n",
    ")\n",
    "\n",
    "# Model pipeline. For simplicity, we treat 'veh_body' as ordinal\n",
    "num_vars = [\"veh_value\", \"veh_age\", \"agecat\"]\n",
    "ord_vars = [\"gender\", \"area\", \"veh_body\"]\n",
    "ord_levels = [sorted(car[v].unique()) for v in ord_vars]\n",
    "\n",
    "preprocessor = ColumnTransformer(\n",
    "    transformers=[\n",
    "        (\"ordinal\", OrdinalEncoder(categories=ord_levels), ord_vars),\n",
    "        (\"numeric\", \"passthrough\", num_vars),\n",
    "    ]\n",
    ")\n",
    "\n",
    "rf = RandomForestClassifier(\n",
    "    n_estimators=500,\n",
    "    max_features=\"sqrt\",\n",
    "    min_samples_leaf=5,\n",
    "    criterion=\"entropy\",\n",
    "    max_depth=8,\n",
    "    n_jobs=4,  # or set n_jobs in GridSearchCV\n",
    ")\n",
    "\n",
    "model = Pipeline(steps=[(\"preprocessor\", preprocessor), (\"rf\", rf)])"
   ]
  },
  {
   "cell_type": "code",
   "execution_count": 12,
   "metadata": {},
   "outputs": [
    {
     "name": "stdout",
     "output_type": "stream",
     "text": [
      "Best max_depth: {'rf__max_depth': 4}\n"
     ]
    }
   ],
   "source": [
    "# Grid search for 'max_depth' with CV and five (stratified) folds\n",
    "from sklearn.model_selection import GridSearchCV\n",
    "\n",
    "search = GridSearchCV(\n",
    "    model, param_grid={\"rf__max_depth\": range(3, 8)}, scoring=\"neg_log_loss\", cv=5\n",
    ")\n",
    "# Remember: the best model is refitted on training data\n",
    "search.fit(X=df_train, y=y_train)\n",
    "print(f\"Best max_depth: {search.best_params_}\")"
   ]
  },
  {
   "cell_type": "code",
   "execution_count": 13,
   "metadata": {},
   "outputs": [
    {
     "name": "stdout",
     "output_type": "stream",
     "text": [
      "Test log-loss:  0.248\n",
      "Relative improvement in log-loss:  0.220%\n"
     ]
    }
   ],
   "source": [
    "# Performance on test data\n",
    "from sklearn.metrics import log_loss\n",
    "\n",
    "y_pred = search.predict_proba(df_test)\n",
    "test_loss = log_loss(y_test, search.predict_proba(df_test))\n",
    "test_loss0 = log_loss(y_test, np.repeat(y_train.mean(), len(y_test)))\n",
    "rel_imp = (test_loss0 - test_loss) / test_loss0\n",
    "\n",
    "print(f\"Test log-loss: {test_loss: .3f}\")\n",
    "print(f\"Relative improvement in log-loss: {rel_imp: .3%}\")"
   ]
  },
  {
   "cell_type": "code",
   "execution_count": 14,
   "metadata": {},
   "outputs": [
    {
     "data": {
      "image/png": "[encoded data removed]",
      "text/plain": [
       "<Figure size 432x288 with 1 Axes>"
      ]
     },
     "metadata": {
      "needs_background": "light"
     },
     "output_type": "display_data"
    }
   ],
   "source": [
    "# Variable importance\n",
    "# Replace later with: feature_names = search[:-1].get_feature_names_out()\n",
    "feature_names = ord_vars + num_vars  # same(!!) order as in pipeline\n",
    "imps = pd.Series(search.best_estimator_[-1].feature_importances_, index=feature_names)\n",
    "_ = imps.sort_values().plot(kind=\"barh\", title=\"Split gain importance\")"
   ]
  },
  {
   "cell_type": "code",
   "execution_count": 15,
   "metadata": {},
   "outputs": [
    {
     "name": "stderr",
     "output_type": "stream",
     "text": [
      "C:\\Users\\Michael\\anaconda3\\envs\\ml_lecture\\lib\\site-packages\\dalex\\predict_explanations\\_ceteris_paribus\\checks.py:16: UserWarning: Variables taken from variables_splits\n"
     ]
    },
    {
     "data": {
      "application/vnd.plotly.v1+json": {
       "config": {
        "displaylogo": false,
        "modeBarButtonsToRemove": [
         "sendDataToCloud",
         "lasso2d",
         "autoScale2d",
         "select2d",
         "zoom2d",
         "pan2d",
         "zoomIn2d",
         "zoomOut2d",
         "resetScale2d",
         "toggleSpikelines",
         "hoverCompareCartesian",
         "hoverClosestCartesian"
        ],
        "plotlyServerURL": "https://plot.ly",
        "staticPlot": false,
        "toImageButtonOptions": {
         "height": null,
         "width": null
        }
       },
       "data": [
        {
         "customdata": [
          [
           0.06798044151800202,
           "Partial depencence for numeric variables",
           "veh_value"
          ],
          [
           0.06798044151800202,
           "Partial depencence for numeric variables",
           "veh_value"
          ],
          [
           0.06798044151800202,
           "Partial depencence for numeric variables",
           "veh_value"
          ],
          [
           0.06798044151800202,
           "Partial depencence for numeric variables",
           "veh_value"
          ],
          [
           0.06798044151800202,
           "Partial depencence for numeric variables",
           "veh_value"
          ],
          [
           0.06798044151800202,
           "Partial depencence for numeric variables",
           "veh_value"
          ],
          [
           0.06798044151800202,
           "Partial depencence for numeric variables",
           "veh_value"
          ],
          [
           0.06798044151800202,
           "Partial depencence for numeric variables",
           "veh_value"
          ],
          [
           0.06798044151800202,
           "Partial depencence for numeric variables",
           "veh_value"
          ],
          [
           0.06798044151800202,
           "Partial depencence for numeric variables",
           "veh_value"
          ],
          [
           0.06798044151800202,
           "Partial depencence for numeric variables",
           "veh_value"
          ],
          [
           0.06798044151800202,
           "Partial depencence for numeric variables",
           "veh_value"
          ],
          [
           0.06798044151800202,
           "Partial depencence for numeric variables",
           "veh_value"
          ],
          [
           0.06798044151800202,
           "Partial depencence for numeric variables",
           "veh_value"
          ],
          [
           0.06798044151800202,
           "Partial depencence for numeric variables",
           "veh_value"
          ],
          [
           0.06798044151800202,
           "Partial depencence for numeric variables",
           "veh_value"
          ],
          [
           0.06798044151800202,
           "Partial depencence for numeric variables",
           "veh_value"
          ],
          [
           0.06798044151800202,
           "Partial depencence for numeric variables",
           "veh_value"
          ],
          [
           0.06798044151800202,
           "Partial depencence for numeric variables",
           "veh_value"
          ],
          [
           0.06798044151800202,
           "Partial depencence for numeric variables",
           "veh_value"
          ],
          [
           0.06798044151800202,
           "Partial depencence for numeric variables",
           "veh_value"
          ],
          [
           0.06798044151800202,
           "Partial depencence for numeric variables",
           "veh_value"
          ],
          [
           0.06798044151800202,
           "Partial depencence for numeric variables",
           "veh_value"
          ],
          [
           0.06798044151800202,
           "Partial depencence for numeric variables",
           "veh_value"
          ],
          [
           0.06798044151800202,
           "Partial depencence for numeric variables",
           "veh_value"
          ],
          [
           0.06798044151800202,
           "Partial depencence for numeric variables",
           "veh_value"
          ],
          [
           0.06798044151800202,
           "Partial depencence for numeric variables",
           "veh_value"
          ],
          [
           0.06798044151800202,
           "Partial depencence for numeric variables",
           "veh_value"
          ],
          [
           0.06798044151800202,
           "Partial depencence for numeric variables",
           "veh_value"
          ],
          [
           0.06798044151800202,
           "Partial depencence for numeric variables",
           "veh_value"
          ],
          [
           0.06798044151800202,
           "Partial depencence for numeric variables",
           "veh_value"
          ],
          [
           0.06798044151800202,
           "Partial depencence for numeric variables",
           "veh_value"
          ],
          [
           0.06798044151800202,
           "Partial depencence for numeric variables",
           "veh_value"
          ],
          [
           0.06798044151800202,
           "Partial depencence for numeric variables",
           "veh_value"
          ],
          [
           0.06798044151800202,
           "Partial depencence for numeric variables",
           "veh_value"
          ],
          [
           0.06798044151800202,
           "Partial depencence for numeric variables",
           "veh_value"
          ],
          [
           0.06798044151800202,
           "Partial depencence for numeric variables",
           "veh_value"
          ],
          [
           0.06798044151800202,
           "Partial depencence for numeric variables",
           "veh_value"
          ],
          [
           0.06798044151800202,
           "Partial depencence for numeric variables",
           "veh_value"
          ],
          [
           0.06798044151800202,
           "Partial depencence for numeric variables",
           "veh_value"
          ],
          [
           0.06798044151800202,
           "Partial depencence for numeric variables",
           "veh_value"
          ]
         ],
         "hovertemplate": "<b>%{hovertext}</b><br><br>prediction=%{y:.3f}<br>mean_prediction=%{customdata[0]:.3f}<extra></extra>",
         "hovertext": [
          "Partial depencence for numeric variables",
          "Partial depencence for numeric variables",
          "Partial depencence for numeric variables",
          "Partial depencence for numeric variables",
          "Partial depencence for numeric variables",
          "Partial depencence for numeric variables",
          "Partial depencence for numeric variables",
          "Partial depencence for numeric variables",
          "Partial depencence for numeric variables",
          "Partial depencence for numeric variables",
          "Partial depencence for numeric variables",
          "Partial depencence for numeric variables",
          "Partial depencence for numeric variables",
          "Partial depencence for numeric variables",
          "Partial depencence for numeric variables",
          "Partial depencence for numeric variables",
          "Partial depencence for numeric variables",
          "Partial depencence for numeric variables",
          "Partial depencence for numeric variables",
          "Partial depencence for numeric variables",
          "Partial depencence for numeric variables",
          "Partial depencence for numeric variables",
          "Partial depencence for numeric variables",
          "Partial depencence for numeric variables",
          "Partial depencence for numeric variables",
          "Partial depencence for numeric variables",
          "Partial depencence for numeric variables",
          "Partial depencence for numeric variables",
          "Partial depencence for numeric variables",
          "Partial depencence for numeric variables",
          "Partial depencence for numeric variables",
          "Partial depencence for numeric variables",
          "Partial depencence for numeric variables",
          "Partial depencence for numeric variables",
          "Partial depencence for numeric variables",
          "Partial depencence for numeric variables",
          "Partial depencence for numeric variables",
          "Partial depencence for numeric variables",
          "Partial depencence for numeric variables",
          "Partial depencence for numeric variables",
          "Partial depencence for numeric variables"
         ],
         "legendgroup": "Partial depencence for numeric variables",
         "line": {
          "color": "#46bac2",
          "dash": "solid",
          "width": 2
         },
         "marker": {
          "symbol": "circle"
         },
         "mode": "lines",
         "name": "Partial depencence for numeric variables",
         "opacity": 1,
         "orientation": "v",
         "showlegend": true,
         "type": "scatter",
         "x": [
          0,
          0.125,
          0.25,
          0.375,
          0.5,
          0.625,
          0.75,
          0.875,
          1,
          1.125,
          1.25,
          1.375,
          1.5,
          1.625,
          1.75,
          1.875,
          2,
          2.125,
          2.25,
          2.375,
          2.5,
          2.625,
          2.75,
          2.875,
          3,
          3.125,
          3.25,
          3.375,
          3.5,
          3.625,
          3.75,
          3.875,
          4,
          4.125,
          4.25,
          4.375,
          4.5,
          4.625,
          4.75,
          4.875,
          5
         ],
         "xaxis": "x3",
         "y": [
          0.06102568200454781,
          0.056760974166714745,
          0.05401627638582468,
          0.056800962206033256,
          0.0592594451471779,
          0.05932684917775035,
          0.059499226957835515,
          0.06039927744600949,
          0.06121299011184187,
          0.062492692896182644,
          0.06338275712926694,
          0.06891762494561142,
          0.06969882693880154,
          0.0701121029518212,
          0.07001987890974444,
          0.07082462883632769,
          0.07159544628329795,
          0.07186869661197151,
          0.07381019939865714,
          0.07448451038720913,
          0.07411384340363122,
          0.07506916279089944,
          0.07525647355085535,
          0.07603896174583907,
          0.07611998068782444,
          0.07612176395657773,
          0.07661739588575137,
          0.07675002761249947,
          0.0773020958685048,
          0.07785408224164914,
          0.07786282305842285,
          0.07740264085997639,
          0.07747842043279779,
          0.07684326335913927,
          0.0767784990437977,
          0.07662826814528448,
          0.07672630130836866,
          0.07665663411678998,
          0.07645313275708379,
          0.07643542556806034,
          0.07650088972069222
         ],
         "yaxis": "y3"
        },
        {
         "customdata": [
          [
           0.06798044151800202,
           "Partial depencence for numeric variables",
           "agecat"
          ],
          [
           0.06798044151800202,
           "Partial depencence for numeric variables",
           "agecat"
          ],
          [
           0.06798044151800202,
           "Partial depencence for numeric variables",
           "agecat"
          ],
          [
           0.06798044151800202,
           "Partial depencence for numeric variables",
           "agecat"
          ],
          [
           0.06798044151800202,
           "Partial depencence for numeric variables",
           "agecat"
          ],
          [
           0.06798044151800202,
           "Partial depencence for numeric variables",
           "agecat"
          ]
         ],
         "hovertemplate": "<b>%{hovertext}</b><br><br>prediction=%{y:.3f}<br>mean_prediction=%{customdata[0]:.3f}<extra></extra>",
         "hovertext": [
          "Partial depencence for numeric variables",
          "Partial depencence for numeric variables",
          "Partial depencence for numeric variables",
          "Partial depencence for numeric variables",
          "Partial depencence for numeric variables",
          "Partial depencence for numeric variables"
         ],
         "legendgroup": "Partial depencence for numeric variables",
         "line": {
          "color": "#46bac2",
          "dash": "solid",
          "width": 2
         },
         "marker": {
          "symbol": "circle"
         },
         "mode": "lines",
         "name": "Partial depencence for numeric variables",
         "opacity": 1,
         "orientation": "v",
         "showlegend": false,
         "type": "scatter",
         "x": [
          1,
          2,
          3,
          4,
          5,
          6
         ],
         "xaxis": "x4",
         "y": [
          0.07867191707314992,
          0.07185864794912365,
          0.07161639417720364,
          0.06726660631455784,
          0.06052771443374802,
          0.05985129151994362
         ],
         "yaxis": "y4"
        },
        {
         "customdata": [
          [
           0.06798044151800202,
           "Partial depencence for numeric variables",
           "veh_age"
          ],
          [
           0.06798044151800202,
           "Partial depencence for numeric variables",
           "veh_age"
          ],
          [
           0.06798044151800202,
           "Partial depencence for numeric variables",
           "veh_age"
          ],
          [
           0.06798044151800202,
           "Partial depencence for numeric variables",
           "veh_age"
          ]
         ],
         "hovertemplate": "<b>%{hovertext}</b><br><br>prediction=%{y:.3f}<br>mean_prediction=%{customdata[0]:.3f}<extra></extra>",
         "hovertext": [
          "Partial depencence for numeric variables",
          "Partial depencence for numeric variables",
          "Partial depencence for numeric variables",
          "Partial depencence for numeric variables"
         ],
         "legendgroup": "Partial depencence for numeric variables",
         "line": {
          "color": "#46bac2",
          "dash": "solid",
          "width": 2
         },
         "marker": {
          "symbol": "circle"
         },
         "mode": "lines",
         "name": "Partial depencence for numeric variables",
         "opacity": 1,
         "orientation": "v",
         "showlegend": false,
         "type": "scatter",
         "x": [
          1,
          2,
          3,
          4
         ],
         "xaxis": "x",
         "y": [
          0.06610613678080816,
          0.0683683323149979,
          0.06834876502567727,
          0.06862529572642305
         ],
         "yaxis": "y"
        }
       ],
       "layout": {
        "annotations": [
         {
          "font": {
           "size": 13
          },
          "showarrow": false,
          "text": "veh_age",
          "x": 0.2375,
          "xanchor": "center",
          "xref": "paper",
          "y": 0.425,
          "yanchor": "bottom",
          "yref": "paper"
         },
         {
          "font": {
           "size": 13
          },
          "showarrow": false,
          "text": "veh_value",
          "x": 0.2375,
          "xanchor": "center",
          "xref": "paper",
          "y": 1,
          "yanchor": "bottom",
          "yref": "paper"
         },
         {
          "font": {
           "size": 13
          },
          "showarrow": false,
          "text": "agecat",
          "x": 0.7625,
          "xanchor": "center",
          "xref": "paper",
          "y": 1,
          "yanchor": "bottom",
          "yref": "paper"
         },
         {
          "font": {
           "size": 13
          },
          "showarrow": false,
          "text": "prediction",
          "textangle": -90,
          "x": -0.07,
          "xref": "paper",
          "y": 0.5,
          "yref": "paper"
         }
        ],
        "font": {
         "color": "#371ea3"
        },
        "height": 829,
        "hovermode": "x unified",
        "legend": {
         "font": {
          "size": 11
         },
         "itemsizing": "constant",
         "orientation": "h",
         "title": {
          "font": {
           "size": 12
          },
          "text": "label"
         },
         "tracegroupgap": 0,
         "x": 1,
         "xanchor": "right",
         "y": 1.0361881785283473,
         "yanchor": "bottom"
        },
        "margin": {
         "b": 71,
         "r": 30,
         "t": 78
        },
        "template": {
         "data": {
          "scatter": [
           {
            "type": "scatter"
           }
          ]
         }
        },
        "title": {
         "font": {
          "size": 16
         },
         "text": "Aggregated Profiles",
         "x": 0.15
        },
        "xaxis": {
         "anchor": "y",
         "automargin": true,
         "domain": [
          0,
          0.475
         ],
         "fixedrange": true,
         "gridwidth": 2,
         "showticklabels": true,
         "tickcolor": "white",
         "ticklen": 3,
         "ticks": "outside",
         "title": {
          "text": ""
         },
         "type": "linear",
         "zeroline": false
        },
        "xaxis2": {
         "anchor": "y2",
         "automargin": true,
         "domain": [
          0.525,
          1
         ],
         "fixedrange": true,
         "gridwidth": 2,
         "showticklabels": true,
         "tickcolor": "white",
         "ticklen": 3,
         "ticks": "outside",
         "title": {
          "text": ""
         },
         "type": "linear",
         "zeroline": false
        },
        "xaxis3": {
         "anchor": "y3",
         "automargin": true,
         "domain": [
          0,
          0.475
         ],
         "fixedrange": true,
         "gridwidth": 2,
         "showticklabels": true,
         "tickcolor": "white",
         "ticklen": 3,
         "ticks": "outside",
         "title": {
          "text": ""
         },
         "type": "linear",
         "zeroline": false
        },
        "xaxis4": {
         "anchor": "y4",
         "automargin": true,
         "domain": [
          0.525,
          1
         ],
         "fixedrange": true,
         "gridwidth": 2,
         "showticklabels": true,
         "tickcolor": "white",
         "ticklen": 3,
         "ticks": "outside",
         "title": {
          "text": ""
         },
         "type": "linear",
         "zeroline": false
        },
        "yaxis": {
         "anchor": "x",
         "automargin": true,
         "domain": [
          0,
          0.425
         ],
         "fixedrange": true,
         "gridwidth": 2,
         "range": [
          0.05155071231709216,
          0.08113748114188245
         ],
         "tickcolor": "white",
         "ticklen": 3,
         "ticks": "outside",
         "title": {
          "text": ""
         },
         "type": "linear",
         "zeroline": false
        },
        "yaxis2": {
         "anchor": "x2",
         "automargin": true,
         "domain": [
          0,
          0.425
         ],
         "fixedrange": true,
         "gridwidth": 2,
         "matches": "y",
         "range": [
          0.05155071231709216,
          0.08113748114188245
         ],
         "showticklabels": false,
         "tickcolor": "white",
         "ticklen": 3,
         "ticks": "outside",
         "title": {
          "text": ""
         },
         "type": "linear",
         "zeroline": false
        },
        "yaxis3": {
         "anchor": "x3",
         "automargin": true,
         "domain": [
          0.575,
          1
         ],
         "fixedrange": true,
         "gridwidth": 2,
         "matches": "y",
         "range": [
          0.05155071231709216,
          0.08113748114188245
         ],
         "tickcolor": "white",
         "ticklen": 3,
         "ticks": "outside",
         "title": {
          "text": ""
         },
         "type": "linear",
         "zeroline": false
        },
        "yaxis4": {
         "anchor": "x4",
         "automargin": true,
         "domain": [
          0.575,
          1
         ],
         "fixedrange": true,
         "gridwidth": 2,
         "matches": "y",
         "range": [
          0.05155071231709216,
          0.08113748114188245
         ],
         "showticklabels": false,
         "tickcolor": "white",
         "ticklen": 3,
         "ticks": "outside",
         "title": {
          "text": ""
         },
         "type": "linear",
         "zeroline": false
        }
       }
      }
     },
     "metadata": {},
     "output_type": "display_data"
    },
    {
     "name": "stderr",
     "output_type": "stream",
     "text": [
      "C:\\Users\\Michael\\anaconda3\\envs\\ml_lecture\\lib\\site-packages\\dalex\\predict_explanations\\_ceteris_paribus\\checks.py:16: UserWarning:\n",
      "\n",
      "Variables taken from variables_splits\n",
      "\n"
     ]
    },
    {
     "data": {
      "application/vnd.plotly.v1+json": {
       "config": {
        "displaylogo": false,
        "modeBarButtonsToRemove": [
         "sendDataToCloud",
         "lasso2d",
         "autoScale2d",
         "select2d",
         "zoom2d",
         "pan2d",
         "zoomIn2d",
         "zoomOut2d",
         "resetScale2d",
         "toggleSpikelines",
         "hoverCompareCartesian",
         "hoverClosestCartesian"
        ],
        "plotlyServerURL": "https://plot.ly",
        "staticPlot": false,
        "toImageButtonOptions": {
         "height": null,
         "width": null
        }
       },
       "data": [
        {
         "alignmentgroup": "True",
         "base": [
          0.06757450845601802,
          0.06757450845601802
         ],
         "customdata": [
          [
           0.06782617734230559,
           "Partial depencence for categorical variables",
           "gender"
          ],
          [
           0.06732503847840228,
           "Partial depencence for categorical variables",
           "gender"
          ]
         ],
         "hovertemplate": "<b>%{hovertext}</b><br><br>mean_prediction=%{base:.3f}<br>prediction=%{customdata[0]:.3f}<extra></extra>",
         "hovertext": [
          "Partial depencence for categorical variables",
          "Partial depencence for categorical variables"
         ],
         "legendgroup": "Partial depencence for categorical variables",
         "marker": {
          "color": "#46bac2",
          "pattern": {
           "shape": ""
          }
         },
         "name": "Partial depencence for categorical variables",
         "offsetgroup": "Partial depencence for categorical variables",
         "orientation": "v",
         "showlegend": true,
         "textposition": "auto",
         "type": "bar",
         "x": [
          "F",
          "M"
         ],
         "xaxis": "x3",
         "y": [
          0.00025166888628756767,
          -0.0002494699776157405
         ],
         "yaxis": "y3"
        },
        {
         "alignmentgroup": "True",
         "base": [
          0.06757450845601802,
          0.06757450845601802,
          0.06757450845601802,
          0.06757450845601802,
          0.06757450845601802,
          0.06757450845601802
         ],
         "customdata": [
          [
           0.06726136038920578,
           "Partial depencence for categorical variables",
           "area"
          ],
          [
           0.0681689467005794,
           "Partial depencence for categorical variables",
           "area"
          ],
          [
           0.06766011687611413,
           "Partial depencence for categorical variables",
           "area"
          ],
          [
           0.06687318734607532,
           "Partial depencence for categorical variables",
           "area"
          ],
          [
           0.06697236659517478,
           "Partial depencence for categorical variables",
           "area"
          ],
          [
           0.06835719853095948,
           "Partial depencence for categorical variables",
           "area"
          ]
         ],
         "hovertemplate": "<b>%{hovertext}</b><br><br>mean_prediction=%{base:.3f}<br>prediction=%{customdata[0]:.3f}<extra></extra>",
         "hovertext": [
          "Partial depencence for categorical variables",
          "Partial depencence for categorical variables",
          "Partial depencence for categorical variables",
          "Partial depencence for categorical variables",
          "Partial depencence for categorical variables",
          "Partial depencence for categorical variables"
         ],
         "legendgroup": "Partial depencence for categorical variables",
         "marker": {
          "color": "#46bac2",
          "pattern": {
           "shape": ""
          }
         },
         "name": "Partial depencence for categorical variables",
         "offsetgroup": "Partial depencence for categorical variables",
         "orientation": "v",
         "showlegend": false,
         "textposition": "auto",
         "type": "bar",
         "x": [
          "A",
          "B",
          "C",
          "D",
          "E",
          "F"
         ],
         "xaxis": "x4",
         "y": [
          -0.0003131480668122355,
          0.0005944382445613738,
          0.00008560842009611158,
          -0.0007013211099426986,
          -0.0006021418608432444,
          0.0007826900749414584
         ],
         "yaxis": "y4"
        },
        {
         "alignmentgroup": "True",
         "base": [
          0.06757450845601802,
          0.06757450845601802,
          0.06757450845601802,
          0.06757450845601802,
          0.06757450845601802,
          0.06757450845601802,
          0.06757450845601802,
          0.06757450845601802,
          0.06757450845601802,
          0.06757450845601802,
          0.06757450845601802,
          0.06757450845601802,
          0.06757450845601802
         ],
         "customdata": [
          [
           0.09408030501618445,
           "Partial depencence for categorical variables",
           "veh_body"
          ],
          [
           0.07291508287150274,
           "Partial depencence for categorical variables",
           "veh_body"
          ],
          [
           0.07192820592939665,
           "Partial depencence for categorical variables",
           "veh_body"
          ],
          [
           0.06772635293804026,
           "Partial depencence for categorical variables",
           "veh_body"
          ],
          [
           0.06846422181265514,
           "Partial depencence for categorical variables",
           "veh_body"
          ],
          [
           0.06828701302780751,
           "Partial depencence for categorical variables",
           "veh_body"
          ],
          [
           0.06804520364358044,
           "Partial depencence for categorical variables",
           "veh_body"
          ],
          [
           0.06806512966323677,
           "Partial depencence for categorical variables",
           "veh_body"
          ],
          [
           0.06802733574777103,
           "Partial depencence for categorical variables",
           "veh_body"
          ],
          [
           0.06763732305794773,
           "Partial depencence for categorical variables",
           "veh_body"
          ],
          [
           0.06785836932180739,
           "Partial depencence for categorical variables",
           "veh_body"
          ],
          [
           0.06659359588405707,
           "Partial depencence for categorical variables",
           "veh_body"
          ],
          [
           0.06326313396018829,
           "Partial depencence for categorical variables",
           "veh_body"
          ]
         ],
         "hovertemplate": "<b>%{hovertext}</b><br><br>mean_prediction=%{base:.3f}<br>prediction=%{customdata[0]:.3f}<extra></extra>",
         "hovertext": [
          "Partial depencence for categorical variables",
          "Partial depencence for categorical variables",
          "Partial depencence for categorical variables",
          "Partial depencence for categorical variables",
          "Partial depencence for categorical variables",
          "Partial depencence for categorical variables",
          "Partial depencence for categorical variables",
          "Partial depencence for categorical variables",
          "Partial depencence for categorical variables",
          "Partial depencence for categorical variables",
          "Partial depencence for categorical variables",
          "Partial depencence for categorical variables",
          "Partial depencence for categorical variables"
         ],
         "legendgroup": "Partial depencence for categorical variables",
         "marker": {
          "color": "#46bac2",
          "pattern": {
           "shape": ""
          }
         },
         "name": "Partial depencence for categorical variables",
         "offsetgroup": "Partial depencence for categorical variables",
         "orientation": "v",
         "showlegend": false,
         "textposition": "auto",
         "type": "bar",
         "x": [
          "BUS",
          "CONVT",
          "COUPE",
          "HBACK",
          "HDTOP",
          "MCARA",
          "MIBUS",
          "PANVN",
          "RDSTR",
          "SEDAN",
          "STNWG",
          "TRUCK",
          "UTE"
         ],
         "xaxis": "x",
         "y": [
          0.026505796560166425,
          0.005340574415484717,
          0.0043536974733786316,
          0.00015184448202223977,
          0.0008897133566371229,
          0.0007125045717894934,
          0.00047069518756241713,
          0.0004906212072187527,
          0.0004528272917530135,
          0.00006281460192970878,
          0.00028386086578936764,
          -0.0009809125719609513,
          -0.004311374495829731
         ],
         "yaxis": "y"
        }
       ],
       "layout": {
        "annotations": [
         {
          "font": {
           "size": 13
          },
          "showarrow": false,
          "text": "veh_body",
          "x": 0.2375,
          "xanchor": "center",
          "xref": "paper",
          "y": 0.425,
          "yanchor": "bottom",
          "yref": "paper"
         },
         {
          "font": {
           "size": 13
          },
          "showarrow": false,
          "text": "gender",
          "x": 0.2375,
          "xanchor": "center",
          "xref": "paper",
          "y": 1,
          "yanchor": "bottom",
          "yref": "paper"
         },
         {
          "font": {
           "size": 13
          },
          "showarrow": false,
          "text": "area",
          "x": 0.7625,
          "xanchor": "center",
          "xref": "paper",
          "y": 1,
          "yanchor": "bottom",
          "yref": "paper"
         },
         {
          "font": {
           "size": 13
          },
          "showarrow": false,
          "text": "prediction",
          "textangle": -90,
          "x": -0.07,
          "xref": "paper",
          "y": 0.5,
          "yref": "paper"
         }
        ],
        "barmode": "group",
        "font": {
         "color": "#371ea3"
        },
        "height": 829,
        "hovermode": "x unified",
        "legend": {
         "font": {
          "size": 11
         },
         "itemsizing": "constant",
         "orientation": "h",
         "title": {
          "font": {
           "size": 12
          },
          "text": "label"
         },
         "tracegroupgap": 0,
         "x": 1,
         "xanchor": "right",
         "y": 1.0361881785283473,
         "yanchor": "bottom"
        },
        "margin": {
         "b": 71,
         "r": 30,
         "t": 78
        },
        "shapes": [
         {
          "layer": "below",
          "line": {
           "color": "#371ea3",
           "dash": "dot",
           "width": 1.5
          },
          "type": "line",
          "x0": 0,
          "x1": 1,
          "xref": "x domain",
          "y0": 0.06757450845601802,
          "y1": 0.06757450845601802,
          "yref": "y"
         },
         {
          "layer": "below",
          "line": {
           "color": "#371ea3",
           "dash": "dot",
           "width": 1.5
          },
          "type": "line",
          "x0": 0,
          "x1": 1,
          "xref": "x3 domain",
          "y0": 0.06757450845601802,
          "y1": 0.06757450845601802,
          "yref": "y3"
         },
         {
          "layer": "below",
          "line": {
           "color": "#371ea3",
           "dash": "dot",
           "width": 1.5
          },
          "type": "line",
          "x0": 0,
          "x1": 1,
          "xref": "x4 domain",
          "y0": 0.06757450845601802,
          "y1": 0.06757450845601802,
          "yref": "y4"
         },
         {
          "layer": "below",
          "line": {
           "color": "#371ea3",
           "dash": "dot",
           "width": 1.5
          },
          "type": "line",
          "x0": 0,
          "x1": 1,
          "xref": "x domain",
          "y0": 0.06757450845601802,
          "y1": 0.06757450845601802,
          "yref": "y"
         },
         {
          "layer": "below",
          "line": {
           "color": "#371ea3",
           "dash": "dot",
           "width": 1.5
          },
          "type": "line",
          "x0": 0,
          "x1": 1,
          "xref": "x3 domain",
          "y0": 0.06757450845601802,
          "y1": 0.06757450845601802,
          "yref": "y3"
         },
         {
          "layer": "below",
          "line": {
           "color": "#371ea3",
           "dash": "dot",
           "width": 1.5
          },
          "type": "line",
          "x0": 0,
          "x1": 1,
          "xref": "x4 domain",
          "y0": 0.06757450845601802,
          "y1": 0.06757450845601802,
          "yref": "y4"
         },
         {
          "layer": "below",
          "line": {
           "color": "#371ea3",
           "dash": "dot",
           "width": 1.5
          },
          "type": "line",
          "x0": 0,
          "x1": 1,
          "xref": "x domain",
          "y0": 0.06757450845601802,
          "y1": 0.06757450845601802,
          "yref": "y"
         },
         {
          "layer": "below",
          "line": {
           "color": "#371ea3",
           "dash": "dot",
           "width": 1.5
          },
          "type": "line",
          "x0": 0,
          "x1": 1,
          "xref": "x3 domain",
          "y0": 0.06757450845601802,
          "y1": 0.06757450845601802,
          "yref": "y3"
         },
         {
          "layer": "below",
          "line": {
           "color": "#371ea3",
           "dash": "dot",
           "width": 1.5
          },
          "type": "line",
          "x0": 0,
          "x1": 1,
          "xref": "x4 domain",
          "y0": 0.06757450845601802,
          "y1": 0.06757450845601802,
          "yref": "y4"
         }
        ],
        "template": {
         "data": {
          "scatter": [
           {
            "type": "scatter"
           }
          ]
         }
        },
        "title": {
         "font": {
          "size": 16
         },
         "text": "Aggregated Profiles",
         "x": 0.15
        },
        "xaxis": {
         "anchor": "y",
         "automargin": true,
         "domain": [
          0,
          0.475
         ],
         "fixedrange": true,
         "gridwidth": 2,
         "showticklabels": true,
         "tickcolor": "white",
         "ticklen": 10,
         "ticks": "outside",
         "title": {
          "text": ""
         },
         "type": "category"
        },
        "xaxis2": {
         "anchor": "y2",
         "automargin": true,
         "domain": [
          0.525,
          1
         ],
         "fixedrange": true,
         "gridwidth": 2,
         "showticklabels": true,
         "tickcolor": "white",
         "ticklen": 10,
         "ticks": "outside",
         "title": {
          "text": ""
         },
         "type": "category"
        },
        "xaxis3": {
         "anchor": "y3",
         "automargin": true,
         "domain": [
          0,
          0.475
         ],
         "fixedrange": true,
         "gridwidth": 2,
         "showticklabels": true,
         "tickcolor": "white",
         "ticklen": 10,
         "ticks": "outside",
         "title": {
          "text": ""
         },
         "type": "category"
        },
        "xaxis4": {
         "anchor": "y4",
         "automargin": true,
         "domain": [
          0.525,
          1
         ],
         "fixedrange": true,
         "gridwidth": 2,
         "showticklabels": true,
         "tickcolor": "white",
         "ticklen": 10,
         "ticks": "outside",
         "title": {
          "text": ""
         },
         "type": "category"
        },
        "yaxis": {
         "anchor": "x",
         "automargin": true,
         "domain": [
          0,
          0.425
         ],
         "fixedrange": true,
         "gridwidth": 2,
         "range": [
          0.06018141685458867,
          0.09716202212178406
         ],
         "tickcolor": "white",
         "ticklen": 3,
         "ticks": "outside",
         "title": {
          "text": ""
         },
         "type": "linear",
         "zeroline": false
        },
        "yaxis2": {
         "anchor": "x2",
         "automargin": true,
         "domain": [
          0,
          0.425
         ],
         "fixedrange": true,
         "gridwidth": 2,
         "matches": "y",
         "range": [
          0.06018141685458867,
          0.09716202212178406
         ],
         "showticklabels": false,
         "tickcolor": "white",
         "ticklen": 3,
         "ticks": "outside",
         "title": {
          "text": ""
         },
         "type": "linear",
         "zeroline": false
        },
        "yaxis3": {
         "anchor": "x3",
         "automargin": true,
         "domain": [
          0.575,
          1
         ],
         "fixedrange": true,
         "gridwidth": 2,
         "matches": "y",
         "range": [
          0.06018141685458867,
          0.09716202212178406
         ],
         "tickcolor": "white",
         "ticklen": 3,
         "ticks": "outside",
         "title": {
          "text": ""
         },
         "type": "linear",
         "zeroline": false
        },
        "yaxis4": {
         "anchor": "x4",
         "automargin": true,
         "domain": [
          0.575,
          1
         ],
         "fixedrange": true,
         "gridwidth": 2,
         "matches": "y",
         "range": [
          0.06018141685458867,
          0.09716202212178406
         ],
         "showticklabels": false,
         "tickcolor": "white",
         "ticklen": 3,
         "ticks": "outside",
         "title": {
          "text": ""
         },
         "type": "linear",
         "zeroline": false
        }
       }
      }
     },
     "metadata": {},
     "output_type": "display_data"
    }
   ],
   "source": [
    "# Partial dependence plots\n",
    "# Note: As soon as sklearn.inspect.PartialDependenceDisplay\n",
    "# allows for passing a character grid, it is an option as well.\n",
    "import dalex as dx\n",
    "\n",
    "# Define explainer\n",
    "exp = dx.Explainer(\n",
    "    search,\n",
    "    data=df_train,\n",
    "    predict_function=lambda m, X: m.predict_proba(X)[:, 1],\n",
    "    verbose=False,\n",
    ")\n",
    "\n",
    "# Plots\n",
    "num_eval_at = {\n",
    "    \"veh_value\": np.linspace(0, 5, 41),\n",
    "    \"agecat\": sorted(car[\"agecat\"].unique()),\n",
    "    \"veh_age\": sorted(car[\"veh_age\"].unique()),\n",
    "}\n",
    "pdp_num = exp.model_profile(\n",
    "    variable_splits=num_eval_at,\n",
    "    label=\"Partial depencence for numeric variables\",\n",
    "    verbose=False,\n",
    ")\n",
    "pdp_num.plot()\n",
    "\n",
    "pdp_cat = exp.model_profile(\n",
    "    variable_type=\"categorical\",\n",
    "    variable_splits=dict(zip(ord_vars, ord_levels)),\n",
    "    label=\"Partial depencence for categorical variables\",\n",
    "    verbose=False,\n",
    ")\n",
    "pdp_cat.plot()"
   ]
  },
  {
   "cell_type": "markdown",
   "metadata": {},
   "source": [
    "**Comment:** Test performance with small tree depth seems to be best. When studying relative performance metrics like the relative deviance gain, we can see that performance of the model is very low. TPL claims seem to be mostly determined by bad luck, which makes sense."
   ]
  },
  {
   "cell_type": "markdown",
   "metadata": {},
   "source": [
    "## Exercises on Boosting\n",
    "\n",
    "### Exercise 1"
   ]
  },
  {
   "cell_type": "code",
   "execution_count": 16,
   "metadata": {},
   "outputs": [],
   "source": [
    "import json\n",
    "from pathlib import Path\n",
    "import pandas as pd\n",
    "import xgboost as xgb\n",
    "from plotnine.data import diamonds\n",
    "from sklearn.preprocessing import OrdinalEncoder\n",
    "from sklearn.model_selection import train_test_split\n",
    "from sklearn.compose import make_column_transformer\n",
    "\n",
    "# General settings\n",
    "grid_file = Path(\"gridsearch\") / \"diamonds_xgb.txt\"\n",
    "\n",
    "# Train/test split\n",
    "df_train, df_test, y_train, y_test = train_test_split(\n",
    "    diamonds, diamonds[\"price\"], test_size=0.2, random_state=341\n",
    ")\n",
    "\n",
    "# Preprocessing\n",
    "ord_features = [\"cut\", \"color\", \"clarity\"]\n",
    "ord_levels = [diamonds[x].cat.categories.to_list() for x in ord_features]\n",
    "\n",
    "encoder = make_column_transformer(\n",
    "    (OrdinalEncoder(categories=ord_levels), ord_features), (\"passthrough\", [\"carat\"])\n",
    ")\n",
    "\n",
    "X_train = encoder.fit_transform(df_train)\n",
    "X_test = encoder.transform(df_test)\n",
    "\n",
    "# XGBoost data interface (feature_names are added for importance plot)\n",
    "feature_names = ord_features + [\"carat\"]\n",
    "dtrain = xgb.DMatrix(X_train, label=y_train, feature_names=feature_names)\n",
    "dtest = xgb.DMatrix(X_test, label=y_test, feature_names=feature_names)"
   ]
  },
  {
   "cell_type": "code",
   "execution_count": 17,
   "metadata": {},
   "outputs": [],
   "source": [
    "# Load grid\n",
    "with open(grid_file) as f:\n",
    "    search = json.load(f)\n",
    "\n",
    "search_df = pd.DataFrame.from_records(\n",
    "    search, columns=[\"num_boost_round\", \"metric\", \"params\"]\n",
    ").sort_values(\"metric\")"
   ]
  },
  {
   "cell_type": "code",
   "execution_count": 18,
   "metadata": {},
   "outputs": [],
   "source": [
    "# Add constraints to best parameter combo\n",
    "best = search_df.iloc[0]\n",
    "best.params[\"monotone_constraints\"] = \"(0, 0, 0, 1)\"\n",
    "\n",
    "# Fit on best params\n",
    "fit = xgb.train(params=best.params, dtrain=dtrain, num_boost_round=best.num_boost_round)"
   ]
  },
  {
   "cell_type": "code",
   "execution_count": 19,
   "metadata": {},
   "outputs": [
    {
     "name": "stderr",
     "output_type": "stream",
     "text": [
      "C:\\Users\\Michael\\anaconda3\\envs\\ml_lecture\\lib\\site-packages\\dalex\\predict_explanations\\_ceteris_paribus\\checks.py:16: UserWarning:\n",
      "\n",
      "Variables taken from variables_splits\n",
      "\n"
     ]
    },
    {
     "data": {
      "application/vnd.plotly.v1+json": {
       "config": {
        "displaylogo": false,
        "modeBarButtonsToRemove": [
         "sendDataToCloud",
         "lasso2d",
         "autoScale2d",
         "select2d",
         "zoom2d",
         "pan2d",
         "zoomIn2d",
         "zoomOut2d",
         "resetScale2d",
         "toggleSpikelines",
         "hoverCompareCartesian",
         "hoverClosestCartesian"
        ],
        "plotlyServerURL": "https://plot.ly",
        "staticPlot": false,
        "toImageButtonOptions": {
         "height": null,
         "width": null
        }
       },
       "data": [
        {
         "customdata": [
          [
           3700.563232421875,
           "Partial depencence for carat",
           "carat"
          ],
          [
           3700.563232421875,
           "Partial depencence for carat",
           "carat"
          ],
          [
           3700.563232421875,
           "Partial depencence for carat",
           "carat"
          ],
          [
           3700.563232421875,
           "Partial depencence for carat",
           "carat"
          ],
          [
           3700.563232421875,
           "Partial depencence for carat",
           "carat"
          ],
          [
           3700.563232421875,
           "Partial depencence for carat",
           "carat"
          ],
          [
           3700.563232421875,
           "Partial depencence for carat",
           "carat"
          ],
          [
           3700.563232421875,
           "Partial depencence for carat",
           "carat"
          ],
          [
           3700.563232421875,
           "Partial depencence for carat",
           "carat"
          ],
          [
           3700.563232421875,
           "Partial depencence for carat",
           "carat"
          ],
          [
           3700.563232421875,
           "Partial depencence for carat",
           "carat"
          ],
          [
           3700.563232421875,
           "Partial depencence for carat",
           "carat"
          ],
          [
           3700.563232421875,
           "Partial depencence for carat",
           "carat"
          ],
          [
           3700.563232421875,
           "Partial depencence for carat",
           "carat"
          ],
          [
           3700.563232421875,
           "Partial depencence for carat",
           "carat"
          ],
          [
           3700.563232421875,
           "Partial depencence for carat",
           "carat"
          ],
          [
           3700.563232421875,
           "Partial depencence for carat",
           "carat"
          ],
          [
           3700.563232421875,
           "Partial depencence for carat",
           "carat"
          ],
          [
           3700.563232421875,
           "Partial depencence for carat",
           "carat"
          ],
          [
           3700.563232421875,
           "Partial depencence for carat",
           "carat"
          ],
          [
           3700.563232421875,
           "Partial depencence for carat",
           "carat"
          ],
          [
           3700.563232421875,
           "Partial depencence for carat",
           "carat"
          ],
          [
           3700.563232421875,
           "Partial depencence for carat",
           "carat"
          ],
          [
           3700.563232421875,
           "Partial depencence for carat",
           "carat"
          ],
          [
           3700.563232421875,
           "Partial depencence for carat",
           "carat"
          ],
          [
           3700.563232421875,
           "Partial depencence for carat",
           "carat"
          ],
          [
           3700.563232421875,
           "Partial depencence for carat",
           "carat"
          ],
          [
           3700.563232421875,
           "Partial depencence for carat",
           "carat"
          ],
          [
           3700.563232421875,
           "Partial depencence for carat",
           "carat"
          ],
          [
           3700.563232421875,
           "Partial depencence for carat",
           "carat"
          ],
          [
           3700.563232421875,
           "Partial depencence for carat",
           "carat"
          ],
          [
           3700.563232421875,
           "Partial depencence for carat",
           "carat"
          ],
          [
           3700.563232421875,
           "Partial depencence for carat",
           "carat"
          ],
          [
           3700.563232421875,
           "Partial depencence for carat",
           "carat"
          ],
          [
           3700.563232421875,
           "Partial depencence for carat",
           "carat"
          ],
          [
           3700.563232421875,
           "Partial depencence for carat",
           "carat"
          ],
          [
           3700.563232421875,
           "Partial depencence for carat",
           "carat"
          ],
          [
           3700.563232421875,
           "Partial depencence for carat",
           "carat"
          ],
          [
           3700.563232421875,
           "Partial depencence for carat",
           "carat"
          ],
          [
           3700.563232421875,
           "Partial depencence for carat",
           "carat"
          ],
          [
           3700.563232421875,
           "Partial depencence for carat",
           "carat"
          ]
         ],
         "hovertemplate": "<b>%{hovertext}</b><br><br>prediction=%{y:.3f}<br>mean_prediction=%{customdata[0]:.3f}<extra></extra>",
         "hovertext": [
          "Partial depencence for carat",
          "Partial depencence for carat",
          "Partial depencence for carat",
          "Partial depencence for carat",
          "Partial depencence for carat",
          "Partial depencence for carat",
          "Partial depencence for carat",
          "Partial depencence for carat",
          "Partial depencence for carat",
          "Partial depencence for carat",
          "Partial depencence for carat",
          "Partial depencence for carat",
          "Partial depencence for carat",
          "Partial depencence for carat",
          "Partial depencence for carat",
          "Partial depencence for carat",
          "Partial depencence for carat",
          "Partial depencence for carat",
          "Partial depencence for carat",
          "Partial depencence for carat",
          "Partial depencence for carat",
          "Partial depencence for carat",
          "Partial depencence for carat",
          "Partial depencence for carat",
          "Partial depencence for carat",
          "Partial depencence for carat",
          "Partial depencence for carat",
          "Partial depencence for carat",
          "Partial depencence for carat",
          "Partial depencence for carat",
          "Partial depencence for carat",
          "Partial depencence for carat",
          "Partial depencence for carat",
          "Partial depencence for carat",
          "Partial depencence for carat",
          "Partial depencence for carat",
          "Partial depencence for carat",
          "Partial depencence for carat",
          "Partial depencence for carat",
          "Partial depencence for carat",
          "Partial depencence for carat"
         ],
         "legendgroup": "Partial depencence for carat",
         "line": {
          "color": "#46bac2",
          "dash": "solid",
          "width": 2
         },
         "marker": {
          "symbol": "circle"
         },
         "mode": "lines",
         "name": "Partial depencence for carat",
         "opacity": 1,
         "orientation": "v",
         "showlegend": true,
         "type": "scatter",
         "x": [
          0,
          0.075,
          0.15,
          0.22499999999999998,
          0.3,
          0.375,
          0.44999999999999996,
          0.525,
          0.6,
          0.6749999999999999,
          0.75,
          0.825,
          0.8999999999999999,
          0.975,
          1.05,
          1.125,
          1.2,
          1.275,
          1.3499999999999999,
          1.425,
          1.5,
          1.575,
          1.65,
          1.7249999999999999,
          1.7999999999999998,
          1.875,
          1.95,
          2.025,
          2.1,
          2.175,
          2.25,
          2.3249999999999997,
          2.4,
          2.475,
          2.55,
          2.625,
          2.6999999999999997,
          2.775,
          2.85,
          2.925,
          3
         ],
         "xaxis": "x",
         "y": [
          382.5860290527344,
          382.5860290527344,
          382.5860290527344,
          398.6419982910156,
          539.2348022460938,
          740.1986083984375,
          937.10791015625,
          1520.879150390625,
          1794.131103515625,
          2225.981201171875,
          2813.06103515625,
          3328.123779296875,
          4243.83203125,
          4678.029296875,
          6183.84033203125,
          6671.53369140625,
          7473.29736328125,
          8407.0361328125,
          8831.75390625,
          10186.8837890625,
          11728.5390625,
          12717.9453125,
          13307.8369140625,
          14410.236328125,
          15239.4833984375,
          15483.3515625,
          16873.78125,
          17630.166015625,
          17784.78125,
          17941.6640625,
          18030.98046875,
          18086.779296875,
          18221.47265625,
          18295.44140625,
          18409.8671875,
          18577.873046875,
          18578.53125,
          18592.375,
          18592.375,
          18620.4140625,
          18620.4140625
         ],
         "yaxis": "y"
        }
       ],
       "layout": {
        "annotations": [
         {
          "font": {
           "size": 13
          },
          "showarrow": false,
          "text": "carat",
          "x": 0.5,
          "xanchor": "center",
          "xref": "paper",
          "y": 1,
          "yanchor": "bottom",
          "yref": "paper"
         },
         {
          "font": {
           "size": 13
          },
          "showarrow": false,
          "text": "prediction",
          "textangle": -90,
          "x": -0.07,
          "xref": "paper",
          "y": 0.5,
          "yref": "paper"
         }
        ],
        "font": {
         "color": "#371ea3"
        },
        "height": 489,
        "hovermode": "x unified",
        "legend": {
         "font": {
          "size": 11
         },
         "itemsizing": "constant",
         "orientation": "h",
         "title": {
          "font": {
           "size": 12
          },
          "text": "label"
         },
         "tracegroupgap": 0,
         "x": 1,
         "xanchor": "right",
         "y": 1.0613496932515338,
         "yanchor": "bottom"
        },
        "margin": {
         "b": 71,
         "r": 30,
         "t": 78
        },
        "template": {
         "data": {
          "scatter": [
           {
            "type": "scatter"
           }
          ]
         }
        },
        "title": {
         "font": {
          "size": 16
         },
         "text": "Aggregated Profiles",
         "x": 0.15
        },
        "xaxis": {
         "anchor": "y",
         "automargin": true,
         "domain": [
          0,
          1
         ],
         "fixedrange": true,
         "gridwidth": 2,
         "showticklabels": true,
         "tickcolor": "white",
         "ticklen": 3,
         "ticks": "outside",
         "title": {
          "text": ""
         },
         "type": "linear",
         "zeroline": false
        },
        "yaxis": {
         "anchor": "x",
         "automargin": true,
         "domain": [
          0,
          1
         ],
         "fixedrange": true,
         "gridwidth": 2,
         "range": [
          -1441.1967834472657,
          20444.196875
         ],
         "tickcolor": "white",
         "ticklen": 3,
         "ticks": "outside",
         "title": {
          "text": ""
         },
         "type": "linear",
         "zeroline": false
        }
       }
      }
     },
     "metadata": {},
     "output_type": "display_data"
    }
   ],
   "source": [
    "# Interpret model\n",
    "import numpy as np\n",
    "import dalex as dx\n",
    "\n",
    "# Partial dependence plots on training data\n",
    "def pred_fun(model, df):\n",
    "    X = encoder.transform(df)\n",
    "    dX = xgb.DMatrix(X, feature_names=feature_names)\n",
    "    return model.predict(dX)\n",
    "\n",
    "\n",
    "exp = dx.Explainer(fit, df_train, predict_function=pred_fun, verbose=False)\n",
    "\n",
    "pdp_num = exp.model_profile(\n",
    "    variable_splits={\"carat\": np.linspace(0, 3, 41)},\n",
    "    label=\"Partial depencence for carat\",\n",
    "    verbose=False,\n",
    ")\n",
    "pdp_num.plot()"
   ]
  },
  {
   "cell_type": "markdown",
   "metadata": {},
   "source": [
    "**Comment:** The argument is called \"monotone_constraints\". For each covariate, a value 0 means no constraint, a value -1 means a negative constraints, and a value 1 means positive constraint. Applying the constraint now leads to a monotonically increasing partial dependence plot. This is extremely useful in practice. Besides monotonic constraints, also interaction constraints are possible.\n",
    "\n",
    "### Exercise 2"
   ]
  },
  {
   "cell_type": "code",
   "execution_count": 20,
   "metadata": {},
   "outputs": [],
   "source": [
    "# We adapt the template from the lecture notes\n",
    "import json\n",
    "from pathlib import Path\n",
    "import pandas as pd\n",
    "import xgboost as xgb\n",
    "from plotnine.data import diamonds\n",
    "from sklearn.preprocessing import OrdinalEncoder\n",
    "from sklearn.model_selection import train_test_split\n",
    "from sklearn.compose import make_column_transformer\n",
    "\n",
    "# Load data\n",
    "car = pd.read_csv(\"car.csv\")  # see readme how to get the data\n",
    "\n",
    "# General settings\n",
    "grid_file = Path(\"gridsearch\") / \"claims_xgb.txt\"\n",
    "objective = \"binary:logistic\"\n",
    "metric = \"logloss\"\n",
    "\n",
    "# Train/test split stratified on the response\n",
    "df_train, df_test, y_train, y_test = train_test_split(\n",
    "    car, car[\"clm\"], test_size=0.2, random_state=341, stratify=car[\"clm\"]\n",
    ")\n",
    "\n",
    "# Preprocessing\n",
    "num_features = [\"veh_value\", \"veh_age\", \"agecat\"]\n",
    "ord_features = [\"gender\", \"area\", \"veh_body\"]\n",
    "ord_levels = [sorted(car[v].unique()) for v in ord_features]\n",
    "\n",
    "encoder = make_column_transformer(\n",
    "    (OrdinalEncoder(categories=ord_levels), ord_features), (\"passthrough\", num_features)\n",
    ")\n",
    "\n",
    "X_train = encoder.fit_transform(df_train)\n",
    "X_test = encoder.transform(df_test)\n",
    "\n",
    "# XGBoost data interface (feature_names are added for importance plot)\n",
    "feature_names = ord_features + num_features  # same order as in encoder\n",
    "dtrain = xgb.DMatrix(X_train, label=y_train, feature_names=feature_names)\n",
    "dtest = xgb.DMatrix(X_test, label=y_test, feature_names=feature_names)"
   ]
  },
  {
   "cell_type": "code",
   "execution_count": 21,
   "metadata": {},
   "outputs": [],
   "source": [
    "# Step 1: Find learning rate with reasonable tree count (0.05 seems ok)\n",
    "if False:\n",
    "    params = {\"learning_rate\": 0.02, \"objective\": objective, \"eval_metric\": metric}\n",
    "\n",
    "    # Cross-validation\n",
    "    cvm = xgb.cv(\n",
    "        params=params,\n",
    "        dtrain=dtrain,\n",
    "        num_boost_round=5000,\n",
    "        nfold=5,\n",
    "        stratified=True,\n",
    "        early_stopping_rounds=20,\n",
    "    )\n",
    "\n",
    "    # A LR of 0.02 provides about 200 trees, which is convenient\n",
    "    print(\"Best boosting round with default params:\\n\", cvm.tail(1))"
   ]
  },
  {
   "cell_type": "code",
   "execution_count": 22,
   "metadata": {},
   "outputs": [
    {
     "data": {
      "text/html": [
       "<div>\n",
       "<style scoped>\n",
       "    .dataframe tbody tr th:only-of-type {\n",
       "        vertical-align: middle;\n",
       "    }\n",
       "\n",
       "    .dataframe tbody tr th {\n",
       "        vertical-align: top;\n",
       "    }\n",
       "\n",
       "    .dataframe thead th {\n",
       "        text-align: right;\n",
       "    }\n",
       "</style>\n",
       "<table border=\"1\" class=\"dataframe\">\n",
       "  <thead>\n",
       "    <tr style=\"text-align: right;\">\n",
       "      <th></th>\n",
       "      <th>num_boost_round</th>\n",
       "      <th>metric</th>\n",
       "      <th>params</th>\n",
       "    </tr>\n",
       "  </thead>\n",
       "  <tbody>\n",
       "    <tr>\n",
       "      <th>9</th>\n",
       "      <td>281</td>\n",
       "      <td>0.248124</td>\n",
       "      <td>{'subsample': 1, 'reg_lambda': 0, 'reg_alpha': 4, 'objective': 'binary:logistic', 'min_split_loss': 0, 'min_child_weight': 10, 'max_depth': 4, 'learning_rate': 0.02, 'eval_metric': 'logloss', 'colsample_bytree': 0.8}</td>\n",
       "    </tr>\n",
       "    <tr>\n",
       "      <th>16</th>\n",
       "      <td>298</td>\n",
       "      <td>0.248133</td>\n",
       "      <td>{'subsample': 0.8, 'reg_lambda': 7.5, 'reg_alpha': 4, 'objective': 'binary:logistic', 'min_split_loss': 0, 'min_child_weight': 10, 'max_depth': 4, 'learning_rate': 0.02, 'eval_metric': 'logloss', 'colsample_bytree': 1}</td>\n",
       "    </tr>\n",
       "    <tr>\n",
       "      <th>4</th>\n",
       "      <td>265</td>\n",
       "      <td>0.248168</td>\n",
       "      <td>{'subsample': 1, 'reg_lambda': 5, 'reg_alpha': 4, 'objective': 'binary:logistic', 'min_split_loss': 0, 'min_child_weight': 1, 'max_depth': 5, 'learning_rate': 0.02, 'eval_metric': 'logloss', 'colsample_bytree': 0.8}</td>\n",
       "    </tr>\n",
       "    <tr>\n",
       "      <th>2</th>\n",
       "      <td>254</td>\n",
       "      <td>0.248214</td>\n",
       "      <td>{'subsample': 0.8, 'reg_lambda': 5, 'reg_alpha': 4, 'objective': 'binary:logistic', 'min_split_loss': 0, 'min_child_weight': 10, 'max_depth': 5, 'learning_rate': 0.02, 'eval_metric': 'logloss', 'colsample_bytree': 1}</td>\n",
       "    </tr>\n",
       "    <tr>\n",
       "      <th>1</th>\n",
       "      <td>275</td>\n",
       "      <td>0.248221</td>\n",
       "      <td>{'subsample': 1, 'reg_lambda': 7.5, 'reg_alpha': 0, 'objective': 'binary:logistic', 'min_split_loss': 0, 'min_child_weight': 10, 'max_depth': 4, 'learning_rate': 0.02, 'eval_metric': 'logloss', 'colsample_bytree': 1}</td>\n",
       "    </tr>\n",
       "  </tbody>\n",
       "</table>\n",
       "</div>"
      ],
      "text/plain": [
       "    num_boost_round    metric  \\\n",
       "9               281  0.248124   \n",
       "16              298  0.248133   \n",
       "4               265  0.248168   \n",
       "2               254  0.248214   \n",
       "1               275  0.248221   \n",
       "\n",
       "                                                                                                                                                                                                                        params  \n",
       "9     {'subsample': 1, 'reg_lambda': 0, 'reg_alpha': 4, 'objective': 'binary:logistic', 'min_split_loss': 0, 'min_child_weight': 10, 'max_depth': 4, 'learning_rate': 0.02, 'eval_metric': 'logloss', 'colsample_bytree': 0.8}  \n",
       "16  {'subsample': 0.8, 'reg_lambda': 7.5, 'reg_alpha': 4, 'objective': 'binary:logistic', 'min_split_loss': 0, 'min_child_weight': 10, 'max_depth': 4, 'learning_rate': 0.02, 'eval_metric': 'logloss', 'colsample_bytree': 1}  \n",
       "4      {'subsample': 1, 'reg_lambda': 5, 'reg_alpha': 4, 'objective': 'binary:logistic', 'min_split_loss': 0, 'min_child_weight': 1, 'max_depth': 5, 'learning_rate': 0.02, 'eval_metric': 'logloss', 'colsample_bytree': 0.8}  \n",
       "2     {'subsample': 0.8, 'reg_lambda': 5, 'reg_alpha': 4, 'objective': 'binary:logistic', 'min_split_loss': 0, 'min_child_weight': 10, 'max_depth': 5, 'learning_rate': 0.02, 'eval_metric': 'logloss', 'colsample_bytree': 1}  \n",
       "1     {'subsample': 1, 'reg_lambda': 7.5, 'reg_alpha': 0, 'objective': 'binary:logistic', 'min_split_loss': 0, 'min_child_weight': 10, 'max_depth': 4, 'learning_rate': 0.02, 'eval_metric': 'logloss', 'colsample_bytree': 1}  "
      ]
     },
     "metadata": {},
     "output_type": "display_data"
    }
   ],
   "source": [
    "# Step 2: Iterate randomized SearchCV for regularization parameters\n",
    "if False:\n",
    "    from tqdm import tqdm\n",
    "    from sklearn.model_selection import ParameterSampler  # , ParameterGrid\n",
    "\n",
    "    # Use ParameterGrid(...) if grid is small enough to check all combinations\n",
    "\n",
    "    # Final grid search after some iterations\n",
    "    grid = ParameterSampler(\n",
    "        {\n",
    "            \"learning_rate\": [0.02],\n",
    "            \"objective\": [objective],\n",
    "            \"eval_metric\": [metric],\n",
    "            \"max_depth\": [3, 4, 5, 6],\n",
    "            \"min_child_weight\": [1, 10],\n",
    "            \"colsample_bytree\": [0.8, 1],\n",
    "            \"subsample\": [0.8, 1],\n",
    "            \"reg_lambda\": [0, 2.5, 5, 7.5],\n",
    "            \"reg_alpha\": [0, 4],\n",
    "            # \"tree_method\": [\"hist\"],   # when data is large\n",
    "            \"min_split_loss\": [0, 0.0001],\n",
    "        },\n",
    "        n_iter=20,\n",
    "    )\n",
    "\n",
    "    # Iterate over grid and save relevant information on disk\n",
    "    search = []\n",
    "    for g in tqdm(grid):\n",
    "        cvm = xgb.cv(\n",
    "            params=g,\n",
    "            dtrain=dtrain,\n",
    "            num_boost_round=5000,\n",
    "            nfold=5,\n",
    "            early_stopping_rounds=20,\n",
    "            as_pandas=False,\n",
    "        )\n",
    "        best = cvm[f\"test-{metric}-mean\"]\n",
    "        search.append((len(best), best[-1], g))\n",
    "\n",
    "        with open(grid_file, \"w\") as f:\n",
    "            json.dump(search, f)\n",
    "\n",
    "# Load grid and check (A) sort order and (B) if grid ranges were set reasonable\n",
    "with open(grid_file) as f:\n",
    "    search = json.load(f)\n",
    "\n",
    "search_df = pd.DataFrame.from_records(\n",
    "    search, columns=[\"num_boost_round\", \"metric\", \"params\"]\n",
    ").sort_values(\"metric\")\n",
    "\n",
    "with pd.option_context(\"display.max_colwidth\", None):\n",
    "    display(search_df.head())"
   ]
  },
  {
   "cell_type": "code",
   "execution_count": 23,
   "metadata": {},
   "outputs": [],
   "source": [
    "# Step 3: Fit on best params\n",
    "best = search_df.iloc[0]\n",
    "\n",
    "fit = xgb.train(params=best.params, dtrain=dtrain, num_boost_round=best.num_boost_round)"
   ]
  },
  {
   "cell_type": "code",
   "execution_count": 24,
   "metadata": {},
   "outputs": [
    {
     "name": "stdout",
     "output_type": "stream",
     "text": [
      "Test log-loss:  0.248\n",
      "Relative improvement in log-loss:  0.430%\n"
     ]
    },
    {
     "name": "stderr",
     "output_type": "stream",
     "text": [
      "C:\\Users\\Michael\\anaconda3\\envs\\ml_lecture\\lib\\site-packages\\dalex\\predict_explanations\\_ceteris_paribus\\checks.py:16: UserWarning:\n",
      "\n",
      "Variables taken from variables_splits\n",
      "\n"
     ]
    },
    {
     "data": {
      "application/vnd.plotly.v1+json": {
       "config": {
        "displaylogo": false,
        "modeBarButtonsToRemove": [
         "sendDataToCloud",
         "lasso2d",
         "autoScale2d",
         "select2d",
         "zoom2d",
         "pan2d",
         "zoomIn2d",
         "zoomOut2d",
         "resetScale2d",
         "toggleSpikelines",
         "hoverCompareCartesian",
         "hoverClosestCartesian"
        ],
        "plotlyServerURL": "https://plot.ly",
        "staticPlot": false,
        "toImageButtonOptions": {
         "height": null,
         "width": null
        }
       },
       "data": [
        {
         "customdata": [
          [
           0.0696607157588005,
           "Partial depencence for numeric variables",
           "veh_value"
          ],
          [
           0.0696607157588005,
           "Partial depencence for numeric variables",
           "veh_value"
          ],
          [
           0.0696607157588005,
           "Partial depencence for numeric variables",
           "veh_value"
          ],
          [
           0.0696607157588005,
           "Partial depencence for numeric variables",
           "veh_value"
          ],
          [
           0.0696607157588005,
           "Partial depencence for numeric variables",
           "veh_value"
          ],
          [
           0.0696607157588005,
           "Partial depencence for numeric variables",
           "veh_value"
          ],
          [
           0.0696607157588005,
           "Partial depencence for numeric variables",
           "veh_value"
          ],
          [
           0.0696607157588005,
           "Partial depencence for numeric variables",
           "veh_value"
          ],
          [
           0.0696607157588005,
           "Partial depencence for numeric variables",
           "veh_value"
          ],
          [
           0.0696607157588005,
           "Partial depencence for numeric variables",
           "veh_value"
          ],
          [
           0.0696607157588005,
           "Partial depencence for numeric variables",
           "veh_value"
          ],
          [
           0.0696607157588005,
           "Partial depencence for numeric variables",
           "veh_value"
          ],
          [
           0.0696607157588005,
           "Partial depencence for numeric variables",
           "veh_value"
          ],
          [
           0.0696607157588005,
           "Partial depencence for numeric variables",
           "veh_value"
          ],
          [
           0.0696607157588005,
           "Partial depencence for numeric variables",
           "veh_value"
          ],
          [
           0.0696607157588005,
           "Partial depencence for numeric variables",
           "veh_value"
          ],
          [
           0.0696607157588005,
           "Partial depencence for numeric variables",
           "veh_value"
          ],
          [
           0.0696607157588005,
           "Partial depencence for numeric variables",
           "veh_value"
          ],
          [
           0.0696607157588005,
           "Partial depencence for numeric variables",
           "veh_value"
          ],
          [
           0.0696607157588005,
           "Partial depencence for numeric variables",
           "veh_value"
          ],
          [
           0.0696607157588005,
           "Partial depencence for numeric variables",
           "veh_value"
          ],
          [
           0.0696607157588005,
           "Partial depencence for numeric variables",
           "veh_value"
          ],
          [
           0.0696607157588005,
           "Partial depencence for numeric variables",
           "veh_value"
          ],
          [
           0.0696607157588005,
           "Partial depencence for numeric variables",
           "veh_value"
          ],
          [
           0.0696607157588005,
           "Partial depencence for numeric variables",
           "veh_value"
          ],
          [
           0.0696607157588005,
           "Partial depencence for numeric variables",
           "veh_value"
          ],
          [
           0.0696607157588005,
           "Partial depencence for numeric variables",
           "veh_value"
          ],
          [
           0.0696607157588005,
           "Partial depencence for numeric variables",
           "veh_value"
          ],
          [
           0.0696607157588005,
           "Partial depencence for numeric variables",
           "veh_value"
          ],
          [
           0.0696607157588005,
           "Partial depencence for numeric variables",
           "veh_value"
          ],
          [
           0.0696607157588005,
           "Partial depencence for numeric variables",
           "veh_value"
          ],
          [
           0.0696607157588005,
           "Partial depencence for numeric variables",
           "veh_value"
          ],
          [
           0.0696607157588005,
           "Partial depencence for numeric variables",
           "veh_value"
          ],
          [
           0.0696607157588005,
           "Partial depencence for numeric variables",
           "veh_value"
          ],
          [
           0.0696607157588005,
           "Partial depencence for numeric variables",
           "veh_value"
          ],
          [
           0.0696607157588005,
           "Partial depencence for numeric variables",
           "veh_value"
          ],
          [
           0.0696607157588005,
           "Partial depencence for numeric variables",
           "veh_value"
          ],
          [
           0.0696607157588005,
           "Partial depencence for numeric variables",
           "veh_value"
          ],
          [
           0.0696607157588005,
           "Partial depencence for numeric variables",
           "veh_value"
          ],
          [
           0.0696607157588005,
           "Partial depencence for numeric variables",
           "veh_value"
          ],
          [
           0.0696607157588005,
           "Partial depencence for numeric variables",
           "veh_value"
          ]
         ],
         "hovertemplate": "<b>%{hovertext}</b><br><br>prediction=%{y:.3f}<br>mean_prediction=%{customdata[0]:.3f}<extra></extra>",
         "hovertext": [
          "Partial depencence for numeric variables",
          "Partial depencence for numeric variables",
          "Partial depencence for numeric variables",
          "Partial depencence for numeric variables",
          "Partial depencence for numeric variables",
          "Partial depencence for numeric variables",
          "Partial depencence for numeric variables",
          "Partial depencence for numeric variables",
          "Partial depencence for numeric variables",
          "Partial depencence for numeric variables",
          "Partial depencence for numeric variables",
          "Partial depencence for numeric variables",
          "Partial depencence for numeric variables",
          "Partial depencence for numeric variables",
          "Partial depencence for numeric variables",
          "Partial depencence for numeric variables",
          "Partial depencence for numeric variables",
          "Partial depencence for numeric variables",
          "Partial depencence for numeric variables",
          "Partial depencence for numeric variables",
          "Partial depencence for numeric variables",
          "Partial depencence for numeric variables",
          "Partial depencence for numeric variables",
          "Partial depencence for numeric variables",
          "Partial depencence for numeric variables",
          "Partial depencence for numeric variables",
          "Partial depencence for numeric variables",
          "Partial depencence for numeric variables",
          "Partial depencence for numeric variables",
          "Partial depencence for numeric variables",
          "Partial depencence for numeric variables",
          "Partial depencence for numeric variables",
          "Partial depencence for numeric variables",
          "Partial depencence for numeric variables",
          "Partial depencence for numeric variables",
          "Partial depencence for numeric variables",
          "Partial depencence for numeric variables",
          "Partial depencence for numeric variables",
          "Partial depencence for numeric variables",
          "Partial depencence for numeric variables",
          "Partial depencence for numeric variables"
         ],
         "legendgroup": "Partial depencence for numeric variables",
         "line": {
          "color": "#46bac2",
          "dash": "solid",
          "width": 2
         },
         "marker": {
          "symbol": "circle"
         },
         "mode": "lines",
         "name": "Partial depencence for numeric variables",
         "opacity": 1,
         "orientation": "v",
         "showlegend": true,
         "type": "scatter",
         "x": [
          0,
          0.125,
          0.25,
          0.375,
          0.5,
          0.625,
          0.75,
          0.875,
          1,
          1.125,
          1.25,
          1.375,
          1.5,
          1.625,
          1.75,
          1.875,
          2,
          2.125,
          2.25,
          2.375,
          2.5,
          2.625,
          2.75,
          2.875,
          3,
          3.125,
          3.25,
          3.375,
          3.5,
          3.625,
          3.75,
          3.875,
          4,
          4.125,
          4.25,
          4.375,
          4.5,
          4.625,
          4.75,
          4.875,
          5
         ],
         "xaxis": "x3",
         "y": [
          0.058099038898944855,
          0.058099038898944855,
          0.058099038898944855,
          0.05882740393280983,
          0.06087591499090195,
          0.060283541679382324,
          0.060993365943431854,
          0.061184197664260864,
          0.06509317457675934,
          0.06431272625923157,
          0.06399047374725342,
          0.07019385695457458,
          0.07423877716064453,
          0.07225015014410019,
          0.07093315571546555,
          0.07343871146440506,
          0.075224369764328,
          0.08294247090816498,
          0.08040864765644073,
          0.08086200058460236,
          0.07702700793743134,
          0.07752498984336853,
          0.07727687805891037,
          0.07904525846242905,
          0.0812760442495346,
          0.08129317313432693,
          0.08147786557674408,
          0.08211535960435867,
          0.08211614936590195,
          0.08190173655748367,
          0.08195719867944717,
          0.0817101001739502,
          0.0817101001739502,
          0.08141632378101349,
          0.08141632378101349,
          0.08126074075698853,
          0.08453063666820526,
          0.08453063666820526,
          0.08370101451873779,
          0.08370101451873779,
          0.08370101451873779
         ],
         "yaxis": "y3"
        },
        {
         "customdata": [
          [
           0.0696607157588005,
           "Partial depencence for numeric variables",
           "agecat"
          ],
          [
           0.0696607157588005,
           "Partial depencence for numeric variables",
           "agecat"
          ],
          [
           0.0696607157588005,
           "Partial depencence for numeric variables",
           "agecat"
          ],
          [
           0.0696607157588005,
           "Partial depencence for numeric variables",
           "agecat"
          ],
          [
           0.0696607157588005,
           "Partial depencence for numeric variables",
           "agecat"
          ],
          [
           0.0696607157588005,
           "Partial depencence for numeric variables",
           "agecat"
          ]
         ],
         "hovertemplate": "<b>%{hovertext}</b><br><br>prediction=%{y:.3f}<br>mean_prediction=%{customdata[0]:.3f}<extra></extra>",
         "hovertext": [
          "Partial depencence for numeric variables",
          "Partial depencence for numeric variables",
          "Partial depencence for numeric variables",
          "Partial depencence for numeric variables",
          "Partial depencence for numeric variables",
          "Partial depencence for numeric variables"
         ],
         "legendgroup": "Partial depencence for numeric variables",
         "line": {
          "color": "#46bac2",
          "dash": "solid",
          "width": 2
         },
         "marker": {
          "symbol": "circle"
         },
         "mode": "lines",
         "name": "Partial depencence for numeric variables",
         "opacity": 1,
         "orientation": "v",
         "showlegend": false,
         "type": "scatter",
         "x": [
          1,
          2,
          3,
          4,
          5,
          6
         ],
         "xaxis": "x4",
         "y": [
          0.08252713084220886,
          0.07237508147954941,
          0.07233135402202606,
          0.06967207044363022,
          0.060416992753744125,
          0.061375364661216736
         ],
         "yaxis": "y4"
        },
        {
         "customdata": [
          [
           0.0696607157588005,
           "Partial depencence for numeric variables",
           "veh_age"
          ],
          [
           0.0696607157588005,
           "Partial depencence for numeric variables",
           "veh_age"
          ],
          [
           0.0696607157588005,
           "Partial depencence for numeric variables",
           "veh_age"
          ],
          [
           0.0696607157588005,
           "Partial depencence for numeric variables",
           "veh_age"
          ]
         ],
         "hovertemplate": "<b>%{hovertext}</b><br><br>prediction=%{y:.3f}<br>mean_prediction=%{customdata[0]:.3f}<extra></extra>",
         "hovertext": [
          "Partial depencence for numeric variables",
          "Partial depencence for numeric variables",
          "Partial depencence for numeric variables",
          "Partial depencence for numeric variables"
         ],
         "legendgroup": "Partial depencence for numeric variables",
         "line": {
          "color": "#46bac2",
          "dash": "solid",
          "width": 2
         },
         "marker": {
          "symbol": "circle"
         },
         "mode": "lines",
         "name": "Partial depencence for numeric variables",
         "opacity": 1,
         "orientation": "v",
         "showlegend": false,
         "type": "scatter",
         "x": [
          1,
          2,
          3,
          4
         ],
         "xaxis": "x",
         "y": [
          0.06695087999105453,
          0.07082333415746689,
          0.07027805596590042,
          0.07052662968635559
         ],
         "yaxis": "y"
        }
       ],
       "layout": {
        "annotations": [
         {
          "font": {
           "size": 13
          },
          "showarrow": false,
          "text": "veh_age",
          "x": 0.2375,
          "xanchor": "center",
          "xref": "paper",
          "y": 0.425,
          "yanchor": "bottom",
          "yref": "paper"
         },
         {
          "font": {
           "size": 13
          },
          "showarrow": false,
          "text": "veh_value",
          "x": 0.2375,
          "xanchor": "center",
          "xref": "paper",
          "y": 1,
          "yanchor": "bottom",
          "yref": "paper"
         },
         {
          "font": {
           "size": 13
          },
          "showarrow": false,
          "text": "agecat",
          "x": 0.7625,
          "xanchor": "center",
          "xref": "paper",
          "y": 1,
          "yanchor": "bottom",
          "yref": "paper"
         },
         {
          "font": {
           "size": 13
          },
          "showarrow": false,
          "text": "prediction",
          "textangle": -90,
          "x": -0.07,
          "xref": "paper",
          "y": 0.5,
          "yref": "paper"
         }
        ],
        "font": {
         "color": "#371ea3"
        },
        "height": 829,
        "hovermode": "x unified",
        "legend": {
         "font": {
          "size": 11
         },
         "itemsizing": "constant",
         "orientation": "h",
         "title": {
          "font": {
           "size": 12
          },
          "text": "label"
         },
         "tracegroupgap": 0,
         "x": 1,
         "xanchor": "right",
         "y": 1.0361881785283473,
         "yanchor": "bottom"
        },
        "margin": {
         "b": 71,
         "r": 30,
         "t": 78
        },
        "template": {
         "data": {
          "scatter": [
           {
            "type": "scatter"
           }
          ]
         }
        },
        "title": {
         "font": {
          "size": 16
         },
         "text": "Aggregated Profiles",
         "x": 0.15
        },
        "xaxis": {
         "anchor": "y",
         "automargin": true,
         "domain": [
          0,
          0.475
         ],
         "fixedrange": true,
         "gridwidth": 2,
         "showticklabels": true,
         "tickcolor": "white",
         "ticklen": 3,
         "ticks": "outside",
         "title": {
          "text": ""
         },
         "type": "linear",
         "zeroline": false
        },
        "xaxis2": {
         "anchor": "y2",
         "automargin": true,
         "domain": [
          0.525,
          1
         ],
         "fixedrange": true,
         "gridwidth": 2,
         "showticklabels": true,
         "tickcolor": "white",
         "ticklen": 3,
         "ticks": "outside",
         "title": {
          "text": ""
         },
         "type": "linear",
         "zeroline": false
        },
        "xaxis3": {
         "anchor": "y3",
         "automargin": true,
         "domain": [
          0,
          0.475
         ],
         "fixedrange": true,
         "gridwidth": 2,
         "showticklabels": true,
         "tickcolor": "white",
         "ticklen": 3,
         "ticks": "outside",
         "title": {
          "text": ""
         },
         "type": "linear",
         "zeroline": false
        },
        "xaxis4": {
         "anchor": "y4",
         "automargin": true,
         "domain": [
          0.525,
          1
         ],
         "fixedrange": true,
         "gridwidth": 2,
         "showticklabels": true,
         "tickcolor": "white",
         "ticklen": 3,
         "ticks": "outside",
         "title": {
          "text": ""
         },
         "type": "linear",
         "zeroline": false
        },
        "yaxis": {
         "anchor": "x",
         "automargin": true,
         "domain": [
          0,
          0.425
         ],
         "fixedrange": true,
         "gridwidth": 2,
         "range": [
          0.05545587912201881,
          0.0871737964451313
         ],
         "tickcolor": "white",
         "ticklen": 3,
         "ticks": "outside",
         "title": {
          "text": ""
         },
         "type": "linear",
         "zeroline": false
        },
        "yaxis2": {
         "anchor": "x2",
         "automargin": true,
         "domain": [
          0,
          0.425
         ],
         "fixedrange": true,
         "gridwidth": 2,
         "matches": "y",
         "range": [
          0.05545587912201881,
          0.0871737964451313
         ],
         "showticklabels": false,
         "tickcolor": "white",
         "ticklen": 3,
         "ticks": "outside",
         "title": {
          "text": ""
         },
         "type": "linear",
         "zeroline": false
        },
        "yaxis3": {
         "anchor": "x3",
         "automargin": true,
         "domain": [
          0.575,
          1
         ],
         "fixedrange": true,
         "gridwidth": 2,
         "matches": "y",
         "range": [
          0.05545587912201881,
          0.0871737964451313
         ],
         "tickcolor": "white",
         "ticklen": 3,
         "ticks": "outside",
         "title": {
          "text": ""
         },
         "type": "linear",
         "zeroline": false
        },
        "yaxis4": {
         "anchor": "x4",
         "automargin": true,
         "domain": [
          0.575,
          1
         ],
         "fixedrange": true,
         "gridwidth": 2,
         "matches": "y",
         "range": [
          0.05545587912201881,
          0.0871737964451313
         ],
         "showticklabels": false,
         "tickcolor": "white",
         "ticklen": 3,
         "ticks": "outside",
         "title": {
          "text": ""
         },
         "type": "linear",
         "zeroline": false
        }
       }
      }
     },
     "metadata": {},
     "output_type": "display_data"
    },
    {
     "name": "stderr",
     "output_type": "stream",
     "text": [
      "C:\\Users\\Michael\\anaconda3\\envs\\ml_lecture\\lib\\site-packages\\dalex\\predict_explanations\\_ceteris_paribus\\checks.py:16: UserWarning:\n",
      "\n",
      "Variables taken from variables_splits\n",
      "\n"
     ]
    },
    {
     "data": {
      "application/vnd.plotly.v1+json": {
       "config": {
        "displaylogo": false,
        "modeBarButtonsToRemove": [
         "sendDataToCloud",
         "lasso2d",
         "autoScale2d",
         "select2d",
         "zoom2d",
         "pan2d",
         "zoomIn2d",
         "zoomOut2d",
         "resetScale2d",
         "toggleSpikelines",
         "hoverCompareCartesian",
         "hoverClosestCartesian"
        ],
        "plotlyServerURL": "https://plot.ly",
        "staticPlot": false,
        "toImageButtonOptions": {
         "height": null,
         "width": null
        }
       },
       "data": [
        {
         "alignmentgroup": "True",
         "base": [
          0.07012546807527542,
          0.07012546807527542
         ],
         "customdata": [
          [
           0.07031272351741791,
           "Partial depencence for ordinal variables",
           "gender"
          ],
          [
           0.06988716870546341,
           "Partial depencence for ordinal variables",
           "gender"
          ]
         ],
         "hovertemplate": "<b>%{hovertext}</b><br><br>mean_prediction=%{base:.3f}<br>prediction=%{customdata[0]:.3f}<extra></extra>",
         "hovertext": [
          "Partial depencence for ordinal variables",
          "Partial depencence for ordinal variables"
         ],
         "legendgroup": "Partial depencence for ordinal variables",
         "marker": {
          "color": "#46bac2",
          "pattern": {
           "shape": ""
          }
         },
         "name": "Partial depencence for ordinal variables",
         "offsetgroup": "Partial depencence for ordinal variables",
         "orientation": "v",
         "showlegend": true,
         "textposition": "auto",
         "type": "bar",
         "x": [
          "F",
          "M"
         ],
         "xaxis": "x3",
         "y": [
          0.00018725544214248657,
          -0.00023829936981201172
         ],
         "yaxis": "y3"
        },
        {
         "alignmentgroup": "True",
         "base": [
          0.07012546807527542,
          0.07012546807527542,
          0.07012546807527542,
          0.07012546807527542,
          0.07012546807527542,
          0.07012546807527542
         ],
         "customdata": [
          [
           0.07050474733114243,
           "Partial depencence for ordinal variables",
           "area"
          ],
          [
           0.07084032148122787,
           "Partial depencence for ordinal variables",
           "area"
          ],
          [
           0.06986688077449799,
           "Partial depencence for ordinal variables",
           "area"
          ],
          [
           0.06769897043704987,
           "Partial depencence for ordinal variables",
           "area"
          ],
          [
           0.06891492009162903,
           "Partial depencence for ordinal variables",
           "area"
          ],
          [
           0.07457111775875092,
           "Partial depencence for ordinal variables",
           "area"
          ]
         ],
         "hovertemplate": "<b>%{hovertext}</b><br><br>mean_prediction=%{base:.3f}<br>prediction=%{customdata[0]:.3f}<extra></extra>",
         "hovertext": [
          "Partial depencence for ordinal variables",
          "Partial depencence for ordinal variables",
          "Partial depencence for ordinal variables",
          "Partial depencence for ordinal variables",
          "Partial depencence for ordinal variables",
          "Partial depencence for ordinal variables"
         ],
         "legendgroup": "Partial depencence for ordinal variables",
         "marker": {
          "color": "#46bac2",
          "pattern": {
           "shape": ""
          }
         },
         "name": "Partial depencence for ordinal variables",
         "offsetgroup": "Partial depencence for ordinal variables",
         "orientation": "v",
         "showlegend": false,
         "textposition": "auto",
         "type": "bar",
         "x": [
          "A",
          "B",
          "C",
          "D",
          "E",
          "F"
         ],
         "xaxis": "x4",
         "y": [
          0.0003792792558670044,
          0.0007148534059524536,
          -0.0002585873007774353,
          -0.0024264976382255554,
          -0.0012105479836463928,
          0.004445649683475494
         ],
         "yaxis": "y4"
        },
        {
         "alignmentgroup": "True",
         "base": [
          0.07012546807527542,
          0.07012546807527542,
          0.07012546807527542,
          0.07012546807527542,
          0.07012546807527542,
          0.07012546807527542,
          0.07012546807527542,
          0.07012546807527542,
          0.07012546807527542,
          0.07012546807527542,
          0.07012546807527542,
          0.07012546807527542,
          0.07012546807527542
         ],
         "customdata": [
          [
           0.08403832465410233,
           "Partial depencence for ordinal variables",
           "veh_body"
          ],
          [
           0.08403832465410233,
           "Partial depencence for ordinal variables",
           "veh_body"
          ],
          [
           0.08403832465410233,
           "Partial depencence for ordinal variables",
           "veh_body"
          ],
          [
           0.07149141281843185,
           "Partial depencence for ordinal variables",
           "veh_body"
          ],
          [
           0.07238022238016129,
           "Partial depencence for ordinal variables",
           "veh_body"
          ],
          [
           0.07238022238016129,
           "Partial depencence for ordinal variables",
           "veh_body"
          ],
          [
           0.07243852317333221,
           "Partial depencence for ordinal variables",
           "veh_body"
          ],
          [
           0.07236625999212265,
           "Partial depencence for ordinal variables",
           "veh_body"
          ],
          [
           0.0707506611943245,
           "Partial depencence for ordinal variables",
           "veh_body"
          ],
          [
           0.07032705098390579,
           "Partial depencence for ordinal variables",
           "veh_body"
          ],
          [
           0.06837257742881775,
           "Partial depencence for ordinal variables",
           "veh_body"
          ],
          [
           0.06792929768562317,
           "Partial depencence for ordinal variables",
           "veh_body"
          ],
          [
           0.060630496591329575,
           "Partial depencence for ordinal variables",
           "veh_body"
          ]
         ],
         "hovertemplate": "<b>%{hovertext}</b><br><br>mean_prediction=%{base:.3f}<br>prediction=%{customdata[0]:.3f}<extra></extra>",
         "hovertext": [
          "Partial depencence for ordinal variables",
          "Partial depencence for ordinal variables",
          "Partial depencence for ordinal variables",
          "Partial depencence for ordinal variables",
          "Partial depencence for ordinal variables",
          "Partial depencence for ordinal variables",
          "Partial depencence for ordinal variables",
          "Partial depencence for ordinal variables",
          "Partial depencence for ordinal variables",
          "Partial depencence for ordinal variables",
          "Partial depencence for ordinal variables",
          "Partial depencence for ordinal variables",
          "Partial depencence for ordinal variables"
         ],
         "legendgroup": "Partial depencence for ordinal variables",
         "marker": {
          "color": "#46bac2",
          "pattern": {
           "shape": ""
          }
         },
         "name": "Partial depencence for ordinal variables",
         "offsetgroup": "Partial depencence for ordinal variables",
         "orientation": "v",
         "showlegend": false,
         "textposition": "auto",
         "type": "bar",
         "x": [
          "BUS",
          "CONVT",
          "COUPE",
          "HBACK",
          "HDTOP",
          "MCARA",
          "MIBUS",
          "PANVN",
          "RDSTR",
          "SEDAN",
          "STNWG",
          "TRUCK",
          "UTE"
         ],
         "xaxis": "x",
         "y": [
          0.013912856578826904,
          0.013912856578826904,
          0.013912856578826904,
          0.001365944743156433,
          0.0022547543048858643,
          0.0022547543048858643,
          0.002313055098056793,
          0.002240791916847229,
          0.0006251931190490723,
          0.0002015829086303711,
          -0.0017528906464576721,
          -0.002196170389652252,
          -0.009494971483945847
         ],
         "yaxis": "y"
        }
       ],
       "layout": {
        "annotations": [
         {
          "font": {
           "size": 13
          },
          "showarrow": false,
          "text": "veh_body",
          "x": 0.2375,
          "xanchor": "center",
          "xref": "paper",
          "y": 0.425,
          "yanchor": "bottom",
          "yref": "paper"
         },
         {
          "font": {
           "size": 13
          },
          "showarrow": false,
          "text": "gender",
          "x": 0.2375,
          "xanchor": "center",
          "xref": "paper",
          "y": 1,
          "yanchor": "bottom",
          "yref": "paper"
         },
         {
          "font": {
           "size": 13
          },
          "showarrow": false,
          "text": "area",
          "x": 0.7625,
          "xanchor": "center",
          "xref": "paper",
          "y": 1,
          "yanchor": "bottom",
          "yref": "paper"
         },
         {
          "font": {
           "size": 13
          },
          "showarrow": false,
          "text": "prediction",
          "textangle": -90,
          "x": -0.07,
          "xref": "paper",
          "y": 0.5,
          "yref": "paper"
         }
        ],
        "barmode": "group",
        "font": {
         "color": "#371ea3"
        },
        "height": 829,
        "hovermode": "x unified",
        "legend": {
         "font": {
          "size": 11
         },
         "itemsizing": "constant",
         "orientation": "h",
         "title": {
          "font": {
           "size": 12
          },
          "text": "label"
         },
         "tracegroupgap": 0,
         "x": 1,
         "xanchor": "right",
         "y": 1.0361881785283473,
         "yanchor": "bottom"
        },
        "margin": {
         "b": 71,
         "r": 30,
         "t": 78
        },
        "shapes": [
         {
          "layer": "below",
          "line": {
           "color": "#371ea3",
           "dash": "dot",
           "width": 1.5
          },
          "type": "line",
          "x0": 0,
          "x1": 1,
          "xref": "x domain",
          "y0": 0.07012546807527542,
          "y1": 0.07012546807527542,
          "yref": "y"
         },
         {
          "layer": "below",
          "line": {
           "color": "#371ea3",
           "dash": "dot",
           "width": 1.5
          },
          "type": "line",
          "x0": 0,
          "x1": 1,
          "xref": "x3 domain",
          "y0": 0.07012546807527542,
          "y1": 0.07012546807527542,
          "yref": "y3"
         },
         {
          "layer": "below",
          "line": {
           "color": "#371ea3",
           "dash": "dot",
           "width": 1.5
          },
          "type": "line",
          "x0": 0,
          "x1": 1,
          "xref": "x4 domain",
          "y0": 0.07012546807527542,
          "y1": 0.07012546807527542,
          "yref": "y4"
         },
         {
          "layer": "below",
          "line": {
           "color": "#371ea3",
           "dash": "dot",
           "width": 1.5
          },
          "type": "line",
          "x0": 0,
          "x1": 1,
          "xref": "x domain",
          "y0": 0.07012546807527542,
          "y1": 0.07012546807527542,
          "yref": "y"
         },
         {
          "layer": "below",
          "line": {
           "color": "#371ea3",
           "dash": "dot",
           "width": 1.5
          },
          "type": "line",
          "x0": 0,
          "x1": 1,
          "xref": "x3 domain",
          "y0": 0.07012546807527542,
          "y1": 0.07012546807527542,
          "yref": "y3"
         },
         {
          "layer": "below",
          "line": {
           "color": "#371ea3",
           "dash": "dot",
           "width": 1.5
          },
          "type": "line",
          "x0": 0,
          "x1": 1,
          "xref": "x4 domain",
          "y0": 0.07012546807527542,
          "y1": 0.07012546807527542,
          "yref": "y4"
         },
         {
          "layer": "below",
          "line": {
           "color": "#371ea3",
           "dash": "dot",
           "width": 1.5
          },
          "type": "line",
          "x0": 0,
          "x1": 1,
          "xref": "x domain",
          "y0": 0.07012546807527542,
          "y1": 0.07012546807527542,
          "yref": "y"
         },
         {
          "layer": "below",
          "line": {
           "color": "#371ea3",
           "dash": "dot",
           "width": 1.5
          },
          "type": "line",
          "x0": 0,
          "x1": 1,
          "xref": "x3 domain",
          "y0": 0.07012546807527542,
          "y1": 0.07012546807527542,
          "yref": "y3"
         },
         {
          "layer": "below",
          "line": {
           "color": "#371ea3",
           "dash": "dot",
           "width": 1.5
          },
          "type": "line",
          "x0": 0,
          "x1": 1,
          "xref": "x4 domain",
          "y0": 0.07012546807527542,
          "y1": 0.07012546807527542,
          "yref": "y4"
         }
        ],
        "template": {
         "data": {
          "scatter": [
           {
            "type": "scatter"
           }
          ]
         }
        },
        "title": {
         "font": {
          "size": 16
         },
         "text": "Aggregated Profiles",
         "x": 0.15
        },
        "xaxis": {
         "anchor": "y",
         "automargin": true,
         "domain": [
          0,
          0.475
         ],
         "fixedrange": true,
         "gridwidth": 2,
         "showticklabels": true,
         "tickcolor": "white",
         "ticklen": 10,
         "ticks": "outside",
         "title": {
          "text": ""
         },
         "type": "category"
        },
        "xaxis2": {
         "anchor": "y2",
         "automargin": true,
         "domain": [
          0.525,
          1
         ],
         "fixedrange": true,
         "gridwidth": 2,
         "showticklabels": true,
         "tickcolor": "white",
         "ticklen": 10,
         "ticks": "outside",
         "title": {
          "text": ""
         },
         "type": "category"
        },
        "xaxis3": {
         "anchor": "y3",
         "automargin": true,
         "domain": [
          0,
          0.475
         ],
         "fixedrange": true,
         "gridwidth": 2,
         "showticklabels": true,
         "tickcolor": "white",
         "ticklen": 10,
         "ticks": "outside",
         "title": {
          "text": ""
         },
         "type": "category"
        },
        "xaxis4": {
         "anchor": "y4",
         "automargin": true,
         "domain": [
          0.525,
          1
         ],
         "fixedrange": true,
         "gridwidth": 2,
         "showticklabels": true,
         "tickcolor": "white",
         "ticklen": 10,
         "ticks": "outside",
         "title": {
          "text": ""
         },
         "type": "category"
        },
        "yaxis": {
         "anchor": "x",
         "automargin": true,
         "domain": [
          0,
          0.425
         ],
         "fixedrange": true,
         "gridwidth": 2,
         "range": [
          0.0582897137850523,
          0.0863791074603796
         ],
         "tickcolor": "white",
         "ticklen": 3,
         "ticks": "outside",
         "title": {
          "text": ""
         },
         "type": "linear",
         "zeroline": false
        },
        "yaxis2": {
         "anchor": "x2",
         "automargin": true,
         "domain": [
          0,
          0.425
         ],
         "fixedrange": true,
         "gridwidth": 2,
         "matches": "y",
         "range": [
          0.0582897137850523,
          0.0863791074603796
         ],
         "showticklabels": false,
         "tickcolor": "white",
         "ticklen": 3,
         "ticks": "outside",
         "title": {
          "text": ""
         },
         "type": "linear",
         "zeroline": false
        },
        "yaxis3": {
         "anchor": "x3",
         "automargin": true,
         "domain": [
          0.575,
          1
         ],
         "fixedrange": true,
         "gridwidth": 2,
         "matches": "y",
         "range": [
          0.0582897137850523,
          0.0863791074603796
         ],
         "tickcolor": "white",
         "ticklen": 3,
         "ticks": "outside",
         "title": {
          "text": ""
         },
         "type": "linear",
         "zeroline": false
        },
        "yaxis4": {
         "anchor": "x4",
         "automargin": true,
         "domain": [
          0.575,
          1
         ],
         "fixedrange": true,
         "gridwidth": 2,
         "matches": "y",
         "range": [
          0.0582897137850523,
          0.0863791074603796
         ],
         "showticklabels": false,
         "tickcolor": "white",
         "ticklen": 3,
         "ticks": "outside",
         "title": {
          "text": ""
         },
         "type": "linear",
         "zeroline": false
        }
       }
      }
     },
     "metadata": {},
     "output_type": "display_data"
    },
    {
     "data": {
      "image/png": "[encoded data removed]",
      "text/plain": [
       "<Figure size 432x288 with 1 Axes>"
      ]
     },
     "metadata": {
      "needs_background": "light"
     },
     "output_type": "display_data"
    }
   ],
   "source": [
    "# Interpret model\n",
    "import numpy as np\n",
    "import dalex as dx\n",
    "from sklearn.metrics import log_loss\n",
    "from xgboost import plot_importance\n",
    "\n",
    "# Variable importance regarding MSE improvement\n",
    "plot_importance(fit, importance_type=\"gain\", show_values=False, xlabel=\"Gain\")\n",
    "\n",
    "# Set up explainer object\n",
    "def pred_fun(m, df):\n",
    "    X = encoder.transform(df)\n",
    "    dX = xgb.DMatrix(X, feature_names=feature_names)\n",
    "    return m.predict(dX)\n",
    "\n",
    "\n",
    "exp = dx.Explainer(fit, df_train, predict_function=pred_fun, verbose=False)\n",
    "\n",
    "# Test performance\n",
    "test_loss = log_loss(y_test, exp.predict(df_test))\n",
    "test_loss0 = log_loss(y_test, np.repeat(y_train.mean(), len(y_test)))\n",
    "rel_imp = (test_loss0 - test_loss) / test_loss0\n",
    "\n",
    "print(f\"Test log-loss: {test_loss: .3f}\")\n",
    "print(f\"Relative improvement in log-loss: {rel_imp: .3%}\")\n",
    "\n",
    "# Partial dependence plots on training data\n",
    "num_eval_at = {\n",
    "    \"veh_value\": np.linspace(0, 5, 41),\n",
    "    \"agecat\": sorted(car[\"agecat\"].unique()),\n",
    "    \"veh_age\": sorted(car[\"veh_age\"].unique()),\n",
    "}\n",
    "pdp_num = exp.model_profile(\n",
    "    variable_splits=num_eval_at,\n",
    "    label=\"Partial depencence for numeric variables\",\n",
    "    verbose=False,\n",
    ")\n",
    "pdp_num.plot()\n",
    "\n",
    "pdp_ord = exp.model_profile(\n",
    "    variable_type=\"categorical\",\n",
    "    variable_splits=dict(zip(ord_features, ord_levels)),\n",
    "    label=\"Partial depencence for ordinal variables\",\n",
    "    verbose=False,\n",
    ")\n",
    "pdp_ord.plot()"
   ]
  },
  {
   "cell_type": "markdown",
   "metadata": {},
   "source": [
    "# Chapter 4: Neural Nets\n",
    "\n",
    "## Exercise 1"
   ]
  },
  {
   "cell_type": "code",
   "execution_count": 4,
   "metadata": {},
   "outputs": [
    {
     "data": {
      "text/plain": [
       "array([[ 0.98143089, -1.5256479 ,  0.57680845, -0.60749424],\n",
       "       [-0.80744346, -1.5256479 , -1.24422106,  1.01420318],\n",
       "       [-0.80744346,  0.82624444, -0.63721122, -0.0809691 ],\n",
       "       [ 0.98143089, -0.34970173, -0.03020138, -0.96553133],\n",
       "       [-2.5963178 , -0.93767482, -0.63721122,  0.42449503]])"
      ]
     },
     "execution_count": 4,
     "metadata": {},
     "output_type": "execute_result"
    }
   ],
   "source": [
    "# Load data and specify preprocessing\n",
    "from plotnine.data import diamonds\n",
    "from sklearn.preprocessing import OrdinalEncoder, StandardScaler\n",
    "from sklearn.compose import ColumnTransformer\n",
    "from sklearn.pipeline import make_pipeline\n",
    "from sklearn.model_selection import train_test_split\n",
    "\n",
    "diamonds[\"price\"] = diamonds[\"price\"].astype(\"float32\")  # for TensorFlow\n",
    "\n",
    "df_train, df_valid, y_train, y_valid = train_test_split(\n",
    "    diamonds, diamonds[\"price\"], test_size=0.2, random_state=341\n",
    ")\n",
    "\n",
    "ord_features = [\"cut\", \"color\", \"clarity\"]\n",
    "ord_levels = [diamonds[x].cat.categories.to_list() for x in ord_features]\n",
    "\n",
    "preprocessor = make_pipeline(\n",
    "    ColumnTransformer(\n",
    "        transformers=[\n",
    "            (\"ordinal\", OrdinalEncoder(categories=ord_levels), ord_features),\n",
    "            (\"numeric\", \"passthrough\", [\"carat\"]),\n",
    "        ]\n",
    "    ),\n",
    "    StandardScaler(),\n",
    ")\n",
    "\n",
    "X_train = preprocessor.fit_transform(df_train)\n",
    "X_valid = preprocessor.transform(df_valid)\n",
    "X_valid[0:5]"
   ]
  },
  {
   "cell_type": "code",
   "execution_count": 5,
   "metadata": {},
   "outputs": [
    {
     "data": {
      "image/png": "[encoded data removed]",
      "text/plain": [
       "<Figure size 432x288 with 1 Axes>"
      ]
     },
     "metadata": {
      "needs_background": "light"
     },
     "output_type": "display_data"
    }
   ],
   "source": [
    "# Modeling\n",
    "import tensorflow as tf\n",
    "from tensorflow import keras\n",
    "from tensorflow.keras import layers\n",
    "from tensorflow.keras import backend as K\n",
    "\n",
    "\n",
    "def loss_gamma(y_true, y_pred):\n",
    "    return -K.log(y_true / y_pred) + y_true / y_pred\n",
    "\n",
    "\n",
    "inputs = keras.Input(shape=4)\n",
    "x = layers.Dense(30, activation=\"tanh\")(inputs)\n",
    "x = layers.Dense(15, activation=\"tanh\")(x)\n",
    "outputs = layers.Dense(1, activation=K.exp)(x)\n",
    "\n",
    "model = keras.Model(inputs=inputs, outputs=outputs)\n",
    "\n",
    "model.compile(loss=loss_gamma, optimizer=keras.optimizers.Adam(learning_rate=0.001))\n",
    "\n",
    "cb = [\n",
    "    keras.callbacks.EarlyStopping(patience=20),\n",
    "    keras.callbacks.ReduceLROnPlateau(patience=5),\n",
    "]\n",
    "\n",
    "tf.random.set_seed(873)\n",
    "\n",
    "history = model.fit(\n",
    "    x=X_train,\n",
    "    y=y_train,\n",
    "    epochs=1000,\n",
    "    batch_size=400,\n",
    "    validation_data=(X_valid, y_valid),\n",
    "    callbacks=cb,\n",
    "    verbose=0,\n",
    ")\n",
    "\n",
    "# Training RMSE over epochs\n",
    "import matplotlib.pyplot as plt\n",
    "\n",
    "plt.plot(history.history[\"loss\"], label=\"Training\")\n",
    "plt.plot(history.history[\"val_loss\"], label=\"Validation\")\n",
    "plt.legend()\n",
    "plt.gca().set(\n",
    "    title=\"Training Gamma loss over epochs\",\n",
    "    xlabel=\"Epoch\",\n",
    "    ylabel=\"Gamma loss\",\n",
    "    ylim=(0, 3),\n",
    ")\n",
    "plt.grid()\n",
    "plt.show()"
   ]
  },
  {
   "cell_type": "code",
   "execution_count": 8,
   "metadata": {},
   "outputs": [
    {
     "name": "stdout",
     "output_type": "stream",
     "text": [
      "% deviance explained: 98.44%\n"
     ]
    },
    {
     "data": {
      "application/vnd.plotly.v1+json": {
       "config": {
        "displaylogo": false,
        "modeBarButtonsToRemove": [
         "sendDataToCloud",
         "lasso2d",
         "autoScale2d",
         "select2d",
         "zoom2d",
         "pan2d",
         "zoomIn2d",
         "zoomOut2d",
         "resetScale2d",
         "toggleSpikelines",
         "hoverCompareCartesian",
         "hoverClosestCartesian"
        ],
        "plotlyServerURL": "https://plot.ly",
        "staticPlot": false,
        "toImageButtonOptions": {
         "height": null,
         "width": null
        }
       },
       "data": [
        {
         "base": 665.0709228515625,
         "hoverinfo": "text",
         "hoverlabel": {
          "bgcolor": "rgba(0,0,0,0.8)"
         },
         "hovertext": [
          "Model: Functional loss after<br>variable: carat is permuted: 6447.548<br>Drop-out loss change: +5782.477",
          "Model: Functional loss after<br>variable: clarity is permuted: 1792.116<br>Drop-out loss change: +1127.046",
          "Model: Functional loss after<br>variable: color is permuted: 1453.216<br>Drop-out loss change: +788.145",
          "Model: Functional loss after<br>variable: cut is permuted: 705.518<br>Drop-out loss change: +40.447"
         ],
         "marker": {
          "color": "#46bac2"
         },
         "orientation": "h",
         "showlegend": false,
         "text": [
          "+5782.477",
          "+1127.046",
          "+788.145",
          "+40.447"
         ],
         "textposition": "outside",
         "type": "bar",
         "x": [
          5782.47705078125,
          1127.0455322265625,
          788.14501953125,
          40.447021484375
         ],
         "xaxis": "x",
         "y": [
          "carat",
          "clarity",
          "color",
          "cut"
         ],
         "yaxis": "y"
        }
       ],
       "layout": {
        "annotations": [
         {
          "font": {
           "size": 16
          },
          "showarrow": false,
          "text": "Functional",
          "x": 0.5,
          "xanchor": "center",
          "xref": "paper",
          "y": 1,
          "yanchor": "bottom",
          "yref": "paper"
         },
         {
          "font": {
           "size": 16
          },
          "showarrow": false,
          "text": "drop-out loss",
          "x": 0.5,
          "xanchor": "center",
          "xref": "paper",
          "y": 0,
          "yanchor": "top",
          "yref": "paper",
          "yshift": -30
         }
        ],
        "font": {
         "color": "#371ea3"
        },
        "height": 263,
        "margin": {
         "b": 71,
         "r": 30,
         "t": 78
        },
        "shapes": [
         {
          "line": {
           "color": "#371ea3",
           "dash": "dot",
           "width": 1.5
          },
          "type": "line",
          "x0": 665.0709228515625,
          "x1": 665.0709228515625,
          "xref": "x",
          "y0": -1,
          "y1": 4,
          "yref": "y"
         }
        ],
        "template": {
         "data": {
          "scatter": [
           {
            "type": "scatter"
           }
          ]
         }
        },
        "title": {
         "text": "Variable Importance",
         "x": 0.15
        },
        "xaxis": {
         "anchor": "y",
         "automargin": true,
         "domain": [
          0,
          1
         ],
         "fixedrange": true,
         "gridwidth": 2,
         "range": [
          -202.30063476562498,
          7314.919409179687
         ],
         "tickcolor": "white",
         "ticklen": 3,
         "ticks": "outside",
         "type": "linear",
         "zeroline": false
        },
        "yaxis": {
         "anchor": "x",
         "automargin": true,
         "autorange": "reversed",
         "domain": [
          0,
          1
         ],
         "fixedrange": true,
         "gridwidth": 2,
         "tickcolor": "white",
         "ticklen": 10,
         "ticks": "outside",
         "type": "category"
        }
       }
      }
     },
     "metadata": {},
     "output_type": "display_data"
    },
    {
     "data": {
      "application/vnd.plotly.v1+json": {
       "config": {
        "displaylogo": false,
        "modeBarButtonsToRemove": [
         "sendDataToCloud",
         "lasso2d",
         "autoScale2d",
         "select2d",
         "zoom2d",
         "pan2d",
         "zoomIn2d",
         "zoomOut2d",
         "resetScale2d",
         "toggleSpikelines",
         "hoverCompareCartesian",
         "hoverClosestCartesian"
        ],
        "plotlyServerURL": "https://plot.ly",
        "staticPlot": false,
        "toImageButtonOptions": {
         "height": null,
         "width": null
        }
       },
       "data": [
        {
         "customdata": [
          [
           3852.01123046875,
           "Partial depencence for numeric variables",
           "carat"
          ],
          [
           3852.01123046875,
           "Partial depencence for numeric variables",
           "carat"
          ],
          [
           3852.01123046875,
           "Partial depencence for numeric variables",
           "carat"
          ],
          [
           3852.01123046875,
           "Partial depencence for numeric variables",
           "carat"
          ],
          [
           3852.01123046875,
           "Partial depencence for numeric variables",
           "carat"
          ],
          [
           3852.01123046875,
           "Partial depencence for numeric variables",
           "carat"
          ],
          [
           3852.01123046875,
           "Partial depencence for numeric variables",
           "carat"
          ],
          [
           3852.01123046875,
           "Partial depencence for numeric variables",
           "carat"
          ],
          [
           3852.01123046875,
           "Partial depencence for numeric variables",
           "carat"
          ],
          [
           3852.01123046875,
           "Partial depencence for numeric variables",
           "carat"
          ],
          [
           3852.01123046875,
           "Partial depencence for numeric variables",
           "carat"
          ],
          [
           3852.01123046875,
           "Partial depencence for numeric variables",
           "carat"
          ],
          [
           3852.01123046875,
           "Partial depencence for numeric variables",
           "carat"
          ],
          [
           3852.01123046875,
           "Partial depencence for numeric variables",
           "carat"
          ],
          [
           3852.01123046875,
           "Partial depencence for numeric variables",
           "carat"
          ],
          [
           3852.01123046875,
           "Partial depencence for numeric variables",
           "carat"
          ],
          [
           3852.01123046875,
           "Partial depencence for numeric variables",
           "carat"
          ],
          [
           3852.01123046875,
           "Partial depencence for numeric variables",
           "carat"
          ],
          [
           3852.01123046875,
           "Partial depencence for numeric variables",
           "carat"
          ],
          [
           3852.01123046875,
           "Partial depencence for numeric variables",
           "carat"
          ],
          [
           3852.01123046875,
           "Partial depencence for numeric variables",
           "carat"
          ],
          [
           3852.01123046875,
           "Partial depencence for numeric variables",
           "carat"
          ],
          [
           3852.01123046875,
           "Partial depencence for numeric variables",
           "carat"
          ],
          [
           3852.01123046875,
           "Partial depencence for numeric variables",
           "carat"
          ],
          [
           3852.01123046875,
           "Partial depencence for numeric variables",
           "carat"
          ],
          [
           3852.01123046875,
           "Partial depencence for numeric variables",
           "carat"
          ],
          [
           3852.01123046875,
           "Partial depencence for numeric variables",
           "carat"
          ],
          [
           3852.01123046875,
           "Partial depencence for numeric variables",
           "carat"
          ],
          [
           3852.01123046875,
           "Partial depencence for numeric variables",
           "carat"
          ],
          [
           3852.01123046875,
           "Partial depencence for numeric variables",
           "carat"
          ],
          [
           3852.01123046875,
           "Partial depencence for numeric variables",
           "carat"
          ],
          [
           3852.01123046875,
           "Partial depencence for numeric variables",
           "carat"
          ],
          [
           3852.01123046875,
           "Partial depencence for numeric variables",
           "carat"
          ],
          [
           3852.01123046875,
           "Partial depencence for numeric variables",
           "carat"
          ],
          [
           3852.01123046875,
           "Partial depencence for numeric variables",
           "carat"
          ],
          [
           3852.01123046875,
           "Partial depencence for numeric variables",
           "carat"
          ],
          [
           3852.01123046875,
           "Partial depencence for numeric variables",
           "carat"
          ],
          [
           3852.01123046875,
           "Partial depencence for numeric variables",
           "carat"
          ],
          [
           3852.01123046875,
           "Partial depencence for numeric variables",
           "carat"
          ],
          [
           3852.01123046875,
           "Partial depencence for numeric variables",
           "carat"
          ],
          [
           3852.01123046875,
           "Partial depencence for numeric variables",
           "carat"
          ],
          [
           3852.01123046875,
           "Partial depencence for numeric variables",
           "carat"
          ],
          [
           3852.01123046875,
           "Partial depencence for numeric variables",
           "carat"
          ],
          [
           3852.01123046875,
           "Partial depencence for numeric variables",
           "carat"
          ],
          [
           3852.01123046875,
           "Partial depencence for numeric variables",
           "carat"
          ],
          [
           3852.01123046875,
           "Partial depencence for numeric variables",
           "carat"
          ],
          [
           3852.01123046875,
           "Partial depencence for numeric variables",
           "carat"
          ],
          [
           3852.01123046875,
           "Partial depencence for numeric variables",
           "carat"
          ],
          [
           3852.01123046875,
           "Partial depencence for numeric variables",
           "carat"
          ],
          [
           3852.01123046875,
           "Partial depencence for numeric variables",
           "carat"
          ],
          [
           3852.01123046875,
           "Partial depencence for numeric variables",
           "carat"
          ],
          [
           3852.01123046875,
           "Partial depencence for numeric variables",
           "carat"
          ],
          [
           3852.01123046875,
           "Partial depencence for numeric variables",
           "carat"
          ],
          [
           3852.01123046875,
           "Partial depencence for numeric variables",
           "carat"
          ],
          [
           3852.01123046875,
           "Partial depencence for numeric variables",
           "carat"
          ],
          [
           3852.01123046875,
           "Partial depencence for numeric variables",
           "carat"
          ],
          [
           3852.01123046875,
           "Partial depencence for numeric variables",
           "carat"
          ],
          [
           3852.01123046875,
           "Partial depencence for numeric variables",
           "carat"
          ],
          [
           3852.01123046875,
           "Partial depencence for numeric variables",
           "carat"
          ],
          [
           3852.01123046875,
           "Partial depencence for numeric variables",
           "carat"
          ],
          [
           3852.01123046875,
           "Partial depencence for numeric variables",
           "carat"
          ],
          [
           3852.01123046875,
           "Partial depencence for numeric variables",
           "carat"
          ],
          [
           3852.01123046875,
           "Partial depencence for numeric variables",
           "carat"
          ],
          [
           3852.01123046875,
           "Partial depencence for numeric variables",
           "carat"
          ],
          [
           3852.01123046875,
           "Partial depencence for numeric variables",
           "carat"
          ],
          [
           3852.01123046875,
           "Partial depencence for numeric variables",
           "carat"
          ],
          [
           3852.01123046875,
           "Partial depencence for numeric variables",
           "carat"
          ],
          [
           3852.01123046875,
           "Partial depencence for numeric variables",
           "carat"
          ],
          [
           3852.01123046875,
           "Partial depencence for numeric variables",
           "carat"
          ],
          [
           3852.01123046875,
           "Partial depencence for numeric variables",
           "carat"
          ],
          [
           3852.01123046875,
           "Partial depencence for numeric variables",
           "carat"
          ],
          [
           3852.01123046875,
           "Partial depencence for numeric variables",
           "carat"
          ],
          [
           3852.01123046875,
           "Partial depencence for numeric variables",
           "carat"
          ],
          [
           3852.01123046875,
           "Partial depencence for numeric variables",
           "carat"
          ],
          [
           3852.01123046875,
           "Partial depencence for numeric variables",
           "carat"
          ],
          [
           3852.01123046875,
           "Partial depencence for numeric variables",
           "carat"
          ],
          [
           3852.01123046875,
           "Partial depencence for numeric variables",
           "carat"
          ],
          [
           3852.01123046875,
           "Partial depencence for numeric variables",
           "carat"
          ],
          [
           3852.01123046875,
           "Partial depencence for numeric variables",
           "carat"
          ],
          [
           3852.01123046875,
           "Partial depencence for numeric variables",
           "carat"
          ],
          [
           3852.01123046875,
           "Partial depencence for numeric variables",
           "carat"
          ],
          [
           3852.01123046875,
           "Partial depencence for numeric variables",
           "carat"
          ],
          [
           3852.01123046875,
           "Partial depencence for numeric variables",
           "carat"
          ],
          [
           3852.01123046875,
           "Partial depencence for numeric variables",
           "carat"
          ],
          [
           3852.01123046875,
           "Partial depencence for numeric variables",
           "carat"
          ],
          [
           3852.01123046875,
           "Partial depencence for numeric variables",
           "carat"
          ],
          [
           3852.01123046875,
           "Partial depencence for numeric variables",
           "carat"
          ],
          [
           3852.01123046875,
           "Partial depencence for numeric variables",
           "carat"
          ],
          [
           3852.01123046875,
           "Partial depencence for numeric variables",
           "carat"
          ],
          [
           3852.01123046875,
           "Partial depencence for numeric variables",
           "carat"
          ],
          [
           3852.01123046875,
           "Partial depencence for numeric variables",
           "carat"
          ],
          [
           3852.01123046875,
           "Partial depencence for numeric variables",
           "carat"
          ],
          [
           3852.01123046875,
           "Partial depencence for numeric variables",
           "carat"
          ],
          [
           3852.01123046875,
           "Partial depencence for numeric variables",
           "carat"
          ],
          [
           3852.01123046875,
           "Partial depencence for numeric variables",
           "carat"
          ],
          [
           3852.01123046875,
           "Partial depencence for numeric variables",
           "carat"
          ],
          [
           3852.01123046875,
           "Partial depencence for numeric variables",
           "carat"
          ],
          [
           3852.01123046875,
           "Partial depencence for numeric variables",
           "carat"
          ],
          [
           3852.01123046875,
           "Partial depencence for numeric variables",
           "carat"
          ],
          [
           3852.01123046875,
           "Partial depencence for numeric variables",
           "carat"
          ],
          [
           3852.01123046875,
           "Partial depencence for numeric variables",
           "carat"
          ]
         ],
         "hovertemplate": "<b>%{hovertext}</b><br><br>prediction=%{y:.3f}<br>mean_prediction=%{customdata[0]:.3f}<extra></extra>",
         "hovertext": [
          "Partial depencence for numeric variables",
          "Partial depencence for numeric variables",
          "Partial depencence for numeric variables",
          "Partial depencence for numeric variables",
          "Partial depencence for numeric variables",
          "Partial depencence for numeric variables",
          "Partial depencence for numeric variables",
          "Partial depencence for numeric variables",
          "Partial depencence for numeric variables",
          "Partial depencence for numeric variables",
          "Partial depencence for numeric variables",
          "Partial depencence for numeric variables",
          "Partial depencence for numeric variables",
          "Partial depencence for numeric variables",
          "Partial depencence for numeric variables",
          "Partial depencence for numeric variables",
          "Partial depencence for numeric variables",
          "Partial depencence for numeric variables",
          "Partial depencence for numeric variables",
          "Partial depencence for numeric variables",
          "Partial depencence for numeric variables",
          "Partial depencence for numeric variables",
          "Partial depencence for numeric variables",
          "Partial depencence for numeric variables",
          "Partial depencence for numeric variables",
          "Partial depencence for numeric variables",
          "Partial depencence for numeric variables",
          "Partial depencence for numeric variables",
          "Partial depencence for numeric variables",
          "Partial depencence for numeric variables",
          "Partial depencence for numeric variables",
          "Partial depencence for numeric variables",
          "Partial depencence for numeric variables",
          "Partial depencence for numeric variables",
          "Partial depencence for numeric variables",
          "Partial depencence for numeric variables",
          "Partial depencence for numeric variables",
          "Partial depencence for numeric variables",
          "Partial depencence for numeric variables",
          "Partial depencence for numeric variables",
          "Partial depencence for numeric variables",
          "Partial depencence for numeric variables",
          "Partial depencence for numeric variables",
          "Partial depencence for numeric variables",
          "Partial depencence for numeric variables",
          "Partial depencence for numeric variables",
          "Partial depencence for numeric variables",
          "Partial depencence for numeric variables",
          "Partial depencence for numeric variables",
          "Partial depencence for numeric variables",
          "Partial depencence for numeric variables",
          "Partial depencence for numeric variables",
          "Partial depencence for numeric variables",
          "Partial depencence for numeric variables",
          "Partial depencence for numeric variables",
          "Partial depencence for numeric variables",
          "Partial depencence for numeric variables",
          "Partial depencence for numeric variables",
          "Partial depencence for numeric variables",
          "Partial depencence for numeric variables",
          "Partial depencence for numeric variables",
          "Partial depencence for numeric variables",
          "Partial depencence for numeric variables",
          "Partial depencence for numeric variables",
          "Partial depencence for numeric variables",
          "Partial depencence for numeric variables",
          "Partial depencence for numeric variables",
          "Partial depencence for numeric variables",
          "Partial depencence for numeric variables",
          "Partial depencence for numeric variables",
          "Partial depencence for numeric variables",
          "Partial depencence for numeric variables",
          "Partial depencence for numeric variables",
          "Partial depencence for numeric variables",
          "Partial depencence for numeric variables",
          "Partial depencence for numeric variables",
          "Partial depencence for numeric variables",
          "Partial depencence for numeric variables",
          "Partial depencence for numeric variables",
          "Partial depencence for numeric variables",
          "Partial depencence for numeric variables",
          "Partial depencence for numeric variables",
          "Partial depencence for numeric variables",
          "Partial depencence for numeric variables",
          "Partial depencence for numeric variables",
          "Partial depencence for numeric variables",
          "Partial depencence for numeric variables",
          "Partial depencence for numeric variables",
          "Partial depencence for numeric variables",
          "Partial depencence for numeric variables",
          "Partial depencence for numeric variables",
          "Partial depencence for numeric variables",
          "Partial depencence for numeric variables",
          "Partial depencence for numeric variables",
          "Partial depencence for numeric variables",
          "Partial depencence for numeric variables",
          "Partial depencence for numeric variables",
          "Partial depencence for numeric variables",
          "Partial depencence for numeric variables",
          "Partial depencence for numeric variables",
          "Partial depencence for numeric variables"
         ],
         "legendgroup": "Partial depencence for numeric variables",
         "line": {
          "color": "#46bac2",
          "dash": "solid",
          "width": 2
         },
         "marker": {
          "symbol": "circle"
         },
         "mode": "lines",
         "name": "Partial depencence for numeric variables",
         "opacity": 1,
         "orientation": "v",
         "showlegend": true,
         "type": "scatter",
         "x": [
          0.2,
          0.2393,
          0.2786,
          0.31789999999999996,
          0.35719999999999996,
          0.39649999999999996,
          0.43579999999999997,
          0.47509999999999997,
          0.5144,
          0.5537,
          0.593,
          0.6323,
          0.6716,
          0.7108999999999999,
          0.7502,
          0.7894999999999999,
          0.8288,
          0.8680999999999999,
          0.9074,
          0.9466999999999999,
          0.986,
          1.0252999999999999,
          1.0646,
          1.1038999999999999,
          1.1431999999999998,
          1.1824999999999999,
          1.2217999999999998,
          1.2610999999999999,
          1.3003999999999998,
          1.3397,
          1.3789999999999998,
          1.4183,
          1.4575999999999998,
          1.4968999999999997,
          1.5361999999999998,
          1.5754999999999997,
          1.6147999999999998,
          1.6540999999999997,
          1.6933999999999998,
          1.7326999999999997,
          1.7719999999999998,
          1.8112999999999997,
          1.8505999999999998,
          1.8898999999999997,
          1.9291999999999998,
          1.9684999999999997,
          2.0078,
          2.0471,
          2.0864,
          2.1256999999999997,
          2.1649999999999996,
          2.2043,
          2.2436,
          2.2828999999999997,
          2.3222,
          2.3615,
          2.4008,
          2.4400999999999997,
          2.4794,
          2.5187,
          2.558,
          2.5972999999999997,
          2.6366,
          2.6759,
          2.7152,
          2.7544999999999997,
          2.7937999999999996,
          2.8331,
          2.8724,
          2.9116999999999997,
          2.9509999999999996,
          2.9903,
          3.0296,
          3.0688999999999997,
          3.1081999999999996,
          3.1475,
          3.1868,
          3.2260999999999997,
          3.2653999999999996,
          3.3047,
          3.344,
          3.3832999999999998,
          3.4225999999999996,
          3.4618999999999995,
          3.5012,
          3.5404999999999998,
          3.5797999999999996,
          3.6190999999999995,
          3.6584,
          3.6976999999999998,
          3.7369999999999997,
          3.7762999999999995,
          3.8156,
          3.8548999999999998,
          3.8941999999999997,
          3.9334999999999996,
          3.9727999999999994,
          4.012099999999999,
          4.051399999999999,
          4.090699999999999,
          4.13
         ],
         "xaxis": "x",
         "y": [
          350.9614562988281,
          427.0612487792969,
          516.2072143554688,
          619.7389526367188,
          738.9439697265625,
          875.0211181640625,
          1029.0467529296875,
          1201.943115234375,
          1394.4537353515625,
          1607.1240234375,
          1840.291748046875,
          2094.08251953125,
          2368.414794921875,
          2663.008544921875,
          2977.402099609375,
          3310.96875,
          3662.939453125,
          4032.42138671875,
          4418.42041015625,
          4819.86181640625,
          5235.60498046875,
          5664.46044921875,
          6105.205078125,
          6556.591796875,
          7017.3603515625,
          7486.24560546875,
          7961.98974609375,
          8443.341796875,
          8929.0712890625,
          9417.97265625,
          9908.8701171875,
          10400.625,
          10892.140625,
          11382.3779296875,
          11870.345703125,
          12355.111328125,
          12835.80859375,
          13311.6396484375,
          13781.875,
          14245.8525390625,
          14702.9853515625,
          15152.7626953125,
          15594.73046875,
          16028.517578125,
          16453.806640625,
          16870.349609375,
          17277.95703125,
          17676.494140625,
          18065.865234375,
          18446.03515625,
          18817.0078125,
          19178.810546875,
          19531.5234375,
          19875.234375,
          20210.0625,
          20536.15234375,
          20853.6640625,
          21162.763671875,
          21463.62890625,
          21756.44921875,
          22041.42578125,
          22318.740234375,
          22588.603515625,
          22851.208984375,
          23106.755859375,
          23355.4375,
          23597.44921875,
          23832.974609375,
          24062.203125,
          24285.3125,
          24502.48046875,
          24713.875,
          24919.6640625,
          25120.0078125,
          25315.060546875,
          25504.97265625,
          25689.8984375,
          25869.96875,
          26045.328125,
          26216.103515625,
          26382.431640625,
          26544.4296875,
          26702.2265625,
          26855.931640625,
          27005.671875,
          27151.548828125,
          27293.669921875,
          27432.14453125,
          27567.072265625,
          27698.55078125,
          27826.6796875,
          27951.55078125,
          28073.259765625,
          28191.884765625,
          28307.52734375,
          28420.263671875,
          28530.173828125,
          28637.33984375,
          28741.84765625,
          28843.759765625,
          28943.154296875
         ],
         "yaxis": "y"
        }
       ],
       "layout": {
        "annotations": [
         {
          "font": {
           "size": 13
          },
          "showarrow": false,
          "text": "carat",
          "x": 0.5,
          "xanchor": "center",
          "xref": "paper",
          "y": 1,
          "yanchor": "bottom",
          "yref": "paper"
         },
         {
          "font": {
           "size": 13
          },
          "showarrow": false,
          "text": "prediction",
          "textangle": -90,
          "x": -0.07,
          "xref": "paper",
          "y": 0.5,
          "yref": "paper"
         }
        ],
        "font": {
         "color": "#371ea3"
        },
        "height": 489,
        "hovermode": "x unified",
        "legend": {
         "font": {
          "size": 11
         },
         "itemsizing": "constant",
         "orientation": "h",
         "title": {
          "font": {
           "size": 12
          },
          "text": "label"
         },
         "tracegroupgap": 0,
         "x": 1,
         "xanchor": "right",
         "y": 1.0613496932515338,
         "yanchor": "bottom"
        },
        "margin": {
         "b": 71,
         "r": 30,
         "t": 78
        },
        "template": {
         "data": {
          "scatter": [
           {
            "type": "scatter"
           }
          ]
         }
        },
        "title": {
         "font": {
          "size": 16
         },
         "text": "Aggregated Profiles",
         "x": 0.15
        },
        "xaxis": {
         "anchor": "y",
         "automargin": true,
         "domain": [
          0,
          1
         ],
         "fixedrange": true,
         "gridwidth": 2,
         "showticklabels": true,
         "tickcolor": "white",
         "ticklen": 3,
         "ticks": "outside",
         "title": {
          "text": ""
         },
         "type": "linear",
         "zeroline": false
        },
        "yaxis": {
         "anchor": "x",
         "automargin": true,
         "domain": [
          0,
          1
         ],
         "fixedrange": true,
         "gridwidth": 2,
         "range": [
          -2508.257879638672,
          31802.3736328125
         ],
         "tickcolor": "white",
         "ticklen": 3,
         "ticks": "outside",
         "title": {
          "text": ""
         },
         "type": "linear",
         "zeroline": false
        }
       }
      }
     },
     "metadata": {},
     "output_type": "display_data"
    },
    {
     "name": "stderr",
     "output_type": "stream",
     "text": [
      "C:\\Users\\Michael\\anaconda3\\envs\\ml_lecture\\lib\\site-packages\\dalex\\predict_explanations\\_ceteris_paribus\\checks.py:16: UserWarning:\n",
      "\n",
      "Variables taken from variables_splits\n",
      "\n"
     ]
    },
    {
     "data": {
      "application/vnd.plotly.v1+json": {
       "config": {
        "displaylogo": false,
        "modeBarButtonsToRemove": [
         "sendDataToCloud",
         "lasso2d",
         "autoScale2d",
         "select2d",
         "zoom2d",
         "pan2d",
         "zoomIn2d",
         "zoomOut2d",
         "resetScale2d",
         "toggleSpikelines",
         "hoverCompareCartesian",
         "hoverClosestCartesian"
        ],
        "plotlyServerURL": "https://plot.ly",
        "staticPlot": false,
        "toImageButtonOptions": {
         "height": null,
         "width": null
        }
       },
       "data": [
        {
         "alignmentgroup": "True",
         "base": [
          4042.172607421875,
          4042.172607421875,
          4042.172607421875,
          4042.172607421875,
          4042.172607421875
         ],
         "customdata": [
          [
           3551.089111328125,
           "Partial depencence for ordinal variables",
           "cut"
          ],
          [
           3768.47998046875,
           "Partial depencence for ordinal variables",
           "cut"
          ],
          [
           3968.964599609375,
           "Partial depencence for ordinal variables",
           "cut"
          ],
          [
           4107.36376953125,
           "Partial depencence for ordinal variables",
           "cut"
          ],
          [
           4141.67236328125,
           "Partial depencence for ordinal variables",
           "cut"
          ]
         ],
         "hovertemplate": "<b>%{hovertext}</b><br><br>mean_prediction=%{base:.3f}<br>prediction=%{customdata[0]:.3f}<extra></extra>",
         "hovertext": [
          "Partial depencence for ordinal variables",
          "Partial depencence for ordinal variables",
          "Partial depencence for ordinal variables",
          "Partial depencence for ordinal variables",
          "Partial depencence for ordinal variables"
         ],
         "legendgroup": "Partial depencence for ordinal variables",
         "marker": {
          "color": "#46bac2",
          "pattern": {
           "shape": ""
          }
         },
         "name": "Partial depencence for ordinal variables",
         "offsetgroup": "Partial depencence for ordinal variables",
         "orientation": "v",
         "showlegend": true,
         "textposition": "auto",
         "type": "bar",
         "x": [
          "Fair",
          "Good",
          "Very Good",
          "Premium",
          "Ideal"
         ],
         "xaxis": "x3",
         "y": [
          -491.08349609375,
          -273.692626953125,
          -73.2080078125,
          65.191162109375,
          99.499755859375
         ],
         "yaxis": "y3"
        },
        {
         "alignmentgroup": "True",
         "base": [
          4042.172607421875,
          4042.172607421875,
          4042.172607421875,
          4042.172607421875,
          4042.172607421875,
          4042.172607421875,
          4042.172607421875
         ],
         "customdata": [
          [
           4748.24169921875,
           "Partial depencence for ordinal variables",
           "color"
          ],
          [
           4577.90185546875,
           "Partial depencence for ordinal variables",
           "color"
          ],
          [
           4320.9560546875,
           "Partial depencence for ordinal variables",
           "color"
          ],
          [
           4000.08740234375,
           "Partial depencence for ordinal variables",
           "color"
          ],
          [
           3636.732666015625,
           "Partial depencence for ordinal variables",
           "color"
          ],
          [
           3247.518310546875,
           "Partial depencence for ordinal variables",
           "color"
          ],
          [
           2846.338623046875,
           "Partial depencence for ordinal variables",
           "color"
          ]
         ],
         "hovertemplate": "<b>%{hovertext}</b><br><br>mean_prediction=%{base:.3f}<br>prediction=%{customdata[0]:.3f}<extra></extra>",
         "hovertext": [
          "Partial depencence for ordinal variables",
          "Partial depencence for ordinal variables",
          "Partial depencence for ordinal variables",
          "Partial depencence for ordinal variables",
          "Partial depencence for ordinal variables",
          "Partial depencence for ordinal variables",
          "Partial depencence for ordinal variables"
         ],
         "legendgroup": "Partial depencence for ordinal variables",
         "marker": {
          "color": "#46bac2",
          "pattern": {
           "shape": ""
          }
         },
         "name": "Partial depencence for ordinal variables",
         "offsetgroup": "Partial depencence for ordinal variables",
         "orientation": "v",
         "showlegend": false,
         "textposition": "auto",
         "type": "bar",
         "x": [
          "D",
          "E",
          "F",
          "G",
          "H",
          "I",
          "J"
         ],
         "xaxis": "x4",
         "y": [
          706.069091796875,
          535.729248046875,
          278.783447265625,
          -42.085205078125,
          -405.43994140625,
          -794.654296875,
          -1195.833984375
         ],
         "yaxis": "y4"
        },
        {
         "alignmentgroup": "True",
         "base": [
          4042.172607421875,
          4042.172607421875,
          4042.172607421875,
          4042.172607421875,
          4042.172607421875,
          4042.172607421875,
          4042.172607421875,
          4042.172607421875
         ],
         "customdata": [
          [
           2338.90478515625,
           "Partial depencence for ordinal variables",
           "clarity"
          ],
          [
           3173.25537109375,
           "Partial depencence for ordinal variables",
           "clarity"
          ],
          [
           3890.26220703125,
           "Partial depencence for ordinal variables",
           "clarity"
          ],
          [
           4463.94189453125,
           "Partial depencence for ordinal variables",
           "clarity"
          ],
          [
           4952.68017578125,
           "Partial depencence for ordinal variables",
           "clarity"
          ],
          [
           5414.65673828125,
           "Partial depencence for ordinal variables",
           "clarity"
          ],
          [
           5855.5126953125,
           "Partial depencence for ordinal variables",
           "clarity"
          ],
          [
           6239.11767578125,
           "Partial depencence for ordinal variables",
           "clarity"
          ]
         ],
         "hovertemplate": "<b>%{hovertext}</b><br><br>mean_prediction=%{base:.3f}<br>prediction=%{customdata[0]:.3f}<extra></extra>",
         "hovertext": [
          "Partial depencence for ordinal variables",
          "Partial depencence for ordinal variables",
          "Partial depencence for ordinal variables",
          "Partial depencence for ordinal variables",
          "Partial depencence for ordinal variables",
          "Partial depencence for ordinal variables",
          "Partial depencence for ordinal variables",
          "Partial depencence for ordinal variables"
         ],
         "legendgroup": "Partial depencence for ordinal variables",
         "marker": {
          "color": "#46bac2",
          "pattern": {
           "shape": ""
          }
         },
         "name": "Partial depencence for ordinal variables",
         "offsetgroup": "Partial depencence for ordinal variables",
         "orientation": "v",
         "showlegend": false,
         "textposition": "auto",
         "type": "bar",
         "x": [
          "I1",
          "SI2",
          "SI1",
          "VS2",
          "VS1",
          "VVS2",
          "VVS1",
          "IF"
         ],
         "xaxis": "x",
         "y": [
          -1703.267822265625,
          -868.917236328125,
          -151.910400390625,
          421.769287109375,
          910.507568359375,
          1372.484130859375,
          1813.340087890625,
          2196.945068359375
         ],
         "yaxis": "y"
        }
       ],
       "layout": {
        "annotations": [
         {
          "font": {
           "size": 13
          },
          "showarrow": false,
          "text": "clarity",
          "x": 0.2375,
          "xanchor": "center",
          "xref": "paper",
          "y": 0.425,
          "yanchor": "bottom",
          "yref": "paper"
         },
         {
          "font": {
           "size": 13
          },
          "showarrow": false,
          "text": "cut",
          "x": 0.2375,
          "xanchor": "center",
          "xref": "paper",
          "y": 1,
          "yanchor": "bottom",
          "yref": "paper"
         },
         {
          "font": {
           "size": 13
          },
          "showarrow": false,
          "text": "color",
          "x": 0.7625,
          "xanchor": "center",
          "xref": "paper",
          "y": 1,
          "yanchor": "bottom",
          "yref": "paper"
         },
         {
          "font": {
           "size": 13
          },
          "showarrow": false,
          "text": "prediction",
          "textangle": -90,
          "x": -0.07,
          "xref": "paper",
          "y": 0.5,
          "yref": "paper"
         }
        ],
        "barmode": "group",
        "font": {
         "color": "#371ea3"
        },
        "height": 829,
        "hovermode": "x unified",
        "legend": {
         "font": {
          "size": 11
         },
         "itemsizing": "constant",
         "orientation": "h",
         "title": {
          "font": {
           "size": 12
          },
          "text": "label"
         },
         "tracegroupgap": 0,
         "x": 1,
         "xanchor": "right",
         "y": 1.0361881785283473,
         "yanchor": "bottom"
        },
        "margin": {
         "b": 71,
         "r": 30,
         "t": 78
        },
        "shapes": [
         {
          "layer": "below",
          "line": {
           "color": "#371ea3",
           "dash": "dot",
           "width": 1.5
          },
          "type": "line",
          "x0": 0,
          "x1": 1,
          "xref": "x domain",
          "y0": 4042.172607421875,
          "y1": 4042.172607421875,
          "yref": "y"
         },
         {
          "layer": "below",
          "line": {
           "color": "#371ea3",
           "dash": "dot",
           "width": 1.5
          },
          "type": "line",
          "x0": 0,
          "x1": 1,
          "xref": "x3 domain",
          "y0": 4042.172607421875,
          "y1": 4042.172607421875,
          "yref": "y3"
         },
         {
          "layer": "below",
          "line": {
           "color": "#371ea3",
           "dash": "dot",
           "width": 1.5
          },
          "type": "line",
          "x0": 0,
          "x1": 1,
          "xref": "x4 domain",
          "y0": 4042.172607421875,
          "y1": 4042.172607421875,
          "yref": "y4"
         },
         {
          "layer": "below",
          "line": {
           "color": "#371ea3",
           "dash": "dot",
           "width": 1.5
          },
          "type": "line",
          "x0": 0,
          "x1": 1,
          "xref": "x domain",
          "y0": 4042.172607421875,
          "y1": 4042.172607421875,
          "yref": "y"
         },
         {
          "layer": "below",
          "line": {
           "color": "#371ea3",
           "dash": "dot",
           "width": 1.5
          },
          "type": "line",
          "x0": 0,
          "x1": 1,
          "xref": "x3 domain",
          "y0": 4042.172607421875,
          "y1": 4042.172607421875,
          "yref": "y3"
         },
         {
          "layer": "below",
          "line": {
           "color": "#371ea3",
           "dash": "dot",
           "width": 1.5
          },
          "type": "line",
          "x0": 0,
          "x1": 1,
          "xref": "x4 domain",
          "y0": 4042.172607421875,
          "y1": 4042.172607421875,
          "yref": "y4"
         },
         {
          "layer": "below",
          "line": {
           "color": "#371ea3",
           "dash": "dot",
           "width": 1.5
          },
          "type": "line",
          "x0": 0,
          "x1": 1,
          "xref": "x domain",
          "y0": 4042.172607421875,
          "y1": 4042.172607421875,
          "yref": "y"
         },
         {
          "layer": "below",
          "line": {
           "color": "#371ea3",
           "dash": "dot",
           "width": 1.5
          },
          "type": "line",
          "x0": 0,
          "x1": 1,
          "xref": "x3 domain",
          "y0": 4042.172607421875,
          "y1": 4042.172607421875,
          "yref": "y3"
         },
         {
          "layer": "below",
          "line": {
           "color": "#371ea3",
           "dash": "dot",
           "width": 1.5
          },
          "type": "line",
          "x0": 0,
          "x1": 1,
          "xref": "x4 domain",
          "y0": 4042.172607421875,
          "y1": 4042.172607421875,
          "yref": "y4"
         }
        ],
        "template": {
         "data": {
          "scatter": [
           {
            "type": "scatter"
           }
          ]
         }
        },
        "title": {
         "font": {
          "size": 16
         },
         "text": "Aggregated Profiles",
         "x": 0.15
        },
        "xaxis": {
         "anchor": "y",
         "automargin": true,
         "domain": [
          0,
          0.475
         ],
         "fixedrange": true,
         "gridwidth": 2,
         "showticklabels": true,
         "tickcolor": "white",
         "ticklen": 10,
         "ticks": "outside",
         "title": {
          "text": ""
         },
         "type": "category"
        },
        "xaxis2": {
         "anchor": "y2",
         "automargin": true,
         "domain": [
          0.525,
          1
         ],
         "fixedrange": true,
         "gridwidth": 2,
         "showticklabels": true,
         "tickcolor": "white",
         "ticklen": 10,
         "ticks": "outside",
         "title": {
          "text": ""
         },
         "type": "category"
        },
        "xaxis3": {
         "anchor": "y3",
         "automargin": true,
         "domain": [
          0,
          0.475
         ],
         "fixedrange": true,
         "gridwidth": 2,
         "showticklabels": true,
         "tickcolor": "white",
         "ticklen": 10,
         "ticks": "outside",
         "title": {
          "text": ""
         },
         "type": "category"
        },
        "xaxis4": {
         "anchor": "y4",
         "automargin": true,
         "domain": [
          0.525,
          1
         ],
         "fixedrange": true,
         "gridwidth": 2,
         "showticklabels": true,
         "tickcolor": "white",
         "ticklen": 10,
         "ticks": "outside",
         "title": {
          "text": ""
         },
         "type": "category"
        },
        "yaxis": {
         "anchor": "x",
         "automargin": true,
         "domain": [
          0,
          0.425
         ],
         "fixedrange": true,
         "gridwidth": 2,
         "range": [
          1948.88349609375,
          6629.13896484375
         ],
         "tickcolor": "white",
         "ticklen": 3,
         "ticks": "outside",
         "title": {
          "text": ""
         },
         "type": "linear",
         "zeroline": false
        },
        "yaxis2": {
         "anchor": "x2",
         "automargin": true,
         "domain": [
          0,
          0.425
         ],
         "fixedrange": true,
         "gridwidth": 2,
         "matches": "y",
         "range": [
          1948.88349609375,
          6629.13896484375
         ],
         "showticklabels": false,
         "tickcolor": "white",
         "ticklen": 3,
         "ticks": "outside",
         "title": {
          "text": ""
         },
         "type": "linear",
         "zeroline": false
        },
        "yaxis3": {
         "anchor": "x3",
         "automargin": true,
         "domain": [
          0.575,
          1
         ],
         "fixedrange": true,
         "gridwidth": 2,
         "matches": "y",
         "range": [
          1948.88349609375,
          6629.13896484375
         ],
         "tickcolor": "white",
         "ticklen": 3,
         "ticks": "outside",
         "title": {
          "text": ""
         },
         "type": "linear",
         "zeroline": false
        },
        "yaxis4": {
         "anchor": "x4",
         "automargin": true,
         "domain": [
          0.575,
          1
         ],
         "fixedrange": true,
         "gridwidth": 2,
         "matches": "y",
         "range": [
          1948.88349609375,
          6629.13896484375
         ],
         "showticklabels": false,
         "tickcolor": "white",
         "ticklen": 3,
         "ticks": "outside",
         "title": {
          "text": ""
         },
         "type": "linear",
         "zeroline": false
        }
       }
      }
     },
     "metadata": {},
     "output_type": "display_data"
    }
   ],
   "source": [
    "# Interpretation\n",
    "import dalex as dx\n",
    "from sklearn.metrics import mean_gamma_deviance as deviance\n",
    "from sklearn.dummy import DummyRegressor\n",
    "\n",
    "dummy = DummyRegressor().fit(X_train, y_train)\n",
    "d0, d = (deviance(y_valid, m.predict(X_valid)) for m in (dummy, model))\n",
    "print(f\"% deviance explained: {(d0 - d) / d0:.2%}\")\n",
    "\n",
    "\n",
    "def pred_fun(m, X):\n",
    "    return m.predict(preprocessor.transform(X), batch_size=1000).flatten()\n",
    "\n",
    "\n",
    "exp = dx.Explainer(\n",
    "    model,\n",
    "    data=df_valid[ord_features + [\"carat\"]],\n",
    "    y=y_valid,\n",
    "    predict_function=pred_fun,\n",
    "    verbose=False,\n",
    ")\n",
    "\n",
    "vi = exp.model_parts()\n",
    "vi.plot()\n",
    "\n",
    "pdp_num = exp.model_profile(\n",
    "    variables=[\"carat\"], label=\"Partial depencence for numeric variables\", verbose=False\n",
    ")\n",
    "pdp_num.plot()\n",
    "\n",
    "pdp_ord = exp.model_profile(\n",
    "    variable_type=\"categorical\",\n",
    "    variable_splits=dict(zip(ord_features, ord_levels)),\n",
    "    label=\"Partial depencence for ordinal variables\",\n",
    "    verbose=False,\n",
    ")\n",
    "pdp_ord.plot()"
   ]
  },
  {
   "cell_type": "markdown",
   "metadata": {},
   "source": [
    "## Exercise 2\n",
    "\n",
    "See lecture notes for a solution with embeddings"
   ]
  },
  {
   "cell_type": "markdown",
   "metadata": {},
   "source": []
  }
 ],
 "metadata": {
  "interpreter": {
   "hash": "813f6c4cc22c03b594219174db46929469d46b04ef4db7b355912617e499b8c1"
  },
  "kernelspec": {
   "display_name": "Python 3.8.11 64-bit ('ml_lecture': conda)",
   "name": "python3"
  },
  "language_info": {
   "codemirror_mode": {
    "name": "ipython",
    "version": 3
   },
   "file_extension": ".py",
   "mimetype": "text/x-python",
   "name": "python",
   "nbconvert_exporter": "python",
   "pygments_lexer": "ipython3",
   "version": "3.8.11"
  },
  "orig_nbformat": 4
 },
 "nbformat": 4,
 "nbformat_minor": 2
}
